{
 "cells": [
  {
   "cell_type": "code",
   "execution_count": 1,
   "metadata": {
    "collapsed": true
   },
   "outputs": [],
   "source": [
    "import pandas as pd\n",
    "from pandas import Series, DataFrame\n",
    "import numpy as np"
   ]
  },
  {
   "cell_type": "code",
   "execution_count": 3,
   "metadata": {
    "collapsed": false
   },
   "outputs": [
    {
     "name": "stdout",
     "output_type": "stream",
     "text": [
      "date\n",
      "x    1\n",
      "y    2\n",
      "z    3\n",
      "Name: earn, dtype: int64\n"
     ]
    }
   ],
   "source": [
    "a = Series([1,2,3],index = ['a','b','c'])\n",
    "b = Series([4,5,6],index = ['d','c','e'])\n",
    "a.index = ['x','y','z']\n",
    "a.name = 'earn'\n",
    "a.index.name = 'date'\n",
    "print a"
   ]
  },
  {
   "cell_type": "code",
   "execution_count": 68,
   "metadata": {
    "collapsed": false
   },
   "outputs": [
    {
     "name": "stdout",
     "output_type": "stream",
     "text": [
      "        a  b  c    d\n",
      "index1  1  4  7  NaN\n",
      "index2  2  5  8  NaN\n",
      "index3  3  6  9  NaN\n"
     ]
    }
   ],
   "source": [
    "s = Series([1,2,3],index = ['index1','index2','index3'])\n",
    "#print s\n",
    "data = {'a':s,\n",
    "        'b':[4,5,6],\n",
    "        'c':[7,8,9]}\n",
    "a = DataFrame(data,columns = ['a','b','c','d'])\n",
    "print a"
   ]
  },
  {
   "cell_type": "code",
   "execution_count": null,
   "metadata": {
    "collapsed": false
   },
   "outputs": [],
   "source": [
    "a = pd.Index(range(2,6))\n",
    "print a\n",
    "b = range(2,6)\n",
    "print b, type(b)"
   ]
  },
  {
   "cell_type": "code",
   "execution_count": null,
   "metadata": {
    "collapsed": false
   },
   "outputs": [],
   "source": [
    "a = 8 if 0 else 2\n",
    "print a"
   ]
  },
  {
   "cell_type": "code",
   "execution_count": 19,
   "metadata": {
    "collapsed": false
   },
   "outputs": [
    {
     "name": "stdout",
     "output_type": "stream",
     "text": [
      "name  value\n",
      "date       \n",
      "a         1\n",
      "b         2\n",
      "c         3 <class 'pandas.core.frame.DataFrame'>\n"
     ]
    }
   ],
   "source": [
    "a = Series([1,2,3], ['a','b','c'])\n",
    "a.name = 'value'\n",
    "a.index.name = 'date'\n",
    "b = DataFrame(a)\n",
    "b.columns.name = 'name'\n",
    "print b,type(b)"
   ]
  },
  {
   "cell_type": "code",
   "execution_count": 47,
   "metadata": {
    "collapsed": false
   },
   "outputs": [
    {
     "name": "stdout",
     "output_type": "stream",
     "text": [
      "a    1\n",
      "c    3\n",
      "d    0\n",
      "dtype: int64\n"
     ]
    }
   ],
   "source": [
    "a = Series([1,2,3], ['a','b','c'])\n",
    "b = a.reindex(['x','y','z'])\n",
    "c = a.reindex(['a','c','d'], fill_value = 0)\n",
    "print c"
   ]
  },
  {
   "cell_type": "code",
   "execution_count": 225,
   "metadata": {
    "collapsed": false
   },
   "outputs": [
    {
     "name": "stdout",
     "output_type": "stream",
     "text": [
      "     a    b    c   d\n",
      "1  0.0  1.0  2.0 NaN\n",
      "2  3.0  4.0  5.0 NaN\n",
      "3  6.0  7.0  8.0 NaN\n",
      "4  NaN  NaN  NaN NaN\n",
      "     c   d\n",
      "3  8.0 NaN\n",
      "4  NaN NaN\n",
      "Empty DataFrame\n",
      "Columns: [c, d]\n",
      "Index: []\n"
     ]
    }
   ],
   "source": [
    "a = DataFrame(np.arange(9).reshape(3,3), index = [1,2,3], columns = ['a','b','c'])\n",
    "b = a.reindex([1,2,3,4], columns= ['a','b','c','d'])\n",
    "print b\n",
    "c = b.drop(['a','b'], axis = 1)\n",
    "c = c.drop([1,2])\n",
    "print c\n",
    "\n",
    "d = c.dropna()\n",
    "print d"
   ]
  },
  {
   "cell_type": "code",
   "execution_count": 262,
   "metadata": {
    "collapsed": false
   },
   "outputs": [
    {
     "name": "stdout",
     "output_type": "stream",
     "text": [
      "        a  b  c  d  e  f\n",
      "index1  0  1  2  3  4  5 <class 'pandas.core.frame.DataFrame'>\n"
     ]
    }
   ],
   "source": [
    "a = DataFrame(np.arange(36).reshape(6,6),index = ['index1','index2','index3','index4','index5','index6'], columns = ['a','b','c','d','e','f'])\n",
    "b = DataFrame(np.arange(9).reshape(3,3),index = ['index1','index2','index3'], columns = ['a','b','w'])\n",
    "c = a[0:1]\n",
    "print c,type(c)"
   ]
  },
  {
   "cell_type": "code",
   "execution_count": 253,
   "metadata": {
    "collapsed": false
   },
   "outputs": [
    {
     "name": "stdout",
     "output_type": "stream",
     "text": [
      "[[ 0  1  2  3]\n",
      " [ 4  5  6  7]\n",
      " [ 8  9 10 11]\n",
      " [12 13 14 15]] \n",
      "\n",
      "[ 8  9 10]\n"
     ]
    }
   ],
   "source": [
    "a = np.arange(16).reshape(4,4)\n",
    "b = a[2,0:3]\n",
    "print a,'\\n'\n",
    "print b"
   ]
  },
  {
   "cell_type": "code",
   "execution_count": 91,
   "metadata": {
    "collapsed": false
   },
   "outputs": [
    {
     "name": "stdout",
     "output_type": "stream",
     "text": [
      "   a  b  c\n",
      "x  1  4  7\n",
      "y  2  5  8\n",
      "z  3  6  9 \n",
      "\n",
      "   a  b  c\n",
      "x  1  4  7\n",
      "a  1  4  7\n",
      "y  2  5  8\n",
      "z  3  6  9\n"
     ]
    }
   ],
   "source": [
    "a = {'a':[1,2,3],\n",
    "     'b':[4,5,6],\n",
    "     'c':[7,8,9]}\n",
    "b = DataFrame(a, columns = ['a','b','c'], index = ['x','y','z'])\n",
    "c = b.reindex(index = ['x','a', 'y', 'z'], method = 'bfill', columns = ['a','b','c'])\n",
    "print b,'\\n'\n",
    "print c"
   ]
  },
  {
   "cell_type": "code",
   "execution_count": 141,
   "metadata": {
    "collapsed": false
   },
   "outputs": [
    {
     "name": "stdout",
     "output_type": "stream",
     "text": [
      "        a  b  c\n",
      "index1  0  1  2\n",
      "index2  3  4  5 \n",
      "\n",
      "        a  b  c\n",
      "index1  0  1  2\n",
      "index2  6  7  8\n"
     ]
    }
   ],
   "source": [
    "a = DataFrame(np.arange(6).reshape(2,3),index = ['index1','index2'], columns = ['a','b','c'])\n",
    "x = a['a']\n",
    "b = a.add(x, axis = 0)\n",
    "print a, '\\n'\n",
    "print b"
   ]
  },
  {
   "cell_type": "code",
   "execution_count": 175,
   "metadata": {
    "collapsed": false
   },
   "outputs": [
    {
     "name": "stdout",
     "output_type": "stream",
     "text": [
      "   x  y  z\n",
      "a  0  1  2\n",
      "b  3  4  5\n",
      "c  6  7  8 \n",
      "\n",
      "a    2\n",
      "b    2\n",
      "c    2\n",
      "dtype: int64\n"
     ]
    }
   ],
   "source": [
    "a = DataFrame(np.arange(9).reshape(3,3), index = list('abc'), columns = list('xyz'))\n",
    "f = lambda x: x.max() - x.min()\n",
    "b = a.apply(f, axis = 1)\n",
    "print a, '\\n'\n",
    "print b"
   ]
  },
  {
   "cell_type": "code",
   "execution_count": 180,
   "metadata": {
    "collapsed": false
   },
   "outputs": [
    {
     "name": "stdout",
     "output_type": "stream",
     "text": [
      "   x  y  z\n",
      "a  0  1  2\n",
      "b  3  4  5\n",
      "c  6  7  8 \n",
      "\n",
      "   x  y  z\n",
      "a -2 -1  0\n",
      "b  1  2  3\n",
      "c  4  5  6\n"
     ]
    }
   ],
   "source": [
    "a = DataFrame(np.arange(9).reshape(3,3), index = list('abc'), columns = list('xyz'))\n",
    "def f(x):\n",
    "    #return Series([x.max(), x.min()], index = ['max','min'])\n",
    "    return x-2\n",
    "b = a.applymap(f)\n",
    "print a, '\\n'\n",
    "print b"
   ]
  },
  {
   "cell_type": "code",
   "execution_count": 185,
   "metadata": {
    "collapsed": false
   },
   "outputs": [
    {
     "name": "stdout",
     "output_type": "stream",
     "text": [
      "   x  y  z\n",
      "a  0  1  2\n",
      "b  3  4  5\n",
      "c  6  7  8 \n",
      "\n",
      "     x    y    z\n",
      "a  0.0  1.0  2.0\n",
      "b  3.0  4.0  5.0\n",
      "c  6.0  7.0  8.0\n"
     ]
    }
   ],
   "source": [
    "a = DataFrame(np.arange(9).reshape(3,3), index = list('abc'), columns = list('xyz'))\n",
    "b = np.floor(a)\n",
    "print a, '\\n'\n",
    "print b"
   ]
  },
  {
   "cell_type": "code",
   "execution_count": 6,
   "metadata": {
    "collapsed": false
   },
   "outputs": [
    {
     "name": "stdout",
     "output_type": "stream",
     "text": [
      "   x  z  y\n",
      "c  0  1  2\n",
      "a  3  4  5\n",
      "b  6  7  8 \n",
      "\n",
      "   x  z  y\n",
      "b  6  7  8\n",
      "a  3  4  5\n",
      "c  0  1  2\n"
     ]
    }
   ],
   "source": [
    "a = DataFrame(np.arange(9).reshape(3,3), index = list('cab'), columns = list('xzy'))\n",
    "print a, '\\n'\n",
    "b = a.sort_values(by = 'x', ascending = False)\n",
    "print b"
   ]
  },
  {
   "cell_type": "code",
   "execution_count": 29,
   "metadata": {
    "collapsed": false
   },
   "outputs": [
    {
     "name": "stdout",
     "output_type": "stream",
     "text": [
      "   a  b  c\n",
      "0  1  9  2\n",
      "1  2  2  3\n",
      "2  2  6  0\n",
      "3  6  7  4\n",
      "4  9  3  1\n",
      "5  5  6  1\n",
      "     a    b    c\n",
      "0  1.0  6.0  4.0\n",
      "1  3.0  1.0  5.0\n",
      "2  3.0  4.0  1.0\n",
      "3  5.0  5.0  6.0\n",
      "4  6.0  2.0  3.0\n",
      "5  4.0  4.0  3.0\n"
     ]
    }
   ],
   "source": [
    "a = DataFrame({'a':[1,2,2,6,9,5],\n",
    "               'b':[9,2,6,7,3,6],\n",
    "               'c':[2,3,0,4,1,1]})\n",
    "b = a.rank(axis = 0, method = 'max')\n",
    "print a\n",
    "print b"
   ]
  },
  {
   "cell_type": "code",
   "execution_count": 39,
   "metadata": {
    "collapsed": false
   },
   "outputs": [
    {
     "name": "stdout",
     "output_type": "stream",
     "text": [
      "a    0\n",
      "a    1\n",
      "b    2\n",
      "b    3\n",
      "c    4\n",
      "c    5\n",
      "dtype: int32 \n",
      "\n",
      "['a' 'b' 'c'] <type 'numpy.ndarray'>\n",
      "False\n"
     ]
    }
   ],
   "source": [
    "a = Series(np.arange(6), index = list('aabbcc'))\n",
    "b = a.index.unique()\n",
    "print a, '\\n'\n",
    "print b,type(b)\n",
    "print a.index.is_unique"
   ]
  },
  {
   "cell_type": "code",
   "execution_count": 105,
   "metadata": {
    "collapsed": false
   },
   "outputs": [
    {
     "name": "stdout",
     "output_type": "stream",
     "text": [
      "   x    y    z\n",
      "a  1  NaN  2.0\n",
      "b  6  9.0  NaN\n",
      "c  1  NaN  2.0\n",
      "d  6  9.0  NaN \n",
      "\n",
      "    x    y    z\n",
      "a NaN  NaN  1.0\n",
      "b NaN  0.5  NaN\n",
      "c NaN  NaN  1.0\n",
      "d NaN  0.5  NaN\n"
     ]
    }
   ],
   "source": [
    "a = DataFrame([[1, np.nan, 2],\n",
    "               [6, 9, np.nan],\n",
    "               [1, np.nan, 2],\n",
    "               [6, 9, np.nan]],\n",
    "               index = list('abcd'),\n",
    "               columns = list('xyz'))\n",
    "b = a.sum()\n",
    "c = a.cumsum()\n",
    "d = a.idxmax()\n",
    "e = a.count()\n",
    "f = a.min()\n",
    "g = a.describe()\n",
    "h = a.cumprod()\n",
    "i = a.pct_change(axis = 1)\n",
    "print a, '\\n'\n",
    "print i"
   ]
  },
  {
   "cell_type": "code",
   "execution_count": 93,
   "metadata": {
    "collapsed": false
   },
   "outputs": [
    {
     "name": "stdout",
     "output_type": "stream",
     "text": [
      "0     a\n",
      "1     a\n",
      "2     b\n",
      "3     c\n",
      "4     a\n",
      "5     a\n",
      "6     b\n",
      "7     c\n",
      "8     a\n",
      "9     a\n",
      "10    b\n",
      "11    c\n",
      "12    a\n",
      "13    a\n",
      "14    b\n",
      "15    c\n",
      "dtype: object\n"
     ]
    }
   ],
   "source": [
    "a = Series(list('aabc')*4)\n",
    "print a"
   ]
  },
  {
   "cell_type": "code",
   "execution_count": 147,
   "metadata": {
    "collapsed": false
   },
   "outputs": [
    {
     "name": "stdout",
     "output_type": "stream",
     "text": [
      "{1: 'a', 2: 'b'}\n"
     ]
    }
   ],
   "source": [
    "a = {'a':1,'b':2}\n",
    "b = {y:x for x,y in a.items()}\n",
    "c = [y+1 for x,y in a.iteritems()]\n",
    "print b"
   ]
  },
  {
   "cell_type": "code",
   "execution_count": 342,
   "metadata": {
    "collapsed": false
   },
   "outputs": [
    {
     "name": "stdout",
     "output_type": "stream",
     "text": [
      "000962    2015-06-05\n",
      "600380    2015-05-22\n",
      "601678    2015-04-08\n",
      "dtype: object \n",
      "\n",
      "30.02\n"
     ]
    }
   ],
   "source": [
    "import tushare as ts\n",
    "all_data = {}\n",
    "for ticker in ['600380','601678','000962']:\n",
    "    all_data[ticker] = ts.get_hist_data(ticker, '2015-01-01')\n",
    "price = DataFrame({ticker:data['high'] for ticker, data in all_data.items()})\n",
    "volume = DataFrame({ticker:data['volume'] for ticker, data in all_data.items()})\n",
    "pct_change = price.pct_change()\n",
    "pct_change = pct_change*100\n",
    "idxmax = price.idxmax()\n",
    "pricemax = price.ix[idxmax['600380']]['600380']\n",
    "print idxmax, '\\n'\n",
    "print pricemax"
   ]
  },
  {
   "cell_type": "code",
   "execution_count": 347,
   "metadata": {
    "collapsed": false
   },
   "outputs": [
    {
     "name": "stdout",
     "output_type": "stream",
     "text": [
      "[[0 1 2]\n",
      " [3 4 5]\n",
      " [6 7 8]] \n",
      "\n",
      "[[3 4 5]\n",
      " [6 7 8]]\n"
     ]
    }
   ],
   "source": [
    "a = np.arange(9).reshape(3,3)\n",
    "b = np.array([False,True,True])\n",
    "c = a[b]\n",
    "print a, '\\n'\n",
    "print c"
   ]
  },
  {
   "cell_type": "code",
   "execution_count": 379,
   "metadata": {
    "collapsed": false
   },
   "outputs": [
    {
     "name": "stdout",
     "output_type": "stream",
     "text": [
      "[1 6 8 2] \n",
      "\n",
      "[1 2 6 8]\n"
     ]
    }
   ],
   "source": [
    "a = Series([1,6,8,2,6,1], index = [1,6,9,2,5,6])\n",
    "b = a.value_counts()\n",
    "c = a.unique()\n",
    "d = np.sort(c)\n",
    "print c, '\\n'\n",
    "print d"
   ]
  },
  {
   "cell_type": "code",
   "execution_count": 375,
   "metadata": {
    "collapsed": false
   },
   "outputs": [
    {
     "name": "stdout",
     "output_type": "stream",
     "text": [
      "[1 6 8 2 6 0] \n",
      "\n",
      "[0 1 2 6 6 8]\n"
     ]
    }
   ],
   "source": [
    "a = np.array([1,6,8,2,6,0])\n",
    "b = np.sort(a)\n",
    "print a, '\\n'\n",
    "print b"
   ]
  },
  {
   "cell_type": "code",
   "execution_count": 386,
   "metadata": {
    "collapsed": false
   },
   "outputs": [
    {
     "name": "stdout",
     "output_type": "stream",
     "text": [
      "[[0 1 2]\n",
      " [3 4 5]\n",
      " [6 7 8]] \n",
      "\n",
      "[[1 2]\n",
      " [4 5]]\n"
     ]
    }
   ],
   "source": [
    "a = np.arange(9).reshape(3,3)\n",
    "b = a[np.ix_([0,1],[1,2])]\n",
    "print a, '\\n'\n",
    "print b"
   ]
  },
  {
   "cell_type": "code",
   "execution_count": 44,
   "metadata": {
    "collapsed": false
   },
   "outputs": [
    {
     "name": "stdout",
     "output_type": "stream",
     "text": [
      "   a  b  c\n",
      "0  0  7  1\n",
      "1  1  8  0\n",
      "2  6  2  6 \n",
      "\n",
      "     a    b    c  sum\n",
      "0  1.0  0.0  1.0  2.0\n",
      "1  1.0  0.0  1.0  2.0\n",
      "2  0.0  1.0  0.0  1.0\n",
      "6  1.0  0.0  1.0  2.0\n",
      "7  0.0  1.0  0.0  1.0\n",
      "8  0.0  1.0  0.0  1.0\n"
     ]
    }
   ],
   "source": [
    "a = DataFrame(np.random.randint(9,size = 9).reshape(3,3), columns = ['a','b','c'])\n",
    "b = [a[column].value_counts() for column in a.columns]\n",
    "c = Series()\n",
    "for s in b:\n",
    "    #print s, '\\n'\n",
    "    if c.any():\n",
    "        c = c.add(s, fill_value = 0)\n",
    "    else:\n",
    "        c = s\n",
    "print a, '\\n'\n",
    "d = a.apply(pd.value_counts).fillna(0)\n",
    "d['sum'] = d.sum(axis = 1)\n",
    "print d"
   ]
  },
  {
   "cell_type": "code",
   "execution_count": 69,
   "metadata": {
    "collapsed": false
   },
   "outputs": [
    {
     "name": "stdout",
     "output_type": "stream",
     "text": [
      "a    NaN\n",
      "b    4.0\n",
      "c    NaN\n",
      "d    NaN\n",
      "e    NaN\n",
      "dtype: float64 \n",
      "\n",
      "b    4.0\n",
      "dtype: float64\n"
     ]
    }
   ],
   "source": [
    "a = Series([1,2,3], index = ['a','b','c'])\n",
    "b = Series([1,2,3], index = ['d','b','e'])\n",
    "c = a + b\n",
    "d = c.dropna()\n",
    "print c, '\\n'\n",
    "print d"
   ]
  },
  {
   "cell_type": "code",
   "execution_count": 10,
   "metadata": {
    "collapsed": false
   },
   "outputs": [
    {
     "name": "stdout",
     "output_type": "stream",
     "text": [
      "[0 0 0 0 0 1 1 0 1]\n"
     ]
    }
   ],
   "source": [
    "a = np.random.randint(2,size = 9)\n",
    "print a"
   ]
  },
  {
   "cell_type": "code",
   "execution_count": 62,
   "metadata": {
    "collapsed": false
   },
   "outputs": [
    {
     "name": "stdout",
     "output_type": "stream",
     "text": [
      "0    1.0\n",
      "1    NaN\n",
      "dtype: float64\n",
      "0    1.0\n",
      "dtype: float64\n"
     ]
    }
   ],
   "source": [
    "from numpy import nan as NA\n",
    "a = Series([1,NA])\n",
    "b = a.dropna(axis = 0)\n",
    "print a\n",
    "print b"
   ]
  },
  {
   "cell_type": "code",
   "execution_count": 77,
   "metadata": {
    "collapsed": false
   },
   "outputs": [
    {
     "name": "stdout",
     "output_type": "stream",
     "text": [
      "   0  1  2   3\n",
      "0  0  1  2 NaN\n",
      "1  3  4  5 NaN\n",
      "2  6  7  8 NaN \n",
      "\n",
      "   0  1  2\n",
      "0  0  1  2\n",
      "1  3  4  5\n",
      "2  6  7  8\n"
     ]
    }
   ],
   "source": [
    "a = DataFrame(np.arange(9).reshape(3,3))\n",
    "b = a.reindex(columns = [0,1,2,3])\n",
    "c = b.dropna(axis = 1)\n",
    "print b, '\\n'\n",
    "print c"
   ]
  },
  {
   "cell_type": "code",
   "execution_count": 7,
   "metadata": {
    "collapsed": false
   },
   "outputs": [
    {
     "name": "stdout",
     "output_type": "stream",
     "text": [
      "   0  1  2\n",
      "0  0  1  2\n",
      "1  3  4  5\n",
      "2  6  7  8 \n",
      "\n",
      "   0  1  2\n",
      "0  0  1  2\n",
      "1  3  4  5\n",
      "2  6  7  8\n"
     ]
    }
   ],
   "source": [
    "a = DataFrame(np.arange(9).reshape(3,3))\n",
    "b = a[a.is()]\n",
    "print a, '\\n'\n",
    "print b"
   ]
  },
  {
   "cell_type": "code",
   "execution_count": null,
   "metadata": {
    "collapsed": true
   },
   "outputs": [],
   "source": []
  }
 ],
 "metadata": {
  "kernelspec": {
   "display_name": "Python 2",
   "language": "python",
   "name": "python2"
  },
  "language_info": {
   "codemirror_mode": {
    "name": "ipython",
    "version": 2
   },
   "file_extension": ".py",
   "mimetype": "text/x-python",
   "name": "python",
   "nbconvert_exporter": "python",
   "pygments_lexer": "ipython2",
   "version": "2.7.13"
  }
 },
 "nbformat": 4,
 "nbformat_minor": 0
}
