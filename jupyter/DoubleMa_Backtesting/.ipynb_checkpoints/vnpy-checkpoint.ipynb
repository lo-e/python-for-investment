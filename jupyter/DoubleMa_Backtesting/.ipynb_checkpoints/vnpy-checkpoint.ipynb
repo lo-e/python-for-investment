{
 "cells": [
  {
   "cell_type": "code",
   "execution_count": 1,
   "metadata": {
    "collapsed": false
   },
   "outputs": [],
   "source": [
    "%matplotlib inline\n",
    "import tushare as ts\n",
    "import pymongo\n",
    "import numpy as np\n",
    "from datetime import datetime\n",
    "\n",
    "from vnpy.trader.vtObject import VtBarData\n",
    "from vnpy.trader.app.ctaStrategy.ctaBase import DAILY_DB_NAME\n",
    "from vnpy.trader.app.ctaStrategy.ctaTemplate import CtaTemplate"
   ]
  },
  {
   "cell_type": "code",
   "execution_count": null,
   "metadata": {
    "collapsed": false
   },
   "outputs": [],
   "source": [
    "'''\n",
    "获取数据\n",
    "'''\n",
    "#合约代码\n",
    "code = '600036'\n",
    "exchange = 'SSE'\n",
    "\n",
    "#code = raw_input(code:)\n",
    "#exchange = raw_input(exchange:)\n",
    "vtCode = '.'.join([code, exchange])\n",
    "\n",
    "#下载数据\n",
    "data = ts.get_hist_data(code, '2017-01-01')\n",
    "data.sort_index(inplace = True)\n",
    "print '数据下载完成'\n",
    "\n",
    "#获取数据库\n",
    "client = pymongo.MongoClient('localhost', 27017)\n",
    "collection = client[DAILY_DB_NAME][vtCode]\n",
    "collection.create_index('datetime')\n",
    "print 'MongoDB连接成功'\n",
    "\n",
    "for date, row in data.iterrows():\n",
    "    bar = VtBarData()\n",
    "    bar.open = row['open']\n",
    "    bar.close = row['close']\n",
    "    bar.high = row['high']\n",
    "    bar.low = row['low']\n",
    "    bar.volume = row['volume']\n",
    "    \n",
    "    bar.date = 'the_%s' % date\n",
    "    bar.datetime = datetime.strptime(date, '%Y-%m-%d')\n",
    "    bar.exchange = exchange\n",
    "    bar.vtSymbol = vtCode\n",
    "    bar.symbol = code\n",
    "    \n",
    "    collection.update_many({'datetime':bar.datetime}, {'$set':bar.__dict__}, upsert = True)\n",
    "print '数据更新完成'"
   ]
  },
  {
   "cell_type": "code",
   "execution_count": 39,
   "metadata": {
    "collapsed": true
   },
   "outputs": [],
   "source": [
    "'''\n",
    "设计策略\n",
    "'''\n",
    "class DoubleMaStrategy(CtaTemplate):\n",
    "    \"\"\"双均线策略\"\"\"\n",
    "    initDays = 20 #初始化需要的20天的数据\n",
    "    \n",
    "    def __init__(self, ctaEngine, setting):\n",
    "        super(DoubleMaStrategy, self).__init__(ctaEngine, setting)\n",
    "        \n",
    "        #可变的类属性要在这里重新赋值初始化\n",
    "        self.closeArray = np.zeros(20)\n",
    "    \n",
    "    def onInit(self):\n",
    "        self.writeCtaLog(u'双均线策略初始化')\n",
    "        initData = self.loadBar(self.initDays)\n",
    "    "
   ]
  },
  {
   "cell_type": "code",
   "execution_count": 36,
   "metadata": {
    "collapsed": false
   },
   "outputs": [
    {
     "ename": "AttributeError",
     "evalue": "'str' object has no attribute 'writeCtaLog'",
     "output_type": "error",
     "traceback": [
      "\u001b[1;31m---------------------------------------------------------------------------\u001b[0m",
      "\u001b[1;31mAttributeError\u001b[0m                            Traceback (most recent call last)",
      "\u001b[1;32m<ipython-input-36-802e1b2b4380>\u001b[0m in \u001b[0;36m<module>\u001b[1;34m()\u001b[0m\n\u001b[0;32m      1\u001b[0m \u001b[0ma\u001b[0m \u001b[1;33m=\u001b[0m \u001b[0mDoubleMaStrategy\u001b[0m\u001b[1;33m(\u001b[0m\u001b[1;34m'pika'\u001b[0m\u001b[1;33m,\u001b[0m \u001b[1;34m'yes'\u001b[0m\u001b[1;33m)\u001b[0m\u001b[1;33m\u001b[0m\u001b[0m\n\u001b[1;32m----> 2\u001b[1;33m \u001b[0ma\u001b[0m\u001b[1;33m.\u001b[0m\u001b[0monInit\u001b[0m\u001b[1;33m(\u001b[0m\u001b[1;33m)\u001b[0m\u001b[1;33m\u001b[0m\u001b[0m\n\u001b[0m",
      "\u001b[1;32m<ipython-input-34-a070f407d8ba>\u001b[0m in \u001b[0;36monInit\u001b[1;34m(self)\u001b[0m\n\u001b[0;32m     13\u001b[0m \u001b[1;33m\u001b[0m\u001b[0m\n\u001b[0;32m     14\u001b[0m     \u001b[1;32mdef\u001b[0m \u001b[0monInit\u001b[0m\u001b[1;33m(\u001b[0m\u001b[0mself\u001b[0m\u001b[1;33m)\u001b[0m\u001b[1;33m:\u001b[0m\u001b[1;33m\u001b[0m\u001b[0m\n\u001b[1;32m---> 15\u001b[1;33m         \u001b[0mself\u001b[0m\u001b[1;33m.\u001b[0m\u001b[0mwriteCtaLog\u001b[0m\u001b[1;33m(\u001b[0m\u001b[1;34mu'双均线策略初始化'\u001b[0m\u001b[1;33m)\u001b[0m\u001b[1;33m\u001b[0m\u001b[0m\n\u001b[0m\u001b[0;32m     16\u001b[0m         \u001b[0minitData\u001b[0m \u001b[1;33m=\u001b[0m \u001b[0mself\u001b[0m\u001b[1;33m.\u001b[0m\u001b[0mloadBar\u001b[0m\u001b[1;33m(\u001b[0m\u001b[0mself\u001b[0m\u001b[1;33m.\u001b[0m\u001b[0minitDays\u001b[0m\u001b[1;33m)\u001b[0m\u001b[1;33m\u001b[0m\u001b[0m\n\u001b[0;32m     17\u001b[0m \u001b[1;33m\u001b[0m\u001b[0m\n",
      "\u001b[1;32mC:\\Users\\Rachel\\Anaconda2\\lib\\site-packages\\vnpy-1.7.0-py2.7.egg\\vnpy\\trader\\app\\ctaStrategy\\ctaTemplate.pyc\u001b[0m in \u001b[0;36mwriteCtaLog\u001b[1;34m(self, content)\u001b[0m\n\u001b[0;32m    166\u001b[0m         \u001b[1;34m\"\"\"记录CTA日志\"\"\"\u001b[0m\u001b[1;33m\u001b[0m\u001b[0m\n\u001b[0;32m    167\u001b[0m         \u001b[0mcontent\u001b[0m \u001b[1;33m=\u001b[0m \u001b[0mself\u001b[0m\u001b[1;33m.\u001b[0m\u001b[0mname\u001b[0m \u001b[1;33m+\u001b[0m \u001b[1;34m':'\u001b[0m \u001b[1;33m+\u001b[0m \u001b[0mcontent\u001b[0m\u001b[1;33m\u001b[0m\u001b[0m\n\u001b[1;32m--> 168\u001b[1;33m         \u001b[0mself\u001b[0m\u001b[1;33m.\u001b[0m\u001b[0mctaEngine\u001b[0m\u001b[1;33m.\u001b[0m\u001b[0mwriteCtaLog\u001b[0m\u001b[1;33m(\u001b[0m\u001b[0mcontent\u001b[0m\u001b[1;33m)\u001b[0m\u001b[1;33m\u001b[0m\u001b[0m\n\u001b[0m\u001b[0;32m    169\u001b[0m \u001b[1;33m\u001b[0m\u001b[0m\n\u001b[0;32m    170\u001b[0m     \u001b[1;31m#----------------------------------------------------------------------\u001b[0m\u001b[1;33m\u001b[0m\u001b[1;33m\u001b[0m\u001b[0m\n",
      "\u001b[1;31mAttributeError\u001b[0m: 'str' object has no attribute 'writeCtaLog'"
     ]
    }
   ],
   "source": [
    "a = DoubleMaStrategy('pika', 'yes')\n",
    "a.onInit()"
   ]
  },
  {
   "cell_type": "code",
   "execution_count": null,
   "metadata": {
    "collapsed": true
   },
   "outputs": [],
   "source": []
  }
 ],
 "metadata": {
  "kernelspec": {
   "display_name": "Python 2",
   "language": "python",
   "name": "python2"
  },
  "language_info": {
   "codemirror_mode": {
    "name": "ipython",
    "version": 2
   },
   "file_extension": ".py",
   "mimetype": "text/x-python",
   "name": "python",
   "nbconvert_exporter": "python",
   "pygments_lexer": "ipython2",
   "version": "2.7.13"
  }
 },
 "nbformat": 4,
 "nbformat_minor": 0
}
