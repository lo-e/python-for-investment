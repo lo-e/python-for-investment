{
 "cells": [
  {
   "cell_type": "code",
   "execution_count": 6,
   "metadata": {
    "collapsed": false
   },
   "outputs": [],
   "source": [
    "'''\n",
    "超短线套利策略\n",
    "每天收盘价委托买入，第二天成交后按盈利1%价委托卖出\n",
    "重复以上\n",
    "'''"
   ]
  },
  {
   "cell_type": "code",
   "execution_count": null,
   "metadata": {
    "collapsed": false
   },
   "outputs": [],
   "source": [
    "%matplotlib inline\n",
    "import tushare as ts\n",
    "import pymongo\n",
    "import numpy as np\n",
    "from datetime import datetime\n",
    "\n",
    "from vnpy.trader.vtObject import VtBarData\n",
    "from vnpy.trader.app.ctaStrategy.ctaBase import DAILY_DB_NAME\n",
    "from vnpy.trader.app.ctaStrategy.ctaTemplate import CtaTemplate\n",
    "from vnpy.trader.app.ctaStrategy.ctaBacktesting import BacktestingEngine"
   ]
  },
  {
   "cell_type": "code",
   "execution_count": 20,
   "metadata": {
    "collapsed": false
   },
   "outputs": [
    {
     "name": "stdout",
     "output_type": "stream",
     "text": [
      "code:600380\n",
      "date:20170101\n",
      "capital:1000000\n"
     ]
    }
   ],
   "source": [
    "#合约代码\n",
    "#code = '600036'\n",
    "#capital = 1000000\n",
    "exchange = 'SSE'\n",
    "#fromDate = '20170101'\n",
    "\n",
    "code = raw_input('code:')\n",
    "fromDate = raw_input('date:')\n",
    "capital = int(raw_input('capital:'))\n",
    "#exchange = raw_input('exchange:')\n",
    "\n",
    "vtCode = '.'.join([code, exchange])"
   ]
  },
  {
   "cell_type": "code",
   "execution_count": 146,
   "metadata": {
    "collapsed": false
   },
   "outputs": [
    {
     "name": "stdout",
     "output_type": "stream",
     "text": [
      "数据下载完成\n",
      "MongoDB连接成功\n",
      "数据更新完成\n"
     ]
    }
   ],
   "source": [
    "'''\n",
    "获取数据\n",
    "'''\n",
    "#下载数据\n",
    "theDate = datetime.strptime(fromDate, '%Y%m%d')\n",
    "data = ts.get_hist_data(code, theDate.strftime('%Y-%m-%d'))\n",
    "data.sort_index(inplace = True)\n",
    "print '数据下载完成'\n",
    "\n",
    "#获取数据库\n",
    "client = pymongo.MongoClient('localhost', 27017)\n",
    "collection = client[DAILY_DB_NAME][vtCode]\n",
    "collection.create_index('datetime')\n",
    "print 'MongoDB连接成功'\n",
    "\n",
    "for date, row in data.iterrows():\n",
    "    bar = VtBarData()\n",
    "    bar.open = row['open']\n",
    "    bar.close = row['close']\n",
    "    bar.high = row['high']\n",
    "    bar.low = row['low']\n",
    "    bar.volume = row['volume']\n",
    "    \n",
    "    bar.date = '%s' % date\n",
    "    bar.datetime = datetime.strptime(date, '%Y-%m-%d')\n",
    "    bar.exchange = exchange\n",
    "    bar.vtSymbol = vtCode\n",
    "    bar.symbol = code\n",
    "    \n",
    "    collection.update_many({'datetime':bar.datetime}, {'$set':bar.__dict__}, upsert = True)\n",
    "print '数据更新完成'"
   ]
  },
  {
   "cell_type": "code",
   "execution_count": 42,
   "metadata": {
    "collapsed": false
   },
   "outputs": [],
   "source": [
    "'''\n",
    "策略\n",
    "'''\n",
    "class ShortTermStratege(CtaTemplate):\n",
    "    \"\"\"双均线策略\"\"\"\n",
    "    className = 'DoubleMaStrategy'\n",
    "    author = 'loe'\n",
    "    \n",
    "    #策略变量\n",
    "    capital = 0\n",
    "    buyOrderId = ''\n",
    "    sellOrderId = ''\n",
    "    cost = 0\n",
    "    startClose = 0\n",
    "    endClose = 0\n",
    "    \n",
    "    #参数列表，保存了参数的名称\n",
    "    paramList = ['name', 'className', 'author', 'vtSymbol']\n",
    "    #变量列表，保存了变量的名称\n",
    "    varList = ['inited', 'trading', 'pos']\n",
    "    \n",
    "    def __init__(self, ctaEngine, setting):\n",
    "        super(ShortTermStratege, self).__init__(ctaEngine, setting)\n",
    "    \n",
    "    def onInit(self):\n",
    "        '''启动策略（必须由用户继承实现）'''\n",
    "        self.writeCtaLog(u'双均线策略初始化')\n",
    "        self.putEvent()\n",
    "    \n",
    "    def onStart(self):\n",
    "        '''初始化策略（必须由用户继承实现）'''\n",
    "        self.writeCtaLog(u'双均线策略启动')\n",
    "        self.putEvent()\n",
    "    \n",
    "    def onStop(self):\n",
    "        '''停止策略（必须由用户继承实现）'''\n",
    "        self.writeCtaLog(u'双均线策略停止')\n",
    "        self.putEvent()\n",
    "        \n",
    "    def onTick(self, tike):\n",
    "        '''收到行情Tick推送（必须由用户继承实现'''\n",
    "        '''实盘时需要使用Tike数据在这里自行合成K线'''\n",
    "        pass\n",
    "    \n",
    "    def onBar(self, bar):\n",
    "        '''收到bar数据推送（必须由用户继承实现）'''\n",
    "        if not self.startClose:\n",
    "            self.startClose = bar.close\n",
    "        self.endClose = bar.close\n",
    "        \n",
    "        if self.pos:\n",
    "            #有持仓\n",
    "            if not len(self.sellOrderId):\n",
    "                #没有卖单委托，开卖单\n",
    "                self.sellOrderId = self.sell(self.cost * 1.01, self.pos)\n",
    "                \n",
    "                #print bar.datetime, '卖出委托:%r' % (self.cost * 1.01)\n",
    "        else:\n",
    "            #有买单没有成交，取消买单委托\n",
    "            if len(self.buyOrderId):\n",
    "                self.cancelOrder(self.buyOrderId)\n",
    "            #开新的买单\n",
    "            #根据现有现金计算可买数量\n",
    "            orderPrice = bar.close*1.05\n",
    "            volume = int(self.capital / orderPrice)\n",
    "            volume = volume - volume % 100\n",
    "            self.buyOrderId = self.buy(orderPrice, volume)\n",
    "            \n",
    "            #print bar.datetime, '买入委托：%r' % orderPrice, '买入量：%r' % volume, '收盘价：%r' % bar.close\n",
    "            \n",
    "        \n",
    "        self.putEvent()\n",
    "\n",
    "    def onOrder(self, order):\n",
    "        '''收到委托变化推送（必须由用户继承实现）'''\n",
    "        '''对于无需做细粒度委托控制的策略，可以忽略onOrder'''\n",
    "        pass\n",
    "    \n",
    "    def onTrade(self, trade):\n",
    "        '''收到成交推送（必须由用户继承实现）'''\n",
    "        if trade.direction == u'多':\n",
    "            print 'symbol:%r' % trade.vtSymbol + 'direction:%s' % trade.direction\n",
    "            #改变持有的现金\n",
    "            self.capital -= trade.price * trade.volume\n",
    "            #买单成交\n",
    "            self.buyOrderId = ''\n",
    "            #买入成交成本，用于计算下一次卖出的委托价格\n",
    "            self.cost = trade.price\n",
    "            \n",
    "            #print trade.dt, '做多价格：%r' % trade.price, '成交量：%r' % trade.volume, '现金：%r' % self.capital, '\\n'\n",
    "        elif trade.direction == u'空':\n",
    "            #改变持有的现金\n",
    "            self.capital += trade.price * trade.volume\n",
    "            #卖单成交\n",
    "            self.sellOrderId = ''\n",
    "            #买入成本清零\n",
    "            self.cost = 0\n",
    "            \n",
    "            #print trade.dt, '做空价格：%r' % trade.price, '现金：%r' % self.capital, '\\n'\n",
    "    \n",
    "    def onStopOrder(self, so):\n",
    "        '''收到停止单推送（必须由用户继承实现）'''\n",
    "        raise 'onStopOrder'\n",
    "        pass"
   ]
  },
  {
   "cell_type": "code",
   "execution_count": 43,
   "metadata": {
    "collapsed": false,
    "scrolled": true
   },
   "outputs": [
    {
     "name": "stdout",
     "output_type": "stream",
     "text": [
      "2017-10-19 10:25:11.274000\t开始载入数据\n",
      "2017-10-19 10:25:11.293000\t载入完成，数据量：183\n",
      "2017-10-19 10:25:11.293000\t开始回测\n",
      "2017-10-19 10:25:11.293000\t策略初始化完成\n",
      "2017-10-19 10:25:11.293000\t策略启动完成\n",
      "2017-10-19 10:25:11.293000\t开始回放数据\n",
      "symbol:''direction:多\n",
      "symbol:''direction:多\n",
      "symbol:''direction:多\n",
      "symbol:''direction:多\n",
      "symbol:''direction:多\n",
      "symbol:''direction:多\n",
      "symbol:''direction:多\n",
      "2017-10-19 10:25:11.302000\t数据回放结束\n"
     ]
    }
   ],
   "source": [
    "'''\n",
    "回测\n",
    "'''\n",
    "#初始资金\n",
    "ShortTermStratege.capital = capital\n",
    "\n",
    "#创建回测引擎实例\n",
    "engine = BacktestingEngine()\n",
    "\n",
    "#设置引擎的回测模式为K线\n",
    "engine.setBacktestingMode(engine.BAR_MODE)\n",
    "\n",
    "#设置回测的起始日期\n",
    "engine.setStartDate(fromDate, initDays = 0) #这里的initDays是真正起作用的，20天是指自然日肯定不够的\n",
    "\n",
    "#设置产品相关参数\n",
    "engine.setSlippage(0)           #滑点设置为0\n",
    "engine.setRate(1.5/10000)       #股票交易手续费万1.5\n",
    "engine.setSize(1)               #股票每股为1\n",
    "engine.setPriceTick(0.01)      #股票最小价格变动\n",
    "engine.setCapital(ShortTermStratege.capital) #初始资金为1\n",
    "\n",
    "#设置使用的数据库\n",
    "engine.setDatabase(DAILY_DB_NAME, vtCode)\n",
    "\n",
    "#引擎中创建策略对象\n",
    "engine.initStrategy(ShortTermStratege, {})\n",
    "\n",
    "engine.strategy.vtSymbol = '健康元'\n",
    "\n",
    "#开始跑回测\n",
    "engine.runBacktesting()\n",
    "\n",
    "#print '初始收盘价：%r' % engine.strategy.startClose, '结束收盘价：%r' % engine.strategy.endClose, '涨跌：%r' % (((engine.strategy.endClose / engine.strategy.startClose)-1) * 100), '\\n' \n",
    "\n",
    "#显示回测结果\n",
    "#engine.showDailyResult()"
   ]
  },
  {
   "cell_type": "code",
   "execution_count": 11,
   "metadata": {
    "collapsed": false
   },
   "outputs": [
    {
     "name": "stdout",
     "output_type": "stream",
     "text": [
      "yes\n"
     ]
    }
   ],
   "source": [
    "a = 'abc'\n",
    "if a:\n",
    "    print 'yes'\n",
    "else:\n",
    "    print 'no'"
   ]
  },
  {
   "cell_type": "code",
   "execution_count": null,
   "metadata": {
    "collapsed": true
   },
   "outputs": [],
   "source": []
  }
 ],
 "metadata": {
  "kernelspec": {
   "display_name": "Python 2",
   "language": "python",
   "name": "python2"
  },
  "language_info": {
   "codemirror_mode": {
    "name": "ipython",
    "version": 2
   },
   "file_extension": ".py",
   "mimetype": "text/x-python",
   "name": "python",
   "nbconvert_exporter": "python",
   "pygments_lexer": "ipython2",
   "version": "2.7.13"
  }
 },
 "nbformat": 4,
 "nbformat_minor": 0
}
