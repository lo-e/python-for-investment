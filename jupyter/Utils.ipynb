{
 "cells": [
  {
   "cell_type": "code",
   "execution_count": null,
   "metadata": {
    "collapsed": true
   },
   "outputs": [],
   "source": [
    "# 随机组合，l是数组，n是组合的元素数量\n",
    "def combine(l, n):\n",
    "    answers = []\n",
    "    one = [0] * n\n",
    "    def next_c(li = 0, ni = 0):\n",
    "        if ni == n:\n",
    "            answers.append(copy.copy(one))\n",
    "            return\n",
    "        for lj in xrange(li, len(l)):\n",
    "            one[ni] = l[lj]\n",
    "            next_c(lj + 1, ni + 1)\n",
    "    next_c()\n",
    "    return answers"
   ]
  }
 ],
 "metadata": {
  "kernelspec": {
   "display_name": "Python 2",
   "language": "python",
   "name": "python2"
  },
  "language_info": {
   "codemirror_mode": {
    "name": "ipython",
    "version": 2
   },
   "file_extension": ".py",
   "mimetype": "text/x-python",
   "name": "python",
   "nbconvert_exporter": "python",
   "pygments_lexer": "ipython2",
   "version": "2.7.13"
  }
 },
 "nbformat": 4,
 "nbformat_minor": 0
}
