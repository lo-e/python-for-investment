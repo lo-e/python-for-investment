{
 "cells": [
  {
   "cell_type": "code",
   "execution_count": 1,
   "metadata": {
    "collapsed": false
   },
   "outputs": [
    {
     "data": {
      "text/plain": [
       "array([1, 2, 3, 4, 5, 6])"
      ]
     },
     "execution_count": 1,
     "metadata": {},
     "output_type": "execute_result"
    }
   ],
   "source": [
    "import numpy as np\n",
    "a = [1,2,3,4,5,6]\n",
    "nd_a = np.array(a)\n",
    "nd_a"
   ]
  },
  {
   "cell_type": "code",
   "execution_count": null,
   "metadata": {
    "collapsed": false
   },
   "outputs": [],
   "source": [
    "b = [[1,2,3], [4,5,6]]\n",
    "nd_b = np.array(b,float)\n",
    "print type(nd_b)\n",
    "print nd_b.dtype\n",
    "print nd_b.shape"
   ]
  },
  {
   "cell_type": "code",
   "execution_count": null,
   "metadata": {
    "collapsed": false
   },
   "outputs": [],
   "source": [
    "c = [[[1,2,3], [4,5,6]],[[7,8,9], [10,11,12]]]\n",
    "nd_c = np.array(c)\n",
    "nd_c"
   ]
  },
  {
   "cell_type": "code",
   "execution_count": null,
   "metadata": {
    "collapsed": false
   },
   "outputs": [],
   "source": [
    "d = np.zeros((2,6))\n",
    "print d"
   ]
  },
  {
   "cell_type": "code",
   "execution_count": null,
   "metadata": {
    "collapsed": false
   },
   "outputs": [],
   "source": [
    "e = np.ones((2,6))\n",
    "print e"
   ]
  },
  {
   "cell_type": "code",
   "execution_count": null,
   "metadata": {
    "collapsed": false
   },
   "outputs": [],
   "source": [
    "f = np.empty((2,3))\n",
    "print f"
   ]
  },
  {
   "cell_type": "code",
   "execution_count": null,
   "metadata": {
    "collapsed": false
   },
   "outputs": [],
   "source": [
    "g = np.arange(2,8)"
   ]
  },
  {
   "cell_type": "code",
   "execution_count": null,
   "metadata": {
    "collapsed": false
   },
   "outputs": [],
   "source": [
    "h = np.array(e)\n",
    "print h\n",
    "i = np.asarray(e)\n",
    "print i"
   ]
  },
  {
   "cell_type": "code",
   "execution_count": null,
   "metadata": {
    "collapsed": false
   },
   "outputs": [],
   "source": [
    "j = np.ones_like(b, int)\n",
    "print j"
   ]
  },
  {
   "cell_type": "code",
   "execution_count": null,
   "metadata": {
    "collapsed": false
   },
   "outputs": [],
   "source": [
    "k = np.eye(10)\n",
    "print k"
   ]
  },
  {
   "cell_type": "code",
   "execution_count": null,
   "metadata": {
    "collapsed": false
   },
   "outputs": [],
   "source": [
    "l = np.identity(10)\n",
    "l\n"
   ]
  },
  {
   "cell_type": "code",
   "execution_count": null,
   "metadata": {
    "collapsed": false
   },
   "outputs": [],
   "source": [
    "m = np.array([1,2,3],float)\n",
    "n = np.array([1,2,3],dtype = np.int32)\n",
    "print m.dtype\n",
    "print n.dtype"
   ]
  },
  {
   "cell_type": "code",
   "execution_count": null,
   "metadata": {
    "collapsed": false
   },
   "outputs": [],
   "source": [
    "o = np.array([['1','2','3']],str)\n",
    "print o.dtype\n",
    "o_int = o.astype(int)\n",
    "print o_int.dtype\n",
    "\n",
    "print o\n",
    "print o_int"
   ]
  },
  {
   "cell_type": "code",
   "execution_count": null,
   "metadata": {
    "collapsed": false
   },
   "outputs": [],
   "source": [
    "p = np.empty((5,6))\n",
    "print type(p[2][2])"
   ]
  },
  {
   "cell_type": "code",
   "execution_count": null,
   "metadata": {
    "collapsed": false
   },
   "outputs": [],
   "source": [
    "q = np.arange(8)\n",
    "q_slice = q[2:6]\n",
    "print q\n",
    "print q_slice\n",
    "\n",
    "q_slice[2:] = 6\n",
    "print q\n",
    "print q_slice"
   ]
  },
  {
   "cell_type": "code",
   "execution_count": null,
   "metadata": {
    "collapsed": false
   },
   "outputs": [],
   "source": [
    "r = np.array([[1,2,3],[4,5,6],[7,8,9]])\n",
    "r_slice = r[0:2].copy()\n",
    "r_slice_slice = r_slice[1]\n",
    "r_slice_slice[:] = 100\n",
    "r_slice[1][1] = 2\n",
    "print r\n",
    "print r_slice\n",
    "print r_slice_slice"
   ]
  },
  {
   "cell_type": "code",
   "execution_count": null,
   "metadata": {
    "collapsed": false
   },
   "outputs": [],
   "source": [
    "s = np.array([[1,2,3],[4,5,6],[7,8,9]])\n",
    "print s\n",
    "s[2,2] = 100\n",
    "print s"
   ]
  },
  {
   "cell_type": "code",
   "execution_count": null,
   "metadata": {
    "collapsed": false
   },
   "outputs": [],
   "source": [
    "t = np.array([[1,2,3],\n",
    "              [4,5,6],\n",
    "              [7,8,9]])\n",
    "t_slice = t[1:, :2]\n",
    "print t_slice"
   ]
  },
  {
   "cell_type": "code",
   "execution_count": null,
   "metadata": {
    "collapsed": false
   },
   "outputs": [],
   "source": [
    "name = np.array(['a','b','c'])\n",
    "name_bool = name == 'a'\n",
    "u = np.random.randn(3, 6)\n",
    "print name_bool\n",
    "print u\n",
    "print '\\n'\n",
    "\n",
    "x = u < 0\n",
    "print x\n",
    "u[x] = 7\n",
    "print u"
   ]
  },
  {
   "cell_type": "code",
   "execution_count": null,
   "metadata": {
    "collapsed": false
   },
   "outputs": [],
   "source": [
    "a = np.array([[1,2,3],\n",
    "             [4,5,6],\n",
    "             [7,8,9],\n",
    "             [10,10,10],\n",
    "             [11,11,11],\n",
    "             [12,12,12]])\n",
    "b = a[[1,5,2],[1,1,0]]\n",
    "c = a[[1,5,2]]\n",
    "d = c[1:3,[1,2,0]]\n",
    "print c\n",
    "print d\n",
    "d[1,1:3] = 100\n",
    "print d"
   ]
  },
  {
   "cell_type": "code",
   "execution_count": null,
   "metadata": {
    "collapsed": false
   },
   "outputs": [],
   "source": [
    "a = np.arange(20).reshape(4,5)\n",
    "a.T"
   ]
  },
  {
   "cell_type": "code",
   "execution_count": null,
   "metadata": {
    "collapsed": false
   },
   "outputs": [],
   "source": [
    "a = np.array([9,2,3,4,0,6.2])\n",
    "b = np.array([-2,2,7,8,0,-6])\n",
    "print a\n",
    "print b\n",
    "print '\\n'\n",
    "\n",
    "c = a == 2\n",
    "d = np.sqrt(a)\n",
    "#d[np.isfinite(d)] = 100\n",
    "print d"
   ]
  },
  {
   "cell_type": "code",
   "execution_count": null,
   "metadata": {
    "collapsed": false
   },
   "outputs": [],
   "source": [
    "% matplotlib inline\n",
    "import matplotlib.pyplot as plt\n",
    "a = np.arange(-5,5,0.01)\n",
    "x,y =  np.meshgrid(a,a)\n",
    "z = np.sqrt(x**2 + y**2)\n",
    "plt.imshow(z, cmap = plt.cm.gray)\n",
    "plt.colorbar()\n",
    "plt.title('Image plot of $sqrt{x^2 + y^2}$ for a grid of values')"
   ]
  },
  {
   "cell_type": "code",
   "execution_count": null,
   "metadata": {
    "collapsed": false
   },
   "outputs": [],
   "source": [
    "a = np.array([1,5,9,3,6,8])\n",
    "b = np.array([2,10,20,9,0,1])\n",
    "c = np.array([True, False, False, True, False, True])\n",
    "d = np.where(c, 2, 3)\n",
    "print d\n",
    "print np.array([(x if z else y) for x, y, z in zip(a,b,c)])"
   ]
  },
  {
   "cell_type": "code",
   "execution_count": null,
   "metadata": {
    "collapsed": false
   },
   "outputs": [],
   "source": [
    "a = np.random.randn(3,3)\n",
    "np.where(a < 0, 2, a)\n"
   ]
  },
  {
   "cell_type": "code",
   "execution_count": null,
   "metadata": {
    "collapsed": false
   },
   "outputs": [],
   "source": [
    "a = np.array([[1,2,3],\n",
    "             [9,10,6],\n",
    "             [1,20,3]])\n",
    "b = a.cumsum(1)\n",
    "c = a.argmax()\n",
    "print c"
   ]
  },
  {
   "cell_type": "code",
   "execution_count": null,
   "metadata": {
    "collapsed": false
   },
   "outputs": [],
   "source": [
    "a = np.random.randn(10)\n",
    "#a.sort()\n",
    "b = np.sort(a)\n",
    "a.sort()\n",
    "print a\n",
    "print b\n",
    "if (a == b).all():\n",
    "    print 'yes'"
   ]
  },
  {
   "cell_type": "code",
   "execution_count": null,
   "metadata": {
    "collapsed": false
   },
   "outputs": [],
   "source": [
    "a = np.array(['a','f','c','d','e','c'])\n",
    "print np.unique(a)"
   ]
  },
  {
   "cell_type": "code",
   "execution_count": 7,
   "metadata": {
    "collapsed": false
   },
   "outputs": [],
   "source": [
    "arr1 = np.arange(10)\n",
    "arr2 = np.arange(16)\n",
    "np.savez('file', aa = arr1, b = arr2)\n",
    "np.save('file',arr1)"
   ]
  },
  {
   "cell_type": "code",
   "execution_count": 8,
   "metadata": {
    "collapsed": false
   },
   "outputs": [
    {
     "name": "stdout",
     "output_type": "stream",
     "text": [
      "[0 1 2 3 4 5 6 7 8 9] <type 'numpy.ndarray'> \n",
      "\n"
     ]
    }
   ],
   "source": [
    "data = np.load('file.npy')\n",
    "print data,type(data),'\\n'"
   ]
  },
  {
   "cell_type": "code",
   "execution_count": 4,
   "metadata": {
    "collapsed": false
   },
   "outputs": [
    {
     "name": "stdout",
     "output_type": "stream",
     "text": [
      "<numpy.lib.npyio.NpzFile object at 0x04AA3430> <class 'numpy.lib.npyio.NpzFile'> \n",
      "\n",
      "[0 1 2 3 4 5 6 7 8 9] <type 'numpy.ndarray'> \n",
      "\n",
      "[ 0  1  2  3  4  5  6  7  8  9 10 11 12 13 14 15] <type 'numpy.ndarray'> \n",
      "\n"
     ]
    }
   ],
   "source": [
    "data = np.load('file.npz')\n",
    "a = data['aa']\n",
    "b = data['b']\n",
    "print data,type(data),'\\n'\n",
    "print a,type(a),'\\n'\n",
    "print b,type(b),'\\n'"
   ]
  },
  {
   "cell_type": "code",
   "execution_count": null,
   "metadata": {
    "collapsed": false
   },
   "outputs": [],
   "source": [
    "from random import normalvariate\n",
    "import random\n",
    "n = 10\n",
    "a = np.random.normal(size = n)\n",
    "b = np.random.randn(n)\n",
    "c = np.random.randint(1,100)\n",
    "d = random.randn(1,2)\n",
    "print d"
   ]
  },
  {
   "cell_type": "code",
   "execution_count": null,
   "metadata": {
    "collapsed": false
   },
   "outputs": [],
   "source": [
    "a = np.random.randn(19,2)\n",
    "print a"
   ]
  },
  {
   "cell_type": "code",
   "execution_count": null,
   "metadata": {
    "collapsed": false
   },
   "outputs": [],
   "source": [
    "count = 20\n",
    "draw = np.random.randint(0,2,size = count)\n",
    "steps = np.where(draw > 0, 1, -1)\n",
    "walk = np.cumsum(steps)\n",
    "\n",
    "#print walk\n",
    "print abs(walk)\n",
    "print abs(walk) > 2\n",
    "print (abs(walk) > 2).argmax()\n",
    "for i in (abs(walk) > 2):\n",
    "    if i == True:\n",
    "        print i\n"
   ]
  },
  {
   "cell_type": "code",
   "execution_count": null,
   "metadata": {
    "collapsed": false
   },
   "outputs": [],
   "source": [
    "import numpy as ny\n",
    "a = np.random.randint(1,10,size = 10)\n",
    "print a\n"
   ]
  },
  {
   "cell_type": "code",
   "execution_count": 15,
   "metadata": {
    "collapsed": false
   },
   "outputs": [
    {
     "name": "stdout",
     "output_type": "stream",
     "text": [
      "[[ 0  1  2  3  4  5  6  7  8]\n",
      " [ 9 10 11 12 13 14 15 16 17]\n",
      " [18 19 20 21 22 23 24 25 26]\n",
      " [27 28 29 30 31 32 33 34 35]\n",
      " [36 37 38 39 40 41 42 43 44]\n",
      " [45 46 47 48 49 50 51 52 53]\n",
      " [54 55 56 57 58 59 60 61 62]\n",
      " [63 64 65 66 67 68 69 70 71]\n",
      " [72 73 74 75 76 77 78 79 80]]\n",
      "[[  0   1   3   6  10  15  21  28  36]\n",
      " [  9  19  30  42  55  69  84 100 117]\n",
      " [ 18  37  57  78 100 123 147 172 198]\n",
      " [ 27  55  84 114 145 177 210 244 279]\n",
      " [ 36  73 111 150 190 231 273 316 360]\n",
      " [ 45  91 138 186 235 285 336 388 441]\n",
      " [ 54 109 165 222 280 339 399 460 522]\n",
      " [ 63 127 192 258 325 393 462 532 603]\n",
      " [ 72 145 219 294 370 447 525 604 684]]\n"
     ]
    }
   ],
   "source": [
    "a = np.arange(81).reshape(9,9)\n",
    "print a\n",
    "print np.cumsum(a, axis = 1)"
   ]
  },
  {
   "cell_type": "code",
   "execution_count": null,
   "metadata": {
    "collapsed": true
   },
   "outputs": [],
   "source": []
  }
 ],
 "metadata": {
  "kernelspec": {
   "display_name": "Python 2",
   "language": "python",
   "name": "python2"
  },
  "language_info": {
   "codemirror_mode": {
    "name": "ipython",
    "version": 2
   },
   "file_extension": ".py",
   "mimetype": "text/x-python",
   "name": "python",
   "nbconvert_exporter": "python",
   "pygments_lexer": "ipython2",
   "version": "2.7.13"
  }
 },
 "nbformat": 4,
 "nbformat_minor": 0
}
