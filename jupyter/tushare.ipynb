{
 "cells": [
  {
   "cell_type": "code",
   "execution_count": 23,
   "metadata": {
    "collapsed": true
   },
   "outputs": [],
   "source": [
    "import tushare as ts"
   ]
  },
  {
   "cell_type": "code",
   "execution_count": 45,
   "metadata": {
    "collapsed": true
   },
   "outputs": [],
   "source": [
    "'''\n",
    "获取连接备用\n",
    "'''\n",
    "cons = ts.get_apis()"
   ]
  },
  {
   "cell_type": "code",
   "execution_count": 54,
   "metadata": {
    "collapsed": false
   },
   "outputs": [],
   "source": [
    "'''\n",
    "bar接口\n",
    "'''\n",
    "#freq 【'1min' '5min' '15min' '30min' '60min' 'D' 'W' 'M' 'Q' 'Y'】\n",
    "#asset 【'INDEX'：指数  'X'：港股美股期货】\n",
    "#ma 【均线数组  5,10,20,60】\n",
    "#factors 【因子数组  'vr'：量比  'tor'：换手率】\n",
    "#adj 【复权  'qfq'：前复权  'hfq'：后复权  'None'：默认不复权\n",
    "\n",
    "df = ts.bar('600380', conn = cons, freq = 'D', start_date = '2017-01-01', end_date = '', ma = [5, 10, 20, 60], factors = ['vr', 'tor'], adj = 'None')\n",
    "#df"
   ]
  },
  {
   "cell_type": "code",
   "execution_count": 66,
   "metadata": {
    "collapsed": false
   },
   "outputs": [],
   "source": [
    "'''\n",
    "tick接口\n",
    "'''\n",
    "#股票tick数据type 【买卖方向  0：买入  1：卖出  2：集合竞价成交】\n",
    "#期货tick数据type 【买卖方向  0：开仓  1：多开  -1：空开】\n",
    "#asset 【X'：期货】\n",
    "df = ts.tick('600380', conn = cons, date = '2017-11-17')\n",
    "df.sort_values('datetime', ascending = False, inplace = True)\n",
    "#df"
   ]
  },
  {
   "cell_type": "code",
   "execution_count": 72,
   "metadata": {
    "collapsed": false
   },
   "outputs": [],
   "source": [
    "'''\n",
    "沪\\深港通每日资金流向（南向、北向资金）\n",
    "'''\n",
    "df = ts.moneyflow_hsgt()\n",
    "df.sort_values('date', ascending = False, inplace = True)\n",
    "#df"
   ]
  },
  {
   "cell_type": "code",
   "execution_count": null,
   "metadata": {
    "collapsed": true
   },
   "outputs": [],
   "source": []
  }
 ],
 "metadata": {
  "kernelspec": {
   "display_name": "Python 2",
   "language": "python",
   "name": "python2"
  },
  "language_info": {
   "codemirror_mode": {
    "name": "ipython",
    "version": 2
   },
   "file_extension": ".py",
   "mimetype": "text/x-python",
   "name": "python",
   "nbconvert_exporter": "python",
   "pygments_lexer": "ipython2",
   "version": "2.7.13"
  }
 },
 "nbformat": 4,
 "nbformat_minor": 0
}
