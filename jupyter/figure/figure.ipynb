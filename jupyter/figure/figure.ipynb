{
 "cells": [
  {
   "cell_type": "code",
   "execution_count": 1,
   "metadata": {
    "collapsed": true
   },
   "outputs": [],
   "source": [
    "% matplotlib inline\n",
    "import matplotlib.pyplot as plt\n",
    "import numpy as np\n",
    "from pandas import DataFrame\n",
    "import os\n",
    "import csv\n",
    "from datetime import datetime, timedelta"
   ]
  },
  {
   "cell_type": "code",
   "execution_count": 2,
   "metadata": {
    "collapsed": false,
    "scrolled": true
   },
   "outputs": [],
   "source": [
    "def getList():\n",
    "    path = os.getcwd()\n",
    "    dateList = []\n",
    "    pnlList = []\n",
    "    lastDate = None\n",
    "    lastPnl = 0\n",
    "    for root, subdirs, files in os.walk(path):\n",
    "        for fileName in files:\n",
    "            if '.csv' in fileName:\n",
    "                # 读取文件\n",
    "                with open(fileName, 'r') as f:\n",
    "                    reader = csv.DictReader(f)\n",
    "                    for row in reader:\n",
    "                        if row['累计盈亏']:\n",
    "                            dateStr = row['时间']\n",
    "                            try:\n",
    "                                date = datetime.strptime(dateStr, '%Y-%m-%d %H:%M:%S')\n",
    "                            except:\n",
    "                                try:\n",
    "                                    date = datetime.strptime(dateStr, '%Y-%m-%d %H:%M:%S.%f')\n",
    "                                except:\n",
    "                                    print '时间格式错误'\n",
    "                            pnl = float(row['累计盈亏']) * 10\n",
    "                            \n",
    "                            if not len(dateList):\n",
    "                                dateList.append(date - timedelta(1))\n",
    "                                pnlList.append(0)\n",
    "                            \n",
    "                            if lastDate:\n",
    "                                d = lastDate + timedelta(1)\n",
    "                                while d.date() < date.date():\n",
    "                                    dateList.append(d)\n",
    "                                    pnlList.append(lastPnl)\n",
    "                                    d += timedelta(1)\n",
    "                            \n",
    "                            dateList.append(date)\n",
    "                            pnlList.append(pnl)\n",
    "                            lastDate = date\n",
    "                            lastPnl = pnl\n",
    "                    return dateList, pnlList\n",
    "    return dateList, pnlList"
   ]
  },
  {
   "cell_type": "code",
   "execution_count": 8,
   "metadata": {
    "collapsed": false,
    "scrolled": false
   },
   "outputs": [
    {
     "data": {
      "image/png": "[encoded data removed]",
      "text/plain": [
       "<matplotlib.figure.Figure at 0xa19a9d0>"
      ]
     },
     "metadata": {},
     "output_type": "display_data"
    }
   ],
   "source": [
    "#绘图\n",
    "def figure():\n",
    "    dateList, pnlList = getList()\n",
    "    df = DataFrame({'PNL':pnlList},\n",
    "                   index = dateList)\n",
    "    plt.rc('figure', figsize = (9, 5)) #全局配置matplot\n",
    "    fig = plt.figure()\n",
    "    ax = fig.add_subplot(1,1,1)\n",
    "    df['PNL'].plot(ax = ax, linestyle = '-', linewidth = 0.6, color = 'r')\n",
    "    #ax.set_title('simple') #图标的名称\n",
    "    ax.set_xlabel('date') #x轴名称\n",
    "    ax.set_ylabel('pnl') #y轴名称\n",
    "    #ax.set_xticklabels(ax.get_xticklabels(), rotation = 60, fontsize = 8) #x轴刻度设置（旋转，字体）\n",
    "    ax.legend(loc = 'best') #显示图例\n",
    "    fig.savefig('result.png', dpi = 400, bbox_inches = 'tight') #保存回测结果图表\n",
    "figure()"
   ]
  },
  {
   "cell_type": "code",
   "execution_count": null,
   "metadata": {
    "collapsed": true
   },
   "outputs": [],
   "source": []
  }
 ],
 "metadata": {
  "kernelspec": {
   "display_name": "Python 2",
   "language": "python",
   "name": "python2"
  },
  "language_info": {
   "codemirror_mode": {
    "name": "ipython",
    "version": 2
   },
   "file_extension": ".py",
   "mimetype": "text/x-python",
   "name": "python",
   "nbconvert_exporter": "python",
   "pygments_lexer": "ipython2",
   "version": "2.7.13"
  }
 },
 "nbformat": 4,
 "nbformat_minor": 0
}
