{
 "cells": [
  {
   "cell_type": "code",
   "execution_count": 1,
   "metadata": {
    "collapsed": true
   },
   "outputs": [],
   "source": [
    "import time\n",
    "from datetime import datetime, timedelta\n",
    "import datetime"
   ]
  },
  {
   "cell_type": "code",
   "execution_count": 20,
   "metadata": {
    "collapsed": false
   },
   "outputs": [
    {
     "name": "stdout",
     "output_type": "stream",
     "text": [
      "1970-01-01 08:00:01\n"
     ]
    }
   ],
   "source": [
    "#浮点型转换成日期（起始时间1970-01-01 08:00:00）\n",
    "date = datetime.fromtimestamp(1992090000)\n",
    "print date"
   ]
  },
  {
   "cell_type": "code",
   "execution_count": 15,
   "metadata": {
    "collapsed": false
   },
   "outputs": [
    {
     "name": "stdout",
     "output_type": "stream",
     "text": [
      "<type 'str'>\n",
      "17:03:20\n"
     ]
    }
   ],
   "source": [
    "#datetime转换成str\n",
    "now = datetime.now()\n",
    "strNow = now.strftime('%H:%M:%S')\n",
    "print type(strNow)\n",
    "print strNow"
   ]
  },
  {
   "cell_type": "code",
   "execution_count": 14,
   "metadata": {
    "collapsed": false
   },
   "outputs": [
    {
     "name": "stdout",
     "output_type": "stream",
     "text": [
      "<type 'datetime.datetime'>\n",
      "2017-01-06 09:00:06\n"
     ]
    }
   ],
   "source": [
    "#str转换成datetime\n",
    "strDatetime = '2017-01-06 09:00:06'\n",
    "theTime = datetime.strptime(strDatetime, '%Y-%m-%d %H:%M:%S')\n",
    "print type(theTime)\n",
    "print theTime"
   ]
  },
  {
   "cell_type": "code",
   "execution_count": 20,
   "metadata": {
    "collapsed": false
   },
   "outputs": [
    {
     "name": "stdout",
     "output_type": "stream",
     "text": [
      "<type 'datetime.datetime'>\n",
      "<type 'datetime.datetime'>\n",
      "2017-11-09 17:06:27.636000\n",
      "2017-11-10 17:06:27.636000\n",
      "2017-11-11 17:06:27.636000\n"
     ]
    }
   ],
   "source": [
    "#datetime的历史与未来\n",
    "now = datetime.now()\n",
    "delta = timedelta(1)\n",
    "yesterday = now - delta\n",
    "tomorrow = now + delta\n",
    "print type(yesterday)\n",
    "print type(tomorrow)\n",
    "print yesterday\n",
    "print now\n",
    "print tomorrow"
   ]
  },
  {
   "cell_type": "code",
   "execution_count": 4,
   "metadata": {
    "collapsed": false
   },
   "outputs": [
    {
     "name": "stdout",
     "output_type": "stream",
     "text": [
      "5\n"
     ]
    }
   ],
   "source": [
    "#datetime在一周中的第几天（0-6）\n",
    "now = datetime.now()\n",
    "weekDay = now.weekday()\n",
    "print weekDay"
   ]
  },
  {
   "cell_type": "code",
   "execution_count": 6,
   "metadata": {
    "collapsed": false
   },
   "outputs": [
    {
     "name": "stdout",
     "output_type": "stream",
     "text": [
      "Sat Nov 11 09:09:13 2017\n",
      "<type 'str'>\n"
     ]
    }
   ],
   "source": [
    "#带有星期的日期\n",
    "ctime = time.ctime()\n",
    "print ctime\n",
    "print type(ctime)"
   ]
  },
  {
   "cell_type": "code",
   "execution_count": 12,
   "metadata": {
    "collapsed": false
   },
   "outputs": [
    {
     "name": "stdout",
     "output_type": "stream",
     "text": [
      "06:06:06\n"
     ]
    }
   ],
   "source": [
    "#时分秒\n",
    "theTime = datetime.time(6, 6, 6)\n",
    "print theTime"
   ]
  },
  {
   "cell_type": "code",
   "execution_count": 3,
   "metadata": {
    "collapsed": false
   },
   "outputs": [
    {
     "data": {
      "text/plain": [
       "datetime.datetime(2018, 1, 11, 6, 11, 6, 6)"
      ]
     },
     "execution_count": 3,
     "metadata": {},
     "output_type": "execute_result"
    }
   ],
   "source": [
    "#时间的修改\n",
    "dt = datetime.datetime.now()\n",
    "dt = dt.replace(hour = 6, minute  second = 6, microsecond = 6)\n",
    "dt"
   ]
  },
  {
   "cell_type": "code",
   "execution_count": null,
   "metadata": {
    "collapsed": true
   },
   "outputs": [],
   "source": []
  }
 ],
 "metadata": {
  "kernelspec": {
   "display_name": "Python 2",
   "language": "python",
   "name": "python2"
  },
  "language_info": {
   "codemirror_mode": {
    "name": "ipython",
    "version": 2
   },
   "file_extension": ".py",
   "mimetype": "text/x-python",
   "name": "python",
   "nbconvert_exporter": "python",
   "pygments_lexer": "ipython2",
   "version": "2.7.13"
  }
 },
 "nbformat": 4,
 "nbformat_minor": 0
}
