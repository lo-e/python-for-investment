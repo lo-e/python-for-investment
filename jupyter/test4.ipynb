{
 "cells": [
  {
   "cell_type": "code",
   "execution_count": 88,
   "metadata": {
    "collapsed": false
   },
   "outputs": [],
   "source": [
    "class Cat(object):\n",
    "    \"\"\"It all for a Cat\"\"\"\n",
    "    a = []\n",
    "    def __init__(self, name):\n",
    "        '''It's init method '''\n",
    "        super(Cat, self).__init__()\n",
    "        self.name = name\n",
    "        self.food = 'fish'\n",
    "        self.action = 'action'\n",
    "    \n",
    "    def like(self):\n",
    "        \"\"\"It's like\"\"\"\n",
    "        self.ok = 'ok'\n",
    "        print self.food\n",
    "        \n",
    "class YellowCat(Cat):\n",
    "    def __init__(self, name):\n",
    "        super(YellowCat, self).__init__(name)\n",
    "    \n",
    "    def like(self, something):\n",
    "        #print 'like' + ':' + something\n",
    "        pass\n",
    "        "
   ]
  },
  {
   "cell_type": "code",
   "execution_count": 89,
   "metadata": {
    "collapsed": false
   },
   "outputs": [],
   "source": [
    "cat = YellowCat('pika')\n",
    "cat.like('everything')"
   ]
  },
  {
   "cell_type": "code",
   "execution_count": 30,
   "metadata": {
    "collapsed": false
   },
   "outputs": [],
   "source": [
    "def action(*argv, **kwargv):\n",
    "    print argv\n",
    "    print kwargv"
   ]
  },
  {
   "cell_type": "code",
   "execution_count": 32,
   "metadata": {
    "collapsed": false
   },
   "outputs": [
    {
     "name": "stdout",
     "output_type": "stream",
     "text": [
      "(100, 200)\n",
      "{'a': 300, 'c': 500, 'b': 400, 'd': 600}\n"
     ]
    }
   ],
   "source": [
    "action(100,200, a = 300, b = 400, c = 500, d = 600)"
   ]
  },
  {
   "cell_type": "code",
   "execution_count": 49,
   "metadata": {
    "collapsed": false
   },
   "outputs": [
    {
     "name": "stdout",
     "output_type": "stream",
     "text": [
      "2017-07-20 00:00:00\n"
     ]
    }
   ],
   "source": [
    "from datetime import datetime, timedelta\n",
    "\n",
    "a = datetime.strptime('2017-01-01', '%Y-%m-%d')\n",
    "b = timedelta(200)\n",
    "c = a + b\n",
    "print c"
   ]
  },
  {
   "cell_type": "code",
   "execution_count": null,
   "metadata": {
    "collapsed": true
   },
   "outputs": [],
   "source": []
  }
 ],
 "metadata": {
  "kernelspec": {
   "display_name": "Python 2",
   "language": "python",
   "name": "python2"
  },
  "language_info": {
   "codemirror_mode": {
    "name": "ipython",
    "version": 2
   },
   "file_extension": ".py",
   "mimetype": "text/x-python",
   "name": "python",
   "nbconvert_exporter": "python",
   "pygments_lexer": "ipython2",
   "version": "2.7.13"
  }
 },
 "nbformat": 4,
 "nbformat_minor": 0
}
