{
 "cells": [
  {
   "cell_type": "code",
   "execution_count": 2,
   "metadata": {
    "collapsed": false
   },
   "outputs": [],
   "source": [
    "import tushare as ts\n",
    "import pandas as pd\n",
    "from datetime import datetime, timedelta\n",
    "import pymongo\n",
    "import time\n",
    "from vnpy.trader.app.ctaStrategy.ctaBase import TICK_DB_NAME"
   ]
  },
  {
   "cell_type": "code",
   "execution_count": null,
   "metadata": {
    "collapsed": true
   },
   "outputs": [],
   "source": [
    "code = '600380'\n",
    "dbName = 'Stocks_Daily_Db'"
   ]
  },
  {
   "cell_type": "code",
   "execution_count": null,
   "metadata": {
    "collapsed": false
   },
   "outputs": [],
   "source": [
    "codeList = ts.get_stock_basics()\n",
    "codeList"
   ]
  },
  {
   "cell_type": "code",
   "execution_count": null,
   "metadata": {
    "collapsed": false
   },
   "outputs": [],
   "source": [
    "date = datetime.now()\n",
    "hour = date.strftime('%H')\n",
    "oneDay = timedelta(1)\n",
    "\n",
    "if int(hour) < 15:\n",
    "    date = date - oneDay\n",
    "    \n",
    "dateStr = date.strftime('%Y-%m-%d')"
   ]
  },
  {
   "cell_type": "code",
   "execution_count": null,
   "metadata": {
    "collapsed": false
   },
   "outputs": [],
   "source": [
    "data = ts.get_hist_data('300680', retry_count = 10, pause = 1)\n",
    "#data.sort_index(inplace = True)\n",
    "#data"
   ]
  },
  {
   "cell_type": "code",
   "execution_count": null,
   "metadata": {
    "collapsed": false
   },
   "outputs": [],
   "source": [
    "#vnpy 1.7.0有的\n",
    "from vnpy.trader.app.ctaStrategy.strategy import strategyAtrRsi\n",
    "from vnpy.trader.app.ctaStrategy.strategy import strategyKingKeltner\n",
    "from vnpy.trader.app.ctaStrategy.strategy import strategyDualThrust\n",
    "\n",
    "#vnpy 1.7.0没有的\n",
    "#from vnpy.trader.app.ctaStrategy.strategy import strategyDoubleMa\n",
    "#from vnpy.trader.app.ctaStrategy.strategy import strategyBollChannel"
   ]
  },
  {
   "cell_type": "code",
   "execution_count": null,
   "metadata": {
    "collapsed": false
   },
   "outputs": [],
   "source": [
    "class abc(object):\n",
    "    def __init__(self, name):\n",
    "        self.__name = name;\n",
    "        \n",
    "    def action(self):\n",
    "        print self.__name\n",
    "        print 'yes'\n",
    "\n",
    "the = abc('pika')\n",
    "the._abc__name = 'ok'\n",
    "the.action()"
   ]
  },
  {
   "cell_type": "code",
   "execution_count": null,
   "metadata": {
    "collapsed": false
   },
   "outputs": [],
   "source": [
    "a = 1.68621\n",
    "b = round(a, 2)\n",
    "b"
   ]
  },
  {
   "cell_type": "code",
   "execution_count": null,
   "metadata": {
    "collapsed": false
   },
   "outputs": [],
   "source": [
    "a = [1,2,3,4,5,6]\n",
    "print a\n",
    "a.pop()\n",
    "print a[]"
   ]
  },
  {
   "cell_type": "code",
   "execution_count": null,
   "metadata": {
    "collapsed": false
   },
   "outputs": [],
   "source": [
    "a = datetime.now()\n",
    "print type(a.date())"
   ]
  },
  {
   "cell_type": "code",
   "execution_count": null,
   "metadata": {
    "collapsed": false
   },
   "outputs": [],
   "source": [
    "a = time.time()\n",
    "time.sleep(1)\n",
    "b = time.time()\n",
    "c = b-a\n",
    "c"
   ]
  },
  {
   "cell_type": "code",
   "execution_count": null,
   "metadata": {
    "collapsed": false
   },
   "outputs": [],
   "source": [
    "a = datetime.now()\n",
    "print a.date()\n",
    "print a.time()\n",
    "print type(a.date)\n"
   ]
  },
  {
   "cell_type": "code",
   "execution_count": null,
   "metadata": {
    "collapsed": false
   },
   "outputs": [],
   "source": [
    "bar = ts.get_tick_data('600380', '2017-04-07')\n",
    "bar"
   ]
  },
  {
   "cell_type": "code",
   "execution_count": null,
   "metadata": {
    "collapsed": false
   },
   "outputs": [],
   "source": [
    "a = datetime.now()\n",
    "print a\n",
    "print a.weekday()"
   ]
  },
  {
   "cell_type": "code",
   "execution_count": null,
   "metadata": {
    "collapsed": false
   },
   "outputs": [],
   "source": [
    "print time.ctime()\n",
    "print type(time.ctime())"
   ]
  },
  {
   "cell_type": "code",
   "execution_count": null,
   "metadata": {
    "collapsed": false
   },
   "outputs": [],
   "source": [
    "date = datetime.strptime('2017-01-02', '%Y-%m-%d')\n",
    "print date\n",
    "print date.weekday()"
   ]
  },
  {
   "cell_type": "code",
   "execution_count": null,
   "metadata": {
    "collapsed": false,
    "scrolled": true
   },
   "outputs": [],
   "source": [
    "client = pymongo.MongoClient('localhost', 27017)\n",
    "collection = client[TICK_DB_NAME]['600380.SSE']\n",
    "flt = {'datetime':{'$gte':datetime.strptime('2017-01-04', '%Y-%m-%d'),\n",
    "                    '$lt':datetime.strptime('2017-01-05', '%Y-%m-%d')}}\n",
    "cursor = collection.find(flt).sort('datetime')\n",
    "for d in cursor:\n",
    "    print d['datetime']"
   ]
  },
  {
   "cell_type": "code",
   "execution_count": null,
   "metadata": {
    "collapsed": false
   },
   "outputs": [],
   "source": [
    "a = 1.6\n",
    "print u'======新的一天 %.f======' % a"
   ]
  },
  {
   "cell_type": "code",
   "execution_count": 3,
   "metadata": {
    "collapsed": false
   },
   "outputs": [
    {
     "name": "stdout",
     "output_type": "stream",
     "text": [
      "请设置通联数据接口的token凭证码\n"
     ]
    },
    {
     "ename": "TypeError",
     "evalue": "cannot concatenate 'str' and 'NoneType' objects",
     "output_type": "error",
     "traceback": [
      "\u001b[1;31m---------------------------------------------------------------------------\u001b[0m",
      "\u001b[1;31mTypeError\u001b[0m                                 Traceback (most recent call last)",
      "\u001b[1;32m<ipython-input-3-b7e59e516df3>\u001b[0m in \u001b[0;36m<module>\u001b[1;34m()\u001b[0m\n\u001b[0;32m      1\u001b[0m \u001b[0mmt\u001b[0m \u001b[1;33m=\u001b[0m \u001b[0mts\u001b[0m\u001b[1;33m.\u001b[0m\u001b[0mMaster\u001b[0m\u001b[1;33m(\u001b[0m\u001b[1;33m)\u001b[0m\u001b[1;33m\u001b[0m\u001b[0m\n\u001b[1;32m----> 2\u001b[1;33m \u001b[0mdf\u001b[0m \u001b[1;33m=\u001b[0m \u001b[0mmt\u001b[0m\u001b[1;33m.\u001b[0m\u001b[0mTradeCal\u001b[0m\u001b[1;33m(\u001b[0m\u001b[0mexchangeCD\u001b[0m\u001b[1;33m=\u001b[0m\u001b[1;34m'XSHG'\u001b[0m\u001b[1;33m,\u001b[0m \u001b[0mbeginDate\u001b[0m\u001b[1;33m=\u001b[0m\u001b[1;34m'20170101'\u001b[0m\u001b[1;33m,\u001b[0m \u001b[0mendDate\u001b[0m\u001b[1;33m=\u001b[0m\u001b[1;34m'20171201'\u001b[0m\u001b[1;33m,\u001b[0m \u001b[0mfield\u001b[0m\u001b[1;33m=\u001b[0m\u001b[1;34m'calendarDate,isOpen,prevTradeDate'\u001b[0m\u001b[1;33m)\u001b[0m\u001b[1;33m\u001b[0m\u001b[0m\n\u001b[0m\u001b[0;32m      3\u001b[0m \u001b[0mdf\u001b[0m\u001b[1;33m\u001b[0m\u001b[0m\n",
      "\u001b[1;32mC:\\Users\\loe\\Anaconda2\\lib\\site-packages\\tushare\\datayes\\master.pyc\u001b[0m in \u001b[0;36mTradeCal\u001b[1;34m(self, exchangeCD, beginDate, endDate, field)\u001b[0m\n\u001b[0;32m     39\u001b[0m             \u001b[0;31m其\u001b[0m\u001b[0;31m中\u001b[0m\u001b[0;31m上\u001b[0m\u001b[0;31m证\u001b[0m\u001b[0;31m、\u001b[0m\u001b[0;31m深\u001b[0m\u001b[0;31m证\u001b[0m\u001b[0;31m记\u001b[0m\u001b[0;31m录\u001b[0m\u001b[0;31m了\u001b[0m\u001b[0;31m自\u001b[0m\u001b[0;31m成\u001b[0m\u001b[0;31m立\u001b[0m\u001b[0;31m以\u001b[0m\u001b[0;31m来\u001b[0m\u001b[0;31m的\u001b[0m\u001b[0;31m全\u001b[0m\u001b[0;31m部\u001b[0m\u001b[0;31m日\u001b[0m\u001b[0;31m期\u001b[0m\u001b[0;31m是\u001b[0m\u001b[0;31m否\u001b[0m\u001b[0;31m开\u001b[0m\u001b[0;31m始\u001b[0m\u001b[0;31m信\u001b[0m\u001b[0;31m息\u001b[0m\u001b[0;31m。\u001b[0m\u001b[0;31m各\u001b[0m\u001b[0;31m交\u001b[0m\u001b[0;31m易\u001b[0m\u001b[0;31m日\u001b[0m\u001b[0;31m节\u001b[0m\u001b[0;31m假\u001b[0m\u001b[0;31m日\u001b[0m\u001b[0;31m安\u001b[0m\u001b[0;31m排\u001b[0m\u001b[0;31m通\u001b[0m\u001b[0;31m知\u001b[0m\u001b[0;31m发\u001b[0m\u001b[0;31m布\u001b[0m\u001b[0;31m当\u001b[0m\u001b[0;31m天\u001b[0m\u001b[0;31m即\u001b[0m\u001b[0;31m更\u001b[0m\u001b[0;31m新\u001b[0m\u001b[0;31m数\u001b[0m\u001b[0;31m据\u001b[0m\u001b[0;31m。\u001b[0m\u001b[1;33m\u001b[0m\u001b[0m\n\u001b[0;32m     40\u001b[0m         \"\"\"\n\u001b[1;32m---> 41\u001b[1;33m         \u001b[0mcode\u001b[0m\u001b[1;33m,\u001b[0m \u001b[0mresult\u001b[0m \u001b[1;33m=\u001b[0m \u001b[0mself\u001b[0m\u001b[1;33m.\u001b[0m\u001b[0mclient\u001b[0m\u001b[1;33m.\u001b[0m\u001b[0mgetData\u001b[0m\u001b[1;33m(\u001b[0m\u001b[0mvs\u001b[0m\u001b[1;33m.\u001b[0m\u001b[0mTRADECAL\u001b[0m\u001b[1;33m%\u001b[0m\u001b[1;33m(\u001b[0m\u001b[0mexchangeCD\u001b[0m\u001b[1;33m,\u001b[0m \u001b[0mbeginDate\u001b[0m\u001b[1;33m,\u001b[0m \u001b[0mendDate\u001b[0m\u001b[1;33m,\u001b[0m \u001b[0mfield\u001b[0m\u001b[1;33m)\u001b[0m\u001b[1;33m)\u001b[0m\u001b[1;33m\u001b[0m\u001b[0m\n\u001b[0m\u001b[0;32m     42\u001b[0m         \u001b[1;32mreturn\u001b[0m \u001b[0m_ret_data\u001b[0m\u001b[1;33m(\u001b[0m\u001b[0mcode\u001b[0m\u001b[1;33m,\u001b[0m \u001b[0mresult\u001b[0m\u001b[1;33m)\u001b[0m\u001b[1;33m\u001b[0m\u001b[0m\n\u001b[0;32m     43\u001b[0m \u001b[1;33m\u001b[0m\u001b[0m\n",
      "\u001b[1;32mC:\\Users\\loe\\Anaconda2\\lib\\site-packages\\tushare\\util\\common.pyc\u001b[0m in \u001b[0;36mgetData\u001b[1;34m(self, path)\u001b[0m\n\u001b[0;32m     82\u001b[0m             \u001b[1;32mreturn\u001b[0m \u001b[0mresponse\u001b[0m\u001b[1;33m.\u001b[0m\u001b[0mstatus\u001b[0m\u001b[1;33m,\u001b[0m \u001b[0mresult\u001b[0m\u001b[1;33m\u001b[0m\u001b[0m\n\u001b[0;32m     83\u001b[0m         \u001b[1;32mexcept\u001b[0m \u001b[0mException\u001b[0m \u001b[1;32mas\u001b[0m \u001b[0me\u001b[0m\u001b[1;33m:\u001b[0m\u001b[1;33m\u001b[0m\u001b[0m\n\u001b[1;32m---> 84\u001b[1;33m             \u001b[1;32mraise\u001b[0m \u001b[0me\u001b[0m\u001b[1;33m\u001b[0m\u001b[0m\n\u001b[0m\u001b[0;32m     85\u001b[0m         \u001b[1;32mreturn\u001b[0m \u001b[1;33m-\u001b[0m\u001b[1;36m1\u001b[0m\u001b[1;33m,\u001b[0m \u001b[0mresult\u001b[0m\u001b[1;33m\u001b[0m\u001b[0m\n",
      "\u001b[1;31mTypeError\u001b[0m: cannot concatenate 'str' and 'NoneType' objects"
     ]
    }
   ],
   "source": [
    "mt = ts.Master()\n",
    "df = mt.TradeCal(exchangeCD='XSHG', beginDate='20170101', endDate='20171201', field='calendarDate,isOpen,prevTradeDate')\n",
    "df"
   ]
  },
  {
   "cell_type": "code",
   "execution_count": null,
   "metadata": {
    "collapsed": true
   },
   "outputs": [],
   "source": []
  }
 ],
 "metadata": {
  "kernelspec": {
   "display_name": "Python 2",
   "language": "python",
   "name": "python2"
  },
  "language_info": {
   "codemirror_mode": {
    "name": "ipython",
    "version": 2
   },
   "file_extension": ".py",
   "mimetype": "text/x-python",
   "name": "python",
   "nbconvert_exporter": "python",
   "pygments_lexer": "ipython2",
   "version": "2.7.13"
  }
 },
 "nbformat": 4,
 "nbformat_minor": 0
}
