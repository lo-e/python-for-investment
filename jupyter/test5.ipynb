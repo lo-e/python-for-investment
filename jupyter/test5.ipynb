{
 "cells": [
  {
   "cell_type": "code",
   "execution_count": 1,
   "metadata": {
    "collapsed": true
   },
   "outputs": [],
   "source": [
    "import tushare as ts\n",
    "import pandas as pd\n",
    "from datetime import datetime, timedelta\n",
    "import pymongo\n",
    "import time"
   ]
  },
  {
   "cell_type": "code",
   "execution_count": null,
   "metadata": {
    "collapsed": true
   },
   "outputs": [],
   "source": [
    "code = '600380'\n",
    "dbName = 'Stocks_Daily_Db'"
   ]
  },
  {
   "cell_type": "code",
   "execution_count": null,
   "metadata": {
    "collapsed": false
   },
   "outputs": [],
   "source": [
    "codeList = ts.get_stock_basics()\n",
    "codeList"
   ]
  },
  {
   "cell_type": "code",
   "execution_count": null,
   "metadata": {
    "collapsed": false
   },
   "outputs": [],
   "source": [
    "date = datetime.now()\n",
    "hour = date.strftime('%H')\n",
    "oneDay = timedelta(1)\n",
    "\n",
    "if int(hour) < 15:\n",
    "    date = date - oneDay\n",
    "    \n",
    "dateStr = date.strftime('%Y-%m-%d')"
   ]
  },
  {
   "cell_type": "code",
   "execution_count": null,
   "metadata": {
    "collapsed": false
   },
   "outputs": [],
   "source": [
    "data = ts.get_hist_data('300680', retry_count = 10, pause = 1)\n",
    "#data.sort_index(inplace = True)\n",
    "data"
   ]
  },
  {
   "cell_type": "code",
   "execution_count": 26,
   "metadata": {
    "collapsed": false
   },
   "outputs": [],
   "source": [
    "#vnpy 1.7.0有的\n",
    "from vnpy.trader.app.ctaStrategy.strategy import strategyAtrRsi\n",
    "from vnpy.trader.app.ctaStrategy.strategy import strategyKingKeltner\n",
    "from vnpy.trader.app.ctaStrategy.strategy import strategyDualThrust\n",
    "\n",
    "#vnpy 1.7.0没有的\n",
    "#from vnpy.trader.app.ctaStrategy.strategy import strategyDoubleMa\n",
    "#from vnpy.trader.app.ctaStrategy.strategy import strategyBollChannel"
   ]
  },
  {
   "cell_type": "code",
   "execution_count": 13,
   "metadata": {
    "collapsed": false
   },
   "outputs": [
    {
     "name": "stdout",
     "output_type": "stream",
     "text": [
      "ok\n",
      "yes\n"
     ]
    }
   ],
   "source": [
    "class abc(object):\n",
    "    def __init__(self, name):\n",
    "        self.__name = name;\n",
    "        \n",
    "    def action(self):\n",
    "        print self.__name\n",
    "        print 'yes'\n",
    "\n",
    "the = abc('pika')\n",
    "the._abc__name = 'ok'\n",
    "the.action()"
   ]
  },
  {
   "cell_type": "code",
   "execution_count": 19,
   "metadata": {
    "collapsed": false
   },
   "outputs": [
    {
     "data": {
      "text/plain": [
       "1.69"
      ]
     },
     "execution_count": 19,
     "metadata": {},
     "output_type": "execute_result"
    }
   ],
   "source": [
    "a = 1.68621\n",
    "b = round(a, 2)\n",
    "b"
   ]
  },
  {
   "cell_type": "code",
   "execution_count": null,
   "metadata": {
    "collapsed": true
   },
   "outputs": [],
   "source": []
  }
 ],
 "metadata": {
  "kernelspec": {
   "display_name": "Python 2",
   "language": "python",
   "name": "python2"
  },
  "language_info": {
   "codemirror_mode": {
    "name": "ipython",
    "version": 2
   },
   "file_extension": ".py",
   "mimetype": "text/x-python",
   "name": "python",
   "nbconvert_exporter": "python",
   "pygments_lexer": "ipython2",
   "version": "2.7.13"
  }
 },
 "nbformat": 4,
 "nbformat_minor": 0
}
