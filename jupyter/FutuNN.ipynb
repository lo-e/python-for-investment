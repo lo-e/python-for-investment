{
 "cells": [
  {
   "cell_type": "code",
   "execution_count": 1,
   "metadata": {
    "collapsed": false
   },
   "outputs": [],
   "source": [
    "# -*- coding: utf-8 -*-\n",
    "\n",
    "import futuquant as ft\n",
    "import time\n",
    "import datetime"
   ]
  },
  {
   "cell_type": "code",
   "execution_count": 2,
   "metadata": {
    "collapsed": true
   },
   "outputs": [],
   "source": [
    "#服务器ip\n",
    "api_svr_ip = '119.29.141.202'\n",
    "#api_svr_ip = '127.0.0.1'\n",
    "\n",
    "#服务器端口\n",
    "api_svr_port = 11111\n",
    "\n",
    "#交易密码\n",
    "password = 123456\n",
    "#password = 970769\n",
    "\n",
    "#股票代码\n",
    "#code = 'HK.00700'\n",
    "code = 'SH.600380'\n",
    "\n",
    "#股票市场\n",
    "#market = 'HK'\n",
    "market = 'SH'\n",
    "\n",
    "#交易环境，实盘交易：0 模拟环境：1（美股不支持模拟）\n",
    "trade_env = 1"
   ]
  },
  {
   "cell_type": "code",
   "execution_count": 3,
   "metadata": {
    "collapsed": false
   },
   "outputs": [
    {
     "name": "stderr",
     "output_type": "stream",
     "text": [
      "Traceback (most recent call last):\n",
      "  File \"C:\\Users\\Rachel\\Anaconda2\\lib\\site-packages\\futuquant\\open_context.py\", line 462, in network_query\n",
      "    recv_buf = self.s.recv(5 * 1024 * 1024)\n",
      "timeout: timed out\n"
     ]
    },
    {
     "name": "stdout",
     "output_type": "stream",
     "text": [
      "wait to connect futunn plugin server\n"
     ]
    },
    {
     "name": "stderr",
     "output_type": "stream",
     "text": [
      "Traceback (most recent call last):\n",
      "  File \"C:\\Users\\Rachel\\Anaconda2\\lib\\site-packages\\futuquant\\open_context.py\", line 462, in network_query\n",
      "    recv_buf = self.s.recv(5 * 1024 * 1024)\n",
      "timeout: timed out\n"
     ]
    },
    {
     "name": "stdout",
     "output_type": "stream",
     "text": [
      "wait to connect futunn plugin server\n"
     ]
    },
    {
     "name": "stderr",
     "output_type": "stream",
     "text": [
      "Traceback (most recent call last):\n",
      "  File \"C:\\Users\\Rachel\\Anaconda2\\lib\\site-packages\\futuquant\\open_context.py\", line 462, in network_query\n",
      "    recv_buf = self.s.recv(5 * 1024 * 1024)\n",
      "timeout: timed out\n"
     ]
    },
    {
     "name": "stdout",
     "output_type": "stream",
     "text": [
      "wait to connect futunn plugin server\n"
     ]
    },
    {
     "name": "stderr",
     "output_type": "stream",
     "text": [
      "Traceback (most recent call last):\n",
      "  File \"C:\\Users\\Rachel\\Anaconda2\\lib\\site-packages\\futuquant\\open_context.py\", line 462, in network_query\n",
      "    recv_buf = self.s.recv(5 * 1024 * 1024)\n",
      "timeout: timed out\n"
     ]
    },
    {
     "name": "stdout",
     "output_type": "stream",
     "text": [
      "wait to connect futunn plugin server\n"
     ]
    },
    {
     "name": "stderr",
     "output_type": "stream",
     "text": [
      "Traceback (most recent call last):\n",
      "  File \"C:\\Users\\Rachel\\Anaconda2\\lib\\site-packages\\futuquant\\open_context.py\", line 462, in network_query\n",
      "    recv_buf = self.s.recv(5 * 1024 * 1024)\n",
      "timeout: timed out\n"
     ]
    },
    {
     "name": "stdout",
     "output_type": "stream",
     "text": [
      "wait to connect futunn plugin server\n"
     ]
    },
    {
     "name": "stderr",
     "output_type": "stream",
     "text": [
      "Traceback (most recent call last):\n",
      "  File \"C:\\Users\\Rachel\\Anaconda2\\lib\\site-packages\\futuquant\\open_context.py\", line 462, in network_query\n",
      "    recv_buf = self.s.recv(5 * 1024 * 1024)\n",
      "timeout: timed out\n"
     ]
    },
    {
     "name": "stdout",
     "output_type": "stream",
     "text": [
      "wait to connect futunn plugin server\n"
     ]
    },
    {
     "name": "stderr",
     "output_type": "stream",
     "text": [
      "Traceback (most recent call last):\n",
      "  File \"C:\\Users\\Rachel\\Anaconda2\\lib\\site-packages\\futuquant\\open_context.py\", line 462, in network_query\n",
      "    recv_buf = self.s.recv(5 * 1024 * 1024)\n",
      "timeout: timed out\n"
     ]
    },
    {
     "name": "stdout",
     "output_type": "stream",
     "text": [
      "wait to connect futunn plugin server\n"
     ]
    },
    {
     "name": "stderr",
     "output_type": "stream",
     "text": [
      "Traceback (most recent call last):\n",
      "  File \"C:\\Users\\Rachel\\Anaconda2\\lib\\site-packages\\futuquant\\open_context.py\", line 462, in network_query\n",
      "    recv_buf = self.s.recv(5 * 1024 * 1024)\n",
      "timeout: timed out\n"
     ]
    },
    {
     "name": "stdout",
     "output_type": "stream",
     "text": [
      "wait to connect futunn plugin server\n"
     ]
    },
    {
     "name": "stderr",
     "output_type": "stream",
     "text": [
      "Traceback (most recent call last):\n",
      "  File \"C:\\Users\\Rachel\\Anaconda2\\lib\\site-packages\\futuquant\\open_context.py\", line 462, in network_query\n",
      "    recv_buf = self.s.recv(5 * 1024 * 1024)\n",
      "timeout: timed out\n"
     ]
    },
    {
     "name": "stdout",
     "output_type": "stream",
     "text": [
      "wait to connect futunn plugin server\n"
     ]
    },
    {
     "name": "stderr",
     "output_type": "stream",
     "text": [
      "Traceback (most recent call last):\n",
      "  File \"C:\\Users\\Rachel\\Anaconda2\\lib\\site-packages\\futuquant\\open_context.py\", line 462, in network_query\n",
      "    recv_buf = self.s.recv(5 * 1024 * 1024)\n",
      "timeout: timed out\n"
     ]
    },
    {
     "name": "stdout",
     "output_type": "stream",
     "text": [
      "wait to connect futunn plugin server\n"
     ]
    },
    {
     "name": "stderr",
     "output_type": "stream",
     "text": [
      "Traceback (most recent call last):\n",
      "  File \"C:\\Users\\Rachel\\Anaconda2\\lib\\site-packages\\futuquant\\open_context.py\", line 462, in network_query\n",
      "    recv_buf = self.s.recv(5 * 1024 * 1024)\n",
      "timeout: timed out\n"
     ]
    },
    {
     "name": "stdout",
     "output_type": "stream",
     "text": [
      "wait to connect futunn plugin server\n"
     ]
    },
    {
     "name": "stderr",
     "output_type": "stream",
     "text": [
      "Traceback (most recent call last):\n",
      "  File \"C:\\Users\\Rachel\\Anaconda2\\lib\\site-packages\\futuquant\\open_context.py\", line 462, in network_query\n",
      "    recv_buf = self.s.recv(5 * 1024 * 1024)\n",
      "timeout: timed out\n"
     ]
    },
    {
     "name": "stdout",
     "output_type": "stream",
     "text": [
      "wait to connect futunn plugin server\n"
     ]
    },
    {
     "name": "stderr",
     "output_type": "stream",
     "text": [
      "Traceback (most recent call last):\n",
      "  File \"C:\\Users\\Rachel\\Anaconda2\\lib\\site-packages\\futuquant\\open_context.py\", line 462, in network_query\n",
      "    recv_buf = self.s.recv(5 * 1024 * 1024)\n",
      "error: [Errno 10054] \n"
     ]
    },
    {
     "name": "stdout",
     "output_type": "stream",
     "text": [
      "wait to connect futunn plugin server\n"
     ]
    },
    {
     "name": "stderr",
     "output_type": "stream",
     "text": [
      "Traceback (most recent call last):\n",
      "  File \"C:\\Users\\Rachel\\Anaconda2\\lib\\site-packages\\futuquant\\open_context.py\", line 462, in network_query\n",
      "    recv_buf = self.s.recv(5 * 1024 * 1024)\n",
      "error: [Errno 10054] \n"
     ]
    },
    {
     "name": "stdout",
     "output_type": "stream",
     "text": [
      "wait to connect futunn plugin server\n"
     ]
    },
    {
     "name": "stderr",
     "output_type": "stream",
     "text": [
      "Traceback (most recent call last):\n",
      "  File \"C:\\Users\\Rachel\\Anaconda2\\lib\\site-packages\\futuquant\\open_context.py\", line 462, in network_query\n",
      "    recv_buf = self.s.recv(5 * 1024 * 1024)\n",
      "error: [Errno 10054] \n"
     ]
    },
    {
     "name": "stdout",
     "output_type": "stream",
     "text": [
      "wait to connect futunn plugin server\n"
     ]
    },
    {
     "name": "stderr",
     "output_type": "stream",
     "text": [
      "Traceback (most recent call last):\n",
      "  File \"C:\\Users\\Rachel\\Anaconda2\\lib\\site-packages\\futuquant\\open_context.py\", line 462, in network_query\n",
      "    recv_buf = self.s.recv(5 * 1024 * 1024)\n",
      "error: [Errno 10054] \n"
     ]
    },
    {
     "name": "stdout",
     "output_type": "stream",
     "text": [
      "wait to connect futunn plugin server\n"
     ]
    },
    {
     "name": "stderr",
     "output_type": "stream",
     "text": [
      "Traceback (most recent call last):\n",
      "  File \"C:\\Users\\Rachel\\Anaconda2\\lib\\site-packages\\futuquant\\open_context.py\", line 462, in network_query\n",
      "    recv_buf = self.s.recv(5 * 1024 * 1024)\n",
      "error: [Errno 10054] \n"
     ]
    },
    {
     "name": "stdout",
     "output_type": "stream",
     "text": [
      "wait to connect futunn plugin server\n"
     ]
    },
    {
     "name": "stderr",
     "output_type": "stream",
     "text": [
      "Traceback (most recent call last):\n",
      "  File \"C:\\Users\\Rachel\\Anaconda2\\lib\\site-packages\\futuquant\\open_context.py\", line 462, in network_query\n",
      "    recv_buf = self.s.recv(5 * 1024 * 1024)\n",
      "error: [Errno 10054] \n"
     ]
    },
    {
     "name": "stdout",
     "output_type": "stream",
     "text": [
      "wait to connect futunn plugin server\n"
     ]
    },
    {
     "name": "stderr",
     "output_type": "stream",
     "text": [
      "Traceback (most recent call last):\n",
      "  File \"C:\\Users\\Rachel\\Anaconda2\\lib\\site-packages\\futuquant\\open_context.py\", line 462, in network_query\n",
      "    recv_buf = self.s.recv(5 * 1024 * 1024)\n",
      "error: [Errno 10054] \n"
     ]
    },
    {
     "name": "stdout",
     "output_type": "stream",
     "text": [
      "wait to connect futunn plugin server\n"
     ]
    },
    {
     "name": "stderr",
     "output_type": "stream",
     "text": [
      "Traceback (most recent call last):\n",
      "  File \"C:\\Users\\Rachel\\Anaconda2\\lib\\site-packages\\futuquant\\open_context.py\", line 462, in network_query\n",
      "    recv_buf = self.s.recv(5 * 1024 * 1024)\n",
      "error: [Errno 10054] \n"
     ]
    },
    {
     "name": "stdout",
     "output_type": "stream",
     "text": [
      "wait to connect futunn plugin server\n"
     ]
    },
    {
     "name": "stderr",
     "output_type": "stream",
     "text": [
      "Traceback (most recent call last):\n",
      "  File \"C:\\Users\\Rachel\\Anaconda2\\lib\\site-packages\\futuquant\\open_context.py\", line 462, in network_query\n",
      "    recv_buf = self.s.recv(5 * 1024 * 1024)\n",
      "error: [Errno 10054] \n"
     ]
    },
    {
     "name": "stdout",
     "output_type": "stream",
     "text": [
      "wait to connect futunn plugin server\n"
     ]
    },
    {
     "name": "stderr",
     "output_type": "stream",
     "text": [
      "Traceback (most recent call last):\n",
      "  File \"C:\\Users\\Rachel\\Anaconda2\\lib\\site-packages\\futuquant\\open_context.py\", line 462, in network_query\n",
      "    recv_buf = self.s.recv(5 * 1024 * 1024)\n",
      "error: [Errno 10054] \n"
     ]
    },
    {
     "name": "stdout",
     "output_type": "stream",
     "text": [
      "wait to connect futunn plugin server\n"
     ]
    },
    {
     "name": "stderr",
     "output_type": "stream",
     "text": [
      "Traceback (most recent call last):\n",
      "  File \"C:\\Users\\Rachel\\Anaconda2\\lib\\site-packages\\futuquant\\open_context.py\", line 462, in network_query\n",
      "    recv_buf = self.s.recv(5 * 1024 * 1024)\n",
      "error: [Errno 10054] \n"
     ]
    },
    {
     "name": "stdout",
     "output_type": "stream",
     "text": [
      "wait to connect futunn plugin server\n"
     ]
    },
    {
     "name": "stderr",
     "output_type": "stream",
     "text": [
      "Traceback (most recent call last):\n",
      "  File \"C:\\Users\\Rachel\\Anaconda2\\lib\\site-packages\\futuquant\\open_context.py\", line 462, in network_query\n",
      "    recv_buf = self.s.recv(5 * 1024 * 1024)\n",
      "error: [Errno 10054] \n"
     ]
    },
    {
     "name": "stdout",
     "output_type": "stream",
     "text": [
      "wait to connect futunn plugin server\n"
     ]
    },
    {
     "name": "stderr",
     "output_type": "stream",
     "text": [
      "Traceback (most recent call last):\n",
      "  File \"C:\\Users\\Rachel\\Anaconda2\\lib\\site-packages\\futuquant\\open_context.py\", line 462, in network_query\n",
      "    recv_buf = self.s.recv(5 * 1024 * 1024)\n",
      "error: [Errno 10054] \n"
     ]
    },
    {
     "name": "stdout",
     "output_type": "stream",
     "text": [
      "wait to connect futunn plugin server\n"
     ]
    },
    {
     "name": "stderr",
     "output_type": "stream",
     "text": [
      "Traceback (most recent call last):\n",
      "  File \"C:\\Users\\Rachel\\Anaconda2\\lib\\site-packages\\futuquant\\open_context.py\", line 462, in network_query\n",
      "    recv_buf = self.s.recv(5 * 1024 * 1024)\n",
      "error: [Errno 10054] \n"
     ]
    },
    {
     "name": "stdout",
     "output_type": "stream",
     "text": [
      "wait to connect futunn plugin server\n"
     ]
    },
    {
     "name": "stderr",
     "output_type": "stream",
     "text": [
      "Traceback (most recent call last):\n",
      "  File \"C:\\Users\\Rachel\\Anaconda2\\lib\\site-packages\\futuquant\\open_context.py\", line 462, in network_query\n",
      "    recv_buf = self.s.recv(5 * 1024 * 1024)\n",
      "error: [Errno 10054] \n"
     ]
    },
    {
     "name": "stdout",
     "output_type": "stream",
     "text": [
      "wait to connect futunn plugin server\n"
     ]
    },
    {
     "name": "stderr",
     "output_type": "stream",
     "text": [
      "Traceback (most recent call last):\n",
      "  File \"C:\\Users\\Rachel\\Anaconda2\\lib\\site-packages\\futuquant\\open_context.py\", line 462, in network_query\n",
      "    recv_buf = self.s.recv(5 * 1024 * 1024)\n",
      "error: [Errno 10054] \n"
     ]
    },
    {
     "name": "stdout",
     "output_type": "stream",
     "text": [
      "wait to connect futunn plugin server\n"
     ]
    },
    {
     "name": "stderr",
     "output_type": "stream",
     "text": [
      "Traceback (most recent call last):\n",
      "  File \"C:\\Users\\Rachel\\Anaconda2\\lib\\site-packages\\futuquant\\open_context.py\", line 462, in network_query\n",
      "    recv_buf = self.s.recv(5 * 1024 * 1024)\n",
      "error: [Errno 10054] \n"
     ]
    },
    {
     "name": "stdout",
     "output_type": "stream",
     "text": [
      "wait to connect futunn plugin server\n"
     ]
    },
    {
     "name": "stderr",
     "output_type": "stream",
     "text": [
      "Traceback (most recent call last):\n",
      "  File \"C:\\Users\\Rachel\\Anaconda2\\lib\\site-packages\\futuquant\\open_context.py\", line 462, in network_query\n",
      "    recv_buf = self.s.recv(5 * 1024 * 1024)\n",
      "error: [Errno 10054] \n"
     ]
    },
    {
     "name": "stdout",
     "output_type": "stream",
     "text": [
      "wait to connect futunn plugin server\n"
     ]
    },
    {
     "name": "stderr",
     "output_type": "stream",
     "text": [
      "Traceback (most recent call last):\n",
      "  File \"C:\\Users\\Rachel\\Anaconda2\\lib\\site-packages\\futuquant\\open_context.py\", line 462, in network_query\n",
      "    recv_buf = self.s.recv(5 * 1024 * 1024)\n",
      "error: [Errno 10054] \n"
     ]
    },
    {
     "name": "stdout",
     "output_type": "stream",
     "text": [
      "wait to connect futunn plugin server\n"
     ]
    },
    {
     "name": "stderr",
     "output_type": "stream",
     "text": [
      "Traceback (most recent call last):\n",
      "  File \"C:\\Users\\Rachel\\Anaconda2\\lib\\site-packages\\futuquant\\open_context.py\", line 462, in network_query\n",
      "    recv_buf = self.s.recv(5 * 1024 * 1024)\n",
      "error: [Errno 10054] \n"
     ]
    },
    {
     "name": "stdout",
     "output_type": "stream",
     "text": [
      "wait to connect futunn plugin server\n"
     ]
    },
    {
     "name": "stderr",
     "output_type": "stream",
     "text": [
      "Traceback (most recent call last):\n",
      "  File \"C:\\Users\\Rachel\\Anaconda2\\lib\\site-packages\\futuquant\\open_context.py\", line 462, in network_query\n",
      "    recv_buf = self.s.recv(5 * 1024 * 1024)\n",
      "error: [Errno 10054] \n"
     ]
    },
    {
     "name": "stdout",
     "output_type": "stream",
     "text": [
      "wait to connect futunn plugin server\n"
     ]
    },
    {
     "name": "stderr",
     "output_type": "stream",
     "text": [
      "Traceback (most recent call last):\n",
      "  File \"C:\\Users\\Rachel\\Anaconda2\\lib\\site-packages\\futuquant\\open_context.py\", line 462, in network_query\n",
      "    recv_buf = self.s.recv(5 * 1024 * 1024)\n",
      "error: [Errno 10054] \n"
     ]
    },
    {
     "name": "stdout",
     "output_type": "stream",
     "text": [
      "wait to connect futunn plugin server\n"
     ]
    },
    {
     "name": "stderr",
     "output_type": "stream",
     "text": [
      "Traceback (most recent call last):\n",
      "  File \"C:\\Users\\Rachel\\Anaconda2\\lib\\site-packages\\futuquant\\open_context.py\", line 462, in network_query\n",
      "    recv_buf = self.s.recv(5 * 1024 * 1024)\n",
      "error: [Errno 10054] \n"
     ]
    },
    {
     "name": "stdout",
     "output_type": "stream",
     "text": [
      "wait to connect futunn plugin server\n"
     ]
    },
    {
     "name": "stderr",
     "output_type": "stream",
     "text": [
      "Traceback (most recent call last):\n",
      "  File \"C:\\Users\\Rachel\\Anaconda2\\lib\\site-packages\\futuquant\\open_context.py\", line 462, in network_query\n",
      "    recv_buf = self.s.recv(5 * 1024 * 1024)\n",
      "error: [Errno 10054] \n"
     ]
    },
    {
     "name": "stdout",
     "output_type": "stream",
     "text": [
      "wait to connect futunn plugin server\n"
     ]
    },
    {
     "name": "stderr",
     "output_type": "stream",
     "text": [
      "Traceback (most recent call last):\n",
      "  File \"C:\\Users\\Rachel\\Anaconda2\\lib\\site-packages\\futuquant\\open_context.py\", line 462, in network_query\n",
      "    recv_buf = self.s.recv(5 * 1024 * 1024)\n",
      "error: [Errno 10054] \n"
     ]
    },
    {
     "name": "stdout",
     "output_type": "stream",
     "text": [
      "wait to connect futunn plugin server\n"
     ]
    },
    {
     "name": "stderr",
     "output_type": "stream",
     "text": [
      "Traceback (most recent call last):\n",
      "  File \"C:\\Users\\Rachel\\Anaconda2\\lib\\site-packages\\futuquant\\open_context.py\", line 462, in network_query\n",
      "    recv_buf = self.s.recv(5 * 1024 * 1024)\n",
      "error: [Errno 10054] \n"
     ]
    },
    {
     "name": "stdout",
     "output_type": "stream",
     "text": [
      "wait to connect futunn plugin server\n"
     ]
    },
    {
     "name": "stderr",
     "output_type": "stream",
     "text": [
      "Traceback (most recent call last):\n",
      "  File \"C:\\Users\\Rachel\\Anaconda2\\lib\\site-packages\\futuquant\\open_context.py\", line 462, in network_query\n",
      "    recv_buf = self.s.recv(5 * 1024 * 1024)\n",
      "error: [Errno 10054] \n"
     ]
    },
    {
     "name": "stdout",
     "output_type": "stream",
     "text": [
      "wait to connect futunn plugin server\n"
     ]
    },
    {
     "name": "stderr",
     "output_type": "stream",
     "text": [
      "Traceback (most recent call last):\n",
      "  File \"C:\\Users\\Rachel\\Anaconda2\\lib\\site-packages\\futuquant\\open_context.py\", line 462, in network_query\n",
      "    recv_buf = self.s.recv(5 * 1024 * 1024)\n",
      "error: [Errno 10054] \n"
     ]
    },
    {
     "name": "stdout",
     "output_type": "stream",
     "text": [
      "wait to connect futunn plugin server\n"
     ]
    },
    {
     "name": "stderr",
     "output_type": "stream",
     "text": [
      "Traceback (most recent call last):\n",
      "  File \"C:\\Users\\Rachel\\Anaconda2\\lib\\site-packages\\futuquant\\open_context.py\", line 462, in network_query\n",
      "    recv_buf = self.s.recv(5 * 1024 * 1024)\n",
      "error: [Errno 10054] \n"
     ]
    },
    {
     "name": "stdout",
     "output_type": "stream",
     "text": [
      "wait to connect futunn plugin server\n"
     ]
    },
    {
     "name": "stderr",
     "output_type": "stream",
     "text": [
      "Traceback (most recent call last):\n",
      "  File \"C:\\Users\\Rachel\\Anaconda2\\lib\\site-packages\\futuquant\\open_context.py\", line 462, in network_query\n",
      "    recv_buf = self.s.recv(5 * 1024 * 1024)\n",
      "error: [Errno 10054] \n"
     ]
    },
    {
     "name": "stdout",
     "output_type": "stream",
     "text": [
      "wait to connect futunn plugin server\n"
     ]
    },
    {
     "name": "stderr",
     "output_type": "stream",
     "text": [
      "Traceback (most recent call last):\n",
      "  File \"C:\\Users\\Rachel\\Anaconda2\\lib\\site-packages\\futuquant\\open_context.py\", line 462, in network_query\n",
      "    recv_buf = self.s.recv(5 * 1024 * 1024)\n",
      "error: [Errno 10054] \n"
     ]
    },
    {
     "name": "stdout",
     "output_type": "stream",
     "text": [
      "wait to connect futunn plugin server\n"
     ]
    },
    {
     "name": "stderr",
     "output_type": "stream",
     "text": [
      "Traceback (most recent call last):\n",
      "  File \"C:\\Users\\Rachel\\Anaconda2\\lib\\site-packages\\futuquant\\open_context.py\", line 462, in network_query\n",
      "    recv_buf = self.s.recv(5 * 1024 * 1024)\n",
      "error: [Errno 10054] \n"
     ]
    },
    {
     "name": "stdout",
     "output_type": "stream",
     "text": [
      "wait to connect futunn plugin server\n"
     ]
    },
    {
     "name": "stderr",
     "output_type": "stream",
     "text": [
      "Traceback (most recent call last):\n",
      "  File \"C:\\Users\\Rachel\\Anaconda2\\lib\\site-packages\\futuquant\\open_context.py\", line 462, in network_query\n",
      "    recv_buf = self.s.recv(5 * 1024 * 1024)\n",
      "error: [Errno 10054] \n"
     ]
    },
    {
     "name": "stdout",
     "output_type": "stream",
     "text": [
      "wait to connect futunn plugin server\n"
     ]
    },
    {
     "name": "stderr",
     "output_type": "stream",
     "text": [
      "Traceback (most recent call last):\n",
      "  File \"C:\\Users\\Rachel\\Anaconda2\\lib\\site-packages\\futuquant\\open_context.py\", line 462, in network_query\n",
      "    recv_buf = self.s.recv(5 * 1024 * 1024)\n",
      "error: [Errno 10054] \n"
     ]
    },
    {
     "name": "stdout",
     "output_type": "stream",
     "text": [
      "wait to connect futunn plugin server\n"
     ]
    },
    {
     "name": "stderr",
     "output_type": "stream",
     "text": [
      "Traceback (most recent call last):\n",
      "  File \"C:\\Users\\Rachel\\Anaconda2\\lib\\site-packages\\futuquant\\open_context.py\", line 462, in network_query\n",
      "    recv_buf = self.s.recv(5 * 1024 * 1024)\n",
      "error: [Errno 10054] \n"
     ]
    },
    {
     "name": "stdout",
     "output_type": "stream",
     "text": [
      "wait to connect futunn plugin server\n"
     ]
    },
    {
     "name": "stderr",
     "output_type": "stream",
     "text": [
      "Traceback (most recent call last):\n",
      "  File \"C:\\Users\\Rachel\\Anaconda2\\lib\\site-packages\\futuquant\\open_context.py\", line 462, in network_query\n",
      "    recv_buf = self.s.recv(5 * 1024 * 1024)\n",
      "error: [Errno 10054] \n"
     ]
    },
    {
     "name": "stdout",
     "output_type": "stream",
     "text": [
      "wait to connect futunn plugin server\n"
     ]
    },
    {
     "name": "stderr",
     "output_type": "stream",
     "text": [
      "Traceback (most recent call last):\n",
      "  File \"C:\\Users\\Rachel\\Anaconda2\\lib\\site-packages\\futuquant\\open_context.py\", line 462, in network_query\n",
      "    recv_buf = self.s.recv(5 * 1024 * 1024)\n",
      "error: [Errno 10054] \n"
     ]
    },
    {
     "name": "stdout",
     "output_type": "stream",
     "text": [
      "wait to connect futunn plugin server\n"
     ]
    },
    {
     "name": "stderr",
     "output_type": "stream",
     "text": [
      "Traceback (most recent call last):\n",
      "  File \"C:\\Users\\Rachel\\Anaconda2\\lib\\site-packages\\futuquant\\open_context.py\", line 462, in network_query\n",
      "    recv_buf = self.s.recv(5 * 1024 * 1024)\n",
      "error: [Errno 10054] \n"
     ]
    },
    {
     "name": "stdout",
     "output_type": "stream",
     "text": [
      "wait to connect futunn plugin server\n"
     ]
    },
    {
     "name": "stderr",
     "output_type": "stream",
     "text": [
      "Traceback (most recent call last):\n",
      "  File \"C:\\Users\\Rachel\\Anaconda2\\lib\\site-packages\\futuquant\\open_context.py\", line 462, in network_query\n",
      "    recv_buf = self.s.recv(5 * 1024 * 1024)\n",
      "error: [Errno 10054] \n"
     ]
    },
    {
     "name": "stdout",
     "output_type": "stream",
     "text": [
      "wait to connect futunn plugin server\n"
     ]
    },
    {
     "name": "stderr",
     "output_type": "stream",
     "text": [
      "Traceback (most recent call last):\n",
      "  File \"C:\\Users\\Rachel\\Anaconda2\\lib\\site-packages\\futuquant\\open_context.py\", line 462, in network_query\n",
      "    recv_buf = self.s.recv(5 * 1024 * 1024)\n",
      "error: [Errno 10054] \n"
     ]
    },
    {
     "name": "stdout",
     "output_type": "stream",
     "text": [
      "wait to connect futunn plugin server\n"
     ]
    },
    {
     "name": "stderr",
     "output_type": "stream",
     "text": [
      "Traceback (most recent call last):\n",
      "  File \"C:\\Users\\Rachel\\Anaconda2\\lib\\site-packages\\futuquant\\open_context.py\", line 462, in network_query\n",
      "    recv_buf = self.s.recv(5 * 1024 * 1024)\n",
      "error: [Errno 10054] \n"
     ]
    },
    {
     "name": "stdout",
     "output_type": "stream",
     "text": [
      "wait to connect futunn plugin server\n"
     ]
    },
    {
     "name": "stderr",
     "output_type": "stream",
     "text": [
      "Traceback (most recent call last):\n",
      "  File \"C:\\Users\\Rachel\\Anaconda2\\lib\\site-packages\\futuquant\\open_context.py\", line 462, in network_query\n",
      "    recv_buf = self.s.recv(5 * 1024 * 1024)\n",
      "error: [Errno 10054] \n"
     ]
    },
    {
     "name": "stdout",
     "output_type": "stream",
     "text": [
      "wait to connect futunn plugin server\n"
     ]
    },
    {
     "name": "stderr",
     "output_type": "stream",
     "text": [
      "Traceback (most recent call last):\n",
      "  File \"C:\\Users\\Rachel\\Anaconda2\\lib\\site-packages\\futuquant\\open_context.py\", line 462, in network_query\n",
      "    recv_buf = self.s.recv(5 * 1024 * 1024)\n",
      "error: [Errno 10054] \n"
     ]
    },
    {
     "name": "stdout",
     "output_type": "stream",
     "text": [
      "wait to connect futunn plugin server\n"
     ]
    },
    {
     "name": "stderr",
     "output_type": "stream",
     "text": [
      "Traceback (most recent call last):\n",
      "  File \"C:\\Users\\Rachel\\Anaconda2\\lib\\site-packages\\futuquant\\open_context.py\", line 462, in network_query\n",
      "    recv_buf = self.s.recv(5 * 1024 * 1024)\n",
      "error: [Errno 10054] \n"
     ]
    },
    {
     "name": "stdout",
     "output_type": "stream",
     "text": [
      "wait to connect futunn plugin server\n"
     ]
    },
    {
     "name": "stderr",
     "output_type": "stream",
     "text": [
      "Traceback (most recent call last):\n",
      "  File \"C:\\Users\\Rachel\\Anaconda2\\lib\\site-packages\\futuquant\\open_context.py\", line 462, in network_query\n",
      "    recv_buf = self.s.recv(5 * 1024 * 1024)\n",
      "error: [Errno 10054] \n"
     ]
    },
    {
     "name": "stdout",
     "output_type": "stream",
     "text": [
      "wait to connect futunn plugin server\n"
     ]
    },
    {
     "name": "stderr",
     "output_type": "stream",
     "text": [
      "Traceback (most recent call last):\n",
      "  File \"C:\\Users\\Rachel\\Anaconda2\\lib\\site-packages\\futuquant\\open_context.py\", line 462, in network_query\n",
      "    recv_buf = self.s.recv(5 * 1024 * 1024)\n",
      "error: [Errno 10054] \n"
     ]
    },
    {
     "name": "stdout",
     "output_type": "stream",
     "text": [
      "wait to connect futunn plugin server\n"
     ]
    },
    {
     "name": "stderr",
     "output_type": "stream",
     "text": [
      "Traceback (most recent call last):\n",
      "  File \"C:\\Users\\Rachel\\Anaconda2\\lib\\site-packages\\futuquant\\open_context.py\", line 462, in network_query\n",
      "    recv_buf = self.s.recv(5 * 1024 * 1024)\n",
      "error: [Errno 10054] \n"
     ]
    },
    {
     "name": "stdout",
     "output_type": "stream",
     "text": [
      "wait to connect futunn plugin server\n"
     ]
    },
    {
     "name": "stderr",
     "output_type": "stream",
     "text": [
      "Traceback (most recent call last):\n",
      "  File \"C:\\Users\\Rachel\\Anaconda2\\lib\\site-packages\\futuquant\\open_context.py\", line 462, in network_query\n",
      "    recv_buf = self.s.recv(5 * 1024 * 1024)\n",
      "error: [Errno 10054] \n"
     ]
    },
    {
     "name": "stdout",
     "output_type": "stream",
     "text": [
      "wait to connect futunn plugin server\n"
     ]
    },
    {
     "name": "stderr",
     "output_type": "stream",
     "text": [
      "Traceback (most recent call last):\n",
      "  File \"C:\\Users\\Rachel\\Anaconda2\\lib\\site-packages\\futuquant\\open_context.py\", line 462, in network_query\n",
      "    recv_buf = self.s.recv(5 * 1024 * 1024)\n",
      "error: [Errno 10054] \n"
     ]
    },
    {
     "name": "stdout",
     "output_type": "stream",
     "text": [
      "wait to connect futunn plugin server\n"
     ]
    },
    {
     "name": "stderr",
     "output_type": "stream",
     "text": [
      "Traceback (most recent call last):\n",
      "  File \"C:\\Users\\Rachel\\Anaconda2\\lib\\site-packages\\futuquant\\open_context.py\", line 462, in network_query\n",
      "    recv_buf = self.s.recv(5 * 1024 * 1024)\n",
      "error: [Errno 10054] \n"
     ]
    },
    {
     "name": "stdout",
     "output_type": "stream",
     "text": [
      "wait to connect futunn plugin server\n"
     ]
    },
    {
     "name": "stderr",
     "output_type": "stream",
     "text": [
      "Traceback (most recent call last):\n",
      "  File \"C:\\Users\\Rachel\\Anaconda2\\lib\\site-packages\\futuquant\\open_context.py\", line 462, in network_query\n",
      "    recv_buf = self.s.recv(5 * 1024 * 1024)\n",
      "error: [Errno 10054] \n"
     ]
    },
    {
     "name": "stdout",
     "output_type": "stream",
     "text": [
      "wait to connect futunn plugin server\n"
     ]
    },
    {
     "name": "stderr",
     "output_type": "stream",
     "text": [
      "Traceback (most recent call last):\n",
      "  File \"C:\\Users\\Rachel\\Anaconda2\\lib\\site-packages\\futuquant\\open_context.py\", line 462, in network_query\n",
      "    recv_buf = self.s.recv(5 * 1024 * 1024)\n",
      "error: [Errno 10054] \n"
     ]
    },
    {
     "name": "stdout",
     "output_type": "stream",
     "text": [
      "wait to connect futunn plugin server\n"
     ]
    },
    {
     "name": "stderr",
     "output_type": "stream",
     "text": [
      "Traceback (most recent call last):\n",
      "  File \"C:\\Users\\Rachel\\Anaconda2\\lib\\site-packages\\futuquant\\open_context.py\", line 462, in network_query\n",
      "    recv_buf = self.s.recv(5 * 1024 * 1024)\n",
      "error: [Errno 10054] \n"
     ]
    },
    {
     "name": "stdout",
     "output_type": "stream",
     "text": [
      "wait to connect futunn plugin server\n"
     ]
    },
    {
     "name": "stderr",
     "output_type": "stream",
     "text": [
      "Traceback (most recent call last):\n",
      "  File \"C:\\Users\\Rachel\\Anaconda2\\lib\\site-packages\\futuquant\\open_context.py\", line 462, in network_query\n",
      "    recv_buf = self.s.recv(5 * 1024 * 1024)\n",
      "error: [Errno 10054] \n"
     ]
    },
    {
     "name": "stdout",
     "output_type": "stream",
     "text": [
      "wait to connect futunn plugin server\n"
     ]
    },
    {
     "name": "stderr",
     "output_type": "stream",
     "text": [
      "Traceback (most recent call last):\n",
      "  File \"C:\\Users\\Rachel\\Anaconda2\\lib\\site-packages\\futuquant\\open_context.py\", line 462, in network_query\n",
      "    recv_buf = self.s.recv(5 * 1024 * 1024)\n",
      "error: [Errno 10054] \n"
     ]
    },
    {
     "name": "stdout",
     "output_type": "stream",
     "text": [
      "wait to connect futunn plugin server\n"
     ]
    },
    {
     "name": "stderr",
     "output_type": "stream",
     "text": [
      "Traceback (most recent call last):\n",
      "  File \"C:\\Users\\Rachel\\Anaconda2\\lib\\site-packages\\futuquant\\open_context.py\", line 462, in network_query\n",
      "    recv_buf = self.s.recv(5 * 1024 * 1024)\n",
      "error: [Errno 10054] \n"
     ]
    },
    {
     "name": "stdout",
     "output_type": "stream",
     "text": [
      "wait to connect futunn plugin server\n"
     ]
    },
    {
     "name": "stderr",
     "output_type": "stream",
     "text": [
      "Traceback (most recent call last):\n",
      "  File \"C:\\Users\\Rachel\\Anaconda2\\lib\\site-packages\\futuquant\\open_context.py\", line 462, in network_query\n",
      "    recv_buf = self.s.recv(5 * 1024 * 1024)\n",
      "error: [Errno 10054] \n"
     ]
    },
    {
     "name": "stdout",
     "output_type": "stream",
     "text": [
      "wait to connect futunn plugin server\n"
     ]
    },
    {
     "name": "stderr",
     "output_type": "stream",
     "text": [
      "Traceback (most recent call last):\n",
      "  File \"C:\\Users\\Rachel\\Anaconda2\\lib\\site-packages\\futuquant\\open_context.py\", line 462, in network_query\n",
      "    recv_buf = self.s.recv(5 * 1024 * 1024)\n",
      "error: [Errno 10054] \n"
     ]
    },
    {
     "name": "stdout",
     "output_type": "stream",
     "text": [
      "wait to connect futunn plugin server\n"
     ]
    },
    {
     "name": "stderr",
     "output_type": "stream",
     "text": [
      "Traceback (most recent call last):\n",
      "  File \"C:\\Users\\Rachel\\Anaconda2\\lib\\site-packages\\futuquant\\open_context.py\", line 462, in network_query\n",
      "    recv_buf = self.s.recv(5 * 1024 * 1024)\n",
      "error: [Errno 10054] \n"
     ]
    },
    {
     "name": "stdout",
     "output_type": "stream",
     "text": [
      "wait to connect futunn plugin server\n"
     ]
    },
    {
     "name": "stderr",
     "output_type": "stream",
     "text": [
      "Traceback (most recent call last):\n",
      "  File \"C:\\Users\\Rachel\\Anaconda2\\lib\\site-packages\\futuquant\\open_context.py\", line 462, in network_query\n",
      "    recv_buf = self.s.recv(5 * 1024 * 1024)\n",
      "error: [Errno 10054] \n"
     ]
    },
    {
     "name": "stdout",
     "output_type": "stream",
     "text": [
      "wait to connect futunn plugin server\n"
     ]
    },
    {
     "name": "stderr",
     "output_type": "stream",
     "text": [
      "Traceback (most recent call last):\n",
      "  File \"C:\\Users\\Rachel\\Anaconda2\\lib\\site-packages\\futuquant\\open_context.py\", line 462, in network_query\n",
      "    recv_buf = self.s.recv(5 * 1024 * 1024)\n",
      "error: [Errno 10054] \n"
     ]
    },
    {
     "name": "stdout",
     "output_type": "stream",
     "text": [
      "wait to connect futunn plugin server\n"
     ]
    },
    {
     "name": "stderr",
     "output_type": "stream",
     "text": [
      "Traceback (most recent call last):\n",
      "  File \"C:\\Users\\Rachel\\Anaconda2\\lib\\site-packages\\futuquant\\open_context.py\", line 462, in network_query\n",
      "    recv_buf = self.s.recv(5 * 1024 * 1024)\n",
      "error: [Errno 10054] \n"
     ]
    },
    {
     "name": "stdout",
     "output_type": "stream",
     "text": [
      "wait to connect futunn plugin server\n"
     ]
    },
    {
     "name": "stderr",
     "output_type": "stream",
     "text": [
      "Traceback (most recent call last):\n",
      "  File \"C:\\Users\\Rachel\\Anaconda2\\lib\\site-packages\\futuquant\\open_context.py\", line 462, in network_query\n",
      "    recv_buf = self.s.recv(5 * 1024 * 1024)\n",
      "error: [Errno 10054] \n"
     ]
    },
    {
     "name": "stdout",
     "output_type": "stream",
     "text": [
      "wait to connect futunn plugin server\n"
     ]
    },
    {
     "name": "stderr",
     "output_type": "stream",
     "text": [
      "Traceback (most recent call last):\n",
      "  File \"C:\\Users\\Rachel\\Anaconda2\\lib\\site-packages\\futuquant\\open_context.py\", line 462, in network_query\n",
      "    recv_buf = self.s.recv(5 * 1024 * 1024)\n",
      "error: [Errno 10054] \n"
     ]
    },
    {
     "name": "stdout",
     "output_type": "stream",
     "text": [
      "wait to connect futunn plugin server\n"
     ]
    },
    {
     "name": "stderr",
     "output_type": "stream",
     "text": [
      "Traceback (most recent call last):\n",
      "  File \"C:\\Users\\Rachel\\Anaconda2\\lib\\site-packages\\futuquant\\open_context.py\", line 462, in network_query\n",
      "    recv_buf = self.s.recv(5 * 1024 * 1024)\n",
      "error: [Errno 10054] \n"
     ]
    },
    {
     "name": "stdout",
     "output_type": "stream",
     "text": [
      "wait to connect futunn plugin server\n"
     ]
    },
    {
     "name": "stderr",
     "output_type": "stream",
     "text": [
      "Traceback (most recent call last):\n",
      "  File \"C:\\Users\\Rachel\\Anaconda2\\lib\\site-packages\\futuquant\\open_context.py\", line 462, in network_query\n",
      "    recv_buf = self.s.recv(5 * 1024 * 1024)\n",
      "error: [Errno 10054] \n"
     ]
    },
    {
     "name": "stdout",
     "output_type": "stream",
     "text": [
      "wait to connect futunn plugin server\n"
     ]
    },
    {
     "name": "stderr",
     "output_type": "stream",
     "text": [
      "Traceback (most recent call last):\n",
      "  File \"C:\\Users\\Rachel\\Anaconda2\\lib\\site-packages\\futuquant\\open_context.py\", line 462, in network_query\n",
      "    recv_buf = self.s.recv(5 * 1024 * 1024)\n",
      "error: [Errno 10054] \n"
     ]
    },
    {
     "name": "stdout",
     "output_type": "stream",
     "text": [
      "wait to connect futunn plugin server\n"
     ]
    },
    {
     "name": "stderr",
     "output_type": "stream",
     "text": [
      "Traceback (most recent call last):\n",
      "  File \"C:\\Users\\Rachel\\Anaconda2\\lib\\site-packages\\futuquant\\open_context.py\", line 462, in network_query\n",
      "    recv_buf = self.s.recv(5 * 1024 * 1024)\n",
      "error: [Errno 10054] \n"
     ]
    },
    {
     "name": "stdout",
     "output_type": "stream",
     "text": [
      "wait to connect futunn plugin server\n"
     ]
    },
    {
     "name": "stderr",
     "output_type": "stream",
     "text": [
      "Traceback (most recent call last):\n",
      "  File \"C:\\Users\\Rachel\\Anaconda2\\lib\\site-packages\\futuquant\\open_context.py\", line 462, in network_query\n",
      "    recv_buf = self.s.recv(5 * 1024 * 1024)\n",
      "error: [Errno 10054] \n"
     ]
    },
    {
     "name": "stdout",
     "output_type": "stream",
     "text": [
      "wait to connect futunn plugin server\n"
     ]
    },
    {
     "name": "stderr",
     "output_type": "stream",
     "text": [
      "Traceback (most recent call last):\n",
      "  File \"C:\\Users\\Rachel\\Anaconda2\\lib\\site-packages\\futuquant\\open_context.py\", line 462, in network_query\n",
      "    recv_buf = self.s.recv(5 * 1024 * 1024)\n",
      "error: [Errno 10054] \n"
     ]
    },
    {
     "name": "stdout",
     "output_type": "stream",
     "text": [
      "wait to connect futunn plugin server\n"
     ]
    },
    {
     "name": "stderr",
     "output_type": "stream",
     "text": [
      "Traceback (most recent call last):\n",
      "  File \"C:\\Users\\Rachel\\Anaconda2\\lib\\site-packages\\futuquant\\open_context.py\", line 462, in network_query\n",
      "    recv_buf = self.s.recv(5 * 1024 * 1024)\n",
      "error: [Errno 10054] \n"
     ]
    },
    {
     "name": "stdout",
     "output_type": "stream",
     "text": [
      "wait to connect futunn plugin server\n"
     ]
    },
    {
     "name": "stderr",
     "output_type": "stream",
     "text": [
      "Traceback (most recent call last):\n",
      "  File \"C:\\Users\\Rachel\\Anaconda2\\lib\\site-packages\\futuquant\\open_context.py\", line 462, in network_query\n",
      "    recv_buf = self.s.recv(5 * 1024 * 1024)\n",
      "error: [Errno 10054] \n"
     ]
    },
    {
     "name": "stdout",
     "output_type": "stream",
     "text": [
      "wait to connect futunn plugin server\n"
     ]
    },
    {
     "name": "stderr",
     "output_type": "stream",
     "text": [
      "Traceback (most recent call last):\n",
      "  File \"C:\\Users\\Rachel\\Anaconda2\\lib\\site-packages\\futuquant\\open_context.py\", line 462, in network_query\n",
      "    recv_buf = self.s.recv(5 * 1024 * 1024)\n",
      "error: [Errno 10054] \n"
     ]
    },
    {
     "name": "stdout",
     "output_type": "stream",
     "text": [
      "wait to connect futunn plugin server\n"
     ]
    },
    {
     "name": "stderr",
     "output_type": "stream",
     "text": [
      "Traceback (most recent call last):\n",
      "  File \"C:\\Users\\Rachel\\Anaconda2\\lib\\site-packages\\futuquant\\open_context.py\", line 462, in network_query\n",
      "    recv_buf = self.s.recv(5 * 1024 * 1024)\n",
      "error: [Errno 10054] \n"
     ]
    },
    {
     "name": "stdout",
     "output_type": "stream",
     "text": [
      "wait to connect futunn plugin server\n"
     ]
    },
    {
     "name": "stderr",
     "output_type": "stream",
     "text": [
      "Traceback (most recent call last):\n",
      "  File \"C:\\Users\\Rachel\\Anaconda2\\lib\\site-packages\\futuquant\\open_context.py\", line 462, in network_query\n",
      "    recv_buf = self.s.recv(5 * 1024 * 1024)\n",
      "error: [Errno 10054] \n"
     ]
    },
    {
     "name": "stdout",
     "output_type": "stream",
     "text": [
      "wait to connect futunn plugin server\n"
     ]
    },
    {
     "name": "stderr",
     "output_type": "stream",
     "text": [
      "Traceback (most recent call last):\n",
      "  File \"C:\\Users\\Rachel\\Anaconda2\\lib\\site-packages\\futuquant\\open_context.py\", line 462, in network_query\n",
      "    recv_buf = self.s.recv(5 * 1024 * 1024)\n",
      "error: [Errno 10054] \n"
     ]
    },
    {
     "name": "stdout",
     "output_type": "stream",
     "text": [
      "wait to connect futunn plugin server\n"
     ]
    },
    {
     "name": "stderr",
     "output_type": "stream",
     "text": [
      "Traceback (most recent call last):\n",
      "  File \"C:\\Users\\Rachel\\Anaconda2\\lib\\site-packages\\futuquant\\open_context.py\", line 462, in network_query\n",
      "    recv_buf = self.s.recv(5 * 1024 * 1024)\n",
      "error: [Errno 10054] \n"
     ]
    },
    {
     "name": "stdout",
     "output_type": "stream",
     "text": [
      "wait to connect futunn plugin server\n"
     ]
    },
    {
     "name": "stderr",
     "output_type": "stream",
     "text": [
      "Traceback (most recent call last):\n",
      "  File \"C:\\Users\\Rachel\\Anaconda2\\lib\\site-packages\\futuquant\\open_context.py\", line 462, in network_query\n",
      "    recv_buf = self.s.recv(5 * 1024 * 1024)\n",
      "error: [Errno 10054] \n"
     ]
    },
    {
     "name": "stdout",
     "output_type": "stream",
     "text": [
      "wait to connect futunn plugin server\n"
     ]
    },
    {
     "name": "stderr",
     "output_type": "stream",
     "text": [
      "Traceback (most recent call last):\n",
      "  File \"C:\\Users\\Rachel\\Anaconda2\\lib\\site-packages\\futuquant\\open_context.py\", line 462, in network_query\n",
      "    recv_buf = self.s.recv(5 * 1024 * 1024)\n",
      "error: [Errno 10054] \n"
     ]
    },
    {
     "name": "stdout",
     "output_type": "stream",
     "text": [
      "wait to connect futunn plugin server\n"
     ]
    },
    {
     "name": "stderr",
     "output_type": "stream",
     "text": [
      "Traceback (most recent call last):\n",
      "  File \"C:\\Users\\Rachel\\Anaconda2\\lib\\site-packages\\futuquant\\open_context.py\", line 462, in network_query\n",
      "    recv_buf = self.s.recv(5 * 1024 * 1024)\n",
      "error: [Errno 10054] \n"
     ]
    },
    {
     "name": "stdout",
     "output_type": "stream",
     "text": [
      "wait to connect futunn plugin server\n"
     ]
    },
    {
     "name": "stderr",
     "output_type": "stream",
     "text": [
      "Traceback (most recent call last):\n",
      "  File \"C:\\Users\\Rachel\\Anaconda2\\lib\\site-packages\\futuquant\\open_context.py\", line 462, in network_query\n",
      "    recv_buf = self.s.recv(5 * 1024 * 1024)\n",
      "error: [Errno 10054] \n"
     ]
    },
    {
     "name": "stdout",
     "output_type": "stream",
     "text": [
      "wait to connect futunn plugin server\n"
     ]
    },
    {
     "name": "stderr",
     "output_type": "stream",
     "text": [
      "Traceback (most recent call last):\n",
      "  File \"C:\\Users\\Rachel\\Anaconda2\\lib\\site-packages\\futuquant\\open_context.py\", line 462, in network_query\n",
      "    recv_buf = self.s.recv(5 * 1024 * 1024)\n",
      "error: [Errno 10054] \n"
     ]
    },
    {
     "name": "stdout",
     "output_type": "stream",
     "text": [
      "wait to connect futunn plugin server\n"
     ]
    },
    {
     "name": "stderr",
     "output_type": "stream",
     "text": [
      "Traceback (most recent call last):\n",
      "  File \"C:\\Users\\Rachel\\Anaconda2\\lib\\site-packages\\futuquant\\open_context.py\", line 462, in network_query\n",
      "    recv_buf = self.s.recv(5 * 1024 * 1024)\n",
      "error: [Errno 10054] \n"
     ]
    },
    {
     "name": "stdout",
     "output_type": "stream",
     "text": [
      "wait to connect futunn plugin server\n"
     ]
    },
    {
     "name": "stderr",
     "output_type": "stream",
     "text": [
      "Traceback (most recent call last):\n",
      "  File \"C:\\Users\\Rachel\\Anaconda2\\lib\\site-packages\\futuquant\\open_context.py\", line 462, in network_query\n",
      "    recv_buf = self.s.recv(5 * 1024 * 1024)\n",
      "error: [Errno 10054] \n"
     ]
    },
    {
     "name": "stdout",
     "output_type": "stream",
     "text": [
      "wait to connect futunn plugin server\n"
     ]
    },
    {
     "name": "stderr",
     "output_type": "stream",
     "text": [
      "Traceback (most recent call last):\n",
      "  File \"C:\\Users\\Rachel\\Anaconda2\\lib\\site-packages\\futuquant\\open_context.py\", line 462, in network_query\n",
      "    recv_buf = self.s.recv(5 * 1024 * 1024)\n",
      "error: [Errno 10054] \n"
     ]
    },
    {
     "name": "stdout",
     "output_type": "stream",
     "text": [
      "wait to connect futunn plugin server\n"
     ]
    },
    {
     "name": "stderr",
     "output_type": "stream",
     "text": [
      "Traceback (most recent call last):\n",
      "  File \"C:\\Users\\Rachel\\Anaconda2\\lib\\site-packages\\futuquant\\open_context.py\", line 462, in network_query\n",
      "    recv_buf = self.s.recv(5 * 1024 * 1024)\n",
      "error: [Errno 10054] \n"
     ]
    },
    {
     "name": "stdout",
     "output_type": "stream",
     "text": [
      "wait to connect futunn plugin server\n"
     ]
    },
    {
     "name": "stderr",
     "output_type": "stream",
     "text": [
      "Traceback (most recent call last):\n",
      "  File \"C:\\Users\\Rachel\\Anaconda2\\lib\\site-packages\\futuquant\\open_context.py\", line 462, in network_query\n",
      "    recv_buf = self.s.recv(5 * 1024 * 1024)\n",
      "error: [Errno 10054] \n"
     ]
    },
    {
     "name": "stdout",
     "output_type": "stream",
     "text": [
      "wait to connect futunn plugin server\n"
     ]
    },
    {
     "name": "stderr",
     "output_type": "stream",
     "text": [
      "Traceback (most recent call last):\n",
      "  File \"C:\\Users\\Rachel\\Anaconda2\\lib\\site-packages\\futuquant\\open_context.py\", line 462, in network_query\n",
      "    recv_buf = self.s.recv(5 * 1024 * 1024)\n",
      "error: [Errno 10054] \n"
     ]
    },
    {
     "name": "stdout",
     "output_type": "stream",
     "text": [
      "wait to connect futunn plugin server\n"
     ]
    },
    {
     "name": "stderr",
     "output_type": "stream",
     "text": [
      "Traceback (most recent call last):\n",
      "  File \"C:\\Users\\Rachel\\Anaconda2\\lib\\site-packages\\futuquant\\open_context.py\", line 462, in network_query\n",
      "    recv_buf = self.s.recv(5 * 1024 * 1024)\n",
      "error: [Errno 10054] \n"
     ]
    },
    {
     "name": "stdout",
     "output_type": "stream",
     "text": [
      "wait to connect futunn plugin server\n"
     ]
    },
    {
     "name": "stderr",
     "output_type": "stream",
     "text": [
      "Traceback (most recent call last):\n",
      "  File \"C:\\Users\\Rachel\\Anaconda2\\lib\\site-packages\\futuquant\\open_context.py\", line 462, in network_query\n",
      "    recv_buf = self.s.recv(5 * 1024 * 1024)\n",
      "error: [Errno 10054] \n"
     ]
    },
    {
     "name": "stdout",
     "output_type": "stream",
     "text": [
      "wait to connect futunn plugin server\n"
     ]
    },
    {
     "name": "stderr",
     "output_type": "stream",
     "text": [
      "Traceback (most recent call last):\n",
      "  File \"C:\\Users\\Rachel\\Anaconda2\\lib\\site-packages\\futuquant\\open_context.py\", line 462, in network_query\n",
      "    recv_buf = self.s.recv(5 * 1024 * 1024)\n",
      "error: [Errno 10054] \n"
     ]
    },
    {
     "name": "stdout",
     "output_type": "stream",
     "text": [
      "wait to connect futunn plugin server\n"
     ]
    },
    {
     "name": "stderr",
     "output_type": "stream",
     "text": [
      "Traceback (most recent call last):\n",
      "  File \"C:\\Users\\Rachel\\Anaconda2\\lib\\site-packages\\futuquant\\open_context.py\", line 510, in _socket_create_and_loop_connect\n",
      "    self.s.connect((self.__host, self.__port))\n",
      "  File \"C:\\Users\\Rachel\\Anaconda2\\lib\\socket.py\", line 228, in meth\n",
      "    return getattr(self._sock,name)(*args)\n",
      "error: [Errno 10061] \n"
     ]
    },
    {
     "name": "stdout",
     "output_type": "stream",
     "text": [
      "socket connect err:ERROR. [Errno 10061] \n",
      "wait to connect futunn plugin server\n"
     ]
    },
    {
     "data": {
      "text/plain": [
       "(0, None)"
      ]
     },
     "execution_count": 3,
     "metadata": {},
     "output_type": "execute_result"
    }
   ],
   "source": [
    "'''\n",
    "行情上下文\n",
    "'''\n",
    "#实例化行情上下文对象\n",
    "quote_ctx = ft.OpenQuoteContext(host = api_svr_ip, port = api_svr_port)\n",
    "\n",
    "#订阅高频数据查询\n",
    "quote_ctx.subscribe(code, 'ORDER_BOOK', push = False) #摆盘\n",
    "quote_ctx.subscribe(code, 'QUOTE', push = False) #报价\n",
    "quote_ctx.subscribe(code, 'TICKER', push = False) #逐笔\n",
    "quote_ctx.subscribe(code, 'K_DAY', push = False) #日K\n",
    "quote_ctx.subscribe(code, 'RT_DATA', push = False) #分时\n",
    "quote_ctx.subscribe(code, 'BROKER', push = False) #经济队列\n",
    "\n",
    "#查看当前订阅\n",
    "#ret_code, ret_data = quote_ctx.query_subscription(0)\n",
    "#print ret_data"
   ]
  },
  {
   "cell_type": "code",
   "execution_count": null,
   "metadata": {
    "collapsed": false
   },
   "outputs": [],
   "source": [
    "'''\n",
    "异步控制\n",
    "'''\n",
    "#开启异步数据接收\n",
    "quote_ctx.start()\n",
    "\n",
    "#停止异步数据接受\n",
    "quote_ctx.stop()\n",
    "\n",
    "#设置用于异步处理数据的回调对象\n",
    "quote_ctx.set_handler('')"
   ]
  },
  {
   "cell_type": "code",
   "execution_count": null,
   "metadata": {
    "collapsed": false
   },
   "outputs": [],
   "source": [
    "'''\n",
    "低频行情\n",
    "'''\n",
    "#获取交易日\n",
    "#ret, trading_days = quote_ctx.get_trading_days(market=market, '1970-01-02', '2017-01-01')\n",
    "\n",
    "#获取股票信息\n",
    "#ret, stock_list = quote_ctx.get_stock_basicinfo(market)\n",
    "\n",
    "#获取历史k线\n",
    "#ret, history_kline = quote_ctx.get_history_kline(code, '2016-01-01', '2017-01-01', 'K_DAY', 'qfq')\n",
    "\n",
    "#获取复权因子\n",
    "#ret, autype_list = quote_ctx.get_autype_list([code])\n",
    "\n",
    "#获取市场快照\n",
    "#ret, snapshot = quote_ctx.get_market_snapshot([code])\n",
    "\n",
    "#获取板块集合下的子版块列表\n",
    "#ret, plate_list = quote_ctx.get_plate_list(market, 'ALL')\n",
    "#print plate_list\n",
    "\n",
    "#获取板块下的股票列表\n",
    "ret, plate_stock = quote_ctx.get_plate_stock('HK.BK1001')\n",
    "print plate_stock"
   ]
  },
  {
   "cell_type": "code",
   "execution_count": null,
   "metadata": {
    "collapsed": false
   },
   "outputs": [],
   "source": [
    "'''\n",
    "#高频行情\n",
    "'''\n",
    "#获取报价\n",
    "#ret, stock_quote = quote_ctx.get_stock_quote([code])\n",
    "#print stock_quote\n",
    "\n",
    "#获取逐笔\n",
    "#ret, rt_ticker = quote_ctx.get_rt_ticker(code, 10)\n",
    "#print rt_ticker\n",
    "\n",
    "#获取当前k线\n",
    "#ret, cur_kline = quote_ctx.get_cur_kline(code, 100, 'K_DAY', 'qfq')\n",
    "#print cur_kline\n",
    "\n",
    "#获取摆盘\n",
    "ret, order_book = quote_ctx.get_order_book(code)\n",
    "print order_book\n",
    "\n",
    "#获取分时数据\n",
    "#ret, rt_data = quote_ctx.get_rt_data(code)\n",
    "#print rt_data\n",
    "\n",
    "#获取经济队列\n",
    "#ret, broker_queue, _ = quote_ctx.get_broker_queue(code)\n",
    "#print broker_queue"
   ]
  },
  {
   "cell_type": "code",
   "execution_count": null,
   "metadata": {
    "collapsed": true
   },
   "outputs": [],
   "source": [
    "'''\n",
    "#交易上下文\n",
    "'''\n",
    "trader_hk_ctx = ft.OpenHKTradeContext(host = api_svr_ip, port = api_svr_port)\n",
    "#trader_us_ctx = ft.OpenUSTradeContext(host = api_svr_ip, port = api_svr_port)"
   ]
  },
  {
   "cell_type": "code",
   "execution_count": null,
   "metadata": {
    "collapsed": false
   },
   "outputs": [],
   "source": [
    "'''\n",
    "#交易接口\n",
    "'''\n",
    "#解锁\n",
    "#ret_code, ret_data = trader_hk_ctx.unlock_trade(password = password)\n",
    "#print ret_data\n",
    "\n",
    "#下单\n",
    "#ret_code, ret_data = trader_hk_ctx.place_order(price = 377.00, qty = 100, strcode = code, orderside = 0, ordertype = 0, envtype = trade_env)\n",
    "#print ret_data\n",
    "\n",
    "#设置订单状态\n",
    "#ret_code, ret_data = trader_hk_ctx.set_order_status(status = 1, orderid = 839425, envtype = trade_env)\n",
    "#ret_data\n",
    "\n",
    "#修改订单\n",
    "#ret_code, ret_data = trader_hk_ctx.change_order(price = 366.00, qty = 100, orderid = order_id, envtype = trade_env)\n",
    "#ret_data\n",
    "\n",
    "#查询账户信息\n",
    "#ret_code, ret_data = trader_hk_ctx.accinfo_query(trade_env)\n",
    "#print ret_data\n",
    "\n",
    "#查询订单列表\n",
    "#ret_code, ret_data = trader_hk_ctx.order_list_query(statusfilter = '', envtype = trade_env)\n",
    "#ret_data\n",
    "\n",
    "#查询持仓列表\n",
    "#ret_code, ret_data = trader_hk_ctx.position_list_query(envtype = trade_env)\n",
    "#ret_data\n",
    "\n",
    "#查询成交列表\n",
    "ret_code, ret_data = trader_hk_ctx.deal_list_query(envtype = trade_env)\n",
    "ret_data"
   ]
  },
  {
   "cell_type": "code",
   "execution_count": null,
   "metadata": {
    "collapsed": true
   },
   "outputs": [],
   "source": []
  }
 ],
 "metadata": {
  "kernelspec": {
   "display_name": "Python 2",
   "language": "python",
   "name": "python2"
  },
  "language_info": {
   "codemirror_mode": {
    "name": "ipython",
    "version": 2
   },
   "file_extension": ".py",
   "mimetype": "text/x-python",
   "name": "python",
   "nbconvert_exporter": "python",
   "pygments_lexer": "ipython2",
   "version": "2.7.13"
  }
 },
 "nbformat": 4,
 "nbformat_minor": 0
}
