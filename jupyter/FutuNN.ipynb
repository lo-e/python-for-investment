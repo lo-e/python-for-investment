{
 "cells": [
  {
   "cell_type": "code",
   "execution_count": 11,
   "metadata": {
    "collapsed": false
   },
   "outputs": [],
   "source": [
    "import futuquant as ft\n",
    "import time\n",
    "import datetime"
   ]
  },
  {
   "cell_type": "code",
   "execution_count": 2,
   "metadata": {
    "collapsed": false
   },
   "outputs": [],
   "source": [
    "# 实例化行情上下文对象\n",
    "quote_ctx = ft.OpenQuoteContext(host = '119.29.141.202', port = 11111)\n",
    "#quote_ctx = ft.OpenQuoteContext(host = '127.0.0.1', port = 11111)"
   ]
  },
  {
   "cell_type": "code",
   "execution_count": 66,
   "metadata": {
    "collapsed": false
   },
   "outputs": [
    {
     "data": {
      "text/html": [
       "<div>\n",
       "<table border=\"1\" class=\"dataframe\">\n",
       "  <thead>\n",
       "    <tr style=\"text-align: right;\">\n",
       "      <th></th>\n",
       "      <th>code</th>\n",
       "      <th>update_time</th>\n",
       "      <th>last_price</th>\n",
       "      <th>open_price</th>\n",
       "      <th>high_price</th>\n",
       "      <th>low_price</th>\n",
       "      <th>prev_close_price</th>\n",
       "      <th>volume</th>\n",
       "      <th>turnover</th>\n",
       "      <th>turnover_rate</th>\n",
       "      <th>...</th>\n",
       "      <th>wrt_end_trade</th>\n",
       "      <th>wrt_code</th>\n",
       "      <th>wrt_recovery_price</th>\n",
       "      <th>wrt_street_vol</th>\n",
       "      <th>wrt_issue_vol</th>\n",
       "      <th>wrt_street_ratio</th>\n",
       "      <th>wrt_delta</th>\n",
       "      <th>wrt_implied_volatility</th>\n",
       "      <th>wrt_premium</th>\n",
       "      <th>lot_size</th>\n",
       "    </tr>\n",
       "  </thead>\n",
       "  <tbody>\n",
       "    <tr>\n",
       "      <th>0</th>\n",
       "      <td>SH.600380</td>\n",
       "      <td>2017-11-06 15:05:21</td>\n",
       "      <td>12.13</td>\n",
       "      <td>11.35</td>\n",
       "      <td>12.4</td>\n",
       "      <td>11.15</td>\n",
       "      <td>11.29</td>\n",
       "      <td>78816017</td>\n",
       "      <td>9.302592e+08</td>\n",
       "      <td>5.044</td>\n",
       "      <td>...</td>\n",
       "      <td></td>\n",
       "      <td></td>\n",
       "      <td>0.0</td>\n",
       "      <td>0.0</td>\n",
       "      <td>0.0</td>\n",
       "      <td>0.0</td>\n",
       "      <td>0.0</td>\n",
       "      <td>0.0</td>\n",
       "      <td>0.0</td>\n",
       "      <td>100</td>\n",
       "    </tr>\n",
       "  </tbody>\n",
       "</table>\n",
       "<p>1 rows × 29 columns</p>\n",
       "</div>"
      ],
      "text/plain": [
       "        code          update_time  last_price  open_price  high_price  \\\n",
       "0  SH.600380  2017-11-06 15:05:21       12.13       11.35        12.4   \n",
       "\n",
       "   low_price  prev_close_price    volume      turnover  turnover_rate  \\\n",
       "0      11.15             11.29  78816017  9.302592e+08          5.044   \n",
       "\n",
       "    ...    wrt_end_trade wrt_code  wrt_recovery_price  wrt_street_vol  \\\n",
       "0   ...                                           0.0             0.0   \n",
       "\n",
       "  wrt_issue_vol  wrt_street_ratio  wrt_delta  wrt_implied_volatility  \\\n",
       "0           0.0               0.0        0.0                     0.0   \n",
       "\n",
       "  wrt_premium lot_size  \n",
       "0         0.0      100  \n",
       "\n",
       "[1 rows x 29 columns]"
      ]
     },
     "execution_count": 66,
     "metadata": {},
     "output_type": "execute_result"
    }
   ],
   "source": [
    "#获取快照\n",
    "ret, snapshot = quote_ctx.get_market_snapshot(['SH.600380'])\n",
    "snapshot"
   ]
  },
  {
   "cell_type": "code",
   "execution_count": 8,
   "metadata": {
    "collapsed": false
   },
   "outputs": [
    {
     "name": "stdout",
     "output_type": "stream",
     "text": [
      "ERROR. 402 找不到板块！\n"
     ]
    }
   ],
   "source": [
    "#获取板块下的股票\n",
    "ret, plate_stock = quote_ctx.get_plate_stock('SH.881166')\n",
    "print plate_stock"
   ]
  },
  {
   "cell_type": "code",
   "execution_count": 36,
   "metadata": {
    "collapsed": true
   },
   "outputs": [],
   "source": [
    "#实例化港股交易上下文对象\n",
    "trader_hk_ctx = ft.OpenHKTradeContext(host = '119.29.141.202', port = 11111)\n",
    "#trader_hk_ctx = ft.OpenHKTradeContext(host = '127.0.0.1', port = 11111)"
   ]
  },
  {
   "cell_type": "code",
   "execution_count": 21,
   "metadata": {
    "collapsed": false
   },
   "outputs": [
    {
     "name": "stdout",
     "output_type": "stream",
     "text": [
      "  envtype orderID\n",
      "0       1  838703\n"
     ]
    }
   ],
   "source": [
    "#撤单\n",
    "order_id = 838703\n",
    "ret_code, ret_data = trader_hk_ctx.set_order_status(status = 0, orderid = order_id, envtype = 1)\n",
    "print ret_data"
   ]
  },
  {
   "cell_type": "code",
   "execution_count": 68,
   "metadata": {
    "collapsed": false
   },
   "outputs": [
    {
     "name": "stdout",
     "output_type": "stream",
     "text": [
      "  envtype orderid\n",
      "0       1  839350\n"
     ]
    }
   ],
   "source": [
    "#下单\n",
    "ret_code, ret_data = trader_hk_ctx.place_order(price = 11.00, qty = 200, strcode = 'HK.07200', orderside = 1, ordertype = 0, envtype = 1)\n",
    "print ret_data"
   ]
  },
  {
   "cell_type": "code",
   "execution_count": 74,
   "metadata": {
    "collapsed": false
   },
   "outputs": [
    {
     "data": {
      "text/html": [
       "<div>\n",
       "<table border=\"1\" class=\"dataframe\">\n",
       "  <thead>\n",
       "    <tr style=\"text-align: right;\">\n",
       "      <th></th>\n",
       "      <th>code</th>\n",
       "      <th>stock_name</th>\n",
       "      <th>dealt_avg_price</th>\n",
       "      <th>dealt_qty</th>\n",
       "      <th>qty</th>\n",
       "      <th>orderid</th>\n",
       "      <th>order_type</th>\n",
       "      <th>order_side</th>\n",
       "      <th>price</th>\n",
       "      <th>status</th>\n",
       "      <th>submited_time</th>\n",
       "      <th>updated_time</th>\n",
       "    </tr>\n",
       "  </thead>\n",
       "  <tbody>\n",
       "    <tr>\n",
       "      <th>0</th>\n",
       "      <td>HK.00883</td>\n",
       "      <td>中国海洋石油</td>\n",
       "      <td>11.00</td>\n",
       "      <td>2000</td>\n",
       "      <td>2000</td>\n",
       "      <td>839346</td>\n",
       "      <td>0</td>\n",
       "      <td>1</td>\n",
       "      <td>11.0</td>\n",
       "      <td>3</td>\n",
       "      <td>1509958441</td>\n",
       "      <td>1509958441</td>\n",
       "    </tr>\n",
       "    <tr>\n",
       "      <th>1</th>\n",
       "      <td>HK.07200</td>\n",
       "      <td>南方两倍看多恒指</td>\n",
       "      <td>10.68</td>\n",
       "      <td>200</td>\n",
       "      <td>200</td>\n",
       "      <td>839347</td>\n",
       "      <td>0</td>\n",
       "      <td>1</td>\n",
       "      <td>10.6</td>\n",
       "      <td>3</td>\n",
       "      <td>1509958526</td>\n",
       "      <td>1509958703</td>\n",
       "    </tr>\n",
       "    <tr>\n",
       "      <th>2</th>\n",
       "      <td>HK.07200</td>\n",
       "      <td>南方两倍看多恒指</td>\n",
       "      <td>0.00</td>\n",
       "      <td>0</td>\n",
       "      <td>200</td>\n",
       "      <td>839350</td>\n",
       "      <td>0</td>\n",
       "      <td>1</td>\n",
       "      <td>11.0</td>\n",
       "      <td>6</td>\n",
       "      <td>1509959681</td>\n",
       "      <td>1509959681</td>\n",
       "    </tr>\n",
       "  </tbody>\n",
       "</table>\n",
       "</div>"
      ],
      "text/plain": [
       "       code stock_name  dealt_avg_price dealt_qty   qty orderid order_type  \\\n",
       "0  HK.00883     中国海洋石油            11.00      2000  2000  839346          0   \n",
       "1  HK.07200   南方两倍看多恒指            10.68       200   200  839347          0   \n",
       "2  HK.07200   南方两倍看多恒指             0.00         0   200  839350          0   \n",
       "\n",
       "  order_side  price status submited_time updated_time  \n",
       "0          1   11.0      3    1509958441   1509958441  \n",
       "1          1   10.6      3    1509958526   1509958703  \n",
       "2          1   11.0      6    1509959681   1509959681  "
      ]
     },
     "execution_count": 74,
     "metadata": {},
     "output_type": "execute_result"
    },
    {
     "name": "stderr",
     "output_type": "stream",
     "text": [
      "Traceback (most recent call last):\n",
      "  File \"C:\\Users\\loe\\Anaconda2\\lib\\site-packages\\futuquant\\open_context.py\", line 456, in network_query\n",
      "    s_cnt = self.s.send(s_buf)\n",
      "error: [Errno 10054] \n"
     ]
    },
    {
     "name": "stdout",
     "output_type": "stream",
     "text": [
      "thread check socket error\n"
     ]
    },
    {
     "name": "stderr",
     "output_type": "stream",
     "text": [
      "Traceback (most recent call last):\n",
      "  File \"C:\\Users\\loe\\Anaconda2\\lib\\site-packages\\futuquant\\open_context.py\", line 510, in _socket_create_and_loop_connect\n",
      "    self.s.connect((self.__host, self.__port))\n",
      "  File \"C:\\Users\\loe\\Anaconda2\\lib\\socket.py\", line 228, in meth\n",
      "    return getattr(self._sock,name)(*args)\n",
      "error: [Errno 10061] \n"
     ]
    },
    {
     "name": "stdout",
     "output_type": "stream",
     "text": [
      "socket connect err:ERROR. [Errno 10061] \n",
      "wait to connect futunn plugin server\n"
     ]
    },
    {
     "name": "stderr",
     "output_type": "stream",
     "text": [
      "Traceback (most recent call last):\n",
      "  File \"C:\\Users\\loe\\Anaconda2\\lib\\site-packages\\futuquant\\open_context.py\", line 456, in network_query\n",
      "    s_cnt = self.s.send(s_buf)\n",
      "error: [Errno 10054] \n"
     ]
    },
    {
     "name": "stdout",
     "output_type": "stream",
     "text": [
      "thread check socket error\n"
     ]
    },
    {
     "name": "stderr",
     "output_type": "stream",
     "text": [
      "Traceback (most recent call last):\n",
      "  File \"C:\\Users\\loe\\Anaconda2\\lib\\site-packages\\futuquant\\open_context.py\", line 456, in network_query\n",
      "    s_cnt = self.s.send(s_buf)\n",
      "error: [Errno 10054] \n"
     ]
    },
    {
     "name": "stdout",
     "output_type": "stream",
     "text": [
      "thread check socket error\n"
     ]
    },
    {
     "name": "stderr",
     "output_type": "stream",
     "text": [
      "Traceback (most recent call last):\n",
      "  File \"C:\\Users\\loe\\Anaconda2\\lib\\site-packages\\futuquant\\open_context.py\", line 456, in network_query\n",
      "    s_cnt = self.s.send(s_buf)\n",
      "error: [Errno 10054] \n"
     ]
    },
    {
     "name": "stdout",
     "output_type": "stream",
     "text": [
      "thread check socket error\n"
     ]
    }
   ],
   "source": [
    "#查询订单列表\n",
    "ret_code, ret_data = trader_hk_ctx.order_list_query(statusfilter = '', envtype = 1)\n",
    "ret_data"
   ]
  },
  {
   "cell_type": "code",
   "execution_count": 72,
   "metadata": {
    "collapsed": false
   },
   "outputs": [
    {
     "name": "stdout",
     "output_type": "stream",
     "text": [
      "  envtype orderID\n",
      "0       1  839350\n"
     ]
    }
   ],
   "source": [
    "#设置订单状态\n",
    "ret_code, ret_data = trader_hk_ctx.set_order_status(status = 0, orderid = 839350, envtype = 1)\n",
    "print ret_data"
   ]
  },
  {
   "cell_type": "code",
   "execution_count": 52,
   "metadata": {
    "collapsed": false
   },
   "outputs": [
    {
     "data": {
      "text/html": [
       "<div>\n",
       "<table border=\"1\" class=\"dataframe\">\n",
       "  <thead>\n",
       "    <tr style=\"text-align: right;\">\n",
       "      <th></th>\n",
       "      <th>envtype</th>\n",
       "      <th>orderID</th>\n",
       "    </tr>\n",
       "  </thead>\n",
       "  <tbody>\n",
       "    <tr>\n",
       "      <th>0</th>\n",
       "      <td>1</td>\n",
       "      <td>839347</td>\n",
       "    </tr>\n",
       "  </tbody>\n",
       "</table>\n",
       "</div>"
      ],
      "text/plain": [
       "  envtype orderID\n",
       "0       1  839347"
      ]
     },
     "execution_count": 52,
     "metadata": {},
     "output_type": "execute_result"
    }
   ],
   "source": [
    "#修改订单\n",
    "ret_code, ret_data = trader_hk_ctx.change_order(price = 10.60, qty = 200, orderid = 839347, envtype = 1)\n",
    "ret_data"
   ]
  },
  {
   "cell_type": "code",
   "execution_count": 71,
   "metadata": {
    "collapsed": false,
    "scrolled": true
   },
   "outputs": [
    {
     "data": {
      "text/html": [
       "<div>\n",
       "<table border=\"1\" class=\"dataframe\">\n",
       "  <thead>\n",
       "    <tr style=\"text-align: right;\">\n",
       "      <th></th>\n",
       "      <th>code</th>\n",
       "      <th>stock_name</th>\n",
       "      <th>qty</th>\n",
       "      <th>can_sell_qty</th>\n",
       "      <th>cost_price</th>\n",
       "      <th>cost_price_valid</th>\n",
       "      <th>market_val</th>\n",
       "      <th>nominal_price</th>\n",
       "      <th>pl_ratio</th>\n",
       "      <th>pl_ratio_valid</th>\n",
       "      <th>pl_val</th>\n",
       "      <th>pl_val_valid</th>\n",
       "      <th>today_buy_qty</th>\n",
       "      <th>today_buy_val</th>\n",
       "      <th>today_pl_val</th>\n",
       "      <th>today_sell_qty</th>\n",
       "      <th>today_sell_val</th>\n",
       "    </tr>\n",
       "  </thead>\n",
       "  <tbody>\n",
       "    <tr>\n",
       "      <th>0</th>\n",
       "      <td>HK.00883</td>\n",
       "      <td>中国海洋石油</td>\n",
       "      <td>0</td>\n",
       "      <td>0</td>\n",
       "      <td>-2147483.648</td>\n",
       "      <td>1</td>\n",
       "      <td>0.0</td>\n",
       "      <td>11.02</td>\n",
       "      <td>-2147483.648</td>\n",
       "      <td>1</td>\n",
       "      <td>8.888889e+08</td>\n",
       "      <td>1</td>\n",
       "      <td>0</td>\n",
       "      <td>0.0</td>\n",
       "      <td>280.0</td>\n",
       "      <td>2000</td>\n",
       "      <td>22000.0</td>\n",
       "    </tr>\n",
       "    <tr>\n",
       "      <th>1</th>\n",
       "      <td>HK.07200</td>\n",
       "      <td>南方两倍看多恒指</td>\n",
       "      <td>1600</td>\n",
       "      <td>1400</td>\n",
       "      <td>9.910</td>\n",
       "      <td>1</td>\n",
       "      <td>17120.0</td>\n",
       "      <td>10.70</td>\n",
       "      <td>7.971</td>\n",
       "      <td>1</td>\n",
       "      <td>1.264000e+03</td>\n",
       "      <td>1</td>\n",
       "      <td>0</td>\n",
       "      <td>0.0</td>\n",
       "      <td>-4.0</td>\n",
       "      <td>200</td>\n",
       "      <td>2136.0</td>\n",
       "    </tr>\n",
       "    <tr>\n",
       "      <th>2</th>\n",
       "      <td>HK.08032</td>\n",
       "      <td>非凡中国</td>\n",
       "      <td>16000</td>\n",
       "      <td>16000</td>\n",
       "      <td>0.720</td>\n",
       "      <td>1</td>\n",
       "      <td>11040.0</td>\n",
       "      <td>0.69</td>\n",
       "      <td>-4.166</td>\n",
       "      <td>1</td>\n",
       "      <td>-4.800000e+02</td>\n",
       "      <td>1</td>\n",
       "      <td>0</td>\n",
       "      <td>0.0</td>\n",
       "      <td>160.0</td>\n",
       "      <td>0</td>\n",
       "      <td>0.0</td>\n",
       "    </tr>\n",
       "    <tr>\n",
       "      <th>3</th>\n",
       "      <td>HK.02883</td>\n",
       "      <td>中海油田服务</td>\n",
       "      <td>4000</td>\n",
       "      <td>4000</td>\n",
       "      <td>6.890</td>\n",
       "      <td>1</td>\n",
       "      <td>29600.0</td>\n",
       "      <td>7.40</td>\n",
       "      <td>7.402</td>\n",
       "      <td>1</td>\n",
       "      <td>2.040000e+03</td>\n",
       "      <td>1</td>\n",
       "      <td>0</td>\n",
       "      <td>0.0</td>\n",
       "      <td>1280.0</td>\n",
       "      <td>0</td>\n",
       "      <td>0.0</td>\n",
       "    </tr>\n",
       "    <tr>\n",
       "      <th>4</th>\n",
       "      <td>HK.02800</td>\n",
       "      <td>盈富基金</td>\n",
       "      <td>1000</td>\n",
       "      <td>1000</td>\n",
       "      <td>29.600</td>\n",
       "      <td>1</td>\n",
       "      <td>28800.0</td>\n",
       "      <td>28.80</td>\n",
       "      <td>-2.702</td>\n",
       "      <td>1</td>\n",
       "      <td>-8.000000e+02</td>\n",
       "      <td>1</td>\n",
       "      <td>0</td>\n",
       "      <td>0.0</td>\n",
       "      <td>0.0</td>\n",
       "      <td>0</td>\n",
       "      <td>0.0</td>\n",
       "    </tr>\n",
       "  </tbody>\n",
       "</table>\n",
       "</div>"
      ],
      "text/plain": [
       "       code stock_name    qty can_sell_qty   cost_price cost_price_valid  \\\n",
       "0  HK.00883     中国海洋石油      0            0 -2147483.648                1   \n",
       "1  HK.07200   南方两倍看多恒指   1600         1400        9.910                1   \n",
       "2  HK.08032       非凡中国  16000        16000        0.720                1   \n",
       "3  HK.02883     中海油田服务   4000         4000        6.890                1   \n",
       "4  HK.02800       盈富基金   1000         1000       29.600                1   \n",
       "\n",
       "   market_val  nominal_price     pl_ratio pl_ratio_valid        pl_val  \\\n",
       "0         0.0          11.02 -2147483.648              1  8.888889e+08   \n",
       "1     17120.0          10.70        7.971              1  1.264000e+03   \n",
       "2     11040.0           0.69       -4.166              1 -4.800000e+02   \n",
       "3     29600.0           7.40        7.402              1  2.040000e+03   \n",
       "4     28800.0          28.80       -2.702              1 -8.000000e+02   \n",
       "\n",
       "  pl_val_valid today_buy_qty  today_buy_val  today_pl_val today_sell_qty  \\\n",
       "0            1             0            0.0         280.0           2000   \n",
       "1            1             0            0.0          -4.0            200   \n",
       "2            1             0            0.0         160.0              0   \n",
       "3            1             0            0.0        1280.0              0   \n",
       "4            1             0            0.0           0.0              0   \n",
       "\n",
       "   today_sell_val  \n",
       "0         22000.0  \n",
       "1          2136.0  \n",
       "2             0.0  \n",
       "3             0.0  \n",
       "4             0.0  "
      ]
     },
     "execution_count": 71,
     "metadata": {},
     "output_type": "execute_result"
    }
   ],
   "source": [
    "#查看持仓列表\n",
    "ret_code, ret_data = trader_hk_ctx.position_list_query(envtype = 1)\n",
    "ret_data"
   ]
  },
  {
   "cell_type": "code",
   "execution_count": 56,
   "metadata": {
    "collapsed": false
   },
   "outputs": [
    {
     "data": {
      "text/html": [
       "<div>\n",
       "<table border=\"1\" class=\"dataframe\">\n",
       "  <thead>\n",
       "    <tr style=\"text-align: right;\">\n",
       "      <th></th>\n",
       "      <th>code</th>\n",
       "      <th>stock_name</th>\n",
       "      <th>dealid</th>\n",
       "      <th>orderid</th>\n",
       "      <th>qty</th>\n",
       "      <th>price</th>\n",
       "      <th>orderside</th>\n",
       "      <th>time</th>\n",
       "      <th>order_side</th>\n",
       "    </tr>\n",
       "  </thead>\n",
       "  <tbody>\n",
       "    <tr>\n",
       "      <th>0</th>\n",
       "      <td>HK.00883</td>\n",
       "      <td>中国海洋石油</td>\n",
       "      <td>680157</td>\n",
       "      <td>839346</td>\n",
       "      <td>2000</td>\n",
       "      <td>11.00</td>\n",
       "      <td>1</td>\n",
       "      <td>1509958441</td>\n",
       "      <td>1</td>\n",
       "    </tr>\n",
       "    <tr>\n",
       "      <th>1</th>\n",
       "      <td>HK.07200</td>\n",
       "      <td>南方两倍看多恒指</td>\n",
       "      <td>680158</td>\n",
       "      <td>839347</td>\n",
       "      <td>200</td>\n",
       "      <td>10.68</td>\n",
       "      <td>1</td>\n",
       "      <td>1509958703</td>\n",
       "      <td>1</td>\n",
       "    </tr>\n",
       "  </tbody>\n",
       "</table>\n",
       "</div>"
      ],
      "text/plain": [
       "       code stock_name  dealid orderid   qty  price orderside        time  \\\n",
       "0  HK.00883     中国海洋石油  680157  839346  2000  11.00         1  1509958441   \n",
       "1  HK.07200   南方两倍看多恒指  680158  839347   200  10.68         1  1509958703   \n",
       "\n",
       "  order_side  \n",
       "0          1  \n",
       "1          1  "
      ]
     },
     "execution_count": 56,
     "metadata": {},
     "output_type": "execute_result"
    }
   ],
   "source": [
    "#查看成交列表\n",
    "ret_code, ret_data = trader_hk_ctx.deal_list_query(envtype = 1)\n",
    "ret_data"
   ]
  },
  {
   "cell_type": "code",
   "execution_count": 57,
   "metadata": {
    "collapsed": false
   },
   "outputs": [
    {
     "data": {
      "text/html": [
       "<div>\n",
       "<table border=\"1\" class=\"dataframe\">\n",
       "  <thead>\n",
       "    <tr style=\"text-align: right;\">\n",
       "      <th></th>\n",
       "      <th>Power</th>\n",
       "      <th>ZCJZ</th>\n",
       "      <th>ZQSZ</th>\n",
       "      <th>XJJY</th>\n",
       "      <th>KQXJ</th>\n",
       "      <th>DJZJ</th>\n",
       "      <th>ZSJE</th>\n",
       "      <th>ZGJDE</th>\n",
       "      <th>YYJDE</th>\n",
       "      <th>GPBZJ</th>\n",
       "    </tr>\n",
       "  </thead>\n",
       "  <tbody>\n",
       "    <tr>\n",
       "      <th>0</th>\n",
       "      <td>38244.89</td>\n",
       "      <td>124804.89</td>\n",
       "      <td>86560.0</td>\n",
       "      <td>38244.89</td>\n",
       "      <td>0.0</td>\n",
       "      <td>0.0</td>\n",
       "      <td>0.0</td>\n",
       "      <td>0.0</td>\n",
       "      <td>0.0</td>\n",
       "      <td>0.0</td>\n",
       "    </tr>\n",
       "  </tbody>\n",
       "</table>\n",
       "</div>"
      ],
      "text/plain": [
       "      Power       ZCJZ     ZQSZ      XJJY  KQXJ  DJZJ  ZSJE  ZGJDE  YYJDE  \\\n",
       "0  38244.89  124804.89  86560.0  38244.89   0.0   0.0   0.0    0.0    0.0   \n",
       "\n",
       "   GPBZJ  \n",
       "0    0.0  "
      ]
     },
     "execution_count": 57,
     "metadata": {},
     "output_type": "execute_result"
    },
    {
     "name": "stderr",
     "output_type": "stream",
     "text": [
      "Traceback (most recent call last):\n",
      "  File \"C:\\Users\\loe\\Anaconda2\\lib\\site-packages\\futuquant\\open_context.py\", line 456, in network_query\n",
      "    s_cnt = self.s.send(s_buf)\n",
      "error: [Errno 10054] \n"
     ]
    },
    {
     "name": "stdout",
     "output_type": "stream",
     "text": [
      "thread check socket error\n"
     ]
    },
    {
     "name": "stderr",
     "output_type": "stream",
     "text": [
      "Traceback (most recent call last):\n",
      "  File \"C:\\Users\\loe\\Anaconda2\\lib\\site-packages\\futuquant\\open_context.py\", line 510, in _socket_create_and_loop_connect\n",
      "    self.s.connect((self.__host, self.__port))\n",
      "  File \"C:\\Users\\loe\\Anaconda2\\lib\\socket.py\", line 228, in meth\n",
      "    return getattr(self._sock,name)(*args)\n",
      "error: [Errno 10061] \n"
     ]
    },
    {
     "name": "stdout",
     "output_type": "stream",
     "text": [
      "socket connect err:ERROR. [Errno 10061] \n"
     ]
    },
    {
     "name": "stderr",
     "output_type": "stream",
     "text": [
      "Traceback (most recent call last):\n",
      "  File \"C:\\Users\\loe\\Anaconda2\\lib\\site-packages\\futuquant\\open_context.py\", line 456, in network_query\n",
      "    s_cnt = self.s.send(s_buf)\n",
      "error: [Errno 10054] \n"
     ]
    },
    {
     "name": "stdout",
     "output_type": "stream",
     "text": [
      "thread check socket error\n",
      "wait to connect futunn plugin server\n",
      "wait to connect futunn plugin server\n"
     ]
    },
    {
     "name": "stderr",
     "output_type": "stream",
     "text": [
      "Traceback (most recent call last):\n",
      "  File \"C:\\Users\\loe\\Anaconda2\\lib\\site-packages\\futuquant\\open_context.py\", line 456, in network_query\n",
      "    s_cnt = self.s.send(s_buf)\n",
      "error: [Errno 10054] \n"
     ]
    },
    {
     "name": "stdout",
     "output_type": "stream",
     "text": [
      "thread check socket error\n"
     ]
    },
    {
     "name": "stderr",
     "output_type": "stream",
     "text": [
      "Traceback (most recent call last):\n",
      "  File \"C:\\Users\\loe\\Anaconda2\\lib\\site-packages\\futuquant\\open_context.py\", line 456, in network_query\n",
      "    s_cnt = self.s.send(s_buf)\n",
      "error: [Errno 10054] \n"
     ]
    },
    {
     "name": "stdout",
     "output_type": "stream",
     "text": [
      "thread check socket error\n"
     ]
    }
   ],
   "source": [
    "#查询账户信息\n",
    "ret_code, ret_data = trader_hk_ctx.accinfo_query(1)\n",
    "ret_data"
   ]
  },
  {
   "cell_type": "code",
   "execution_count": null,
   "metadata": {
    "collapsed": true
   },
   "outputs": [],
   "source": []
  }
 ],
 "metadata": {
  "kernelspec": {
   "display_name": "Python 2",
   "language": "python",
   "name": "python2"
  },
  "language_info": {
   "codemirror_mode": {
    "name": "ipython",
    "version": 2
   },
   "file_extension": ".py",
   "mimetype": "text/x-python",
   "name": "python",
   "nbconvert_exporter": "python",
   "pygments_lexer": "ipython2",
   "version": "2.7.13"
  }
 },
 "nbformat": 4,
 "nbformat_minor": 0
}
