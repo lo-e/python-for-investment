{
 "cells": [
  {
   "cell_type": "code",
   "execution_count": 2,
   "metadata": {
    "collapsed": true
   },
   "outputs": [],
   "source": [
    "'''\n",
    "python向量化回测双均线策略\n",
    "'''\n",
    "#画图\n",
    "% matplotlib inline\n",
    "import numpy as np\n",
    "from numpy import nan as na\n",
    "from pandas import DataFrame, Series\n",
    "import pandas as pd #数据分析\n",
    "import tushare as ts #数据获取\n",
    "import datetime"
   ]
  },
  {
   "cell_type": "code",
   "execution_count": null,
   "metadata": {
    "collapsed": false
   },
   "outputs": [],
   "source": [
    "'''\n",
    "课程策略\n",
    "'''\n",
    "#510050上证50ETF 600380健康元\n",
    "code = raw_input('code:> ') #股票代码\n",
    "date = raw_input('date:> ') #回测开始日期\n",
    "\n",
    "all_df = ts.get_hist_data(code, date) #获取数据\n",
    "all_df = all_df.sort_index() #重新排序\n",
    "\n",
    "df = DataFrame()\n",
    "df['close'] = all_df['close']\n",
    "df['change'] = df['close'] - df['close'].shift(1) #计算当日收盘价相对于前一天涨跌\n",
    "df['ma5'] = df['close'].rolling(window = 5, center = False).mean() #计算ma5\n",
    "df['ma20'] = df['close'].rolling(window = 20, center = False).mean() #计算ma20\n",
    "df = df.dropna() #去掉带NaN的数据\n",
    "\n",
    "#当天的持仓根据前一天收盘后的ma5、和ma20的大小值确定\n",
    "df['pos'] = 0\n",
    "df['pos'].mask(df['ma5'].shift(1) > df['ma20'].shift(1), 10000, inplace = True)\n",
    "df['pos'].mask(df['ma5'].shift(1) <= df['ma20'].shift(1), -10000, inplace = True)\n",
    "\n",
    "df['pnl'] = df['change'] * df['pos'] #当天盈亏\n",
    "df['fee'] = 0\n",
    "df['fee'] = (abs(df['pos'] - df['pos'].shift(1)) * df['close'].shift(1))*1.5/10000 #交易手续费\n",
    "df['fee'] = df['fee'].fillna(0)\n",
    "df['netpnl'] = df['pnl'] - df['fee'] #净盈亏\n",
    "\n",
    "df['cumpnl'] = df['netpnl'].cumsum() #累计盈亏\n",
    "df['p_cumpnl'] = (100 * df['cumpnl'] / (abs(df['pos']) * df['close'].shift(1))).fillna(0) #粗略用当前持有市值为成本计算累计盈亏比\n",
    "df['cumpnl'].plot() #累计盈亏曲线\n",
    "#df['p_cumpnl'].plot() #累计盈亏比曲线\n",
    "df"
   ]
  },
  {
   "cell_type": "code",
   "execution_count": null,
   "metadata": {
    "collapsed": true
   },
   "outputs": [],
   "source": []
  },
  {
   "cell_type": "code",
   "execution_count": 15,
   "metadata": {
    "collapsed": false
   },
   "outputs": [
    {
     "name": "stdout",
     "output_type": "stream",
     "text": [
      "code:> 600360\n",
      "date:> 2017-01-01\n"
     ]
    },
    {
     "data": {
      "text/plain": [
       "<matplotlib.axes._subplots.AxesSubplot at 0x9590330>"
      ]
     },
     "execution_count": 15,
     "metadata": {},
     "output_type": "execute_result"
    },
    {
     "data": {
      "image/png": "[encoded data removed]",
      "text/plain": [
       "<matplotlib.figure.Figure at 0x9365c30>"
      ]
     },
     "metadata": {},
     "output_type": "display_data"
    }
   ],
   "source": [
    "'''\n",
    "我的策略\n",
    "双均线策略，每天的交易根据前一天的ma5和ma20交叉情况而定，ma5向上交叉ma20买入，反之卖出，其余时间持仓或者清仓等待下一个交易信号\n",
    "'''\n",
    "#510050上证50ETF 600380健康元\n",
    "code = raw_input('code:> ') #股票代码\n",
    "date = raw_input('date:> ') #回测开始日期\n",
    "#cash = raw_input('cash:> ') #初始资金\n",
    "\n",
    "#code = '600380'\n",
    "#date = '2007-01-01'\n",
    "cash = 1000000\n",
    "\n",
    "today = str(datetime.date.today())\n",
    "all_df = ts.get_hist_data(code, date, today) #获取数据\n",
    "all_df = all_df.sort_index() #重新排序\n",
    "\n",
    "df = DataFrame()\n",
    "df['open'] = all_df['open']\n",
    "df['close'] = all_df['close']\n",
    "df['change'] = df['close'] - df['close'].shift(1) #计算当日收盘价相对于前一天涨跌\n",
    "df['ma5'] = df['close'].rolling(window = 5, center = False).mean() #计算ma5\n",
    "df['ma20'] = df['close'].rolling(window = 20, center = False).mean() #计算ma20\n",
    "df.dropna(inplace = True) #去掉带NaN的数据\n",
    "\n",
    "df['signal'] = df['ma5'].shift(1) > df['ma20'].shift(1) #前一天ma5在ma20之上，持仓信号\n",
    "df['signal_shift'] = df['signal'].shift(1).fillna(False) #前一天ma5在ma20之下，清仓信号\n",
    "\n",
    "df['action'] = ''\n",
    "df.ix[-1,'action'] = 'end' #结束标记，便于统计交易盈利\n",
    "df['action'].mask(df['signal'] & -df['signal_shift'],'buy',inplace = True) #清仓信号向持仓信号转换，买入\n",
    "df['action'].mask(-df['signal'] & df['signal_shift'],'sell',inplace = True) #持仓信号向清仓信号转换，卖出\n",
    "\n",
    "df['hold'] = 0\n",
    "df['cash'] = cash\n",
    "\n",
    "actionList = df['action'][df['action'] != ''].index\n",
    "for actionIndex in actionList:\n",
    "    temp = DataFrame()\n",
    "    temp = df.ix[:actionIndex]\n",
    "    #这里的hold、cash的处理非常关键\n",
    "    temp['cash'].where((temp['action'] == 'buy') | (temp['action'] == 'sell'), na, inplace = True)\n",
    "    temp['cash'].fillna(method = 'ffill', inplace = True)\n",
    "    temp['cash'].fillna(cash, inplace = True)\n",
    "    \n",
    "    temp['hold'].where((temp['action'] == 'buy') | (temp['action'] == 'sell'), na, inplace = True)\n",
    "    temp['hold'].fillna(method = 'ffill', inplace = True)\n",
    "    temp['hold'].fillna(0, inplace = True)\n",
    "    \n",
    "    temp['hold'].mask(temp['action'] == 'buy', np.rint(df['cash'].shift(1).fillna(cash) / df['open']), inplace = True) #根据前一天的现金储备计算持仓数量\n",
    "    temp.loc[:,'hold'] = temp['hold'] - temp['hold'] % 100 #买入数量必须是100的整数倍\n",
    "    temp['hold'].mask(temp['action'] == 'sell', 0, inplace = True) #卖出后仓位清空\n",
    "    \n",
    "    temp['cash'].mask(temp['action'] == 'buy', temp['cash'].shift(1).fillna(cash) - temp['hold'] * temp['open'], inplace = True) #买入后现金储备的变化\n",
    "    temp['cash'].mask(df['action'] == 'sell', temp['cash'].shift(1) + temp['hold'].shift(1) * df['open'], inplace = True) #卖出后现金储备的变化\n",
    "    \n",
    "    df[:actionIndex] = temp\n",
    "    \n",
    "#df = df.drop(['signal', 'signal_shift'], axis = 1) #清除掉信号列（为了计算才创建的列）\n",
    "\n",
    "df['asset'] = df['cash'] + df['hold'] * df['open'] #开盘交易，所以以当天的开盘价计算全部资产\n",
    "df.loc[:,'earn'] = df['asset'] - cash #收益\n",
    "df['p_earn'] = ((df['asset'] / cash) - 1) * 100 #收益率\n",
    "\n",
    "#df['asset'].plot() #总资产曲线\n",
    "df['earn'].plot() #收益曲线\n",
    "#df['p_earn'].plot() #收益率曲线\n",
    "#df"
   ]
  },
  {
   "cell_type": "code",
   "execution_count": null,
   "metadata": {
    "collapsed": true
   },
   "outputs": [],
   "source": []
  }
 ],
 "metadata": {
  "kernelspec": {
   "display_name": "Python 2",
   "language": "python",
   "name": "python2"
  },
  "language_info": {
   "codemirror_mode": {
    "name": "ipython",
    "version": 2
   },
   "file_extension": ".py",
   "mimetype": "text/x-python",
   "name": "python",
   "nbconvert_exporter": "python",
   "pygments_lexer": "ipython2",
   "version": "2.7.13"
  }
 },
 "nbformat": 4,
 "nbformat_minor": 0
}
