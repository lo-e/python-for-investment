{
 "cells": [
  {
   "cell_type": "code",
   "execution_count": 6,
   "metadata": {
    "collapsed": false
   },
   "outputs": [],
   "source": [
    "%matplotlib inline\n",
    "import tushare as ts\n",
    "import pymongo\n",
    "from datetime import datetime\n",
    "\n",
    "from vnpy.trader.vtObject import VtBarData\n",
    "from vnpy.trader.app.ctaStrategy.ctaBase import DAILY_DB_NAME"
   ]
  },
  {
   "cell_type": "code",
   "execution_count": 27,
   "metadata": {
    "collapsed": false
   },
   "outputs": [],
   "source": [
    "#合约代码\n",
    "code = '600036'\n",
    "exchange = 'SSE'\n",
    "\n",
    "#code = raw_input(code:)\n",
    "#exchange = raw_input(exchange:)\n",
    "vtCode = '.'.join([code, exchange])"
   ]
  },
  {
   "cell_type": "code",
   "execution_count": 34,
   "metadata": {
    "collapsed": false
   },
   "outputs": [
    {
     "name": "stdout",
     "output_type": "stream",
     "text": [
      "数据下载完成\n"
     ]
    }
   ],
   "source": [
    "#下载数据\n",
    "data = ts.get_hist_data(code, '2017-01-01')\n",
    "data.sort_index(inplace = True)\n",
    "print '数据下载完成'"
   ]
  },
  {
   "cell_type": "code",
   "execution_count": 41,
   "metadata": {
    "collapsed": false
   },
   "outputs": [
    {
     "name": "stdout",
     "output_type": "stream",
     "text": [
      "MongoDB连接成功\n"
     ]
    }
   ],
   "source": [
    "#获取数据库\n",
    "client = pymongo.MongoClient('localhost', 27017)\n",
    "collection = client[DAILY_DB_NAME][vtCode]\n",
    "collection.create_index('datetime')\n",
    "print 'MongoDB连接成功'"
   ]
  },
  {
   "cell_type": "code",
   "execution_count": 54,
   "metadata": {
    "collapsed": false
   },
   "outputs": [
    {
     "name": "stdout",
     "output_type": "stream",
     "text": [
      "数据更新完成\n"
     ]
    }
   ],
   "source": [
    "for date, row in data.iterrows():\n",
    "    bar = VtBarData()\n",
    "    bar.open = row['open']\n",
    "    bar.close = row['close']\n",
    "    bar.high = row['high']\n",
    "    bar.low = row['low']\n",
    "    bar.volume = row['volume']\n",
    "    \n",
    "    bar.date = date\n",
    "    bar.datetime = datetime.strptime(date, '%Y-%m-%d')\n",
    "    bar.exchange = exchange\n",
    "    bar.vtSymbol = vtCode\n",
    "    bar.symbol = code\n",
    "    \n",
    "    collection.update_one({'exchange':bar.exchange}, {'$set':bar.__dict__}, upsert = True)\n",
    "print '数据更新完成'"
   ]
  },
  {
   "cell_type": "code",
   "execution_count": null,
   "metadata": {
    "collapsed": true
   },
   "outputs": [],
   "source": []
  }
 ],
 "metadata": {
  "kernelspec": {
   "display_name": "Python 2",
   "language": "python",
   "name": "python2"
  },
  "language_info": {
   "codemirror_mode": {
    "name": "ipython",
    "version": 2
   },
   "file_extension": ".py",
   "mimetype": "text/x-python",
   "name": "python",
   "nbconvert_exporter": "python",
   "pygments_lexer": "ipython2",
   "version": "2.7.13"
  }
 },
 "nbformat": 4,
 "nbformat_minor": 0
}
