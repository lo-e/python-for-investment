{
 "cells": [
  {
   "cell_type": "code",
   "execution_count": 1,
   "metadata": {
    "collapsed": true
   },
   "outputs": [],
   "source": [
    "import tushare as ts"
   ]
  },
  {
   "cell_type": "code",
   "execution_count": 41,
   "metadata": {
    "collapsed": true
   },
   "outputs": [],
   "source": [
    "'''\n",
    "获取连接备用\n",
    "'''\n",
    "cons = ts.get_apis()"
   ]
  },
  {
   "cell_type": "code",
   "execution_count": 54,
   "metadata": {
    "collapsed": false
   },
   "outputs": [],
   "source": [
    "'''\n",
    "bar接口\n",
    "'''\n",
    "#freq 【'1min' '5min' '15min' '30min' '60min' 'D' 'W' 'M' 'Q' 'Y'】\n",
    "#asset 【'INDEX'：指数  'X'：港股美股期货】\n",
    "#ma 【均线数组  5,10,20,60】\n",
    "#factors 【因子数组  'vr'：量比  'tor'：换手率】\n",
    "#adj 【复权  'qfq'：前复权  'hfq'：后复权  'None'：默认不复权\n",
    "\n",
    "df = ts.bar('600380', conn = cons, freq = 'D', start_date = '2017-01-01', end_date = '', ma = [5, 10, 20, 60], factors = ['vr', 'tor'], adj = 'None')\n",
    "#df"
   ]
  },
  {
   "cell_type": "code",
   "execution_count": 7,
   "metadata": {
    "collapsed": false
   },
   "outputs": [],
   "source": [
    "'''\n",
    "tick接口\n",
    "'''\n",
    "#股票tick数据type 【买卖方向  0：买入  1：卖出  2：集合竞价成交】\n",
    "#期货tick数据type 【买卖方向  0：开仓  1：多开  -1：空开】\n",
    "#asset 【X'：期货】\n",
    "df = ts.tick('600380', conn = cons, date = '2017-11-17')\n",
    "df.sort_values('datetime', ascending = False, inplace = True)\n",
    "#df"
   ]
  },
  {
   "cell_type": "code",
   "execution_count": 72,
   "metadata": {
    "collapsed": false
   },
   "outputs": [],
   "source": [
    "'''\n",
    "沪\\深港通每日资金流向（南向、北向资金）\n",
    "'''\n",
    "df = ts.moneyflow_hsgt()\n",
    "df.sort_values('date', ascending = False, inplace = True)\n",
    "#df"
   ]
  },
  {
   "cell_type": "code",
   "execution_count": 20,
   "metadata": {
    "collapsed": false
   },
   "outputs": [
    {
     "data": {
      "text/html": [
       "<div>\n",
       "<table border=\"1\" class=\"dataframe\">\n",
       "  <thead>\n",
       "    <tr style=\"text-align: right;\">\n",
       "      <th></th>\n",
       "      <th>bcode</th>\n",
       "      <th>bname</th>\n",
       "      <th>scode</th>\n",
       "      <th>sname</th>\n",
       "      <th>xcode</th>\n",
       "      <th>amount</th>\n",
       "      <th>marketprice</th>\n",
       "      <th>convprice</th>\n",
       "      <th>firstdayprice</th>\n",
       "      <th>ipo_date</th>\n",
       "      <th>issue_date</th>\n",
       "      <th>ballot</th>\n",
       "      <th>return</th>\n",
       "      <th>perreturn</th>\n",
       "    </tr>\n",
       "  </thead>\n",
       "  <tbody>\n",
       "    <tr>\n",
       "      <th>0</th>\n",
       "      <td>128020</td>\n",
       "      <td>水晶转债</td>\n",
       "      <td>002273</td>\n",
       "      <td>水晶光电</td>\n",
       "      <td>072273</td>\n",
       "      <td>11.80</td>\n",
       "      <td>NaN</td>\n",
       "      <td>29.90</td>\n",
       "      <td>NaN</td>\n",
       "      <td>2017-11-17</td>\n",
       "      <td>NaN</td>\n",
       "      <td>NaN</td>\n",
       "      <td>NaN</td>\n",
       "      <td>NaN</td>\n",
       "    </tr>\n",
       "    <tr>\n",
       "      <th>1</th>\n",
       "      <td>110039</td>\n",
       "      <td>宝信转债</td>\n",
       "      <td>600845</td>\n",
       "      <td>宝信软件</td>\n",
       "      <td>733845</td>\n",
       "      <td>16.00</td>\n",
       "      <td>NaN</td>\n",
       "      <td>18.46</td>\n",
       "      <td>NaN</td>\n",
       "      <td>2017-11-17</td>\n",
       "      <td>NaN</td>\n",
       "      <td>NaN</td>\n",
       "      <td>NaN</td>\n",
       "      <td>NaN</td>\n",
       "    </tr>\n",
       "    <tr>\n",
       "      <th>2</th>\n",
       "      <td>110038</td>\n",
       "      <td>济川转债</td>\n",
       "      <td>600566</td>\n",
       "      <td>济川药业</td>\n",
       "      <td>733566</td>\n",
       "      <td>8.43</td>\n",
       "      <td>NaN</td>\n",
       "      <td>41.04</td>\n",
       "      <td>NaN</td>\n",
       "      <td>2017-11-13</td>\n",
       "      <td>NaN</td>\n",
       "      <td>0.01%</td>\n",
       "      <td>NaN</td>\n",
       "      <td>864.21</td>\n",
       "    </tr>\n",
       "    <tr>\n",
       "      <th>3</th>\n",
       "      <td>113502</td>\n",
       "      <td>嘉澳转债</td>\n",
       "      <td>603822</td>\n",
       "      <td>嘉澳环保</td>\n",
       "      <td>754822</td>\n",
       "      <td>1.85</td>\n",
       "      <td>NaN</td>\n",
       "      <td>45.48</td>\n",
       "      <td>NaN</td>\n",
       "      <td>2017-11-10</td>\n",
       "      <td>NaN</td>\n",
       "      <td>0.00%</td>\n",
       "      <td>NaN</td>\n",
       "      <td>7277.21</td>\n",
       "    </tr>\n",
       "    <tr>\n",
       "      <th>4</th>\n",
       "      <td>128019</td>\n",
       "      <td>久立转2</td>\n",
       "      <td>002318</td>\n",
       "      <td>久立特材</td>\n",
       "      <td>072318</td>\n",
       "      <td>10.40</td>\n",
       "      <td>NaN</td>\n",
       "      <td>8.37</td>\n",
       "      <td>NaN</td>\n",
       "      <td>2017-11-08</td>\n",
       "      <td>NaN</td>\n",
       "      <td>0.01%</td>\n",
       "      <td>NaN</td>\n",
       "      <td>1968.62</td>\n",
       "    </tr>\n",
       "    <tr>\n",
       "      <th>5</th>\n",
       "      <td>128018</td>\n",
       "      <td>时达转债</td>\n",
       "      <td>002527</td>\n",
       "      <td>新时达</td>\n",
       "      <td>072527</td>\n",
       "      <td>8.83</td>\n",
       "      <td>NaN</td>\n",
       "      <td>11.90</td>\n",
       "      <td>NaN</td>\n",
       "      <td>2017-11-06</td>\n",
       "      <td>NaN</td>\n",
       "      <td>0.00%</td>\n",
       "      <td>NaN</td>\n",
       "      <td>2456.65</td>\n",
       "    </tr>\n",
       "  </tbody>\n",
       "</table>\n",
       "</div>"
      ],
      "text/plain": [
       "    bcode bname   scode sname   xcode  amount  marketprice  convprice  \\\n",
       "0  128020  水晶转债  002273  水晶光电  072273   11.80          NaN      29.90   \n",
       "1  110039  宝信转债  600845  宝信软件  733845   16.00          NaN      18.46   \n",
       "2  110038  济川转债  600566  济川药业  733566    8.43          NaN      41.04   \n",
       "3  113502  嘉澳转债  603822  嘉澳环保  754822    1.85          NaN      45.48   \n",
       "4  128019  久立转2  002318  久立特材  072318   10.40          NaN       8.37   \n",
       "5  128018  时达转债  002527   新时达  072527    8.83          NaN      11.90   \n",
       "\n",
       "   firstdayprice    ipo_date issue_date ballot return  perreturn  \n",
       "0            NaN  2017-11-17        NaN    NaN    NaN        NaN  \n",
       "1            NaN  2017-11-17        NaN    NaN    NaN        NaN  \n",
       "2            NaN  2017-11-13        NaN  0.01%    NaN     864.21  \n",
       "3            NaN  2017-11-10        NaN  0.00%    NaN    7277.21  \n",
       "4            NaN  2017-11-08        NaN  0.01%    NaN    1968.62  \n",
       "5            NaN  2017-11-06        NaN  0.00%    NaN    2456.65  "
      ]
     },
     "execution_count": 20,
     "metadata": {},
     "output_type": "execute_result"
    }
   ],
   "source": [
    "'''\n",
    "申购可转债列表\n",
    "'''\n",
    "#获取全部可转债列表（default = 0）\n",
    "df = ts.new_cbonds()\n",
    "df.head(6)"
   ]
  },
  {
   "cell_type": "code",
   "execution_count": 42,
   "metadata": {
    "collapsed": false
   },
   "outputs": [
    {
     "data": {
      "text/html": [
       "<div>\n",
       "<table border=\"1\" class=\"dataframe\">\n",
       "  <thead>\n",
       "    <tr style=\"text-align: right;\">\n",
       "      <th></th>\n",
       "      <th>amount</th>\n",
       "      <th>ask1</th>\n",
       "      <th>ask2</th>\n",
       "      <th>ask3</th>\n",
       "      <th>ask4</th>\n",
       "      <th>ask5</th>\n",
       "      <th>ask_vol1</th>\n",
       "      <th>ask_vol2</th>\n",
       "      <th>ask_vol3</th>\n",
       "      <th>ask_vol4</th>\n",
       "      <th>...</th>\n",
       "      <th>bid_vol5</th>\n",
       "      <th>code</th>\n",
       "      <th>cur_vol</th>\n",
       "      <th>high</th>\n",
       "      <th>last_close</th>\n",
       "      <th>low</th>\n",
       "      <th>open</th>\n",
       "      <th>price</th>\n",
       "      <th>s_vol</th>\n",
       "      <th>vol</th>\n",
       "    </tr>\n",
       "  </thead>\n",
       "  <tbody>\n",
       "    <tr>\n",
       "      <th>0</th>\n",
       "      <td>1.118178e+09</td>\n",
       "      <td>12.91</td>\n",
       "      <td>12.92</td>\n",
       "      <td>12.93</td>\n",
       "      <td>12.94</td>\n",
       "      <td>12.95</td>\n",
       "      <td>1540</td>\n",
       "      <td>106</td>\n",
       "      <td>242</td>\n",
       "      <td>67</td>\n",
       "      <td>...</td>\n",
       "      <td>912</td>\n",
       "      <td>600380</td>\n",
       "      <td>231</td>\n",
       "      <td>13.81</td>\n",
       "      <td>13.84</td>\n",
       "      <td>12.8</td>\n",
       "      <td>13.69</td>\n",
       "      <td>12.92</td>\n",
       "      <td>469359</td>\n",
       "      <td>835595</td>\n",
       "    </tr>\n",
       "  </tbody>\n",
       "</table>\n",
       "<p>1 rows × 31 columns</p>\n",
       "</div>"
      ],
      "text/plain": [
       "         amount   ask1   ask2   ask3   ask4   ask5  ask_vol1  ask_vol2  \\\n",
       "0  1.118178e+09  12.91  12.92  12.93  12.94  12.95      1540       106   \n",
       "\n",
       "   ask_vol3  ask_vol4   ...    bid_vol5    code  cur_vol   high  last_close  \\\n",
       "0       242        67   ...         912  600380      231  13.81       13.84   \n",
       "\n",
       "    low   open  price   s_vol     vol  \n",
       "0  12.8  13.69  12.92  469359  835595  \n",
       "\n",
       "[1 rows x 31 columns]"
      ]
     },
     "execution_count": 42,
     "metadata": {},
     "output_type": "execute_result"
    }
   ],
   "source": [
    "'''\n",
    "获取实时行情\n",
    "'''\n",
    "df = ts.quotes('600380', conn = cons)\n",
    "df"
   ]
  },
  {
   "cell_type": "code",
   "execution_count": null,
   "metadata": {
    "collapsed": true
   },
   "outputs": [],
   "source": []
  }
 ],
 "metadata": {
  "kernelspec": {
   "display_name": "Python 2",
   "language": "python",
   "name": "python2"
  },
  "language_info": {
   "codemirror_mode": {
    "name": "ipython",
    "version": 2
   },
   "file_extension": ".py",
   "mimetype": "text/x-python",
   "name": "python",
   "nbconvert_exporter": "python",
   "pygments_lexer": "ipython2",
   "version": "2.7.13"
  }
 },
 "nbformat": 4,
 "nbformat_minor": 0
}
