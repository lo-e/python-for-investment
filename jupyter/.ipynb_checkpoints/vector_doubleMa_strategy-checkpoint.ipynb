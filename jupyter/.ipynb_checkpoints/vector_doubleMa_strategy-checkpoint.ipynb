{
 "cells": [
  {
   "cell_type": "code",
   "execution_count": 2,
   "metadata": {
    "collapsed": true
   },
   "outputs": [],
   "source": [
    "'''\n",
    "python向量化回测双均线策略\n",
    "'''\n",
    "#画图\n",
    "% matplotlib inline\n",
    "import pandas #数据分析\n",
    "import tushare #数据获取"
   ]
  },
  {
   "cell_type": "code",
   "execution_count": null,
   "metadata": {
    "collapsed": false
   },
   "outputs": [],
   "source": [
    "'''\n",
    "课程策略\n",
    "'''\n",
    "#510050上证50ETF 600380健康元\n",
    "code = raw_input('code:> ') #股票代码\n",
    "date = raw_input('date:> ') #回测开始日期\n",
    "\n",
    "all_df = tushare.get_hist_data(code, date) #获取数据\n",
    "all_df = all_df.sort_index() #重新排序\n",
    "\n",
    "df = pandas.DataFrame()\n",
    "df['close'] = all_df['close']\n",
    "df['change'] = df['close'] - df['close'].shift(1) #计算当日收盘价相对于前一天涨跌\n",
    "df['ma5'] = df['close'].rolling(window = 5, center = False).mean() #计算ma5\n",
    "df['ma20'] = df['close'].rolling(window = 20, center = False).mean() #计算ma20\n",
    "df = df.dropna() #去掉带NaN的数据\n",
    "\n",
    "#当天的持仓根据前一天收盘后的ma5、和ma20的大小值确定\n",
    "df['pos'] = 0\n",
    "df['pos'][df['ma5'].shift(1) > df['ma20'].shift(1)] = 10000\n",
    "df['pos'][df['ma5'].shift(1) < df['ma20'].shift(1)] = -10000\n",
    "\n",
    "df['pnl'] = df['change'] * df['pos'] #当天盈亏\n",
    "df['fee'] = 0\n",
    "df['fee'] = (abs(df['pos'] - df['pos'].shift(1)) * df['close'].shift(1))*1.5/10000 #交易手续费\n",
    "df['fee'] = df['fee'].fillna(0)\n",
    "df['netpnl'] = df['pnl'] - df['fee'] #净盈亏\n",
    "\n",
    "df['cumpnl'] = df['netpnl'].cumsum() #累计盈亏\n",
    "df['p_cumpnl'] = (100 * df['cumpnl'] / (abs(df['pos']) * df['close'].shift(1))).fillna(0) #粗略用当前持有市值为成本计算累计盈亏比\n",
    "df['cumpnl'].plot() #累计盈亏曲线\n",
    "#df['p_cumpnl'].plot() #累计盈亏比曲线"
   ]
  },
  {
   "cell_type": "code",
   "execution_count": null,
   "metadata": {
    "collapsed": true
   },
   "outputs": [],
   "source": []
  },
  {
   "cell_type": "code",
   "execution_count": 5,
   "metadata": {
    "collapsed": false
   },
   "outputs": [],
   "source": [
    "'''\n",
    "我的策略\n",
    "'''\n",
    "#510050上证50ETF 600380健康元\n",
    "#code = raw_input('code:> ') #股票代码\n",
    "#date = raw_input('date:> ') #回测开始日期\n",
    "#money = raw_input('money:> ') #初始资金\n",
    "\n",
    "code = '600380'\n",
    "date = '2016-01-01'\n",
    "money = 100000\n",
    "\n",
    "all_df = tushare.get_hist_data(code, date) #获取数据\n",
    "all_df = all_df.sort_index() #重新排序"
   ]
  },
  {
   "cell_type": "code",
   "execution_count": 10,
   "metadata": {
    "collapsed": false
   },
   "outputs": [],
   "source": [
    "df = pandas.DataFrame()\n",
    "df['open'] = all_df['open']\n",
    "df['close'] = all_df['close']\n",
    "df['change'] = df['close'] - df['close'].shift(1) #计算当日收盘价相对于前一天涨跌\n",
    "df['ma5'] = df['close'].rolling(window = 5, center = False).mean() #计算ma5\n",
    "df['ma20'] = df['close'].rolling(window = 20, center = False).mean() #计算ma20\n",
    "df = df.dropna() #去掉带NaN的数据\n",
    "#df"
   ]
  },
  {
   "cell_type": "code",
   "execution_count": null,
   "metadata": {
    "collapsed": true
   },
   "outputs": [],
   "source": [
    "#当天的持仓根据前一天收盘后的ma5、和ma20的大小值确定\n",
    "df['pos'] = 0\n",
    "df['pos'][df['ma5'].shift(1) > df['ma20'].shift(1)] = 10000\n",
    "df['pos'][df['ma5'].shift(1) < df['ma20'].shift(1)] = -10000"
   ]
  },
  {
   "cell_type": "code",
   "execution_count": null,
   "metadata": {
    "collapsed": true
   },
   "outputs": [],
   "source": [
    "df['pnl'] = df['change'] * df['pos'] #当天盈亏\n",
    "df['fee'] = 0\n",
    "df['fee'] = (abs(df['pos'] - df['pos'].shift(1)) * df['close'].shift(1))*1.5/10000 #交易手续费\n",
    "df['fee'] = df['fee'].fillna(0)\n",
    "df['netpnl'] = df['pnl'] - df['fee'] #净盈亏"
   ]
  },
  {
   "cell_type": "code",
   "execution_count": null,
   "metadata": {
    "collapsed": true
   },
   "outputs": [],
   "source": [
    "df['cumpnl'] = df['netpnl'].cumsum() #累计盈亏\n",
    "df['p_cumpnl'] = (100 * df['cumpnl'] / (abs(df['pos']) * df['close'].shift(1))).fillna(0) #粗略用当前持有市值为成本计算累计盈亏比\n",
    "#df['cumpnl'].plot() #累计盈亏曲线\n",
    "#df['p_cumpnl'].plot() #累计盈亏比曲线\n",
    "#df"
   ]
  },
  {
   "cell_type": "code",
   "execution_count": null,
   "metadata": {
    "collapsed": true
   },
   "outputs": [],
   "source": []
  }
 ],
 "metadata": {
  "kernelspec": {
   "display_name": "Python 2",
   "language": "python",
   "name": "python2"
  },
  "language_info": {
   "codemirror_mode": {
    "name": "ipython",
    "version": 2
   },
   "file_extension": ".py",
   "mimetype": "text/x-python",
   "name": "python",
   "nbconvert_exporter": "python",
   "pygments_lexer": "ipython2",
   "version": "2.7.13"
  }
 },
 "nbformat": 4,
 "nbformat_minor": 0
}
