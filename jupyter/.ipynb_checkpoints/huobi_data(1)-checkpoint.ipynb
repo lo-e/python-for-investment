{
 "cells": [
  {
   "cell_type": "code",
   "execution_count": null,
   "metadata": {},
   "outputs": [],
   "source": [
    "import requests\n",
    "import time\n",
    "import datetime\n",
    "import csv"
   ]
  },
  {
   "cell_type": "code",
   "execution_count": null,
   "metadata": {},
   "outputs": [],
   "source": [
    "def get_data(ts):\n",
    "    url = 'https://min-api.cryptocompare.com/data/histohour'\n",
    "\n",
    "    params = {\n",
    "        'fsym': \"BTC\",\n",
    "        'tsym': \"USDT\",\n",
    "        'e': \"HuobiPro\",\n",
    "        #'e': \"CCCAGG\",\n",
    "        \"limit\": 2000,\n",
    "        'toTs': int(ts),\n",
    "    }\n",
    "    \n",
    "    resp = requests.get(url, headers={}, params=params)\n",
    "    data = resp.json()[\"Data\"]\n",
    "    if not data:\n",
    "        print(resp.json())\n",
    "    return data\n",
    "\n",
    "def convert_data(data):\n",
    "    converted = {}\n",
    "    for d in data:\n",
    "        dt = datetime.datetime.fromtimestamp(d[\"time\"])\n",
    "        new_d = {\n",
    "            \"Datetime\": dt.strftime(\"%Y-%m-%d %H:%M:%S\"),\n",
    "            \"Open\": d[\"open\"],\n",
    "            \"High\": d[\"high\"],\n",
    "            \"Low\": d[\"low\"],\n",
    "            \"Close\": d[\"close\"],\n",
    "            \"Volume\": d[\"volumeto\"]\n",
    "        }\n",
    "        converted[dt] = new_d\n",
    "        \n",
    "    return converted"
   ]
  },
  {
   "cell_type": "code",
   "execution_count": null,
   "metadata": {},
   "outputs": [],
   "source": [
    "ts = time.time()\n",
    "end = time.mktime(datetime.datetime(2017,1,1).timetuple())\n",
    "\n",
    "result_data = {}\n",
    "\n",
    "while True:\n",
    "    data = get_data(ts)\n",
    "    converted = convert_data(data)\n",
    "    \n",
    "    result_data.update(converted)\n",
    "    \n",
    "    ts =  data[0][\"time\"]\n",
    "    print(\"ts\", datetime.datetime.fromtimestamp(ts))\n",
    "    if ts <= end:\n",
    "        break\n",
    "\n",
    "print(\"finished\")"
   ]
  },
  {
   "cell_type": "code",
   "execution_count": null,
   "metadata": {},
   "outputs": [],
   "source": [
    "dt_list = list(result_data.keys())\n",
    "dt_list.sort()\n",
    "\n",
    "new_result = []\n",
    "for dt in dt_list:\n",
    "    d = result_data[dt]\n",
    "    new_result.append(d)\n",
    "    \n",
    "print(new_result)"
   ]
  },
  {
   "cell_type": "code",
   "execution_count": null,
   "metadata": {},
   "outputs": [],
   "source": [
    "from csv import DictWriter\n",
    "\n",
    "with open(\"btc_data.csv\", \"w\", newline=\"\") as f:\n",
    "    writer = DictWriter(f, [\"Datetime\", \"Open\", \"High\", \"Low\", \"Close\", \"Volume\"])\n",
    "    writer.writeheader()\n",
    "    \n",
    "    for d in new_result:\n",
    "        if d[\"Open\"]:\n",
    "            writer.writerow(d)"
   ]
  },
  {
   "cell_type": "code",
   "execution_count": null,
   "metadata": {},
   "outputs": [],
   "source": []
  },
  {
   "cell_type": "code",
   "execution_count": null,
   "metadata": {},
   "outputs": [],
   "source": []
  }
 ],
 "metadata": {
  "kernelspec": {
   "display_name": "Python 3",
   "language": "python",
   "name": "python3"
  },
  "language_info": {
   "codemirror_mode": {
    "name": "ipython",
    "version": 3
   },
   "file_extension": ".py",
   "mimetype": "text/x-python",
   "name": "python",
   "nbconvert_exporter": "python",
   "pygments_lexer": "ipython3",
   "version": "3.7.3"
  }
 },
 "nbformat": 4,
 "nbformat_minor": 2
}
