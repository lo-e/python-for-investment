{
 "cells": [
  {
   "cell_type": "code",
   "execution_count": 1,
   "metadata": {},
   "outputs": [],
   "source": [
    "from pymongo import MongoClient, ASCENDING, DESCENDING\n",
    "from datetime import datetime\n",
    "from vnpy.app.cta_strategy.base import (MINUTE_DB_NAME,\n",
    "                                        DAILY_DB_NAME,\n",
    "                                        TICK_DB_NAME,\n",
    "                                        DOMINANT_DB_NAME)\n",
    "from vnpy.trader.object import BarData, TickData"
   ]
  },
  {
   "cell_type": "code",
   "execution_count": 2,
   "metadata": {},
   "outputs": [],
   "source": [
    "client = MongoClient('localhost', 27017, serverSelectionTimeoutMS = 600)       # Mongo连接\n",
    "client.server_info()\n",
    "dbDaily = client[DAILY_DB_NAME]\n",
    "dbTick = client[TICK_DB_NAME]"
   ]
  },
  {
   "cell_type": "code",
   "execution_count": 3,
   "metadata": {},
   "outputs": [
    {
     "name": "stdout",
     "output_type": "stream",
     "text": [
      "vt_symbol:\n",
      "vt_symbol:RB1910.RQ\n"
     ]
    }
   ],
   "source": [
    "cl = dbDaily['RB1910']\n",
    "cl.create_index([('datetime', ASCENDING)], unique=True)         # 添加索引\n",
    "cursor = cl.find(None).sort('datetime')\n",
    "\"\"\"\n",
    "start = datetime.strptime('2019-9-27 07:59:50', '%Y-%m-%d %H:%M:%S')\n",
    "end = datetime.strptime('2019-9-27 08:00:10', '%Y-%m-%d %H:%M:%S')\n",
    "flt = {'datetime': {'$gte':start,\n",
    "                    '$lte':end}}\n",
    "cursor = cl.find(flt).sort('datetime', ASCENDING)\n",
    "\"\"\"\n",
    "b = None\n",
    "for dic in cursor:\n",
    "    b = BarData(gateway_name='', symbol='', exchange=None, datetime=None, endDatetime=None)\n",
    "    value = getattr(b, 'vt_symbol')\n",
    "    print(f'vt_symbol:{value}')\n",
    "    b.__dict__ = dic\n",
    "    value = getattr(b, 'vt_symbol')\n",
    "    print(f'vt_symbol:{value}')\n",
    "    break"
   ]
  },
  {
   "cell_type": "code",
   "execution_count": 11,
   "metadata": {
    "scrolled": true
   },
   "outputs": [
    {
     "name": "stdout",
     "output_type": "stream",
     "text": [
      "test\n",
      "test\n"
     ]
    }
   ],
   "source": [
    "cl = dbTick['eos.usd.q']\n",
    "cl.create_index('datetime')         # 添加索引\n",
    "#cursor = cl.find(None).sort('datetime', DESCENDING)\n",
    "#\"\"\"\n",
    "start = datetime.strptime('2019-11-18 07:59:50', '%Y-%m-%d %H:%M:%S')\n",
    "end = datetime.strptime('2019-11-19 08:00:10', '%Y-%m-%d %H:%M:%S')\n",
    "flt = {'datetime': {'$gte':start,\n",
    "                    '$lte':end}}\n",
    "cursor = cl.find(flt).sort('datetime', DESCENDING)\n",
    "#\"\"\"\n",
    "b = None\n",
    "for dic in cursor:\n",
    "    tick = TickData(gateway_name='', symbol='', exchange=None, datetime=None)\n",
    "    tick.__dict__ = dic\n",
    "    #print(f'vt_symbol:{tick.vt_symbol}\\t{tick.datetime}\\t{tick.symbol}\\t{tick.last_price}')"
   ]
  },
  {
   "cell_type": "code",
   "execution_count": null,
   "metadata": {},
   "outputs": [],
   "source": []
  }
 ],
 "metadata": {
  "kernelspec": {
   "display_name": "Python 3",
   "language": "python",
   "name": "python3"
  },
  "language_info": {
   "codemirror_mode": {
    "name": "ipython",
    "version": 3
   },
   "file_extension": ".py",
   "mimetype": "text/x-python",
   "name": "python",
   "nbconvert_exporter": "python",
   "pygments_lexer": "ipython3",
   "version": "3.7.3"
  }
 },
 "nbformat": 4,
 "nbformat_minor": 2
}
