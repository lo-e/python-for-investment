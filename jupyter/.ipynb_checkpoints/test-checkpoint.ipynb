{
 "cells": [
  {
   "cell_type": "code",
   "execution_count": 1,
   "metadata": {},
   "outputs": [],
   "source": [
    "import re\n",
    "from vnpy.trader.constant import Exchange\n",
    "from vnpy.app.cta_strategy.base import EXCHANGE_SYMBOL_DICT\n",
    "from datetime import datetime, timedelta"
   ]
  },
  {
   "cell_type": "code",
   "execution_count": 36,
   "metadata": {},
   "outputs": [
    {
     "name": "stdout",
     "output_type": "stream",
     "text": [
      "2000\n"
     ]
    }
   ],
   "source": [
    "fromDate = datetime.strptime('2012-6-10', '%Y-%m-%d')\n",
    "toDate = datetime.strptime('2017-12-01', '%Y-%m-%d')\n",
    "\n",
    "count = 0\n",
    "while fromDate.date() != toDate.date():\n",
    "    count += 1\n",
    "    fromDate = fromDate + timedelta(1)\n",
    "\n",
    "print(count)"
   ]
  },
  {
   "cell_type": "code",
   "execution_count": 16,
   "metadata": {},
   "outputs": [
    {
     "name": "stdout",
     "output_type": "stream",
     "text": [
      "1563864223\n"
     ]
    }
   ],
   "source": [
    "# 当前时间戳\n",
    "import time\n",
    "a = int(time.time())\n",
    "print(a)"
   ]
  },
  {
   "cell_type": "code",
   "execution_count": 59,
   "metadata": {},
   "outputs": [
    {
     "name": "stdout",
     "output_type": "stream",
     "text": [
      "2017-12-01 22:00:00\n"
     ]
    }
   ],
   "source": [
    "# 时间戳转时间\n",
    "timeStamp = 1512136800\n",
    "date = datetime.fromtimestamp(timeStamp)\n",
    "print(date)"
   ]
  },
  {
   "cell_type": "code",
   "execution_count": 23,
   "metadata": {},
   "outputs": [
    {
     "name": "stdout",
     "output_type": "stream",
     "text": [
      "1563580800.0\n"
     ]
    }
   ],
   "source": [
    "# 时间转时间戳\n",
    "a = '2019-07-20 08:00:00'\n",
    "b = datetime.strptime(a, '%Y-%m-%d %H:%M:%S')\n",
    "print(b.timestamp())"
   ]
  },
  {
   "cell_type": "code",
   "execution_count": 1,
   "metadata": {},
   "outputs": [],
   "source": [
    "import requests\n",
    "URL_EXCHANGES = 'https://www.cryptocompare.com/api/data/exchanges'\n",
    "response = requests.get(URL_EXCHANGES).json()\n",
    "data = response['Data']\n",
    "print(data.keys())"
   ]
  },
  {
   "cell_type": "code",
   "execution_count": 1,
   "metadata": {
    "scrolled": true
   },
   "outputs": [],
   "source": [
    "from pymongo import MongoClient, ASCENDING, DESCENDING\n",
    "from vnpy.app.cta_strategy.base import TICK_DB_NAME, MINUTE_DB_NAME, DAILY_DB_NAME, MinuteDataBaseName, HourDataBaseName\n",
    "from datetime import datetime\n",
    "from vnpy.trader.object import BarData, TickData"
   ]
  },
  {
   "cell_type": "code",
   "execution_count": 54,
   "metadata": {},
   "outputs": [
    {
     "name": "stdout",
     "output_type": "stream",
     "text": [
      "vt_symbol:BTCUSD.BYBIT\t2020-06-23 12:11:33.868000\tBTCUSD\t9641.5\n",
      "vt_symbol:ETHUSD.BYBIT\t2020-06-23 12:11:33.844000\tETHUSD\t242.4\n"
     ]
    }
   ],
   "source": [
    "# ====== Tick ======\n",
    "client = MongoClient('localhost', 27017, serverSelectionTimeoutMS = 600)       # Mongo连接\n",
    "client.server_info()\n",
    "dbTick = client[TICK_DB_NAME]\n",
    "symbol_list = ['BTCUSD', 'ETHUSD']\n",
    "for symbol in symbol_list:\n",
    "    cl = dbTick[symbol]\n",
    "    cl.create_index('datetime')         # 添加索引\n",
    "    start = datetime.strptime('2020-6-22 06:00:00', '%Y-%m-%d %H:%M:%S')\n",
    "    end = datetime.strptime('2020-6-22 08:15:50', '%Y-%m-%d %H:%M:%S')\n",
    "    flt = {'datetime': {'$gte':start,\n",
    "                        '$lte':end}}\n",
    "    cursor = cl.find({}).sort('datetime', DESCENDING)\n",
    "    count = 0\n",
    "    for dic in cursor:\n",
    "        tick = TickData(gateway_name='', symbol='', exchange=None, datetime=None)\n",
    "        tick.__dict__ = dic\n",
    "        print(f'vt_symbol:{tick.vt_symbol}\\t{tick.datetime}\\t{tick.symbol}\\t{tick.last_price}')\n",
    "        count += 1\n",
    "        if count >= 1:\n",
    "            break"
   ]
  },
  {
   "cell_type": "code",
   "execution_count": 41,
   "metadata": {},
   "outputs": [
    {
     "name": "stdout",
     "output_type": "stream",
     "text": [
      "2020-06-23 08:00:00 9693.0\n",
      "2020-06-23 07:59:00 9693.5\n",
      "2020-06-23 07:58:00 9698.0\n",
      "2020-06-23 07:57:00 9698.0\n",
      "2020-06-23 07:56:00 9696.0\n",
      "2020-06-23 07:55:00 9696.0\n"
     ]
    }
   ],
   "source": [
    "# ====== Minute ======\n",
    "client = MongoClient('localhost', 27017)\n",
    "db = client[MINUTE_DB_NAME]\n",
    "collection = db['BTCUSD.BYBIT']\n",
    "#collection = db['ZN2006']\n",
    "start = datetime.strptime('2020-3-24 00:00:00', '%Y-%m-%d %H:%M:%S')\n",
    "end = datetime.strptime('2020-3-25 00:00:00', '%Y-%m-%d %H:%M:%S')\n",
    "flt = {'datetime': {'$gte':start,\n",
    "                    '$lte':end}}\n",
    "cursor = collection.find().sort('datetime', DESCENDING)\n",
    "count = 0\n",
    "for dic in cursor:\n",
    "    print(dic['datetime'], dic['open_price'])\n",
    "    count += 1\n",
    "    if count >= 6:\n",
    "        break"
   ]
  },
  {
   "cell_type": "code",
   "execution_count": 5,
   "metadata": {},
   "outputs": [
    {
     "name": "stdout",
     "output_type": "stream",
     "text": [
      "BTCUSD.BYBIT\t2020-07-06 08:00:00\t9079.0\t9380.0\t9064.0\t9345.5\n",
      "BTCUSD.BYBIT\t2020-07-05 08:00:00\t9141.0\t9147.0\t8903.5\t9079.0\n",
      "BTCUSD.BYBIT\t2020-07-04 08:00:00\t9057.0\t9197.0\t9041.5\t9141.0\n",
      "BTCUSD.BYBIT\t2020-07-03 08:00:00\t9085.0\t9122.5\t9038.0\t9057.0\n",
      "BTCUSD.BYBIT\t2020-07-02 08:00:00\t9234.0\t9258.5\t8932.5\t9085.0\n",
      "BTCUSD.BYBIT\t2020-07-01 08:00:00\t9130.5\t9296.5\t9084.5\t9234.0\n",
      "\n",
      "\n",
      "ETHUSD.BYBIT\t2020-07-06 08:00:00\t227.75\t242.3\t227.0\t241.65\n",
      "ETHUSD.BYBIT\t2020-07-05 08:00:00\t229.4\t230.05\t223.15\t227.75\n",
      "ETHUSD.BYBIT\t2020-07-04 08:00:00\t224.9\t230.75\t224.4\t229.4\n",
      "ETHUSD.BYBIT\t2020-07-03 08:00:00\t226.25\t228.15\t224.05\t224.9\n",
      "ETHUSD.BYBIT\t2020-07-02 08:00:00\t230.95\t232.1\t222.85\t226.25\n",
      "ETHUSD.BYBIT\t2020-07-01 08:00:00\t225.35\t232.9\t223.95\t230.95\n",
      "\n",
      "\n",
      "\n",
      "\n"
     ]
    }
   ],
   "source": [
    "# ====== Daily ======\n",
    "client = MongoClient('localhost', 27017)\n",
    "db = client[DAILY_DB_NAME]\n",
    "symbol_list = ['BTCUSD.BYBIT', 'ETHUSD.BYBIT', 'EOSUSD.BYBIT']\n",
    "#symbol_list = ['BTC.USDT.OKEX', 'ETH.USDT.OKEX', 'EOS.USDT.OKEX']\n",
    "#symbol_list = ['Poloniex/BTC.USDT', 'Poloniex/ETH.USDT']\n",
    "#symbol_list = ['Poloniex/BTC.USDT', 'Poloniex/ETH.USDT', 'Poloniex/EOS.USDT']\n",
    "for symbol in symbol_list:\n",
    "    collection = db[symbol]\n",
    "    start = datetime.strptime('2020-6-1 00:00:00', '%Y-%m-%d %H:%M:%S')\n",
    "    end = datetime.strptime('2020-6-27 00:06:00', '%Y-%m-%d %H:%M:%S')\n",
    "    flt = {'datetime': {'$gte':start,\n",
    "                        '$lte':end}}\n",
    "    cursor = collection.find({}).sort('datetime', DESCENDING)\n",
    "    count = 0\n",
    "    for dic in cursor:\n",
    "        symbol = dic['symbol']\n",
    "        the_datetime = dic['datetime']\n",
    "        open_price = dic['open_price']\n",
    "        high_price = dic['high_price']\n",
    "        low_price = dic['low_price']\n",
    "        close_price = dic['close_price']\n",
    "        print(f'{symbol}\\t{the_datetime}\\t{open_price}\\t{high_price}\\t{low_price}\\t{close_price}')\n",
    "        count += 1\n",
    "        if count >= 6:\n",
    "            break\n",
    "    print('\\n')"
   ]
  },
  {
   "cell_type": "code",
   "execution_count": 3,
   "metadata": {
    "scrolled": false
   },
   "outputs": [
    {
     "name": "stdout",
     "output_type": "stream",
     "text": [
      "ETHUSD.BYBIT\tNone\t2020-06-15 08:00:00\t231.7\t233.8\t217.85\t230.95\n",
      "\n",
      "\n"
     ]
    }
   ],
   "source": [
    "symbol_list = ['RB2005', 'HC2005', 'SM2005', 'J2005', 'ZC2005', 'TA2005',\n",
    "              'RB99', 'HC99', 'SM99', 'J99', 'ZC99', 'TA99']\n",
    "symbol_list = ['ETHUSD.BYBIT']\n",
    "client = MongoClient('localhost', 27017)\n",
    "db = client[DAILY_DB_NAME]\n",
    "for symbol in symbol_list:\n",
    "    collection = db[symbol]\n",
    "    cursor = collection.find({}).sort('datetime', DESCENDING)\n",
    "    count = 0\n",
    "    for dic in cursor:\n",
    "        count += 1\n",
    "        if count == 1:\n",
    "            symbol = dic['symbol']\n",
    "            exchange = dic['exchange']\n",
    "            the_datetime = dic['datetime']\n",
    "            open_price = dic['open_price']\n",
    "            high_price = dic['high_price']\n",
    "            low_price = dic['low_price']\n",
    "            close_price = dic['close_price']\n",
    "            print(f'{symbol}\\t{exchange}\\t{the_datetime}\\t{open_price}\\t{high_price}\\t{low_price}\\t{close_price}')\n",
    "            break\n",
    "        \n",
    "    print('\\n')"
   ]
  },
  {
   "cell_type": "code",
   "execution_count": 59,
   "metadata": {},
   "outputs": [
    {
     "ename": "IndentationError",
     "evalue": "expected an indented block (<ipython-input-59-025e50492adc>, line 18)",
     "output_type": "error",
     "traceback": [
      "\u001b[1;36m  File \u001b[1;32m\"<ipython-input-59-025e50492adc>\"\u001b[1;36m, line \u001b[1;32m18\u001b[0m\n\u001b[1;33m    count += 1\u001b[0m\n\u001b[1;37m        ^\u001b[0m\n\u001b[1;31mIndentationError\u001b[0m\u001b[1;31m:\u001b[0m expected an indented block\n"
     ]
    }
   ],
   "source": [
    "# ====== 检查Tick质量 ======\n",
    "client = MongoClient('localhost', 27017, serverSelectionTimeoutMS = 600)       # Mongo连接\n",
    "client.server_info()\n",
    "dbTick = client[TICK_DB_NAME]\n",
    "cl = dbTick['BTCUSD']\n",
    "cl.create_index('datetime')         # 添加索引\n",
    "start = datetime.strptime('2019-12-20 07:59:50', '%Y-%m-%d %H:%M:%S')\n",
    "end = datetime.strptime('2019-12-30 08:00:10', '%Y-%m-%d %H:%M:%S')\n",
    "flt = {'datetime': {'$gte':start,\n",
    "                    '$lte':end}}\n",
    "cursor = cl.find(flt).sort('datetime')\n",
    "count = 0\n",
    "for dic in cursor:\n",
    "    tick = TickData(gateway_name='', symbol='', exchange=None, datetime=None)\n",
    "    tick.__dict__ = dic\n",
    "    if tick.last_price == 0:\n",
    "        print(f'vt_symbol:{tick.vt_symbol}\\t{tick.datetime}\\t{tick.symbol}\\t{tick.last_price}\\t{tick.ask_price_1}\\t{tick.bid_price_1}')\n",
    "    count += 1\n",
    "print(count)"
   ]
  },
  {
   "cell_type": "code",
   "execution_count": 77,
   "metadata": {},
   "outputs": [],
   "source": [
    "from math import log, sqrt, pow, exp\n",
    "def testCal(a:float, b:float) -> float:\n",
    "    #return a + b\n",
    "    i = 0\n",
    "    a = 1\n",
    "    while i < 100:\n",
    "        a = a*log(2)\n",
    "        i += 1\n",
    "    return a"
   ]
  },
  {
   "cell_type": "code",
   "execution_count": 78,
   "metadata": {},
   "outputs": [
    {
     "name": "stdout",
     "output_type": "stream",
     "text": [
      "18.9 µs ± 1.51 µs per loop (mean ± std. dev. of 7 runs, 100000 loops each)\n"
     ]
    }
   ],
   "source": [
    "%timeit testCal(1, 2)"
   ]
  },
  {
   "cell_type": "code",
   "execution_count": 75,
   "metadata": {},
   "outputs": [
    {
     "data": {
      "text/plain": [
       "3"
      ]
     },
     "execution_count": 75,
     "metadata": {},
     "output_type": "execute_result"
    }
   ],
   "source": [
    "testCal(1, 2)"
   ]
  },
  {
   "cell_type": "code",
   "execution_count": 17,
   "metadata": {},
   "outputs": [],
   "source": [
    "import sys\n",
    "def get_build_version():\n",
    "    \"\"\"Return the version of MSVC that was used to build Python.\n",
    "\n",
    "    For Python 2.3 and up, the version number is included in\n",
    "    sys.version.  For earlier versions, assume the compiler is MSVC 6.\n",
    "    \"\"\"\n",
    "    prefix = \"MSC v.\"\n",
    "    i = sys.version.find(prefix)\n",
    "    if i == -1:\n",
    "        return 6\n",
    "    i = i + len(prefix)\n",
    "    s, rest = sys.version[i:].split(\" \", 1)\n",
    "    print(s)\n",
    "    majorVersion = int(s[:-2]) - 6\n",
    "    if majorVersion >= 13:\n",
    "        # v13 was skipped and should be v14\n",
    "        majorVersion += 1\n",
    "    print(int(s[2:3]))\n",
    "    minorVersion = int(s[2:3]) / 10.0\n",
    "    print(minorVersion)\n",
    "    # I don't think paths are affected by minor version in version 6\n",
    "    if majorVersion == 6:\n",
    "        minorVersion = 0\n",
    "    if majorVersion >= 6:\n",
    "        return majorVersion + minorVersion\n",
    "    # else we don't know what version of the compiler this is\n",
    "    return None"
   ]
  },
  {
   "cell_type": "code",
   "execution_count": 37,
   "metadata": {},
   "outputs": [
    {
     "name": "stdout",
     "output_type": "stream",
     "text": [
      "123456\n",
      "123456\n",
      "123456\n",
      "123456\n",
      "123456\n",
      "123456\n",
      "123456\n",
      "123456\n",
      "123456\n",
      "123456\n",
      "123456\n",
      "123456\n",
      "123456\n",
      "123456\n",
      "123456\n",
      "123456\n",
      "123456\n",
      "123456\n",
      "123456\n",
      "123456\n",
      "123456\n",
      "123456\n",
      "123456\n",
      "123456\n",
      "123456\n"
     ]
    }
   ],
   "source": [
    "from time import sleep\n",
    "def function_test():\n",
    "    print('abcxyz')\n",
    "    \n",
    "def function_test1():\n",
    "    print('a')\n",
    "    sleep(2)"
   ]
  },
  {
   "cell_type": "code",
   "execution_count": 33,
   "metadata": {},
   "outputs": [
    {
     "name": "stdout",
     "output_type": "stream",
     "text": [
      "123456\n",
      "<bound method Thread.getName of <_MainThread(MainThread, started 18952)>>\n"
     ]
    }
   ],
   "source": [
    "from threading import Thread\n",
    "import threading\n",
    "a = threading.current_thread().getName\n",
    "print(a)"
   ]
  },
  {
   "cell_type": "code",
   "execution_count": 35,
   "metadata": {},
   "outputs": [
    {
     "name": "stdout",
     "output_type": "stream",
     "text": [
      "123456\n",
      "abcxyz\n",
      "123456\n",
      "======\n",
      "None\n",
      "======\n",
      "<Thread(Thread-38, stopped 21312)>\n",
      "======\n",
      "<Thread(abc, started 18756)>\n",
      "======\n"
     ]
    },
    {
     "ename": "KeyError",
     "evalue": "<Thread(abc, started 18756)>",
     "output_type": "error",
     "traceback": [
      "\u001b[1;31m---------------------------------------------------------------------------\u001b[0m",
      "\u001b[1;31mKeyError\u001b[0m                                  Traceback (most recent call last)",
      "\u001b[1;32m<ipython-input-35-5bffb9df84c2>\u001b[0m in \u001b[0;36m<module>\u001b[1;34m\u001b[0m\n\u001b[0;32m     10\u001b[0m \u001b[0mprint\u001b[0m\u001b[1;33m(\u001b[0m\u001b[0mb\u001b[0m\u001b[1;33m)\u001b[0m\u001b[1;33m\u001b[0m\u001b[1;33m\u001b[0m\u001b[0m\n\u001b[0;32m     11\u001b[0m \u001b[0mprint\u001b[0m\u001b[1;33m(\u001b[0m\u001b[1;34m'======'\u001b[0m\u001b[1;33m)\u001b[0m\u001b[1;33m\u001b[0m\u001b[1;33m\u001b[0m\u001b[0m\n\u001b[1;32m---> 12\u001b[1;33m \u001b[1;32mdel\u001b[0m \u001b[0mthreading\u001b[0m\u001b[1;33m.\u001b[0m\u001b[0m_active\u001b[0m\u001b[1;33m[\u001b[0m\u001b[0mb\u001b[0m\u001b[1;33m]\u001b[0m\u001b[1;33m\u001b[0m\u001b[1;33m\u001b[0m\u001b[0m\n\u001b[0m",
      "\u001b[1;31mKeyError\u001b[0m: <Thread(abc, started 18756)>"
     ]
    },
    {
     "name": "stdout",
     "output_type": "stream",
     "text": [
      "123456\n",
      "123456\n",
      "123456\n",
      "123456\n",
      "123456\n",
      "123456\n",
      "123456\n",
      "123456\n",
      "123456\n",
      "123456\n",
      "123456\n",
      "123456\n",
      "123456\n",
      "123456\n",
      "123456\n",
      "123456\n",
      "123456\n",
      "123456\n",
      "123456\n",
      "123456\n",
      "123456\n",
      "123456\n",
      "123456\n",
      "123456\n",
      "123456\n",
      "123456\n",
      "123456\n",
      "123456\n",
      "123456\n",
      "123456\n",
      "123456\n",
      "123456\n",
      "123456\n",
      "123456\n",
      "123456\n",
      "123456\n",
      "123456\n",
      "123456\n",
      "123456\n",
      "123456\n",
      "123456\n",
      "123456\n",
      "123456\n",
      "123456\n",
      "123456\n",
      "123456\n",
      "123456\n",
      "123456\n",
      "123456\n",
      "123456\n",
      "123456\n",
      "123456\n",
      "123456\n",
      "123456\n",
      "123456\n",
      "123456\n",
      "123456\n",
      "123456\n",
      "123456\n",
      "123456\n",
      "123456\n",
      "123456\n",
      "123456\n",
      "123456\n",
      "123456\n",
      "123456\n",
      "123456\n",
      "123456\n",
      "123456\n",
      "123456\n",
      "123456\n",
      "123456\n"
     ]
    }
   ],
   "source": [
    "a = Thread(target=function_test)\n",
    "b = Thread(target=function_test1, name='abc')\n",
    "a.start()\n",
    "b.start()\n",
    "print('======')\n",
    "print(tid)\n",
    "print('======')\n",
    "print(a)\n",
    "print('======')\n",
    "print(b)\n",
    "print('======')\n",
    "del threading._active[b]"
   ]
  },
  {
   "cell_type": "code",
   "execution_count": null,
   "metadata": {},
   "outputs": [],
   "source": []
  },
  {
   "cell_type": "code",
   "execution_count": null,
   "metadata": {},
   "outputs": [],
   "source": []
  }
 ],
 "metadata": {
  "kernelspec": {
   "display_name": "Python 3",
   "language": "python",
   "name": "python3"
  },
  "language_info": {
   "codemirror_mode": {
    "name": "ipython",
    "version": 3
   },
   "file_extension": ".py",
   "mimetype": "text/x-python",
   "name": "python",
   "nbconvert_exporter": "python",
   "pygments_lexer": "ipython3",
   "version": "3.7.6"
  }
 },
 "nbformat": 4,
 "nbformat_minor": 1
}
