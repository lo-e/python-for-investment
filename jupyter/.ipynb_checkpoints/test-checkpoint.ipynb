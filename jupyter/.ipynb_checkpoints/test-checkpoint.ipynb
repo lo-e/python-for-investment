{
 "cells": [
  {
   "cell_type": "code",
   "execution_count": 5,
   "metadata": {},
   "outputs": [],
   "source": [
    "import numpy as np\n",
    "import talib"
   ]
  },
  {
   "cell_type": "code",
   "execution_count": 32,
   "metadata": {},
   "outputs": [
    {
     "name": "stdout",
     "output_type": "stream",
     "text": [
      "[         nan          nan  68.18181818  39.47368421  39.47368421  50.\n",
      "  79.09090909  88.83495146  88.83495146  14.87804878  58.28685259\n",
      "  81.24328198]\n"
     ]
    }
   ],
   "source": [
    "size = 10\n",
    "close = np.array([1.0, 16.0, 9.0, 1.0, 1.0, 2.0, 6.0, 9.0, 9.0, 1.0, 6.0, 12.0])\n",
    "result = talib.RSI(close, 2)\n",
    "ma = talib.SMA(close, 2)\n",
    "#print ma\n",
    "print result"
   ]
  },
  {
   "cell_type": "code",
   "execution_count": 27,
   "metadata": {},
   "outputs": [],
   "source": [
    "from vnpy.trader.constant import Exchange"
   ]
  },
  {
   "cell_type": "code",
   "execution_count": 32,
   "metadata": {},
   "outputs": [],
   "source": [
    "from datetime import datetime"
   ]
  },
  {
   "cell_type": "code",
   "execution_count": 39,
   "metadata": {},
   "outputs": [
    {
     "name": "stdout",
     "output_type": "stream",
     "text": [
      "2019-06-25 00:00:00\n"
     ]
    }
   ],
   "source": [
    "a = datetime.strptime('2019-06-25', '%Y-%m-%d')\n",
    "print(a)"
   ]
  },
  {
   "cell_type": "code",
   "execution_count": null,
   "metadata": {},
   "outputs": [],
   "source": [
    "print(2)"
   ]
  }
 ],
 "metadata": {
  "kernelspec": {
   "display_name": "Python 3",
   "language": "python",
   "name": "python3"
  },
  "language_info": {
   "codemirror_mode": {
    "name": "ipython",
    "version": 3
   },
   "file_extension": ".py",
   "mimetype": "text/x-python",
   "name": "python",
   "nbconvert_exporter": "python",
   "pygments_lexer": "ipython3",
   "version": "3.7.3"
  }
 },
 "nbformat": 4,
 "nbformat_minor": 1
}
