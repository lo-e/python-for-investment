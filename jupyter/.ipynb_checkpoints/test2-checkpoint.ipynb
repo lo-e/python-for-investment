{
 "cells": [
  {
   "cell_type": "code",
   "execution_count": 3,
   "metadata": {
    "collapsed": false
   },
   "outputs": [
    {
     "data": {
      "text/plain": [
       "array([1, 2, 3, 4, 5, 6])"
      ]
     },
     "execution_count": 3,
     "metadata": {},
     "output_type": "execute_result"
    }
   ],
   "source": [
    "import numpy as np\n",
    "a = [1,2,3,4,5,6]\n",
    "nd_a = np.array(a)\n",
    "nd_a"
   ]
  },
  {
   "cell_type": "code",
   "execution_count": null,
   "metadata": {
    "collapsed": false
   },
   "outputs": [],
   "source": [
    "b = [[1,2,3], [4,5,6]]\n",
    "nd_b = np.array(b,float)\n",
    "print type(nd_b)\n",
    "print nd_b.dtype\n",
    "print nd_b.shape"
   ]
  },
  {
   "cell_type": "code",
   "execution_count": null,
   "metadata": {
    "collapsed": false
   },
   "outputs": [],
   "source": [
    "c = [[[1,2,3], [4,5,6]],[[7,8,9], [10,11,12]]]\n",
    "nd_c = np.array(c)\n",
    "nd_c"
   ]
  },
  {
   "cell_type": "code",
   "execution_count": null,
   "metadata": {
    "collapsed": false
   },
   "outputs": [],
   "source": [
    "d = np.zeros((2,6))\n",
    "print d"
   ]
  },
  {
   "cell_type": "code",
   "execution_count": null,
   "metadata": {
    "collapsed": false
   },
   "outputs": [],
   "source": [
    "e = np.ones((2,6))\n",
    "print e"
   ]
  },
  {
   "cell_type": "code",
   "execution_count": null,
   "metadata": {
    "collapsed": false
   },
   "outputs": [],
   "source": [
    "f = np.empty((2,3))\n",
    "print f"
   ]
  },
  {
   "cell_type": "code",
   "execution_count": null,
   "metadata": {
    "collapsed": false
   },
   "outputs": [],
   "source": [
    "g = np.arange(2,8)"
   ]
  },
  {
   "cell_type": "code",
   "execution_count": null,
   "metadata": {
    "collapsed": false
   },
   "outputs": [],
   "source": [
    "h = np.array(e)\n",
    "print h\n",
    "i = np.asarray(e)\n",
    "print i"
   ]
  },
  {
   "cell_type": "code",
   "execution_count": null,
   "metadata": {
    "collapsed": false
   },
   "outputs": [],
   "source": [
    "j = np.ones_like(b, int)\n",
    "print j"
   ]
  },
  {
   "cell_type": "code",
   "execution_count": null,
   "metadata": {
    "collapsed": false
   },
   "outputs": [],
   "source": [
    "k = np.eye(10)\n",
    "print k"
   ]
  },
  {
   "cell_type": "code",
   "execution_count": null,
   "metadata": {
    "collapsed": false
   },
   "outputs": [],
   "source": [
    "l = np.identity(10)\n",
    "l\n"
   ]
  },
  {
   "cell_type": "code",
   "execution_count": null,
   "metadata": {
    "collapsed": false
   },
   "outputs": [],
   "source": [
    "m = np.array([1,2,3],float)\n",
    "n = np.array([1,2,3],dtype = np.int32)\n",
    "print m.dtype\n",
    "print n.dtype"
   ]
  },
  {
   "cell_type": "code",
   "execution_count": null,
   "metadata": {
    "collapsed": false
   },
   "outputs": [],
   "source": [
    "o = np.array([['1','2','3']],str)\n",
    "print o.dtype\n",
    "o_int = o.astype(int)\n",
    "print o_int.dtype\n",
    "\n",
    "print o\n",
    "print o_int"
   ]
  },
  {
   "cell_type": "code",
   "execution_count": null,
   "metadata": {
    "collapsed": false
   },
   "outputs": [],
   "source": [
    "p = np.empty((5,6))\n",
    "print type(p[2][2])"
   ]
  },
  {
   "cell_type": "code",
   "execution_count": null,
   "metadata": {
    "collapsed": false
   },
   "outputs": [],
   "source": [
    "q = np.arange(8)\n",
    "q_slice = q[2:6]\n",
    "print q\n",
    "print q_slice\n",
    "\n",
    "q_slice[2:] = 6\n",
    "print q\n",
    "print q_slice"
   ]
  },
  {
   "cell_type": "code",
   "execution_count": null,
   "metadata": {
    "collapsed": false
   },
   "outputs": [],
   "source": [
    "r = np.array([[1,2,3],[4,5,6],[7,8,9]])\n",
    "r_slice = r[0:2].copy()\n",
    "r_slice_slice = r_slice[1]\n",
    "r_slice_slice[:] = 100\n",
    "r_slice[1][1] = 2\n",
    "print r\n",
    "print r_slice\n",
    "print r_slice_slice"
   ]
  },
  {
   "cell_type": "code",
   "execution_count": null,
   "metadata": {
    "collapsed": false
   },
   "outputs": [],
   "source": [
    "s = np.array([[1,2,3],[4,5,6],[7,8,9]])\n",
    "print s\n",
    "s[2,2] = 100\n",
    "print s"
   ]
  },
  {
   "cell_type": "code",
   "execution_count": null,
   "metadata": {
    "collapsed": false
   },
   "outputs": [],
   "source": [
    "t = np.array([[1,2,3],\n",
    "              [4,5,6],\n",
    "              [7,8,9]])\n",
    "t_slice = t[1:, :2]\n",
    "print t_slice"
   ]
  },
  {
   "cell_type": "code",
   "execution_count": 49,
   "metadata": {
    "collapsed": false
   },
   "outputs": [
    {
     "name": "stdout",
     "output_type": "stream",
     "text": [
      "[ True False False]\n",
      "[[ 0.80877746  1.53438811  0.16996459  0.63552862  0.04879039  0.94665752]\n",
      " [ 1.54337383  0.18928585 -2.38110266  0.78112167 -0.11759258  0.1834052 ]\n",
      " [ 1.70261036  0.56565487 -0.29726387 -1.49849621  0.34665318  0.0310491 ]]\n",
      "\n",
      "\n",
      "[[False False False False False False]\n",
      " [False False  True False  True False]\n",
      " [False False  True  True False False]]\n",
      "[[ 0.80877746  1.53438811  0.16996459  0.63552862  0.04879039  0.94665752]\n",
      " [ 1.54337383  0.18928585  7.          0.78112167  7.          0.1834052 ]\n",
      " [ 1.70261036  0.56565487  7.          7.          0.34665318  0.0310491 ]]\n"
     ]
    }
   ],
   "source": [
    "name = np.array(['a','b','c'])\n",
    "name_bool = (name == 'a')\n",
    "u = np.random.randn(3, 6)\n",
    "print name_bool\n",
    "print u\n",
    "print '\\n'\n",
    "\n",
    "x = u < 0\n",
    "print x\n",
    "u[x] = 7\n",
    "print u"
   ]
  },
  {
   "cell_type": "code",
   "execution_count": 88,
   "metadata": {
    "collapsed": false
   },
   "outputs": [
    {
     "name": "stdout",
     "output_type": "stream",
     "text": [
      "[[ 4  5  6]\n",
      " [12 12 12]\n",
      " [ 7  8  9]]\n",
      "[[12 12 12]\n",
      " [ 8  9  7]]\n",
      "[[ 12  12  12]\n",
      " [  8 100 100]]\n"
     ]
    }
   ],
   "source": [
    "a = np.array([[1,2,3],\n",
    "             [4,5,6],\n",
    "             [7,8,9],\n",
    "             [10,10,10],\n",
    "             [11,11,11],\n",
    "             [12,12,12]])\n",
    "b = a[[1,5,2],[1,1,0]]\n",
    "c = a[[1,5,2]]\n",
    "d = c[1:3,[1,2,0]]\n",
    "print c\n",
    "print d\n",
    "d[1,1:3] = 100\n",
    "print d"
   ]
  },
  {
   "cell_type": "code",
   "execution_count": 90,
   "metadata": {
    "collapsed": false
   },
   "outputs": [
    {
     "data": {
      "text/plain": [
       "array([[ 0,  5, 10, 15],\n",
       "       [ 1,  6, 11, 16],\n",
       "       [ 2,  7, 12, 17],\n",
       "       [ 3,  8, 13, 18],\n",
       "       [ 4,  9, 14, 19]])"
      ]
     },
     "execution_count": 90,
     "metadata": {},
     "output_type": "execute_result"
    }
   ],
   "source": [
    "a = np.arange(20).reshape(4,5)\n",
    "a.T"
   ]
  },
  {
   "cell_type": "code",
   "execution_count": 114,
   "metadata": {
    "collapsed": false
   },
   "outputs": [
    {
     "name": "stdout",
     "output_type": "stream",
     "text": [
      "[1, 2, 3, 4, 5, 6]\n",
      "[2, 5, 7, 8, 2, 6]\n",
      "\n",
      "\n",
      "[-1 -3 -4 -4  3  0]\n"
     ]
    }
   ],
   "source": [
    "a = [1,2,3,4,5,6]\n",
    "b = [2,5,7,8,2,6]\n",
    "print a\n",
    "print b\n",
    "print '\\n'\n",
    "\n",
    "c = np.multiple(a,b)\n",
    "print c"
   ]
  },
  {
   "cell_type": "code",
   "execution_count": null,
   "metadata": {
    "collapsed": true
   },
   "outputs": [],
   "source": []
  },
  {
   "cell_type": "code",
   "execution_count": null,
   "metadata": {
    "collapsed": true
   },
   "outputs": [],
   "source": []
  }
 ],
 "metadata": {
  "kernelspec": {
   "display_name": "Python 2",
   "language": "python",
   "name": "python2"
  },
  "language_info": {
   "codemirror_mode": {
    "name": "ipython",
    "version": 2
   },
   "file_extension": ".py",
   "mimetype": "text/x-python",
   "name": "python",
   "nbconvert_exporter": "python",
   "pygments_lexer": "ipython2",
   "version": "2.7.13"
  }
 },
 "nbformat": 4,
 "nbformat_minor": 0
}
