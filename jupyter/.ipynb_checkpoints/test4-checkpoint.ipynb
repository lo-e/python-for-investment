{
 "cells": [
  {
   "cell_type": "code",
   "execution_count": 1,
   "metadata": {
    "collapsed": true
   },
   "outputs": [],
   "source": [
    "class Cat(object):\n",
    "    \"\"\"It all for a Cat\"\"\"\n",
    "    def __init__(self, name):\n",
    "        super(Cat, self).__init__()\n",
    "        self.name = name\n",
    "        self.food = 'fish'\n",
    "\n",
    "    def like():\n",
    "        \"\"\"It's like\"\"\"\n",
    "        print self.food\n",
    "        "
   ]
  },
  {
   "cell_type": "code",
   "execution_count": null,
   "metadata": {
    "collapsed": true
   },
   "outputs": [],
   "source": [
    "the_cat = Cat('pika')\n",
    "print the_cat.__dic__"
   ]
  }
 ],
 "metadata": {
  "kernelspec": {
   "display_name": "Python 2",
   "language": "python",
   "name": "python2"
  },
  "language_info": {
   "codemirror_mode": {
    "name": "ipython",
    "version": 2
   },
   "file_extension": ".py",
   "mimetype": "text/x-python",
   "name": "python",
   "nbconvert_exporter": "python",
   "pygments_lexer": "ipython2",
   "version": "2.7.13"
  }
 },
 "nbformat": 4,
 "nbformat_minor": 0
}
