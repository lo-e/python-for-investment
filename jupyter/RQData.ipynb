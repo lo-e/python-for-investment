{
 "cells": [
  {
   "cell_type": "code",
   "execution_count": 2,
   "metadata": {},
   "outputs": [],
   "source": [
    "import rqdatac as rq \n",
    "from rqdatac import * \n",
    "from datetime import datetime, timedelta\n",
    "rq.init()"
   ]
  },
  {
   "cell_type": "code",
   "execution_count": 3,
   "metadata": {
    "scrolled": true
   },
   "outputs": [
    {
     "name": "stdout",
     "output_type": "stream",
     "text": [
      "Index(['trading_date', 'open', 'last', 'high', 'low', 'prev_settlement',\n",
      "       'prev_close', 'volume', 'open_interest', 'total_turnover', 'limit_up',\n",
      "       'limit_down', 'a1', 'a2', 'a3', 'a4', 'a5', 'b1', 'b2', 'b3', 'b4',\n",
      "       'b5', 'a1_v', 'a2_v', 'a3_v', 'a4_v', 'a5_v', 'b1_v', 'b2_v', 'b3_v',\n",
      "       'b4_v', 'b5_v', 'change_rate'],\n",
      "      dtype='object')\n",
      "                        trading_date    open    last    high     low  \\\n",
      "datetime                                                               \n",
      "2019-06-21 20:59:00.500   2019-06-24  3755.0  3755.0  3755.0  3755.0   \n",
      "2019-06-21 21:00:00.500   2019-06-24  3755.0  3754.0  3755.0  3752.0   \n",
      "\n",
      "                         prev_settlement  prev_close  volume  open_interest  \\\n",
      "datetime                                                                      \n",
      "2019-06-21 20:59:00.500           3709.0      3760.0  2200.0       744930.0   \n",
      "2019-06-21 21:00:00.500           3709.0      3760.0  2678.0       745148.0   \n",
      "\n",
      "                         total_turnover  ...  a2_v  a3_v  a4_v  a5_v  b1_v  \\\n",
      "datetime                                 ...                                 \n",
      "2019-06-21 20:59:00.500      82610000.0  ...   0.0   0.0   0.0   0.0   5.0   \n",
      "2019-06-21 21:00:00.500     100552780.0  ...   0.0   0.0   0.0   0.0  22.0   \n",
      "\n",
      "                         b2_v  b3_v  b4_v  b5_v  change_rate  \n",
      "datetime                                                      \n",
      "2019-06-21 20:59:00.500   0.0   0.0   0.0   0.0     0.012402  \n",
      "2019-06-21 21:00:00.500   0.0   0.0   0.0   0.0     0.012133  \n",
      "\n",
      "[2 rows x 33 columns]\n"
     ]
    }
   ],
   "source": [
    "#获取合约历史行情数据，1d、5m、tick\n",
    "#tickData = rq.get_price('RB1905','2019-1-8','2019-1-8','tick')\n",
    "#tickData\n",
    "\n",
    "#minData = rq.get_price('RB99',frequency='5m', start_date=(datetime.now()-timedelta(1)).strftime('%Y%m%d'), end_date=(datetime.now()+timedelta(1)))\n",
    "#minData\n",
    "\n",
    "#dayData = rq.get_price('RB99',frequency='tick', end_date=(datetime.now()+timedelta(1)))\n",
    "#dayData\n",
    "\n",
    "start = datetime.now()-timedelta(1)\n",
    "end = datetime.now()\n",
    "tickData = rq.get_price('HC1910', frequency='tick', start_date=start, end_date=end)\n",
    "print(tickData.columns)\n",
    "print(tickData.head(2))"
   ]
  },
  {
   "cell_type": "code",
   "execution_count": null,
   "metadata": {},
   "outputs": [],
   "source": [
    "#获取中国市场所有期货的基础信息\n",
    "all_instruments(type='Future')"
   ]
  },
  {
   "cell_type": "code",
   "execution_count": null,
   "metadata": {},
   "outputs": [],
   "source": [
    "#交易所代码转换，将交易所和其他平台的股票代码转换成米筐的标准合约代码\n",
    "id_convert('rb1805')"
   ]
  },
  {
   "cell_type": "code",
   "execution_count": null,
   "metadata": {},
   "outputs": [],
   "source": [
    "# 获取主力合约列表\n",
    "import pandas as pd\n",
    "a = get_dominant_future('OI', start_date='2013-5-26', end_date='2013-8-16',rule=1)\n",
    "print a"
   ]
  },
  {
   "cell_type": "code",
   "execution_count": null,
   "metadata": {
    "scrolled": true
   },
   "outputs": [],
   "source": [
    "from datetime import datetime, time\n",
    "a = datetime(2019, 1, 1, 22, 10)\n",
    "print a\n",
    "if a.time() >= time(22, 5):\n",
    "    print 'yes'"
   ]
  },
  {
   "cell_type": "code",
   "execution_count": null,
   "metadata": {},
   "outputs": [],
   "source": []
  }
 ],
 "metadata": {
  "kernelspec": {
   "display_name": "Python 3",
   "language": "python",
   "name": "python3"
  },
  "language_info": {
   "codemirror_mode": {
    "name": "ipython",
    "version": 3
   },
   "file_extension": ".py",
   "mimetype": "text/x-python",
   "name": "python",
   "nbconvert_exporter": "python",
   "pygments_lexer": "ipython3",
   "version": "3.7.3"
  }
 },
 "nbformat": 4,
 "nbformat_minor": 1
}
