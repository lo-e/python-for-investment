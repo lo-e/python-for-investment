{
 "cells": [
  {
   "cell_type": "code",
   "execution_count": null,
   "metadata": {
    "collapsed": false
   },
   "outputs": [],
   "source": [
    "'''\n",
    "talib\n",
    "'''"
   ]
  },
  {
   "cell_type": "code",
   "execution_count": 19,
   "metadata": {
    "collapsed": true
   },
   "outputs": [],
   "source": [
    "import talib\n",
    "import numpy as np"
   ]
  },
  {
   "cell_type": "code",
   "execution_count": 72,
   "metadata": {
    "collapsed": false
   },
   "outputs": [
    {
     "name": "stdout",
     "output_type": "stream",
     "text": [
      "[        nan         nan         nan         nan         nan  4.16666667\n",
      "  4.16666667  4.5         4.83333333  6.          6.5       ]\n"
     ]
    }
   ],
   "source": [
    "high = np.array([2.0, 6.0, 2.0, 2.0])\n",
    "low = np.array([2.0, 5.0, 2.0,  6.0])\n",
    "close = np.array([2.0, 3.0, 6.0, 2.0, 3.0, 9.0, 2.0, 5.0, 8.0, 9.0, 6.0])\n",
    "#a = talib.ATR(high, low, close, 2)\n",
    "a = talib.SMA(close, 6)\n",
    "print a"
   ]
  },
  {
   "cell_type": "code",
   "execution_count": 21,
   "metadata": {
    "collapsed": false
   },
   "outputs": [
    {
     "data": {
      "text/plain": [
       "array([         nan,  66.66666667, -66.66666667,   0.        ])"
      ]
     },
     "execution_count": 21,
     "metadata": {},
     "output_type": "execute_result"
    }
   ],
   "source": [
    "high = np.array([4561. 4556. 4553. 4556. 4552. 4547. 4544. 4546. 4542. 4544. 4546. 4546.\n",
    " 4548. 4547. 4546. 4546. 4545. 4547. 4545. 4544. 4544. 4546. 4544. 4544.\n",
    " 4544. 4545. 4545. 4547. 4549.])\n",
    "low = np.array([4566. 4562. 4556. 4557. 4556. 4552. 4549. 4548. 4547. 4546. 4546. 4546.\n",
    " 4548. 4548. 4548. 4547. 4546. 4548. 4547. 4546. 4545. 4546. 4546. 4545.\n",
    " 4546. 4545. 4546. 4547. 4549.])\n",
    "close = np.array([4557. 4553. 4551. 4552. 4551. 4545. 4543. 4542. 4542. 4542. 4542. 4545.\n",
    " 4546. 4545. 4546. 4545. 4543. 4545. 4545. 4544. 4544. 4543. 4544. 4543.\n",
    " 4543. 4543. 4544. 4544. 4546.])\n",
    "a = talib.CCI(high, low, close, 2)\n",
    "a"
   ]
  },
  {
   "cell_type": "code",
   "execution_count": 30,
   "metadata": {
    "collapsed": false
   },
   "outputs": [
    {
     "data": {
      "text/plain": [
       "array([ nan,  1.5,  2.5,  4.5,  4. ])"
      ]
     },
     "execution_count": 30,
     "metadata": {},
     "output_type": "execute_result"
    }
   ],
   "source": [
    "high = np.array([1.0, 2.0, 6.0, 2.0, 2.0])\n",
    "low = np.array([1.0, 2.0, 5.0, 2.0,  6.0])\n",
    "close = np.array([1.0, 2.0, 3.0, 6.0, 2.0])\n",
    "a = talib.SMA(close, 2)\n",
    "a"
   ]
  },
  {
   "cell_type": "code",
   "execution_count": 29,
   "metadata": {
    "collapsed": false
   },
   "outputs": [
    {
     "data": {
      "text/plain": [
       "array([ nan,  1. ,  1.5,  2.5,  4.5,  4. ])"
      ]
     },
     "execution_count": 29,
     "metadata": {},
     "output_type": "execute_result"
    }
   ],
   "source": [
    "high = np.array([1.0, 2.0, 6.0, 2.0, 2.0])\n",
    "low = np.array([1.0, 2.0, 5.0, 2.0,  6.0])\n",
    "close = np.array([1.0, 1.0, 2.0, 3.0, 6.0, 2.0])\n",
    "a = talib.SMA(close, 2)\n",
    "a"
   ]
  },
  {
   "cell_type": "code",
   "execution_count": null,
   "metadata": {
    "collapsed": false
   },
   "outputs": [],
   "source": [
    "close = np.array([1000.0, 2.0, 1.0, 6.0, 6.0, 1.0, 6.0, 1.0, 1.0, 1.0, 1.0])\n",
    "result = talib.RSI(close, 2)\n",
    "result"
   ]
  },
  {
   "cell_type": "code",
   "execution_count": null,
   "metadata": {
    "collapsed": true
   },
   "outputs": [],
   "source": [
    "'''\n",
    "tushare\n",
    "'''"
   ]
  },
  {
   "cell_type": "code",
   "execution_count": 1,
   "metadata": {
    "collapsed": false
   },
   "outputs": [],
   "source": [
    "import tushare as ts\n",
    "from datetime import datetime, timedelta"
   ]
  },
  {
   "cell_type": "code",
   "execution_count": 2,
   "metadata": {
    "collapsed": false
   },
   "outputs": [],
   "source": [
    "df = ts.get_tick_data('rb1805', '2017-09-10')\n",
    "#df"
   ]
  },
  {
   "cell_type": "code",
   "execution_count": 3,
   "metadata": {
    "collapsed": false
   },
   "outputs": [],
   "source": [
    "cons = ts.get_apis()"
   ]
  },
  {
   "cell_type": "code",
   "execution_count": 11,
   "metadata": {
    "collapsed": false
   },
   "outputs": [
    {
     "data": {
      "text/plain": [
       "Int64Index([    0,     1,     2,     3,     4,     5,     6,     7,     8,\n",
       "                9,\n",
       "            ...\n",
       "            38282, 38283, 38284, 38285, 38286, 38287, 38288, 38289, 38290,\n",
       "            38291],\n",
       "           dtype='int64', length=38292)"
      ]
     },
     "execution_count": 11,
     "metadata": {},
     "output_type": "execute_result"
    }
   ],
   "source": [
    "df = ts.tick('rb1805', conn = cons, date = '2017-11-24', asset = 'X') \n",
    "#df = ts.tick('IF1801', conn = cons, date = '2017-06-22', asset = 'X') \n",
    "#df = ts.tick('600380', conn = cons, date = '2018-01-02')\n",
    "#df = ts.tick('rb1806', conn = cons, date = '2018-01-10', asset = 'X')\n",
    "df.index"
   ]
  },
  {
   "cell_type": "code",
   "execution_count": null,
   "metadata": {
    "collapsed": false
   },
   "outputs": [],
   "source": [
    "lastDt = None\n",
    "mSecond = 0\n",
    "for i, row in df.iterrows():\n",
    "    dt = row['date'].to_datetime()\n",
    "    if (not lastDt) or lastDt != dt:\n",
    "        mSecond = 0\n",
    "        lastDt = dt\n",
    "    else:\n",
    "        mSecond += 1\n",
    "    \n",
    "    #print mSecond\n",
    "    dt = dt.replace(microsecond = mSecond)\n",
    "        \n",
    "    print dt\n",
    "    print row['vol']\n",
    "    print '\\n'"
   ]
  },
  {
   "cell_type": "code",
   "execution_count": null,
   "metadata": {
    "collapsed": false,
    "scrolled": true
   },
   "outputs": [],
   "source": [
    "for i, row in df.iterrows():\n",
    "    print row['date'], '*'*2, row['vol']"
   ]
  },
  {
   "cell_type": "code",
   "execution_count": null,
   "metadata": {
    "collapsed": false
   },
   "outputs": [],
   "source": [
    "df = ts.bar('rb1805', conn = cons, freq = 'D', start_date = '2017-01-01', end_date = '', asset = 'X')"
   ]
  },
  {
   "cell_type": "code",
   "execution_count": null,
   "metadata": {
    "collapsed": false
   },
   "outputs": [],
   "source": [
    "df.sort_index(inplace = True)\n",
    "df"
   ]
  },
  {
   "cell_type": "code",
   "execution_count": null,
   "metadata": {
    "collapsed": false
   },
   "outputs": [],
   "source": [
    "a = df.ix[1]\n",
    "the = a['date']\n",
    "dt = the.to_datetime()\n",
    "print dt\n",
    "if dt.time() >= datetime.time(21, 0):\n",
    "    dt = dt - timedelta(1)\n",
    "\n",
    "print dt"
   ]
  },
  {
   "cell_type": "code",
   "execution_count": null,
   "metadata": {
    "collapsed": true
   },
   "outputs": [],
   "source": []
  },
  {
   "cell_type": "code",
   "execution_count": null,
   "metadata": {
    "collapsed": false
   },
   "outputs": [],
   "source": [
    "for index, row in df.iterrows():\n",
    "    print row['date'], ' '*2, row['vol']"
   ]
  },
  {
   "cell_type": "code",
   "execution_count": null,
   "metadata": {
    "collapsed": false
   },
   "outputs": [],
   "source": [
    "from datetime import datetime"
   ]
  },
  {
   "cell_type": "code",
   "execution_count": null,
   "metadata": {
    "collapsed": false
   },
   "outputs": [],
   "source": [
    "from collections import namedtuple\n",
    "abc = namedtuple('xyz', ['x', 'y'])\n",
    "the = abc(6,2)\n",
    "the.x"
   ]
  },
  {
   "cell_type": "code",
   "execution_count": null,
   "metadata": {
    "collapsed": false
   },
   "outputs": [],
   "source": [
    "import sys\n",
    "#sys.getdefaultencoding()\n",
    "#reload(sys)\n",
    "#sys.setdefaultencoding('UTF-8')\n",
    "a = sys.getdefaultencoding()\n",
    "type(a)"
   ]
  },
  {
   "cell_type": "code",
   "execution_count": null,
   "metadata": {
    "collapsed": false
   },
   "outputs": [],
   "source": [
    "if isinstance('a', str):\n",
    "    print 1\n",
    "else:\n",
    "    print 2"
   ]
  },
  {
   "cell_type": "code",
   "execution_count": null,
   "metadata": {
    "collapsed": true
   },
   "outputs": [],
   "source": [
    "'''\n",
    "pymongo\n",
    "'''"
   ]
  },
  {
   "cell_type": "code",
   "execution_count": 20,
   "metadata": {
    "collapsed": false
   },
   "outputs": [],
   "source": [
    "import pymongo\n",
    "from vnpy.trader.app.ctaStrategy.ctaBase import TICK_DB_NAME\n",
    "from datetime import datetime"
   ]
  },
  {
   "cell_type": "code",
   "execution_count": 23,
   "metadata": {
    "collapsed": false,
    "scrolled": true
   },
   "outputs": [
    {
     "name": "stdout",
     "output_type": "stream",
     "text": [
      "2017-03-24 22:59:56 *last* 3118.0 *bid1* 3118.0 *bid1Size* 22 *ask1* 3119.0 *ask1Size* 352\n",
      "2017-03-24 22:59:56.500000 *last* 3117.0 *bid1* 3116.0 *bid1Size* 30 *ask1* 3118.0 *ask1Size* 16\n",
      "2017-03-24 22:59:57 *last* 3118.0 *bid1* 3118.0 *bid1Size* 180 *ask1* 3119.0 *ask1Size* 338\n",
      "2017-03-24 22:59:57.500000 *last* 3118.0 *bid1* 3118.0 *bid1Size* 204 *ask1* 3119.0 *ask1Size* 333\n",
      "2017-03-24 22:59:58 *last* 3119.0 *bid1* 3118.0 *bid1Size* 218 *ask1* 3119.0 *ask1Size* 251\n",
      "2017-03-24 22:59:58.500000 *last* 3118.0 *bid1* 3116.0 *bid1Size* 3 *ask1* 3118.0 *ask1Size* 59\n",
      "2017-03-24 22:59:59 *last* 3115.0 *bid1* 3115.0 *bid1Size* 66 *ask1* 3118.0 *ask1Size* 71\n",
      "2017-03-24 22:59:59.500000 *last* 3116.0 *bid1* 3116.0 *bid1Size* 1 *ask1* 3118.0 *ask1Size* 5\n",
      "2017-03-27 09:00:00.500000 *last* 3040.0 *bid1* 3040.0 *bid1Size* 1 *ask1* 3055.0 *ask1Size* 573\n",
      "2017-03-27 09:00:01 *last* 3052.0 *bid1* 3052.0 *bid1Size* 17 *ask1* 3053.0 *ask1Size* 63\n",
      "2017-03-27 09:00:01.500000 *last* 3053.0 *bid1* 3053.0 *bid1Size* 1031 *ask1* 3059.0 *ask1Size* 748\n",
      "2017-03-27 09:00:02 *last* 3060.0 *bid1* 3057.0 *bid1Size* 2031 *ask1* 3060.0 *ask1Size* 1237\n",
      "2017-03-27 09:00:02.500000 *last* 3058.0 *bid1* 3055.0 *bid1Size* 6 *ask1* 3058.0 *ask1Size* 56\n",
      "2017-03-27 09:00:03 *last* 3055.0 *bid1* 3050.0 *bid1Size* 35 *ask1* 3052.0 *ask1Size* 2\n",
      "2017-03-27 09:00:03.500000 *last* 3052.0 *bid1* 3052.0 *bid1Size* 862 *ask1* 3057.0 *ask1Size* 3\n",
      "2017-03-27 09:00:04 *last* 3051.0 *bid1* 3051.0 *bid1Size* 81 *ask1* 3053.0 *ask1Size* 4\n",
      "2017-03-27 09:00:04.500000 *last* 3056.0 *bid1* 3056.0 *bid1Size* 46 *ask1* 3057.0 *ask1Size* 8\n",
      "2017-03-27 09:00:05 *last* 3043.0 *bid1* 3043.0 *bid1Size* 10 *ask1* 3053.0 *ask1Size* 94\n",
      "2017-03-27 09:00:05.500000 *last* 3052.0 *bid1* 3051.0 *bid1Size* 5 *ask1* 3052.0 *ask1Size* 10\n",
      "2017-03-27 09:00:06 *last* 3052.0 *bid1* 3052.0 *bid1Size* 65 *ask1* 3055.0 *ask1Size* 1\n",
      "2017-03-27 09:00:06.500000 *last* 3055.0 *bid1* 3055.0 *bid1Size* 25 *ask1* 3056.0 *ask1Size* 14\n",
      "2017-03-27 09:00:07 *last* 3061.0 *bid1* 3056.0 *bid1Size* 366 *ask1* 3061.0 *ask1Size* 83\n",
      "2017-03-27 09:00:07.500000 *last* 3057.0 *bid1* 3057.0 *bid1Size* 158 *ask1* 3058.0 *ask1Size* 9\n",
      "2017-03-27 09:00:08 *last* 3058.0 *bid1* 3058.0 *bid1Size* 530 *ask1* 3060.0 *ask1Size* 7\n",
      "2017-03-27 09:00:08.500000 *last* 3060.0 *bid1* 3060.0 *bid1Size* 758 *ask1* 3061.0 *ask1Size* 16\n",
      "2017-03-27 09:00:09 *last* 3061.0 *bid1* 3061.0 *bid1Size* 365 *ask1* 3065.0 *ask1Size* 468\n",
      "2017-03-27 09:00:09.500000 *last* 3063.0 *bid1* 3062.0 *bid1Size* 199 *ask1* 3063.0 *ask1Size* 2\n",
      "2017-03-27 09:00:10 *last* 3064.0 *bid1* 3061.0 *bid1Size* 313 *ask1* 3062.0 *ask1Size* 4\n",
      "2017-03-27 09:00:10.500000 *last* 3064.0 *bid1* 3064.0 *bid1Size* 15 *ask1* 3065.0 *ask1Size* 1\n",
      "2017-03-27 09:00:11 *last* 3064.0 *bid1* 3063.0 *bid1Size* 25 *ask1* 3064.0 *ask1Size* 374\n",
      "2017-03-27 09:00:11.500000 *last* 3064.0 *bid1* 3062.0 *bid1Size* 229 *ask1* 3064.0 *ask1Size* 391\n",
      "2017-03-27 09:00:12 *last* 3063.0 *bid1* 3060.0 *bid1Size* 905 *ask1* 3063.0 *ask1Size* 49\n",
      "2017-03-27 09:00:12.500000 *last* 3063.0 *bid1* 3063.0 *bid1Size* 509 *ask1* 3064.0 *ask1Size* 366\n",
      "2017-03-27 09:00:13 *last* 3064.0 *bid1* 3063.0 *bid1Size* 221 *ask1* 3064.0 *ask1Size* 235\n",
      "2017-03-27 09:00:13.500000 *last* 3064.0 *bid1* 3064.0 *bid1Size* 79 *ask1* 3066.0 *ask1Size* 30\n",
      "2017-03-27 09:00:14 *last* 3064.0 *bid1* 3062.0 *bid1Size* 177 *ask1* 3063.0 *ask1Size* 147\n",
      "2017-03-27 09:00:14.500000 *last* 3064.0 *bid1* 3064.0 *bid1Size* 30 *ask1* 3065.0 *ask1Size* 115\n",
      "2017-03-27 09:00:15 *last* 3064.0 *bid1* 3063.0 *bid1Size* 888 *ask1* 3064.0 *ask1Size* 77\n",
      "2017-03-27 09:00:15.500000 *last* 3064.0 *bid1* 3064.0 *bid1Size* 17 *ask1* 3065.0 *ask1Size* 112\n",
      "2017-03-27 09:00:16 *last* 3066.0 *bid1* 3065.0 *bid1Size* 51 *ask1* 3066.0 *ask1Size* 44\n",
      "2017-03-27 09:00:16.500000 *last* 3064.0 *bid1* 3063.0 *bid1Size* 958 *ask1* 3064.0 *ask1Size* 31\n",
      "2017-03-27 09:00:17 *last* 3064.0 *bid1* 3064.0 *bid1Size* 28 *ask1* 3065.0 *ask1Size* 290\n",
      "2017-03-27 09:00:17.500000 *last* 3064.0 *bid1* 3063.0 *bid1Size* 33 *ask1* 3064.0 *ask1Size* 12\n",
      "2017-03-27 09:00:18 *last* 3063.0 *bid1* 3062.0 *bid1Size* 283 *ask1* 3063.0 *ask1Size* 55\n",
      "2017-03-27 09:00:18.500000 *last* 3063.0 *bid1* 3062.0 *bid1Size* 171 *ask1* 3063.0 *ask1Size* 513\n",
      "2017-03-27 09:00:19 *last* 3062.0 *bid1* 3061.0 *bid1Size* 265 *ask1* 3062.0 *ask1Size* 73\n",
      "2017-03-27 09:00:19.500000 *last* 3061.0 *bid1* 3060.0 *bid1Size* 203 *ask1* 3061.0 *ask1Size* 105\n",
      "2017-03-27 09:00:20 *last* 3063.0 *bid1* 3061.0 *bid1Size* 72 *ask1* 3063.0 *ask1Size* 262\n",
      "2017-03-27 09:00:20.500000 *last* 3062.0 *bid1* 3061.0 *bid1Size* 30 *ask1* 3062.0 *ask1Size* 56\n",
      "2017-03-27 09:00:21 *last* 3063.0 *bid1* 3062.0 *bid1Size* 6 *ask1* 3063.0 *ask1Size* 358\n",
      "2017-03-27 09:00:21.500000 *last* 3061.0 *bid1* 3060.0 *bid1Size* 63 *ask1* 3061.0 *ask1Size* 83\n",
      "2017-03-27 09:00:22 *last* 3061.0 *bid1* 3061.0 *bid1Size* 39 *ask1* 3062.0 *ask1Size* 69\n",
      "2017-03-27 09:00:22.500000 *last* 3059.0 *bid1* 3058.0 *bid1Size* 108 *ask1* 3059.0 *ask1Size* 124\n",
      "2017-03-27 09:00:23 *last* 3061.0 *bid1* 3060.0 *bid1Size* 1 *ask1* 3061.0 *ask1Size* 119\n",
      "2017-03-27 09:00:23.500000 *last* 3060.0 *bid1* 3059.0 *bid1Size* 88 *ask1* 3060.0 *ask1Size* 83\n",
      "2017-03-27 09:00:24 *last* 3060.0 *bid1* 3058.0 *bid1Size* 82 *ask1* 3060.0 *ask1Size* 78\n",
      "2017-03-27 09:00:24.500000 *last* 3060.0 *bid1* 3060.0 *bid1Size* 122 *ask1* 3061.0 *ask1Size* 43\n",
      "2017-03-27 09:00:25 *last* 3059.0 *bid1* 3058.0 *bid1Size* 79 *ask1* 3059.0 *ask1Size* 252\n",
      "2017-03-27 09:00:25.500000 *last* 3058.0 *bid1* 3057.0 *bid1Size* 589 *ask1* 3058.0 *ask1Size* 150\n",
      "2017-03-27 09:00:26 *last* 3058.0 *bid1* 3058.0 *bid1Size* 487 *ask1* 3059.0 *ask1Size* 29\n",
      "2017-03-27 09:00:26.500000 *last* 3059.0 *bid1* 3059.0 *bid1Size* 42 *ask1* 3060.0 *ask1Size* 27\n",
      "2017-03-27 09:00:27 *last* 3058.0 *bid1* 3058.0 *bid1Size* 427 *ask1* 3060.0 *ask1Size* 15\n",
      "2017-03-27 09:00:27.500000 *last* 3061.0 *bid1* 3061.0 *bid1Size* 13 *ask1* 3062.0 *ask1Size* 256\n",
      "2017-03-27 09:00:28 *last* 3060.0 *bid1* 3060.0 *bid1Size* 35 *ask1* 3061.0 *ask1Size* 176\n",
      "2017-03-27 09:00:28.500000 *last* 3059.0 *bid1* 3059.0 *bid1Size* 176 *ask1* 3060.0 *ask1Size* 20\n",
      "2017-03-27 09:00:29 *last* 3058.0 *bid1* 3058.0 *bid1Size* 435 *ask1* 3061.0 *ask1Size* 125\n",
      "2017-03-27 09:00:29.500000 *last* 3060.0 *bid1* 3059.0 *bid1Size* 2 *ask1* 3060.0 *ask1Size* 10\n",
      "2017-03-27 09:00:30 *last* 3060.0 *bid1* 3060.0 *bid1Size* 415 *ask1* 3061.0 *ask1Size* 91\n",
      "2017-03-27 09:00:30.500000 *last* 3059.0 *bid1* 3059.0 *bid1Size* 72 *ask1* 3060.0 *ask1Size* 29\n",
      "2017-03-27 09:00:31 *last* 3059.0 *bid1* 3059.0 *bid1Size* 41 *ask1* 3061.0 *ask1Size* 132\n",
      "2017-03-27 09:00:31.500000 *last* 3059.0 *bid1* 3059.0 *bid1Size* 47 *ask1* 3061.0 *ask1Size* 108\n",
      "2017-03-27 09:00:32 *last* 3060.0 *bid1* 3059.0 *bid1Size* 4 *ask1* 3060.0 *ask1Size* 50\n",
      "2017-03-27 09:00:32.500000 *last* 3060.0 *bid1* 3060.0 *bid1Size* 119 *ask1* 3061.0 *ask1Size* 27\n",
      "2017-03-27 09:00:33 *last* 3061.0 *bid1* 3061.0 *bid1Size* 14 *ask1* 3062.0 *ask1Size* 7\n",
      "2017-03-27 09:00:33.500000 *last* 3062.0 *bid1* 3062.0 *bid1Size* 105 *ask1* 3063.0 *ask1Size* 216\n",
      "2017-03-27 09:00:34 *last* 3061.0 *bid1* 3062.0 *bid1Size* 3 *ask1* 3063.0 *ask1Size* 14\n",
      "2017-03-27 09:00:34.500000 *last* 3063.0 *bid1* 3063.0 *bid1Size* 43 *ask1* 3064.0 *ask1Size* 283\n",
      "2017-03-27 09:00:35 *last* 3060.0 *bid1* 3060.0 *bid1Size* 182 *ask1* 3061.0 *ask1Size* 54\n",
      "2017-03-27 09:00:35.500000 *last* 3061.0 *bid1* 3061.0 *bid1Size* 198 *ask1* 3062.0 *ask1Size* 8\n",
      "2017-03-27 09:00:36 *last* 3062.0 *bid1* 3062.0 *bid1Size* 79 *ask1* 3063.0 *ask1Size* 39\n",
      "2017-03-27 09:00:36.500000 *last* 3063.0 *bid1* 3063.0 *bid1Size* 28 *ask1* 3065.0 *ask1Size* 258\n",
      "2017-03-27 09:00:37 *last* 3062.0 *bid1* 3062.0 *bid1Size* 4 *ask1* 3064.0 *ask1Size* 211\n",
      "2017-03-27 09:00:37.500000 *last* 3064.0 *bid1* 3063.0 *bid1Size* 39 *ask1* 3064.0 *ask1Size* 89\n",
      "2017-03-27 09:00:38 *last* 3062.0 *bid1* 3062.0 *bid1Size* 45 *ask1* 3063.0 *ask1Size* 44\n",
      "2017-03-27 09:00:38.500000 *last* 3062.0 *bid1* 3062.0 *bid1Size* 49 *ask1* 3064.0 *ask1Size* 78\n",
      "2017-03-27 09:00:39 *last* 3062.0 *bid1* 3062.0 *bid1Size* 50 *ask1* 3063.0 *ask1Size* 16\n",
      "2017-03-27 09:00:39.500000 *last* 3061.0 *bid1* 3061.0 *bid1Size* 219 *ask1* 3062.0 *ask1Size* 156\n",
      "2017-03-27 09:00:40 *last* 3062.0 *bid1* 3062.0 *bid1Size* 110 *ask1* 3063.0 *ask1Size* 20\n",
      "2017-03-27 09:00:40.500000 *last* 3061.0 *bid1* 3065.0 *bid1Size* 6 *ask1* 3067.0 *ask1Size* 57\n",
      "2017-03-27 09:00:41 *last* 3065.0 *bid1* 3065.0 *bid1Size* 9 *ask1* 3066.0 *ask1Size* 136\n",
      "2017-03-27 09:00:41.500000 *last* 3064.0 *bid1* 3064.0 *bid1Size* 72 *ask1* 3065.0 *ask1Size* 487\n",
      "2017-03-27 09:00:42 *last* 3063.0 *bid1* 3063.0 *bid1Size* 602 *ask1* 3064.0 *ask1Size* 250\n",
      "2017-03-27 09:00:42.500000 *last* 3064.0 *bid1* 3063.0 *bid1Size* 430 *ask1* 3064.0 *ask1Size* 217\n",
      "2017-03-27 09:00:43 *last* 3064.0 *bid1* 3064.0 *bid1Size* 101 *ask1* 3065.0 *ask1Size* 382\n",
      "2017-03-27 09:00:43.500000 *last* 3064.0 *bid1* 3064.0 *bid1Size* 15 *ask1* 3065.0 *ask1Size* 321\n",
      "2017-03-27 09:00:44 *last* 3064.0 *bid1* 3063.0 *bid1Size* 412 *ask1* 3064.0 *ask1Size* 506\n",
      "2017-03-27 09:00:44.500000 *last* 3063.0 *bid1* 3063.0 *bid1Size* 187 *ask1* 3064.0 *ask1Size* 198\n",
      "2017-03-27 09:00:45 *last* 3063.0 *bid1* 3063.0 *bid1Size* 63 *ask1* 3064.0 *ask1Size* 126\n",
      "2017-03-27 09:00:45.500000 *last* 3064.0 *bid1* 3064.0 *bid1Size* 403 *ask1* 3065.0 *ask1Size* 622\n",
      "2017-03-27 09:00:46 *last* 3064.0 *bid1* 3064.0 *bid1Size* 385 *ask1* 3065.0 *ask1Size* 616\n",
      "2017-03-27 09:00:46.500000 *last* 3064.0 *bid1* 3064.0 *bid1Size* 338 *ask1* 3065.0 *ask1Size* 80\n",
      "2017-03-27 09:00:47 *last* 3065.0 *bid1* 3065.0 *bid1Size* 52 *ask1* 3066.0 *ask1Size* 75\n",
      "2017-03-27 09:00:47.500000 *last* 3064.0 *bid1* 3064.0 *bid1Size* 387 *ask1* 3065.0 *ask1Size* 228\n",
      "2017-03-27 09:00:48 *last* 3066.0 *bid1* 3065.0 *bid1Size* 9 *ask1* 3066.0 *ask1Size* 4\n",
      "2017-03-27 09:00:48.500000 *last* 3066.0 *bid1* 3066.0 *bid1Size* 509 *ask1* 3067.0 *ask1Size* 16\n",
      "2017-03-27 09:00:49 *last* 3066.0 *bid1* 3066.0 *bid1Size* 51 *ask1* 3067.0 *ask1Size* 9\n",
      "2017-03-27 09:00:49.500000 *last* 3066.0 *bid1* 3066.0 *bid1Size* 15 *ask1* 3069.0 *ask1Size* 123\n",
      "2017-03-27 09:00:50 *last* 3067.0 *bid1* 3066.0 *bid1Size* 80 *ask1* 3067.0 *ask1Size* 61\n",
      "2017-03-27 09:00:50.500000 *last* 3067.0 *bid1* 3066.0 *bid1Size* 9 *ask1* 3067.0 *ask1Size* 63\n",
      "2017-03-27 09:00:51 *last* 3069.0 *bid1* 3067.0 *bid1Size* 2 *ask1* 3069.0 *ask1Size* 8\n",
      "2017-03-27 09:00:51.500000 *last* 3068.0 *bid1* 3066.0 *bid1Size* 63 *ask1* 3068.0 *ask1Size* 129\n",
      "2017-03-27 09:00:52 *last* 3068.0 *bid1* 3068.0 *bid1Size* 69 *ask1* 3069.0 *ask1Size* 294\n",
      "2017-03-27 09:00:52.500000 *last* 3068.0 *bid1* 3067.0 *bid1Size* 4 *ask1* 3068.0 *ask1Size* 212\n",
      "2017-03-27 09:00:53 *last* 3067.0 *bid1* 3065.0 *bid1Size* 164 *ask1* 3067.0 *ask1Size* 47\n",
      "2017-03-27 09:00:53.500000 *last* 3065.0 *bid1* 3064.0 *bid1Size* 1 *ask1* 3065.0 *ask1Size* 28\n",
      "2017-03-27 09:00:54 *last* 3064.0 *bid1* 3063.0 *bid1Size* 78 *ask1* 3064.0 *ask1Size* 6\n",
      "2017-03-27 09:00:54.500000 *last* 3064.0 *bid1* 3062.0 *bid1Size* 350 *ask1* 3064.0 *ask1Size* 34\n",
      "2017-03-27 09:00:55 *last* 3065.0 *bid1* 3062.0 *bid1Size* 358 *ask1* 3065.0 *ask1Size* 321\n",
      "2017-03-27 09:00:55.500000 *last* 3064.0 *bid1* 3063.0 *bid1Size* 29 *ask1* 3064.0 *ask1Size* 8\n",
      "2017-03-27 09:00:56 *last* 3060.0 *bid1* 3060.0 *bid1Size* 175 *ask1* 3062.0 *ask1Size* 54\n",
      "2017-03-27 09:00:56.500000 *last* 3062.0 *bid1* 3062.0 *bid1Size* 5 *ask1* 3063.0 *ask1Size* 200\n",
      "2017-03-27 09:00:57 *last* 3063.0 *bid1* 3063.0 *bid1Size* 177 *ask1* 3064.0 *ask1Size* 317\n",
      "2017-03-27 09:00:57.500000 *last* 3060.0 *bid1* 3059.0 *bid1Size* 95 *ask1* 3060.0 *ask1Size* 229\n",
      "2017-03-27 09:00:58 *last* 3061.0 *bid1* 3059.0 *bid1Size* 89 *ask1* 3061.0 *ask1Size* 18\n",
      "2017-03-27 09:00:58.500000 *last* 3061.0 *bid1* 3060.0 *bid1Size* 95 *ask1* 3061.0 *ask1Size* 114\n",
      "2017-03-27 09:00:59 *last* 3061.0 *bid1* 3061.0 *bid1Size* 99 *ask1* 3062.0 *ask1Size* 17\n",
      "2017-03-27 09:00:59.500000 *last* 3062.0 *bid1* 3062.0 *bid1Size* 12 *ask1* 3063.0 *ask1Size* 56\n",
      "2017-03-27 09:01:00 *last* 3062.0 *bid1* 3062.0 *bid1Size* 47 *ask1* 3063.0 *ask1Size* 44\n",
      "2017-03-27 09:01:00.500000 *last* 3062.0 *bid1* 3061.0 *bid1Size* 5 *ask1* 3062.0 *ask1Size* 393\n",
      "2017-03-27 09:01:01 *last* 3062.0 *bid1* 3061.0 *bid1Size* 2 *ask1* 3062.0 *ask1Size* 446\n",
      "2017-03-27 09:01:01.500000 *last* 3061.0 *bid1* 3060.0 *bid1Size* 40 *ask1* 3061.0 *ask1Size* 520\n",
      "2017-03-27 09:01:02 *last* 3060.0 *bid1* 3059.0 *bid1Size* 171 *ask1* 3060.0 *ask1Size* 36\n",
      "2017-03-27 09:01:02.500000 *last* 3061.0 *bid1* 3060.0 *bid1Size* 224 *ask1* 3061.0 *ask1Size* 554\n",
      "2017-03-27 09:01:03 *last* 3059.0 *bid1* 3059.0 *bid1Size* 43 *ask1* 3060.0 *ask1Size* 48\n",
      "2017-03-27 09:01:03.500000 *last* 3058.0 *bid1* 3058.0 *bid1Size* 371 *ask1* 3059.0 *ask1Size* 65\n",
      "2017-03-27 09:01:04 *last* 3059.0 *bid1* 3058.0 *bid1Size* 366 *ask1* 3059.0 *ask1Size* 51\n",
      "2017-03-27 09:01:04.500000 *last* 3061.0 *bid1* 3061.0 *bid1Size* 69 *ask1* 3062.0 *ask1Size* 450\n",
      "2017-03-27 09:01:05 *last* 3060.0 *bid1* 3060.0 *bid1Size* 2 *ask1* 3061.0 *ask1Size* 43\n",
      "2017-03-27 09:01:05.500000 *last* 3060.0 *bid1* 3060.0 *bid1Size* 266 *ask1* 3061.0 *ask1Size* 11\n",
      "2017-03-27 09:01:06 *last* 3060.0 *bid1* 3059.0 *bid1Size* 48 *ask1* 3060.0 *ask1Size* 278\n",
      "2017-03-27 09:01:06.500000 *last* 3060.0 *bid1* 3059.0 *bid1Size* 364 *ask1* 3060.0 *ask1Size* 60\n",
      "2017-03-27 09:01:07 *last* 3062.0 *bid1* 3060.0 *bid1Size* 218 *ask1* 3062.0 *ask1Size* 412\n",
      "2017-03-27 09:01:07.500000 *last* 3060.0 *bid1* 3060.0 *bid1Size* 425 *ask1* 3061.0 *ask1Size* 1\n",
      "2017-03-27 09:01:08 *last* 3061.0 *bid1* 3061.0 *bid1Size* 103 *ask1* 3062.0 *ask1Size* 481\n",
      "2017-03-27 09:01:08.500000 *last* 3061.0 *bid1* 3060.0 *bid1Size* 438 *ask1* 3061.0 *ask1Size* 69\n",
      "2017-03-27 09:01:09 *last* 3061.0 *bid1* 3060.0 *bid1Size* 348 *ask1* 3061.0 *ask1Size* 442\n",
      "2017-03-27 09:01:09.500000 *last* 3061.0 *bid1* 3060.0 *bid1Size* 37 *ask1* 3061.0 *ask1Size* 400\n",
      "2017-03-27 09:01:10 *last* 3061.0 *bid1* 3061.0 *bid1Size* 7 *ask1* 3062.0 *ask1Size* 439\n",
      "2017-03-27 09:01:10.500000 *last* 3062.0 *bid1* 3061.0 *bid1Size* 4 *ask1* 3062.0 *ask1Size* 474\n",
      "2017-03-27 09:01:11 *last* 3061.0 *bid1* 3061.0 *bid1Size* 32 *ask1* 3062.0 *ask1Size* 412\n",
      "2017-03-27 09:01:11.500000 *last* 3061.0 *bid1* 3059.0 *bid1Size* 597 *ask1* 3061.0 *ask1Size* 10\n",
      "2017-03-27 09:01:12 *last* 3062.0 *bid1* 3062.0 *bid1Size* 145 *ask1* 3063.0 *ask1Size* 160\n",
      "2017-03-27 09:01:12.500000 *last* 3062.0 *bid1* 3062.0 *bid1Size* 1 *ask1* 3063.0 *ask1Size* 10\n",
      "2017-03-27 09:01:13 *last* 3061.0 *bid1* 3060.0 *bid1Size* 124 *ask1* 3061.0 *ask1Size* 4\n",
      "2017-03-27 09:01:13.500000 *last* 3061.0 *bid1* 3061.0 *bid1Size* 49 *ask1* 3062.0 *ask1Size* 633\n",
      "2017-03-27 09:01:14 *last* 3061.0 *bid1* 3061.0 *bid1Size* 118 *ask1* 3062.0 *ask1Size* 562\n",
      "2017-03-27 09:01:14.500000 *last* 3062.0 *bid1* 3061.0 *bid1Size* 278 *ask1* 3062.0 *ask1Size* 263\n",
      "2017-03-27 09:01:15 *last* 3062.0 *bid1* 3062.0 *bid1Size* 238 *ask1* 3063.0 *ask1Size* 263\n",
      "2017-03-27 09:01:15.500000 *last* 3062.0 *bid1* 3062.0 *bid1Size* 263 *ask1* 3063.0 *ask1Size* 261\n",
      "2017-03-27 09:01:16 *last* 3062.0 *bid1* 3062.0 *bid1Size* 243 *ask1* 3063.0 *ask1Size* 246\n",
      "2017-03-27 09:01:16.500000 *last* 3062.0 *bid1* 3062.0 *bid1Size* 270 *ask1* 3063.0 *ask1Size* 230\n",
      "2017-03-27 09:01:17 *last* 3063.0 *bid1* 3062.0 *bid1Size* 120 *ask1* 3063.0 *ask1Size* 322\n",
      "2017-03-27 09:01:17.500000 *last* 3062.0 *bid1* 3062.0 *bid1Size* 50 *ask1* 3063.0 *ask1Size* 297\n",
      "2017-03-27 09:01:18 *last* 3062.0 *bid1* 3062.0 *bid1Size* 36 *ask1* 3063.0 *ask1Size* 154\n",
      "2017-03-27 09:01:18.500000 *last* 3062.0 *bid1* 3061.0 *bid1Size* 261 *ask1* 3062.0 *ask1Size* 312\n",
      "2017-03-27 09:01:19 *last* 3062.0 *bid1* 3061.0 *bid1Size* 201 *ask1* 3062.0 *ask1Size* 347\n",
      "2017-03-27 09:01:19.500000 *last* 3063.0 *bid1* 3063.0 *bid1Size* 25 *ask1* 3064.0 *ask1Size* 56\n",
      "2017-03-27 09:01:20 *last* 3063.0 *bid1* 3063.0 *bid1Size* 25 *ask1* 3064.0 *ask1Size* 113\n",
      "2017-03-27 09:01:20.500000 *last* 3062.0 *bid1* 3062.0 *bid1Size* 62 *ask1* 3063.0 *ask1Size* 161\n",
      "2017-03-27 09:01:21 *last* 3061.0 *bid1* 3061.0 *bid1Size* 271 *ask1* 3062.0 *ask1Size* 249\n",
      "2017-03-27 09:01:21.500000 *last* 3062.0 *bid1* 3061.0 *bid1Size* 224 *ask1* 3062.0 *ask1Size* 105\n",
      "2017-03-27 09:01:22 *last* 3061.0 *bid1* 3061.0 *bid1Size* 152 *ask1* 3062.0 *ask1Size* 108\n",
      "2017-03-27 09:01:22.500000 *last* 3061.0 *bid1* 3060.0 *bid1Size* 653 *ask1* 3061.0 *ask1Size* 644\n",
      "2017-03-27 09:01:23 *last* 3061.0 *bid1* 3060.0 *bid1Size* 636 *ask1* 3061.0 *ask1Size* 626\n",
      "2017-03-27 09:01:23.500000 *last* 3060.0 *bid1* 3060.0 *bid1Size* 410 *ask1* 3061.0 *ask1Size* 622\n",
      "2017-03-27 09:01:24 *last* 3060.0 *bid1* 3059.0 *bid1Size* 626 *ask1* 3060.0 *ask1Size* 59\n",
      "2017-03-27 09:01:24.500000 *last* 3060.0 *bid1* 3059.0 *bid1Size* 534 *ask1* 3060.0 *ask1Size* 118\n",
      "2017-03-27 09:01:25 *last* 3059.0 *bid1* 3059.0 *bid1Size* 380 *ask1* 3060.0 *ask1Size* 63\n",
      "2017-03-27 09:01:25.500000 *last* 3061.0 *bid1* 3059.0 *bid1Size* 261 *ask1* 3061.0 *ask1Size* 454\n",
      "2017-03-27 09:01:26 *last* 3059.0 *bid1* 3059.0 *bid1Size* 235 *ask1* 3060.0 *ask1Size* 32\n",
      "2017-03-27 09:01:26.500000 *last* 3059.0 *bid1* 3059.0 *bid1Size* 129 *ask1* 3060.0 *ask1Size* 65\n",
      "2017-03-27 09:01:27 *last* 3059.0 *bid1* 3059.0 *bid1Size* 145 *ask1* 3060.0 *ask1Size* 132\n",
      "2017-03-27 09:01:27.500000 *last* 3059.0 *bid1* 3058.0 *bid1Size* 1073 *ask1* 3059.0 *ask1Size* 13\n",
      "2017-03-27 09:01:28 *last* 3059.0 *bid1* 3058.0 *bid1Size* 1033 *ask1* 3059.0 *ask1Size* 30\n",
      "2017-03-27 09:01:28.500000 *last* 3060.0 *bid1* 3059.0 *bid1Size* 18 *ask1* 3060.0 *ask1Size* 212\n",
      "2017-03-27 09:01:29 *last* 3059.0 *bid1* 3058.0 *bid1Size* 988 *ask1* 3059.0 *ask1Size* 46\n",
      "2017-03-27 09:01:29.500000 *last* 3058.0 *bid1* 3058.0 *bid1Size* 963 *ask1* 3059.0 *ask1Size* 283\n",
      "2017-03-27 09:01:30 *last* 3059.0 *bid1* 3058.0 *bid1Size* 915 *ask1* 3059.0 *ask1Size* 233\n",
      "2017-03-27 09:01:30.500000 *last* 3058.0 *bid1* 3058.0 *bid1Size* 632 *ask1* 3059.0 *ask1Size* 136\n",
      "2017-03-27 09:01:31 *last* 3058.0 *bid1* 3059.0 *bid1Size* 20 *ask1* 3060.0 *ask1Size* 672\n",
      "2017-03-27 09:01:31.500000 *last* 3058.0 *bid1* 3057.0 *bid1Size* 767 *ask1* 3059.0 *ask1Size* 225\n",
      "2017-03-27 09:01:32 *last* 3058.0 *bid1* 3058.0 *bid1Size* 3 *ask1* 3059.0 *ask1Size* 81\n",
      "2017-03-27 09:01:32.500000 *last* 3059.0 *bid1* 3057.0 *bid1Size* 801 *ask1* 3058.0 *ask1Size* 1\n",
      "2017-03-27 09:01:33 *last* 3059.0 *bid1* 3057.0 *bid1Size* 810 *ask1* 3058.0 *ask1Size* 121\n",
      "2017-03-27 09:01:33.500000 *last* 3058.0 *bid1* 3057.0 *bid1Size* 742 *ask1* 3058.0 *ask1Size* 14\n",
      "2017-03-27 09:01:34 *last* 3057.0 *bid1* 3057.0 *bid1Size* 683 *ask1* 3058.0 *ask1Size* 24\n",
      "2017-03-27 09:01:34.500000 *last* 3058.0 *bid1* 3057.0 *bid1Size* 506 *ask1* 3058.0 *ask1Size* 30\n",
      "2017-03-27 09:01:35 *last* 3057.0 *bid1* 3057.0 *bid1Size* 476 *ask1* 3059.0 *ask1Size* 473\n",
      "2017-03-27 09:01:35.500000 *last* 3058.0 *bid1* 3058.0 *bid1Size* 64 *ask1* 3059.0 *ask1Size* 487\n",
      "2017-03-27 09:01:36 *last* 3058.0 *bid1* 3057.0 *bid1Size* 499 *ask1* 3058.0 *ask1Size* 6\n",
      "2017-03-27 09:01:36.500000 *last* 3058.0 *bid1* 3057.0 *bid1Size* 440 *ask1* 3058.0 *ask1Size* 56\n",
      "2017-03-27 09:01:37 *last* 3057.0 *bid1* 3057.0 *bid1Size* 460 *ask1* 3058.0 *ask1Size* 113\n",
      "2017-03-27 09:01:37.500000 *last* 3058.0 *bid1* 3057.0 *bid1Size* 428 *ask1* 3058.0 *ask1Size* 3\n",
      "2017-03-27 09:01:38 *last* 3058.0 *bid1* 3057.0 *bid1Size* 144 *ask1* 3058.0 *ask1Size* 80\n",
      "2017-03-27 09:01:38.500000 *last* 3057.0 *bid1* 3056.0 *bid1Size* 341 *ask1* 3057.0 *ask1Size* 1203\n",
      "2017-03-27 09:01:39 *last* 3056.0 *bid1* 3055.0 *bid1Size* 293 *ask1* 3056.0 *ask1Size* 34\n",
      "2017-03-27 09:01:39.500000 *last* 3055.0 *bid1* 3055.0 *bid1Size* 1 *ask1* 3056.0 *ask1Size* 81\n",
      "2017-03-27 09:01:40 *last* 3054.0 *bid1* 3054.0 *bid1Size* 109 *ask1* 3055.0 *ask1Size* 159\n",
      "2017-03-27 09:01:40.500000 *last* 3054.0 *bid1* 3053.0 *bid1Size* 65 *ask1* 3054.0 *ask1Size* 30\n",
      "2017-03-27 09:01:41 *last* 3054.0 *bid1* 3054.0 *bid1Size* 3 *ask1* 3055.0 *ask1Size* 37\n",
      "2017-03-27 09:01:41.500000 *last* 3054.0 *bid1* 3053.0 *bid1Size* 101 *ask1* 3054.0 *ask1Size* 32\n",
      "2017-03-27 09:01:42 *last* 3055.0 *bid1* 3054.0 *bid1Size* 52 *ask1* 3055.0 *ask1Size* 417\n",
      "2017-03-27 09:01:42.500000 *last* 3054.0 *bid1* 3053.0 *bid1Size* 160 *ask1* 3054.0 *ask1Size* 56\n",
      "2017-03-27 09:01:43 *last* 3054.0 *bid1* 3054.0 *bid1Size* 74 *ask1* 3055.0 *ask1Size* 439\n",
      "2017-03-27 09:01:43.500000 *last* 3055.0 *bid1* 3054.0 *bid1Size* 143 *ask1* 3055.0 *ask1Size* 421\n",
      "2017-03-27 09:01:44 *last* 3055.0 *bid1* 3054.0 *bid1Size* 72 *ask1* 3055.0 *ask1Size* 374\n",
      "2017-03-27 09:01:44.500000 *last* 3054.0 *bid1* 3054.0 *bid1Size* 98 *ask1* 3055.0 *ask1Size* 131\n",
      "2017-03-27 09:01:45 *last* 3055.0 *bid1* 3055.0 *bid1Size* 162 *ask1* 3056.0 *ask1Size* 85\n",
      "2017-03-27 09:01:45.500000 *last* 3055.0 *bid1* 3055.0 *bid1Size* 228 *ask1* 3056.0 *ask1Size* 23\n",
      "2017-03-27 09:01:46 *last* 3056.0 *bid1* 3056.0 *bid1Size* 122 *ask1* 3057.0 *ask1Size* 1283\n",
      "2017-03-27 09:01:46.500000 *last* 3055.0 *bid1* 3056.0 *bid1Size* 28 *ask1* 3057.0 *ask1Size* 1320\n",
      "2017-03-27 09:01:47 *last* 3054.0 *bid1* 3054.0 *bid1Size* 226 *ask1* 3055.0 *ask1Size* 18\n",
      "2017-03-27 09:01:47.500000 *last* 3054.0 *bid1* 3054.0 *bid1Size* 206 *ask1* 3055.0 *ask1Size* 5\n",
      "2017-03-27 09:01:48 *last* 3055.0 *bid1* 3054.0 *bid1Size* 170 *ask1* 3055.0 *ask1Size* 482\n",
      "2017-03-27 09:01:48.500000 *last* 3055.0 *bid1* 3054.0 *bid1Size* 130 *ask1* 3055.0 *ask1Size* 394\n",
      "2017-03-27 09:01:49 *last* 3054.0 *bid1* 3053.0 *bid1Size* 86 *ask1* 3054.0 *ask1Size* 321\n",
      "2017-03-27 09:01:49.500000 *last* 3053.0 *bid1* 3053.0 *bid1Size* 67 *ask1* 3054.0 *ask1Size* 268\n",
      "2017-03-27 09:01:50 *last* 3054.0 *bid1* 3053.0 *bid1Size* 6 *ask1* 3054.0 *ask1Size* 392\n",
      "2017-03-27 09:01:50.500000 *last* 3053.0 *bid1* 3053.0 *bid1Size* 3 *ask1* 3054.0 *ask1Size* 860\n",
      "2017-03-27 09:01:51 *last* 3053.0 *bid1* 3052.0 *bid1Size* 410 *ask1* 3053.0 *ask1Size* 9\n",
      "2017-03-27 09:01:51.500000 *last* 3054.0 *bid1* 3053.0 *bid1Size* 437 *ask1* 3054.0 *ask1Size* 689\n",
      "2017-03-27 09:01:52 *last* 3053.0 *bid1* 3053.0 *bid1Size* 369 *ask1* 3054.0 *ask1Size* 984\n",
      "2017-03-27 09:01:52.500000 *last* 3052.0 *bid1* 3052.0 *bid1Size* 414 *ask1* 3053.0 *ask1Size* 5\n",
      "2017-03-27 09:01:53 *last* 3053.0 *bid1* 3052.0 *bid1Size* 386 *ask1* 3053.0 *ask1Size* 114\n",
      "2017-03-27 09:01:53.500000 *last* 3052.0 *bid1* 3052.0 *bid1Size* 374 *ask1* 3053.0 *ask1Size* 249\n",
      "2017-03-27 09:01:54 *last* 3052.0 *bid1* 3052.0 *bid1Size* 213 *ask1* 3053.0 *ask1Size* 985\n",
      "2017-03-27 09:01:54.500000 *last* 3052.0 *bid1* 3051.0 *bid1Size* 638 *ask1* 3052.0 *ask1Size* 84\n",
      "2017-03-27 09:01:55 *last* 3051.0 *bid1* 3051.0 *bid1Size* 548 *ask1* 3052.0 *ask1Size* 225\n",
      "2017-03-27 09:01:55.500000 *last* 3052.0 *bid1* 3051.0 *bid1Size* 479 *ask1* 3052.0 *ask1Size* 219\n",
      "2017-03-27 09:01:56 *last* 3051.0 *bid1* 3051.0 *bid1Size* 468 *ask1* 3052.0 *ask1Size* 565\n",
      "2017-03-27 09:01:56.500000 *last* 3052.0 *bid1* 3051.0 *bid1Size* 193 *ask1* 3052.0 *ask1Size* 369\n",
      "2017-03-27 09:01:57 *last* 3051.0 *bid1* 3051.0 *bid1Size* 115 *ask1* 3052.0 *ask1Size* 337\n",
      "2017-03-27 09:01:57.500000 *last* 3052.0 *bid1* 3051.0 *bid1Size* 8 *ask1* 3052.0 *ask1Size* 316\n",
      "2017-03-27 09:01:58 *last* 3051.0 *bid1* 3050.0 *bid1Size* 495 *ask1* 3052.0 *ask1Size* 207\n",
      "2017-03-27 09:01:58.500000 *last* 3051.0 *bid1* 3050.0 *bid1Size* 583 *ask1* 3051.0 *ask1Size* 104\n",
      "2017-03-27 09:01:59 *last* 3051.0 *bid1* 3050.0 *bid1Size* 2 *ask1* 3051.0 *ask1Size* 165\n",
      "2017-03-27 09:01:59.500000 *last* 3048.0 *bid1* 3048.0 *bid1Size* 114 *ask1* 3050.0 *ask1Size* 74\n",
      "2017-03-27 09:02:00 *last* 3050.0 *bid1* 3049.0 *bid1Size* 12 *ask1* 3050.0 *ask1Size* 111\n",
      "2017-03-27 09:02:00.500000 *last* 3048.0 *bid1* 3047.0 *bid1Size* 21 *ask1* 3048.0 *ask1Size* 170\n",
      "2017-03-27 09:02:01 *last* 3049.0 *bid1* 3048.0 *bid1Size* 11 *ask1* 3049.0 *ask1Size* 97\n",
      "2017-03-27 09:02:01.500000 *last* 3048.0 *bid1* 3047.0 *bid1Size* 8 *ask1* 3048.0 *ask1Size* 254\n",
      "2017-03-27 09:02:02 *last* 3047.0 *bid1* 3046.0 *bid1Size* 93 *ask1* 3047.0 *ask1Size* 384\n",
      "2017-03-27 09:02:02.500000 *last* 3047.0 *bid1* 3045.0 *bid1Size* 534 *ask1* 3046.0 *ask1Size* 101\n",
      "2017-03-27 09:02:03 *last* 3046.0 *bid1* 3045.0 *bid1Size* 520 *ask1* 3046.0 *ask1Size* 29\n",
      "2017-03-27 09:02:03.500000 *last* 3047.0 *bid1* 3046.0 *bid1Size* 75 *ask1* 3047.0 *ask1Size* 135\n",
      "2017-03-27 09:02:04 *last* 3046.0 *bid1* 3044.0 *bid1Size* 83 *ask1* 3046.0 *ask1Size* 138\n",
      "2017-03-27 09:02:04.500000 *last* 3046.0 *bid1* 3044.0 *bid1Size* 124 *ask1* 3046.0 *ask1Size* 156\n",
      "2017-03-27 09:02:05 *last* 3046.0 *bid1* 3045.0 *bid1Size* 135 *ask1* 3046.0 *ask1Size* 172\n",
      "2017-03-27 09:02:05.500000 *last* 3045.0 *bid1* 3045.0 *bid1Size* 37 *ask1* 3046.0 *ask1Size* 187\n",
      "2017-03-27 09:02:06 *last* 3046.0 *bid1* 3045.0 *bid1Size* 109 *ask1* 3046.0 *ask1Size* 120\n",
      "2017-03-27 09:02:06.500000 *last* 3045.0 *bid1* 3044.0 *bid1Size* 118 *ask1* 3045.0 *ask1Size* 97\n",
      "2017-03-27 09:02:07 *last* 3045.0 *bid1* 3044.0 *bid1Size* 33 *ask1* 3045.0 *ask1Size* 416\n",
      "2017-03-27 09:02:07.500000 *last* 3045.0 *bid1* 3043.0 *bid1Size* 381 *ask1* 3044.0 *ask1Size* 17\n",
      "2017-03-27 09:02:08 *last* 3044.0 *bid1* 3044.0 *bid1Size* 103 *ask1* 3045.0 *ask1Size* 51\n",
      "2017-03-27 09:02:08.500000 *last* 3044.0 *bid1* 3044.0 *bid1Size* 76 *ask1* 3045.0 *ask1Size* 39\n",
      "2017-03-27 09:02:09 *last* 3044.0 *bid1* 3043.0 *bid1Size* 392 *ask1* 3044.0 *ask1Size* 376\n",
      "2017-03-27 09:02:09.500000 *last* 3044.0 *bid1* 3043.0 *bid1Size* 376 *ask1* 3044.0 *ask1Size* 282\n",
      "2017-03-27 09:02:10 *last* 3043.0 *bid1* 3043.0 *bid1Size* 70 *ask1* 3044.0 *ask1Size* 179\n",
      "2017-03-27 09:02:10.500000 *last* 3043.0 *bid1* 3042.0 *bid1Size* 46 *ask1* 3043.0 *ask1Size* 194\n",
      "2017-03-27 09:02:11 *last* 3042.0 *bid1* 3041.0 *bid1Size* 107 *ask1* 3042.0 *ask1Size* 62\n",
      "2017-03-27 09:02:11.500000 *last* 3042.0 *bid1* 3041.0 *bid1Size* 264 *ask1* 3042.0 *ask1Size* 68\n",
      "2017-03-27 09:02:12 *last* 3043.0 *bid1* 3042.0 *bid1Size* 101 *ask1* 3043.0 *ask1Size* 655\n",
      "2017-03-27 09:02:12.500000 *last* 3042.0 *bid1* 3041.0 *bid1Size* 196 *ask1* 3042.0 *ask1Size* 111\n",
      "2017-03-27 09:02:13 *last* 3041.0 *bid1* 3041.0 *bid1Size* 292 *ask1* 3042.0 *ask1Size* 191\n",
      "2017-03-27 09:02:13.500000 *last* 3041.0 *bid1* 3041.0 *bid1Size* 99 *ask1* 3042.0 *ask1Size* 112\n",
      "2017-03-27 09:02:14 *last* 3042.0 *bid1* 3042.0 *bid1Size* 539 *ask1* 3043.0 *ask1Size* 663\n",
      "2017-03-27 09:02:14.500000 *last* 3042.0 *bid1* 3042.0 *bid1Size* 652 *ask1* 3043.0 *ask1Size* 652\n",
      "2017-03-27 09:02:15 *last* 3041.0 *bid1* 3041.0 *bid1Size* 18 *ask1* 3043.0 *ask1Size* 370\n",
      "2017-03-27 09:02:15.500000 *last* 3041.0 *bid1* 3040.0 *bid1Size* 2313 *ask1* 3041.0 *ask1Size* 31\n",
      "2017-03-27 09:02:16 *last* 3043.0 *bid1* 3043.0 *bid1Size* 46 *ask1* 3044.0 *ask1Size* 246\n",
      "2017-03-27 09:02:16.500000 *last* 3043.0 *bid1* 3041.0 *bid1Size* 174 *ask1* 3043.0 *ask1Size* 2\n",
      "2017-03-27 09:02:17 *last* 3041.0 *bid1* 3041.0 *bid1Size* 49 *ask1* 3043.0 *ask1Size* 341\n",
      "2017-03-27 09:02:17.500000 *last* 3042.0 *bid1* 3042.0 *bid1Size* 12 *ask1* 3043.0 *ask1Size* 75\n",
      "2017-03-27 09:02:18 *last* 3043.0 *bid1* 3043.0 *bid1Size* 140 *ask1* 3044.0 *ask1Size* 249\n",
      "2017-03-27 09:02:18.500000 *last* 3043.0 *bid1* 3043.0 *bid1Size* 58 *ask1* 3044.0 *ask1Size* 67\n",
      "2017-03-27 09:02:19 *last* 3041.0 *bid1* 3040.0 *bid1Size* 2064 *ask1* 3041.0 *ask1Size* 47\n",
      "2017-03-27 09:02:19.500000 *last* 3042.0 *bid1* 3041.0 *bid1Size* 396 *ask1* 3042.0 *ask1Size* 41\n",
      "2017-03-27 09:02:20 *last* 3042.0 *bid1* 3041.0 *bid1Size* 159 *ask1* 3042.0 *ask1Size* 10\n",
      "2017-03-27 09:02:20.500000 *last* 3042.0 *bid1* 3042.0 *bid1Size* 32 *ask1* 3043.0 *ask1Size* 512\n",
      "2017-03-27 09:02:21 *last* 3041.0 *bid1* 3041.0 *bid1Size* 206 *ask1* 3043.0 *ask1Size* 523\n",
      "2017-03-27 09:02:21.500000 *last* 3042.0 *bid1* 3041.0 *bid1Size* 155 *ask1* 3042.0 *ask1Size* 71\n",
      "2017-03-27 09:02:22 *last* 3040.0 *bid1* 3040.0 *bid1Size* 2224 *ask1* 3041.0 *ask1Size* 356\n",
      "2017-03-27 09:02:22.500000 *last* 3040.0 *bid1* 3040.0 *bid1Size* 1530 *ask1* 3041.0 *ask1Size* 393\n",
      "2017-03-27 09:02:23 *last* 3040.0 *bid1* 3039.0 *bid1Size* 42 *ask1* 3040.0 *ask1Size* 115\n",
      "2017-03-27 09:02:23.500000 *last* 3038.0 *bid1* 3038.0 *bid1Size* 42 *ask1* 3039.0 *ask1Size* 894\n",
      "2017-03-27 09:02:24 *last* 3038.0 *bid1* 3035.0 *bid1Size* 783 *ask1* 3038.0 *ask1Size* 4\n",
      "2017-03-27 09:02:24.500000 *last* 3038.0 *bid1* 3036.0 *bid1Size* 99 *ask1* 3038.0 *ask1Size* 439\n",
      "2017-03-27 09:02:25 *last* 3037.0 *bid1* 3036.0 *bid1Size* 188 *ask1* 3038.0 *ask1Size* 1\n",
      "2017-03-27 09:02:25.500000 *last* 3036.0 *bid1* 3036.0 *bid1Size* 194 *ask1* 3038.0 *ask1Size* 69\n",
      "2017-03-27 09:02:26 *last* 3036.0 *bid1* 3037.0 *bid1Size* 5 *ask1* 3038.0 *ask1Size* 167\n",
      "2017-03-27 09:02:26.500000 *last* 3037.0 *bid1* 3035.0 *bid1Size* 420 *ask1* 3037.0 *ask1Size* 27\n",
      "2017-03-27 09:02:27 *last* 3038.0 *bid1* 3036.0 *bid1Size* 35 *ask1* 3037.0 *ask1Size* 2\n",
      "2017-03-27 09:02:27.500000 *last* 3038.0 *bid1* 3038.0 *bid1Size* 14 *ask1* 3039.0 *ask1Size* 675\n",
      "2017-03-27 09:02:28 *last* 3038.0 *bid1* 3038.0 *bid1Size* 15 *ask1* 3039.0 *ask1Size* 513\n",
      "2017-03-27 09:02:28.500000 *last* 3036.0 *bid1* 3036.0 *bid1Size* 69 *ask1* 3038.0 *ask1Size* 4\n",
      "2017-03-27 09:02:29 *last* 3038.0 *bid1* 3038.0 *bid1Size* 57 *ask1* 3039.0 *ask1Size* 430\n",
      "2017-03-27 09:02:29.500000 *last* 3037.0 *bid1* 3037.0 *bid1Size* 249 *ask1* 3039.0 *ask1Size* 314\n",
      "2017-03-27 09:02:30 *last* 3038.0 *bid1* 3038.0 *bid1Size* 273 *ask1* 3039.0 *ask1Size* 248\n",
      "2017-03-27 09:02:30.500000 *last* 3038.0 *bid1* 3038.0 *bid1Size* 15 *ask1* 3039.0 *ask1Size* 85\n",
      "2017-03-27 09:02:31 *last* 3039.0 *bid1* 3039.0 *bid1Size* 91 *ask1* 3040.0 *ask1Size* 151\n",
      "2017-03-27 09:02:31.500000 *last* 3039.0 *bid1* 3039.0 *bid1Size* 154 *ask1* 3040.0 *ask1Size* 8\n",
      "2017-03-27 09:02:32 *last* 3041.0 *bid1* 3040.0 *bid1Size* 104 *ask1* 3041.0 *ask1Size* 569\n",
      "2017-03-27 09:02:32.500000 *last* 3040.0 *bid1* 3040.0 *bid1Size* 2 *ask1* 3041.0 *ask1Size* 547\n",
      "2017-03-27 09:02:33 *last* 3038.0 *bid1* 3037.0 *bid1Size* 232 *ask1* 3038.0 *ask1Size* 201\n",
      "2017-03-27 09:02:33.500000 *last* 3040.0 *bid1* 3039.0 *bid1Size* 45 *ask1* 3040.0 *ask1Size* 4\n",
      "2017-03-27 09:02:34 *last* 3040.0 *bid1* 3040.0 *bid1Size* 40 *ask1* 3042.0 *ask1Size* 83\n",
      "2017-03-27 09:02:34.500000 *last* 3040.0 *bid1* 3039.0 *bid1Size* 149 *ask1* 3040.0 *ask1Size* 182\n",
      "2017-03-27 09:02:35 *last* 3039.0 *bid1* 3038.0 *bid1Size* 220 *ask1* 3039.0 *ask1Size* 132\n",
      "2017-03-27 09:02:35.500000 *last* 3039.0 *bid1* 3038.0 *bid1Size* 54 *ask1* 3039.0 *ask1Size* 32\n",
      "2017-03-27 09:02:36 *last* 3038.0 *bid1* 3038.0 *bid1Size* 5 *ask1* 3039.0 *ask1Size* 48\n",
      "2017-03-27 09:02:36.500000 *last* 3039.0 *bid1* 3038.0 *bid1Size* 13 *ask1* 3039.0 *ask1Size* 178\n",
      "2017-03-27 09:02:37 *last* 3038.0 *bid1* 3037.0 *bid1Size* 219 *ask1* 3038.0 *ask1Size* 269\n",
      "2017-03-27 09:02:37.500000 *last* 3037.0 *bid1* 3037.0 *bid1Size* 124 *ask1* 3039.0 *ask1Size* 215\n",
      "2017-03-27 09:02:38 *last* 3038.0 *bid1* 3037.0 *bid1Size* 18 *ask1* 3038.0 *ask1Size* 73\n",
      "2017-03-27 09:02:38.500000 *last* 3038.0 *bid1* 3037.0 *bid1Size* 9 *ask1* 3038.0 *ask1Size* 50\n",
      "2017-03-27 09:02:39 *last* 3038.0 *bid1* 3037.0 *bid1Size* 12 *ask1* 3038.0 *ask1Size* 87\n",
      "2017-03-27 09:02:39.500000 *last* 3037.0 *bid1* 3037.0 *bid1Size* 31 *ask1* 3038.0 *ask1Size* 175\n",
      "2017-03-27 09:02:40 *last* 3038.0 *bid1* 3038.0 *bid1Size* 326 *ask1* 3039.0 *ask1Size* 191\n",
      "2017-03-27 09:02:40.500000 *last* 3039.0 *bid1* 3038.0 *bid1Size* 244 *ask1* 3039.0 *ask1Size* 109\n",
      "2017-03-27 09:02:41 *last* 3038.0 *bid1* 3039.0 *bid1Size* 1 *ask1* 3040.0 *ask1Size* 677\n",
      "2017-03-27 09:02:41.500000 *last* 3039.0 *bid1* 3039.0 *bid1Size* 10 *ask1* 3040.0 *ask1Size* 633\n",
      "2017-03-27 09:02:42 *last* 3040.0 *bid1* 3038.0 *bid1Size* 214 *ask1* 3039.0 *ask1Size* 30\n",
      "2017-03-27 09:02:42.500000 *last* 3038.0 *bid1* 3038.0 *bid1Size* 278 *ask1* 3039.0 *ask1Size* 32\n",
      "2017-03-27 09:02:43 *last* 3039.0 *bid1* 3038.0 *bid1Size* 386 *ask1* 3039.0 *ask1Size* 137\n",
      "2017-03-27 09:02:43.500000 *last* 3040.0 *bid1* 3039.0 *bid1Size* 16 *ask1* 3040.0 *ask1Size* 785\n",
      "2017-03-27 09:02:44 *last* 3039.0 *bid1* 3039.0 *bid1Size* 16 *ask1* 3040.0 *ask1Size* 766\n",
      "2017-03-27 09:02:44.500000 *last* 3039.0 *bid1* 3039.0 *bid1Size* 43 *ask1* 3040.0 *ask1Size* 707\n",
      "2017-03-27 09:02:45 *last* 3039.0 *bid1* 3038.0 *bid1Size* 95 *ask1* 3039.0 *ask1Size* 5\n",
      "2017-03-27 09:02:45.500000 *last* 3040.0 *bid1* 3039.0 *bid1Size* 11 *ask1* 3040.0 *ask1Size* 673\n",
      "2017-03-27 09:02:46 *last* 3040.0 *bid1* 3039.0 *bid1Size* 50 *ask1* 3040.0 *ask1Size* 675\n",
      "2017-03-27 09:02:46.500000 *last* 3040.0 *bid1* 3039.0 *bid1Size* 192 *ask1* 3040.0 *ask1Size* 624\n",
      "2017-03-27 09:02:47 *last* 3040.0 *bid1* 3039.0 *bid1Size* 194 *ask1* 3040.0 *ask1Size* 548\n",
      "2017-03-27 09:02:47.500000 *last* 3039.0 *bid1* 3039.0 *bid1Size* 58 *ask1* 3040.0 *ask1Size* 432\n",
      "2017-03-27 09:02:48 *last* 3040.0 *bid1* 3039.0 *bid1Size* 16 *ask1* 3040.0 *ask1Size* 223\n",
      "2017-03-27 09:02:48.500000 *last* 3038.0 *bid1* 3038.0 *bid1Size* 65 *ask1* 3039.0 *ask1Size* 1\n",
      "2017-03-27 09:02:49 *last* 3038.0 *bid1* 3038.0 *bid1Size* 76 *ask1* 3039.0 *ask1Size* 198\n",
      "2017-03-27 09:02:49.500000 *last* 3038.0 *bid1* 3037.0 *bid1Size* 338 *ask1* 3038.0 *ask1Size* 87\n",
      "2017-03-27 09:02:50 *last* 3039.0 *bid1* 3038.0 *bid1Size* 1 *ask1* 3039.0 *ask1Size* 35\n",
      "2017-03-27 09:02:50.500000 *last* 3039.0 *bid1* 3038.0 *bid1Size* 3 *ask1* 3039.0 *ask1Size* 25\n",
      "2017-03-27 09:02:51 *last* 3039.0 *bid1* 3039.0 *bid1Size* 5 *ask1* 3040.0 *ask1Size* 27\n",
      "2017-03-27 09:02:51.500000 *last* 3040.0 *bid1* 3039.0 *bid1Size* 20 *ask1* 3040.0 *ask1Size* 2\n",
      "2017-03-27 09:02:52 *last* 3038.0 *bid1* 3038.0 *bid1Size* 126 *ask1* 3039.0 *ask1Size* 78\n",
      "2017-03-27 09:02:52.500000 *last* 3038.0 *bid1* 3037.0 *bid1Size* 485 *ask1* 3038.0 *ask1Size* 99\n",
      "2017-03-27 09:02:53 *last* 3038.0 *bid1* 3039.0 *bid1Size* 10 *ask1* 3040.0 *ask1Size* 6\n",
      "2017-03-27 09:02:53.500000 *last* 3039.0 *bid1* 3038.0 *bid1Size* 89 *ask1* 3039.0 *ask1Size* 17\n",
      "2017-03-27 09:02:54 *last* 3039.0 *bid1* 3038.0 *bid1Size* 2 *ask1* 3039.0 *ask1Size* 27\n",
      "2017-03-27 09:02:54.500000 *last* 3038.0 *bid1* 3037.0 *bid1Size* 493 *ask1* 3038.0 *ask1Size* 81\n",
      "2017-03-27 09:02:55 *last* 3037.0 *bid1* 3037.0 *bid1Size* 443 *ask1* 3038.0 *ask1Size* 84\n",
      "2017-03-27 09:02:55.500000 *last* 3038.0 *bid1* 3037.0 *bid1Size* 320 *ask1* 3038.0 *ask1Size* 175\n",
      "2017-03-27 09:02:56 *last* 3038.0 *bid1* 3036.0 *bid1Size* 226 *ask1* 3038.0 *ask1Size* 61\n",
      "2017-03-27 09:02:56.500000 *last* 3036.0 *bid1* 3036.0 *bid1Size* 149 *ask1* 3037.0 *ask1Size* 290\n",
      "2017-03-27 09:02:57 *last* 3037.0 *bid1* 3036.0 *bid1Size* 36 *ask1* 3037.0 *ask1Size* 274\n",
      "2017-03-27 09:02:57.500000 *last* 3036.0 *bid1* 3035.0 *bid1Size* 735 *ask1* 3036.0 *ask1Size* 99\n",
      "2017-03-27 09:02:58 *last* 3036.0 *bid1* 3035.0 *bid1Size* 705 *ask1* 3036.0 *ask1Size* 215\n",
      "2017-03-27 09:02:58.500000 *last* 3035.0 *bid1* 3035.0 *bid1Size* 631 *ask1* 3037.0 *ask1Size* 142\n",
      "2017-03-27 09:02:59 *last* 3036.0 *bid1* 3035.0 *bid1Size* 632 *ask1* 3036.0 *ask1Size* 175\n",
      "2017-03-27 09:02:59.500000 *last* 3035.0 *bid1* 3035.0 *bid1Size* 67 *ask1* 3036.0 *ask1Size* 40\n",
      "2017-03-27 09:03:00 *last* 3035.0 *bid1* 3034.0 *bid1Size* 192 *ask1* 3035.0 *ask1Size* 26\n",
      "2017-03-27 09:03:00.500000 *last* 3034.0 *bid1* 3032.0 *bid1Size* 312 *ask1* 3034.0 *ask1Size* 99\n",
      "2017-03-27 09:03:01 *last* 3032.0 *bid1* 3032.0 *bid1Size* 197 *ask1* 3034.0 *ask1Size* 134\n",
      "2017-03-27 09:03:01.500000 *last* 3036.0 *bid1* 3035.0 *bid1Size* 24 *ask1* 3036.0 *ask1Size* 79\n",
      "2017-03-27 09:03:02 *last* 3035.0 *bid1* 3033.0 *bid1Size* 158 *ask1* 3035.0 *ask1Size* 605\n",
      "2017-03-27 09:03:02.500000 *last* 3034.0 *bid1* 3034.0 *bid1Size* 45 *ask1* 3035.0 *ask1Size* 641\n",
      "2017-03-27 09:03:03 *last* 3033.0 *bid1* 3032.0 *bid1Size* 60 *ask1* 3034.0 *ask1Size* 185\n",
      "2017-03-27 09:03:03.500000 *last* 3033.0 *bid1* 3033.0 *bid1Size* 3 *ask1* 3034.0 *ask1Size* 114\n",
      "2017-03-27 09:03:04 *last* 3033.0 *bid1* 3033.0 *bid1Size* 19 *ask1* 3034.0 *ask1Size* 34\n",
      "2017-03-27 09:03:04.500000 *last* 3034.0 *bid1* 3033.0 *bid1Size* 73 *ask1* 3034.0 *ask1Size* 12\n",
      "2017-03-27 09:03:05 *last* 3034.0 *bid1* 3034.0 *bid1Size* 304 *ask1* 3035.0 *ask1Size* 363\n",
      "2017-03-27 09:03:05.500000 *last* 3035.0 *bid1* 3035.0 *bid1Size* 306 *ask1* 3036.0 *ask1Size* 114\n",
      "2017-03-27 09:03:06 *last* 3036.0 *bid1* 3036.0 *bid1Size* 307 *ask1* 3037.0 *ask1Size* 161\n",
      "2017-03-27 09:03:06.500000 *last* 3037.0 *bid1* 3037.0 *bid1Size* 194 *ask1* 3038.0 *ask1Size* 350\n",
      "2017-03-27 09:03:07 *last* 3038.0 *bid1* 3037.0 *bid1Size* 278 *ask1* 3038.0 *ask1Size* 231\n",
      "2017-03-27 09:03:07.500000 *last* 3037.0 *bid1* 3037.0 *bid1Size* 282 *ask1* 3038.0 *ask1Size* 10\n",
      "2017-03-27 09:03:08 *last* 3038.0 *bid1* 3038.0 *bid1Size* 265 *ask1* 3039.0 *ask1Size* 192\n",
      "2017-03-27 09:03:08.500000 *last* 3038.0 *bid1* 3038.0 *bid1Size* 321 *ask1* 3039.0 *ask1Size* 157\n",
      "2017-03-27 09:03:09 *last* 3038.0 *bid1* 3038.0 *bid1Size* 59 *ask1* 3039.0 *ask1Size* 175\n",
      "2017-03-27 09:03:09.500000 *last* 3039.0 *bid1* 3039.0 *bid1Size* 152 *ask1* 3040.0 *ask1Size* 243\n",
      "2017-03-27 09:03:10 *last* 3039.0 *bid1* 3039.0 *bid1Size* 74 *ask1* 3040.0 *ask1Size* 217\n",
      "2017-03-27 09:03:10.500000 *last* 3040.0 *bid1* 3039.0 *bid1Size* 164 *ask1* 3040.0 *ask1Size* 202\n",
      "2017-03-27 09:03:11 *last* 3039.0 *bid1* 3039.0 *bid1Size* 256 *ask1* 3040.0 *ask1Size* 104\n",
      "2017-03-27 09:03:11.500000 *last* 3040.0 *bid1* 3039.0 *bid1Size* 231 *ask1* 3040.0 *ask1Size* 50\n",
      "2017-03-27 09:03:12 *last* 3041.0 *bid1* 3039.0 *bid1Size* 472 *ask1* 3041.0 *ask1Size* 28\n",
      "2017-03-27 09:03:12.500000 *last* 3041.0 *bid1* 3041.0 *bid1Size* 90 *ask1* 3042.0 *ask1Size* 134\n",
      "2017-03-27 09:03:13 *last* 3040.0 *bid1* 3040.0 *bid1Size* 296 *ask1* 3041.0 *ask1Size* 8\n",
      "2017-03-27 09:03:13.500000 *last* 3041.0 *bid1* 3041.0 *bid1Size* 631 *ask1* 3042.0 *ask1Size* 130\n",
      "2017-03-27 09:03:14 *last* 3041.0 *bid1* 3041.0 *bid1Size* 525 *ask1* 3042.0 *ask1Size* 123\n",
      "2017-03-27 09:03:14.500000 *last* 3042.0 *bid1* 3041.0 *bid1Size* 519 *ask1* 3042.0 *ask1Size* 43\n",
      "2017-03-27 09:03:15 *last* 3042.0 *bid1* 3042.0 *bid1Size* 1 *ask1* 3043.0 *ask1Size* 177\n",
      "2017-03-27 09:03:15.500000 *last* 3042.0 *bid1* 3041.0 *bid1Size* 17 *ask1* 3042.0 *ask1Size* 573\n",
      "2017-03-27 09:03:16 *last* 3042.0 *bid1* 3040.0 *bid1Size* 577 *ask1* 3041.0 *ask1Size* 2\n",
      "2017-03-27 09:03:16.500000 *last* 3041.0 *bid1* 3040.0 *bid1Size* 386 *ask1* 3041.0 *ask1Size* 35\n",
      "2017-03-27 09:03:17 *last* 3041.0 *bid1* 3040.0 *bid1Size* 466 *ask1* 3041.0 *ask1Size* 59\n",
      "2017-03-27 09:03:17.500000 *last* 3041.0 *bid1* 3040.0 *bid1Size* 461 *ask1* 3041.0 *ask1Size* 317\n",
      "2017-03-27 09:03:18 *last* 3041.0 *bid1* 3040.0 *bid1Size* 428 *ask1* 3041.0 *ask1Size* 217\n",
      "2017-03-27 09:03:18.500000 *last* 3040.0 *bid1* 3042.0 *bid1Size* 3 *ask1* 3043.0 *ask1Size* 175\n",
      "2017-03-27 09:03:19 *last* 3041.0 *bid1* 3040.0 *bid1Size* 517 *ask1* 3041.0 *ask1Size* 56\n",
      "2017-03-27 09:03:19.500000 *last* 3041.0 *bid1* 3041.0 *bid1Size* 96 *ask1* 3042.0 *ask1Size* 4\n",
      "2017-03-27 09:03:20 *last* 3042.0 *bid1* 3041.0 *bid1Size* 4 *ask1* 3042.0 *ask1Size* 22\n",
      "2017-03-27 09:03:20.500000 *last* 3041.0 *bid1* 3040.0 *bid1Size* 470 *ask1* 3041.0 *ask1Size* 15\n",
      "2017-03-27 09:03:21 *last* 3041.0 *bid1* 3041.0 *bid1Size* 19 *ask1* 3042.0 *ask1Size* 37\n",
      "2017-03-27 09:03:21.500000 *last* 3041.0 *bid1* 3041.0 *bid1Size* 23 *ask1* 3042.0 *ask1Size* 26\n",
      "2017-03-27 09:03:22 *last* 3043.0 *bid1* 3042.0 *bid1Size* 8 *ask1* 3043.0 *ask1Size* 88\n",
      "2017-03-27 09:03:22.500000 *last* 3042.0 *bid1* 3043.0 *bid1Size* 799 *ask1* 3044.0 *ask1Size* 132\n",
      "2017-03-27 09:03:23 *last* 3043.0 *bid1* 3043.0 *bid1Size* 790 *ask1* 3044.0 *ask1Size* 79\n",
      "2017-03-27 09:03:23.500000 *last* 3044.0 *bid1* 3043.0 *bid1Size* 730 *ask1* 3044.0 *ask1Size* 47\n",
      "2017-03-27 09:03:24 *last* 3044.0 *bid1* 3043.0 *bid1Size* 725 *ask1* 3044.0 *ask1Size* 68\n",
      "2017-03-27 09:03:24.500000 *last* 3043.0 *bid1* 3043.0 *bid1Size* 732 *ask1* 3045.0 *ask1Size* 269\n",
      "2017-03-27 09:03:25 *last* 3044.0 *bid1* 3044.0 *bid1Size* 2 *ask1* 3045.0 *ask1Size* 291\n",
      "2017-03-27 09:03:25.500000 *last* 3044.0 *bid1* 3044.0 *bid1Size* 77 *ask1* 3045.0 *ask1Size* 273\n",
      "2017-03-27 09:03:26 *last* 3045.0 *bid1* 3044.0 *bid1Size* 41 *ask1* 3045.0 *ask1Size* 261\n",
      "2017-03-27 09:03:26.500000 *last* 3045.0 *bid1* 3045.0 *bid1Size* 181 *ask1* 3046.0 *ask1Size* 72\n",
      "2017-03-27 09:03:27 *last* 3045.0 *bid1* 3046.0 *bid1Size* 20 *ask1* 3048.0 *ask1Size* 276\n",
      "2017-03-27 09:03:27.500000 *last* 3046.0 *bid1* 3046.0 *bid1Size* 31 *ask1* 3047.0 *ask1Size* 4\n",
      "2017-03-27 09:03:28 *last* 3047.0 *bid1* 3046.0 *bid1Size* 171 *ask1* 3047.0 *ask1Size* 46\n",
      "2017-03-27 09:03:28.500000 *last* 3047.0 *bid1* 3045.0 *bid1Size* 135 *ask1* 3047.0 *ask1Size* 14\n",
      "2017-03-27 09:03:29 *last* 3048.0 *bid1* 3047.0 *bid1Size* 50 *ask1* 3048.0 *ask1Size* 137\n",
      "2017-03-27 09:03:29.500000 *last* 3049.0 *bid1* 3047.0 *bid1Size* 69 *ask1* 3049.0 *ask1Size* 125\n",
      "2017-03-27 09:03:30 *last* 3047.0 *bid1* 3047.0 *bid1Size* 72 *ask1* 3048.0 *ask1Size* 3\n",
      "2017-03-27 09:03:30.500000 *last* 3048.0 *bid1* 3048.0 *bid1Size* 9 *ask1* 3049.0 *ask1Size* 60\n",
      "2017-03-27 09:03:31 *last* 3048.0 *bid1* 3048.0 *bid1Size* 10 *ask1* 3049.0 *ask1Size* 60\n",
      "2017-03-27 09:03:31.500000 *last* 3049.0 *bid1* 3049.0 *bid1Size* 282 *ask1* 3050.0 *ask1Size* 262\n",
      "2017-03-27 09:03:32 *last* 3049.0 *bid1* 3049.0 *bid1Size* 203 *ask1* 3050.0 *ask1Size* 263\n",
      "2017-03-27 09:03:32.500000 *last* 3049.0 *bid1* 3048.0 *bid1Size* 19 *ask1* 3049.0 *ask1Size* 49\n",
      "2017-03-27 09:03:33 *last* 3049.0 *bid1* 3049.0 *bid1Size* 53 *ask1* 3050.0 *ask1Size* 97\n",
      "2017-03-27 09:03:33.500000 *last* 3050.0 *bid1* 3050.0 *bid1Size* 84 *ask1* 3051.0 *ask1Size* 250\n",
      "2017-03-27 09:03:34 *last* 3051.0 *bid1* 3050.0 *bid1Size* 1 *ask1* 3051.0 *ask1Size* 234\n",
      "2017-03-27 09:03:34.500000 *last* 3050.0 *bid1* 3049.0 *bid1Size* 12 *ask1* 3050.0 *ask1Size* 69\n",
      "2017-03-27 09:03:35 *last* 3050.0 *bid1* 3049.0 *bid1Size* 65 *ask1* 3050.0 *ask1Size* 97\n",
      "2017-03-27 09:03:35.500000 *last* 3050.0 *bid1* 3048.0 *bid1Size* 11 *ask1* 3050.0 *ask1Size* 15\n",
      "2017-03-27 09:03:36 *last* 3050.0 *bid1* 3050.0 *bid1Size* 39 *ask1* 3051.0 *ask1Size* 9\n",
      "2017-03-27 09:03:36.500000 *last* 3051.0 *bid1* 3050.0 *bid1Size* 94 *ask1* 3052.0 *ask1Size* 300\n",
      "2017-03-27 09:03:37 *last* 3051.0 *bid1* 3051.0 *bid1Size* 186 *ask1* 3052.0 *ask1Size* 247\n",
      "2017-03-27 09:03:37.500000 *last* 3051.0 *bid1* 3051.0 *bid1Size* 198 *ask1* 3052.0 *ask1Size* 161\n",
      "2017-03-27 09:03:38 *last* 3051.0 *bid1* 3051.0 *bid1Size* 35 *ask1* 3052.0 *ask1Size* 132\n",
      "2017-03-27 09:03:38.500000 *last* 3050.0 *bid1* 3050.0 *bid1Size* 477 *ask1* 3051.0 *ask1Size* 14\n",
      "2017-03-27 09:03:39 *last* 3051.0 *bid1* 3051.0 *bid1Size* 276 *ask1* 3052.0 *ask1Size* 173\n",
      "2017-03-27 09:03:39.500000 *last* 3052.0 *bid1* 3051.0 *bid1Size* 241 *ask1* 3052.0 *ask1Size* 169\n",
      "2017-03-27 09:03:40 *last* 3052.0 *bid1* 3052.0 *bid1Size* 37 *ask1* 3053.0 *ask1Size* 499\n",
      "2017-03-27 09:03:40.500000 *last* 3052.0 *bid1* 3052.0 *bid1Size* 57 *ask1* 3053.0 *ask1Size* 438\n",
      "2017-03-27 09:03:41 *last* 3052.0 *bid1* 3051.0 *bid1Size* 360 *ask1* 3052.0 *ask1Size* 83\n",
      "2017-03-27 09:03:41.500000 *last* 3052.0 *bid1* 3051.0 *bid1Size* 340 *ask1* 3052.0 *ask1Size* 28\n",
      "2017-03-27 09:03:42 *last* 3052.0 *bid1* 3051.0 *bid1Size* 383 *ask1* 3052.0 *ask1Size* 399\n",
      "2017-03-27 09:03:42.500000 *last* 3052.0 *bid1* 3051.0 *bid1Size* 378 *ask1* 3052.0 *ask1Size* 195\n",
      "2017-03-27 09:03:43 *last* 3053.0 *bid1* 3051.0 *bid1Size* 332 *ask1* 3053.0 *ask1Size* 294\n",
      "2017-03-27 09:03:43.500000 *last* 3053.0 *bid1* 3052.0 *bid1Size* 256 *ask1* 3053.0 *ask1Size* 172\n",
      "2017-03-27 09:03:44 *last* 3053.0 *bid1* 3052.0 *bid1Size* 289 *ask1* 3053.0 *ask1Size* 101\n",
      "2017-03-27 09:03:44.500000 *last* 3053.0 *bid1* 3053.0 *bid1Size* 150 *ask1* 3054.0 *ask1Size* 113\n",
      "2017-03-27 09:03:45 *last* 3053.0 *bid1* 3053.0 *bid1Size* 1 *ask1* 3054.0 *ask1Size* 102\n",
      "2017-03-27 09:03:45.500000 *last* 3054.0 *bid1* 3053.0 *bid1Size* 290 *ask1* 3054.0 *ask1Size* 84\n",
      "2017-03-27 09:03:46 *last* 3053.0 *bid1* 3053.0 *bid1Size* 293 *ask1* 3054.0 *ask1Size* 68\n",
      "2017-03-27 09:03:46.500000 *last* 3054.0 *bid1* 3053.0 *bid1Size* 152 *ask1* 3054.0 *ask1Size* 149\n",
      "2017-03-27 09:03:47 *last* 3054.0 *bid1* 3053.0 *bid1Size* 120 *ask1* 3054.0 *ask1Size* 195\n",
      "2017-03-27 09:03:47.500000 *last* 3053.0 *bid1* 3052.0 *bid1Size* 2 *ask1* 3053.0 *ask1Size* 68\n",
      "2017-03-27 09:03:48 *last* 3053.0 *bid1* 3052.0 *bid1Size* 34 *ask1* 3053.0 *ask1Size* 18\n",
      "2017-03-27 09:03:48.500000 *last* 3053.0 *bid1* 3052.0 *bid1Size* 2 *ask1* 3053.0 *ask1Size* 36\n",
      "2017-03-27 09:03:49 *last* 3052.0 *bid1* 3052.0 *bid1Size* 62 *ask1* 3054.0 *ask1Size* 23\n",
      "2017-03-27 09:03:49.500000 *last* 3053.0 *bid1* 3053.0 *bid1Size* 134 *ask1* 3054.0 *ask1Size* 5\n",
      "2017-03-27 09:03:50 *last* 3053.0 *bid1* 3053.0 *bid1Size* 245 *ask1* 3054.0 *ask1Size* 25\n",
      "2017-03-27 09:03:50.500000 *last* 3054.0 *bid1* 3053.0 *bid1Size* 307 *ask1* 3054.0 *ask1Size* 24\n",
      "2017-03-27 09:03:51 *last* 3053.0 *bid1* 3053.0 *bid1Size* 358 *ask1* 3054.0 *ask1Size* 85\n",
      "2017-03-27 09:03:51.500000 *last* 3054.0 *bid1* 3053.0 *bid1Size* 286 *ask1* 3054.0 *ask1Size* 24\n",
      "2017-03-27 09:03:52 *last* 3054.0 *bid1* 3053.0 *bid1Size* 284 *ask1* 3054.0 *ask1Size* 52\n",
      "2017-03-27 09:03:52.500000 *last* 3054.0 *bid1* 3053.0 *bid1Size* 280 *ask1* 3054.0 *ask1Size* 69\n",
      "2017-03-27 09:03:53 *last* 3053.0 *bid1* 3053.0 *bid1Size* 253 *ask1* 3054.0 *ask1Size* 235\n",
      "2017-03-27 09:03:53.500000 *last* 3054.0 *bid1* 3053.0 *bid1Size* 362 *ask1* 3054.0 *ask1Size* 236\n",
      "2017-03-27 09:03:54 *last* 3054.0 *bid1* 3053.0 *bid1Size* 327 *ask1* 3054.0 *ask1Size* 40\n",
      "2017-03-27 09:03:54.500000 *last* 3054.0 *bid1* 3054.0 *bid1Size* 90 *ask1* 3055.0 *ask1Size* 621\n",
      "2017-03-27 09:03:55 *last* 3054.0 *bid1* 3054.0 *bid1Size* 281 *ask1* 3055.0 *ask1Size* 577\n",
      "2017-03-27 09:03:55.500000 *last* 3055.0 *bid1* 3054.0 *bid1Size* 57 *ask1* 3055.0 *ask1Size* 498\n",
      "2017-03-27 09:03:56 *last* 3053.0 *bid1* 3053.0 *bid1Size* 327 *ask1* 3054.0 *ask1Size* 14\n",
      "2017-03-27 09:03:56.500000 *last* 3054.0 *bid1* 3054.0 *bid1Size* 129 *ask1* 3055.0 *ask1Size* 432\n",
      "2017-03-27 09:03:57 *last* 3054.0 *bid1* 3054.0 *bid1Size* 180 *ask1* 3055.0 *ask1Size* 387\n",
      "2017-03-27 09:03:57.500000 *last* 3055.0 *bid1* 3054.0 *bid1Size* 206 *ask1* 3055.0 *ask1Size* 344\n",
      "2017-03-27 09:03:58 *last* 3055.0 *bid1* 3054.0 *bid1Size* 208 *ask1* 3055.0 *ask1Size* 319\n",
      "2017-03-27 09:03:58.500000 *last* 3054.0 *bid1* 3053.0 *bid1Size* 320 *ask1* 3054.0 *ask1Size* 243\n",
      "2017-03-27 09:03:59 *last* 3054.0 *bid1* 3053.0 *bid1Size* 203 *ask1* 3054.0 *ask1Size* 210\n",
      "2017-03-27 09:03:59.500000 *last* 3054.0 *bid1* 3053.0 *bid1Size* 174 *ask1* 3054.0 *ask1Size* 9\n",
      "2017-03-27 09:04:00 *last* 3054.0 *bid1* 3053.0 *bid1Size* 147 *ask1* 3054.0 *ask1Size* 6\n",
      "2017-03-27 09:04:00.500000 *last* 3057.0 *bid1* 3055.0 *bid1Size* 3 *ask1* 3057.0 *ask1Size* 565\n",
      "2017-03-27 09:04:01 *last* 3054.0 *bid1* 3054.0 *bid1Size* 236 *ask1* 3056.0 *ask1Size* 5\n",
      "2017-03-27 09:04:01.500000 *last* 3052.0 *bid1* 3052.0 *bid1Size* 66 *ask1* 3053.0 *ask1Size* 50\n",
      "2017-03-27 09:04:02 *last* 3054.0 *bid1* 3054.0 *bid1Size* 41 *ask1* 3055.0 *ask1Size* 212\n",
      "2017-03-27 09:04:02.500000 *last* 3054.0 *bid1* 3054.0 *bid1Size* 88 *ask1* 3055.0 *ask1Size* 91\n",
      "2017-03-27 09:04:03 *last* 3055.0 *bid1* 3054.0 *bid1Size* 139 *ask1* 3056.0 *ask1Size* 259\n",
      "2017-03-27 09:04:03.500000 *last* 3055.0 *bid1* 3054.0 *bid1Size* 15 *ask1* 3055.0 *ask1Size* 20\n",
      "2017-03-27 09:04:04 *last* 3055.0 *bid1* 3054.0 *bid1Size* 94 *ask1* 3055.0 *ask1Size* 134\n",
      "2017-03-27 09:04:04.500000 *last* 3054.0 *bid1* 3054.0 *bid1Size* 5 *ask1* 3055.0 *ask1Size* 140\n",
      "2017-03-27 09:04:05 *last* 3054.0 *bid1* 3053.0 *bid1Size* 213 *ask1* 3054.0 *ask1Size* 39\n",
      "2017-03-27 09:04:05.500000 *last* 3054.0 *bid1* 3053.0 *bid1Size* 228 *ask1* 3054.0 *ask1Size* 165\n",
      "2017-03-27 09:04:06 *last* 3054.0 *bid1* 3053.0 *bid1Size* 228 *ask1* 3054.0 *ask1Size* 146\n",
      "2017-03-27 09:04:06.500000 *last* 3054.0 *bid1* 3054.0 *bid1Size* 30 *ask1* 3055.0 *ask1Size* 154\n",
      "2017-03-27 09:04:07 *last* 3054.0 *bid1* 3054.0 *bid1Size* 356 *ask1* 3055.0 *ask1Size* 63\n",
      "2017-03-27 09:04:07.500000 *last* 3055.0 *bid1* 3055.0 *bid1Size* 24 *ask1* 3056.0 *ask1Size* 248\n",
      "2017-03-27 09:04:08 *last* 3055.0 *bid1* 3055.0 *bid1Size* 239 *ask1* 3056.0 *ask1Size* 35\n",
      "2017-03-27 09:04:08.500000 *last* 3056.0 *bid1* 3056.0 *bid1Size* 31 *ask1* 3057.0 *ask1Size* 494\n",
      "2017-03-27 09:04:09 *last* 3056.0 *bid1* 3056.0 *bid1Size* 124 *ask1* 3057.0 *ask1Size* 159\n",
      "2017-03-27 09:04:09.500000 *last* 3057.0 *bid1* 3057.0 *bid1Size* 215 *ask1* 3058.0 *ask1Size* 113\n",
      "2017-03-27 09:04:10 *last* 3057.0 *bid1* 3057.0 *bid1Size* 209 *ask1* 3059.0 *ask1Size* 201\n",
      "2017-03-27 09:04:10.500000 *last* 3058.0 *bid1* 3058.0 *bid1Size* 135 *ask1* 3059.0 *ask1Size* 100\n",
      "2017-03-27 09:04:11 *last* 3058.0 *bid1* 3059.0 *bid1Size* 142 *ask1* 3060.0 *ask1Size* 987\n",
      "2017-03-27 09:04:11.500000 *last* 3059.0 *bid1* 3058.0 *bid1Size* 19 *ask1* 3059.0 *ask1Size* 191\n",
      "2017-03-27 09:04:12 *last* 3060.0 *bid1* 3058.0 *bid1Size* 6 *ask1* 3060.0 *ask1Size* 918\n",
      "2017-03-27 09:04:12.500000 *last* 3059.0 *bid1* 3058.0 *bid1Size* 208 *ask1* 3059.0 *ask1Size* 1\n",
      "2017-03-27 09:04:13 *last* 3059.0 *bid1* 3058.0 *bid1Size* 217 *ask1* 3059.0 *ask1Size* 82\n",
      "2017-03-27 09:04:13.500000 *last* 3058.0 *bid1* 3058.0 *bid1Size* 417 *ask1* 3059.0 *ask1Size* 66\n",
      "2017-03-27 09:04:14 *last* 3058.0 *bid1* 3058.0 *bid1Size* 371 *ask1* 3059.0 *ask1Size* 192\n",
      "2017-03-27 09:04:14.500000 *last* 3059.0 *bid1* 3058.0 *bid1Size* 414 *ask1* 3059.0 *ask1Size* 82\n",
      "2017-03-27 09:04:15 *last* 3059.0 *bid1* 3059.0 *bid1Size* 44 *ask1* 3060.0 *ask1Size* 753\n",
      "2017-03-27 09:04:15.500000 *last* 3060.0 *bid1* 3059.0 *bid1Size* 72 *ask1* 3060.0 *ask1Size* 716\n",
      "2017-03-27 09:04:16 *last* 3060.0 *bid1* 3059.0 *bid1Size* 239 *ask1* 3060.0 *ask1Size* 717\n",
      "2017-03-27 09:04:16.500000 *last* 3060.0 *bid1* 3059.0 *bid1Size* 280 *ask1* 3060.0 *ask1Size* 425\n",
      "2017-03-27 09:04:17 *last* 3060.0 *bid1* 3060.0 *bid1Size* 1 *ask1* 3061.0 *ask1Size* 393\n",
      "2017-03-27 09:04:17.500000 *last* 3060.0 *bid1* 3060.0 *bid1Size* 170 *ask1* 3061.0 *ask1Size* 344\n",
      "2017-03-27 09:04:18 *last* 3061.0 *bid1* 3060.0 *bid1Size* 21 *ask1* 3061.0 *ask1Size* 298\n",
      "2017-03-27 09:04:18.500000 *last* 3061.0 *bid1* 3060.0 *bid1Size* 79 *ask1* 3061.0 *ask1Size* 255\n",
      "2017-03-27 09:04:19 *last* 3061.0 *bid1* 3060.0 *bid1Size* 82 *ask1* 3061.0 *ask1Size* 30\n",
      "2017-03-27 09:04:19.500000 *last* 3060.0 *bid1* 3059.0 *bid1Size* 5 *ask1* 3060.0 *ask1Size* 237\n",
      "2017-03-27 09:04:20 *last* 3059.0 *bid1* 3059.0 *bid1Size* 13 *ask1* 3060.0 *ask1Size* 392\n",
      "2017-03-27 09:04:20.500000 *last* 3060.0 *bid1* 3059.0 *bid1Size* 24 *ask1* 3060.0 *ask1Size* 4\n",
      "2017-03-27 09:04:21 *last* 3061.0 *bid1* 3061.0 *bid1Size* 4 *ask1* 3062.0 *ask1Size* 269\n",
      "2017-03-27 09:04:21.500000 *last* 3060.0 *bid1* 3060.0 *bid1Size* 1 *ask1* 3061.0 *ask1Size* 153\n",
      "2017-03-27 09:04:22 *last* 3060.0 *bid1* 3060.0 *bid1Size* 106 *ask1* 3061.0 *ask1Size* 252\n",
      "2017-03-27 09:04:22.500000 *last* 3060.0 *bid1* 3060.0 *bid1Size* 134 *ask1* 3061.0 *ask1Size* 24\n",
      "2017-03-27 09:04:23 *last* 3060.0 *bid1* 3060.0 *bid1Size* 127 *ask1* 3061.0 *ask1Size* 35\n",
      "2017-03-27 09:04:23.500000 *last* 3062.0 *bid1* 3061.0 *bid1Size* 17 *ask1* 3062.0 *ask1Size* 325\n",
      "2017-03-27 09:04:24 *last* 3061.0 *bid1* 3061.0 *bid1Size* 68 *ask1* 3062.0 *ask1Size* 342\n",
      "2017-03-27 09:04:24.500000 *last* 3062.0 *bid1* 3061.0 *bid1Size* 22 *ask1* 3062.0 *ask1Size* 176\n",
      "2017-03-27 09:04:25 *last* 3060.0 *bid1* 3060.0 *bid1Size* 231 *ask1* 3061.0 *ask1Size* 105\n",
      "2017-03-27 09:04:25.500000 *last* 3061.0 *bid1* 3060.0 *bid1Size* 200 *ask1* 3061.0 *ask1Size* 40\n",
      "2017-03-27 09:04:26 *last* 3062.0 *bid1* 3061.0 *bid1Size* 51 *ask1* 3062.0 *ask1Size* 62\n",
      "2017-03-27 09:04:26.500000 *last* 3061.0 *bid1* 3060.0 *bid1Size* 197 *ask1* 3062.0 *ask1Size* 40\n",
      "2017-03-27 09:04:27 *last* 3060.0 *bid1* 3060.0 *bid1Size* 172 *ask1* 3061.0 *ask1Size* 262\n",
      "2017-03-27 09:04:27.500000 *last* 3060.0 *bid1* 3060.0 *bid1Size* 175 *ask1* 3061.0 *ask1Size* 265\n",
      "2017-03-27 09:04:28 *last* 3061.0 *bid1* 3060.0 *bid1Size* 72 *ask1* 3061.0 *ask1Size* 303\n",
      "2017-03-27 09:04:28.500000 *last* 3059.0 *bid1* 3059.0 *bid1Size* 307 *ask1* 3060.0 *ask1Size* 28\n",
      "2017-03-27 09:04:29 *last* 3059.0 *bid1* 3059.0 *bid1Size* 316 *ask1* 3060.0 *ask1Size* 40\n",
      "2017-03-27 09:04:29.500000 *last* 3059.0 *bid1* 3059.0 *bid1Size* 315 *ask1* 3060.0 *ask1Size* 9\n",
      "2017-03-27 09:04:30 *last* 3058.0 *bid1* 3058.0 *bid1Size* 287 *ask1* 3059.0 *ask1Size* 158\n",
      "2017-03-27 09:04:30.500000 *last* 3058.0 *bid1* 3058.0 *bid1Size* 163 *ask1* 3059.0 *ask1Size* 159\n",
      "2017-03-27 09:04:31 *last* 3059.0 *bid1* 3058.0 *bid1Size* 149 *ask1* 3059.0 *ask1Size* 5\n",
      "2017-03-27 09:04:31.500000 *last* 3058.0 *bid1* 3057.0 *bid1Size* 58 *ask1* 3058.0 *ask1Size* 15\n",
      "2017-03-27 09:04:32 *last* 3059.0 *bid1* 3058.0 *bid1Size* 89 *ask1* 3059.0 *ask1Size* 6\n",
      "2017-03-27 09:04:32.500000 *last* 3059.0 *bid1* 3058.0 *bid1Size* 6 *ask1* 3059.0 *ask1Size* 11\n",
      "2017-03-27 09:04:33 *last* 3058.0 *bid1* 3058.0 *bid1Size* 27 *ask1* 3059.0 *ask1Size* 20\n",
      "2017-03-27 09:04:33.500000 *last* 3058.0 *bid1* 3057.0 *bid1Size* 114 *ask1* 3058.0 *ask1Size* 18\n",
      "2017-03-27 09:04:34 *last* 3058.0 *bid1* 3058.0 *bid1Size* 46 *ask1* 3059.0 *ask1Size* 13\n",
      "2017-03-27 09:04:34.500000 *last* 3057.0 *bid1* 3057.0 *bid1Size* 153 *ask1* 3058.0 *ask1Size* 48\n",
      "2017-03-27 09:04:35 *last* 3058.0 *bid1* 3057.0 *bid1Size* 154 *ask1* 3058.0 *ask1Size* 123\n",
      "2017-03-27 09:04:35.500000 *last* 3058.0 *bid1* 3057.0 *bid1Size* 126 *ask1* 3058.0 *ask1Size* 103\n",
      "2017-03-27 09:04:36 *last* 3057.0 *bid1* 3057.0 *bid1Size* 27 *ask1* 3058.0 *ask1Size* 81\n",
      "2017-03-27 09:04:36.500000 *last* 3057.0 *bid1* 3056.0 *bid1Size* 121 *ask1* 3057.0 *ask1Size* 104\n",
      "2017-03-27 09:04:37 *last* 3056.0 *bid1* 3056.0 *bid1Size* 57 *ask1* 3057.0 *ask1Size* 99\n",
      "2017-03-27 09:04:37.500000 *last* 3057.0 *bid1* 3056.0 *bid1Size* 38 *ask1* 3057.0 *ask1Size* 19\n",
      "2017-03-27 09:04:38 *last* 3057.0 *bid1* 3057.0 *bid1Size* 165 *ask1* 3058.0 *ask1Size* 94\n",
      "2017-03-27 09:04:38.500000 *last* 3057.0 *bid1* 3056.0 *bid1Size* 142 *ask1* 3057.0 *ask1Size* 26\n",
      "2017-03-27 09:04:39 *last* 3058.0 *bid1* 3058.0 *bid1Size* 92 *ask1* 3059.0 *ask1Size* 55\n",
      "2017-03-27 09:04:39.500000 *last* 3057.0 *bid1* 3057.0 *bid1Size* 88 *ask1* 3058.0 *ask1Size* 193\n",
      "2017-03-27 09:04:40 *last* 3058.0 *bid1* 3057.0 *bid1Size* 84 *ask1* 3058.0 *ask1Size* 79\n",
      "2017-03-27 09:04:40.500000 *last* 3057.0 *bid1* 3057.0 *bid1Size* 117 *ask1* 3058.0 *ask1Size* 94\n",
      "2017-03-27 09:04:41 *last* 3057.0 *bid1* 3056.0 *bid1Size* 190 *ask1* 3057.0 *ask1Size* 38\n",
      "2017-03-27 09:04:41.500000 *last* 3058.0 *bid1* 3057.0 *bid1Size* 41 *ask1* 3058.0 *ask1Size* 73\n",
      "2017-03-27 09:04:42 *last* 3057.0 *bid1* 3057.0 *bid1Size* 108 *ask1* 3058.0 *ask1Size* 47\n",
      "2017-03-27 09:04:42.500000 *last* 3058.0 *bid1* 3058.0 *bid1Size* 100 *ask1* 3059.0 *ask1Size* 82\n",
      "2017-03-27 09:04:43 *last* 3057.0 *bid1* 3057.0 *bid1Size* 167 *ask1* 3058.0 *ask1Size* 352\n",
      "2017-03-27 09:04:43.500000 *last* 3058.0 *bid1* 3057.0 *bid1Size* 159 *ask1* 3058.0 *ask1Size* 281\n",
      "2017-03-27 09:04:44 *last* 3058.0 *bid1* 3057.0 *bid1Size* 154 *ask1* 3058.0 *ask1Size* 326\n",
      "2017-03-27 09:04:44.500000 *last* 3058.0 *bid1* 3056.0 *bid1Size* 183 *ask1* 3058.0 *ask1Size* 303\n",
      "2017-03-27 09:04:45 *last* 3057.0 *bid1* 3056.0 *bid1Size* 196 *ask1* 3057.0 *ask1Size* 66\n",
      "2017-03-27 09:04:45.500000 *last* 3056.0 *bid1* 3056.0 *bid1Size* 179 *ask1* 3057.0 *ask1Size* 27\n",
      "2017-03-27 09:04:46 *last* 3056.0 *bid1* 3056.0 *bid1Size* 176 *ask1* 3057.0 *ask1Size* 60\n",
      "2017-03-27 09:04:46.500000 *last* 3057.0 *bid1* 3056.0 *bid1Size* 173 *ask1* 3057.0 *ask1Size* 48\n",
      "2017-03-27 09:04:47 *last* 3056.0 *bid1* 3056.0 *bid1Size* 190 *ask1* 3057.0 *ask1Size* 67\n",
      "2017-03-27 09:04:47.500000 *last* 3057.0 *bid1* 3056.0 *bid1Size* 187 *ask1* 3057.0 *ask1Size* 85\n",
      "2017-03-27 09:04:48 *last* 3057.0 *bid1* 3056.0 *bid1Size* 179 *ask1* 3057.0 *ask1Size* 75\n",
      "2017-03-27 09:04:48.500000 *last* 3057.0 *bid1* 3057.0 *bid1Size* 1 *ask1* 3058.0 *ask1Size* 53\n",
      "2017-03-27 09:04:49 *last* 3057.0 *bid1* 3056.0 *bid1Size* 101 *ask1* 3057.0 *ask1Size* 37\n",
      "2017-03-27 09:04:49.500000 *last* 3057.0 *bid1* 3057.0 *bid1Size* 8 *ask1* 3058.0 *ask1Size* 132\n",
      "2017-03-27 09:04:50 *last* 3057.0 *bid1* 3057.0 *bid1Size* 9 *ask1* 3058.0 *ask1Size* 142\n",
      "2017-03-27 09:04:50.500000 *last* 3056.0 *bid1* 3056.0 *bid1Size* 108 *ask1* 3057.0 *ask1Size* 43\n",
      "2017-03-27 09:04:51 *last* 3056.0 *bid1* 3056.0 *bid1Size* 55 *ask1* 3057.0 *ask1Size* 117\n",
      "2017-03-27 09:04:51.500000 *last* 3056.0 *bid1* 3056.0 *bid1Size* 30 *ask1* 3057.0 *ask1Size* 174\n",
      "2017-03-27 09:04:52 *last* 3057.0 *bid1* 3056.0 *bid1Size* 10 *ask1* 3057.0 *ask1Size* 170\n",
      "2017-03-27 09:04:52.500000 *last* 3056.0 *bid1* 3055.0 *bid1Size* 261 *ask1* 3056.0 *ask1Size* 55\n",
      "2017-03-27 09:04:53 *last* 3056.0 *bid1* 3056.0 *bid1Size* 77 *ask1* 3057.0 *ask1Size* 212\n",
      "2017-03-27 09:04:53.500000 *last* 3056.0 *bid1* 3056.0 *bid1Size* 46 *ask1* 3057.0 *ask1Size* 123\n",
      "2017-03-27 09:04:54 *last* 3057.0 *bid1* 3056.0 *bid1Size* 168 *ask1* 3057.0 *ask1Size* 226\n",
      "2017-03-27 09:04:54.500000 *last* 3056.0 *bid1* 3056.0 *bid1Size* 133 *ask1* 3057.0 *ask1Size* 217\n",
      "2017-03-27 09:04:55 *last* 3057.0 *bid1* 3056.0 *bid1Size* 63 *ask1* 3057.0 *ask1Size* 218\n",
      "2017-03-27 09:04:55.500000 *last* 3057.0 *bid1* 3057.0 *bid1Size* 67 *ask1* 3058.0 *ask1Size* 15\n",
      "2017-03-27 09:04:56 *last* 3058.0 *bid1* 3057.0 *bid1Size* 53 *ask1* 3058.0 *ask1Size* 9\n",
      "2017-03-27 09:04:56.500000 *last* 3057.0 *bid1* 3056.0 *bid1Size* 351 *ask1* 3057.0 *ask1Size* 5\n",
      "2017-03-27 09:04:57 *last* 3058.0 *bid1* 3057.0 *bid1Size* 43 *ask1* 3058.0 *ask1Size* 5\n",
      "2017-03-27 09:04:57.500000 *last* 3056.0 *bid1* 3056.0 *bid1Size* 383 *ask1* 3057.0 *ask1Size* 14\n",
      "2017-03-27 09:04:58 *last* 3056.0 *bid1* 3056.0 *bid1Size* 227 *ask1* 3057.0 *ask1Size* 13\n",
      "2017-03-27 09:04:58.500000 *last* 3057.0 *bid1* 3057.0 *bid1Size* 5 *ask1* 3058.0 *ask1Size* 31\n",
      "2017-03-27 09:04:59 *last* 3059.0 *bid1* 3058.0 *bid1Size* 138 *ask1* 3059.0 *ask1Size* 6\n",
      "2017-03-27 09:04:59.500000 *last* 3058.0 *bid1* 3058.0 *bid1Size* 64 *ask1* 3060.0 *ask1Size* 623\n",
      "2017-03-27 09:05:00 *last* 3058.0 *bid1* 3058.0 *bid1Size* 82 *ask1* 3059.0 *ask1Size* 280\n",
      "2017-03-27 09:05:00.500000 *last* 3058.0 *bid1* 3056.0 *bid1Size* 35 *ask1* 3059.0 *ask1Size* 6\n",
      "2017-03-27 09:05:01 *last* 3058.0 *bid1* 3057.0 *bid1Size* 19 *ask1* 3058.0 *ask1Size* 153\n",
      "2017-03-27 09:05:01.500000 *last* 3058.0 *bid1* 3057.0 *bid1Size* 43 *ask1* 3058.0 *ask1Size* 183\n",
      "2017-03-27 09:05:02 *last* 3058.0 *bid1* 3057.0 *bid1Size* 17 *ask1* 3058.0 *ask1Size* 308\n",
      "2017-03-27 09:05:02.500000 *last* 3056.0 *bid1* 3055.0 *bid1Size* 195 *ask1* 3057.0 *ask1Size* 72\n",
      "2017-03-27 09:05:03 *last* 3056.0 *bid1* 3056.0 *bid1Size* 35 *ask1* 3057.0 *ask1Size* 124\n",
      "2017-03-27 09:05:03.500000 *last* 3058.0 *bid1* 3057.0 *bid1Size* 405 *ask1* 3058.0 *ask1Size* 129\n",
      "2017-03-27 09:05:04 *last* 3058.0 *bid1* 3057.0 *bid1Size* 408 *ask1* 3058.0 *ask1Size* 120\n",
      "2017-03-27 09:05:04.500000 *last* 3057.0 *bid1* 3057.0 *bid1Size* 381 *ask1* 3058.0 *ask1Size* 303\n",
      "2017-03-27 09:05:05 *last* 3057.0 *bid1* 3057.0 *bid1Size* 338 *ask1* 3058.0 *ask1Size* 318\n",
      "2017-03-27 09:05:05.500000 *last* 3058.0 *bid1* 3057.0 *bid1Size* 316 *ask1* 3058.0 *ask1Size* 349\n",
      "2017-03-27 09:05:06 *last* 3057.0 *bid1* 3057.0 *bid1Size* 324 *ask1* 3058.0 *ask1Size* 337\n",
      "2017-03-27 09:05:06.500000 *last* 3058.0 *bid1* 3056.0 *bid1Size* 57 *ask1* 3057.0 *ask1Size* 1\n",
      "2017-03-27 09:05:07 *last* 3057.0 *bid1* 3056.0 *bid1Size* 49 *ask1* 3057.0 *ask1Size* 57\n",
      "2017-03-27 09:05:07.500000 *last* 3057.0 *bid1* 3056.0 *bid1Size* 48 *ask1* 3057.0 *ask1Size* 152\n",
      "2017-03-27 09:05:08 *last* 3057.0 *bid1* 3056.0 *bid1Size* 1 *ask1* 3057.0 *ask1Size* 173\n",
      "2017-03-27 09:05:08.500000 *last* 3056.0 *bid1* 3055.0 *bid1Size* 214 *ask1* 3056.0 *ask1Size* 109\n",
      "2017-03-27 09:05:09 *last* 3056.0 *bid1* 3055.0 *bid1Size* 210 *ask1* 3056.0 *ask1Size* 85\n",
      "2017-03-27 09:05:09.500000 *last* 3056.0 *bid1* 3055.0 *bid1Size* 26 *ask1* 3057.0 *ask1Size* 245\n",
      "2017-03-27 09:05:10 *last* 3054.0 *bid1* 3054.0 *bid1Size* 147 *ask1* 3055.0 *ask1Size* 469\n",
      "2017-03-27 09:05:10.500000 *last* 3055.0 *bid1* 3054.0 *bid1Size* 117 *ask1* 3055.0 *ask1Size* 107\n",
      "2017-03-27 09:05:11 *last* 3054.0 *bid1* 3054.0 *bid1Size* 96 *ask1* 3055.0 *ask1Size* 1\n",
      "2017-03-27 09:05:11.500000 *last* 3055.0 *bid1* 3055.0 *bid1Size* 32 *ask1* 3057.0 *ask1Size* 152\n",
      "2017-03-27 09:05:12 *last* 3055.0 *bid1* 3054.0 *bid1Size* 178 *ask1* 3055.0 *ask1Size* 29\n",
      "2017-03-27 09:05:12.500000 *last* 3054.0 *bid1* 3054.0 *bid1Size* 100 *ask1* 3055.0 *ask1Size* 114\n",
      "2017-03-27 09:05:13 *last* 3055.0 *bid1* 3054.0 *bid1Size* 70 *ask1* 3055.0 *ask1Size* 56\n",
      "2017-03-27 09:05:13.500000 *last* 3055.0 *bid1* 3055.0 *bid1Size* 123 *ask1* 3056.0 *ask1Size* 352\n",
      "2017-03-27 09:05:14 *last* 3055.0 *bid1* 3055.0 *bid1Size* 43 *ask1* 3056.0 *ask1Size* 324\n",
      "2017-03-27 09:05:14.500000 *last* 3055.0 *bid1* 3055.0 *bid1Size* 22 *ask1* 3056.0 *ask1Size* 86\n",
      "2017-03-27 09:05:15 *last* 3055.0 *bid1* 3055.0 *bid1Size* 46 *ask1* 3056.0 *ask1Size* 70\n",
      "2017-03-27 09:05:15.500000 *last* 3057.0 *bid1* 3056.0 *bid1Size* 110 *ask1* 3059.0 *ask1Size* 204\n",
      "2017-03-27 09:05:16 *last* 3056.0 *bid1* 3056.0 *bid1Size* 224 *ask1* 3058.0 *ask1Size* 5\n",
      "2017-03-27 09:05:16.500000 *last* 3057.0 *bid1* 3058.0 *bid1Size* 90 *ask1* 3059.0 *ask1Size* 263\n",
      "2017-03-27 09:05:17 *last* 3058.0 *bid1* 3058.0 *bid1Size* 141 *ask1* 3059.0 *ask1Size* 185\n",
      "2017-03-27 09:05:17.500000 *last* 3059.0 *bid1* 3058.0 *bid1Size* 114 *ask1* 3059.0 *ask1Size* 154\n",
      "2017-03-27 09:05:18 *last* 3058.0 *bid1* 3058.0 *bid1Size* 76 *ask1* 3059.0 *ask1Size* 15\n",
      "2017-03-27 09:05:18.500000 *last* 3058.0 *bid1* 3058.0 *bid1Size* 54 *ask1* 3059.0 *ask1Size* 8\n",
      "2017-03-27 09:05:19 *last* 3060.0 *bid1* 3058.0 *bid1Size* 68 *ask1* 3060.0 *ask1Size* 566\n",
      "2017-03-27 09:05:19.500000 *last* 3059.0 *bid1* 3059.0 *bid1Size* 102 *ask1* 3060.0 *ask1Size* 586\n",
      "2017-03-27 09:05:20 *last* 3060.0 *bid1* 3059.0 *bid1Size* 99 *ask1* 3060.0 *ask1Size* 477\n",
      "2017-03-27 09:05:20.500000 *last* 3060.0 *bid1* 3059.0 *bid1Size* 95 *ask1* 3060.0 *ask1Size* 334\n",
      "2017-03-27 09:05:21 *last* 3059.0 *bid1* 3059.0 *bid1Size* 106 *ask1* 3060.0 *ask1Size* 266\n",
      "2017-03-27 09:05:21.500000 *last* 3060.0 *bid1* 3059.0 *bid1Size* 105 *ask1* 3060.0 *ask1Size* 8\n",
      "2017-03-27 09:05:22 *last* 3059.0 *bid1* 3060.0 *bid1Size* 110 *ask1* 3061.0 *ask1Size* 428\n",
      "2017-03-27 09:05:22.500000 *last* 3060.0 *bid1* 3060.0 *bid1Size* 159 *ask1* 3061.0 *ask1Size* 416\n",
      "2017-03-27 09:05:23 *last* 3061.0 *bid1* 3060.0 *bid1Size* 110 *ask1* 3061.0 *ask1Size* 251\n",
      "2017-03-27 09:05:23.500000 *last* 3061.0 *bid1* 3060.0 *bid1Size* 29 *ask1* 3061.0 *ask1Size* 244\n",
      "2017-03-27 09:05:24 *last* 3059.0 *bid1* 3059.0 *bid1Size* 229 *ask1* 3060.0 *ask1Size* 55\n",
      "2017-03-27 09:05:24.500000 *last* 3060.0 *bid1* 3059.0 *bid1Size* 218 *ask1* 3060.0 *ask1Size* 5\n",
      "2017-03-27 09:05:25 *last* 3060.0 *bid1* 3059.0 *bid1Size* 221 *ask1* 3060.0 *ask1Size* 14\n",
      "2017-03-27 09:05:25.500000 *last* 3060.0 *bid1* 3059.0 *bid1Size* 176 *ask1* 3060.0 *ask1Size* 149\n",
      "2017-03-27 09:05:26 *last* 3060.0 *bid1* 3059.0 *bid1Size* 173 *ask1* 3060.0 *ask1Size* 252\n",
      "2017-03-27 09:05:26.500000 *last* 3060.0 *bid1* 3059.0 *bid1Size* 55 *ask1* 3060.0 *ask1Size* 242\n",
      "2017-03-27 09:05:27 *last* 3058.0 *bid1* 3058.0 *bid1Size* 79 *ask1* 3059.0 *ask1Size* 78\n",
      "2017-03-27 09:05:27.500000 *last* 3060.0 *bid1* 3058.0 *bid1Size* 80 *ask1* 3059.0 *ask1Size* 8\n",
      "2017-03-27 09:05:28 *last* 3059.0 *bid1* 3058.0 *bid1Size* 35 *ask1* 3059.0 *ask1Size* 97\n",
      "2017-03-27 09:05:28.500000 *last* 3058.0 *bid1* 3057.0 *bid1Size* 22 *ask1* 3058.0 *ask1Size* 9\n",
      "2017-03-27 09:05:29 *last* 3059.0 *bid1* 3058.0 *bid1Size* 1 *ask1* 3059.0 *ask1Size* 140\n",
      "2017-03-27 09:05:29.500000 *last* 3059.0 *bid1* 3058.0 *bid1Size* 5 *ask1* 3059.0 *ask1Size* 171\n",
      "2017-03-27 09:05:30 *last* 3058.0 *bid1* 3057.0 *bid1Size* 18 *ask1* 3058.0 *ask1Size* 2\n",
      "2017-03-27 09:05:30.500000 *last* 3057.0 *bid1* 3056.0 *bid1Size* 80 *ask1* 3057.0 *ask1Size* 42\n",
      "2017-03-27 09:05:31 *last* 3057.0 *bid1* 3057.0 *bid1Size* 109 *ask1* 3058.0 *ask1Size* 89\n",
      "2017-03-27 09:05:31.500000 *last* 3057.0 *bid1* 3057.0 *bid1Size* 131 *ask1* 3058.0 *ask1Size* 144\n",
      "2017-03-27 09:05:32 *last* 3057.0 *bid1* 3057.0 *bid1Size* 90 *ask1* 3058.0 *ask1Size* 143\n",
      "2017-03-27 09:05:32.500000 *last* 3058.0 *bid1* 3057.0 *bid1Size* 92 *ask1* 3058.0 *ask1Size* 154\n",
      "2017-03-27 09:05:33 *last* 3057.0 *bid1* 3056.0 *bid1Size* 84 *ask1* 3057.0 *ask1Size* 189\n",
      "2017-03-27 09:05:33.500000 *last* 3057.0 *bid1* 3056.0 *bid1Size* 120 *ask1* 3057.0 *ask1Size* 174\n",
      "2017-03-27 09:05:34 *last* 3056.0 *bid1* 3056.0 *bid1Size* 136 *ask1* 3057.0 *ask1Size* 149\n",
      "2017-03-27 09:05:34.500000 *last* 3057.0 *bid1* 3056.0 *bid1Size* 132 *ask1* 3057.0 *ask1Size* 75\n",
      "2017-03-27 09:05:35 *last* 3057.0 *bid1* 3056.0 *bid1Size* 157 *ask1* 3057.0 *ask1Size* 49\n",
      "2017-03-27 09:05:35.500000 *last* 3057.0 *bid1* 3056.0 *bid1Size* 47 *ask1* 3057.0 *ask1Size* 4\n",
      "2017-03-27 09:05:36 *last* 3057.0 *bid1* 3057.0 *bid1Size* 34 *ask1* 3058.0 *ask1Size* 42\n",
      "2017-03-27 09:05:36.500000 *last* 3057.0 *bid1* 3057.0 *bid1Size* 2 *ask1* 3058.0 *ask1Size* 120\n",
      "2017-03-27 09:05:37 *last* 3057.0 *bid1* 3056.0 *bid1Size* 82 *ask1* 3057.0 *ask1Size* 90\n",
      "2017-03-27 09:05:37.500000 *last* 3058.0 *bid1* 3056.0 *bid1Size* 81 *ask1* 3058.0 *ask1Size* 126\n",
      "2017-03-27 09:05:38 *last* 3056.0 *bid1* 3056.0 *bid1Size* 88 *ask1* 3057.0 *ask1Size* 34\n",
      "2017-03-27 09:05:38.500000 *last* 3057.0 *bid1* 3056.0 *bid1Size* 70 *ask1* 3057.0 *ask1Size* 21\n",
      "2017-03-27 09:05:39 *last* 3057.0 *bid1* 3056.0 *bid1Size* 94 *ask1* 3057.0 *ask1Size* 59\n",
      "2017-03-27 09:05:39.500000 *last* 3056.0 *bid1* 3056.0 *bid1Size* 52 *ask1* 3058.0 *ask1Size* 203\n",
      "2017-03-27 09:05:40 *last* 3056.0 *bid1* 3056.0 *bid1Size* 4 *ask1* 3057.0 *ask1Size* 27\n",
      "2017-03-27 09:05:40.500000 *last* 3057.0 *bid1* 3056.0 *bid1Size* 12 *ask1* 3057.0 *ask1Size* 19\n",
      "2017-03-27 09:05:41 *last* 3056.0 *bid1* 3056.0 *bid1Size* 123 *ask1* 3057.0 *ask1Size* 22\n",
      "2017-03-27 09:05:41.500000 *last* 3056.0 *bid1* 3056.0 *bid1Size* 125 *ask1* 3057.0 *ask1Size* 41\n",
      "2017-03-27 09:05:42 *last* 3057.0 *bid1* 3057.0 *bid1Size* 23 *ask1* 3058.0 *ask1Size* 235\n",
      "2017-03-27 09:05:42.500000 *last* 3057.0 *bid1* 3057.0 *bid1Size* 16 *ask1* 3058.0 *ask1Size* 194\n",
      "2017-03-27 09:05:43 *last* 3058.0 *bid1* 3057.0 *bid1Size* 41 *ask1* 3058.0 *ask1Size* 192\n",
      "2017-03-27 09:05:43.500000 *last* 3058.0 *bid1* 3057.0 *bid1Size* 40 *ask1* 3058.0 *ask1Size* 163\n",
      "2017-03-27 09:05:44 *last* 3057.0 *bid1* 3057.0 *bid1Size* 128 *ask1* 3058.0 *ask1Size* 152\n",
      "2017-03-27 09:05:44.500000 *last* 3058.0 *bid1* 3057.0 *bid1Size* 119 *ask1* 3058.0 *ask1Size* 66\n",
      "2017-03-27 09:05:45 *last* 3058.0 *bid1* 3057.0 *bid1Size* 167 *ask1* 3058.0 *ask1Size* 33\n",
      "2017-03-27 09:05:45.500000 *last* 3058.0 *bid1* 3058.0 *bid1Size* 265 *ask1* 3059.0 *ask1Size* 146\n",
      "2017-03-27 09:05:46 *last* 3058.0 *bid1* 3058.0 *bid1Size* 254 *ask1* 3059.0 *ask1Size* 92\n",
      "2017-03-27 09:05:46.500000 *last* 3059.0 *bid1* 3059.0 *bid1Size* 9 *ask1* 3060.0 *ask1Size* 673\n",
      "2017-03-27 09:05:47 *last* 3059.0 *bid1* 3059.0 *bid1Size* 6 *ask1* 3060.0 *ask1Size* 673\n",
      "2017-03-27 09:05:47.500000 *last* 3059.0 *bid1* 3058.0 *bid1Size* 238 *ask1* 3060.0 *ask1Size* 672\n",
      "2017-03-27 09:05:48 *last* 3058.0 *bid1* 3058.0 *bid1Size* 291 *ask1* 3059.0 *ask1Size* 15\n",
      "2017-03-27 09:05:48.500000 *last* 3059.0 *bid1* 3059.0 *bid1Size* 13 *ask1* 3060.0 *ask1Size* 675\n",
      "2017-03-27 09:05:49 *last* 3060.0 *bid1* 3059.0 *bid1Size* 9 *ask1* 3060.0 *ask1Size* 702\n",
      "2017-03-27 09:05:49.500000 *last* 3059.0 *bid1* 3059.0 *bid1Size* 97 *ask1* 3060.0 *ask1Size* 689\n",
      "2017-03-27 09:05:50 *last* 3059.0 *bid1* 3059.0 *bid1Size* 92 *ask1* 3060.0 *ask1Size* 114\n",
      "2017-03-27 09:05:50.500000 *last* 3060.0 *bid1* 3060.0 *bid1Size* 16 *ask1* 3061.0 *ask1Size* 402\n",
      "2017-03-27 09:05:51 *last* 3061.0 *bid1* 3060.0 *bid1Size* 51 *ask1* 3061.0 *ask1Size* 391\n",
      "2017-03-27 09:05:51.500000 *last* 3060.0 *bid1* 3060.0 *bid1Size* 46 *ask1* 3061.0 *ask1Size* 363\n",
      "2017-03-27 09:05:52 *last* 3060.0 *bid1* 3060.0 *bid1Size* 77 *ask1* 3061.0 *ask1Size* 259\n",
      "2017-03-27 09:05:52.500000 *last* 3060.0 *bid1* 3060.0 *bid1Size* 62 *ask1* 3061.0 *ask1Size* 159\n",
      "2017-03-27 09:05:53 *last* 3061.0 *bid1* 3060.0 *bid1Size* 31 *ask1* 3061.0 *ask1Size* 120\n",
      "2017-03-27 09:05:53.500000 *last* 3060.0 *bid1* 3060.0 *bid1Size* 19 *ask1* 3061.0 *ask1Size* 80\n",
      "2017-03-27 09:05:54 *last* 3060.0 *bid1* 3060.0 *bid1Size* 9 *ask1* 3061.0 *ask1Size* 103\n",
      "2017-03-27 09:05:54.500000 *last* 3061.0 *bid1* 3060.0 *bid1Size* 47 *ask1* 3061.0 *ask1Size* 45\n",
      "2017-03-27 09:05:55 *last* 3060.0 *bid1* 3060.0 *bid1Size* 4 *ask1* 3061.0 *ask1Size* 18\n",
      "2017-03-27 09:05:55.500000 *last* 3060.0 *bid1* 3059.0 *bid1Size* 34 *ask1* 3060.0 *ask1Size* 42\n",
      "2017-03-27 09:05:56 *last* 3061.0 *bid1* 3060.0 *bid1Size* 31 *ask1* 3061.0 *ask1Size* 2\n",
      "2017-03-27 09:05:56.500000 *last* 3061.0 *bid1* 3060.0 *bid1Size* 37 *ask1* 3061.0 *ask1Size* 22\n",
      "2017-03-27 09:05:57 *last* 3061.0 *bid1* 3060.0 *bid1Size* 51 *ask1* 3061.0 *ask1Size* 23\n",
      "2017-03-27 09:05:57.500000 *last* 3061.0 *bid1* 3061.0 *bid1Size* 64 *ask1* 3062.0 *ask1Size* 675\n",
      "2017-03-27 09:05:58 *last* 3061.0 *bid1* 3060.0 *bid1Size* 21 *ask1* 3061.0 *ask1Size* 14\n",
      "2017-03-27 09:05:58.500000 *last* 3060.0 *bid1* 3059.0 *bid1Size* 37 *ask1* 3060.0 *ask1Size* 4\n",
      "2017-03-27 09:05:59 *last* 3060.0 *bid1* 3060.0 *bid1Size* 49 *ask1* 3062.0 *ask1Size* 667\n",
      "2017-03-27 09:05:59.500000 *last* 3060.0 *bid1* 3060.0 *bid1Size* 36 *ask1* 3061.0 *ask1Size* 2\n",
      "2017-03-27 09:06:00 *last* 3061.0 *bid1* 3060.0 *bid1Size* 8 *ask1* 3061.0 *ask1Size* 24\n",
      "2017-03-27 09:06:00.500000 *last* 3060.0 *bid1* 3058.0 *bid1Size* 162 *ask1* 3060.0 *ask1Size* 34\n",
      "2017-03-27 09:06:01 *last* 3060.0 *bid1* 3058.0 *bid1Size* 36 *ask1* 3060.0 *ask1Size* 41\n",
      "2017-03-27 09:06:01.500000 *last* 3060.0 *bid1* 3059.0 *bid1Size* 6 *ask1* 3060.0 *ask1Size* 253\n",
      "2017-03-27 09:06:02 *last* 3060.0 *bid1* 3059.0 *bid1Size* 7 *ask1* 3060.0 *ask1Size* 269\n",
      "2017-03-27 09:06:02.500000 *last* 3060.0 *bid1* 3059.0 *bid1Size* 15 *ask1* 3060.0 *ask1Size* 262\n",
      "2017-03-27 09:06:03 *last* 3059.0 *bid1* 3059.0 *bid1Size* 2 *ask1* 3060.0 *ask1Size* 261\n",
      "2017-03-27 09:06:03.500000 *last* 3060.0 *bid1* 3060.0 *bid1Size* 220 *ask1* 3061.0 *ask1Size* 805\n",
      "2017-03-27 09:06:04 *last* 3060.0 *bid1* 3060.0 *bid1Size* 143 *ask1* 3061.0 *ask1Size* 789\n",
      "2017-03-27 09:06:04.500000 *last* 3060.0 *bid1* 3059.0 *bid1Size* 35 *ask1* 3060.0 *ask1Size* 29\n",
      "2017-03-27 09:06:05 *last* 3059.0 *bid1* 3059.0 *bid1Size* 37 *ask1* 3060.0 *ask1Size* 5\n",
      "2017-03-27 09:06:05.500000 *last* 3060.0 *bid1* 3059.0 *bid1Size* 3 *ask1* 3060.0 *ask1Size* 21\n",
      "2017-03-27 09:06:06 *last* 3060.0 *bid1* 3058.0 *bid1Size* 93 *ask1* 3059.0 *ask1Size* 9\n",
      "2017-03-27 09:06:06.500000 *last* 3060.0 *bid1* 3059.0 *bid1Size* 3 *ask1* 3060.0 *ask1Size* 260\n",
      "2017-03-27 09:06:07 *last* 3058.0 *bid1* 3058.0 *bid1Size* 101 *ask1* 3059.0 *ask1Size* 52\n",
      "2017-03-27 09:06:07.500000 *last* 3059.0 *bid1* 3058.0 *bid1Size* 100 *ask1* 3059.0 *ask1Size* 53\n",
      "2017-03-27 09:06:08 *last* 3059.0 *bid1* 3058.0 *bid1Size* 65 *ask1* 3059.0 *ask1Size* 148\n",
      "2017-03-27 09:06:08.500000 *last* 3058.0 *bid1* 3057.0 *bid1Size* 22 *ask1* 3058.0 *ask1Size* 196\n",
      "2017-03-27 09:06:09 *last* 3057.0 *bid1* 3056.0 *bid1Size* 138 *ask1* 3057.0 *ask1Size* 76\n",
      "2017-03-27 09:06:09.500000 *last* 3056.0 *bid1* 3056.0 *bid1Size* 182 *ask1* 3057.0 *ask1Size* 89\n",
      "2017-03-27 09:06:10 *last* 3057.0 *bid1* 3056.0 *bid1Size* 180 *ask1* 3057.0 *ask1Size* 78\n",
      "2017-03-27 09:06:10.500000 *last* 3056.0 *bid1* 3056.0 *bid1Size* 137 *ask1* 3057.0 *ask1Size* 96\n",
      "2017-03-27 09:06:11 *last* 3056.0 *bid1* 3055.0 *bid1Size* 217 *ask1* 3056.0 *ask1Size* 257\n",
      "2017-03-27 09:06:11.500000 *last* 3056.0 *bid1* 3055.0 *bid1Size* 11 *ask1* 3056.0 *ask1Size* 220\n",
      "2017-03-27 09:06:12 *last* 3055.0 *bid1* 3054.0 *bid1Size* 59 *ask1* 3055.0 *ask1Size* 179\n",
      "2017-03-27 09:06:12.500000 *last* 3053.0 *bid1* 3053.0 *bid1Size* 108 *ask1* 3054.0 *ask1Size* 1\n",
      "2017-03-27 09:06:13 *last* 3053.0 *bid1* 3052.0 *bid1Size* 23 *ask1* 3053.0 *ask1Size* 4\n",
      "2017-03-27 09:06:13.500000 *last* 3053.0 *bid1* 3053.0 *bid1Size* 16 *ask1* 3054.0 *ask1Size* 89\n",
      "2017-03-27 09:06:14 *last* 3054.0 *bid1* 3052.0 *bid1Size* 1 *ask1* 3053.0 *ask1Size* 1\n",
      "2017-03-27 09:06:14.500000 *last* 3052.0 *bid1* 3052.0 *bid1Size* 66 *ask1* 3053.0 *ask1Size* 40\n",
      "2017-03-27 09:06:15 *last* 3052.0 *bid1* 3051.0 *bid1Size* 115 *ask1* 3052.0 *ask1Size* 13\n",
      "2017-03-27 09:06:15.500000 *last* 3053.0 *bid1* 3052.0 *bid1Size* 194 *ask1* 3053.0 *ask1Size* 72\n",
      "2017-03-27 09:06:16 *last* 3053.0 *bid1* 3053.0 *bid1Size* 67 *ask1* 3054.0 *ask1Size* 42\n",
      "2017-03-27 09:06:16.500000 *last* 3054.0 *bid1* 3054.0 *bid1Size* 36 *ask1* 3055.0 *ask1Size* 122\n",
      "2017-03-27 09:06:17 *last* 3054.0 *bid1* 3054.0 *bid1Size* 57 *ask1* 3055.0 *ask1Size* 136\n",
      "2017-03-27 09:06:17.500000 *last* 3055.0 *bid1* 3054.0 *bid1Size* 530 *ask1* 3055.0 *ask1Size* 155\n",
      "2017-03-27 09:06:18 *last* 3054.0 *bid1* 3055.0 *bid1Size* 1 *ask1* 3056.0 *ask1Size* 156\n",
      "2017-03-27 09:06:18.500000 *last* 3055.0 *bid1* 3054.0 *bid1Size* 1103 *ask1* 3056.0 *ask1Size* 137\n",
      "2017-03-27 09:06:19 *last* 3057.0 *bid1* 3056.0 *bid1Size* 244 *ask1* 3057.0 *ask1Size* 82\n",
      "2017-03-27 09:06:19.500000 *last* 3056.0 *bid1* 3056.0 *bid1Size* 211 *ask1* 3057.0 *ask1Size* 86\n",
      "2017-03-27 09:06:20 *last* 3057.0 *bid1* 3056.0 *bid1Size* 199 *ask1* 3057.0 *ask1Size* 73\n",
      "2017-03-27 09:06:20.500000 *last* 3057.0 *bid1* 3056.0 *bid1Size* 171 *ask1* 3057.0 *ask1Size* 91\n",
      "2017-03-27 09:06:21 *last* 3057.0 *bid1* 3057.0 *bid1Size* 139 *ask1* 3058.0 *ask1Size* 487\n",
      "2017-03-27 09:06:21.500000 *last* 3057.0 *bid1* 3056.0 *bid1Size* 163 *ask1* 3057.0 *ask1Size* 157\n",
      "2017-03-27 09:06:22 *last* 3057.0 *bid1* 3056.0 *bid1Size* 127 *ask1* 3057.0 *ask1Size* 108\n",
      "2017-03-27 09:06:22.500000 *last* 3056.0 *bid1* 3056.0 *bid1Size* 114 *ask1* 3057.0 *ask1Size* 109\n",
      "2017-03-27 09:06:23 *last* 3057.0 *bid1* 3056.0 *bid1Size* 179 *ask1* 3057.0 *ask1Size* 308\n",
      "2017-03-27 09:06:23.500000 *last* 3057.0 *bid1* 3056.0 *bid1Size* 107 *ask1* 3057.0 *ask1Size* 266\n",
      "2017-03-27 09:06:24 *last* 3056.0 *bid1* 3056.0 *bid1Size* 100 *ask1* 3057.0 *ask1Size* 258\n",
      "2017-03-27 09:06:24.500000 *last* 3056.0 *bid1* 3056.0 *bid1Size* 81 *ask1* 3057.0 *ask1Size* 255\n",
      "2017-03-27 09:06:25 *last* 3056.0 *bid1* 3056.0 *bid1Size* 76 *ask1* 3057.0 *ask1Size* 249\n",
      "2017-03-27 09:06:25.500000 *last* 3056.0 *bid1* 3056.0 *bid1Size* 27 *ask1* 3057.0 *ask1Size* 199\n",
      "2017-03-27 09:06:26 *last* 3056.0 *bid1* 3055.0 *bid1Size* 40 *ask1* 3056.0 *ask1Size* 38\n",
      "2017-03-27 09:06:26.500000 *last* 3055.0 *bid1* 3055.0 *bid1Size* 70 *ask1* 3056.0 *ask1Size* 126\n",
      "2017-03-27 09:06:27 *last* 3055.0 *bid1* 3054.0 *bid1Size* 1154 *ask1* 3055.0 *ask1Size* 225\n",
      "2017-03-27 09:06:27.500000 *last* 3054.0 *bid1* 3054.0 *bid1Size* 1149 *ask1* 3055.0 *ask1Size* 380\n",
      "2017-03-27 09:06:28 *last* 3055.0 *bid1* 3054.0 *bid1Size* 1149 *ask1* 3055.0 *ask1Size* 210\n",
      "2017-03-27 09:06:28.500000 *last* 3054.0 *bid1* 3054.0 *bid1Size* 1148 *ask1* 3055.0 *ask1Size* 114\n",
      "2017-03-27 09:06:29 *last* 3055.0 *bid1* 3054.0 *bid1Size* 1145 *ask1* 3055.0 *ask1Size* 97\n",
      "2017-03-27 09:06:29.500000 *last* 3055.0 *bid1* 3054.0 *bid1Size* 1140 *ask1* 3055.0 *ask1Size* 90\n",
      "2017-03-27 09:06:30 *last* 3055.0 *bid1* 3054.0 *bid1Size* 1134 *ask1* 3055.0 *ask1Size* 116\n",
      "2017-03-27 09:06:30.500000 *last* 3055.0 *bid1* 3054.0 *bid1Size* 928 *ask1* 3055.0 *ask1Size* 106\n",
      "2017-03-27 09:06:31 *last* 3054.0 *bid1* 3054.0 *bid1Size* 814 *ask1* 3055.0 *ask1Size* 127\n",
      "2017-03-27 09:06:31.500000 *last* 3054.0 *bid1* 3054.0 *bid1Size* 572 *ask1* 3055.0 *ask1Size* 120\n",
      "2017-03-27 09:06:32 *last* 3054.0 *bid1* 3054.0 *bid1Size* 525 *ask1* 3055.0 *ask1Size* 112\n",
      "2017-03-27 09:06:32.500000 *last* 3054.0 *bid1* 3054.0 *bid1Size* 447 *ask1* 3055.0 *ask1Size* 69\n",
      "2017-03-27 09:06:33 *last* 3055.0 *bid1* 3054.0 *bid1Size* 446 *ask1* 3055.0 *ask1Size* 105\n",
      "2017-03-27 09:06:33.500000 *last* 3055.0 *bid1* 3055.0 *bid1Size* 126 *ask1* 3056.0 *ask1Size* 176\n",
      "2017-03-27 09:06:34 *last* 3055.0 *bid1* 3055.0 *bid1Size* 36 *ask1* 3056.0 *ask1Size* 149\n",
      "2017-03-27 09:06:34.500000 *last* 3055.0 *bid1* 3055.0 *bid1Size* 69 *ask1* 3056.0 *ask1Size* 119\n",
      "2017-03-27 09:06:35 *last* 3056.0 *bid1* 3055.0 *bid1Size* 85 *ask1* 3056.0 *ask1Size* 116\n",
      "2017-03-27 09:06:35.500000 *last* 3054.0 *bid1* 3054.0 *bid1Size* 478 *ask1* 3055.0 *ask1Size* 185\n",
      "2017-03-27 09:06:36 *last* 3054.0 *bid1* 3054.0 *bid1Size* 501 *ask1* 3055.0 *ask1Size* 190\n",
      "2017-03-27 09:06:36.500000 *last* 3055.0 *bid1* 3054.0 *bid1Size* 501 *ask1* 3055.0 *ask1Size* 175\n",
      "2017-03-27 09:06:37 *last* 3054.0 *bid1* 3054.0 *bid1Size* 469 *ask1* 3056.0 *ask1Size* 95\n",
      "2017-03-27 09:06:37.500000 *last* 3055.0 *bid1* 3054.0 *bid1Size* 468 *ask1* 3055.0 *ask1Size* 48\n",
      "2017-03-27 09:06:38 *last* 3055.0 *bid1* 3054.0 *bid1Size* 222 *ask1* 3055.0 *ask1Size* 40\n",
      "2017-03-27 09:06:38.500000 *last* 3055.0 *bid1* 3054.0 *bid1Size* 198 *ask1* 3055.0 *ask1Size* 93\n",
      "2017-03-27 09:06:39 *last* 3055.0 *bid1* 3054.0 *bid1Size* 108 *ask1* 3055.0 *ask1Size* 106\n",
      "2017-03-27 09:06:39.500000 *last* 3055.0 *bid1* 3054.0 *bid1Size* 54 *ask1* 3055.0 *ask1Size* 104\n",
      "2017-03-27 09:06:40 *last* 3053.0 *bid1* 3053.0 *bid1Size* 307 *ask1* 3054.0 *ask1Size* 11\n",
      "2017-03-27 09:06:40.500000 *last* 3054.0 *bid1* 3053.0 *bid1Size* 296 *ask1* 3054.0 *ask1Size* 18\n",
      "2017-03-27 09:06:41 *last* 3054.0 *bid1* 3053.0 *bid1Size* 296 *ask1* 3054.0 *ask1Size* 10\n",
      "2017-03-27 09:06:41.500000 *last* 3055.0 *bid1* 3053.0 *bid1Size* 276 *ask1* 3055.0 *ask1Size* 59\n",
      "2017-03-27 09:06:42 *last* 3054.0 *bid1* 3053.0 *bid1Size* 227 *ask1* 3054.0 *ask1Size* 18\n",
      "2017-03-27 09:06:42.500000 *last* 3054.0 *bid1* 3054.0 *bid1Size* 37 *ask1* 3055.0 *ask1Size* 100\n",
      "2017-03-27 09:06:43 *last* 3054.0 *bid1* 3054.0 *bid1Size* 49 *ask1* 3055.0 *ask1Size* 97\n",
      "2017-03-27 09:06:43.500000 *last* 3054.0 *bid1* 3054.0 *bid1Size* 63 *ask1* 3055.0 *ask1Size* 29\n",
      "2017-03-27 09:06:44 *last* 3054.0 *bid1* 3054.0 *bid1Size* 80 *ask1* 3055.0 *ask1Size* 5\n",
      "2017-03-27 09:06:44.500000 *last* 3054.0 *bid1* 3054.0 *bid1Size* 57 *ask1* 3055.0 *ask1Size* 17\n",
      "2017-03-27 09:06:45 *last* 3054.0 *bid1* 3053.0 *bid1Size* 268 *ask1* 3055.0 *ask1Size* 4\n",
      "2017-03-27 09:06:45.500000 *last* 3053.0 *bid1* 3053.0 *bid1Size* 267 *ask1* 3054.0 *ask1Size* 326\n",
      "2017-03-27 09:06:46 *last* 3054.0 *bid1* 3053.0 *bid1Size* 267 *ask1* 3054.0 *ask1Size* 329\n",
      "2017-03-27 09:06:46.500000 *last* 3054.0 *bid1* 3053.0 *bid1Size* 254 *ask1* 3054.0 *ask1Size* 228\n",
      "2017-03-27 09:06:47 *last* 3053.0 *bid1* 3053.0 *bid1Size* 194 *ask1* 3054.0 *ask1Size* 300\n",
      "2017-03-27 09:06:47.500000 *last* 3054.0 *bid1* 3053.0 *bid1Size* 188 *ask1* 3054.0 *ask1Size* 55\n",
      "2017-03-27 09:06:48 *last* 3053.0 *bid1* 3053.0 *bid1Size* 179 *ask1* 3054.0 *ask1Size* 19\n",
      "2017-03-27 09:06:48.500000 *last* 3053.0 *bid1* 3053.0 *bid1Size* 87 *ask1* 3054.0 *ask1Size* 1\n",
      "2017-03-27 09:06:49 *last* 3054.0 *bid1* 3054.0 *bid1Size* 396 *ask1* 3055.0 *ask1Size* 57\n",
      "2017-03-27 09:06:49.500000 *last* 3054.0 *bid1* 3054.0 *bid1Size* 398 *ask1* 3055.0 *ask1Size* 75\n",
      "2017-03-27 09:06:50 *last* 3055.0 *bid1* 3054.0 *bid1Size* 379 *ask1* 3055.0 *ask1Size* 13\n",
      "2017-03-27 09:06:50.500000 *last* 3054.0 *bid1* 3054.0 *bid1Size* 374 *ask1* 3055.0 *ask1Size* 22\n",
      "2017-03-27 09:06:51 *last* 3055.0 *bid1* 3055.0 *bid1Size* 37 *ask1* 3056.0 *ask1Size* 194\n",
      "2017-03-27 09:06:51.500000 *last* 3054.0 *bid1* 3054.0 *bid1Size* 361 *ask1* 3055.0 *ask1Size* 9\n",
      "2017-03-27 09:06:52 *last* 3054.0 *bid1* 3054.0 *bid1Size* 364 *ask1* 3056.0 *ask1Size* 197\n",
      "2017-03-27 09:06:52.500000 *last* 3054.0 *bid1* 3054.0 *bid1Size* 349 *ask1* 3056.0 *ask1Size* 86\n",
      "2017-03-27 09:06:53 *last* 3055.0 *bid1* 3054.0 *bid1Size* 317 *ask1* 3056.0 *ask1Size* 105\n",
      "2017-03-27 09:06:53.500000 *last* 3055.0 *bid1* 3055.0 *bid1Size* 19 *ask1* 3056.0 *ask1Size* 159\n",
      "2017-03-27 09:06:54 *last* 3055.0 *bid1* 3054.0 *bid1Size* 341 *ask1* 3055.0 *ask1Size* 29\n",
      "2017-03-27 09:06:54.500000 *last* 3055.0 *bid1* 3055.0 *bid1Size* 54 *ask1* 3056.0 *ask1Size* 143\n",
      "2017-03-27 09:06:55 *last* 3054.0 *bid1* 3054.0 *bid1Size* 287 *ask1* 3055.0 *ask1Size* 2\n",
      "2017-03-27 09:06:55.500000 *last* 3055.0 *bid1* 3055.0 *bid1Size* 181 *ask1* 3056.0 *ask1Size* 130\n",
      "2017-03-27 09:06:56 *last* 3055.0 *bid1* 3055.0 *bid1Size* 164 *ask1* 3056.0 *ask1Size* 106\n",
      "2017-03-27 09:06:56.500000 *last* 3055.0 *bid1* 3055.0 *bid1Size* 148 *ask1* 3056.0 *ask1Size* 98\n",
      "2017-03-27 09:06:57 *last* 3056.0 *bid1* 3055.0 *bid1Size* 144 *ask1* 3056.0 *ask1Size* 96\n",
      "2017-03-27 09:06:57.500000 *last* 3055.0 *bid1* 3055.0 *bid1Size* 103 *ask1* 3057.0 *ask1Size* 93\n",
      "2017-03-27 09:06:58 *last* 3055.0 *bid1* 3055.0 *bid1Size* 131 *ask1* 3056.0 *ask1Size* 2\n",
      "2017-03-27 09:06:58.500000 *last* 3056.0 *bid1* 3055.0 *bid1Size* 87 *ask1* 3056.0 *ask1Size* 1\n",
      "2017-03-27 09:06:59 *last* 3057.0 *bid1* 3055.0 *bid1Size* 77 *ask1* 3056.0 *ask1Size* 50\n",
      "2017-03-27 09:06:59.500000 *last* 3056.0 *bid1* 3055.0 *bid1Size* 99 *ask1* 3056.0 *ask1Size* 69\n",
      "2017-03-27 09:07:00 *last* 3055.0 *bid1* 3055.0 *bid1Size* 73 *ask1* 3056.0 *ask1Size* 30\n",
      "2017-03-27 09:07:00.500000 *last* 3057.0 *bid1* 3055.0 *bid1Size* 66 *ask1* 3056.0 *ask1Size* 5\n",
      "2017-03-27 09:07:01 *last* 3056.0 *bid1* 3055.0 *bid1Size* 77 *ask1* 3056.0 *ask1Size* 128\n",
      "2017-03-27 09:07:01.500000 *last* 3055.0 *bid1* 3055.0 *bid1Size* 55 *ask1* 3056.0 *ask1Size* 126\n",
      "2017-03-27 09:07:02 *last* 3055.0 *bid1* 3054.0 *bid1Size* 256 *ask1* 3055.0 *ask1Size* 133\n",
      "2017-03-27 09:07:02.500000 *last* 3055.0 *bid1* 3055.0 *bid1Size* 65 *ask1* 3056.0 *ask1Size* 122\n",
      "2017-03-27 09:07:03 *last* 3055.0 *bid1* 3055.0 *bid1Size* 37 *ask1* 3056.0 *ask1Size* 141\n",
      "2017-03-27 09:07:03.500000 *last* 3055.0 *bid1* 3054.0 *bid1Size* 257 *ask1* 3055.0 *ask1Size* 244\n",
      "2017-03-27 09:07:04 *last* 3055.0 *bid1* 3054.0 *bid1Size* 254 *ask1* 3055.0 *ask1Size* 221\n",
      "2017-03-27 09:07:04.500000 *last* 3055.0 *bid1* 3054.0 *bid1Size* 76 *ask1* 3055.0 *ask1Size* 200\n",
      "2017-03-27 09:07:05 *last* 3054.0 *bid1* 3053.0 *bid1Size* 209 *ask1* 3054.0 *ask1Size* 184\n",
      "2017-03-27 09:07:05.500000 *last* 3054.0 *bid1* 3053.0 *bid1Size* 196 *ask1* 3054.0 *ask1Size* 217\n",
      "2017-03-27 09:07:06 *last* 3054.0 *bid1* 3053.0 *bid1Size* 110 *ask1* 3054.0 *ask1Size* 196\n",
      "2017-03-27 09:07:06.500000 *last* 3053.0 *bid1* 3053.0 *bid1Size* 73 *ask1* 3054.0 *ask1Size* 179\n",
      "2017-03-27 09:07:07 *last* 3054.0 *bid1* 3053.0 *bid1Size* 37 *ask1* 3054.0 *ask1Size* 155\n",
      "2017-03-27 09:07:07.500000 *last* 3053.0 *bid1* 3052.0 *bid1Size* 462 *ask1* 3053.0 *ask1Size* 127\n",
      "2017-03-27 09:07:08 *last* 3053.0 *bid1* 3052.0 *bid1Size* 465 *ask1* 3053.0 *ask1Size* 305\n",
      "2017-03-27 09:07:08.500000 *last* 3052.0 *bid1* 3052.0 *bid1Size* 457 *ask1* 3053.0 *ask1Size* 274\n",
      "2017-03-27 09:07:09 *last* 3054.0 *bid1* 3053.0 *bid1Size* 50 *ask1* 3054.0 *ask1Size* 127\n",
      "2017-03-27 09:07:09.500000 *last* 3053.0 *bid1* 3053.0 *bid1Size* 128 *ask1* 3054.0 *ask1Size* 122\n",
      "2017-03-27 09:07:10 *last* 3054.0 *bid1* 3053.0 *bid1Size* 142 *ask1* 3054.0 *ask1Size* 30\n",
      "2017-03-27 09:07:10.500000 *last* 3054.0 *bid1* 3054.0 *bid1Size* 54 *ask1* 3055.0 *ask1Size* 220\n",
      "2017-03-27 09:07:11 *last* 3054.0 *bid1* 3054.0 *bid1Size* 439 *ask1* 3055.0 *ask1Size* 143\n",
      "2017-03-27 09:07:11.500000 *last* 3055.0 *bid1* 3055.0 *bid1Size* 345 *ask1* 3056.0 *ask1Size* 293\n",
      "2017-03-27 09:07:12 *last* 3055.0 *bid1* 3055.0 *bid1Size* 431 *ask1* 3056.0 *ask1Size* 215\n",
      "2017-03-27 09:07:12.500000 *last* 3056.0 *bid1* 3055.0 *bid1Size* 230 *ask1* 3056.0 *ask1Size* 64\n",
      "2017-03-27 09:07:13 *last* 3056.0 *bid1* 3056.0 *bid1Size* 45 *ask1* 3057.0 *ask1Size* 95\n",
      "2017-03-27 09:07:13.500000 *last* 3057.0 *bid1* 3056.0 *bid1Size* 71 *ask1* 3057.0 *ask1Size* 74\n",
      "2017-03-27 09:07:14 *last* 3056.0 *bid1* 3056.0 *bid1Size* 89 *ask1* 3057.0 *ask1Size* 73\n",
      "2017-03-27 09:07:14.500000 *last* 3057.0 *bid1* 3057.0 *bid1Size* 77 *ask1* 3058.0 *ask1Size* 431\n",
      "2017-03-27 09:07:15 *last* 3057.0 *bid1* 3057.0 *bid1Size* 51 *ask1* 3058.0 *ask1Size* 436\n",
      "2017-03-27 09:07:15.500000 *last* 3057.0 *bid1* 3057.0 *bid1Size* 250 *ask1* 3058.0 *ask1Size* 427\n",
      "2017-03-27 09:07:16 *last* 3057.0 *bid1* 3057.0 *bid1Size* 240 *ask1* 3058.0 *ask1Size* 427\n",
      "2017-03-27 09:07:16.500000 *last* 3058.0 *bid1* 3057.0 *bid1Size* 226 *ask1* 3058.0 *ask1Size* 413\n",
      "2017-03-27 09:07:17 *last* 3057.0 *bid1* 3057.0 *bid1Size* 145 *ask1* 3058.0 *ask1Size* 407\n",
      "2017-03-27 09:07:17.500000 *last* 3057.0 *bid1* 3057.0 *bid1Size* 154 *ask1* 3058.0 *ask1Size* 418\n",
      "2017-03-27 09:07:18 *last* 3058.0 *bid1* 3057.0 *bid1Size* 162 *ask1* 3058.0 *ask1Size* 416\n",
      "2017-03-27 09:07:18.500000 *last* 3057.0 *bid1* 3057.0 *bid1Size* 164 *ask1* 3058.0 *ask1Size* 403\n",
      "2017-03-27 09:07:19 *last* 3058.0 *bid1* 3057.0 *bid1Size* 92 *ask1* 3058.0 *ask1Size* 338\n",
      "2017-03-27 09:07:19.500000 *last* 3057.0 *bid1* 3057.0 *bid1Size* 66 *ask1* 3058.0 *ask1Size* 329\n",
      "2017-03-27 09:07:20 *last* 3058.0 *bid1* 3057.0 *bid1Size* 11 *ask1* 3058.0 *ask1Size* 301\n",
      "2017-03-27 09:07:20.500000 *last* 3058.0 *bid1* 3057.0 *bid1Size* 17 *ask1* 3058.0 *ask1Size* 295\n",
      "2017-03-27 09:07:21 *last* 3058.0 *bid1* 3057.0 *bid1Size* 63 *ask1* 3058.0 *ask1Size* 261\n",
      "2017-03-27 09:07:21.500000 *last* 3058.0 *bid1* 3057.0 *bid1Size* 117 *ask1* 3058.0 *ask1Size* 250\n",
      "2017-03-27 09:07:22 *last* 3057.0 *bid1* 3057.0 *bid1Size* 135 *ask1* 3058.0 *ask1Size* 228\n",
      "2017-03-27 09:07:22.500000 *last* 3058.0 *bid1* 3057.0 *bid1Size* 151 *ask1* 3058.0 *ask1Size* 217\n",
      "2017-03-27 09:07:23 *last* 3058.0 *bid1* 3057.0 *bid1Size* 182 *ask1* 3058.0 *ask1Size* 210\n",
      "2017-03-27 09:07:23.500000 *last* 3057.0 *bid1* 3057.0 *bid1Size* 164 *ask1* 3058.0 *ask1Size* 199\n",
      "2017-03-27 09:07:24 *last* 3058.0 *bid1* 3057.0 *bid1Size* 120 *ask1* 3058.0 *ask1Size* 197\n",
      "2017-03-27 09:07:24.500000 *last* 3058.0 *bid1* 3056.0 *bid1Size* 387 *ask1* 3058.0 *ask1Size* 163\n",
      "2017-03-27 09:07:25 *last* 3058.0 *bid1* 3058.0 *bid1Size* 27 *ask1* 3059.0 *ask1Size* 167\n",
      "2017-03-27 09:07:25.500000 *last* 3058.0 *bid1* 3057.0 *bid1Size* 36 *ask1* 3058.0 *ask1Size* 271\n",
      "2017-03-27 09:07:26 *last* 3058.0 *bid1* 3057.0 *bid1Size* 29 *ask1* 3058.0 *ask1Size* 234\n",
      "2017-03-27 09:07:26.500000 *last* 3057.0 *bid1* 3056.0 *bid1Size* 389 *ask1* 3057.0 *ask1Size* 5\n",
      "2017-03-27 09:07:27 *last* 3057.0 *bid1* 3056.0 *bid1Size* 386 *ask1* 3057.0 *ask1Size* 1\n",
      "2017-03-27 09:07:27.500000 *last* 3058.0 *bid1* 3056.0 *bid1Size* 387 *ask1* 3057.0 *ask1Size* 92\n",
      "2017-03-27 09:07:28 *last* 3057.0 *bid1* 3056.0 *bid1Size* 390 *ask1* 3057.0 *ask1Size* 113\n",
      "2017-03-27 09:07:28.500000 *last* 3057.0 *bid1* 3056.0 *bid1Size* 390 *ask1* 3057.0 *ask1Size* 144\n",
      "2017-03-27 09:07:29 *last* 3057.0 *bid1* 3056.0 *bid1Size* 389 *ask1* 3057.0 *ask1Size* 169\n",
      "2017-03-27 09:07:29.500000 *last* 3056.0 *bid1* 3056.0 *bid1Size* 287 *ask1* 3057.0 *ask1Size* 190\n",
      "2017-03-27 09:07:30 *last* 3056.0 *bid1* 3056.0 *bid1Size* 234 *ask1* 3057.0 *ask1Size* 194\n",
      "2017-03-27 09:07:30.500000 *last* 3057.0 *bid1* 3056.0 *bid1Size* 214 *ask1* 3057.0 *ask1Size* 187\n",
      "2017-03-27 09:07:31 *last* 3056.0 *bid1* 3056.0 *bid1Size* 96 *ask1* 3057.0 *ask1Size* 174\n",
      "2017-03-27 09:07:31.500000 *last* 3056.0 *bid1* 3056.0 *bid1Size* 17 *ask1* 3057.0 *ask1Size* 174\n",
      "2017-03-27 09:07:32 *last* 3056.0 *bid1* 3055.0 *bid1Size* 207 *ask1* 3056.0 *ask1Size* 334\n",
      "2017-03-27 09:07:32.500000 *last* 3056.0 *bid1* 3055.0 *bid1Size* 211 *ask1* 3056.0 *ask1Size* 318\n",
      "2017-03-27 09:07:33 *last* 3056.0 *bid1* 3055.0 *bid1Size* 238 *ask1* 3056.0 *ask1Size* 316\n",
      "2017-03-27 09:07:33.500000 *last* 3055.0 *bid1* 3055.0 *bid1Size* 118 *ask1* 3056.0 *ask1Size* 313\n",
      "2017-03-27 09:07:34 *last* 3055.0 *bid1* 3055.0 *bid1Size* 19 *ask1* 3056.0 *ask1Size* 346\n",
      "2017-03-27 09:07:34.500000 *last* 3055.0 *bid1* 3055.0 *bid1Size* 12 *ask1* 3056.0 *ask1Size* 328\n",
      "2017-03-27 09:07:35 *last* 3055.0 *bid1* 3055.0 *bid1Size* 41 *ask1* 3056.0 *ask1Size* 329\n",
      "2017-03-27 09:07:35.500000 *last* 3055.0 *bid1* 3055.0 *bid1Size* 53 *ask1* 3056.0 *ask1Size* 366\n",
      "2017-03-27 09:07:36 *last* 3056.0 *bid1* 3055.0 *bid1Size* 52 *ask1* 3056.0 *ask1Size* 368\n",
      "2017-03-27 09:07:36.500000 *last* 3055.0 *bid1* 3055.0 *bid1Size* 19 *ask1* 3056.0 *ask1Size* 336\n",
      "2017-03-27 09:07:37 *last* 3056.0 *bid1* 3055.0 *bid1Size* 20 *ask1* 3056.0 *ask1Size* 333\n",
      "2017-03-27 09:07:37.500000 *last* 3056.0 *bid1* 3055.0 *bid1Size* 29 *ask1* 3056.0 *ask1Size* 313\n",
      "2017-03-27 09:07:38 *last* 3055.0 *bid1* 3055.0 *bid1Size* 81 *ask1* 3056.0 *ask1Size* 304\n",
      "2017-03-27 09:07:38.500000 *last* 3055.0 *bid1* 3055.0 *bid1Size* 253 *ask1* 3056.0 *ask1Size* 273\n",
      "2017-03-27 09:07:39 *last* 3056.0 *bid1* 3055.0 *bid1Size* 156 *ask1* 3056.0 *ask1Size* 142\n",
      "2017-03-27 09:07:39.500000 *last* 3056.0 *bid1* 3056.0 *bid1Size* 690 *ask1* 3057.0 *ask1Size* 244\n",
      "2017-03-27 09:07:40 *last* 3056.0 *bid1* 3056.0 *bid1Size* 686 *ask1* 3057.0 *ask1Size* 126\n",
      "2017-03-27 09:07:40.500000 *last* 3056.0 *bid1* 3056.0 *bid1Size* 658 *ask1* 3057.0 *ask1Size* 31\n",
      "2017-03-27 09:07:41 *last* 3057.0 *bid1* 3057.0 *bid1Size* 115 *ask1* 3058.0 *ask1Size* 148\n",
      "2017-03-27 09:07:41.500000 *last* 3057.0 *bid1* 3057.0 *bid1Size* 110 *ask1* 3058.0 *ask1Size* 141\n",
      "2017-03-27 09:07:42 *last* 3057.0 *bid1* 3057.0 *bid1Size* 114 *ask1* 3058.0 *ask1Size* 131\n",
      "2017-03-27 09:07:42.500000 *last* 3058.0 *bid1* 3057.0 *bid1Size* 113 *ask1* 3058.0 *ask1Size* 135\n",
      "2017-03-27 09:07:43 *last* 3058.0 *bid1* 3057.0 *bid1Size* 107 *ask1* 3058.0 *ask1Size* 137\n",
      "2017-03-27 09:07:43.500000 *last* 3057.0 *bid1* 3057.0 *bid1Size* 94 *ask1* 3058.0 *ask1Size* 141\n",
      "2017-03-27 09:07:44 *last* 3058.0 *bid1* 3056.0 *bid1Size* 646 *ask1* 3057.0 *ask1Size* 4\n",
      "2017-03-27 09:07:44.500000 *last* 3058.0 *bid1* 3056.0 *bid1Size* 357 *ask1* 3057.0 *ask1Size* 30\n",
      "2017-03-27 09:07:45 *last* 3057.0 *bid1* 3057.0 *bid1Size* 1 *ask1* 3058.0 *ask1Size* 36\n",
      "2017-03-27 09:07:45.500000 *last* 3057.0 *bid1* 3056.0 *bid1Size* 95 *ask1* 3057.0 *ask1Size* 85\n",
      "2017-03-27 09:07:46 *last* 3057.0 *bid1* 3056.0 *bid1Size* 71 *ask1* 3057.0 *ask1Size* 96\n",
      "2017-03-27 09:07:46.500000 *last* 3056.0 *bid1* 3056.0 *bid1Size* 68 *ask1* 3057.0 *ask1Size* 122\n",
      "2017-03-27 09:07:47 *last* 3057.0 *bid1* 3056.0 *bid1Size* 60 *ask1* 3057.0 *ask1Size* 119\n",
      "2017-03-27 09:07:47.500000 *last* 3057.0 *bid1* 3056.0 *bid1Size* 89 *ask1* 3057.0 *ask1Size* 43\n",
      "2017-03-27 09:07:48 *last* 3057.0 *bid1* 3056.0 *bid1Size* 98 *ask1* 3057.0 *ask1Size* 23\n",
      "2017-03-27 09:07:48.500000 *last* 3056.0 *bid1* 3056.0 *bid1Size* 118 *ask1* 3057.0 *ask1Size* 18\n",
      "2017-03-27 09:07:49 *last* 3057.0 *bid1* 3056.0 *bid1Size* 142 *ask1* 3057.0 *ask1Size* 4\n",
      "2017-03-27 09:07:49.500000 *last* 3057.0 *bid1* 3057.0 *bid1Size* 112 *ask1* 3058.0 *ask1Size* 155\n",
      "2017-03-27 09:07:50 *last* 3057.0 *bid1* 3056.0 *bid1Size* 138 *ask1* 3057.0 *ask1Size* 141\n",
      "2017-03-27 09:07:50.500000 *last* 3056.0 *bid1* 3056.0 *bid1Size* 129 *ask1* 3057.0 *ask1Size* 89\n",
      "2017-03-27 09:07:51 *last* 3056.0 *bid1* 3056.0 *bid1Size* 117 *ask1* 3057.0 *ask1Size* 84\n",
      "2017-03-27 09:07:51.500000 *last* 3057.0 *bid1* 3056.0 *bid1Size* 113 *ask1* 3057.0 *ask1Size* 83\n",
      "2017-03-27 09:07:52 *last* 3057.0 *bid1* 3056.0 *bid1Size* 65 *ask1* 3057.0 *ask1Size* 62\n",
      "2017-03-27 09:07:52.500000 *last* 3056.0 *bid1* 3056.0 *bid1Size* 63 *ask1* 3057.0 *ask1Size* 88\n",
      "2017-03-27 09:07:53 *last* 3056.0 *bid1* 3056.0 *bid1Size* 63 *ask1* 3057.0 *ask1Size* 80\n",
      "2017-03-27 09:07:53.500000 *last* 3057.0 *bid1* 3056.0 *bid1Size* 3 *ask1* 3057.0 *ask1Size* 52\n",
      "2017-03-27 09:07:54 *last* 3056.0 *bid1* 3055.0 *bid1Size* 213 *ask1* 3056.0 *ask1Size* 196\n",
      "2017-03-27 09:07:54.500000 *last* 3056.0 *bid1* 3055.0 *bid1Size* 214 *ask1* 3056.0 *ask1Size* 91\n",
      "2017-03-27 09:07:55 *last* 3056.0 *bid1* 3055.0 *bid1Size* 195 *ask1* 3056.0 *ask1Size* 19\n",
      "2017-03-27 09:07:55.500000 *last* 3055.0 *bid1* 3055.0 *bid1Size* 145 *ask1* 3056.0 *ask1Size* 22\n",
      "2017-03-27 09:07:56 *last* 3056.0 *bid1* 3055.0 *bid1Size* 144 *ask1* 3057.0 *ask1Size* 17\n",
      "2017-03-27 09:07:56.500000 *last* 3056.0 *bid1* 3055.0 *bid1Size* 145 *ask1* 3056.0 *ask1Size* 10\n",
      "2017-03-27 09:07:57 *last* 3056.0 *bid1* 3056.0 *bid1Size* 6 *ask1* 3057.0 *ask1Size* 65\n",
      "2017-03-27 09:07:57.500000 *last* 3057.0 *bid1* 3055.0 *bid1Size* 158 *ask1* 3056.0 *ask1Size* 1\n",
      "2017-03-27 09:07:58 *last* 3056.0 *bid1* 3056.0 *bid1Size* 12 *ask1* 3057.0 *ask1Size* 17\n",
      "2017-03-27 09:07:58.500000 *last* 3056.0 *bid1* 3056.0 *bid1Size* 3 *ask1* 3057.0 *ask1Size* 13\n",
      "2017-03-27 09:07:59 *last* 3056.0 *bid1* 3055.0 *bid1Size* 152 *ask1* 3056.0 *ask1Size* 37\n",
      "2017-03-27 09:07:59.500000 *last* 3055.0 *bid1* 3056.0 *bid1Size* 299 *ask1* 3057.0 *ask1Size* 21\n",
      "2017-03-27 09:08:00 *last* 3057.0 *bid1* 3056.0 *bid1Size* 344 *ask1* 3057.0 *ask1Size* 5\n",
      "2017-03-27 09:08:00.500000 *last* 3057.0 *bid1* 3057.0 *bid1Size* 290 *ask1* 3058.0 *ask1Size* 91\n",
      "2017-03-27 09:08:01 *last* 3056.0 *bid1* 3057.0 *bid1Size* 1 *ask1* 3058.0 *ask1Size* 122\n",
      "2017-03-27 09:08:01.500000 *last* 3057.0 *bid1* 3056.0 *bid1Size* 272 *ask1* 3057.0 *ask1Size* 109\n",
      "2017-03-27 09:08:02 *last* 3056.0 *bid1* 3056.0 *bid1Size* 224 *ask1* 3057.0 *ask1Size* 113\n",
      "2017-03-27 09:08:02.500000 *last* 3057.0 *bid1* 3057.0 *bid1Size* 89 *ask1* 3058.0 *ask1Size* 71\n",
      "2017-03-27 09:08:03 *last* 3058.0 *bid1* 3057.0 *bid1Size* 86 *ask1* 3058.0 *ask1Size* 67\n",
      "2017-03-27 09:08:03.500000 *last* 3057.0 *bid1* 3057.0 *bid1Size* 10 *ask1* 3058.0 *ask1Size* 103\n",
      "2017-03-27 09:08:04 *last* 3058.0 *bid1* 3057.0 *bid1Size* 67 *ask1* 3058.0 *ask1Size* 104\n",
      "2017-03-27 09:08:04.500000 *last* 3057.0 *bid1* 3057.0 *bid1Size* 47 *ask1* 3058.0 *ask1Size* 105\n",
      "2017-03-27 09:08:05 *last* 3057.0 *bid1* 3057.0 *bid1Size* 52 *ask1* 3058.0 *ask1Size* 6\n",
      "2017-03-27 09:08:05.500000 *last* 3057.0 *bid1* 3057.0 *bid1Size* 44 *ask1* 3058.0 *ask1Size* 8\n",
      "2017-03-27 09:08:06 *last* 3057.0 *bid1* 3057.0 *bid1Size* 90 *ask1* 3058.0 *ask1Size* 17\n",
      "2017-03-27 09:08:06.500000 *last* 3058.0 *bid1* 3058.0 *bid1Size* 28 *ask1* 3059.0 *ask1Size* 191\n",
      "2017-03-27 09:08:07 *last* 3058.0 *bid1* 3057.0 *bid1Size* 176 *ask1* 3058.0 *ask1Size* 302\n",
      "2017-03-27 09:08:07.500000 *last* 3058.0 *bid1* 3057.0 *bid1Size* 125 *ask1* 3058.0 *ask1Size* 233\n",
      "2017-03-27 09:08:08 *last* 3057.0 *bid1* 3057.0 *bid1Size* 117 *ask1* 3058.0 *ask1Size* 237\n",
      "2017-03-27 09:08:08.500000 *last* 3058.0 *bid1* 3057.0 *bid1Size* 185 *ask1* 3058.0 *ask1Size* 238\n",
      "2017-03-27 09:08:09 *last* 3058.0 *bid1* 3057.0 *bid1Size* 135 *ask1* 3058.0 *ask1Size* 216\n",
      "2017-03-27 09:08:09.500000 *last* 3058.0 *bid1* 3057.0 *bid1Size* 135 *ask1* 3058.0 *ask1Size* 214\n",
      "2017-03-27 09:08:10 *last* 3058.0 *bid1* 3057.0 *bid1Size* 138 *ask1* 3058.0 *ask1Size* 215\n",
      "2017-03-27 09:08:10.500000 *last* 3058.0 *bid1* 3058.0 *bid1Size* 15 *ask1* 3059.0 *ask1Size* 185\n",
      "2017-03-27 09:08:11 *last* 3059.0 *bid1* 3058.0 *bid1Size* 14 *ask1* 3059.0 *ask1Size* 192\n",
      "2017-03-27 09:08:11.500000 *last* 3059.0 *bid1* 3058.0 *bid1Size* 45 *ask1* 3059.0 *ask1Size* 111\n",
      "2017-03-27 09:08:12 *last* 3059.0 *bid1* 3058.0 *bid1Size* 36 *ask1* 3059.0 *ask1Size* 129\n",
      "2017-03-27 09:08:12.500000 *last* 3058.0 *bid1* 3058.0 *bid1Size* 52 *ask1* 3059.0 *ask1Size* 130\n",
      "2017-03-27 09:08:13 *last* 3058.0 *bid1* 3058.0 *bid1Size* 62 *ask1* 3059.0 *ask1Size* 148\n",
      "2017-03-27 09:08:13.500000 *last* 3058.0 *bid1* 3057.0 *bid1Size* 81 *ask1* 3058.0 *ask1Size* 93\n",
      "2017-03-27 09:08:14 *last* 3058.0 *bid1* 3057.0 *bid1Size* 81 *ask1* 3058.0 *ask1Size* 84\n",
      "2017-03-27 09:08:14.500000 *last* 3058.0 *bid1* 3057.0 *bid1Size* 83 *ask1* 3058.0 *ask1Size* 134\n",
      "2017-03-27 09:08:15 *last* 3058.0 *bid1* 3056.0 *bid1Size* 274 *ask1* 3058.0 *ask1Size* 105\n",
      "2017-03-27 09:08:15.500000 *last* 3056.0 *bid1* 3056.0 *bid1Size* 269 *ask1* 3058.0 *ask1Size* 86\n",
      "2017-03-27 09:08:16 *last* 3057.0 *bid1* 3056.0 *bid1Size* 269 *ask1* 3057.0 *ask1Size* 20\n",
      "2017-03-27 09:08:16.500000 *last* 3058.0 *bid1* 3057.0 *bid1Size* 37 *ask1* 3058.0 *ask1Size* 92\n",
      "2017-03-27 09:08:17 *last* 3058.0 *bid1* 3057.0 *bid1Size* 35 *ask1* 3058.0 *ask1Size* 83\n",
      "2017-03-27 09:08:17.500000 *last* 3058.0 *bid1* 3057.0 *bid1Size* 64 *ask1* 3058.0 *ask1Size* 77\n",
      "2017-03-27 09:08:18 *last* 3057.0 *bid1* 3057.0 *bid1Size* 63 *ask1* 3058.0 *ask1Size* 73\n",
      "2017-03-27 09:08:18.500000 *last* 3058.0 *bid1* 3058.0 *bid1Size* 5 *ask1* 3059.0 *ask1Size* 359\n",
      "2017-03-27 09:08:19 *last* 3058.0 *bid1* 3057.0 *bid1Size* 67 *ask1* 3058.0 *ask1Size* 71\n",
      "2017-03-27 09:08:19.500000 *last* 3057.0 *bid1* 3057.0 *bid1Size* 68 *ask1* 3058.0 *ask1Size* 102\n",
      "2017-03-27 09:08:20 *last* 3058.0 *bid1* 3057.0 *bid1Size* 67 *ask1* 3058.0 *ask1Size* 199\n",
      "2017-03-27 09:08:20.500000 *last* 3057.0 *bid1* 3056.0 *bid1Size* 447 *ask1* 3057.0 *ask1Size* 51\n",
      "2017-03-27 09:08:21 *last* 3057.0 *bid1* 3057.0 *bid1Size* 4 *ask1* 3058.0 *ask1Size* 206\n",
      "2017-03-27 09:08:21.500000 *last* 3057.0 *bid1* 3056.0 *bid1Size* 345 *ask1* 3057.0 *ask1Size* 14\n",
      "2017-03-27 09:08:22 *last* 3058.0 *bid1* 3057.0 *bid1Size* 56 *ask1* 3058.0 *ask1Size* 194\n",
      "2017-03-27 09:08:22.500000 *last* 3057.0 *bid1* 3057.0 *bid1Size* 66 *ask1* 3058.0 *ask1Size* 202\n",
      "2017-03-27 09:08:23 *last* 3057.0 *bid1* 3057.0 *bid1Size* 15 *ask1* 3058.0 *ask1Size* 98\n",
      "2017-03-27 09:08:23.500000 *last* 3057.0 *bid1* 3057.0 *bid1Size* 31 *ask1* 3058.0 *ask1Size* 89\n",
      "2017-03-27 09:08:24 *last* 3057.0 *bid1* 3057.0 *bid1Size* 123 *ask1* 3058.0 *ask1Size* 76\n",
      "2017-03-27 09:08:24.500000 *last* 3058.0 *bid1* 3057.0 *bid1Size* 529 *ask1* 3058.0 *ask1Size* 61\n",
      "2017-03-27 09:08:25 *last* 3058.0 *bid1* 3058.0 *bid1Size* 194 *ask1* 3059.0 *ask1Size* 364\n",
      "2017-03-27 09:08:25.500000 *last* 3058.0 *bid1* 3058.0 *bid1Size* 233 *ask1* 3059.0 *ask1Size* 363\n",
      "2017-03-27 09:08:26 *last* 3059.0 *bid1* 3058.0 *bid1Size* 154 *ask1* 3059.0 *ask1Size* 285\n",
      "2017-03-27 09:08:26.500000 *last* 3058.0 *bid1* 3058.0 *bid1Size* 171 *ask1* 3059.0 *ask1Size* 287\n",
      "2017-03-27 09:08:27 *last* 3058.0 *bid1* 3058.0 *bid1Size* 154 *ask1* 3059.0 *ask1Size* 284\n",
      "2017-03-27 09:08:27.500000 *last* 3058.0 *bid1* 3058.0 *bid1Size* 160 *ask1* 3059.0 *ask1Size* 285\n",
      "2017-03-27 09:08:28 *last* 3059.0 *bid1* 3058.0 *bid1Size* 161 *ask1* 3059.0 *ask1Size* 256\n",
      "2017-03-27 09:08:28.500000 *last* 3059.0 *bid1* 3058.0 *bid1Size* 163 *ask1* 3059.0 *ask1Size* 248\n",
      "2017-03-27 09:08:29 *last* 3059.0 *bid1* 3058.0 *bid1Size* 198 *ask1* 3059.0 *ask1Size* 182\n",
      "2017-03-27 09:08:29.500000 *last* 3059.0 *bid1* 3058.0 *bid1Size* 209 *ask1* 3059.0 *ask1Size* 174\n",
      "2017-03-27 09:08:30 *last* 3059.0 *bid1* 3058.0 *bid1Size* 221 *ask1* 3059.0 *ask1Size* 150\n",
      "2017-03-27 09:08:30.500000 *last* 3059.0 *bid1* 3058.0 *bid1Size* 209 *ask1* 3059.0 *ask1Size* 77\n",
      "2017-03-27 09:08:31 *last* 3058.0 *bid1* 3058.0 *bid1Size* 192 *ask1* 3059.0 *ask1Size* 62\n",
      "2017-03-27 09:08:31.500000 *last* 3059.0 *bid1* 3058.0 *bid1Size* 194 *ask1* 3059.0 *ask1Size* 25\n",
      "2017-03-27 09:08:32 *last* 3059.0 *bid1* 3058.0 *bid1Size* 190 *ask1* 3059.0 *ask1Size* 36\n",
      "2017-03-27 09:08:32.500000 *last* 3058.0 *bid1* 3058.0 *bid1Size* 178 *ask1* 3059.0 *ask1Size* 41\n",
      "2017-03-27 09:08:33 *last* 3059.0 *bid1* 3059.0 *bid1Size* 280 *ask1* 3060.0 *ask1Size* 796\n",
      "2017-03-27 09:08:33.500000 *last* 3059.0 *bid1* 3059.0 *bid1Size* 239 *ask1* 3060.0 *ask1Size* 756\n",
      "2017-03-27 09:08:34 *last* 3059.0 *bid1* 3059.0 *bid1Size* 47 *ask1* 3060.0 *ask1Size* 755\n",
      "2017-03-27 09:08:34.500000 *last* 3059.0 *bid1* 3058.0 *bid1Size* 199 *ask1* 3059.0 *ask1Size* 522\n",
      "2017-03-27 09:08:35 *last* 3059.0 *bid1* 3058.0 *bid1Size* 197 *ask1* 3059.0 *ask1Size* 436\n",
      "2017-03-27 09:08:35.500000 *last* 3059.0 *bid1* 3058.0 *bid1Size* 196 *ask1* 3059.0 *ask1Size* 413\n",
      "2017-03-27 09:08:36 *last* 3058.0 *bid1* 3058.0 *bid1Size* 9 *ask1* 3059.0 *ask1Size* 403\n",
      "2017-03-27 09:08:36.500000 *last* 3058.0 *bid1* 3057.0 *bid1Size* 164 *ask1* 3058.0 *ask1Size* 128\n",
      "2017-03-27 09:08:37 *last* 3058.0 *bid1* 3058.0 *bid1Size* 412 *ask1* 3059.0 *ask1Size* 386\n",
      "2017-03-27 09:08:37.500000 *last* 3059.0 *bid1* 3058.0 *bid1Size* 382 *ask1* 3059.0 *ask1Size* 3\n",
      "2017-03-27 09:08:38 *last* 3059.0 *bid1* 3059.0 *bid1Size* 13 *ask1* 3060.0 *ask1Size* 639\n",
      "2017-03-27 09:08:38.500000 *last* 3059.0 *bid1* 3059.0 *bid1Size* 49 *ask1* 3060.0 *ask1Size* 627\n",
      "2017-03-27 09:08:39 *last* 3059.0 *bid1* 3059.0 *bid1Size* 58 *ask1* 3060.0 *ask1Size* 627\n",
      "2017-03-27 09:08:39.500000 *last* 3059.0 *bid1* 3059.0 *bid1Size* 25 *ask1* 3060.0 *ask1Size* 627\n",
      "2017-03-27 09:08:40 *last* 3059.0 *bid1* 3059.0 *bid1Size* 14 *ask1* 3060.0 *ask1Size* 615\n",
      "2017-03-27 09:08:40.500000 *last* 3058.0 *bid1* 3058.0 *bid1Size* 361 *ask1* 3059.0 *ask1Size* 224\n",
      "2017-03-27 09:08:41 *last* 3058.0 *bid1* 3058.0 *bid1Size* 392 *ask1* 3059.0 *ask1Size* 262\n",
      "2017-03-27 09:08:41.500000 *last* 3059.0 *bid1* 3058.0 *bid1Size* 392 *ask1* 3059.0 *ask1Size* 119\n",
      "2017-03-27 09:08:42 *last* 3059.0 *bid1* 3058.0 *bid1Size* 391 *ask1* 3059.0 *ask1Size* 112\n",
      "2017-03-27 09:08:42.500000 *last* 3059.0 *bid1* 3059.0 *bid1Size* 18 *ask1* 3060.0 *ask1Size* 619\n",
      "2017-03-27 09:08:43 *last* 3060.0 *bid1* 3059.0 *bid1Size* 24 *ask1* 3060.0 *ask1Size* 616\n",
      "2017-03-27 09:08:43.500000 *last* 3059.0 *bid1* 3058.0 *bid1Size* 359 *ask1* 3059.0 *ask1Size* 115\n",
      "2017-03-27 09:08:44 *last* 3059.0 *bid1* 3059.0 *bid1Size* 340 *ask1* 3060.0 *ask1Size* 611\n",
      "2017-03-27 09:08:44.500000 *last* 3059.0 *bid1* 3059.0 *bid1Size* 293 *ask1* 3060.0 *ask1Size* 588\n",
      "2017-03-27 09:08:45 *last* 3060.0 *bid1* 3059.0 *bid1Size* 364 *ask1* 3060.0 *ask1Size* 579\n",
      "2017-03-27 09:08:45.500000 *last* 3060.0 *bid1* 3059.0 *bid1Size* 474 *ask1* 3060.0 *ask1Size* 515\n",
      "2017-03-27 09:08:46 *last* 3059.0 *bid1* 3059.0 *bid1Size* 463 *ask1* 3060.0 *ask1Size* 489\n",
      "2017-03-27 09:08:46.500000 *last* 3059.0 *bid1* 3059.0 *bid1Size* 418 *ask1* 3060.0 *ask1Size* 560\n",
      "2017-03-27 09:08:47 *last* 3060.0 *bid1* 3059.0 *bid1Size* 453 *ask1* 3060.0 *ask1Size* 545\n",
      "2017-03-27 09:08:47.500000 *last* 3060.0 *bid1* 3059.0 *bid1Size* 449 *ask1* 3060.0 *ask1Size* 545\n",
      "2017-03-27 09:08:48 *last* 3060.0 *bid1* 3059.0 *bid1Size* 421 *ask1* 3060.0 *ask1Size* 559\n",
      "2017-03-27 09:08:48.500000 *last* 3060.0 *bid1* 3059.0 *bid1Size* 369 *ask1* 3060.0 *ask1Size* 535\n",
      "2017-03-27 09:08:49 *last* 3059.0 *bid1* 3059.0 *bid1Size* 286 *ask1* 3060.0 *ask1Size* 276\n",
      "2017-03-27 09:08:49.500000 *last* 3060.0 *bid1* 3059.0 *bid1Size* 277 *ask1* 3060.0 *ask1Size* 256\n",
      "2017-03-27 09:08:50 *last* 3059.0 *bid1* 3059.0 *bid1Size* 252 *ask1* 3060.0 *ask1Size* 244\n",
      "2017-03-27 09:08:50.500000 *last* 3059.0 *bid1* 3059.0 *bid1Size* 239 *ask1* 3060.0 *ask1Size* 233\n",
      "2017-03-27 09:08:51 *last* 3060.0 *bid1* 3059.0 *bid1Size* 239 *ask1* 3060.0 *ask1Size* 257\n",
      "2017-03-27 09:08:51.500000 *last* 3060.0 *bid1* 3059.0 *bid1Size* 234 *ask1* 3060.0 *ask1Size* 66\n",
      "2017-03-27 09:08:52 *last* 3060.0 *bid1* 3059.0 *bid1Size* 241 *ask1* 3060.0 *ask1Size* 81\n",
      "2017-03-27 09:08:52.500000 *last* 3060.0 *bid1* 3059.0 *bid1Size* 246 *ask1* 3060.0 *ask1Size* 19\n",
      "2017-03-27 09:08:53 *last* 3060.0 *bid1* 3060.0 *bid1Size* 59 *ask1* 3061.0 *ask1Size* 192\n",
      "2017-03-27 09:08:53.500000 *last* 3060.0 *bid1* 3060.0 *bid1Size* 91 *ask1* 3061.0 *ask1Size* 171\n",
      "2017-03-27 09:08:54 *last* 3060.0 *bid1* 3060.0 *bid1Size* 396 *ask1* 3061.0 *ask1Size* 171\n",
      "2017-03-27 09:08:54.500000 *last* 3060.0 *bid1* 3060.0 *bid1Size* 334 *ask1* 3061.0 *ask1Size* 169\n",
      "2017-03-27 09:08:55 *last* 3061.0 *bid1* 3060.0 *bid1Size* 304 *ask1* 3061.0 *ask1Size* 168\n",
      "2017-03-27 09:08:55.500000 *last* 3060.0 *bid1* 3060.0 *bid1Size* 271 *ask1* 3061.0 *ask1Size* 113\n",
      "2017-03-27 09:08:56 *last* 3061.0 *bid1* 3060.0 *bid1Size* 220 *ask1* 3061.0 *ask1Size* 52\n",
      "2017-03-27 09:08:56.500000 *last* 3061.0 *bid1* 3061.0 *bid1Size* 91 *ask1* 3062.0 *ask1Size* 331\n",
      "2017-03-27 09:08:57 *last* 3062.0 *bid1* 3061.0 *bid1Size* 32 *ask1* 3062.0 *ask1Size* 261\n",
      "2017-03-27 09:08:57.500000 *last* 3061.0 *bid1* 3061.0 *bid1Size* 38 *ask1* 3062.0 *ask1Size* 146\n",
      "2017-03-27 09:08:58 *last* 3061.0 *bid1* 3061.0 *bid1Size* 114 *ask1* 3062.0 *ask1Size* 129\n",
      "2017-03-27 09:08:58.500000 *last* 3062.0 *bid1* 3061.0 *bid1Size* 181 *ask1* 3062.0 *ask1Size* 29\n",
      "2017-03-27 09:08:59 *last* 3062.0 *bid1* 3062.0 *bid1Size* 200 *ask1* 3063.0 *ask1Size* 790\n",
      "2017-03-27 09:08:59.500000 *last* 3063.0 *bid1* 3062.0 *bid1Size* 205 *ask1* 3063.0 *ask1Size* 541\n",
      "2017-03-27 09:09:00 *last* 3063.0 *bid1* 3062.0 *bid1Size* 67 *ask1* 3063.0 *ask1Size* 487\n",
      "2017-03-27 09:09:00.500000 *last* 3062.0 *bid1* 3062.0 *bid1Size* 217 *ask1* 3063.0 *ask1Size* 473\n",
      "2017-03-27 09:09:01 *last* 3063.0 *bid1* 3062.0 *bid1Size* 215 *ask1* 3063.0 *ask1Size* 463\n",
      "2017-03-27 09:09:01.500000 *last* 3063.0 *bid1* 3062.0 *bid1Size* 205 *ask1* 3063.0 *ask1Size* 253\n",
      "2017-03-27 09:09:02 *last* 3063.0 *bid1* 3063.0 *bid1Size* 44 *ask1* 3064.0 *ask1Size* 394\n",
      "2017-03-27 09:09:02.500000 *last* 3064.0 *bid1* 3063.0 *bid1Size* 36 *ask1* 3064.0 *ask1Size* 332\n",
      "2017-03-27 09:09:03 *last* 3064.0 *bid1* 3063.0 *bid1Size* 60 *ask1* 3064.0 *ask1Size* 302\n",
      "2017-03-27 09:09:03.500000 *last* 3063.0 *bid1* 3062.0 *bid1Size* 167 *ask1* 3064.0 *ask1Size* 47\n",
      "2017-03-27 09:09:04 *last* 3064.0 *bid1* 3063.0 *bid1Size* 107 *ask1* 3064.0 *ask1Size* 5\n",
      "2017-03-27 09:09:04.500000 *last* 3064.0 *bid1* 3064.0 *bid1Size* 134 *ask1* 3065.0 *ask1Size* 1208\n",
      "2017-03-27 09:09:05 *last* 3065.0 *bid1* 3064.0 *bid1Size* 538 *ask1* 3065.0 *ask1Size* 1204\n",
      "2017-03-27 09:09:05.500000 *last* 3065.0 *bid1* 3064.0 *bid1Size* 428 *ask1* 3065.0 *ask1Size* 1119\n",
      "2017-03-27 09:09:06 *last* 3065.0 *bid1* 3064.0 *bid1Size* 447 *ask1* 3065.0 *ask1Size* 986\n",
      "2017-03-27 09:09:06.500000 *last* 3064.0 *bid1* 3064.0 *bid1Size* 370 *ask1* 3065.0 *ask1Size* 842\n",
      "2017-03-27 09:09:07 *last* 3065.0 *bid1* 3064.0 *bid1Size* 359 *ask1* 3065.0 *ask1Size* 315\n",
      "2017-03-27 09:09:07.500000 *last* 3064.0 *bid1* 3065.0 *bid1Size* 46 *ask1* 3066.0 *ask1Size* 819\n",
      "2017-03-27 09:09:08 *last* 3065.0 *bid1* 3065.0 *bid1Size* 13 *ask1* 3066.0 *ask1Size* 788\n",
      "2017-03-27 09:09:08.500000 *last* 3064.0 *bid1* 3064.0 *bid1Size* 331 *ask1* 3065.0 *ask1Size* 20\n",
      "2017-03-27 09:09:09 *last* 3064.0 *bid1* 3064.0 *bid1Size* 238 *ask1* 3065.0 *ask1Size* 336\n",
      "2017-03-27 09:09:09.500000 *last* 3064.0 *bid1* 3063.0 *bid1Size* 337 *ask1* 3064.0 *ask1Size* 296\n",
      "2017-03-27 09:09:10 *last* 3063.0 *bid1* 3063.0 *bid1Size* 193 *ask1* 3064.0 *ask1Size* 274\n",
      "2017-03-27 09:09:10.500000 *last* 3063.0 *bid1* 3062.0 *bid1Size* 178 *ask1* 3063.0 *ask1Size* 48\n",
      "2017-03-27 09:09:11 *last* 3062.0 *bid1* 3062.0 *bid1Size* 162 *ask1* 3063.0 *ask1Size* 151\n",
      "2017-03-27 09:09:11.500000 *last* 3062.0 *bid1* 3061.0 *bid1Size* 280 *ask1* 3062.0 *ask1Size* 87\n",
      "2017-03-27 09:09:12 *last* 3062.0 *bid1* 3061.0 *bid1Size* 266 *ask1* 3062.0 *ask1Size* 138\n",
      "2017-03-27 09:09:12.500000 *last* 3062.0 *bid1* 3061.0 *bid1Size* 272 *ask1* 3062.0 *ask1Size* 129\n",
      "2017-03-27 09:09:13 *last* 3062.0 *bid1* 3061.0 *bid1Size* 143 *ask1* 3062.0 *ask1Size* 91\n",
      "2017-03-27 09:09:13.500000 *last* 3061.0 *bid1* 3061.0 *bid1Size* 69 *ask1* 3062.0 *ask1Size* 107\n",
      "2017-03-27 09:09:14 *last* 3061.0 *bid1* 3061.0 *bid1Size* 37 *ask1* 3062.0 *ask1Size* 141\n",
      "2017-03-27 09:09:14.500000 *last* 3061.0 *bid1* 3060.0 *bid1Size* 110 *ask1* 3061.0 *ask1Size* 69\n",
      "2017-03-27 09:09:15 *last* 3062.0 *bid1* 3060.0 *bid1Size* 98 *ask1* 3061.0 *ask1Size* 58\n",
      "2017-03-27 09:09:15.500000 *last* 3060.0 *bid1* 3060.0 *bid1Size* 43 *ask1* 3061.0 *ask1Size* 137\n",
      "2017-03-27 09:09:16 *last* 3060.0 *bid1* 3060.0 *bid1Size* 8 *ask1* 3061.0 *ask1Size* 186\n",
      "2017-03-27 09:09:16.500000 *last* 3059.0 *bid1* 3060.0 *bid1Size* 4 *ask1* 3061.0 *ask1Size* 195\n",
      "2017-03-27 09:09:17 *last* 3060.0 *bid1* 3059.0 *bid1Size* 95 *ask1* 3060.0 *ask1Size* 228\n",
      "2017-03-27 09:09:17.500000 *last* 3060.0 *bid1* 3059.0 *bid1Size* 104 *ask1* 3060.0 *ask1Size* 206\n",
      "2017-03-27 09:09:18 *last* 3059.0 *bid1* 3059.0 *bid1Size* 150 *ask1* 3060.0 *ask1Size* 276\n",
      "2017-03-27 09:09:18.500000 *last* 3059.0 *bid1* 3059.0 *bid1Size* 122 *ask1* 3060.0 *ask1Size* 276\n",
      "2017-03-27 09:09:19 *last* 3060.0 *bid1* 3059.0 *bid1Size* 19 *ask1* 3060.0 *ask1Size* 273\n",
      "2017-03-27 09:09:19.500000 *last* 3059.0 *bid1* 3059.0 *bid1Size* 12 *ask1* 3060.0 *ask1Size* 304\n",
      "2017-03-27 09:09:20 *last* 3059.0 *bid1* 3058.0 *bid1Size* 282 *ask1* 3059.0 *ask1Size* 10\n",
      "2017-03-27 09:09:20.500000 *last* 3059.0 *bid1* 3058.0 *bid1Size* 266 *ask1* 3059.0 *ask1Size* 21\n",
      "2017-03-27 09:09:21 *last* 3059.0 *bid1* 3058.0 *bid1Size* 167 *ask1* 3059.0 *ask1Size* 35\n",
      "2017-03-27 09:09:21.500000 *last* 3059.0 *bid1* 3058.0 *bid1Size* 162 *ask1* 3059.0 *ask1Size* 179\n",
      "2017-03-27 09:09:22 *last* 3059.0 *bid1* 3058.0 *bid1Size* 127 *ask1* 3059.0 *ask1Size* 371\n",
      "2017-03-27 09:09:22.500000 *last* 3058.0 *bid1* 3057.0 *bid1Size* 206 *ask1* 3058.0 *ask1Size* 27\n",
      "2017-03-27 09:09:23 *last* 3057.0 *bid1* 3057.0 *bid1Size* 116 *ask1* 3058.0 *ask1Size* 30\n",
      "2017-03-27 09:09:23.500000 *last* 3057.0 *bid1* 3057.0 *bid1Size* 126 *ask1* 3058.0 *ask1Size* 183\n",
      "2017-03-27 09:09:24 *last* 3058.0 *bid1* 3057.0 *bid1Size* 35 *ask1* 3058.0 *ask1Size* 194\n",
      "2017-03-27 09:09:24.500000 *last* 3057.0 *bid1* 3056.0 *bid1Size* 261 *ask1* 3057.0 *ask1Size* 203\n",
      "2017-03-27 09:09:25 *last* 3057.0 *bid1* 3056.0 *bid1Size* 205 *ask1* 3057.0 *ask1Size* 221\n",
      "2017-03-27 09:09:25.500000 *last* 3057.0 *bid1* 3056.0 *bid1Size* 128 *ask1* 3057.0 *ask1Size* 100\n",
      "2017-03-27 09:09:26 *last* 3056.0 *bid1* 3056.0 *bid1Size* 51 *ask1* 3057.0 *ask1Size* 60\n",
      "2017-03-27 09:09:26.500000 *last* 3057.0 *bid1* 3057.0 *bid1Size* 84 *ask1* 3058.0 *ask1Size* 180\n",
      "2017-03-27 09:09:27 *last* 3057.0 *bid1* 3057.0 *bid1Size* 140 *ask1* 3058.0 *ask1Size* 171\n",
      "2017-03-27 09:09:27.500000 *last* 3057.0 *bid1* 3057.0 *bid1Size* 77 *ask1* 3058.0 *ask1Size* 177\n",
      "2017-03-27 09:09:28 *last* 3058.0 *bid1* 3058.0 *bid1Size* 343 *ask1* 3059.0 *ask1Size* 367\n",
      "2017-03-27 09:09:28.500000 *last* 3058.0 *bid1* 3058.0 *bid1Size* 344 *ask1* 3059.0 *ask1Size* 365\n",
      "2017-03-27 09:09:29 *last* 3059.0 *bid1* 3058.0 *bid1Size* 339 *ask1* 3059.0 *ask1Size* 365\n",
      "2017-03-27 09:09:29.500000 *last* 3059.0 *bid1* 3058.0 *bid1Size* 233 *ask1* 3059.0 *ask1Size* 351\n",
      "2017-03-27 09:09:30 *last* 3058.0 *bid1* 3058.0 *bid1Size* 29 *ask1* 3059.0 *ask1Size* 361\n",
      "2017-03-27 09:09:30.500000 *last* 3058.0 *bid1* 3057.0 *bid1Size* 21 *ask1* 3058.0 *ask1Size* 8\n",
      "2017-03-27 09:09:31 *last* 3058.0 *bid1* 3057.0 *bid1Size* 78 *ask1* 3058.0 *ask1Size* 51\n",
      "2017-03-27 09:09:31.500000 *last* 3057.0 *bid1* 3057.0 *bid1Size* 75 *ask1* 3058.0 *ask1Size* 100\n",
      "2017-03-27 09:09:32 *last* 3058.0 *bid1* 3057.0 *bid1Size* 60 *ask1* 3058.0 *ask1Size* 47\n",
      "2017-03-27 09:09:32.500000 *last* 3058.0 *bid1* 3058.0 *bid1Size* 6 *ask1* 3059.0 *ask1Size* 430\n",
      "2017-03-27 09:09:33 *last* 3057.0 *bid1* 3057.0 *bid1Size* 48 *ask1* 3058.0 *ask1Size* 6\n",
      "2017-03-27 09:09:33.500000 *last* 3058.0 *bid1* 3058.0 *bid1Size* 13 *ask1* 3059.0 *ask1Size* 371\n",
      "2017-03-27 09:09:34 *last* 3059.0 *bid1* 3058.0 *bid1Size* 35 *ask1* 3059.0 *ask1Size* 367\n",
      "2017-03-27 09:09:34.500000 *last* 3058.0 *bid1* 3058.0 *bid1Size* 3 *ask1* 3059.0 *ask1Size* 371\n",
      "2017-03-27 09:09:35 *last* 3057.0 *bid1* 3057.0 *bid1Size* 59 *ask1* 3058.0 *ask1Size* 1\n",
      "2017-03-27 09:09:35.500000 *last* 3057.0 *bid1* 3057.0 *bid1Size* 6 *ask1* 3058.0 *ask1Size* 6\n",
      "2017-03-27 09:09:36 *last* 3057.0 *bid1* 3057.0 *bid1Size* 60 *ask1* 3058.0 *ask1Size* 232\n",
      "2017-03-27 09:09:36.500000 *last* 3057.0 *bid1* 3056.0 *bid1Size* 268 *ask1* 3057.0 *ask1Size* 263\n",
      "2017-03-27 09:09:37 *last* 3056.0 *bid1* 3056.0 *bid1Size* 263 *ask1* 3057.0 *ask1Size* 277\n",
      "2017-03-27 09:09:37.500000 *last* 3056.0 *bid1* 3056.0 *bid1Size* 221 *ask1* 3057.0 *ask1Size* 269\n",
      "2017-03-27 09:09:38 *last* 3056.0 *bid1* 3056.0 *bid1Size* 189 *ask1* 3057.0 *ask1Size* 275\n",
      "2017-03-27 09:09:38.500000 *last* 3056.0 *bid1* 3056.0 *bid1Size* 128 *ask1* 3057.0 *ask1Size* 306\n",
      "2017-03-27 09:09:39 *last* 3058.0 *bid1* 3057.0 *bid1Size* 121 *ask1* 3058.0 *ask1Size* 281\n",
      "2017-03-27 09:09:39.500000 *last* 3057.0 *bid1* 3057.0 *bid1Size* 16 *ask1* 3058.0 *ask1Size* 284\n",
      "2017-03-27 09:09:40 *last* 3057.0 *bid1* 3056.0 *bid1Size* 176 *ask1* 3057.0 *ask1Size* 152\n",
      "2017-03-27 09:09:40.500000 *last* 3056.0 *bid1* 3056.0 *bid1Size* 180 *ask1* 3057.0 *ask1Size* 150\n",
      "2017-03-27 09:09:41 *last* 3056.0 *bid1* 3056.0 *bid1Size* 176 *ask1* 3057.0 *ask1Size* 158\n",
      "2017-03-27 09:09:41.500000 *last* 3057.0 *bid1* 3057.0 *bid1Size* 20 *ask1* 3058.0 *ask1Size* 288\n",
      "2017-03-27 09:09:42 *last* 3057.0 *bid1* 3057.0 *bid1Size* 5 *ask1* 3058.0 *ask1Size* 59\n",
      "2017-03-27 09:09:42.500000 *last* 3057.0 *bid1* 3057.0 *bid1Size* 45 *ask1* 3058.0 *ask1Size* 94\n",
      "2017-03-27 09:09:43 *last* 3058.0 *bid1* 3057.0 *bid1Size* 250 *ask1* 3058.0 *ask1Size* 101\n",
      "2017-03-27 09:09:43.500000 *last* 3057.0 *bid1* 3057.0 *bid1Size* 260 *ask1* 3058.0 *ask1Size* 96\n",
      "2017-03-27 09:09:44 *last* 3058.0 *bid1* 3057.0 *bid1Size* 211 *ask1* 3058.0 *ask1Size* 111\n",
      "2017-03-27 09:09:44.500000 *last* 3058.0 *bid1* 3057.0 *bid1Size* 151 *ask1* 3058.0 *ask1Size* 102\n",
      "2017-03-27 09:09:45 *last* 3058.0 *bid1* 3057.0 *bid1Size* 121 *ask1* 3058.0 *ask1Size* 151\n",
      "2017-03-27 09:09:45.500000 *last* 3057.0 *bid1* 3057.0 *bid1Size* 118 *ask1* 3058.0 *ask1Size* 157\n",
      "2017-03-27 09:09:46 *last* 3057.0 *bid1* 3057.0 *bid1Size* 118 *ask1* 3058.0 *ask1Size* 151\n",
      "2017-03-27 09:09:46.500000 *last* 3057.0 *bid1* 3057.0 *bid1Size* 78 *ask1* 3058.0 *ask1Size* 186\n",
      "2017-03-27 09:09:47 *last* 3058.0 *bid1* 3057.0 *bid1Size* 76 *ask1* 3058.0 *ask1Size* 205\n",
      "2017-03-27 09:09:47.500000 *last* 3058.0 *bid1* 3057.0 *bid1Size* 75 *ask1* 3058.0 *ask1Size* 195\n",
      "2017-03-27 09:09:48 *last* 3057.0 *bid1* 3057.0 *bid1Size* 36 *ask1* 3058.0 *ask1Size* 195\n",
      "2017-03-27 09:09:48.500000 *last* 3057.0 *bid1* 3056.0 *bid1Size* 97 *ask1* 3057.0 *ask1Size* 127\n",
      "2017-03-27 09:09:49 *last* 3057.0 *bid1* 3056.0 *bid1Size* 99 *ask1* 3057.0 *ask1Size* 156\n",
      "2017-03-27 09:09:49.500000 *last* 3057.0 *bid1* 3056.0 *bid1Size* 97 *ask1* 3057.0 *ask1Size* 108\n",
      "2017-03-27 09:09:50 *last* 3057.0 *bid1* 3056.0 *bid1Size* 108 *ask1* 3057.0 *ask1Size* 121\n",
      "2017-03-27 09:09:50.500000 *last* 3057.0 *bid1* 3056.0 *bid1Size* 65 *ask1* 3057.0 *ask1Size* 143\n",
      "2017-03-27 09:09:51 *last* 3057.0 *bid1* 3057.0 *bid1Size* 57 *ask1* 3058.0 *ask1Size* 264\n",
      "2017-03-27 09:09:51.500000 *last* 3057.0 *bid1* 3057.0 *bid1Size* 31 *ask1* 3058.0 *ask1Size* 292\n",
      "2017-03-27 09:09:52 *last* 3055.0 *bid1* 3055.0 *bid1Size* 803 *ask1* 3056.0 *ask1Size* 1\n",
      "2017-03-27 09:09:52.500000 *last* 3057.0 *bid1* 3057.0 *bid1Size* 87 *ask1* 3058.0 *ask1Size* 302\n",
      "2017-03-27 09:09:53 *last* 3057.0 *bid1* 3057.0 *bid1Size* 46 *ask1* 3058.0 *ask1Size* 206\n",
      "2017-03-27 09:09:53.500000 *last* 3057.0 *bid1* 3057.0 *bid1Size* 42 *ask1* 3058.0 *ask1Size* 225\n",
      "2017-03-27 09:09:54 *last* 3057.0 *bid1* 3057.0 *bid1Size* 59 *ask1* 3058.0 *ask1Size* 231\n",
      "2017-03-27 09:09:54.500000 *last* 3057.0 *bid1* 3056.0 *bid1Size* 78 *ask1* 3057.0 *ask1Size* 35\n",
      "2017-03-27 09:09:55 *last* 3056.0 *bid1* 3056.0 *bid1Size* 39 *ask1* 3057.0 *ask1Size* 55\n",
      "2017-03-27 09:09:55.500000 *last* 3056.0 *bid1* 3056.0 *bid1Size* 41 *ask1* 3057.0 *ask1Size* 194\n",
      "2017-03-27 09:09:56 *last* 3056.0 *bid1* 3055.0 *bid1Size* 799 *ask1* 3056.0 *ask1Size* 43\n",
      "2017-03-27 09:09:56.500000 *last* 3055.0 *bid1* 3055.0 *bid1Size* 717 *ask1* 3056.0 *ask1Size* 195\n",
      "2017-03-27 09:09:57 *last* 3055.0 *bid1* 3055.0 *bid1Size* 502 *ask1* 3056.0 *ask1Size* 247\n",
      "2017-03-27 09:09:57.500000 *last* 3055.0 *bid1* 3054.0 *bid1Size* 469 *ask1* 3055.0 *ask1Size* 302\n",
      "2017-03-27 09:09:58 *last* 3054.0 *bid1* 3054.0 *bid1Size* 121 *ask1* 3055.0 *ask1Size* 311\n",
      "2017-03-27 09:09:58.500000 *last* 3054.0 *bid1* 3053.0 *bid1Size* 443 *ask1* 3054.0 *ask1Size* 147\n",
      "2017-03-27 09:09:59 *last* 3054.0 *bid1* 3053.0 *bid1Size* 336 *ask1* 3054.0 *ask1Size* 232\n",
      "2017-03-27 09:09:59.500000 *last* 3054.0 *bid1* 3053.0 *bid1Size* 240 *ask1* 3054.0 *ask1Size* 258\n"
     ]
    }
   ],
   "source": [
    "client = pymongo.MongoClient('localhost', 27017)\n",
    "db = client[TICK_DB_NAME]\n",
    "collection = db['rb00.TB']\n",
    "collection.create_index('datetime')\n",
    "\n",
    "#data ={'testId':2, 'testData':'a'}\n",
    "#collection.update_many({'testId': 1}, {'$set': data}, upsert = True)\n",
    "startDatetime = datetime.strptime('2017-03-24 22:59:56', '%Y-%m-%d %H:%M:%S')\n",
    "endDatetime = datetime.strptime('2017-03-27 09:10:00', '%Y-%m-%d %H:%M:%S')\n",
    "flt = {'datetime':{'$gte':startDatetime,\n",
    "                   '$lt':endDatetime}}\n",
    "cursor = collection.find(flt)\n",
    "    \n",
    "for tick in cursor:\n",
    "    print tick['datetime'], '*last*', tick['lastPrice'], '*bid1*', tick['bidPrice1'], '*bid1Size*', tick['bidVolume1'], '*ask1*', tick['askPrice1'], '*ask1Size*', tick['askVolume1']\n"
   ]
  },
  {
   "cell_type": "code",
   "execution_count": 30,
   "metadata": {
    "collapsed": false
   },
   "outputs": [
    {
     "data": {
      "text/plain": [
       "<pymongo.results.DeleteResult at 0x97822b0>"
      ]
     },
     "execution_count": 30,
     "metadata": {},
     "output_type": "execute_result"
    }
   ],
   "source": [
    "collection.delete_many({'testId':2})"
   ]
  },
  {
   "cell_type": "code",
   "execution_count": 27,
   "metadata": {
    "collapsed": false
   },
   "outputs": [
    {
     "name": "stdout",
     "output_type": "stream",
     "text": [
      "no\n"
     ]
    }
   ],
   "source": [
    "cursor = collection.find({'testId':1})\n",
    "if cursor.count():\n",
    "    print 'yes'\n",
    "else:\n",
    "    print 'no'"
   ]
  },
  {
   "cell_type": "code",
   "execution_count": null,
   "metadata": {
    "collapsed": true
   },
   "outputs": [],
   "source": [
    "'''\n",
    "datetime\n",
    "'''"
   ]
  },
  {
   "cell_type": "code",
   "execution_count": 1,
   "metadata": {
    "collapsed": false
   },
   "outputs": [],
   "source": [
    "from datetime import datetime, time, timedelta"
   ]
  },
  {
   "cell_type": "code",
   "execution_count": 2,
   "metadata": {
    "collapsed": false
   },
   "outputs": [
    {
     "name": "stdout",
     "output_type": "stream",
     "text": [
      "2018-03-19 23:30:32.308000\n",
      "2018-03-20 23:30:32.308000\n"
     ]
    }
   ],
   "source": [
    "a = datetime.now()\n",
    "b = a + timedelta(1)\n",
    "print a\n",
    "print b"
   ]
  },
  {
   "cell_type": "code",
   "execution_count": null,
   "metadata": {
    "collapsed": false
   },
   "outputs": [],
   "source": [
    "a = False\n",
    "if not a:\n",
    "    print 'yes'"
   ]
  },
  {
   "cell_type": "code",
   "execution_count": null,
   "metadata": {
    "collapsed": true
   },
   "outputs": [],
   "source": [
    "'''\n",
    "json\n",
    "'''\n",
    "import json"
   ]
  },
  {
   "cell_type": "code",
   "execution_count": null,
   "metadata": {
    "collapsed": false
   },
   "outputs": [],
   "source": [
    "f1 = open(filePath)\n",
    "the = json.load(f1)\n",
    "for dic in the:\n",
    "    print dic['a']"
   ]
  },
  {
   "cell_type": "code",
   "execution_count": null,
   "metadata": {
    "collapsed": false
   },
   "outputs": [],
   "source": [
    "import os"
   ]
  },
  {
   "cell_type": "code",
   "execution_count": null,
   "metadata": {
    "collapsed": false
   },
   "outputs": [],
   "source": [
    "currentFolder = os.getcwd()\n",
    "print currentFolder\n",
    "newPath = os.path.join(currentFolder, '')"
   ]
  },
  {
   "cell_type": "code",
   "execution_count": null,
   "metadata": {
    "collapsed": false
   },
   "outputs": [],
   "source": [
    "d = datetime.now().strftime('Y-m-d')\n",
    "d"
   ]
  },
  {
   "cell_type": "code",
   "execution_count": null,
   "metadata": {
    "collapsed": true
   },
   "outputs": [],
   "source": [
    "'''\n",
    "pandas\n",
    "'''"
   ]
  },
  {
   "cell_type": "code",
   "execution_count": null,
   "metadata": {
    "collapsed": false
   },
   "outputs": [],
   "source": [
    "import pandas as pd\n",
    "from pandas import DataFrame\n",
    "from pandas import Series"
   ]
  },
  {
   "cell_type": "code",
   "execution_count": null,
   "metadata": {
    "collapsed": false
   },
   "outputs": [],
   "source": [
    "b = DataFrame()\n",
    "b['名称'] = []\n",
    "b['价格'] = []\n",
    "b['开盘价'] = []\n",
    "b.ix['2017-01-01'] = [1,2,3]\n",
    "b.ix['2017-01-02'] = [1,2,3]\n",
    "b.ix['2017-01-03'] = [1,2,3]\n",
    "b"
   ]
  },
  {
   "cell_type": "code",
   "execution_count": null,
   "metadata": {
    "collapsed": false
   },
   "outputs": [],
   "source": [
    "c = DataFrame()\n",
    "c['名称'] = []\n",
    "c['价格'] = []\n",
    "c['开盘价'] = []\n",
    "c.ix['2017-01-04'] = [1,2,3]\n",
    "c.ix['2017-01-05'] = [1,2,3]\n",
    "c.ix['2017-01-06'] = [1,2,3]\n",
    "c"
   ]
  },
  {
   "cell_type": "code",
   "execution_count": null,
   "metadata": {
    "collapsed": false
   },
   "outputs": [],
   "source": [
    "the = c.copy()\n",
    "for index in b.index:\n",
    "    if index not in c.index:\n",
    "        c.ix[index] = 0\n",
    "\n",
    "for index in the.index:\n",
    "    if index not in b.index:\n",
    "        b.ix[index] = 0\n",
    "\n",
    "print b\n",
    "print '\\n'\n",
    "print c"
   ]
  },
  {
   "cell_type": "code",
   "execution_count": null,
   "metadata": {
    "collapsed": false
   },
   "outputs": [],
   "source": [
    "d = b + c\n",
    "d = d.dropna()\n",
    "d"
   ]
  },
  {
   "cell_type": "code",
   "execution_count": null,
   "metadata": {
    "collapsed": true
   },
   "outputs": [],
   "source": [
    "fileName = 'abc.csv'"
   ]
  },
  {
   "cell_type": "code",
   "execution_count": null,
   "metadata": {
    "collapsed": true
   },
   "outputs": [],
   "source": [
    "b.to_csv(fileName, encoding = 'utf-8')"
   ]
  },
  {
   "cell_type": "code",
   "execution_count": null,
   "metadata": {
    "collapsed": false
   },
   "outputs": [],
   "source": [
    "c = pd.read_csv(fileName, encoding = 'utf-8')\n",
    "c"
   ]
  },
  {
   "cell_type": "code",
   "execution_count": null,
   "metadata": {
    "collapsed": true
   },
   "outputs": [],
   "source": [
    "'''\n",
    "csv\n",
    "'''"
   ]
  },
  {
   "cell_type": "code",
   "execution_count": null,
   "metadata": {
    "collapsed": true
   },
   "outputs": [],
   "source": [
    "import csv\n",
    "import codecs"
   ]
  },
  {
   "cell_type": "code",
   "execution_count": null,
   "metadata": {
    "collapsed": true
   },
   "outputs": [],
   "source": [
    "fileName = 'abc.csv'"
   ]
  },
  {
   "cell_type": "code",
   "execution_count": null,
   "metadata": {
    "collapsed": false
   },
   "outputs": [],
   "source": [
    "# 写\n",
    "f = file(fileName, 'wb')\n",
    "f.write(codecs.BOM_UTF8)\n",
    "\n",
    "fieldnames = [u'a', 'last_name']\n",
    "writer = csv.DictWriter(f, fieldnames=fieldnames)\n",
    "\n",
    "writer.writeheader()\n",
    "writer.writerow({'a': '和', 'last_name': '啊'})"
   ]
  },
  {
   "cell_type": "code",
   "execution_count": null,
   "metadata": {
    "collapsed": false
   },
   "outputs": [],
   "source": [
    "# 读\n",
    "with open(fileName) as f:\n",
    "    reader = csv.DictReader(f)\n",
    "    the = []\n",
    "    for row in reader:\n",
    "        the.append(row)\n",
    "    print the"
   ]
  },
  {
   "cell_type": "code",
   "execution_count": null,
   "metadata": {
    "collapsed": true
   },
   "outputs": [],
   "source": [
    "'''\n",
    "os\n",
    "'''"
   ]
  },
  {
   "cell_type": "code",
   "execution_count": null,
   "metadata": {
    "collapsed": true
   },
   "outputs": [],
   "source": [
    "import os"
   ]
  },
  {
   "cell_type": "code",
   "execution_count": null,
   "metadata": {
    "collapsed": false
   },
   "outputs": [],
   "source": [
    "exists = os.path.exists(fileName)\n",
    "print exists\n",
    "print os.getcwd()\n",
    "newFileName = os.getcwd() + '\\clone\\\\abc.csv'\n",
    "print newFileName\n",
    "print os.path.exists(newFileName)"
   ]
  },
  {
   "cell_type": "code",
   "execution_count": null,
   "metadata": {
    "collapsed": false
   },
   "outputs": [],
   "source": [
    "dic = {'a':1, 'b':2, 'c':3}\n",
    "print dic.keys()\n",
    "print type(dic.keys())"
   ]
  },
  {
   "cell_type": "code",
   "execution_count": null,
   "metadata": {
    "collapsed": false
   },
   "outputs": [],
   "source": [
    "walkingDic = 'C:\\\\Users'\n",
    "for root, subdirs, files in os.walk(walkingDic):\n",
    "    for sub in subdirs:\n",
    "        if sub == 'stgEarningCSV':\n",
    "            print root"
   ]
  },
  {
   "cell_type": "code",
   "execution_count": null,
   "metadata": {
    "collapsed": true
   },
   "outputs": [],
   "source": [
    "'''\n",
    "MongoDB\n",
    "'''"
   ]
  },
  {
   "cell_type": "code",
   "execution_count": 5,
   "metadata": {
    "collapsed": false
   },
   "outputs": [],
   "source": [
    "import pymongo\n",
    "from datetime import datetime\n",
    "from vnpy.trader.app.ctaStrategy.ctaBase import TICK_DB_NAME\n",
    "from copy import copy\n",
    "from time import time"
   ]
  },
  {
   "cell_type": "code",
   "execution_count": 10,
   "metadata": {
    "collapsed": false,
    "scrolled": true
   },
   "outputs": [
    {
     "name": "stdout",
     "output_type": "stream",
     "text": [
      "2017-06-27 22:29:00\n",
      "2017-06-27 22:58:00\n",
      "2017-06-28 09:00:00\n",
      "2017-06-28 09:29:00\n",
      "2017-06-28 09:58:00\n",
      "2017-06-28 10:58:00\n",
      "2017-06-28 11:29:00\n",
      "2017-06-28 13:58:00\n",
      "2017-06-28 14:29:00\n",
      "2017-06-28 14:58:00\n",
      "2017-06-28 21:29:00\n",
      "11\n",
      "0.0169999599457\n"
     ]
    }
   ],
   "source": [
    "code = 'rb00.TB'\n",
    "#code = 'i00.TB'\n",
    "startDate = datetime.strptime('2017-06-27 22:29:00', '%Y-%m-%d %H:%M:%S')\n",
    "endDate = datetime.strptime('2015-06-06 23:59:00', '%Y-%m-%d %H:%M:%S')\n",
    "client = pymongo.MongoClient('localhost', 27017)\n",
    "db = client['VnTrader_29Min_Db']\n",
    "#db = client['VnTrader_Tick_Db']\n",
    "collection = db[code]\n",
    "collection.create_index('datetime')\n",
    "#flt = {'datetime':{'$gte':startDate, '$lt':endDate}} \n",
    "flt = {'datetime':{'$gte':startDate}} \n",
    "data = collection.find(flt).sort('datetime')\n",
    "\n",
    "start = time()\n",
    "for dic in data:\n",
    "    print dic['datetime']\n",
    "print data.count()\n",
    "print time() - start\n"
   ]
  },
  {
   "cell_type": "code",
   "execution_count": 32,
   "metadata": {
    "collapsed": false,
    "scrolled": true
   },
   "outputs": [
    {
     "name": "stdout",
     "output_type": "stream",
     "text": [
      "2018-03-19 21:19:27.438000\n",
      "<type 'str'>\n"
     ]
    }
   ],
   "source": [
    "a = datetime.now()\n",
    "b = str(a)\n",
    "print b\n",
    "print type(b)"
   ]
  },
  {
   "cell_type": "code",
   "execution_count": 6,
   "metadata": {
    "collapsed": false,
    "scrolled": false
   },
   "outputs": [
    {
     "name": "stdout",
     "output_type": "stream",
     "text": [
      "2015-09-21 21:00:00.500000\n",
      "1906.0\n",
      "\n",
      "\n",
      "2015-09-21 21:00:01\n",
      "1907.0\n",
      "\n",
      "\n",
      "2015-09-21 21:00:01.500000\n",
      "1906.0\n",
      "\n",
      "\n"
     ]
    }
   ],
   "source": [
    "code = 'rb00.TB'\n",
    "startDate = datetime.strptime('2015-09-21 21:00:00', '%Y-%m-%d %H:%M:%S')\n",
    "endDate = datetime.strptime('2015-09-21 21:00:02', '%Y-%m-%d %H:%M:%S')\n",
    "client = pymongo.MongoClient('localhost', 27017)\n",
    "collection = client[TICK_DB_NAME][code]\n",
    "flt = {'datetime':{'$gte':startDate,\n",
    "                   '$lt':endDate}}        \n",
    "data = collection.find(flt).sort('datetime')\n",
    "for dic in data:\n",
    "    print dic['datetime']\n",
    "    print dic['lastPrice']\n",
    "    print '\\n'"
   ]
  },
  {
   "cell_type": "code",
   "execution_count": 2,
   "metadata": {
    "collapsed": false
   },
   "outputs": [
    {
     "name": "stdout",
     "output_type": "stream",
     "text": [
      "2011-11-01 09:00:00.500000\n"
     ]
    }
   ],
   "source": [
    "from datetime import datetime\n",
    "day = '20111101'\n",
    "time = '90000500000'\n",
    "dayTime = day + ' ' + time\n",
    "dt = datetime.strptime(dayTime, '%Y%m%d %H%M%S%f')\n",
    "print dt"
   ]
  },
  {
   "cell_type": "code",
   "execution_count": null,
   "metadata": {
    "collapsed": true
   },
   "outputs": [],
   "source": [
    "'''\n",
    "threading\n",
    "'''"
   ]
  },
  {
   "cell_type": "code",
   "execution_count": 6,
   "metadata": {
    "collapsed": true
   },
   "outputs": [],
   "source": [
    "from time import ctime, sleep\n",
    "import threading"
   ]
  },
  {
   "cell_type": "code",
   "execution_count": 40,
   "metadata": {
    "collapsed": false
   },
   "outputs": [],
   "source": [
    "class MyThread(threading.Thread):\n",
    "    def __init__(self, func, args = ()):\n",
    "        super(MyThread, self).__init__()\n",
    "        self.func = func\n",
    "        self.args = args\n",
    "    \n",
    "    def run(self):\n",
    "        self.result = self.func(*self.args)\n",
    "    \n",
    "    \n",
    "    def get_result(self):\n",
    "        try:\n",
    "            return self.result\n",
    "        except Exception:\n",
    "            return None\n",
    "        "
   ]
  },
  {
   "cell_type": "code",
   "execution_count": 46,
   "metadata": {
    "collapsed": false
   },
   "outputs": [
    {
     "name": "stdout",
     "output_type": "stream",
     "text": [
      "arg: 0\n",
      "====================\n",
      "[] \n",
      "\n",
      "arg: 1\n",
      "abc: 0\n",
      "abc: 1\n"
     ]
    }
   ],
   "source": [
    "def action(arg):\n",
    "    print 'arg:', arg\n",
    "    sleep(6)\n",
    "    print 'abc:', arg\n",
    "    return arg\n",
    "\n",
    "tList =  []\n",
    "dfList = []\n",
    "for i in range(2):\n",
    "    t = MyThread(action, args = (str(i)))\n",
    "    tList.append(t)\n",
    "    t.start()\n",
    "    \n",
    "for t in tList:\n",
    "    print 'abcxyz'\n",
    "    dfList.append(t.get_result())\n",
    "    t.join()\n",
    "\n",
    "print '='*20\n",
    "print dfList, '\\n'"
   ]
  },
  {
   "cell_type": "code",
   "execution_count": 47,
   "metadata": {
    "collapsed": false
   },
   "outputs": [
    {
     "name": "stdout",
     "output_type": "stream",
     "text": [
      "arg: x\n",
      "arg: y\n",
      "abc: x\n",
      "abc: y\n",
      "main\n"
     ]
    }
   ],
   "source": [
    "threads = []\n",
    "t1 = threading.Thread(target = action, args = ('x'))\n",
    "threads.append(t1)\n",
    "t1.start()\n",
    "\n",
    "t2 = threading.Thread(target = action, args = ('y'))\n",
    "threads.append(t2)\n",
    "t2.start()\n",
    "\n",
    "for t in threads:\n",
    "    #t.setDaemon(True)\n",
    "    #t.start()\n",
    "    t.join()\n",
    "print 'main'"
   ]
  },
  {
   "cell_type": "code",
   "execution_count": null,
   "metadata": {
    "collapsed": true
   },
   "outputs": [],
   "source": [
    "'''\n",
    "datetime\n",
    "'''"
   ]
  },
  {
   "cell_type": "code",
   "execution_count": 11,
   "metadata": {
    "collapsed": true
   },
   "outputs": [],
   "source": [
    "from datetime import datetime, time, timedelta"
   ]
  },
  {
   "cell_type": "code",
   "execution_count": 14,
   "metadata": {
    "collapsed": false
   },
   "outputs": [
    {
     "name": "stdout",
     "output_type": "stream",
     "text": [
      "09:31:49.402000\n",
      "09:32:49.402000\n",
      "09:33:49.402000\n"
     ]
    }
   ],
   "source": [
    "nowTime = datetime.now().time()\n",
    "startMinute = nowTime.minute\n",
    "startHour = nowTime.hour\n",
    "startMinute += 1\n",
    "if startMinute >= 60:\n",
    "    startMinute = 0\n",
    "    startHour += 1\n",
    "        \n",
    "endMinute = startMinute + 1\n",
    "endHour =  startHour\n",
    "if endMinute >= 60:\n",
    "    endMinute = 0\n",
    "    endHour += 1\n",
    "        \n",
    "startTime = nowTime.replace(hour=startHour, minute=startMinute)\n",
    "endTime = nowTime.replace(hour=endHour, minute=endMinute)\n",
    "\n",
    "print nowTime\n",
    "print startTime\n",
    "print endTime"
   ]
  },
  {
   "cell_type": "code",
   "execution_count": 1,
   "metadata": {
    "collapsed": true
   },
   "outputs": [],
   "source": [
    "from datetime import datetime"
   ]
  },
  {
   "cell_type": "code",
   "execution_count": 8,
   "metadata": {
    "collapsed": false
   },
   "outputs": [
    {
     "name": "stdout",
     "output_type": "stream",
     "text": [
      "2017-05-11 11:30:00.500000\n"
     ]
    }
   ],
   "source": [
    "timeStr = '113000500'\n",
    "the = datetime.strptime(timeStr, '%H%M%S%f')\n",
    "time = the.strftime('%H:%M:%S.%f')\n",
    "\n",
    "dateStr = '20170511'\n",
    "\n",
    "the = datetime.strptime(dateStr + ' ' + time, '%Y%m%d %H:%M:%S.%f')\n",
    "print the"
   ]
  },
  {
   "cell_type": "code",
   "execution_count": 5,
   "metadata": {
    "collapsed": true
   },
   "outputs": [],
   "source": [
    "from datetime import time"
   ]
  },
  {
   "cell_type": "code",
   "execution_count": 7,
   "metadata": {
    "collapsed": false
   },
   "outputs": [
    {
     "name": "stdout",
     "output_type": "stream",
     "text": [
      "<type 'datetime.time'>\n"
     ]
    }
   ],
   "source": [
    "a = time(6, 6, 6)\n",
    "print time"
   ]
  },
  {
   "cell_type": "code",
   "execution_count": null,
   "metadata": {
    "collapsed": true
   },
   "outputs": [],
   "source": [
    "'''\n",
    "str\n",
    "'''"
   ]
  },
  {
   "cell_type": "code",
   "execution_count": 4,
   "metadata": {
    "collapsed": false
   },
   "outputs": [
    {
     "name": "stdout",
     "output_type": "stream",
     "text": [
      ".abc.index\n"
     ]
    }
   ],
   "source": [
    "a = '.abc.index'\n",
    "if a.endswith('.index'):\n",
    "    print a\n",
    "else:\n",
    "    print 'no'"
   ]
  },
  {
   "cell_type": "code",
   "execution_count": 12,
   "metadata": {
    "collapsed": false
   },
   "outputs": [
    {
     "data": {
      "text/plain": [
       "0"
      ]
     },
     "execution_count": 12,
     "metadata": {},
     "output_type": "execute_result"
    }
   ],
   "source": [
    "b = a.index('.')\n",
    "b"
   ]
  },
  {
   "cell_type": "code",
   "execution_count": 19,
   "metadata": {
    "collapsed": true
   },
   "outputs": [],
   "source": [
    "import datetime"
   ]
  },
  {
   "cell_type": "code",
   "execution_count": 8,
   "metadata": {
    "collapsed": false
   },
   "outputs": [
    {
     "name": "stdout",
     "output_type": "stream",
     "text": [
      "00:10:00\n"
     ]
    }
   ],
   "source": [
    "timeStr = '1000000'\n",
    "theLen = len(timeStr)\n",
    "if theLen < 9:\n",
    "    sub = 9 - theLen\n",
    "    timeStr = '0'*sub + timeStr\n",
    "tickTime = datetime.datetime.strptime(timeStr, '%H%M%S%f').time()\n",
    "print tickTime"
   ]
  },
  {
   "cell_type": "code",
   "execution_count": 1,
   "metadata": {
    "collapsed": false
   },
   "outputs": [
    {
     "name": "stdout",
     "output_type": "stream",
     "text": [
      "21\n",
      "00\n",
      "60\n",
      "000\n"
     ]
    }
   ],
   "source": [
    "timeStr = '210060000'\n",
    "hour = timeStr[0:2]\n",
    "minute = timeStr[2:4]\n",
    "second = timeStr[4:6]\n",
    "microSecond = timeStr[6:9]\n",
    "print hour\n",
    "print minute\n",
    "print second\n",
    "print microSecond"
   ]
  },
  {
   "cell_type": "code",
   "execution_count": 31,
   "metadata": {
    "collapsed": false
   },
   "outputs": [
    {
     "name": "stdout",
     "output_type": "stream",
     "text": [
      "VnTrader_2Min_Db\n"
     ]
    }
   ],
   "source": [
    "kLine =  2\n",
    "barDbName = 'VnTrader_%ldMin_Db' % kLine\n",
    "print barDbName"
   ]
  },
  {
   "cell_type": "code",
   "execution_count": 75,
   "metadata": {
    "collapsed": false
   },
   "outputs": [
    {
     "name": "stdout",
     "output_type": "stream",
     "text": [
      "1 2 3\n",
      "4 5 6\n"
     ]
    }
   ],
   "source": [
    "a = [1, 2, 3]\n",
    "b = [4, 5, 6]\n",
    "data = [a, b]\n",
    "for x, y, z in data:\n",
    "    print x, y, z"
   ]
  },
  {
   "cell_type": "code",
   "execution_count": null,
   "metadata": {
    "collapsed": true
   },
   "outputs": [],
   "source": [
    "'''\n",
    "os\n",
    "'''"
   ]
  },
  {
   "cell_type": "code",
   "execution_count": 8,
   "metadata": {
    "collapsed": true
   },
   "outputs": [],
   "source": [
    "import os"
   ]
  },
  {
   "cell_type": "code",
   "execution_count": 12,
   "metadata": {
    "collapsed": false
   },
   "outputs": [
    {
     "name": "stdout",
     "output_type": "stream",
     "text": [
      "['All Users', 'Default', 'Default User', 'desktop.ini', 'Public', 'Rachel']\n"
     ]
    }
   ],
   "source": [
    "#a = os.path.dirname(\"C:\\\\Users\")\n",
    "a = os.listdir(\"C:\\\\Users\") \n",
    "print a"
   ]
  },
  {
   "cell_type": "code",
   "execution_count": 7,
   "metadata": {
    "collapsed": false
   },
   "outputs": [
    {
     "name": "stdout",
     "output_type": "stream",
     "text": [
      "yes\n",
      "ok\n"
     ]
    }
   ],
   "source": [
    "a = 1\n",
    "if True:\n",
    "    if a == 1:\n",
    "        print 'yes'\n",
    "        pass\n",
    "    print 'ok'"
   ]
  },
  {
   "cell_type": "code",
   "execution_count": 8,
   "metadata": {
    "collapsed": true
   },
   "outputs": [],
   "source": [
    "from datetime import datetime, time"
   ]
  },
  {
   "cell_type": "code",
   "execution_count": 17,
   "metadata": {
    "collapsed": false
   },
   "outputs": [
    {
     "name": "stdout",
     "output_type": "stream",
     "text": [
      "2018-03-21 00:00:00\n",
      "23:59:00\n"
     ]
    }
   ],
   "source": [
    "a = datetime.now().replace(hour = 0, minute = 0, second = 0, microsecond = 0)\n",
    "b = time(23, 59, 0)\n",
    "print a\n",
    "print b"
   ]
  },
  {
   "cell_type": "code",
   "execution_count": null,
   "metadata": {
    "collapsed": true
   },
   "outputs": [],
   "source": []
  }
 ],
 "metadata": {
  "kernelspec": {
   "display_name": "Python 2",
   "language": "python",
   "name": "python2"
  },
  "language_info": {
   "codemirror_mode": {
    "name": "ipython",
    "version": 2
   },
   "file_extension": ".py",
   "mimetype": "text/x-python",
   "name": "python",
   "nbconvert_exporter": "python",
   "pygments_lexer": "ipython2",
   "version": "2.7.13"
  }
 },
 "nbformat": 4,
 "nbformat_minor": 0
}
