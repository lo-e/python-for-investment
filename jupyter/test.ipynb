{
 "cells": [
  {
   "cell_type": "code",
   "execution_count": 1,
   "metadata": {},
   "outputs": [],
   "source": [
    "import re\n",
    "from vnpy.trader.constant import Exchange\n",
    "from vnpy.app.cta_strategy.base import EXCHANGE_SYMBOL_DICT\n",
    "from datetime import datetime, timedelta"
   ]
  },
  {
   "cell_type": "code",
   "execution_count": 36,
   "metadata": {},
   "outputs": [
    {
     "name": "stdout",
     "output_type": "stream",
     "text": [
      "2000\n"
     ]
    }
   ],
   "source": [
    "fromDate = datetime.strptime('2012-6-10', '%Y-%m-%d')\n",
    "toDate = datetime.strptime('2017-12-01', '%Y-%m-%d')\n",
    "\n",
    "count = 0\n",
    "while fromDate.date() != toDate.date():\n",
    "    count += 1\n",
    "    fromDate = fromDate + timedelta(1)\n",
    "\n",
    "print(count)"
   ]
  },
  {
   "cell_type": "code",
   "execution_count": 16,
   "metadata": {},
   "outputs": [
    {
     "name": "stdout",
     "output_type": "stream",
     "text": [
      "1563864223\n"
     ]
    }
   ],
   "source": [
    "# 当前时间戳\n",
    "import time\n",
    "a = int(time.time())\n",
    "print(a)"
   ]
  },
  {
   "cell_type": "code",
   "execution_count": 59,
   "metadata": {},
   "outputs": [
    {
     "name": "stdout",
     "output_type": "stream",
     "text": [
      "2017-12-01 22:00:00\n"
     ]
    }
   ],
   "source": [
    "# 时间戳转时间\n",
    "timeStamp = 1512136800\n",
    "date = datetime.fromtimestamp(timeStamp)\n",
    "print(date)"
   ]
  },
  {
   "cell_type": "code",
   "execution_count": 23,
   "metadata": {},
   "outputs": [
    {
     "name": "stdout",
     "output_type": "stream",
     "text": [
      "1563580800.0\n"
     ]
    }
   ],
   "source": [
    "# 时间转时间戳\n",
    "a = '2019-07-20 08:00:00'\n",
    "b = datetime.strptime(a, '%Y-%m-%d %H:%M:%S')\n",
    "print(b.timestamp())"
   ]
  },
  {
   "cell_type": "code",
   "execution_count": 4,
   "metadata": {},
   "outputs": [
    {
     "name": "stdout",
     "output_type": "stream",
     "text": [
      "dict_keys(['Ethfinex', 'DSX', 'Coinnest', 'IDEX', 'Bitlish', 'CoinEx', 'Buda', 'CoinsBank', 'Braziliex', 'Upbit', 'Neraex', 'BTCTurk', 'BitMart', 'Bibox', 'DDEX', 'ZB', 'LBank', 'SingularityX', 'Simex', 'Nebula', 'Bluebelt', 'RightBTC', 'WorldCryptoCap', 'ABCC', 'OpenLedger', 'WEX', 'BitexBook', 'CryptoCarbon', 'BigONE', 'CoinBene', 'FCoin', 'Kuna', 'Tokenomy', 'IDAX', 'CoinHub', 'Nexchange', 'Hikenex', 'Qryptos', 'BTCBOX', 'HADAX', 'CryptoBulls', 'IndependentReserve', 'Bitmex', 'DEx', 'Ironex', 'Zecoex', 'Nlexch', 'Globitex', 'Ore', 'Bitinfi', 'CoinJar', 'TDAX', 'CoinFalcon', 'ACX', 'Bitsane', 'BTCAlpha', 'FCCE', 'InstantBitex', 'Gneiss', 'Cryptonit', 'CoinPulse', 'Bitforex', 'Liqnet', 'BCEX', 'Liquid', 'Minebit', 'IQFinex', 'P2PB2B', 'StocksExchange', 'iCoinbay', 'CoinTiger', 'Threexbit', 'cobinhood', 'Switcheo', 'Bitkub', 'Everbloom', 'EXRATES', 'Coinsbit', 'NDAX', 'DigiFinex', 'Bitshares', 'Coinmate', 'Incorex', 'Ethermium', 'Nuex', 'Blackturtle', 'Catex', 'Exenium', 'StocksExchangeio', 'SafeCoin', 'XS2', 'bw', 'CryptoExchangeWS', 'smartrade', 'alphaex', 'Bitpoint', 'Binanceje', 'Bgogo', 'xena', 'chainrift', 'trxmarket', 'aliexchange', 'fatbtc', 'bitmax', 'coss', 'huobijapan', 'huobikorea', 'crex24', 'gopax', 'Binance', 'Bitstamp', 'BitTrex', 'BTER', 'Poloniex', 'Kraken', 'Bitfinex', 'Cexio', 'Yacuna', 'Coinbase', 'LocalBitcoins', 'itBit', 'BTC38', 'Coinfloor', 'BTCExchange', 'hbus', 'LakeBTC', 'Bit2C', 'CCEX', 'Gatecoin', 'Yunbi', 'WavesDEX', 'Gemini', 'CCEDK', 'Cryptopia', 'Exmo', 'Yobit', 'BitBay', 'Korbit', 'BTCMarkets', 'Coincheck', 'QuadrigaCX', 'BitSquare', 'Vaultoro', 'MercadoBitcoin', 'Unocoin', 'Bitso', 'BTCXIndia', 'Paymium', 'TheRockTrading', 'bitFlyer', 'Quoine', 'Liqui', 'Luno', 'CryptoX', 'EtherDelta', 'TuxExchange', 'CHBTC', 'bitFlyerFX', 'LiveCoin', 'Tidex', 'CoinCorner', 'BitMarket', 'Coinone', 'Bleutrade', 'EthexIndia', 'Surbitcoin', 'Bithumb', 'Foxbit', 'Zaif', 'Jubi', 'ViaBTC', 'Lykke', 'Remitano', 'Coinroom', 'Abucoins', 'BXinth', 'HuobiPro', 'OKEX', 'Gateio', 'TrustDEX', 'EXX', 'Kucoin', 'BitGrail', 'BitZ', 'BitFlip', 'TradeSatoshi', 'Coincap', 'ChileBit', 'VBTC', 'Velox', 'Graviex', 'ExtStock', 'BitBank', 'CoinDeal', 'AidosMarket', 'TokenStore', 'Novaexchange', 'OKCoin', 'idevex', 'bingcoins', 'coinall', 'coinzest', 'eidoo', 'oex', 'bitci', 'primexbt', 'ataix', 'coinfield', 'HitBTC', 'raidofinance', 'Codex', 'ZBG'])\n"
     ]
    }
   ],
   "source": [
    "import requests\n",
    "URL_EXCHANGES = 'https://www.cryptocompare.com/api/data/exchanges'\n",
    "response = requests.get(URL_EXCHANGES).json()\n",
    "data = response['Data']\n",
    "print(data.keys())"
   ]
  },
  {
   "cell_type": "code",
   "execution_count": 31,
   "metadata": {},
   "outputs": [],
   "source": [
    "from dingtalkchatbot.chatbot import DingtalkChatbot, CardItem, ActionCard"
   ]
  },
  {
   "cell_type": "code",
   "execution_count": 25,
   "metadata": {},
   "outputs": [
    {
     "data": {
      "text/plain": [
       "{'errcode': 0, 'errmsg': 'ok'}"
      ]
     },
     "execution_count": 25,
     "metadata": {},
     "output_type": "execute_result"
    }
   ],
   "source": [
    "# WebHook地址\n",
    "webhook = 'https://oapi.dingtalk.com/robot/send?access_token=172b612fdf3d84608aecf0fb310022bd07ae418e841c1d82c51929857324610c'\n",
    "# 初始化机器人小丁\n",
    "xiaoding = DingtalkChatbot(webhook)\n",
    "# Text消息@所有人\n",
    "at_mobiles = ['18521705317', '18116350794']\n",
    "xiaoding.send_text(msg='交易管家来啦！', at_mobiles=at_mobiles)"
   ]
  },
  {
   "cell_type": "code",
   "execution_count": 40,
   "metadata": {},
   "outputs": [
    {
     "data": {
      "text/plain": [
       "{'errcode': 0, 'errmsg': 'ok'}"
      ]
     },
     "execution_count": 40,
     "metadata": {},
     "output_type": "execute_result"
    }
   ],
   "source": [
    "# ActionCard整体跳转消息类型\n",
    "btns1 = [CardItem(title=\"ok\", url=\"https://www.dingtalk.com/\")]\n",
    "actioncard1 = ActionCard(title='万万没想到，竟然...',\n",
    "                             text='![选择](http://www.songshan.es/wp-content/uploads/2016/01/Yin-Yang.png) \\n### YES',\n",
    "                             btns=btns1,\n",
    "                             btn_orientation=1,\n",
    "                             hide_avatar=0)\n",
    "xiaoding.send_action_card(actioncard1)"
   ]
  },
  {
   "cell_type": "code",
   "execution_count": 46,
   "metadata": {},
   "outputs": [
    {
     "data": {
      "text/plain": [
       "{'errcode': 0, 'errmsg': 'ok'}"
      ]
     },
     "execution_count": 46,
     "metadata": {},
     "output_type": "execute_result"
    }
   ],
   "source": [
    "# ActionCard独立跳转消息类型（列表选项）\n",
    "btns3 = [CardItem(title=\"支持\", url=\"https://www.dingtalk.com/\"), CardItem(title=\"中立\", url=\"https://www.dingtalk.com/\"), CardItem(title=\"反对\", url=\"https://www.dingtalk.com/\"), CardItem(title=\"OK\", url=\"https://www.dingtalk.com/\"), CardItem(title=\"YES\", url=\"https://www.dingtalk.com/\"), CardItem(title=\"GOOD\", url=\"https://www.dingtalk.com/\")]\n",
    "actioncard3 = ActionCard(title='万万没想到，竟然...',\n",
    "                             text='![选择](http://www.songshan.es/wp-content/uploads/2016/01/Yin-Yang.png) \\n### 故事是这样子的...',\n",
    "                             btns=btns3,\n",
    "                             btn_orientation=1,\n",
    "                             hide_avatar=1)\n",
    "xiaoding.send_action_card(actioncard3)"
   ]
  },
  {
   "cell_type": "code",
   "execution_count": null,
   "metadata": {},
   "outputs": [],
   "source": []
  }
 ],
 "metadata": {
  "kernelspec": {
   "display_name": "Python 3",
   "language": "python",
   "name": "python3"
  },
  "language_info": {
   "codemirror_mode": {
    "name": "ipython",
    "version": 3
   },
   "file_extension": ".py",
   "mimetype": "text/x-python",
   "name": "python",
   "nbconvert_exporter": "python",
   "pygments_lexer": "ipython3",
   "version": "3.7.3"
  }
 },
 "nbformat": 4,
 "nbformat_minor": 1
}
