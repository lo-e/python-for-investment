{
 "cells": [
  {
   "cell_type": "code",
   "execution_count": 1,
   "metadata": {},
   "outputs": [],
   "source": [
    "import re\n",
    "from vnpy.trader.constant import Exchange\n",
    "from vnpy.app.cta_strategy.base import EXCHANGE_SYMBOL_DICT\n",
    "from datetime import datetime, timedelta"
   ]
  },
  {
   "cell_type": "code",
   "execution_count": 36,
   "metadata": {},
   "outputs": [
    {
     "name": "stdout",
     "output_type": "stream",
     "text": [
      "2000\n"
     ]
    }
   ],
   "source": [
    "fromDate = datetime.strptime('2012-6-10', '%Y-%m-%d')\n",
    "toDate = datetime.strptime('2017-12-01', '%Y-%m-%d')\n",
    "\n",
    "count = 0\n",
    "while fromDate.date() != toDate.date():\n",
    "    count += 1\n",
    "    fromDate = fromDate + timedelta(1)\n",
    "\n",
    "print(count)"
   ]
  },
  {
   "cell_type": "code",
   "execution_count": 16,
   "metadata": {},
   "outputs": [
    {
     "name": "stdout",
     "output_type": "stream",
     "text": [
      "1563864223\n"
     ]
    }
   ],
   "source": [
    "# 当前时间戳\n",
    "import time\n",
    "a = int(time.time())\n",
    "print(a)"
   ]
  },
  {
   "cell_type": "code",
   "execution_count": 59,
   "metadata": {},
   "outputs": [
    {
     "name": "stdout",
     "output_type": "stream",
     "text": [
      "2017-12-01 22:00:00\n"
     ]
    }
   ],
   "source": [
    "# 时间戳转时间\n",
    "timeStamp = 1512136800\n",
    "date = datetime.fromtimestamp(timeStamp)\n",
    "print(date)"
   ]
  },
  {
   "cell_type": "code",
   "execution_count": 23,
   "metadata": {},
   "outputs": [
    {
     "name": "stdout",
     "output_type": "stream",
     "text": [
      "1563580800.0\n"
     ]
    }
   ],
   "source": [
    "# 时间转时间戳\n",
    "a = '2019-07-20 08:00:00'\n",
    "b = datetime.strptime(a, '%Y-%m-%d %H:%M:%S')\n",
    "print(b.timestamp())"
   ]
  },
  {
   "cell_type": "code",
   "execution_count": 3,
   "metadata": {},
   "outputs": [
    {
     "name": "stdout",
     "output_type": "stream",
     "text": [
      "dict_keys(['decoin', 'Binance', 'Bitstamp', 'BitTrex', 'OKCoin', 'BTER', 'Kraken', 'Cexio', 'Yacuna', 'Coinbase', 'LocalBitcoins', 'itBit', 'HitBTC', 'BTC38', 'Coinfloor', 'BTCExchange', 'hbus', 'LakeBTC', 'Bit2C', 'CCEX', 'Gatecoin', 'Yunbi', 'WavesDEX', 'CCEDK', 'Cryptopia', 'Exmo', 'Yobit', 'BitBay', 'Korbit', 'BTCMarkets', 'Coincheck', 'QuadrigaCX', 'BitSquare', 'Vaultoro', 'MercadoBitcoin', 'Unocoin', 'Bitso', 'BTCXIndia', 'Paymium', 'TheRockTrading', 'bitFlyer', 'Quoine', 'Liqui', 'Luno', 'CryptoX', 'EtherDelta', 'TuxExchange', 'CHBTC', 'bitFlyerFX', 'LiveCoin', 'Tidex', 'CoinCorner', 'BitMarket', 'Coinone', 'Bleutrade', 'EthexIndia', 'Surbitcoin', 'Bithumb', 'Foxbit', 'Zaif', 'Jubi', 'ViaBTC', 'Novaexchange', 'Lykke', 'Remitano', 'Coinroom', 'Abucoins', 'BXinth', 'HuobiPro', 'OKEX', 'Gateio', 'TrustDEX', 'EXX', 'Kucoin', 'BitGrail', 'BitZ', 'BitFlip', 'TradeSatoshi', 'Coincap', 'ChileBit', 'VBTC', 'Velox', 'Graviex', 'ExtStock', 'BitBank', 'CoinDeal', 'AidosMarket', 'TokenStore', 'Ethfinex', 'DSX', 'Coinnest', 'IDEX', 'Bitlish', 'CoinEx', 'Buda', 'CoinsBank', 'Braziliex', 'Upbit', 'Neraex', 'BTCTurk', 'BitMart', 'Bibox', 'DDEX', 'ZB', 'LBank', 'SingularityX', 'Simex', 'Nebula', 'Bluebelt', 'RightBTC', 'WorldCryptoCap', 'ABCC', 'OpenLedger', 'WEX', 'BitexBook', 'CryptoCarbon', 'BigONE', 'CoinBene', 'FCoin', 'Kuna', 'Tokenomy', 'IDAX', 'CoinHub', 'Nexchange', 'Hikenex', 'Qryptos', 'BTCBOX', 'HADAX', 'CryptoBulls', 'IndependentReserve', 'Bitmex', 'Codex', 'DEx', 'Ironex', 'Zecoex', 'Nlexch', 'Globitex', 'Ore', 'Bitinfi', 'CoinJar', 'TDAX', 'CoinFalcon', 'ACX', 'Bitsane', 'BTCAlpha', 'FCCE', 'InstantBitex', 'Gneiss', 'Cryptonit', 'CoinPulse', 'bkex', 'Bitforex', 'Liqnet', 'BCEX', 'Liquid', 'Minebit', 'IQFinex', 'P2PB2B', 'StocksExchange', 'iCoinbay', 'CoinTiger', 'Threexbit', 'cobinhood', 'Switcheo', 'Bitkub', 'Everbloom', 'EXRATES', 'Coinsbit', 'NDAX', 'DigiFinex', 'Bitshares', 'Coinmate', 'Incorex', 'Ethermium', 'Nuex', 'Blackturtle', 'Catex', 'Exenium', 'StocksExchangeio', 'ZBG', 'SafeCoin', 'XS2', 'bw', 'CryptoExchangeWS', 'smartrade', 'alphaex', 'Bitpoint', 'bitspark', 'Binanceje', 'Poloniex', 'Bgogo', 'xena', 'chainrift', 'trxmarket', 'aliexchange', 'fatbtc', 'bitmax', 'coss', 'huobijapan', 'huobikorea', 'eidoo', 'idevex', 'crex24', 'gopax', 'coinfield', 'coinzest', 'bingcoins', 'coinall', 'bitci', 'primexbt', 'oex', 'ataix', 'raidofinance', 'zloadr', 'thore', 'darbfinance', 'binanceus', 'bitflyerus', 'bitflyereu', 'exscudo', 'xcoex', 'CBX', 'biki', 'unnamed', 'coineal', 'dcoin', 'seedcx', '55com', 'chainx', 'coinegg', 'bitasset', 'chaoex', 'bhex', 'tchapp', 'sistemkoin', 'tokok', 'bilaxy', 'Bitfinex', 'Gemini'])\n"
     ]
    }
   ],
   "source": [
    "import requests\n",
    "URL_EXCHANGES = 'https://www.cryptocompare.com/api/data/exchanges'\n",
    "response = requests.get(URL_EXCHANGES).json()\n",
    "data = response['Data']\n",
    "print(data.keys())"
   ]
  },
  {
   "cell_type": "code",
   "execution_count": 3,
   "metadata": {
    "scrolled": true
   },
   "outputs": [],
   "source": [
    "from pymongo import MongoClient, ASCENDING, DESCENDING\n",
    "from vnpy.app.cta_strategy.base import TICK_DB_NAME, MINUTE_DB_NAME, DAILY_DB_NAME, MinuteDataBaseName, HourDataBaseName\n",
    "from datetime import datetime\n",
    "from vnpy.trader.object import BarData, TickData"
   ]
  },
  {
   "cell_type": "code",
   "execution_count": 85,
   "metadata": {},
   "outputs": [
    {
     "name": "stdout",
     "output_type": "stream",
     "text": [
      "vt_symbol:BTCUSD.BYBIT\t2020-03-23 04:12:08.448000\tBTCUSD\t5845.5\n",
      "vt_symbol:ETHUSD.BYBIT\t2020-03-23 08:25:43.646000\tETHUSD\t124.85\n",
      "vt_symbol:EOSUSD.BYBIT\t2020-03-23 08:25:43.644000\tEOSUSD\t2.157\n"
     ]
    }
   ],
   "source": [
    "# ====== Tick ======\n",
    "client = MongoClient('localhost', 27017, serverSelectionTimeoutMS = 600)       # Mongo连接\n",
    "client.server_info()\n",
    "dbTick = client[TICK_DB_NAME]\n",
    "symbol_list = ['BTCUSD', 'ETHUSD', 'EOSUSD']\n",
    "for symbol in symbol_list:\n",
    "    cl = dbTick[symbol]\n",
    "    cl.create_index('datetime')         # 添加索引\n",
    "    start = datetime.strptime('2019-11-18 07:59:50', '%Y-%m-%d %H:%M:%S')\n",
    "    end = datetime.strptime('2019-11-19 08:00:10', '%Y-%m-%d %H:%M:%S')\n",
    "    flt = {'datetime': {'$gte':start,\n",
    "                        '$lte':end}}\n",
    "    cursor = cl.find({}).sort('datetime', DESCENDING)\n",
    "    count = 0\n",
    "    for dic in cursor:\n",
    "        tick = TickData(gateway_name='', symbol='', exchange=None, datetime=None)\n",
    "        tick.__dict__ = dic\n",
    "        print(f'vt_symbol:{tick.vt_symbol}\\t{tick.datetime}\\t{tick.symbol}\\t{tick.last_price}')\n",
    "        count += 1\n",
    "        if count >= 1:\n",
    "            break"
   ]
  },
  {
   "cell_type": "code",
   "execution_count": 86,
   "metadata": {},
   "outputs": [
    {
     "name": "stdout",
     "output_type": "stream",
     "text": [
      "2020-03-23 08:29:00\n",
      "2020-03-23 08:28:00\n",
      "2020-03-23 08:27:00\n",
      "2020-03-23 08:26:00\n",
      "2020-03-23 08:25:00\n",
      "2020-03-23 08:24:00\n"
     ]
    }
   ],
   "source": [
    "# ====== Minute ======\n",
    "client = MongoClient('localhost', 27017)\n",
    "db = client[MINUTE_DB_NAME]\n",
    "collection = db['BTCUSD.BYBIT']\n",
    "start = datetime.strptime('2019-12-31 00:00:00', '%Y-%m-%d %H:%M:%S')\n",
    "end = datetime.strptime('2019-12-20 00:06:00', '%Y-%m-%d %H:%M:%S')\n",
    "flt = {'datetime': {'$gte':start,\n",
    "                    '$lte':end}}\n",
    "cursor = collection.find({}).sort('datetime', DESCENDING)\n",
    "count = 0\n",
    "for dic in cursor:\n",
    "    print(dic['datetime'])\n",
    "    count += 1\n",
    "    if count >= 6:\n",
    "        break"
   ]
  },
  {
   "cell_type": "code",
   "execution_count": 89,
   "metadata": {},
   "outputs": [
    {
     "name": "stdout",
     "output_type": "stream",
     "text": [
      "BTCUSD.BYBIT\t2020-03-22 08:00:00\t6190.5\t6420.0\t5735.0\t5815.0\n",
      "ETHUSD.BYBIT\t2020-03-22 08:00:00\t132.7\t137.25\t120.75\t122.25\n",
      "EOSUSD.BYBIT\t2020-03-22 08:00:00\t2.277\t2.394\t2.114\t2.138\n"
     ]
    }
   ],
   "source": [
    "# ====== Daily ======\n",
    "client = MongoClient('localhost', 27017)\n",
    "db = client[DAILY_DB_NAME]\n",
    "symbol_list = ['BTCUSD.BYBIT', 'ETHUSD.BYBIT', 'EOSUSD.BYBIT']\n",
    "for symbol in symbol_list:\n",
    "    collection = db[symbol]\n",
    "    start = datetime.strptime('2019-11-27 00:00:00', '%Y-%m-%d %H:%M:%S')\n",
    "    end = datetime.strptime('2019-11-27 00:06:00', '%Y-%m-%d %H:%M:%S')\n",
    "    flt = {'datetime': {'$gte':start,\n",
    "                        '$lte':end}}\n",
    "    cursor = collection.find({}).sort('datetime', DESCENDING)\n",
    "    for dic in cursor:\n",
    "        symbol = dic['symbol']\n",
    "        the_datetime = dic['datetime']\n",
    "        open_price = dic['open_price']\n",
    "        high_price = dic['high_price']\n",
    "        low_price = dic['low_price']\n",
    "        close_price = dic['close_price']\n",
    "        print(f'{symbol}\\t{the_datetime}\\t{open_price}\\t{high_price}\\t{low_price}\\t{close_price}')\n",
    "        break"
   ]
  },
  {
   "cell_type": "code",
   "execution_count": 5,
   "metadata": {
    "scrolled": false
   },
   "outputs": [
    {
     "name": "stdout",
     "output_type": "stream",
     "text": [
      "BTCUSD.BYBIT\tNone\t2019-12-24 08:00:00\t7310.0\t7429.0\t7155.5\t7254.0\n",
      "\n",
      "\n"
     ]
    }
   ],
   "source": [
    "symbol_list = ['RB2005', 'HC2005', 'SM2005', 'J2005', 'ZC2005', 'TA2005',\n",
    "              'RB99', 'HC99', 'SM99', 'J99', 'ZC99', 'TA99']\n",
    "symbol_list = ['BTCUSD.BYBIT']\n",
    "client = MongoClient('localhost', 27017)\n",
    "db = client[DAILY_DB_NAME]\n",
    "for symbol in symbol_list:\n",
    "    collection = db[symbol]\n",
    "    cursor = collection.find({}).sort('datetime', DESCENDING)\n",
    "    count = 0\n",
    "    for dic in cursor:\n",
    "        count += 1\n",
    "        if count == 1:\n",
    "            symbol = dic['symbol']\n",
    "            exchange = dic['exchange']\n",
    "            the_datetime = dic['datetime']\n",
    "            open_price = dic['open_price']\n",
    "            high_price = dic['high_price']\n",
    "            low_price = dic['low_price']\n",
    "            close_price = dic['close_price']\n",
    "            print(f'{symbol}\\t{exchange}\\t{the_datetime}\\t{open_price}\\t{high_price}\\t{low_price}\\t{close_price}')\n",
    "            break\n",
    "        \n",
    "    print('\\n')"
   ]
  },
  {
   "cell_type": "code",
   "execution_count": 10,
   "metadata": {},
   "outputs": [
    {
     "name": "stdout",
     "output_type": "stream",
     "text": [
      "vt_symbol:BTCUSD.BYBIT\t2019-12-24 00:19:04.628000\tBTCUSD\t0\t7669.0\t7668.5\n",
      "vt_symbol:BTCUSD.BYBIT\t2019-12-24 00:19:04.647000\tBTCUSD\t0\t7669.0\t7668.5\n",
      "vt_symbol:BTCUSD.BYBIT\t2019-12-24 00:19:04.768000\tBTCUSD\t0\t7669.0\t7668.5\n",
      "vt_symbol:BTCUSD.BYBIT\t2019-12-24 00:19:04.848000\tBTCUSD\t0\t7669.0\t7668.5\n",
      "vt_symbol:BTCUSD.BYBIT\t2019-12-24 00:19:04.868000\tBTCUSD\t0\t7669.0\t7668.5\n",
      "vt_symbol:BTCUSD.BYBIT\t2019-12-24 00:19:04.887000\tBTCUSD\t0\t7669.0\t7668.5\n",
      "vt_symbol:BTCUSD.BYBIT\t2019-12-24 00:19:04.908000\tBTCUSD\t0\t7669.0\t7668.5\n",
      "vt_symbol:BTCUSD.BYBIT\t2019-12-24 00:19:04.968000\tBTCUSD\t0\t7669.0\t7668.5\n",
      "vt_symbol:BTCUSD.BYBIT\t2019-12-24 00:19:05.088000\tBTCUSD\t0\t7669.0\t7668.5\n",
      "vt_symbol:BTCUSD.BYBIT\t2019-12-24 00:19:05.247000\tBTCUSD\t0\t7669.0\t7668.5\n",
      "vt_symbol:BTCUSD.BYBIT\t2019-12-24 00:19:05.408000\tBTCUSD\t0\t7669.0\t7668.5\n",
      "vt_symbol:BTCUSD.BYBIT\t2019-12-24 00:19:05.528000\tBTCUSD\t0\t7669.0\t7668.5\n",
      "vt_symbol:BTCUSD.BYBIT\t2019-12-24 00:19:05.927000\tBTCUSD\t0\t7669.0\t7668.5\n",
      "vt_symbol:BTCUSD.BYBIT\t2019-12-24 00:19:06.028000\tBTCUSD\t0\t7669.0\t7668.5\n",
      "vt_symbol:BTCUSD.BYBIT\t2019-12-24 00:19:06.227000\tBTCUSD\t0\t7669.0\t7668.5\n",
      "vt_symbol:BTCUSD.BYBIT\t2019-12-24 00:19:06.268000\tBTCUSD\t0\t7669.0\t7668.5\n",
      "vt_symbol:BTCUSD.BYBIT\t2019-12-24 00:19:06.307000\tBTCUSD\t0\t7669.0\t7668.5\n",
      "vt_symbol:BTCUSD.BYBIT\t2019-12-24 00:19:06.328000\tBTCUSD\t0\t7669.0\t7668.5\n",
      "vt_symbol:BTCUSD.BYBIT\t2019-12-24 00:19:06.347000\tBTCUSD\t0\t7669.0\t7668.5\n",
      "4591741\n"
     ]
    }
   ],
   "source": [
    "# ====== 检查Tick质量 ======\n",
    "client = MongoClient('localhost', 27017, serverSelectionTimeoutMS = 600)       # Mongo连接\n",
    "client.server_info()\n",
    "dbTick = client[TICK_DB_NAME]\n",
    "cl = dbTick['BTCUSD']\n",
    "cl.create_index('datetime')         # 添加索引\n",
    "start = datetime.strptime('2019-12-20 07:59:50', '%Y-%m-%d %H:%M:%S')\n",
    "end = datetime.strptime('2019-12-30 08:00:10', '%Y-%m-%d %H:%M:%S')\n",
    "flt = {'datetime': {'$gte':start,\n",
    "                    '$lte':end}}\n",
    "cursor = cl.find(flt).sort('datetime')\n",
    "count = 0\n",
    "for dic in cursor:\n",
    "    tick = TickData(gateway_name='', symbol='', exchange=None, datetime=None)\n",
    "    tick.__dict__ = dic\n",
    "    if tick.last_price == 0:\n",
    "        print(f'vt_symbol:{tick.vt_symbol}\\t{tick.datetime}\\t{tick.symbol}\\t{tick.last_price}\\t{tick.ask_price_1}\\t{tick.bid_price_1}')\n",
    "    count += 1\n",
    "print(count)"
   ]
  },
  {
   "cell_type": "code",
   "execution_count": 2,
   "metadata": {},
   "outputs": [
    {
     "name": "stdout",
     "output_type": "stream",
     "text": [
      "yes\n"
     ]
    }
   ],
   "source": [
    "a = 'a'\n",
    "if a:\n",
    "    print('yes')\n",
    "else:\n",
    "    print('no')"
   ]
  },
  {
   "cell_type": "code",
   "execution_count": null,
   "metadata": {},
   "outputs": [],
   "source": []
  }
 ],
 "metadata": {
  "kernelspec": {
   "display_name": "Python 3",
   "language": "python",
   "name": "python3"
  },
  "language_info": {
   "codemirror_mode": {
    "name": "ipython",
    "version": 3
   },
   "file_extension": ".py",
   "mimetype": "text/x-python",
   "name": "python",
   "nbconvert_exporter": "python",
   "pygments_lexer": "ipython3",
   "version": "3.7.3"
  }
 },
 "nbformat": 4,
 "nbformat_minor": 1
}
