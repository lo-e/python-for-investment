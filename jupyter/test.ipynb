{
 "cells": [
  {
   "cell_type": "code",
   "execution_count": 1,
   "metadata": {},
   "outputs": [],
   "source": [
    "import re\n",
    "from vnpy.trader.constant import Exchange\n",
    "from vnpy.app.cta_strategy.base import EXCHANGE_SYMBOL_DICT\n",
    "from datetime import datetime, timedelta"
   ]
  },
  {
   "cell_type": "code",
   "execution_count": 36,
   "metadata": {},
   "outputs": [
    {
     "name": "stdout",
     "output_type": "stream",
     "text": [
      "2000\n"
     ]
    }
   ],
   "source": [
    "fromDate = datetime.strptime('2012-6-10', '%Y-%m-%d')\n",
    "toDate = datetime.strptime('2017-12-01', '%Y-%m-%d')\n",
    "\n",
    "count = 0\n",
    "while fromDate.date() != toDate.date():\n",
    "    count += 1\n",
    "    fromDate = fromDate + timedelta(1)\n",
    "\n",
    "print(count)"
   ]
  },
  {
   "cell_type": "code",
   "execution_count": 16,
   "metadata": {},
   "outputs": [
    {
     "name": "stdout",
     "output_type": "stream",
     "text": [
      "1563864223\n"
     ]
    }
   ],
   "source": [
    "# 当前时间戳\n",
    "import time\n",
    "a = int(time.time())\n",
    "print(a)"
   ]
  },
  {
   "cell_type": "code",
   "execution_count": 59,
   "metadata": {},
   "outputs": [
    {
     "name": "stdout",
     "output_type": "stream",
     "text": [
      "2017-12-01 22:00:00\n"
     ]
    }
   ],
   "source": [
    "# 时间戳转时间\n",
    "timeStamp = 1512136800\n",
    "date = datetime.fromtimestamp(timeStamp)\n",
    "print(date)"
   ]
  },
  {
   "cell_type": "code",
   "execution_count": 23,
   "metadata": {},
   "outputs": [
    {
     "name": "stdout",
     "output_type": "stream",
     "text": [
      "1563580800.0\n"
     ]
    }
   ],
   "source": [
    "# 时间转时间戳\n",
    "a = '2019-07-20 08:00:00'\n",
    "b = datetime.strptime(a, '%Y-%m-%d %H:%M:%S')\n",
    "print(b.timestamp())"
   ]
  },
  {
   "cell_type": "code",
   "execution_count": 1,
   "metadata": {},
   "outputs": [],
   "source": [
    "import requests\n",
    "URL_EXCHANGES = 'https://www.cryptocompare.com/api/data/exchanges'\n",
    "response = requests.get(URL_EXCHANGES).json()\n",
    "data = response['Data']\n",
    "print(data.keys())"
   ]
  },
  {
   "cell_type": "code",
   "execution_count": 62,
   "metadata": {
    "scrolled": true
   },
   "outputs": [],
   "source": [
    "from pymongo import MongoClient, ASCENDING, DESCENDING\n",
    "from vnpy.app.cta_strategy.base import TICK_DB_NAME, MINUTE_DB_NAME, DAILY_DB_NAME, MinuteDataBaseName, HourDataBaseName\n",
    "from datetime import datetime\n",
    "from vnpy.trader.object import BarData, TickData"
   ]
  },
  {
   "cell_type": "code",
   "execution_count": 73,
   "metadata": {},
   "outputs": [
    {
     "name": "stdout",
     "output_type": "stream",
     "text": [
      "vt_symbol:BTCUSD.BYBIT\t2020-03-25 07:52:46.091000\tBTCUSD\t6754.5\n",
      "vt_symbol:ETHUSD.BYBIT\t2020-03-25 08:01:59.786000\tETHUSD\t137.85\n",
      "vt_symbol:EOSUSD.BYBIT\t2020-03-25 08:01:59.204000\tEOSUSD\t2.336\n"
     ]
    }
   ],
   "source": [
    "# ====== Tick ======\n",
    "client = MongoClient('localhost', 27017, serverSelectionTimeoutMS = 600)       # Mongo连接\n",
    "client.server_info()\n",
    "dbTick = client[TICK_DB_NAME]\n",
    "symbol_list = ['BTCUSD', 'ETHUSD', 'EOSUSD']\n",
    "for symbol in symbol_list:\n",
    "    cl = dbTick[symbol]\n",
    "    cl.create_index('datetime')         # 添加索引\n",
    "    start = datetime.strptime('2019-11-18 07:59:50', '%Y-%m-%d %H:%M:%S')\n",
    "    end = datetime.strptime('2019-11-19 08:00:10', '%Y-%m-%d %H:%M:%S')\n",
    "    flt = {'datetime': {'$gte':start,\n",
    "                        '$lte':end}}\n",
    "    cursor = cl.find({}).sort('datetime', DESCENDING)\n",
    "    count = 0\n",
    "    for dic in cursor:\n",
    "        tick = TickData(gateway_name='', symbol='', exchange=None, datetime=None)\n",
    "        tick.__dict__ = dic\n",
    "        print(f'vt_symbol:{tick.vt_symbol}\\t{tick.datetime}\\t{tick.symbol}\\t{tick.last_price}')\n",
    "        count += 1\n",
    "        if count >= 1:\n",
    "            break"
   ]
  },
  {
   "cell_type": "code",
   "execution_count": 7,
   "metadata": {},
   "outputs": [
    {
     "name": "stdout",
     "output_type": "stream",
     "text": [
      "2020-05-28 14:36:00 9152.0\n",
      "2020-05-28 14:35:00 9149.5\n",
      "2020-05-28 14:34:00 9149.5\n",
      "2020-05-28 14:33:00 9151.0\n",
      "2020-05-28 14:32:00 9165.5\n",
      "2020-05-28 14:31:00 9155.5\n"
     ]
    }
   ],
   "source": [
    "# ====== Minute ======\n",
    "client = MongoClient('localhost', 27017)\n",
    "db = client[MINUTE_DB_NAME]\n",
    "collection = db['BTCUSD.BYBIT']\n",
    "#collection = db['ZN2006']\n",
    "start = datetime.strptime('2020-3-24 00:00:00', '%Y-%m-%d %H:%M:%S')\n",
    "end = datetime.strptime('2020-3-25 00:00:00', '%Y-%m-%d %H:%M:%S')\n",
    "flt = {'datetime': {'$gte':start,\n",
    "                    '$lte':end}}\n",
    "cursor = collection.find().sort('datetime', DESCENDING)\n",
    "count = 0\n",
    "for dic in cursor:\n",
    "    print(dic['datetime'], dic['open_price'])\n",
    "    count += 1\n",
    "    if count >= 6:\n",
    "        break"
   ]
  },
  {
   "cell_type": "code",
   "execution_count": 63,
   "metadata": {},
   "outputs": [
    {
     "name": "stdout",
     "output_type": "stream",
     "text": [
      "BTCUSD.BYBIT\t2020-05-27 08:00:00\t8836.0\t9230.0\t8813.0\t9202.0\n",
      "ETHUSD.BYBIT\t2020-05-27 08:00:00\t201.0\t208.5\t200.75\t208.35\n",
      "EOSUSD.BYBIT\t2020-05-27 08:00:00\t2.504\t2.574\t2.457\t2.568\n"
     ]
    }
   ],
   "source": [
    "# ====== Daily ======\n",
    "client = MongoClient('localhost', 27017)\n",
    "db = client[DAILY_DB_NAME]\n",
    "symbol_list = ['BTCUSD.BYBIT', 'ETHUSD.BYBIT', 'EOSUSD.BYBIT']\n",
    "#symbol_list = ['BTC.USDT.OKEX', 'ETH.USDT.OKEX', 'EOS.USDT.OKEX']\n",
    "#symbol_list = ['OKEX/BTC.USDT', 'OKEX/ETH.USDT', 'OKEX/EOS.USDT']\n",
    "#symbol_list = ['Poloniex/BTC.USDT', 'Poloniex/ETH.USDT', 'Poloniex/EOS.USDT']\n",
    "for symbol in symbol_list:\n",
    "    collection = db[symbol]\n",
    "    start = datetime.strptime('2019-11-27 00:00:00', '%Y-%m-%d %H:%M:%S')\n",
    "    end = datetime.strptime('2019-11-27 00:06:00', '%Y-%m-%d %H:%M:%S')\n",
    "    flt = {'datetime': {'$gte':start,\n",
    "                        '$lte':end}}\n",
    "    cursor = collection.find({}).sort('datetime', DESCENDING)\n",
    "    count = 0\n",
    "    for dic in cursor:\n",
    "        symbol = dic['symbol']\n",
    "        the_datetime = dic['datetime']\n",
    "        open_price = dic['open_price']\n",
    "        high_price = dic['high_price']\n",
    "        low_price = dic['low_price']\n",
    "        close_price = dic['close_price']\n",
    "        print(f'{symbol}\\t{the_datetime}\\t{open_price}\\t{high_price}\\t{low_price}\\t{close_price}')\n",
    "        count += 1\n",
    "        break"
   ]
  },
  {
   "cell_type": "code",
   "execution_count": 5,
   "metadata": {
    "scrolled": false
   },
   "outputs": [
    {
     "name": "stdout",
     "output_type": "stream",
     "text": [
      "BTCUSD.BYBIT\tNone\t2019-12-24 08:00:00\t7310.0\t7429.0\t7155.5\t7254.0\n",
      "\n",
      "\n"
     ]
    }
   ],
   "source": [
    "symbol_list = ['RB2005', 'HC2005', 'SM2005', 'J2005', 'ZC2005', 'TA2005',\n",
    "              'RB99', 'HC99', 'SM99', 'J99', 'ZC99', 'TA99']\n",
    "symbol_list = ['BTCUSD.BYBIT']\n",
    "client = MongoClient('localhost', 27017)\n",
    "db = client[DAILY_DB_NAME]\n",
    "for symbol in symbol_list:\n",
    "    collection = db[symbol]\n",
    "    cursor = collection.find({}).sort('datetime', DESCENDING)\n",
    "    count = 0\n",
    "    for dic in cursor:\n",
    "        count += 1\n",
    "        if count == 1:\n",
    "            symbol = dic['symbol']\n",
    "            exchange = dic['exchange']\n",
    "            the_datetime = dic['datetime']\n",
    "            open_price = dic['open_price']\n",
    "            high_price = dic['high_price']\n",
    "            low_price = dic['low_price']\n",
    "            close_price = dic['close_price']\n",
    "            print(f'{symbol}\\t{exchange}\\t{the_datetime}\\t{open_price}\\t{high_price}\\t{low_price}\\t{close_price}')\n",
    "            break\n",
    "        \n",
    "    print('\\n')"
   ]
  },
  {
   "cell_type": "code",
   "execution_count": 59,
   "metadata": {},
   "outputs": [
    {
     "ename": "IndentationError",
     "evalue": "expected an indented block (<ipython-input-59-025e50492adc>, line 18)",
     "output_type": "error",
     "traceback": [
      "\u001b[1;36m  File \u001b[1;32m\"<ipython-input-59-025e50492adc>\"\u001b[1;36m, line \u001b[1;32m18\u001b[0m\n\u001b[1;33m    count += 1\u001b[0m\n\u001b[1;37m        ^\u001b[0m\n\u001b[1;31mIndentationError\u001b[0m\u001b[1;31m:\u001b[0m expected an indented block\n"
     ]
    }
   ],
   "source": [
    "# ====== 检查Tick质量 ======\n",
    "client = MongoClient('localhost', 27017, serverSelectionTimeoutMS = 600)       # Mongo连接\n",
    "client.server_info()\n",
    "dbTick = client[TICK_DB_NAME]\n",
    "cl = dbTick['BTCUSD']\n",
    "cl.create_index('datetime')         # 添加索引\n",
    "start = datetime.strptime('2019-12-20 07:59:50', '%Y-%m-%d %H:%M:%S')\n",
    "end = datetime.strptime('2019-12-30 08:00:10', '%Y-%m-%d %H:%M:%S')\n",
    "flt = {'datetime': {'$gte':start,\n",
    "                    '$lte':end}}\n",
    "cursor = cl.find(flt).sort('datetime')\n",
    "count = 0\n",
    "for dic in cursor:\n",
    "    tick = TickData(gateway_name='', symbol='', exchange=None, datetime=None)\n",
    "    tick.__dict__ = dic\n",
    "    if tick.last_price == 0:\n",
    "        print(f'vt_symbol:{tick.vt_symbol}\\t{tick.datetime}\\t{tick.symbol}\\t{tick.last_price}\\t{tick.ask_price_1}\\t{tick.bid_price_1}')\n",
    "    count += 1\n",
    "print(count)"
   ]
  },
  {
   "cell_type": "code",
   "execution_count": 61,
   "metadata": {},
   "outputs": [],
   "source": [
    "from datetime import datetime\n",
    "import csv\n",
    "import os\n",
    "content = {'datetime':datetime.now(), 'symbol':'rb2010', 'tick_price':1000, 'a':1, 'b':2}\n",
    "file_path = 'test_test.csv'\n",
    "\n",
    "field_names = list(content.keys())\n",
    "file_exist = os.path.exists(file_path)\n",
    "with open(file_path, 'a') as f:\n",
    "    writer = csv.DictWriter(f, fieldnames=field_names)\n",
    "    if not file_exist:\n",
    "        writer.writeheader()\n",
    "    # 写入csv文件\n",
    "    writer.writerow(content)"
   ]
  },
  {
   "cell_type": "code",
   "execution_count": null,
   "metadata": {},
   "outputs": [],
   "source": []
  }
 ],
 "metadata": {
  "kernelspec": {
   "display_name": "Python 3",
   "language": "python",
   "name": "python3"
  },
  "language_info": {
   "codemirror_mode": {
    "name": "ipython",
    "version": 3
   },
   "file_extension": ".py",
   "mimetype": "text/x-python",
   "name": "python",
   "nbconvert_exporter": "python",
   "pygments_lexer": "ipython3",
   "version": "3.7.3"
  }
 },
 "nbformat": 4,
 "nbformat_minor": 1
}
