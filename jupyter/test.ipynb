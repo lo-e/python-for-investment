{
 "cells": [
  {
   "cell_type": "code",
   "execution_count": 5,
   "metadata": {
    "collapsed": false
   },
   "outputs": [],
   "source": [
    "import numpy as np\n",
    "import talib"
   ]
  },
  {
   "cell_type": "code",
   "execution_count": 32,
   "metadata": {
    "collapsed": false
   },
   "outputs": [
    {
     "name": "stdout",
     "output_type": "stream",
     "text": [
      "[         nan          nan  68.18181818  39.47368421  39.47368421  50.\n",
      "  79.09090909  88.83495146  88.83495146  14.87804878  58.28685259\n",
      "  81.24328198]\n"
     ]
    }
   ],
   "source": [
    "size = 10\n",
    "close = np.array([1.0, 16.0, 9.0, 1.0, 1.0, 2.0, 6.0, 9.0, 9.0, 1.0, 6.0, 12.0])\n",
    "result = talib.RSI(close, 2)\n",
    "ma = talib.SMA(close, 2)\n",
    "#print ma\n",
    "print result"
   ]
  },
  {
   "cell_type": "code",
   "execution_count": null,
   "metadata": {
    "collapsed": true
   },
   "outputs": [],
   "source": []
  }
 ],
 "metadata": {
  "kernelspec": {
   "display_name": "Python 2",
   "language": "python",
   "name": "python2"
  },
  "language_info": {
   "codemirror_mode": {
    "name": "ipython",
    "version": 2
   },
   "file_extension": ".py",
   "mimetype": "text/x-python",
   "name": "python",
   "nbconvert_exporter": "python",
   "pygments_lexer": "ipython2",
   "version": "2.7.13"
  }
 },
 "nbformat": 4,
 "nbformat_minor": 0
}
