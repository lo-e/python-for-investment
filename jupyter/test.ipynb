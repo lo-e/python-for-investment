{
 "cells": [
  {
   "cell_type": "code",
   "execution_count": null,
   "metadata": {
    "collapsed": false
   },
   "outputs": [],
   "source": [
    "'''\n",
    "talib\n",
    "'''"
   ]
  },
  {
   "cell_type": "code",
   "execution_count": 19,
   "metadata": {
    "collapsed": true
   },
   "outputs": [],
   "source": [
    "import talib\n",
    "import numpy as np"
   ]
  },
  {
   "cell_type": "code",
   "execution_count": 72,
   "metadata": {
    "collapsed": false
   },
   "outputs": [
    {
     "name": "stdout",
     "output_type": "stream",
     "text": [
      "[        nan         nan         nan         nan         nan  4.16666667\n",
      "  4.16666667  4.5         4.83333333  6.          6.5       ]\n"
     ]
    }
   ],
   "source": [
    "high = np.array([2.0, 6.0, 2.0, 2.0])\n",
    "low = np.array([2.0, 5.0, 2.0,  6.0])\n",
    "close = np.array([2.0, 3.0, 6.0, 2.0, 3.0, 9.0, 2.0, 5.0, 8.0, 9.0, 6.0])\n",
    "#a = talib.ATR(high, low, close, 2)\n",
    "a = talib.SMA(close, 6)\n",
    "print a"
   ]
  },
  {
   "cell_type": "code",
   "execution_count": 21,
   "metadata": {
    "collapsed": false
   },
   "outputs": [
    {
     "data": {
      "text/plain": [
       "array([         nan,  66.66666667, -66.66666667,   0.        ])"
      ]
     },
     "execution_count": 21,
     "metadata": {},
     "output_type": "execute_result"
    }
   ],
   "source": [
    "high = np.array([4561. 4556. 4553. 4556. 4552. 4547. 4544. 4546. 4542. 4544. 4546. 4546.\n",
    " 4548. 4547. 4546. 4546. 4545. 4547. 4545. 4544. 4544. 4546. 4544. 4544.\n",
    " 4544. 4545. 4545. 4547. 4549.])\n",
    "low = np.array([4566. 4562. 4556. 4557. 4556. 4552. 4549. 4548. 4547. 4546. 4546. 4546.\n",
    " 4548. 4548. 4548. 4547. 4546. 4548. 4547. 4546. 4545. 4546. 4546. 4545.\n",
    " 4546. 4545. 4546. 4547. 4549.])\n",
    "close = np.array([4557. 4553. 4551. 4552. 4551. 4545. 4543. 4542. 4542. 4542. 4542. 4545.\n",
    " 4546. 4545. 4546. 4545. 4543. 4545. 4545. 4544. 4544. 4543. 4544. 4543.\n",
    " 4543. 4543. 4544. 4544. 4546.])\n",
    "a = talib.CCI(high, low, close, 2)\n",
    "a"
   ]
  },
  {
   "cell_type": "code",
   "execution_count": 30,
   "metadata": {
    "collapsed": false
   },
   "outputs": [
    {
     "data": {
      "text/plain": [
       "array([ nan,  1.5,  2.5,  4.5,  4. ])"
      ]
     },
     "execution_count": 30,
     "metadata": {},
     "output_type": "execute_result"
    }
   ],
   "source": [
    "high = np.array([1.0, 2.0, 6.0, 2.0, 2.0])\n",
    "low = np.array([1.0, 2.0, 5.0, 2.0,  6.0])\n",
    "close = np.array([1.0, 2.0, 3.0, 6.0, 2.0])\n",
    "a = talib.SMA(close, 2)\n",
    "a"
   ]
  },
  {
   "cell_type": "code",
   "execution_count": 29,
   "metadata": {
    "collapsed": false
   },
   "outputs": [
    {
     "data": {
      "text/plain": [
       "array([ nan,  1. ,  1.5,  2.5,  4.5,  4. ])"
      ]
     },
     "execution_count": 29,
     "metadata": {},
     "output_type": "execute_result"
    }
   ],
   "source": [
    "high = np.array([1.0, 2.0, 6.0, 2.0, 2.0])\n",
    "low = np.array([1.0, 2.0, 5.0, 2.0,  6.0])\n",
    "close = np.array([1.0, 1.0, 2.0, 3.0, 6.0, 2.0])\n",
    "a = talib.SMA(close, 2)\n",
    "a"
   ]
  },
  {
   "cell_type": "code",
   "execution_count": null,
   "metadata": {
    "collapsed": false
   },
   "outputs": [],
   "source": [
    "close = np.array([1000.0, 2.0, 1.0, 6.0, 6.0, 1.0, 6.0, 1.0, 1.0, 1.0, 1.0])\n",
    "result = talib.RSI(close, 2)\n",
    "result"
   ]
  },
  {
   "cell_type": "code",
   "execution_count": null,
   "metadata": {
    "collapsed": true
   },
   "outputs": [],
   "source": [
    "'''\n",
    "tushare\n",
    "'''"
   ]
  },
  {
   "cell_type": "code",
   "execution_count": 1,
   "metadata": {
    "collapsed": false
   },
   "outputs": [],
   "source": [
    "import tushare as ts\n",
    "from datetime import datetime, timedelta"
   ]
  },
  {
   "cell_type": "code",
   "execution_count": 2,
   "metadata": {
    "collapsed": false
   },
   "outputs": [],
   "source": [
    "df = ts.get_tick_data('rb1805', '2017-09-10')\n",
    "#df"
   ]
  },
  {
   "cell_type": "code",
   "execution_count": 3,
   "metadata": {
    "collapsed": false
   },
   "outputs": [],
   "source": [
    "cons = ts.get_apis()"
   ]
  },
  {
   "cell_type": "code",
   "execution_count": 11,
   "metadata": {
    "collapsed": false
   },
   "outputs": [
    {
     "data": {
      "text/plain": [
       "Int64Index([    0,     1,     2,     3,     4,     5,     6,     7,     8,\n",
       "                9,\n",
       "            ...\n",
       "            38282, 38283, 38284, 38285, 38286, 38287, 38288, 38289, 38290,\n",
       "            38291],\n",
       "           dtype='int64', length=38292)"
      ]
     },
     "execution_count": 11,
     "metadata": {},
     "output_type": "execute_result"
    }
   ],
   "source": [
    "df = ts.tick('rb1805', conn = cons, date = '2017-11-24', asset = 'X') \n",
    "#df = ts.tick('IF1801', conn = cons, date = '2017-06-22', asset = 'X') \n",
    "#df = ts.tick('600380', conn = cons, date = '2018-01-02')\n",
    "#df = ts.tick('rb1806', conn = cons, date = '2018-01-10', asset = 'X')\n",
    "df.index"
   ]
  },
  {
   "cell_type": "code",
   "execution_count": null,
   "metadata": {
    "collapsed": false
   },
   "outputs": [],
   "source": [
    "lastDt = None\n",
    "mSecond = 0\n",
    "for i, row in df.iterrows():\n",
    "    dt = row['date'].to_datetime()\n",
    "    if (not lastDt) or lastDt != dt:\n",
    "        mSecond = 0\n",
    "        lastDt = dt\n",
    "    else:\n",
    "        mSecond += 1\n",
    "    \n",
    "    #print mSecond\n",
    "    dt = dt.replace(microsecond = mSecond)\n",
    "        \n",
    "    print dt\n",
    "    print row['vol']\n",
    "    print '\\n'"
   ]
  },
  {
   "cell_type": "code",
   "execution_count": null,
   "metadata": {
    "collapsed": false,
    "scrolled": true
   },
   "outputs": [],
   "source": [
    "for i, row in df.iterrows():\n",
    "    print row['date'], '*'*2, row['vol']"
   ]
  },
  {
   "cell_type": "code",
   "execution_count": null,
   "metadata": {
    "collapsed": false
   },
   "outputs": [],
   "source": [
    "df = ts.bar('rb1805', conn = cons, freq = 'D', start_date = '2017-01-01', end_date = '', asset = 'X')"
   ]
  },
  {
   "cell_type": "code",
   "execution_count": null,
   "metadata": {
    "collapsed": false
   },
   "outputs": [],
   "source": [
    "df.sort_index(inplace = True)\n",
    "df"
   ]
  },
  {
   "cell_type": "code",
   "execution_count": null,
   "metadata": {
    "collapsed": false
   },
   "outputs": [],
   "source": [
    "a = df.ix[1]\n",
    "the = a['date']\n",
    "dt = the.to_datetime()\n",
    "print dt\n",
    "if dt.time() >= datetime.time(21, 0):\n",
    "    dt = dt - timedelta(1)\n",
    "\n",
    "print dt"
   ]
  },
  {
   "cell_type": "code",
   "execution_count": null,
   "metadata": {
    "collapsed": true
   },
   "outputs": [],
   "source": []
  },
  {
   "cell_type": "code",
   "execution_count": null,
   "metadata": {
    "collapsed": false
   },
   "outputs": [],
   "source": [
    "for index, row in df.iterrows():\n",
    "    print row['date'], ' '*2, row['vol']"
   ]
  },
  {
   "cell_type": "code",
   "execution_count": null,
   "metadata": {
    "collapsed": false
   },
   "outputs": [],
   "source": [
    "from datetime import datetime"
   ]
  },
  {
   "cell_type": "code",
   "execution_count": null,
   "metadata": {
    "collapsed": false
   },
   "outputs": [],
   "source": [
    "from collections import namedtuple\n",
    "abc = namedtuple('xyz', ['x', 'y'])\n",
    "the = abc(6,2)\n",
    "the.x"
   ]
  },
  {
   "cell_type": "code",
   "execution_count": null,
   "metadata": {
    "collapsed": false
   },
   "outputs": [],
   "source": [
    "import sys\n",
    "#sys.getdefaultencoding()\n",
    "#reload(sys)\n",
    "#sys.setdefaultencoding('UTF-8')\n",
    "a = sys.getdefaultencoding()\n",
    "type(a)"
   ]
  },
  {
   "cell_type": "code",
   "execution_count": null,
   "metadata": {
    "collapsed": false
   },
   "outputs": [],
   "source": [
    "if isinstance('a', str):\n",
    "    print 1\n",
    "else:\n",
    "    print 2"
   ]
  },
  {
   "cell_type": "code",
   "execution_count": null,
   "metadata": {
    "collapsed": true
   },
   "outputs": [],
   "source": [
    "'''\n",
    "pymongo\n",
    "'''"
   ]
  },
  {
   "cell_type": "code",
   "execution_count": 2,
   "metadata": {
    "collapsed": false,
    "scrolled": true
   },
   "outputs": [],
   "source": [
    "import pymongo\n",
    "from vnpy.trader.app.ctaStrategy.ctaBase import TICK_DB_NAME\n",
    "from datetime import datetime"
   ]
  },
  {
   "cell_type": "code",
   "execution_count": 5,
   "metadata": {
    "collapsed": false,
    "scrolled": true
   },
   "outputs": [
    {
     "name": "stdout",
     "output_type": "stream",
     "text": [
      "2018-04-20 22:58:23 *last* 3453.0 *bid1* 3452.0 *bid1Size* 665 *ask1* 3453.0 *ask1Size* 19\n",
      "2018-04-20 22:58:23.500000 *last* 3453.0 *bid1* 3452.0 *bid1Size* 663 *ask1* 3453.0 *ask1Size* 4\n",
      "2018-04-20 22:58:24 *last* 3453.0 *bid1* 3452.0 *bid1Size* 644 *ask1* 3453.0 *ask1Size* 90\n",
      "2018-04-20 22:58:24.500000 *last* 3453.0 *bid1* 3452.0 *bid1Size* 645 *ask1* 3453.0 *ask1Size* 69\n",
      "2018-04-20 22:58:25 *last* 3452.0 *bid1* 3452.0 *bid1Size* 650 *ask1* 3453.0 *ask1Size* 56\n",
      "2018-04-20 22:58:25.500000 *last* 3453.0 *bid1* 3452.0 *bid1Size* 653 *ask1* 3453.0 *ask1Size* 57\n",
      "2018-04-20 22:58:26 *last* 3452.0 *bid1* 3452.0 *bid1Size* 635 *ask1* 3453.0 *ask1Size* 49\n",
      "2018-04-20 22:58:26.500000 *last* 3453.0 *bid1* 3452.0 *bid1Size* 634 *ask1* 3453.0 *ask1Size* 43\n",
      "2018-04-20 22:58:27 *last* 3453.0 *bid1* 3452.0 *bid1Size* 609 *ask1* 3453.0 *ask1Size* 51\n",
      "2018-04-20 22:58:27.500000 *last* 3453.0 *bid1* 3453.0 *bid1Size* 238 *ask1* 3454.0 *ask1Size* 265\n",
      "2018-04-20 22:58:28 *last* 3454.0 *bid1* 3453.0 *bid1Size* 271 *ask1* 3454.0 *ask1Size* 333\n",
      "2018-04-20 22:58:28.500000 *last* 3453.0 *bid1* 3453.0 *bid1Size* 193 *ask1* 3454.0 *ask1Size* 314\n",
      "2018-04-20 22:58:29 *last* 3453.0 *bid1* 3453.0 *bid1Size* 191 *ask1* 3454.0 *ask1Size* 331\n",
      "2018-04-20 22:58:29.500000 *last* 3453.0 *bid1* 3453.0 *bid1Size* 172 *ask1* 3454.0 *ask1Size* 248\n",
      "2018-04-20 22:58:30 *last* 3454.0 *bid1* 3453.0 *bid1Size* 174 *ask1* 3454.0 *ask1Size* 206\n",
      "2018-04-20 22:58:30.500000 *last* 3454.0 *bid1* 3453.0 *bid1Size* 360 *ask1* 3454.0 *ask1Size* 196\n",
      "2018-04-20 22:58:31 *last* 3453.0 *bid1* 3453.0 *bid1Size* 364 *ask1* 3454.0 *ask1Size* 204\n",
      "2018-04-20 22:58:31.500000 *last* 3454.0 *bid1* 3453.0 *bid1Size* 432 *ask1* 3454.0 *ask1Size* 203\n",
      "2018-04-20 22:58:32 *last* 3453.0 *bid1* 3453.0 *bid1Size* 431 *ask1* 3454.0 *ask1Size* 191\n",
      "2018-04-20 22:58:32.500000 *last* 3454.0 *bid1* 3453.0 *bid1Size* 429 *ask1* 3454.0 *ask1Size* 191\n",
      "2018-04-20 22:58:33 *last* 3454.0 *bid1* 3453.0 *bid1Size* 400 *ask1* 3454.0 *ask1Size* 188\n",
      "2018-04-20 22:58:33.500000 *last* 3454.0 *bid1* 3453.0 *bid1Size* 399 *ask1* 3454.0 *ask1Size* 182\n",
      "2018-04-20 22:58:34 *last* 3453.0 *bid1* 3453.0 *bid1Size* 410 *ask1* 3454.0 *ask1Size* 179\n",
      "2018-04-20 22:58:34.500000 *last* 3454.0 *bid1* 3453.0 *bid1Size* 415 *ask1* 3454.0 *ask1Size* 172\n",
      "2018-04-20 22:58:35 *last* 3453.0 *bid1* 3453.0 *bid1Size* 406 *ask1* 3454.0 *ask1Size* 172\n",
      "2018-04-20 22:58:35.500000 *last* 3453.0 *bid1* 3453.0 *bid1Size* 378 *ask1* 3454.0 *ask1Size* 174\n",
      "2018-04-20 22:58:36 *last* 3454.0 *bid1* 3453.0 *bid1Size* 422 *ask1* 3454.0 *ask1Size* 176\n",
      "2018-04-20 22:58:36.500000 *last* 3454.0 *bid1* 3453.0 *bid1Size* 424 *ask1* 3454.0 *ask1Size* 172\n",
      "2018-04-20 22:58:37 *last* 3454.0 *bid1* 3453.0 *bid1Size* 422 *ask1* 3454.0 *ask1Size* 150\n",
      "2018-04-20 22:58:37.500000 *last* 3454.0 *bid1* 3453.0 *bid1Size* 430 *ask1* 3454.0 *ask1Size* 136\n",
      "2018-04-20 22:58:38 *last* 3454.0 *bid1* 3453.0 *bid1Size* 442 *ask1* 3454.0 *ask1Size* 149\n",
      "2018-04-20 22:58:38.500000 *last* 3454.0 *bid1* 3453.0 *bid1Size* 442 *ask1* 3454.0 *ask1Size* 150\n",
      "2018-04-20 22:58:39 *last* 3453.0 *bid1* 3453.0 *bid1Size* 407 *ask1* 3454.0 *ask1Size* 154\n",
      "2018-04-20 22:58:39.500000 *last* 3454.0 *bid1* 3453.0 *bid1Size* 407 *ask1* 3454.0 *ask1Size* 149\n",
      "2018-04-20 22:58:40 *last* 3453.0 *bid1* 3453.0 *bid1Size* 290 *ask1* 3454.0 *ask1Size* 152\n",
      "2018-04-20 22:58:40.500000 *last* 3454.0 *bid1* 3453.0 *bid1Size* 267 *ask1* 3454.0 *ask1Size* 143\n",
      "2018-04-20 22:58:41 *last* 3454.0 *bid1* 3453.0 *bid1Size* 261 *ask1* 3454.0 *ask1Size* 163\n",
      "2018-04-20 22:58:41.500000 *last* 3453.0 *bid1* 3453.0 *bid1Size* 270 *ask1* 3454.0 *ask1Size* 155\n",
      "2018-04-20 22:58:42 *last* 3453.0 *bid1* 3453.0 *bid1Size* 269 *ask1* 3454.0 *ask1Size* 134\n",
      "2018-04-20 22:58:42.500000 *last* 3453.0 *bid1* 3453.0 *bid1Size* 268 *ask1* 3454.0 *ask1Size* 213\n",
      "2018-04-20 22:58:43 *last* 3454.0 *bid1* 3453.0 *bid1Size* 255 *ask1* 3454.0 *ask1Size* 224\n",
      "2018-04-20 22:58:43.500000 *last* 3454.0 *bid1* 3453.0 *bid1Size* 245 *ask1* 3454.0 *ask1Size* 255\n",
      "2018-04-20 22:58:44 *last* 3454.0 *bid1* 3454.0 *bid1Size* 66 *ask1* 3455.0 *ask1Size* 469\n",
      "2018-04-20 22:58:44.500000 *last* 3454.0 *bid1* 3454.0 *bid1Size* 67 *ask1* 3455.0 *ask1Size* 439\n",
      "2018-04-20 22:58:45 *last* 3454.0 *bid1* 3454.0 *bid1Size* 87 *ask1* 3455.0 *ask1Size* 439\n",
      "2018-04-20 22:58:45.500000 *last* 3454.0 *bid1* 3454.0 *bid1Size* 137 *ask1* 3455.0 *ask1Size* 438\n",
      "2018-04-20 22:58:46 *last* 3454.0 *bid1* 3454.0 *bid1Size* 125 *ask1* 3455.0 *ask1Size* 438\n",
      "2018-04-20 22:58:46.500000 *last* 3455.0 *bid1* 3454.0 *bid1Size* 124 *ask1* 3455.0 *ask1Size* 434\n",
      "2018-04-20 22:58:47 *last* 3454.0 *bid1* 3454.0 *bid1Size* 116 *ask1* 3455.0 *ask1Size* 450\n",
      "2018-04-20 22:58:47.500000 *last* 3454.0 *bid1* 3454.0 *bid1Size* 102 *ask1* 3455.0 *ask1Size* 462\n",
      "2018-04-20 22:58:48 *last* 3454.0 *bid1* 3454.0 *bid1Size* 102 *ask1* 3455.0 *ask1Size* 400\n",
      "2018-04-20 22:58:48.500000 *last* 3454.0 *bid1* 3454.0 *bid1Size* 148 *ask1* 3455.0 *ask1Size* 397\n",
      "2018-04-20 22:58:49 *last* 3455.0 *bid1* 3454.0 *bid1Size* 153 *ask1* 3455.0 *ask1Size* 397\n",
      "2018-04-20 22:58:49.500000 *last* 3455.0 *bid1* 3454.0 *bid1Size* 156 *ask1* 3455.0 *ask1Size* 385\n",
      "2018-04-20 22:58:50 *last* 3455.0 *bid1* 3454.0 *bid1Size* 170 *ask1* 3455.0 *ask1Size* 368\n",
      "2018-04-20 22:58:50.500000 *last* 3455.0 *bid1* 3455.0 *bid1Size* 121 *ask1* 3456.0 *ask1Size* 250\n",
      "2018-04-20 22:58:51 *last* 3455.0 *bid1* 3455.0 *bid1Size* 109 *ask1* 3456.0 *ask1Size* 252\n",
      "2018-04-20 22:58:51.500000 *last* 3455.0 *bid1* 3455.0 *bid1Size* 127 *ask1* 3456.0 *ask1Size* 277\n",
      "2018-04-20 22:58:52 *last* 3455.0 *bid1* 3455.0 *bid1Size* 130 *ask1* 3456.0 *ask1Size* 276\n",
      "2018-04-20 22:58:52.500000 *last* 3455.0 *bid1* 3455.0 *bid1Size* 122 *ask1* 3456.0 *ask1Size* 276\n",
      "2018-04-20 22:58:53 *last* 3456.0 *bid1* 3455.0 *bid1Size* 150 *ask1* 3456.0 *ask1Size* 240\n",
      "2018-04-20 22:58:53.500000 *last* 3455.0 *bid1* 3455.0 *bid1Size* 110 *ask1* 3456.0 *ask1Size* 299\n",
      "2018-04-20 22:58:54 *last* 3456.0 *bid1* 3455.0 *bid1Size* 105 *ask1* 3456.0 *ask1Size* 289\n",
      "2018-04-20 22:58:54.500000 *last* 3455.0 *bid1* 3455.0 *bid1Size* 137 *ask1* 3456.0 *ask1Size* 296\n",
      "2018-04-20 22:58:55 *last* 3456.0 *bid1* 3455.0 *bid1Size* 139 *ask1* 3456.0 *ask1Size* 310\n",
      "2018-04-20 22:58:55.500000 *last* 3456.0 *bid1* 3455.0 *bid1Size* 119 *ask1* 3456.0 *ask1Size* 322\n",
      "2018-04-20 22:58:56 *last* 3456.0 *bid1* 3455.0 *bid1Size* 326 *ask1* 3456.0 *ask1Size* 320\n",
      "2018-04-20 22:58:56.500000 *last* 3456.0 *bid1* 3455.0 *bid1Size* 369 *ask1* 3456.0 *ask1Size* 284\n",
      "2018-04-20 22:58:57 *last* 3456.0 *bid1* 3455.0 *bid1Size* 512 *ask1* 3456.0 *ask1Size* 307\n",
      "2018-04-20 22:58:57.500000 *last* 3457.0 *bid1* 3456.0 *bid1Size* 36 *ask1* 3457.0 *ask1Size* 290\n",
      "2018-04-20 22:58:58 *last* 3457.0 *bid1* 3456.0 *bid1Size* 95 *ask1* 3457.0 *ask1Size* 236\n",
      "2018-04-20 22:58:58.500000 *last* 3456.0 *bid1* 3456.0 *bid1Size* 245 *ask1* 3457.0 *ask1Size* 213\n",
      "2018-04-20 22:58:59 *last* 3456.0 *bid1* 3456.0 *bid1Size* 253 *ask1* 3457.0 *ask1Size* 259\n",
      "2018-04-20 22:58:59.500000 *last* 3456.0 *bid1* 3456.0 *bid1Size* 235 *ask1* 3457.0 *ask1Size* 244\n",
      "2018-04-20 22:59:00 *last* 3456.0 *bid1* 3456.0 *bid1Size* 209 *ask1* 3457.0 *ask1Size* 264\n",
      "2018-04-20 22:59:00.500000 *last* 3456.0 *bid1* 3455.0 *bid1Size* 490 *ask1* 3456.0 *ask1Size* 178\n",
      "2018-04-20 22:59:01 *last* 3455.0 *bid1* 3455.0 *bid1Size* 507 *ask1* 3456.0 *ask1Size* 179\n",
      "2018-04-20 22:59:01.500000 *last* 3455.0 *bid1* 3455.0 *bid1Size* 473 *ask1* 3456.0 *ask1Size* 104\n",
      "2018-04-20 22:59:02 *last* 3456.0 *bid1* 3455.0 *bid1Size* 455 *ask1* 3456.0 *ask1Size* 40\n",
      "2018-04-20 22:59:02.500000 *last* 3456.0 *bid1* 3455.0 *bid1Size* 465 *ask1* 3456.0 *ask1Size* 79\n",
      "2018-04-20 22:59:03 *last* 3455.0 *bid1* 3455.0 *bid1Size* 307 *ask1* 3456.0 *ask1Size* 68\n",
      "2018-04-20 22:59:03.500000 *last* 3456.0 *bid1* 3455.0 *bid1Size* 96 *ask1* 3456.0 *ask1Size* 77\n",
      "2018-04-20 22:59:04 *last* 3456.0 *bid1* 3455.0 *bid1Size* 61 *ask1* 3456.0 *ask1Size* 247\n",
      "2018-04-20 22:59:04.500000 *last* 3455.0 *bid1* 3455.0 *bid1Size* 41 *ask1* 3456.0 *ask1Size* 329\n",
      "2018-04-20 22:59:05 *last* 3455.0 *bid1* 3454.0 *bid1Size* 219 *ask1* 3455.0 *ask1Size* 75\n",
      "2018-04-20 22:59:05.500000 *last* 3454.0 *bid1* 3454.0 *bid1Size* 227 *ask1* 3455.0 *ask1Size* 63\n",
      "2018-04-20 22:59:06 *last* 3455.0 *bid1* 3454.0 *bid1Size* 233 *ask1* 3455.0 *ask1Size* 68\n",
      "2018-04-20 22:59:06.500000 *last* 3455.0 *bid1* 3454.0 *bid1Size* 237 *ask1* 3455.0 *ask1Size* 56\n",
      "2018-04-20 22:59:07 *last* 3455.0 *bid1* 3454.0 *bid1Size* 259 *ask1* 3455.0 *ask1Size* 46\n",
      "2018-04-20 22:59:07.500000 *last* 3455.0 *bid1* 3454.0 *bid1Size* 260 *ask1* 3455.0 *ask1Size* 64\n",
      "2018-04-20 22:59:08 *last* 3456.0 *bid1* 3455.0 *bid1Size* 95 *ask1* 3456.0 *ask1Size* 600\n",
      "2018-04-20 22:59:08.500000 *last* 3456.0 *bid1* 3455.0 *bid1Size* 83 *ask1* 3456.0 *ask1Size* 599\n",
      "2018-04-20 22:59:09 *last* 3455.0 *bid1* 3455.0 *bid1Size* 99 *ask1* 3456.0 *ask1Size* 611\n",
      "2018-04-20 22:59:09.500000 *last* 3455.0 *bid1* 3455.0 *bid1Size* 67 *ask1* 3456.0 *ask1Size* 614\n",
      "2018-04-20 22:59:10 *last* 3455.0 *bid1* 3455.0 *bid1Size* 95 *ask1* 3456.0 *ask1Size* 624\n",
      "2018-04-20 22:59:10.500000 *last* 3456.0 *bid1* 3455.0 *bid1Size* 56 *ask1* 3456.0 *ask1Size* 614\n",
      "2018-04-20 22:59:11 *last* 3455.0 *bid1* 3455.0 *bid1Size* 64 *ask1* 3456.0 *ask1Size* 602\n",
      "2018-04-20 22:59:11.500000 *last* 3455.0 *bid1* 3455.0 *bid1Size* 273 *ask1* 3456.0 *ask1Size* 551\n",
      "2018-04-20 22:59:12 *last* 3456.0 *bid1* 3455.0 *bid1Size* 333 *ask1* 3456.0 *ask1Size* 255\n",
      "2018-04-20 22:59:12.500000 *last* 3456.0 *bid1* 3455.0 *bid1Size* 417 *ask1* 3456.0 *ask1Size* 184\n",
      "2018-04-20 22:59:13 *last* 3456.0 *bid1* 3455.0 *bid1Size* 385 *ask1* 3456.0 *ask1Size* 47\n",
      "2018-04-20 22:59:13.500000 *last* 3456.0 *bid1* 3456.0 *bid1Size* 342 *ask1* 3457.0 *ask1Size* 238\n",
      "2018-04-20 22:59:14 *last* 3457.0 *bid1* 3457.0 *bid1Size* 380 *ask1* 3458.0 *ask1Size* 265\n",
      "2018-04-20 22:59:14.500000 *last* 3457.0 *bid1* 3457.0 *bid1Size* 376 *ask1* 3458.0 *ask1Size* 148\n",
      "2018-04-20 22:59:15 *last* 3458.0 *bid1* 3457.0 *bid1Size* 378 *ask1* 3458.0 *ask1Size* 92\n",
      "2018-04-20 22:59:15.500000 *last* 3458.0 *bid1* 3458.0 *bid1Size* 244 *ask1* 3459.0 *ask1Size* 339\n",
      "2018-04-20 22:59:16 *last* 3458.0 *bid1* 3458.0 *bid1Size* 244 *ask1* 3459.0 *ask1Size* 332\n",
      "2018-04-20 22:59:16.500000 *last* 3458.0 *bid1* 3458.0 *bid1Size* 331 *ask1* 3459.0 *ask1Size* 290\n",
      "2018-04-20 22:59:17 *last* 3458.0 *bid1* 3458.0 *bid1Size* 373 *ask1* 3459.0 *ask1Size* 280\n",
      "2018-04-20 22:59:17.500000 *last* 3459.0 *bid1* 3458.0 *bid1Size* 408 *ask1* 3459.0 *ask1Size* 303\n",
      "2018-04-20 22:59:18 *last* 3458.0 *bid1* 3458.0 *bid1Size* 379 *ask1* 3459.0 *ask1Size* 195\n",
      "2018-04-20 22:59:18.500000 *last* 3459.0 *bid1* 3458.0 *bid1Size* 431 *ask1* 3459.0 *ask1Size* 223\n",
      "2018-04-20 22:59:19 *last* 3458.0 *bid1* 3458.0 *bid1Size* 412 *ask1* 3459.0 *ask1Size* 209\n",
      "2018-04-20 22:59:19.500000 *last* 3459.0 *bid1* 3458.0 *bid1Size* 419 *ask1* 3459.0 *ask1Size* 35\n",
      "2018-04-20 22:59:20 *last* 3459.0 *bid1* 3458.0 *bid1Size* 421 *ask1* 3459.0 *ask1Size* 4\n",
      "2018-04-20 22:59:20.500000 *last* 3459.0 *bid1* 3459.0 *bid1Size* 37 *ask1* 3460.0 *ask1Size* 186\n",
      "2018-04-20 22:59:21 *last* 3459.0 *bid1* 3459.0 *bid1Size* 44 *ask1* 3460.0 *ask1Size* 182\n",
      "2018-04-20 22:59:21.500000 *last* 3459.0 *bid1* 3459.0 *bid1Size* 182 *ask1* 3460.0 *ask1Size* 159\n",
      "2018-04-20 22:59:22 *last* 3460.0 *bid1* 3459.0 *bid1Size* 323 *ask1* 3460.0 *ask1Size* 132\n",
      "2018-04-20 22:59:22.500000 *last* 3461.0 *bid1* 3460.0 *bid1Size* 53 *ask1* 3461.0 *ask1Size* 44\n",
      "2018-04-20 22:59:23 *last* 3462.0 *bid1* 3461.0 *bid1Size* 65 *ask1* 3462.0 *ask1Size* 125\n",
      "2018-04-20 22:59:23.500000 *last* 3460.0 *bid1* 3459.0 *bid1Size* 299 *ask1* 3460.0 *ask1Size* 4\n",
      "2018-04-20 22:59:24 *last* 3461.0 *bid1* 3460.0 *bid1Size* 8 *ask1* 3461.0 *ask1Size* 136\n",
      "2018-04-20 22:59:24.500000 *last* 3460.0 *bid1* 3460.0 *bid1Size* 207 *ask1* 3461.0 *ask1Size* 62\n",
      "2018-04-20 22:59:25 *last* 3460.0 *bid1* 3461.0 *bid1Size* 59 *ask1* 3462.0 *ask1Size* 24\n",
      "2018-04-20 22:59:25.500000 *last* 3461.0 *bid1* 3461.0 *bid1Size* 213 *ask1* 3462.0 *ask1Size* 22\n",
      "2018-04-20 22:59:26 *last* 3461.0 *bid1* 3461.0 *bid1Size* 215 *ask1* 3462.0 *ask1Size* 157\n",
      "2018-04-20 22:59:26.500000 *last* 3462.0 *bid1* 3461.0 *bid1Size* 117 *ask1* 3462.0 *ask1Size* 184\n",
      "2018-04-20 22:59:27 *last* 3462.0 *bid1* 3462.0 *bid1Size* 1 *ask1* 3463.0 *ask1Size* 199\n",
      "2018-04-20 22:59:27.500000 *last* 3461.0 *bid1* 3461.0 *bid1Size* 74 *ask1* 3462.0 *ask1Size* 10\n",
      "2018-04-20 22:59:28 *last* 3462.0 *bid1* 3462.0 *bid1Size* 8 *ask1* 3463.0 *ask1Size* 137\n",
      "2018-04-20 22:59:28.500000 *last* 3462.0 *bid1* 3461.0 *bid1Size* 130 *ask1* 3463.0 *ask1Size* 81\n",
      "2018-04-20 22:59:29 *last* 3462.0 *bid1* 3461.0 *bid1Size* 169 *ask1* 3463.0 *ask1Size* 74\n",
      "2018-04-20 22:59:29.500000 *last* 3463.0 *bid1* 3462.0 *bid1Size* 3 *ask1* 3463.0 *ask1Size* 35\n",
      "2018-04-20 22:59:30 *last* 3461.0 *bid1* 3461.0 *bid1Size* 183 *ask1* 3462.0 *ask1Size* 93\n",
      "2018-04-20 22:59:30.500000 *last* 3462.0 *bid1* 3461.0 *bid1Size* 153 *ask1* 3462.0 *ask1Size* 26\n",
      "2018-04-20 22:59:31 *last* 3462.0 *bid1* 3461.0 *bid1Size* 239 *ask1* 3462.0 *ask1Size* 12\n",
      "2018-04-20 22:59:31.500000 *last* 3461.0 *bid1* 3461.0 *bid1Size* 261 *ask1* 3462.0 *ask1Size* 1\n",
      "2018-04-20 22:59:32 *last* 3462.0 *bid1* 3462.0 *bid1Size* 63 *ask1* 3463.0 *ask1Size* 80\n",
      "2018-04-20 22:59:32.500000 *last* 3462.0 *bid1* 3462.0 *bid1Size* 15 *ask1* 3463.0 *ask1Size* 296\n",
      "2018-04-20 22:59:33 *last* 3461.0 *bid1* 3461.0 *bid1Size* 259 *ask1* 3463.0 *ask1Size* 432\n",
      "2018-04-20 22:59:33.500000 *last* 3462.0 *bid1* 3462.0 *bid1Size* 58 *ask1* 3463.0 *ask1Size* 438\n",
      "2018-04-20 22:59:34 *last* 3462.0 *bid1* 3461.0 *bid1Size* 264 *ask1* 3462.0 *ask1Size* 51\n",
      "2018-04-20 22:59:34.500000 *last* 3461.0 *bid1* 3461.0 *bid1Size* 219 *ask1* 3462.0 *ask1Size* 43\n",
      "2018-04-20 22:59:35 *last* 3461.0 *bid1* 3461.0 *bid1Size* 197 *ask1* 3462.0 *ask1Size* 94\n",
      "2018-04-20 22:59:35.500000 *last* 3462.0 *bid1* 3461.0 *bid1Size* 202 *ask1* 3462.0 *ask1Size* 119\n",
      "2018-04-20 22:59:36 *last* 3461.0 *bid1* 3461.0 *bid1Size* 50 *ask1* 3462.0 *ask1Size* 145\n",
      "2018-04-20 22:59:36.500000 *last* 3461.0 *bid1* 3461.0 *bid1Size* 30 *ask1* 3462.0 *ask1Size* 201\n",
      "2018-04-20 22:59:37 *last* 3461.0 *bid1* 3460.0 *bid1Size* 401 *ask1* 3461.0 *ask1Size* 113\n",
      "2018-04-20 22:59:37.500000 *last* 3462.0 *bid1* 3461.0 *bid1Size* 93 *ask1* 3462.0 *ask1Size* 279\n",
      "2018-04-20 22:59:38 *last* 3462.0 *bid1* 3461.0 *bid1Size* 68 *ask1* 3462.0 *ask1Size* 283\n",
      "2018-04-20 22:59:38.500000 *last* 3461.0 *bid1* 3460.0 *bid1Size* 317 *ask1* 3461.0 *ask1Size* 33\n",
      "2018-04-20 22:59:39 *last* 3461.0 *bid1* 3461.0 *bid1Size* 37 *ask1* 3462.0 *ask1Size* 297\n",
      "2018-04-20 22:59:39.500000 *last* 3461.0 *bid1* 3461.0 *bid1Size* 14 *ask1* 3462.0 *ask1Size* 288\n",
      "2018-04-20 22:59:40 *last* 3461.0 *bid1* 3461.0 *bid1Size* 155 *ask1* 3462.0 *ask1Size* 279\n",
      "2018-04-20 22:59:40.500000 *last* 3461.0 *bid1* 3461.0 *bid1Size* 268 *ask1* 3462.0 *ask1Size* 280\n",
      "2018-04-20 22:59:41 *last* 3461.0 *bid1* 3461.0 *bid1Size* 228 *ask1* 3462.0 *ask1Size* 268\n",
      "2018-04-20 22:59:41.500000 *last* 3462.0 *bid1* 3461.0 *bid1Size* 277 *ask1* 3462.0 *ask1Size* 248\n",
      "2018-04-20 22:59:42 *last* 3461.0 *bid1* 3461.0 *bid1Size* 1 *ask1* 3462.0 *ask1Size* 247\n",
      "2018-04-20 22:59:42.500000 *last* 3461.0 *bid1* 3461.0 *bid1Size* 112 *ask1* 3462.0 *ask1Size* 324\n",
      "2018-04-20 22:59:43 *last* 3462.0 *bid1* 3461.0 *bid1Size* 103 *ask1* 3462.0 *ask1Size* 242\n",
      "2018-04-20 22:59:43.500000 *last* 3462.0 *bid1* 3461.0 *bid1Size* 89 *ask1* 3462.0 *ask1Size* 226\n",
      "2018-04-20 22:59:44 *last* 3462.0 *bid1* 3461.0 *bid1Size* 83 *ask1* 3462.0 *ask1Size* 151\n",
      "2018-04-20 22:59:44.500000 *last* 3460.0 *bid1* 3460.0 *bid1Size* 124 *ask1* 3461.0 *ask1Size* 159\n",
      "2018-04-20 22:59:45 *last* 3460.0 *bid1* 3460.0 *bid1Size* 162 *ask1* 3461.0 *ask1Size* 162\n",
      "2018-04-20 22:59:45.500000 *last* 3461.0 *bid1* 3461.0 *bid1Size* 13 *ask1* 3462.0 *ask1Size* 26\n",
      "2018-04-20 22:59:46 *last* 3461.0 *bid1* 3461.0 *bid1Size* 34 *ask1* 3462.0 *ask1Size* 21\n",
      "2018-04-20 22:59:46.500000 *last* 3462.0 *bid1* 3462.0 *bid1Size* 33 *ask1* 3463.0 *ask1Size* 602\n",
      "2018-04-20 22:59:47 *last* 3462.0 *bid1* 3462.0 *bid1Size* 171 *ask1* 3463.0 *ask1Size* 577\n",
      "2018-04-20 22:59:47.500000 *last* 3462.0 *bid1* 3462.0 *bid1Size* 130 *ask1* 3463.0 *ask1Size* 608\n",
      "2018-04-20 22:59:48 *last* 3462.0 *bid1* 3462.0 *bid1Size* 70 *ask1* 3463.0 *ask1Size* 601\n",
      "2018-04-20 22:59:48.500000 *last* 3461.0 *bid1* 3461.0 *bid1Size* 77 *ask1* 3462.0 *ask1Size* 23\n",
      "2018-04-20 22:59:49 *last* 3462.0 *bid1* 3461.0 *bid1Size* 81 *ask1* 3463.0 *ask1Size* 569\n",
      "2018-04-20 22:59:49.500000 *last* 3461.0 *bid1* 3461.0 *bid1Size* 199 *ask1* 3462.0 *ask1Size* 182\n",
      "2018-04-20 22:59:50 *last* 3462.0 *bid1* 3461.0 *bid1Size* 334 *ask1* 3462.0 *ask1Size* 246\n",
      "2018-04-20 22:59:50.500000 *last* 3453.0 *bid1* 3452.0 *bid1Size* 316 *ask1* 3453.0 *ask1Size* 2081\n",
      "2018-04-20 22:59:51 *last* 3452.0 *bid1* 3451.0 *bid1Size* 471 *ask1* 3452.0 *ask1Size* 21\n",
      "2018-04-20 22:59:51.500000 *last* 3452.0 *bid1* 3451.0 *bid1Size* 170 *ask1* 3452.0 *ask1Size* 11\n",
      "2018-04-20 22:59:52 *last* 3453.0 *bid1* 3452.0 *bid1Size* 54 *ask1* 3453.0 *ask1Size* 1062\n",
      "2018-04-20 22:59:52.500000 *last* 3453.0 *bid1* 3452.0 *bid1Size* 38 *ask1* 3453.0 *ask1Size* 874\n",
      "2018-04-20 22:59:53 *last* 3453.0 *bid1* 3452.0 *bid1Size* 3 *ask1* 3453.0 *ask1Size* 517\n",
      "2018-04-20 22:59:53.500000 *last* 3453.0 *bid1* 3452.0 *bid1Size* 27 *ask1* 3453.0 *ask1Size* 269\n",
      "2018-04-20 22:59:54 *last* 3453.0 *bid1* 3452.0 *bid1Size* 73 *ask1* 3453.0 *ask1Size* 154\n",
      "2018-04-20 22:59:54.500000 *last* 3452.0 *bid1* 3452.0 *bid1Size* 43 *ask1* 3453.0 *ask1Size* 95\n",
      "2018-04-20 22:59:55 *last* 3453.0 *bid1* 3452.0 *bid1Size* 26 *ask1* 3453.0 *ask1Size* 17\n",
      "2018-04-20 22:59:55.500000 *last* 3453.0 *bid1* 3455.0 *bid1Size* 1 *ask1* 3458.0 *ask1Size* 20\n",
      "2018-04-20 22:59:56 *last* 3453.0 *bid1* 3453.0 *bid1Size* 193 *ask1* 3455.0 *ask1Size* 44\n",
      "2018-04-20 22:59:56.500000 *last* 3455.0 *bid1* 3455.0 *bid1Size* 49 *ask1* 3460.0 *ask1Size* 1\n",
      "2018-04-20 22:59:57 *last* 3456.0 *bid1* 3456.0 *bid1Size* 61 *ask1* 3457.0 *ask1Size* 5\n",
      "2018-04-20 22:59:57.500000 *last* 3456.0 *bid1* 3455.0 *bid1Size* 177 *ask1* 3456.0 *ask1Size* 45\n",
      "2018-04-20 22:59:58 *last* 3456.0 *bid1* 3457.0 *bid1Size* 1 *ask1* 3461.0 *ask1Size* 73\n",
      "2018-04-20 22:59:58.500000 *last* 3460.0 *bid1* 3458.0 *bid1Size* 69 *ask1* 3460.0 *ask1Size* 6\n",
      "2018-04-20 22:59:59 *last* 3460.0 *bid1* 3457.0 *bid1Size* 1 *ask1* 3460.0 *ask1Size* 13\n",
      "2018-04-20 22:59:59.500000 *last* 3459.0 *bid1* 3458.0 *bid1Size* 11 *ask1* 3459.0 *ask1Size* 7\n",
      "2018-04-20 23:00:00 *last* 3461.0 *bid1* 3459.0 *bid1Size* 65 *ask1* 3461.0 *ask1Size* 178\n",
      "2018-04-20 23:00:00.500000 *last* 3461.0 *bid1* 3459.0 *bid1Size* 65 *ask1* 3461.0 *ask1Size* 178\n"
     ]
    }
   ],
   "source": [
    "client = pymongo.MongoClient('localhost', 27017)\n",
    "db = client[TICK_DB_NAME]\n",
    "collection = db['rb1810']\n",
    "collection.create_index('datetime')\n",
    "\n",
    "#data ={'testId':2, 'testData':'a'}\n",
    "#collection.update_many({'testId': 1}, {'$set': data}, upsert = True)\n",
    "startDatetime = datetime.strptime('2018-04-20 22:58:23', '%Y-%m-%d %H:%M:%S')\n",
    "endDatetime = datetime.strptime('2018-04-21 23:01:06', '%Y-%m-%d %H:%M:%S')\n",
    "flt = {'datetime':{'$gte':startDatetime,\n",
    "                   '$lt':endDatetime}}\n",
    "cursor = collection.find(flt)\n",
    "    \n",
    "for tick in cursor:\n",
    "    print tick['datetime'], '*last*', tick['lastPrice'], '*bid1*', tick['bidPrice1'], '*bid1Size*', tick['bidVolume1'], '*ask1*', tick['askPrice1'], '*ask1Size*', tick['askVolume1']\n"
   ]
  },
  {
   "cell_type": "code",
   "execution_count": 14,
   "metadata": {
    "collapsed": false
   },
   "outputs": [
    {
     "data": {
      "text/plain": [
       "<pymongo.results.DeleteResult at 0xa594b20>"
      ]
     },
     "execution_count": 14,
     "metadata": {},
     "output_type": "execute_result"
    }
   ],
   "source": [
    "collection.delete_many({'testId':2})"
   ]
  },
  {
   "cell_type": "code",
   "execution_count": 27,
   "metadata": {
    "collapsed": false
   },
   "outputs": [
    {
     "name": "stdout",
     "output_type": "stream",
     "text": [
      "no\n"
     ]
    }
   ],
   "source": [
    "cursor = collection.find({'testId':1})\n",
    "if cursor.count():\n",
    "    print 'yes'\n",
    "else:\n",
    "    print 'no'"
   ]
  },
  {
   "cell_type": "code",
   "execution_count": null,
   "metadata": {
    "collapsed": true
   },
   "outputs": [],
   "source": [
    "'''\n",
    "datetime\n",
    "'''"
   ]
  },
  {
   "cell_type": "code",
   "execution_count": 1,
   "metadata": {
    "collapsed": false
   },
   "outputs": [],
   "source": [
    "from datetime import datetime, time, timedelta"
   ]
  },
  {
   "cell_type": "code",
   "execution_count": 2,
   "metadata": {
    "collapsed": false
   },
   "outputs": [
    {
     "name": "stdout",
     "output_type": "stream",
     "text": [
      "2018-03-19 23:30:32.308000\n",
      "2018-03-20 23:30:32.308000\n"
     ]
    }
   ],
   "source": [
    "a = datetime.now()\n",
    "b = a + timedelta(1)\n",
    "print a\n",
    "print b"
   ]
  },
  {
   "cell_type": "code",
   "execution_count": null,
   "metadata": {
    "collapsed": false
   },
   "outputs": [],
   "source": [
    "a = False\n",
    "if not a:\n",
    "    print 'yes'"
   ]
  },
  {
   "cell_type": "code",
   "execution_count": null,
   "metadata": {
    "collapsed": true
   },
   "outputs": [],
   "source": [
    "'''\n",
    "json\n",
    "'''\n",
    "import json"
   ]
  },
  {
   "cell_type": "code",
   "execution_count": null,
   "metadata": {
    "collapsed": false
   },
   "outputs": [],
   "source": [
    "f1 = open(filePath)\n",
    "the = json.load(f1)\n",
    "for dic in the:\n",
    "    print dic['a']"
   ]
  },
  {
   "cell_type": "code",
   "execution_count": null,
   "metadata": {
    "collapsed": false
   },
   "outputs": [],
   "source": [
    "import os"
   ]
  },
  {
   "cell_type": "code",
   "execution_count": null,
   "metadata": {
    "collapsed": false
   },
   "outputs": [],
   "source": [
    "currentFolder = os.getcwd()\n",
    "print currentFolder\n",
    "newPath = os.path.join(currentFolder, '')"
   ]
  },
  {
   "cell_type": "code",
   "execution_count": null,
   "metadata": {
    "collapsed": false
   },
   "outputs": [],
   "source": [
    "d = datetime.now().strftime('Y-m-d')\n",
    "d"
   ]
  },
  {
   "cell_type": "code",
   "execution_count": null,
   "metadata": {
    "collapsed": true
   },
   "outputs": [],
   "source": [
    "'''\n",
    "pandas\n",
    "'''"
   ]
  },
  {
   "cell_type": "code",
   "execution_count": null,
   "metadata": {
    "collapsed": false
   },
   "outputs": [],
   "source": [
    "import pandas as pd\n",
    "from pandas import DataFrame\n",
    "from pandas import Series"
   ]
  },
  {
   "cell_type": "code",
   "execution_count": null,
   "metadata": {
    "collapsed": false
   },
   "outputs": [],
   "source": [
    "b = DataFrame()\n",
    "b['名称'] = []\n",
    "b['价格'] = []\n",
    "b['开盘价'] = []\n",
    "b.ix['2017-01-01'] = [1,2,3]\n",
    "b.ix['2017-01-02'] = [1,2,3]\n",
    "b.ix['2017-01-03'] = [1,2,3]\n",
    "b"
   ]
  },
  {
   "cell_type": "code",
   "execution_count": null,
   "metadata": {
    "collapsed": false
   },
   "outputs": [],
   "source": [
    "c = DataFrame()\n",
    "c['名称'] = []\n",
    "c['价格'] = []\n",
    "c['开盘价'] = []\n",
    "c.ix['2017-01-04'] = [1,2,3]\n",
    "c.ix['2017-01-05'] = [1,2,3]\n",
    "c.ix['2017-01-06'] = [1,2,3]\n",
    "c"
   ]
  },
  {
   "cell_type": "code",
   "execution_count": null,
   "metadata": {
    "collapsed": false
   },
   "outputs": [],
   "source": [
    "the = c.copy()\n",
    "for index in b.index:\n",
    "    if index not in c.index:\n",
    "        c.ix[index] = 0\n",
    "\n",
    "for index in the.index:\n",
    "    if index not in b.index:\n",
    "        b.ix[index] = 0\n",
    "\n",
    "print b\n",
    "print '\\n'\n",
    "print c"
   ]
  },
  {
   "cell_type": "code",
   "execution_count": null,
   "metadata": {
    "collapsed": false
   },
   "outputs": [],
   "source": [
    "d = b + c\n",
    "d = d.dropna()\n",
    "d"
   ]
  },
  {
   "cell_type": "code",
   "execution_count": null,
   "metadata": {
    "collapsed": true
   },
   "outputs": [],
   "source": [
    "fileName = 'abc.csv'"
   ]
  },
  {
   "cell_type": "code",
   "execution_count": null,
   "metadata": {
    "collapsed": true
   },
   "outputs": [],
   "source": [
    "b.to_csv(fileName, encoding = 'utf-8')"
   ]
  },
  {
   "cell_type": "code",
   "execution_count": null,
   "metadata": {
    "collapsed": false
   },
   "outputs": [],
   "source": [
    "c = pd.read_csv(fileName, encoding = 'utf-8')\n",
    "c"
   ]
  },
  {
   "cell_type": "code",
   "execution_count": null,
   "metadata": {
    "collapsed": true
   },
   "outputs": [],
   "source": [
    "'''\n",
    "csv\n",
    "'''"
   ]
  },
  {
   "cell_type": "code",
   "execution_count": null,
   "metadata": {
    "collapsed": true
   },
   "outputs": [],
   "source": [
    "import csv\n",
    "import codecs"
   ]
  },
  {
   "cell_type": "code",
   "execution_count": null,
   "metadata": {
    "collapsed": true
   },
   "outputs": [],
   "source": [
    "fileName = 'abc.csv'"
   ]
  },
  {
   "cell_type": "code",
   "execution_count": null,
   "metadata": {
    "collapsed": false
   },
   "outputs": [],
   "source": [
    "# 写\n",
    "f = file(fileName, 'wb')\n",
    "f.write(codecs.BOM_UTF8)\n",
    "\n",
    "fieldnames = [u'a', 'last_name']\n",
    "writer = csv.DictWriter(f, fieldnames=fieldnames)\n",
    "\n",
    "writer.writeheader()\n",
    "writer.writerow({'a': '和', 'last_name': '啊'})"
   ]
  },
  {
   "cell_type": "code",
   "execution_count": null,
   "metadata": {
    "collapsed": false
   },
   "outputs": [],
   "source": [
    "# 读\n",
    "with open(fileName) as f:\n",
    "    reader = csv.DictReader(f)\n",
    "    the = []\n",
    "    for row in reader:\n",
    "        the.append(row)\n",
    "    print the"
   ]
  },
  {
   "cell_type": "code",
   "execution_count": null,
   "metadata": {
    "collapsed": true
   },
   "outputs": [],
   "source": [
    "'''\n",
    "os\n",
    "'''"
   ]
  },
  {
   "cell_type": "code",
   "execution_count": null,
   "metadata": {
    "collapsed": true
   },
   "outputs": [],
   "source": [
    "import os"
   ]
  },
  {
   "cell_type": "code",
   "execution_count": null,
   "metadata": {
    "collapsed": false
   },
   "outputs": [],
   "source": [
    "exists = os.path.exists(fileName)\n",
    "print exists\n",
    "print os.getcwd()\n",
    "newFileName = os.getcwd() + '\\clone\\\\abc.csv'\n",
    "print newFileName\n",
    "print os.path.exists(newFileName)"
   ]
  },
  {
   "cell_type": "code",
   "execution_count": null,
   "metadata": {
    "collapsed": false
   },
   "outputs": [],
   "source": [
    "dic = {'a':1, 'b':2, 'c':3}\n",
    "print dic.keys()\n",
    "print type(dic.keys())"
   ]
  },
  {
   "cell_type": "code",
   "execution_count": null,
   "metadata": {
    "collapsed": false
   },
   "outputs": [],
   "source": [
    "walkingDic = 'C:\\\\Users'\n",
    "for root, subdirs, files in os.walk(walkingDic):\n",
    "    for sub in subdirs:\n",
    "        if sub == 'stgEarningCSV':\n",
    "            print root"
   ]
  },
  {
   "cell_type": "code",
   "execution_count": null,
   "metadata": {
    "collapsed": true
   },
   "outputs": [],
   "source": [
    "'''\n",
    "MongoDB\n",
    "'''"
   ]
  },
  {
   "cell_type": "code",
   "execution_count": 5,
   "metadata": {
    "collapsed": false
   },
   "outputs": [],
   "source": [
    "import pymongo\n",
    "from datetime import datetime\n",
    "from vnpy.trader.app.ctaStrategy.ctaBase import TICK_DB_NAME\n",
    "from copy import copy\n",
    "from time import time"
   ]
  },
  {
   "cell_type": "code",
   "execution_count": 10,
   "metadata": {
    "collapsed": false,
    "scrolled": true
   },
   "outputs": [
    {
     "name": "stdout",
     "output_type": "stream",
     "text": [
      "2017-06-27 22:29:00\n",
      "2017-06-27 22:58:00\n",
      "2017-06-28 09:00:00\n",
      "2017-06-28 09:29:00\n",
      "2017-06-28 09:58:00\n",
      "2017-06-28 10:58:00\n",
      "2017-06-28 11:29:00\n",
      "2017-06-28 13:58:00\n",
      "2017-06-28 14:29:00\n",
      "2017-06-28 14:58:00\n",
      "2017-06-28 21:29:00\n",
      "11\n",
      "0.0169999599457\n"
     ]
    }
   ],
   "source": [
    "code = 'rb00.TB'\n",
    "#code = 'i00.TB'\n",
    "startDate = datetime.strptime('2017-06-27 22:29:00', '%Y-%m-%d %H:%M:%S')\n",
    "endDate = datetime.strptime('2015-06-06 23:59:00', '%Y-%m-%d %H:%M:%S')\n",
    "client = pymongo.MongoClient('localhost', 27017)\n",
    "db = client['VnTrader_29Min_Db']\n",
    "#db = client['VnTrader_Tick_Db']\n",
    "collection = db[code]\n",
    "collection.create_index('datetime')\n",
    "#flt = {'datetime':{'$gte':startDate, '$lt':endDate}} \n",
    "flt = {'datetime':{'$gte':startDate}} \n",
    "data = collection.find(flt).sort('datetime')\n",
    "\n",
    "start = time()\n",
    "for dic in data:\n",
    "    print dic['datetime']\n",
    "print data.count()\n",
    "print time() - start\n"
   ]
  },
  {
   "cell_type": "code",
   "execution_count": 32,
   "metadata": {
    "collapsed": false,
    "scrolled": true
   },
   "outputs": [
    {
     "name": "stdout",
     "output_type": "stream",
     "text": [
      "2018-03-19 21:19:27.438000\n",
      "<type 'str'>\n"
     ]
    }
   ],
   "source": [
    "a = datetime.now()\n",
    "b = str(a)\n",
    "print b\n",
    "print type(b)"
   ]
  },
  {
   "cell_type": "code",
   "execution_count": 6,
   "metadata": {
    "collapsed": false,
    "scrolled": false
   },
   "outputs": [
    {
     "name": "stdout",
     "output_type": "stream",
     "text": [
      "2015-09-21 21:00:00.500000\n",
      "1906.0\n",
      "\n",
      "\n",
      "2015-09-21 21:00:01\n",
      "1907.0\n",
      "\n",
      "\n",
      "2015-09-21 21:00:01.500000\n",
      "1906.0\n",
      "\n",
      "\n"
     ]
    }
   ],
   "source": [
    "code = 'rb00.TB'\n",
    "startDate = datetime.strptime('2015-09-21 21:00:00', '%Y-%m-%d %H:%M:%S')\n",
    "endDate = datetime.strptime('2015-09-21 21:00:02', '%Y-%m-%d %H:%M:%S')\n",
    "client = pymongo.MongoClient('localhost', 27017)\n",
    "collection = client[TICK_DB_NAME][code]\n",
    "flt = {'datetime':{'$gte':startDate,\n",
    "                   '$lt':endDate}}        \n",
    "data = collection.find(flt).sort('datetime')\n",
    "for dic in data:\n",
    "    print dic['datetime']\n",
    "    print dic['lastPrice']\n",
    "    print '\\n'"
   ]
  },
  {
   "cell_type": "code",
   "execution_count": 2,
   "metadata": {
    "collapsed": false
   },
   "outputs": [
    {
     "name": "stdout",
     "output_type": "stream",
     "text": [
      "2011-11-01 09:00:00.500000\n"
     ]
    }
   ],
   "source": [
    "from datetime import datetime\n",
    "day = '20111101'\n",
    "time = '90000500000'\n",
    "dayTime = day + ' ' + time\n",
    "dt = datetime.strptime(dayTime, '%Y%m%d %H%M%S%f')\n",
    "print dt"
   ]
  },
  {
   "cell_type": "code",
   "execution_count": null,
   "metadata": {
    "collapsed": true
   },
   "outputs": [],
   "source": [
    "'''\n",
    "threading\n",
    "'''"
   ]
  },
  {
   "cell_type": "code",
   "execution_count": 6,
   "metadata": {
    "collapsed": true
   },
   "outputs": [],
   "source": [
    "from time import ctime, sleep\n",
    "import threading"
   ]
  },
  {
   "cell_type": "code",
   "execution_count": 40,
   "metadata": {
    "collapsed": false
   },
   "outputs": [],
   "source": [
    "class MyThread(threading.Thread):\n",
    "    def __init__(self, func, args = ()):\n",
    "        super(MyThread, self).__init__()\n",
    "        self.func = func\n",
    "        self.args = args\n",
    "    \n",
    "    def run(self):\n",
    "        self.result = self.func(*self.args)\n",
    "    \n",
    "    \n",
    "    def get_result(self):\n",
    "        try:\n",
    "            return self.result\n",
    "        except Exception:\n",
    "            return None\n",
    "        "
   ]
  },
  {
   "cell_type": "code",
   "execution_count": 36,
   "metadata": {
    "collapsed": false,
    "scrolled": true
   },
   "outputs": [
    {
     "ename": "NameError",
     "evalue": "name 'MyThread' is not defined",
     "output_type": "error",
     "traceback": [
      "\u001b[1;31m---------------------------------------------------------------------------\u001b[0m",
      "\u001b[1;31mNameError\u001b[0m                                 Traceback (most recent call last)",
      "\u001b[1;32m<ipython-input-36-1eea8e493860>\u001b[0m in \u001b[0;36m<module>\u001b[1;34m()\u001b[0m\n\u001b[0;32m      8\u001b[0m \u001b[0mdfList\u001b[0m \u001b[1;33m=\u001b[0m \u001b[1;33m[\u001b[0m\u001b[1;33m]\u001b[0m\u001b[1;33m\u001b[0m\u001b[0m\n\u001b[0;32m      9\u001b[0m \u001b[1;32mfor\u001b[0m \u001b[0mi\u001b[0m \u001b[1;32min\u001b[0m \u001b[0mrange\u001b[0m\u001b[1;33m(\u001b[0m\u001b[1;36m2\u001b[0m\u001b[1;33m)\u001b[0m\u001b[1;33m:\u001b[0m\u001b[1;33m\u001b[0m\u001b[0m\n\u001b[1;32m---> 10\u001b[1;33m     \u001b[0mt\u001b[0m \u001b[1;33m=\u001b[0m \u001b[0mMyThread\u001b[0m\u001b[1;33m(\u001b[0m\u001b[0maction\u001b[0m\u001b[1;33m,\u001b[0m \u001b[0margs\u001b[0m \u001b[1;33m=\u001b[0m \u001b[1;33m(\u001b[0m\u001b[0mstr\u001b[0m\u001b[1;33m(\u001b[0m\u001b[0mi\u001b[0m\u001b[1;33m)\u001b[0m\u001b[1;33m)\u001b[0m\u001b[1;33m)\u001b[0m\u001b[1;33m\u001b[0m\u001b[0m\n\u001b[0m\u001b[0;32m     11\u001b[0m     \u001b[0mtList\u001b[0m\u001b[1;33m.\u001b[0m\u001b[0mappend\u001b[0m\u001b[1;33m(\u001b[0m\u001b[0mt\u001b[0m\u001b[1;33m)\u001b[0m\u001b[1;33m\u001b[0m\u001b[0m\n\u001b[0;32m     12\u001b[0m     \u001b[0mt\u001b[0m\u001b[1;33m.\u001b[0m\u001b[0mstart\u001b[0m\u001b[1;33m(\u001b[0m\u001b[1;33m)\u001b[0m\u001b[1;33m\u001b[0m\u001b[0m\n",
      "\u001b[1;31mNameError\u001b[0m: name 'MyThread' is not defined"
     ]
    }
   ],
   "source": [
    "def action(arg):\n",
    "    print 'arg:', arg\n",
    "    sleep(6)\n",
    "    print 'abc:', arg\n",
    "    return arg\n",
    "\n",
    "tList =  []\n",
    "dfList = []\n",
    "for i in range(2):\n",
    "    t = MyThread(action, args = (str(i)))\n",
    "    tList.append(t)\n",
    "    t.start()\n",
    "    \n",
    "for t in tList:\n",
    "    print 'abcxyz'\n",
    "    dfList.append(t.get_result())\n",
    "    t.join()\n",
    "\n",
    "print '='*20\n",
    "print dfList, '\\n'"
   ]
  },
  {
   "cell_type": "code",
   "execution_count": 39,
   "metadata": {
    "collapsed": false
   },
   "outputs": [
    {
     "name": "stdout",
     "output_type": "stream",
     "text": [
      "arg: x\n",
      "arg: y\n",
      "abc: xabc:\n",
      " y\n",
      "main\n"
     ]
    }
   ],
   "source": [
    "threads = []\n",
    "t1 = threading.Thread(target = action, args = ('x'))\n",
    "threads.append(t1)\n",
    "t1.start()\n",
    "\n",
    "t2 = threading.Thread(target = action, args = ('y'))\n",
    "threads.append(t2)\n",
    "t2.start()\n",
    "\n",
    "for t in threads:\n",
    "    #t.setDaemon(True)\n",
    "    #t.start()\n",
    "    t.join()\n",
    "print 'main'"
   ]
  },
  {
   "cell_type": "code",
   "execution_count": null,
   "metadata": {
    "collapsed": true
   },
   "outputs": [],
   "source": [
    "'''\n",
    "datetime\n",
    "'''"
   ]
  },
  {
   "cell_type": "code",
   "execution_count": 11,
   "metadata": {
    "collapsed": true
   },
   "outputs": [],
   "source": [
    "from datetime import datetime, time, timedelta"
   ]
  },
  {
   "cell_type": "code",
   "execution_count": 14,
   "metadata": {
    "collapsed": false
   },
   "outputs": [
    {
     "name": "stdout",
     "output_type": "stream",
     "text": [
      "09:31:49.402000\n",
      "09:32:49.402000\n",
      "09:33:49.402000\n"
     ]
    }
   ],
   "source": [
    "nowTime = datetime.now().time()\n",
    "startMinute = nowTime.minute\n",
    "startHour = nowTime.hour\n",
    "startMinute += 1\n",
    "if startMinute >= 60:\n",
    "    startMinute = 0\n",
    "    startHour += 1\n",
    "        \n",
    "endMinute = startMinute + 1\n",
    "endHour =  startHour\n",
    "if endMinute >= 60:\n",
    "    endMinute = 0\n",
    "    endHour += 1\n",
    "        \n",
    "startTime = nowTime.replace(hour=startHour, minute=startMinute)\n",
    "endTime = nowTime.replace(hour=endHour, minute=endMinute)\n",
    "\n",
    "print nowTime\n",
    "print startTime\n",
    "print endTime"
   ]
  },
  {
   "cell_type": "code",
   "execution_count": 1,
   "metadata": {
    "collapsed": true
   },
   "outputs": [],
   "source": [
    "from datetime import datetime"
   ]
  },
  {
   "cell_type": "code",
   "execution_count": 8,
   "metadata": {
    "collapsed": false
   },
   "outputs": [
    {
     "name": "stdout",
     "output_type": "stream",
     "text": [
      "2017-05-11 11:30:00.500000\n"
     ]
    }
   ],
   "source": [
    "timeStr = '113000500'\n",
    "the = datetime.strptime(timeStr, '%H%M%S%f')\n",
    "time = the.strftime('%H:%M:%S.%f')\n",
    "\n",
    "dateStr = '20170511'\n",
    "\n",
    "the = datetime.strptime(dateStr + ' ' + time, '%Y%m%d %H:%M:%S.%f')\n",
    "print the"
   ]
  },
  {
   "cell_type": "code",
   "execution_count": 5,
   "metadata": {
    "collapsed": true
   },
   "outputs": [],
   "source": [
    "from datetime import time"
   ]
  },
  {
   "cell_type": "code",
   "execution_count": 7,
   "metadata": {
    "collapsed": false
   },
   "outputs": [
    {
     "name": "stdout",
     "output_type": "stream",
     "text": [
      "<type 'datetime.time'>\n"
     ]
    }
   ],
   "source": [
    "a = time(6, 6, 6)\n",
    "print time"
   ]
  },
  {
   "cell_type": "code",
   "execution_count": null,
   "metadata": {
    "collapsed": true
   },
   "outputs": [],
   "source": [
    "'''\n",
    "str\n",
    "'''"
   ]
  },
  {
   "cell_type": "code",
   "execution_count": 4,
   "metadata": {
    "collapsed": false
   },
   "outputs": [
    {
     "name": "stdout",
     "output_type": "stream",
     "text": [
      ".abc.index\n"
     ]
    }
   ],
   "source": [
    "a = '.abc.index'\n",
    "if a.endswith('.index'):\n",
    "    print a\n",
    "else:\n",
    "    print 'no'"
   ]
  },
  {
   "cell_type": "code",
   "execution_count": 12,
   "metadata": {
    "collapsed": false
   },
   "outputs": [
    {
     "data": {
      "text/plain": [
       "0"
      ]
     },
     "execution_count": 12,
     "metadata": {},
     "output_type": "execute_result"
    }
   ],
   "source": [
    "b = a.index('.')\n",
    "b"
   ]
  },
  {
   "cell_type": "code",
   "execution_count": 19,
   "metadata": {
    "collapsed": true
   },
   "outputs": [],
   "source": [
    "import datetime"
   ]
  },
  {
   "cell_type": "code",
   "execution_count": 8,
   "metadata": {
    "collapsed": false
   },
   "outputs": [
    {
     "name": "stdout",
     "output_type": "stream",
     "text": [
      "00:10:00\n"
     ]
    }
   ],
   "source": [
    "timeStr = '1000000'\n",
    "theLen = len(timeStr)\n",
    "if theLen < 9:\n",
    "    sub = 9 - theLen\n",
    "    timeStr = '0'*sub + timeStr\n",
    "tickTime = datetime.datetime.strptime(timeStr, '%H%M%S%f').time()\n",
    "print tickTime"
   ]
  },
  {
   "cell_type": "code",
   "execution_count": 1,
   "metadata": {
    "collapsed": false
   },
   "outputs": [
    {
     "name": "stdout",
     "output_type": "stream",
     "text": [
      "21\n",
      "00\n",
      "60\n",
      "000\n"
     ]
    }
   ],
   "source": [
    "timeStr = '210060000'\n",
    "hour = timeStr[0:2]\n",
    "minute = timeStr[2:4]\n",
    "second = timeStr[4:6]\n",
    "microSecond = timeStr[6:9]\n",
    "print hour\n",
    "print minute\n",
    "print second\n",
    "print microSecond"
   ]
  },
  {
   "cell_type": "code",
   "execution_count": 31,
   "metadata": {
    "collapsed": false
   },
   "outputs": [
    {
     "name": "stdout",
     "output_type": "stream",
     "text": [
      "VnTrader_2Min_Db\n"
     ]
    }
   ],
   "source": [
    "kLine =  2\n",
    "barDbName = 'VnTrader_%ldMin_Db' % kLine\n",
    "print barDbName"
   ]
  },
  {
   "cell_type": "code",
   "execution_count": 75,
   "metadata": {
    "collapsed": false
   },
   "outputs": [
    {
     "name": "stdout",
     "output_type": "stream",
     "text": [
      "1 2 3\n",
      "4 5 6\n"
     ]
    }
   ],
   "source": [
    "a = [1, 2, 3]\n",
    "b = [4, 5, 6]\n",
    "data = [a, b]\n",
    "for x, y, z in data:\n",
    "    print x, y, z"
   ]
  },
  {
   "cell_type": "code",
   "execution_count": null,
   "metadata": {
    "collapsed": true
   },
   "outputs": [],
   "source": [
    "'''\n",
    "os\n",
    "'''"
   ]
  },
  {
   "cell_type": "code",
   "execution_count": 8,
   "metadata": {
    "collapsed": true
   },
   "outputs": [],
   "source": [
    "import os"
   ]
  },
  {
   "cell_type": "code",
   "execution_count": 12,
   "metadata": {
    "collapsed": false
   },
   "outputs": [
    {
     "name": "stdout",
     "output_type": "stream",
     "text": [
      "['All Users', 'Default', 'Default User', 'desktop.ini', 'Public', 'Rachel']\n"
     ]
    }
   ],
   "source": [
    "#a = os.path.dirname(\"C:\\\\Users\")\n",
    "a = os.listdir(\"C:\\\\Users\") \n",
    "print a"
   ]
  },
  {
   "cell_type": "code",
   "execution_count": 13,
   "metadata": {
    "collapsed": true
   },
   "outputs": [],
   "source": [
    "import multiprocessing\n",
    "import threading\n",
    "from time import sleep"
   ]
  },
  {
   "cell_type": "code",
   "execution_count": 40,
   "metadata": {
    "collapsed": true
   },
   "outputs": [],
   "source": [
    "def action():\n",
    "    sleep(2)\n",
    "    print 'start'"
   ]
  },
  {
   "cell_type": "code",
   "execution_count": 47,
   "metadata": {
    "collapsed": false
   },
   "outputs": [
    {
     "name": "stdout",
     "output_type": "stream",
     "text": [
      "start\n",
      "yes\n"
     ]
    }
   ],
   "source": [
    "#另开线程进行盈亏记录操作\n",
    "a = 'xyz'\n",
    "newThread = threading.Thread(target = action, args=())\n",
    "#开启线程守护（当主线程挂起时，无论子线程有没有执行完都会随主线程挂起）\n",
    "#newThread.setDaemon(True)\n",
    "newThread.start()\n",
    "newThread.join()\n",
    "print 'yes'"
   ]
  },
  {
   "cell_type": "code",
   "execution_count": 29,
   "metadata": {
    "collapsed": false
   },
   "outputs": [
    {
     "name": "stdout",
     "output_type": "stream",
     "text": [
      "x\n"
     ]
    }
   ],
   "source": [
    "t1 = threading.Thread(target = action, args = ('x'))\n",
    "t1.start()"
   ]
  },
  {
   "cell_type": "code",
   "execution_count": null,
   "metadata": {
    "collapsed": true
   },
   "outputs": [],
   "source": [
    "'''\n",
    "daily data\n",
    "'''"
   ]
  },
  {
   "cell_type": "code",
   "execution_count": 69,
   "metadata": {
    "collapsed": false
   },
   "outputs": [],
   "source": [
    "from vnpy.trader.app.ctaStrategy.ctaBase import DAILY_DB_NAME\n",
    "import pymongo"
   ]
  },
  {
   "cell_type": "code",
   "execution_count": 70,
   "metadata": {
    "collapsed": false,
    "scrolled": true
   },
   "outputs": [
    {
     "name": "stdout",
     "output_type": "stream",
     "text": [
      "2017-07-18 00:00:00 cu1807 开盘 49810 收盘 49480\n",
      "2017-07-19 00:00:00 cu1807 开盘 49600 收盘 49660\n",
      "2017-07-20 00:00:00 cu1807 开盘 49650 收盘 49580\n",
      "2017-07-21 00:00:00 cu1807 开盘 49480 收盘 49650\n",
      "2017-07-24 00:00:00 cu1807 开盘 49620 收盘 49550\n",
      "2017-07-25 00:00:00 cu1807 开盘 49650 收盘 50550\n",
      "2017-07-26 00:00:00 cu1807 开盘 50880 收盘 52150\n",
      "2017-07-27 00:00:00 cu1807 开盘 52120 收盘 51920\n",
      "2017-07-28 00:00:00 cu1807 开盘 52120 收盘 51800\n",
      "2017-07-31 00:00:00 cu1807 开盘 51800 收盘 52540\n",
      "2017-08-01 00:00:00 cu1807 开盘 52270 收盘 52110\n",
      "2017-08-02 00:00:00 cu1807 开盘 52170 收盘 51910\n",
      "2017-08-03 00:00:00 cu1807 开盘 51990 收盘 51750\n",
      "2017-08-04 00:00:00 cu1807 开盘 51980 收盘 52170\n",
      "2017-08-07 00:00:00 cu1807 开盘 52170 收盘 52130\n",
      "2017-08-08 00:00:00 cu1807 开盘 52300 收盘 52180\n",
      "2017-08-09 00:00:00 cu1807 开盘 52270 收盘 52950\n",
      "2017-08-10 00:00:00 cu1807 开盘 52850 收盘 52450\n",
      "2017-08-11 00:00:00 cu1807 开盘 52280 收盘 51650\n",
      "2017-08-14 00:00:00 cu1807 开盘 51980 收盘 51760\n",
      "2017-08-15 00:00:00 cu1807 开盘 51900 收盘 51990\n",
      "2017-08-16 00:00:00 cu1807 开盘 51980 收盘 51860\n",
      "2017-08-17 00:00:00 cu1807 开盘 52320 收盘 52970\n",
      "2017-08-18 00:00:00 cu1807 开盘 52780 收盘 52730\n",
      "2017-08-21 00:00:00 cu1807 开盘 52910 收盘 53160\n",
      "2017-08-22 00:00:00 cu1807 开盘 53330 收盘 53720\n",
      "2017-08-23 00:00:00 cu1807 开盘 53800 收盘 53100\n",
      "2017-08-24 00:00:00 cu1807 开盘 53080 收盘 53370\n",
      "2017-08-25 00:00:00 cu1807 开盘 53520 收盘 54300\n",
      "2017-08-28 00:00:00 cu1807 开盘 54220 收盘 54410\n",
      "2017-08-29 00:00:00 cu1807 开盘 54330 收盘 54240\n",
      "2017-08-30 00:00:00 cu1807 开盘 54580 收盘 54270\n",
      "2017-08-31 00:00:00 cu1807 开盘 53990 收盘 54290\n",
      "2017-09-01 00:00:00 cu1807 开盘 54280 收盘 54320\n",
      "2017-09-04 00:00:00 cu1807 开盘 54100 收盘 54620\n",
      "2017-09-05 00:00:00 cu1807 开盘 54590 收盘 55100\n",
      "2017-09-06 00:00:00 cu1807 开盘 54790 收盘 54640\n",
      "2017-09-07 00:00:00 cu1807 开盘 54530 收盘 54160\n",
      "2017-09-08 00:00:00 cu1807 开盘 54040 收盘 53140\n",
      "2017-09-11 00:00:00 cu1807 开盘 53160 收盘 52880\n",
      "2017-09-12 00:00:00 cu1807 开盘 53180 收盘 53170\n",
      "2017-09-13 00:00:00 cu1807 开盘 52480 收盘 52450\n",
      "2017-09-14 00:00:00 cu1807 开盘 52020 收盘 51800\n",
      "2017-09-15 00:00:00 cu1807 开盘 51820 收盘 51560\n",
      "2017-09-18 00:00:00 cu1807 开盘 51480 收盘 52000\n",
      "2017-09-19 00:00:00 cu1807 开盘 51920 收盘 52140\n",
      "2017-09-20 00:00:00 cu1807 开盘 52040 收盘 52170\n",
      "2017-09-21 00:00:00 cu1807 开盘 52110 收盘 51530\n",
      "2017-09-22 00:00:00 cu1807 开盘 51520 收盘 50810\n",
      "2017-09-25 00:00:00 cu1807 开盘 51300 收盘 51600\n",
      "2017-09-26 00:00:00 cu1807 开盘 51590 收盘 51960\n",
      "2017-09-27 00:00:00 cu1807 开盘 51630 收盘 51690\n",
      "2017-09-28 00:00:00 cu1807 开盘 51760 收盘 51740\n",
      "2017-09-29 00:00:00 cu1807 开盘 51910 收盘 52790\n",
      "2017-10-09 00:00:00 cu1807 开盘 52790 收盘 53080\n",
      "2017-10-10 00:00:00 cu1807 开盘 53000 收盘 52730\n",
      "2017-10-11 00:00:00 cu1807 开盘 52640 收盘 53240\n",
      "2017-10-12 00:00:00 cu1807 开盘 53010 收盘 54010\n",
      "2017-10-13 00:00:00 cu1807 开盘 54010 收盘 54200\n",
      "2017-10-16 00:00:00 cu1807 开盘 54220 收盘 56500\n",
      "2017-10-17 00:00:00 cu1807 开盘 56610 收盘 56450\n",
      "2017-10-18 00:00:00 cu1807 开盘 56450 收盘 56000\n",
      "2017-10-19 00:00:00 cu1807 开盘 55950 收盘 55800\n",
      "2017-10-20 00:00:00 cu1807 开盘 55490 收盘 56290\n",
      "2017-10-23 00:00:00 cu1807 开盘 56320 收盘 55550\n",
      "2017-10-24 00:00:00 cu1807 开盘 55770 收盘 56480\n",
      "2017-10-25 00:00:00 cu1807 开盘 56600 收盘 55450\n",
      "2017-10-26 00:00:00 cu1807 开盘 55690 收盘 55650\n",
      "2017-10-27 00:00:00 cu1807 开盘 55660 收盘 54900\n",
      "2017-10-30 00:00:00 cu1807 开盘 54550 收盘 54490\n",
      "2017-10-31 00:00:00 cu1807 开盘 54350 收盘 54690\n",
      "2017-11-01 00:00:00 cu1807 开盘 54400 收盘 55280\n",
      "2017-11-02 00:00:00 cu1807 开盘 55110 收盘 54790\n",
      "2017-11-03 00:00:00 cu1807 开盘 54910 收盘 55270\n",
      "2017-11-06 00:00:00 cu1807 开盘 55080 收盘 55570\n",
      "2017-11-07 00:00:00 cu1807 开盘 55700 收盘 55500\n",
      "2017-11-08 00:00:00 cu1807 开盘 55200 收盘 54360\n",
      "2017-11-09 00:00:00 cu1807 开盘 54580 收盘 54130\n",
      "2017-11-10 00:00:00 cu1807 开盘 54230 收盘 54460\n",
      "2017-11-13 00:00:00 cu1807 开盘 54460 收盘 54590\n",
      "2017-11-14 00:00:00 cu1807 开盘 54380 收盘 55050\n",
      "2017-11-15 00:00:00 cu1807 开盘 55070 收盘 53780\n",
      "2017-11-16 00:00:00 cu1807 开盘 53900 收盘 53780\n",
      "2017-11-17 00:00:00 cu1807 开盘 54000 收盘 53970\n",
      "2017-11-20 00:00:00 cu1807 开盘 53760 收盘 53990\n",
      "2017-11-21 00:00:00 cu1807 开盘 54100 收盘 54420\n",
      "2017-11-22 00:00:00 cu1807 开盘 54880 收盘 55100\n",
      "2017-11-23 00:00:00 cu1807 开盘 54950 收盘 54820\n",
      "2017-11-24 00:00:00 cu1807 开盘 54830 收盘 55380\n",
      "2017-11-27 00:00:00 cu1807 开盘 55380 收盘 54850\n",
      "2017-11-28 00:00:00 cu1807 开盘 54840 收盘 54410\n",
      "2017-11-29 00:00:00 cu1807 开盘 54200 收盘 54130\n",
      "2017-11-30 00:00:00 cu1807 开盘 53930 收盘 53650\n",
      "2017-12-01 00:00:00 cu1807 开盘 53920 收盘 53800\n",
      "2017-12-04 00:00:00 cu1807 开盘 53670 收盘 54410\n",
      "2017-12-05 00:00:00 cu1807 开盘 54280 收盘 53380\n",
      "2017-12-06 00:00:00 cu1807 开盘 53000 收盘 52110\n",
      "2017-12-07 00:00:00 cu1807 开盘 52260 收盘 52050\n",
      "2017-12-08 00:00:00 cu1807 开盘 52200 收盘 52520\n",
      "2017-12-11 00:00:00 cu1807 开盘 52400 收盘 52120\n",
      "2017-12-12 00:00:00 cu1807 开盘 52330 收盘 52810\n",
      "2017-12-13 00:00:00 cu1807 开盘 52850 收盘 53090\n",
      "2017-12-14 00:00:00 cu1807 开盘 53090 收盘 53070\n",
      "2017-12-15 00:00:00 cu1807 开盘 53420 收盘 53640\n",
      "2017-12-18 00:00:00 cu1807 开盘 53580 收盘 54370\n",
      "2017-12-19 00:00:00 cu1807 开盘 54280 收盘 54110\n",
      "2017-12-20 00:00:00 cu1807 开盘 54200 收盘 54390\n",
      "2017-12-21 00:00:00 cu1807 开盘 54730 收盘 55030\n",
      "2017-12-22 00:00:00 cu1807 开盘 55090 收盘 55240\n",
      "2017-12-25 00:00:00 cu1807 开盘 55240 收盘 55570\n",
      "2017-12-26 00:00:00 cu1807 开盘 55430 收盘 56000\n",
      "2017-12-27 00:00:00 cu1807 开盘 56190 收盘 55800\n",
      "2017-12-28 00:00:00 cu1807 开盘 55890 收盘 56600\n",
      "2017-12-29 00:00:00 cu1807 开盘 56270 收盘 56260\n",
      "2018-01-02 00:00:00 cu1807 开盘 56340 收盘 55960\n",
      "2018-01-03 00:00:00 cu1807 开盘 55860 收盘 55590\n",
      "2018-01-04 00:00:00 cu1807 开盘 55510 收盘 55940\n",
      "2018-01-05 00:00:00 cu1807 开盘 56030 收盘 55560\n",
      "2018-01-08 00:00:00 cu1807 开盘 55300 收盘 55280\n",
      "2018-01-09 00:00:00 cu1807 开盘 55270 收盘 55690\n",
      "2018-01-10 00:00:00 cu1807 开盘 55610 收盘 55420\n",
      "2018-01-11 00:00:00 cu1807 开盘 55830 收盘 55700\n",
      "2018-01-12 00:00:00 cu1807 开盘 55650 收盘 55380\n",
      "2018-01-15 00:00:00 cu1807 开盘 55150 收盘 55580\n",
      "2018-01-16 00:00:00 cu1807 开盘 55580 收盘 54900\n",
      "2018-01-17 00:00:00 cu1807 开盘 54510 收盘 54210\n",
      "2018-01-18 00:00:00 cu1807 开盘 54310 收盘 54320\n",
      "2018-01-19 00:00:00 cu1807 开盘 54500 收盘 54300\n",
      "2018-01-22 00:00:00 cu1807 开盘 54400 收盘 54530\n",
      "2018-01-23 00:00:00 cu1807 开盘 54450 收盘 54360\n",
      "2018-01-24 00:00:00 cu1807 开盘 53800 收盘 53350\n",
      "2018-01-25 00:00:00 cu1807 开盘 53500 收盘 54490\n",
      "2018-01-26 00:00:00 cu1807 开盘 54400 收盘 54110\n",
      "2018-01-29 00:00:00 cu1807 开盘 54060 收盘 54260\n",
      "2018-01-30 00:00:00 cu1807 开盘 54090 收盘 53600\n",
      "2018-01-31 00:00:00 cu1807 开盘 53800 收盘 53930\n",
      "2018-02-01 00:00:00 cu1807 开盘 53990 收盘 53680\n",
      "2018-02-02 00:00:00 cu1807 开盘 53600 收盘 54160\n",
      "2018-02-05 00:00:00 cu1807 开盘 53910 收盘 53730\n",
      "2018-02-06 00:00:00 cu1807 开盘 53730 收盘 53440\n",
      "2018-02-07 00:00:00 cu1807 开盘 53550 收盘 53440\n",
      "2018-02-08 00:00:00 cu1807 开盘 53200 收盘 52650\n",
      "2018-02-09 00:00:00 cu1807 开盘 52640 收盘 52140\n",
      "2018-02-12 00:00:00 cu1807 开盘 51910 收盘 52230\n",
      "2018-02-13 00:00:00 cu1807 开盘 52200 收盘 52710\n",
      "2018-02-14 00:00:00 cu1807 开盘 52900 收盘 53330\n",
      "2018-02-22 00:00:00 cu1807 开盘 53630 收盘 53330\n",
      "2018-02-23 00:00:00 cu1807 开盘 53450 收盘 54200\n",
      "2018-02-26 00:00:00 cu1807 开盘 54000 收盘 54180\n",
      "2018-02-27 00:00:00 cu1807 开盘 54100 收盘 53940\n",
      "2018-02-28 00:00:00 cu1807 开盘 53720 收盘 53120\n",
      "2018-03-01 00:00:00 cu1807 开盘 53160 收盘 52850\n",
      "2018-03-02 00:00:00 cu1807 开盘 52510 收盘 52910\n",
      "2018-03-05 00:00:00 cu1807 开盘 52720 收盘 52480\n",
      "2018-03-06 00:00:00 cu1807 开盘 52400 收盘 52990\n",
      "2018-03-07 00:00:00 cu1807 开盘 53220 收盘 52850\n",
      "2018-03-08 00:00:00 cu1807 开盘 52620 收盘 52400\n",
      "2018-03-09 00:00:00 cu1807 开盘 52110 收盘 51550\n",
      "2018-03-12 00:00:00 cu1807 开盘 51800 收盘 52350\n",
      "2018-03-13 00:00:00 cu1807 开盘 52340 收盘 52170\n",
      "2018-03-14 00:00:00 cu1807 开盘 52500 收盘 52770\n",
      "2018-03-15 00:00:00 cu1807 开盘 53000 收盘 52600\n",
      "2018-03-16 00:00:00 cu1807 开盘 52320 收盘 52580\n",
      "2018-03-19 00:00:00 cu1807 开盘 52580 收盘 51830\n",
      "2018-03-20 00:00:00 cu1807 开盘 51710 收盘 51830\n",
      "2018-03-21 00:00:00 cu1807 开盘 51820 收盘 50990\n",
      "2018-03-22 00:00:00 cu1807 开盘 50800 收盘 51590\n",
      "2018-03-23 00:00:00 cu1807 开盘 51390 收盘 50460\n",
      "2018-03-26 00:00:00 cu1807 开盘 50460 收盘 49230\n",
      "2018-03-27 00:00:00 cu1807 开盘 49110 收盘 49970\n",
      "2018-03-28 00:00:00 cu1807 开盘 49840 收盘 49580\n",
      "2018-03-29 00:00:00 cu1807 开盘 49900 收盘 50140\n",
      "2018-03-30 00:00:00 cu1807 开盘 50190 收盘 50510\n",
      "2018-04-02 00:00:00 cu1807 开盘 50600 收盘 50750\n",
      "2018-04-03 00:00:00 cu1807 开盘 50750 收盘 50680\n",
      "2018-04-04 00:00:00 cu1807 开盘 50780 收盘 50570\n",
      "2018-04-09 00:00:00 cu1807 开盘 50700 收盘 50900\n",
      "2018-04-10 00:00:00 cu1807 开盘 50800 收盘 51300\n",
      "2018-04-11 00:00:00 cu1807 开盘 51530 收盘 51280\n",
      "2018-04-12 00:00:00 cu1807 开盘 51500 收盘 50790\n",
      "2018-04-13 00:00:00 cu1807 开盘 50470 收盘 50700\n",
      "2018-04-16 00:00:00 cu1807 开盘 50850 收盘 50630\n",
      "2018-04-17 00:00:00 cu1807 开盘 50700 收盘 51000\n",
      "2018-04-18 00:00:00 cu1807 开盘 50700 收盘 51330\n",
      "2018-04-19 00:00:00 cu1807 开盘 51920 收盘 52130\n",
      "2018-04-20 00:00:00 cu1807 开盘 51680 收盘 51570\n",
      "2018-04-23 00:00:00 cu1807 开盘 51730 收盘 52070\n",
      "2018-04-24 00:00:00 cu1807 开盘 51160 收盘 51720\n",
      "2018-04-25 00:00:00 cu1807 开盘 52230 收盘 51730\n",
      "2018-04-26 00:00:00 cu1807 开盘 51980 收盘 51760\n",
      "2018-04-27 00:00:00 cu1807 开盘 51590 收盘 51770\n",
      "2018-05-02 00:00:00 cu1807 开盘 50960 收盘 51380\n",
      "2018-05-03 00:00:00 cu1807 开盘 51180 收盘 51230\n",
      "2018-05-04 00:00:00 cu1807 开盘 51450 收盘 51480\n",
      "2018-05-07 00:00:00 cu1807 开盘 51160 收盘 51340\n",
      "2018-05-08 00:00:00 cu1807 开盘 51630 收盘 51370\n",
      "2018-05-09 00:00:00 cu1807 开盘 50800 收盘 50870\n",
      "2018-05-10 00:00:00 cu1807 开盘 51000 收盘 51070\n",
      "2018-05-11 00:00:00 cu1807 开盘 51700 收盘 51440\n",
      "2018-05-14 00:00:00 cu1807 开盘 51500 收盘 51560\n",
      "2018-05-15 00:00:00 cu1807 开盘 51290 收盘 51210\n",
      "2018-05-16 00:00:00 cu1807 开盘 51000 收盘 51020\n",
      "2018-05-17 00:00:00 cu1807 开盘 50960 收盘 51050\n",
      "2018-05-18 00:00:00 cu1807 开盘 51160 收盘 51290\n",
      "2018-05-21 00:00:00 cu1807 开盘 51090 收盘 51370\n",
      "2018-05-22 00:00:00 cu1807 开盘 51650 收盘 51440\n",
      "2018-05-23 00:00:00 cu1807 开盘 51880 收盘 51770\n",
      "2018-05-24 00:00:00 cu1807 开盘 51380 收盘 51430\n",
      "2018-05-25 00:00:00 cu1807 开盘 51450 收盘 51490\n",
      "2018-05-28 00:00:00 cu1807 开盘 51460 收盘 51610\n",
      "2018-05-29 00:00:00 cu1807 开盘 51290 收盘 51710\n",
      "2018-05-30 00:00:00 cu1807 开盘 51780 收盘 50780\n",
      "2018-05-31 00:00:00 cu1807 开盘 50930 收盘 51380\n",
      "数据量  213\n"
     ]
    }
   ],
   "source": [
    "client = pymongo.MongoClient('localhost', 27017)\n",
    "db = client[DAILY_DB_NAME]\n",
    "collection = db['cu1807.TB']\n",
    "collection.create_index('datetime')\n",
    "cursor = collection.find({})\n",
    "count = 0\n",
    "# 每手数量\n",
    "size = 5\n",
    "# 拿到历史记录\n",
    "for dic in cursor:\n",
    "    openPrice = dic['open']\n",
    "    closePrice = dic['close']\n",
    "    priceChange = float(closePrice) - float(openPrice)\n",
    "    buyChange = dic['buyInterestChange']\n",
    "    sellChange = dic['sellInterestChange']\n",
    "    direction = 0\n",
    "    if buyChange > sellChange:\n",
    "        direction = 1\n",
    "        directionStr = u'多'\n",
    "    elif buyChange < sellChange:\n",
    "        direction = -1\n",
    "        directionStr = u'空'\n",
    "    print dic['datetime'], dic['vtSymbol'], u'开盘', openPrice, u'收盘', closePrice\n",
    "    #print u'涨跌', priceChange, u'多头增减', buyChange, u'空头增减', sellChange, directionStr, u'盈亏', priceChange * direction, 'x', size, '=', priceChange * direction * size\n",
    "    #print '\\n'\n",
    "    count += 1\n",
    "print u'数据量 ', count"
   ]
  },
  {
   "cell_type": "code",
   "execution_count": 58,
   "metadata": {
    "collapsed": true
   },
   "outputs": [],
   "source": [
    "import matplotlib.pyplot as plt\n",
    "%matplotlib inline\n",
    "import pandas as pd\n",
    "from datetime import datetime"
   ]
  },
  {
   "cell_type": "code",
   "execution_count": 63,
   "metadata": {
    "collapsed": false
   },
   "outputs": [
    {
     "data": {
      "text/plain": [
       "<matplotlib.axes._subplots.AxesSubplot at 0xc98d3d0>"
      ]
     },
     "execution_count": 63,
     "metadata": {},
     "output_type": "execute_result"
    },
    {
     "data": {
      "image/png": "[encoded data removed]",
      "text/plain": [
       "<matplotlib.figure.Figure at 0xa653c10>"
      ]
     },
     "metadata": {},
     "output_type": "display_data"
    }
   ],
   "source": [
    "date1 = datetime.strptime('2018-01-01', '%Y-%m-%d')\n",
    "date2 = datetime.strptime('2018-01-02', '%Y-%m-%d')\n",
    "date3 = datetime.strptime('2018-01-03', '%Y-%m-%d')\n",
    "dateList = [date1, date2, date3]\n",
    "earnList = [6, 7, 8]\n",
    "dic = {'a':earnList}\n",
    "df = pd.DataFrame.from_dict(dic)\n",
    "df.index = dateList\n",
    "df['a'].plot()"
   ]
  },
  {
   "cell_type": "code",
   "execution_count": 2,
   "metadata": {
    "collapsed": false
   },
   "outputs": [],
   "source": [
    "from datetime import datetime"
   ]
  },
  {
   "cell_type": "code",
   "execution_count": null,
   "metadata": {
    "collapsed": true
   },
   "outputs": [],
   "source": [
    "a = datetime.strptime('2016',)"
   ]
  }
 ],
 "metadata": {
  "kernelspec": {
   "display_name": "Python 2",
   "language": "python",
   "name": "python2"
  },
  "language_info": {
   "codemirror_mode": {
    "name": "ipython",
    "version": 2
   },
   "file_extension": ".py",
   "mimetype": "text/x-python",
   "name": "python",
   "nbconvert_exporter": "python",
   "pygments_lexer": "ipython2",
   "version": "2.7.13"
  }
 },
 "nbformat": 4,
 "nbformat_minor": 0
}
