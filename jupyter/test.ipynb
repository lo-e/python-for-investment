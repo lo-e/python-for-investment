{
 "cells": [
  {
   "cell_type": "code",
   "execution_count": 1,
   "metadata": {},
   "outputs": [],
   "source": [
    "import re\n",
    "from vnpy.trader.constant import Exchange\n",
    "from vnpy.app.cta_strategy.base import EXCHANGE_SYMBOL_DICT\n",
    "from datetime import datetime, timedelta"
   ]
  },
  {
   "cell_type": "code",
   "execution_count": 36,
   "metadata": {},
   "outputs": [
    {
     "name": "stdout",
     "output_type": "stream",
     "text": [
      "2000\n"
     ]
    }
   ],
   "source": [
    "fromDate = datetime.strptime('2012-6-10', '%Y-%m-%d')\n",
    "toDate = datetime.strptime('2017-12-01', '%Y-%m-%d')\n",
    "\n",
    "count = 0\n",
    "while fromDate.date() != toDate.date():\n",
    "    count += 1\n",
    "    fromDate = fromDate + timedelta(1)\n",
    "\n",
    "print(count)"
   ]
  },
  {
   "cell_type": "code",
   "execution_count": 16,
   "metadata": {},
   "outputs": [
    {
     "name": "stdout",
     "output_type": "stream",
     "text": [
      "1563864223\n"
     ]
    }
   ],
   "source": [
    "# 当前时间戳\n",
    "import time\n",
    "a = int(time.time())\n",
    "print(a)"
   ]
  },
  {
   "cell_type": "code",
   "execution_count": 59,
   "metadata": {},
   "outputs": [
    {
     "name": "stdout",
     "output_type": "stream",
     "text": [
      "2017-12-01 22:00:00\n"
     ]
    }
   ],
   "source": [
    "# 时间戳转时间\n",
    "timeStamp = 1512136800\n",
    "date = datetime.fromtimestamp(timeStamp)\n",
    "print(date)"
   ]
  },
  {
   "cell_type": "code",
   "execution_count": 23,
   "metadata": {},
   "outputs": [
    {
     "name": "stdout",
     "output_type": "stream",
     "text": [
      "1563580800.0\n"
     ]
    }
   ],
   "source": [
    "# 时间转时间戳\n",
    "a = '2019-07-20 08:00:00'\n",
    "b = datetime.strptime(a, '%Y-%m-%d %H:%M:%S')\n",
    "print(b.timestamp())"
   ]
  },
  {
   "cell_type": "code",
   "execution_count": 3,
   "metadata": {},
   "outputs": [
    {
     "name": "stdout",
     "output_type": "stream",
     "text": [
      "dict_keys(['decoin', 'Binance', 'Bitstamp', 'BitTrex', 'OKCoin', 'BTER', 'Kraken', 'Cexio', 'Yacuna', 'Coinbase', 'LocalBitcoins', 'itBit', 'HitBTC', 'BTC38', 'Coinfloor', 'BTCExchange', 'hbus', 'LakeBTC', 'Bit2C', 'CCEX', 'Gatecoin', 'Yunbi', 'WavesDEX', 'CCEDK', 'Cryptopia', 'Exmo', 'Yobit', 'BitBay', 'Korbit', 'BTCMarkets', 'Coincheck', 'QuadrigaCX', 'BitSquare', 'Vaultoro', 'MercadoBitcoin', 'Unocoin', 'Bitso', 'BTCXIndia', 'Paymium', 'TheRockTrading', 'bitFlyer', 'Quoine', 'Liqui', 'Luno', 'CryptoX', 'EtherDelta', 'TuxExchange', 'CHBTC', 'bitFlyerFX', 'LiveCoin', 'Tidex', 'CoinCorner', 'BitMarket', 'Coinone', 'Bleutrade', 'EthexIndia', 'Surbitcoin', 'Bithumb', 'Foxbit', 'Zaif', 'Jubi', 'ViaBTC', 'Novaexchange', 'Lykke', 'Remitano', 'Coinroom', 'Abucoins', 'BXinth', 'HuobiPro', 'OKEX', 'Gateio', 'TrustDEX', 'EXX', 'Kucoin', 'BitGrail', 'BitZ', 'BitFlip', 'TradeSatoshi', 'Coincap', 'ChileBit', 'VBTC', 'Velox', 'Graviex', 'ExtStock', 'BitBank', 'CoinDeal', 'AidosMarket', 'TokenStore', 'Ethfinex', 'DSX', 'Coinnest', 'IDEX', 'Bitlish', 'CoinEx', 'Buda', 'CoinsBank', 'Braziliex', 'Upbit', 'Neraex', 'BTCTurk', 'BitMart', 'Bibox', 'DDEX', 'ZB', 'LBank', 'SingularityX', 'Simex', 'Nebula', 'Bluebelt', 'RightBTC', 'WorldCryptoCap', 'ABCC', 'OpenLedger', 'WEX', 'BitexBook', 'CryptoCarbon', 'BigONE', 'CoinBene', 'FCoin', 'Kuna', 'Tokenomy', 'IDAX', 'CoinHub', 'Nexchange', 'Hikenex', 'Qryptos', 'BTCBOX', 'HADAX', 'CryptoBulls', 'IndependentReserve', 'Bitmex', 'Codex', 'DEx', 'Ironex', 'Zecoex', 'Nlexch', 'Globitex', 'Ore', 'Bitinfi', 'CoinJar', 'TDAX', 'CoinFalcon', 'ACX', 'Bitsane', 'BTCAlpha', 'FCCE', 'InstantBitex', 'Gneiss', 'Cryptonit', 'CoinPulse', 'bkex', 'Bitforex', 'Liqnet', 'BCEX', 'Liquid', 'Minebit', 'IQFinex', 'P2PB2B', 'StocksExchange', 'iCoinbay', 'CoinTiger', 'Threexbit', 'cobinhood', 'Switcheo', 'Bitkub', 'Everbloom', 'EXRATES', 'Coinsbit', 'NDAX', 'DigiFinex', 'Bitshares', 'Coinmate', 'Incorex', 'Ethermium', 'Nuex', 'Blackturtle', 'Catex', 'Exenium', 'StocksExchangeio', 'ZBG', 'SafeCoin', 'XS2', 'bw', 'CryptoExchangeWS', 'smartrade', 'alphaex', 'Bitpoint', 'bitspark', 'Binanceje', 'Poloniex', 'Bgogo', 'xena', 'chainrift', 'trxmarket', 'aliexchange', 'fatbtc', 'bitmax', 'coss', 'huobijapan', 'huobikorea', 'eidoo', 'idevex', 'crex24', 'gopax', 'coinfield', 'coinzest', 'bingcoins', 'coinall', 'bitci', 'primexbt', 'oex', 'ataix', 'raidofinance', 'zloadr', 'thore', 'darbfinance', 'binanceus', 'bitflyerus', 'bitflyereu', 'exscudo', 'xcoex', 'CBX', 'biki', 'unnamed', 'coineal', 'dcoin', 'seedcx', '55com', 'chainx', 'coinegg', 'bitasset', 'chaoex', 'bhex', 'tchapp', 'sistemkoin', 'tokok', 'bilaxy', 'Bitfinex', 'Gemini'])\n"
     ]
    }
   ],
   "source": [
    "import requests\n",
    "URL_EXCHANGES = 'https://www.cryptocompare.com/api/data/exchanges'\n",
    "response = requests.get(URL_EXCHANGES).json()\n",
    "data = response['Data']\n",
    "print(data.keys())"
   ]
  },
  {
   "cell_type": "code",
   "execution_count": 2,
   "metadata": {
    "scrolled": true
   },
   "outputs": [],
   "source": [
    "from pymongo import MongoClient, ASCENDING, DESCENDING\n",
    "from vnpy.app.cta_strategy.base import TICK_DB_NAME, MINUTE_DB_NAME, DAILY_DB_NAME, MinuteDataBaseName, HourDataBaseName\n",
    "from datetime import datetime\n",
    "from vnpy.trader.object import BarData, TickData"
   ]
  },
  {
   "cell_type": "code",
   "execution_count": 7,
   "metadata": {},
   "outputs": [
    {
     "name": "stdout",
     "output_type": "stream",
     "text": [
      "vt_symbol:BTCUSD.BYBIT\t2019-12-03 16:51:26.447000\tBTCUSD\t7302.0\n",
      "vt_symbol:BTCUSD.BYBIT\t2019-12-03 16:51:26.427000\tBTCUSD\t7302.0\n",
      "vt_symbol:BTCUSD.BYBIT\t2019-12-03 16:51:26.407000\tBTCUSD\t7302.0\n",
      "vt_symbol:BTCUSD.BYBIT\t2019-12-03 16:51:26.391000\tBTCUSD\t7302.0\n",
      "vt_symbol:BTCUSD.BYBIT\t2019-12-03 16:51:26.387000\tBTCUSD\t7302.0\n",
      "vt_symbol:BTCUSD.BYBIT\t2019-12-03 16:51:26.367000\tBTCUSD\t7302.0\n"
     ]
    }
   ],
   "source": [
    "# ====== Tick ======\n",
    "client = MongoClient('localhost', 27017, serverSelectionTimeoutMS = 600)       # Mongo连接\n",
    "client.server_info()\n",
    "dbTick = client[TICK_DB_NAME]\n",
    "cl = dbTick['BTCUSD']\n",
    "cl.create_index('datetime')         # 添加索引\n",
    "start = datetime.strptime('2019-11-18 07:59:50', '%Y-%m-%d %H:%M:%S')\n",
    "end = datetime.strptime('2019-11-19 08:00:10', '%Y-%m-%d %H:%M:%S')\n",
    "flt = {'datetime': {'$gte':start,\n",
    "                    '$lte':end}}\n",
    "cursor = cl.find({}).sort('datetime', DESCENDING)\n",
    "count = 0\n",
    "for dic in cursor:\n",
    "    tick = TickData(gateway_name='', symbol='', exchange=None, datetime=None)\n",
    "    tick.__dict__ = dic\n",
    "    print(f'vt_symbol:{tick.vt_symbol}\\t{tick.datetime}\\t{tick.symbol}\\t{tick.last_price}')\n",
    "    count += 1\n",
    "    if count >= 6:\n",
    "        break"
   ]
  },
  {
   "cell_type": "code",
   "execution_count": 67,
   "metadata": {},
   "outputs": [
    {
     "name": "stdout",
     "output_type": "stream",
     "text": [
      "2019-11-29 09:25:00\n",
      "2019-11-29 09:24:00\n",
      "2019-11-29 09:23:00\n",
      "2019-11-29 09:22:00\n",
      "2019-11-29 09:21:00\n",
      "2019-11-29 09:20:00\n"
     ]
    }
   ],
   "source": [
    "# ====== Minute ======\n",
    "client = MongoClient('localhost', 27017)\n",
    "db = client[MINUTE_DB_NAME]\n",
    "collection = db['BTCUSD.BYBIT']\n",
    "start = datetime.strptime('2019-11-27 00:00:00', '%Y-%m-%d %H:%M:%S')\n",
    "end = datetime.strptime('2019-11-27 00:06:00', '%Y-%m-%d %H:%M:%S')\n",
    "flt = {'datetime': {'$gte':start,\n",
    "                    '$lte':end}}\n",
    "cursor = collection.find({}).sort('datetime', DESCENDING)\n",
    "count = 0\n",
    "for dic in cursor:\n",
    "    print(dic['datetime'])\n",
    "    count += 1\n",
    "    if count >= 6:\n",
    "        break"
   ]
  },
  {
   "cell_type": "code",
   "execution_count": 6,
   "metadata": {},
   "outputs": [
    {
     "name": "stdout",
     "output_type": "stream",
     "text": [
      "EOSUSD.BYBIT\t2019-12-09 08:00:00\t2.745\t2.755\t2.61\t2.656\n"
     ]
    }
   ],
   "source": [
    "# ====== Daily ======\n",
    "client = MongoClient('localhost', 27017)\n",
    "db = client[DAILY_DB_NAME]\n",
    "collection = db['EOSUSD.BYBIT']\n",
    "start = datetime.strptime('2019-11-27 00:00:00', '%Y-%m-%d %H:%M:%S')\n",
    "end = datetime.strptime('2019-11-27 00:06:00', '%Y-%m-%d %H:%M:%S')\n",
    "flt = {'datetime': {'$gte':start,\n",
    "                    '$lte':end}}\n",
    "cursor = collection.find({}).sort('datetime', DESCENDING)\n",
    "for dic in cursor:\n",
    "    symbol = dic['symbol']\n",
    "    the_datetime = dic['datetime']\n",
    "    open_price = dic['open_price']\n",
    "    high_price = dic['high_price']\n",
    "    low_price = dic['low_price']\n",
    "    close_price = dic['close_price']\n",
    "    print(f'{symbol}\\t{the_datetime}\\t{open_price}\\t{high_price}\\t{low_price}\\t{close_price}')\n",
    "    break"
   ]
  },
  {
   "cell_type": "code",
   "execution_count": 6,
   "metadata": {
    "scrolled": false
   },
   "outputs": [
    {
     "name": "stdout",
     "output_type": "stream",
     "text": [
      "RB2005\tJQ\t2019-12-24 00:00:00\t3543.0\t3555.0\t3502.0\t3510.0\n",
      "\n",
      "\n",
      "HC2005\tJQ\t2019-12-24 00:00:00\t3570.0\t3577.0\t3534.0\t3553.0\n",
      "\n",
      "\n",
      "SM2005\tJQ\t2019-12-24 00:00:00\t6444.0\t6450.0\t6302.0\t6350.0\n",
      "\n",
      "\n",
      "J2005\tJQ\t2019-12-24 00:00:00\t1861.0\t1861.5\t1831.0\t1854.0\n",
      "\n",
      "\n",
      "ZC2005\tJQ\t2019-12-24 00:00:00\t555.0\t555.6\t551.2\t554.0\n",
      "\n",
      "\n",
      "TA2005\tJQ\t2019-12-24 00:00:00\t4882.0\t4974.0\t4876.0\t4966.0\n",
      "\n",
      "\n",
      "RB99\t\t2019-12-24 00:00:00\t0\t0\t0\t0\n",
      "\n",
      "\n",
      "HC99\t\t2019-12-24 00:00:00\t0\t0\t0\t0\n",
      "\n",
      "\n",
      "SM99\t\t2019-12-24 00:00:00\t0\t0\t0\t0\n",
      "\n",
      "\n",
      "J99\t\t2019-12-24 00:00:00\t0\t0\t0\t0\n",
      "\n",
      "\n",
      "ZC99\t\t2019-12-24 00:00:00\t0\t0\t0\t0\n",
      "\n",
      "\n",
      "TA99\t\t2019-12-24 00:00:00\t0\t0\t0\t0\n",
      "\n",
      "\n"
     ]
    }
   ],
   "source": [
    "symbol_list = ['RB2005', 'HC2005', 'SM2005', 'J2005', 'ZC2005', 'TA2005',\n",
    "              'RB99', 'HC99', 'SM99', 'J99', 'ZC99', 'TA99']\n",
    "client = MongoClient('localhost', 27017)\n",
    "db = client[DAILY_DB_NAME]\n",
    "for symbol in symbol_list:\n",
    "    collection = db[symbol]\n",
    "    cursor = collection.find({}).sort('datetime', DESCENDING)\n",
    "    count = 0\n",
    "    for dic in cursor:\n",
    "        count += 1\n",
    "        if count == 1:\n",
    "            symbol = dic['symbol']\n",
    "            exchange = dic['exchange']\n",
    "            the_datetime = dic['datetime']\n",
    "            open_price = dic['open_price']\n",
    "            high_price = dic['high_price']\n",
    "            low_price = dic['low_price']\n",
    "            close_price = dic['close_price']\n",
    "            print(f'{symbol}\\t{exchange}\\t{the_datetime}\\t{open_price}\\t{high_price}\\t{low_price}\\t{close_price}')\n",
    "            break\n",
    "        \n",
    "    print('\\n')"
   ]
  },
  {
   "cell_type": "code",
   "execution_count": null,
   "metadata": {},
   "outputs": [],
   "source": []
  }
 ],
 "metadata": {
  "kernelspec": {
   "display_name": "Python 3",
   "language": "python",
   "name": "python3"
  },
  "language_info": {
   "codemirror_mode": {
    "name": "ipython",
    "version": 3
   },
   "file_extension": ".py",
   "mimetype": "text/x-python",
   "name": "python",
   "nbconvert_exporter": "python",
   "pygments_lexer": "ipython3",
   "version": "3.7.3"
  }
 },
 "nbformat": 4,
 "nbformat_minor": 1
}
