{
 "cells": [
  {
   "cell_type": "code",
   "execution_count": 1,
   "metadata": {},
   "outputs": [],
   "source": [
    "import re\n",
    "from vnpy.trader.constant import Exchange\n",
    "from vnpy.app.cta_strategy.base import EXCHANGE_SYMBOL_DICT\n",
    "from datetime import datetime, timedelta"
   ]
  },
  {
   "cell_type": "code",
   "execution_count": 36,
   "metadata": {},
   "outputs": [
    {
     "name": "stdout",
     "output_type": "stream",
     "text": [
      "2000\n"
     ]
    }
   ],
   "source": [
    "fromDate = datetime.strptime('2012-6-10', '%Y-%m-%d')\n",
    "toDate = datetime.strptime('2017-12-01', '%Y-%m-%d')\n",
    "\n",
    "count = 0\n",
    "while fromDate.date() != toDate.date():\n",
    "    count += 1\n",
    "    fromDate = fromDate + timedelta(1)\n",
    "\n",
    "print(count)"
   ]
  },
  {
   "cell_type": "code",
   "execution_count": 16,
   "metadata": {},
   "outputs": [
    {
     "name": "stdout",
     "output_type": "stream",
     "text": [
      "1563864223\n"
     ]
    }
   ],
   "source": [
    "# 当前时间戳\n",
    "import time\n",
    "a = int(time.time())\n",
    "print(a)"
   ]
  },
  {
   "cell_type": "code",
   "execution_count": 59,
   "metadata": {},
   "outputs": [
    {
     "name": "stdout",
     "output_type": "stream",
     "text": [
      "2017-12-01 22:00:00\n"
     ]
    }
   ],
   "source": [
    "# 时间戳转时间\n",
    "timeStamp = 1512136800\n",
    "date = datetime.fromtimestamp(timeStamp)\n",
    "print(date)"
   ]
  },
  {
   "cell_type": "code",
   "execution_count": 23,
   "metadata": {},
   "outputs": [
    {
     "name": "stdout",
     "output_type": "stream",
     "text": [
      "1563580800.0\n"
     ]
    }
   ],
   "source": [
    "# 时间转时间戳\n",
    "a = '2019-07-20 08:00:00'\n",
    "b = datetime.strptime(a, '%Y-%m-%d %H:%M:%S')\n",
    "print(b.timestamp())"
   ]
  },
  {
   "cell_type": "code",
   "execution_count": 1,
   "metadata": {},
   "outputs": [],
   "source": [
    "import requests\n",
    "URL_EXCHANGES = 'https://www.cryptocompare.com/api/data/exchanges'\n",
    "response = requests.get(URL_EXCHANGES).json()\n",
    "data = response['Data']\n",
    "print(data.keys())"
   ]
  },
  {
   "cell_type": "code",
   "execution_count": 1,
   "metadata": {
    "scrolled": true
   },
   "outputs": [],
   "source": [
    "from pymongo import MongoClient, ASCENDING, DESCENDING\n",
    "from vnpy.app.cta_strategy.base import TICK_DB_NAME, MINUTE_DB_NAME, DAILY_DB_NAME, MinuteDataBaseName, HourDataBaseName\n",
    "from datetime import datetime\n",
    "from vnpy.trader.object import BarData, TickData"
   ]
  },
  {
   "cell_type": "code",
   "execution_count": 54,
   "metadata": {},
   "outputs": [
    {
     "name": "stdout",
     "output_type": "stream",
     "text": [
      "vt_symbol:BTCUSD.BYBIT\t2020-06-23 12:11:33.868000\tBTCUSD\t9641.5\n",
      "vt_symbol:ETHUSD.BYBIT\t2020-06-23 12:11:33.844000\tETHUSD\t242.4\n"
     ]
    }
   ],
   "source": [
    "# ====== Tick ======\n",
    "client = MongoClient('localhost', 27017, serverSelectionTimeoutMS = 600)       # Mongo连接\n",
    "client.server_info()\n",
    "dbTick = client[TICK_DB_NAME]\n",
    "symbol_list = ['BTCUSD', 'ETHUSD']\n",
    "for symbol in symbol_list:\n",
    "    cl = dbTick[symbol]\n",
    "    cl.create_index('datetime')         # 添加索引\n",
    "    start = datetime.strptime('2020-6-22 06:00:00', '%Y-%m-%d %H:%M:%S')\n",
    "    end = datetime.strptime('2020-6-22 08:15:50', '%Y-%m-%d %H:%M:%S')\n",
    "    flt = {'datetime': {'$gte':start,\n",
    "                        '$lte':end}}\n",
    "    cursor = cl.find({}).sort('datetime', DESCENDING)\n",
    "    count = 0\n",
    "    for dic in cursor:\n",
    "        tick = TickData(gateway_name='', symbol='', exchange=None, datetime=None)\n",
    "        tick.__dict__ = dic\n",
    "        print(f'vt_symbol:{tick.vt_symbol}\\t{tick.datetime}\\t{tick.symbol}\\t{tick.last_price}')\n",
    "        count += 1\n",
    "        if count >= 1:\n",
    "            break"
   ]
  },
  {
   "cell_type": "code",
   "execution_count": 41,
   "metadata": {},
   "outputs": [
    {
     "name": "stdout",
     "output_type": "stream",
     "text": [
      "2020-06-23 08:00:00 9693.0\n",
      "2020-06-23 07:59:00 9693.5\n",
      "2020-06-23 07:58:00 9698.0\n",
      "2020-06-23 07:57:00 9698.0\n",
      "2020-06-23 07:56:00 9696.0\n",
      "2020-06-23 07:55:00 9696.0\n"
     ]
    }
   ],
   "source": [
    "# ====== Minute ======\n",
    "client = MongoClient('localhost', 27017)\n",
    "db = client[MINUTE_DB_NAME]\n",
    "collection = db['BTCUSD.BYBIT']\n",
    "#collection = db['ZN2006']\n",
    "start = datetime.strptime('2020-3-24 00:00:00', '%Y-%m-%d %H:%M:%S')\n",
    "end = datetime.strptime('2020-3-25 00:00:00', '%Y-%m-%d %H:%M:%S')\n",
    "flt = {'datetime': {'$gte':start,\n",
    "                    '$lte':end}}\n",
    "cursor = collection.find().sort('datetime', DESCENDING)\n",
    "count = 0\n",
    "for dic in cursor:\n",
    "    print(dic['datetime'], dic['open_price'])\n",
    "    count += 1\n",
    "    if count >= 6:\n",
    "        break"
   ]
  },
  {
   "cell_type": "code",
   "execution_count": 5,
   "metadata": {},
   "outputs": [
    {
     "name": "stdout",
     "output_type": "stream",
     "text": [
      "BTCUSD.BYBIT\t2019-06-26 08:00:00\t11763.0\t13916.0\t11670.0\t12932.0\n",
      "BTCUSD.BYBIT\t2019-06-25 08:00:00\t11048.0\t11800.0\t11002.5\t11763.0\n",
      "BTCUSD.BYBIT\t2019-06-24 08:00:00\t10850.0\t11110.0\t10550.0\t11048.0\n",
      "BTCUSD.BYBIT\t2019-06-23 08:00:00\t10694.5\t11285.5\t10484.5\t10850.5\n",
      "BTCUSD.BYBIT\t2019-06-22 08:00:00\t10269.5\t11223.0\t10125.5\t10694.5\n",
      "BTCUSD.BYBIT\t2019-06-21 08:00:00\t9534.5\t10290.0\t9534.5\t10268.5\n",
      "BTCUSD.BYBIT\t2019-06-20 08:00:00\t9286.5\t9616.0\t9224.5\t9534.5\n",
      "BTCUSD.BYBIT\t2019-06-19 08:00:00\t9083.0\t9328.5\t9045.5\t9286.5\n",
      "BTCUSD.BYBIT\t2019-06-18 08:00:00\t9348.5\t9366.5\t8940.0\t9083.0\n",
      "BTCUSD.BYBIT\t2019-06-17 08:00:00\t8975.0\t9498.0\t8973.5\t9348.5\n",
      "BTCUSD.BYBIT\t2019-06-16 08:00:00\t8857.5\t9439.0\t8792.5\t8975.0\n",
      "BTCUSD.BYBIT\t2019-06-15 08:00:00\t8695.0\t8929.0\t8633.5\t8857.5\n",
      "BTCUSD.BYBIT\t2019-06-14 08:00:00\t8233.5\t8738.5\t8180.0\t8695.0\n",
      "BTCUSD.BYBIT\t2019-06-13 08:00:00\t8177.5\t8337.0\t8051.5\t8233.5\n",
      "BTCUSD.BYBIT\t2019-06-12 08:00:00\t7916.5\t8270.5\t7817.5\t8177.5\n",
      "BTCUSD.BYBIT\t2019-06-11 08:00:00\t8018.5\t8055.0\t7710.0\t7916.5\n",
      "BTCUSD.BYBIT\t2019-06-10 08:00:00\t7630.0\t8075.5\t7515.5\t8018.5\n",
      "BTCUSD.BYBIT\t2019-06-09 08:00:00\t7927.0\t7957.5\t7501.5\t7630.0\n",
      "BTCUSD.BYBIT\t2019-06-08 08:00:00\t7998.0\t8055.5\t7786.0\t7927.0\n",
      "BTCUSD.BYBIT\t2019-06-07 08:00:00\t7803.5\t8130.5\t7764.5\t7998.0\n",
      "BTCUSD.BYBIT\t2019-06-06 08:00:00\t7784.5\t7870.0\t7453.0\t7803.5\n",
      "BTCUSD.BYBIT\t2019-06-05 08:00:00\t7664.5\t7925.0\t7584.5\t7784.5\n",
      "BTCUSD.BYBIT\t2019-06-04 08:00:00\t8101.5\t8102.5\t7435.0\t7664.5\n",
      "BTCUSD.BYBIT\t2019-06-03 08:00:00\t8738.5\t8746.5\t8035.0\t8102.5\n",
      "BTCUSD.BYBIT\t2019-06-02 08:00:00\t8556.5\t8855.5\t8549.5\t8738.5\n",
      "BTCUSD.BYBIT\t2019-06-01 08:00:00\t8552.0\t8639.0\t8457.0\t8556.5\n",
      "\n",
      "\n",
      "ETHUSD.BYBIT\t2019-06-26 08:00:00\t317.25\t365.45\t315.1\t335.95\n",
      "ETHUSD.BYBIT\t2019-06-25 08:00:00\t311.3\t318.15\t307.5\t317.25\n",
      "ETHUSD.BYBIT\t2019-06-24 08:00:00\t307.6\t313.5\t294.85\t311.3\n",
      "ETHUSD.BYBIT\t2019-06-23 08:00:00\t309.9\t320.05\t304.7\t307.6\n",
      "ETHUSD.BYBIT\t2019-06-22 08:00:00\t296.6\t316.25\t294.35\t309.9\n",
      "ETHUSD.BYBIT\t2019-06-21 08:00:00\t272.65\t298.0\t272.6\t296.6\n",
      "ETHUSD.BYBIT\t2019-06-20 08:00:00\t269.0\t275.55\t266.65\t272.65\n",
      "ETHUSD.BYBIT\t2019-06-19 08:00:00\t264.6\t270.65\t263.85\t269.0\n",
      "ETHUSD.BYBIT\t2019-06-18 08:00:00\t274.15\t274.5\t261.0\t264.6\n",
      "ETHUSD.BYBIT\t2019-06-17 08:00:00\t268.75\t276.5\t267.65\t274.15\n",
      "ETHUSD.BYBIT\t2019-06-16 08:00:00\t269.35\t279.95\t260.55\t268.75\n",
      "ETHUSD.BYBIT\t2019-06-15 08:00:00\t264.25\t274.5\t262.1\t269.35\n",
      "ETHUSD.BYBIT\t2019-06-14 08:00:00\t255.45\t266.9\t252.6\t264.25\n",
      "ETHUSD.BYBIT\t2019-06-13 08:00:00\t263.0\t264.5\t253.75\t255.45\n",
      "ETHUSD.BYBIT\t2019-06-12 08:00:00\t245.7\t263.95\t243.35\t263.0\n",
      "ETHUSD.BYBIT\t2019-06-11 08:00:00\t247.9\t249.25\t237.65\t245.7\n",
      "ETHUSD.BYBIT\t2019-06-10 08:00:00\t231.3\t248.45\t227.65\t247.9\n",
      "ETHUSD.BYBIT\t2019-06-09 08:00:00\t244.45\t245.55\t226.3\t231.3\n",
      "ETHUSD.BYBIT\t2019-06-08 08:00:00\t249.55\t251.0\t242.0\t244.45\n",
      "ETHUSD.BYBIT\t2019-06-07 08:00:00\t249.7\t254.2\t245.95\t249.55\n",
      "ETHUSD.BYBIT\t2019-06-06 08:00:00\t246.3\t251.8\t236.1\t249.7\n",
      "ETHUSD.BYBIT\t2019-06-05 08:00:00\t241.2\t249.25\t237.95\t246.3\n",
      "ETHUSD.BYBIT\t2019-06-04 08:00:00\t249.45\t251.1\t232.55\t241.2\n",
      "ETHUSD.BYBIT\t2019-06-03 08:00:00\t269.3\t270.65\t247.1\t249.45\n",
      "ETHUSD.BYBIT\t2019-06-02 08:00:00\t264.85\t274.6\t264.4\t269.3\n",
      "ETHUSD.BYBIT\t2019-06-01 08:00:00\t267.85\t276.0\t261.35\t264.85\n",
      "\n",
      "\n",
      "\n",
      "\n"
     ]
    }
   ],
   "source": [
    "# ====== Daily ======\n",
    "client = MongoClient('localhost', 27017)\n",
    "db = client[DAILY_DB_NAME]\n",
    "symbol_list = ['BTCUSD.BYBIT', 'ETHUSD.BYBIT', 'EOSUSD.BYBIT']\n",
    "#symbol_list = ['BTC.USDT.OKEX', 'ETH.USDT.OKEX', 'EOS.USDT.OKEX']\n",
    "#symbol_list = ['Poloniex/BTC.USDT', 'Poloniex/ETH.USDT']\n",
    "#symbol_list = ['Poloniex/BTC.USDT', 'Poloniex/ETH.USDT', 'Poloniex/EOS.USDT']\n",
    "for symbol in symbol_list:\n",
    "    collection = db[symbol]\n",
    "    start = datetime.strptime('2019-6-1 00:00:00', '%Y-%m-%d %H:%M:%S')\n",
    "    end = datetime.strptime('2019-6-27 00:06:00', '%Y-%m-%d %H:%M:%S')\n",
    "    flt = {'datetime': {'$gte':start,\n",
    "                        '$lte':end}}\n",
    "    cursor = collection.find(flt).sort('datetime', DESCENDING)\n",
    "    count = 0\n",
    "    for dic in cursor:\n",
    "        symbol = dic['symbol']\n",
    "        the_datetime = dic['datetime']\n",
    "        open_price = dic['open_price']\n",
    "        high_price = dic['high_price']\n",
    "        low_price = dic['low_price']\n",
    "        close_price = dic['close_price']\n",
    "        print(f'{symbol}\\t{the_datetime}\\t{open_price}\\t{high_price}\\t{low_price}\\t{close_price}')\n",
    "        count += 1\n",
    "        if count >= 100:\n",
    "            break\n",
    "    print('\\n')"
   ]
  },
  {
   "cell_type": "code",
   "execution_count": 3,
   "metadata": {
    "scrolled": false
   },
   "outputs": [
    {
     "name": "stdout",
     "output_type": "stream",
     "text": [
      "ETHUSD.BYBIT\tNone\t2020-06-15 08:00:00\t231.7\t233.8\t217.85\t230.95\n",
      "\n",
      "\n"
     ]
    }
   ],
   "source": [
    "symbol_list = ['RB2005', 'HC2005', 'SM2005', 'J2005', 'ZC2005', 'TA2005',\n",
    "              'RB99', 'HC99', 'SM99', 'J99', 'ZC99', 'TA99']\n",
    "symbol_list = ['ETHUSD.BYBIT']\n",
    "client = MongoClient('localhost', 27017)\n",
    "db = client[DAILY_DB_NAME]\n",
    "for symbol in symbol_list:\n",
    "    collection = db[symbol]\n",
    "    cursor = collection.find({}).sort('datetime', DESCENDING)\n",
    "    count = 0\n",
    "    for dic in cursor:\n",
    "        count += 1\n",
    "        if count == 1:\n",
    "            symbol = dic['symbol']\n",
    "            exchange = dic['exchange']\n",
    "            the_datetime = dic['datetime']\n",
    "            open_price = dic['open_price']\n",
    "            high_price = dic['high_price']\n",
    "            low_price = dic['low_price']\n",
    "            close_price = dic['close_price']\n",
    "            print(f'{symbol}\\t{exchange}\\t{the_datetime}\\t{open_price}\\t{high_price}\\t{low_price}\\t{close_price}')\n",
    "            break\n",
    "        \n",
    "    print('\\n')"
   ]
  },
  {
   "cell_type": "code",
   "execution_count": 59,
   "metadata": {},
   "outputs": [
    {
     "ename": "IndentationError",
     "evalue": "expected an indented block (<ipython-input-59-025e50492adc>, line 18)",
     "output_type": "error",
     "traceback": [
      "\u001b[1;36m  File \u001b[1;32m\"<ipython-input-59-025e50492adc>\"\u001b[1;36m, line \u001b[1;32m18\u001b[0m\n\u001b[1;33m    count += 1\u001b[0m\n\u001b[1;37m        ^\u001b[0m\n\u001b[1;31mIndentationError\u001b[0m\u001b[1;31m:\u001b[0m expected an indented block\n"
     ]
    }
   ],
   "source": [
    "# ====== 检查Tick质量 ======\n",
    "client = MongoClient('localhost', 27017, serverSelectionTimeoutMS = 600)       # Mongo连接\n",
    "client.server_info()\n",
    "dbTick = client[TICK_DB_NAME]\n",
    "cl = dbTick['BTCUSD']\n",
    "cl.create_index('datetime')         # 添加索引\n",
    "start = datetime.strptime('2019-12-20 07:59:50', '%Y-%m-%d %H:%M:%S')\n",
    "end = datetime.strptime('2019-12-30 08:00:10', '%Y-%m-%d %H:%M:%S')\n",
    "flt = {'datetime': {'$gte':start,\n",
    "                    '$lte':end}}\n",
    "cursor = cl.find(flt).sort('datetime')\n",
    "count = 0\n",
    "for dic in cursor:\n",
    "    tick = TickData(gateway_name='', symbol='', exchange=None, datetime=None)\n",
    "    tick.__dict__ = dic\n",
    "    if tick.last_price == 0:\n",
    "        print(f'vt_symbol:{tick.vt_symbol}\\t{tick.datetime}\\t{tick.symbol}\\t{tick.last_price}\\t{tick.ask_price_1}\\t{tick.bid_price_1}')\n",
    "    count += 1\n",
    "print(count)"
   ]
  },
  {
   "cell_type": "code",
   "execution_count": 4,
   "metadata": {},
   "outputs": [
    {
     "name": "stdout",
     "output_type": "stream",
     "text": [
      "abc\n",
      "abc\n"
     ]
    }
   ],
   "source": [
    "a = 'abc'\n",
    "try:\n",
    "    print(a)\n",
    "except:\n",
    "    print('yes')\n",
    "    pass\n",
    "print(a)"
   ]
  },
  {
   "cell_type": "code",
   "execution_count": null,
   "metadata": {},
   "outputs": [],
   "source": []
  }
 ],
 "metadata": {
  "kernelspec": {
   "display_name": "Python 3",
   "language": "python",
   "name": "python3"
  },
  "language_info": {
   "codemirror_mode": {
    "name": "ipython",
    "version": 3
   },
   "file_extension": ".py",
   "mimetype": "text/x-python",
   "name": "python",
   "nbconvert_exporter": "python",
   "pygments_lexer": "ipython3",
   "version": "3.7.3"
  }
 },
 "nbformat": 4,
 "nbformat_minor": 1
}
