{
 "cells": [
  {
   "cell_type": "code",
   "execution_count": 1,
   "metadata": {},
   "outputs": [],
   "source": [
    "import re\n",
    "from vnpy.trader.constant import Exchange\n",
    "from vnpy.app.cta_strategy.base import EXCHANGE_SYMBOL_DICT\n",
    "from datetime import datetime, timedelta"
   ]
  },
  {
   "cell_type": "code",
   "execution_count": 36,
   "metadata": {},
   "outputs": [
    {
     "name": "stdout",
     "output_type": "stream",
     "text": [
      "2000\n"
     ]
    }
   ],
   "source": [
    "fromDate = datetime.strptime('2012-6-10', '%Y-%m-%d')\n",
    "toDate = datetime.strptime('2017-12-01', '%Y-%m-%d')\n",
    "\n",
    "count = 0\n",
    "while fromDate.date() != toDate.date():\n",
    "    count += 1\n",
    "    fromDate = fromDate + timedelta(1)\n",
    "\n",
    "print(count)"
   ]
  },
  {
   "cell_type": "code",
   "execution_count": 16,
   "metadata": {},
   "outputs": [
    {
     "name": "stdout",
     "output_type": "stream",
     "text": [
      "1563864223\n"
     ]
    }
   ],
   "source": [
    "# 当前时间戳\n",
    "import time\n",
    "a = int(time.time())\n",
    "print(a)"
   ]
  },
  {
   "cell_type": "code",
   "execution_count": 59,
   "metadata": {},
   "outputs": [
    {
     "name": "stdout",
     "output_type": "stream",
     "text": [
      "2017-12-01 22:00:00\n"
     ]
    }
   ],
   "source": [
    "# 时间戳转时间\n",
    "timeStamp = 1512136800\n",
    "date = datetime.fromtimestamp(timeStamp)\n",
    "print(date)"
   ]
  },
  {
   "cell_type": "code",
   "execution_count": 23,
   "metadata": {},
   "outputs": [
    {
     "name": "stdout",
     "output_type": "stream",
     "text": [
      "1563580800.0\n"
     ]
    }
   ],
   "source": [
    "# 时间转时间戳\n",
    "a = '2019-07-20 08:00:00'\n",
    "b = datetime.strptime(a, '%Y-%m-%d %H:%M:%S')\n",
    "print(b.timestamp())"
   ]
  },
  {
   "cell_type": "code",
   "execution_count": 4,
   "metadata": {},
   "outputs": [
    {
     "name": "stdout",
     "output_type": "stream",
     "text": [
      "dict_keys(['Ethfinex', 'DSX', 'Coinnest', 'IDEX', 'Bitlish', 'CoinEx', 'Buda', 'CoinsBank', 'Braziliex', 'Upbit', 'Neraex', 'BTCTurk', 'BitMart', 'Bibox', 'DDEX', 'ZB', 'LBank', 'SingularityX', 'Simex', 'Nebula', 'Bluebelt', 'RightBTC', 'WorldCryptoCap', 'ABCC', 'OpenLedger', 'WEX', 'BitexBook', 'CryptoCarbon', 'BigONE', 'CoinBene', 'FCoin', 'Kuna', 'Tokenomy', 'IDAX', 'CoinHub', 'Nexchange', 'Hikenex', 'Qryptos', 'BTCBOX', 'HADAX', 'CryptoBulls', 'IndependentReserve', 'Bitmex', 'DEx', 'Ironex', 'Zecoex', 'Nlexch', 'Globitex', 'Ore', 'Bitinfi', 'CoinJar', 'TDAX', 'CoinFalcon', 'ACX', 'Bitsane', 'BTCAlpha', 'FCCE', 'InstantBitex', 'Gneiss', 'Cryptonit', 'CoinPulse', 'Bitforex', 'Liqnet', 'BCEX', 'Liquid', 'Minebit', 'IQFinex', 'P2PB2B', 'StocksExchange', 'iCoinbay', 'CoinTiger', 'Threexbit', 'cobinhood', 'Switcheo', 'Bitkub', 'Everbloom', 'EXRATES', 'Coinsbit', 'NDAX', 'DigiFinex', 'Bitshares', 'Coinmate', 'Incorex', 'Ethermium', 'Nuex', 'Blackturtle', 'Catex', 'Exenium', 'StocksExchangeio', 'SafeCoin', 'XS2', 'bw', 'CryptoExchangeWS', 'smartrade', 'alphaex', 'Bitpoint', 'Binanceje', 'Bgogo', 'xena', 'chainrift', 'trxmarket', 'aliexchange', 'fatbtc', 'bitmax', 'coss', 'huobijapan', 'huobikorea', 'crex24', 'gopax', 'Binance', 'Bitstamp', 'BitTrex', 'BTER', 'Poloniex', 'Kraken', 'Bitfinex', 'Cexio', 'Yacuna', 'Coinbase', 'LocalBitcoins', 'itBit', 'BTC38', 'Coinfloor', 'BTCExchange', 'hbus', 'LakeBTC', 'Bit2C', 'CCEX', 'Gatecoin', 'Yunbi', 'WavesDEX', 'Gemini', 'CCEDK', 'Cryptopia', 'Exmo', 'Yobit', 'BitBay', 'Korbit', 'BTCMarkets', 'Coincheck', 'QuadrigaCX', 'BitSquare', 'Vaultoro', 'MercadoBitcoin', 'Unocoin', 'Bitso', 'BTCXIndia', 'Paymium', 'TheRockTrading', 'bitFlyer', 'Quoine', 'Liqui', 'Luno', 'CryptoX', 'EtherDelta', 'TuxExchange', 'CHBTC', 'bitFlyerFX', 'LiveCoin', 'Tidex', 'CoinCorner', 'BitMarket', 'Coinone', 'Bleutrade', 'EthexIndia', 'Surbitcoin', 'Bithumb', 'Foxbit', 'Zaif', 'Jubi', 'ViaBTC', 'Lykke', 'Remitano', 'Coinroom', 'Abucoins', 'BXinth', 'HuobiPro', 'OKEX', 'Gateio', 'TrustDEX', 'EXX', 'Kucoin', 'BitGrail', 'BitZ', 'BitFlip', 'TradeSatoshi', 'Coincap', 'ChileBit', 'VBTC', 'Velox', 'Graviex', 'ExtStock', 'BitBank', 'CoinDeal', 'AidosMarket', 'TokenStore', 'Novaexchange', 'OKCoin', 'idevex', 'bingcoins', 'coinall', 'coinzest', 'eidoo', 'oex', 'bitci', 'primexbt', 'ataix', 'coinfield', 'HitBTC', 'raidofinance', 'Codex', 'ZBG'])\n"
     ]
    }
   ],
   "source": [
    "import requests\n",
    "URL_EXCHANGES = 'https://www.cryptocompare.com/api/data/exchanges'\n",
    "response = requests.get(URL_EXCHANGES).json()\n",
    "data = response['Data']\n",
    "print(data.keys())"
   ]
  },
  {
   "cell_type": "code",
   "execution_count": 5,
   "metadata": {
    "scrolled": true
   },
   "outputs": [
    {
     "name": "stdout",
     "output_type": "stream",
     "text": [
      "OKEX/ETH.USDT\n",
      "ETH.USDT\n",
      "ETH\n"
     ]
    }
   ],
   "source": [
    "a = 'OKEX/ETH.USDT'\n",
    "b = a.split('/')[-1]\n",
    "c = b.split('.')[0]\n",
    "print(a)\n",
    "print(b)\n",
    "print(c)"
   ]
  },
  {
   "cell_type": "code",
   "execution_count": null,
   "metadata": {},
   "outputs": [],
   "source": [
    "Poloniex\n",
    "HitBTC"
   ]
  }
 ],
 "metadata": {
  "kernelspec": {
   "display_name": "Python 3",
   "language": "python",
   "name": "python3"
  },
  "language_info": {
   "codemirror_mode": {
    "name": "ipython",
    "version": 3
   },
   "file_extension": ".py",
   "mimetype": "text/x-python",
   "name": "python",
   "nbconvert_exporter": "python",
   "pygments_lexer": "ipython3",
   "version": "3.7.3"
  }
 },
 "nbformat": 4,
 "nbformat_minor": 1
}
