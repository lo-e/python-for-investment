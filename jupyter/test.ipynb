{
 "cells": [
  {
   "cell_type": "code",
   "execution_count": null,
   "metadata": {
    "collapsed": false
   },
   "outputs": [],
   "source": [
    "'''\n",
    "talib\n",
    "'''"
   ]
  },
  {
   "cell_type": "code",
   "execution_count": null,
   "metadata": {
    "collapsed": true
   },
   "outputs": [],
   "source": [
    "import talib\n",
    "import numpy as np"
   ]
  },
  {
   "cell_type": "code",
   "execution_count": null,
   "metadata": {
    "collapsed": false
   },
   "outputs": [],
   "source": [
    "high = np.array([1.0, 2.0, 6.0, 1.0, 2.0, 3.0, 4.0, 5.0, 6.0])\n",
    "low = np.array([1.0, 2.0, 5.0, 6.0, 5.0, 4.0, 3.0, 2.0, 1.0])\n",
    "close = np.array([1.0, 2.0, 2.0, 1.0, 1.0, 1.0, 1.0, 1.0, 1.0])\n",
    "a = talib.ATR(high, low, close, 2)\n",
    "a"
   ]
  },
  {
   "cell_type": "code",
   "execution_count": null,
   "metadata": {
    "collapsed": false
   },
   "outputs": [],
   "source": [
    "close = np.array([1000.0, 2.0, 1.0, 6.0, 6.0, 1.0, 6.0, 1.0, 1.0, 1.0, 1.0])\n",
    "result = talib.RSI(close, 2)\n",
    "result"
   ]
  },
  {
   "cell_type": "code",
   "execution_count": null,
   "metadata": {
    "collapsed": true
   },
   "outputs": [],
   "source": [
    "'''\n",
    "tushare\n",
    "'''"
   ]
  },
  {
   "cell_type": "code",
   "execution_count": 1,
   "metadata": {
    "collapsed": false
   },
   "outputs": [],
   "source": [
    "import tushare as ts\n",
    "from datetime import datetime, timedelta"
   ]
  },
  {
   "cell_type": "code",
   "execution_count": 2,
   "metadata": {
    "collapsed": false
   },
   "outputs": [],
   "source": [
    "df = ts.get_tick_data('rb1805', '2017-09-10')\n",
    "#df"
   ]
  },
  {
   "cell_type": "code",
   "execution_count": 3,
   "metadata": {
    "collapsed": false
   },
   "outputs": [],
   "source": [
    "cons = ts.get_apis()"
   ]
  },
  {
   "cell_type": "code",
   "execution_count": 11,
   "metadata": {
    "collapsed": false
   },
   "outputs": [
    {
     "data": {
      "text/plain": [
       "Int64Index([    0,     1,     2,     3,     4,     5,     6,     7,     8,\n",
       "                9,\n",
       "            ...\n",
       "            38282, 38283, 38284, 38285, 38286, 38287, 38288, 38289, 38290,\n",
       "            38291],\n",
       "           dtype='int64', length=38292)"
      ]
     },
     "execution_count": 11,
     "metadata": {},
     "output_type": "execute_result"
    }
   ],
   "source": [
    "df = ts.tick('rb1805', conn = cons, date = '2017-11-24', asset = 'X') \n",
    "#df = ts.tick('IF1801', conn = cons, date = '2017-06-22', asset = 'X') \n",
    "#df = ts.tick('600380', conn = cons, date = '2018-01-02')\n",
    "#df = ts.tick('rb1806', conn = cons, date = '2018-01-10', asset = 'X')\n",
    "df.index"
   ]
  },
  {
   "cell_type": "code",
   "execution_count": null,
   "metadata": {
    "collapsed": false
   },
   "outputs": [],
   "source": [
    "lastDt = None\n",
    "mSecond = 0\n",
    "for i, row in df.iterrows():\n",
    "    dt = row['date'].to_datetime()\n",
    "    if (not lastDt) or lastDt != dt:\n",
    "        mSecond = 0\n",
    "        lastDt = dt\n",
    "    else:\n",
    "        mSecond += 1\n",
    "    \n",
    "    #print mSecond\n",
    "    dt = dt.replace(microsecond = mSecond)\n",
    "        \n",
    "    print dt\n",
    "    print row['vol']\n",
    "    print '\\n'"
   ]
  },
  {
   "cell_type": "code",
   "execution_count": null,
   "metadata": {
    "collapsed": false,
    "scrolled": true
   },
   "outputs": [],
   "source": [
    "for i, row in df.iterrows():\n",
    "    print row['date'], '*'*2, row['vol']"
   ]
  },
  {
   "cell_type": "code",
   "execution_count": null,
   "metadata": {
    "collapsed": false
   },
   "outputs": [],
   "source": [
    "df = ts.bar('rb1805', conn = cons, freq = 'D', start_date = '2017-01-01', end_date = '', asset = 'X')"
   ]
  },
  {
   "cell_type": "code",
   "execution_count": null,
   "metadata": {
    "collapsed": false
   },
   "outputs": [],
   "source": [
    "df.sort_index(inplace = True)\n",
    "df"
   ]
  },
  {
   "cell_type": "code",
   "execution_count": null,
   "metadata": {
    "collapsed": false
   },
   "outputs": [],
   "source": [
    "a = df.ix[1]\n",
    "the = a['date']\n",
    "dt = the.to_datetime()\n",
    "print dt\n",
    "if dt.time() >= datetime.time(21, 0):\n",
    "    dt = dt - timedelta(1)\n",
    "\n",
    "print dt"
   ]
  },
  {
   "cell_type": "code",
   "execution_count": null,
   "metadata": {
    "collapsed": true
   },
   "outputs": [],
   "source": []
  },
  {
   "cell_type": "code",
   "execution_count": null,
   "metadata": {
    "collapsed": false
   },
   "outputs": [],
   "source": [
    "for index, row in df.iterrows():\n",
    "    print row['date'], ' '*2, row['vol']"
   ]
  },
  {
   "cell_type": "code",
   "execution_count": null,
   "metadata": {
    "collapsed": false
   },
   "outputs": [],
   "source": [
    "from datetime import datetime"
   ]
  },
  {
   "cell_type": "code",
   "execution_count": null,
   "metadata": {
    "collapsed": false
   },
   "outputs": [],
   "source": [
    "from collections import namedtuple\n",
    "abc = namedtuple('xyz', ['x', 'y'])\n",
    "the = abc(6,2)\n",
    "the.x"
   ]
  },
  {
   "cell_type": "code",
   "execution_count": null,
   "metadata": {
    "collapsed": false
   },
   "outputs": [],
   "source": [
    "import sys\n",
    "#sys.getdefaultencoding()\n",
    "#reload(sys)\n",
    "#sys.setdefaultencoding('UTF-8')\n",
    "a = sys.getdefaultencoding()\n",
    "type(a)"
   ]
  },
  {
   "cell_type": "code",
   "execution_count": null,
   "metadata": {
    "collapsed": false
   },
   "outputs": [],
   "source": [
    "if isinstance('a', str):\n",
    "    print 1\n",
    "else:\n",
    "    print 2"
   ]
  },
  {
   "cell_type": "code",
   "execution_count": null,
   "metadata": {
    "collapsed": false
   },
   "outputs": [],
   "source": [
    "import pymongo "
   ]
  },
  {
   "cell_type": "code",
   "execution_count": null,
   "metadata": {
    "collapsed": false
   },
   "outputs": [],
   "source": [
    "c = pymongo.MongoClient('localhot', 270)\n",
    "if c:\n",
    "    print c\n",
    "    \n",
    "else:\n",
    "    print 'no'"
   ]
  },
  {
   "cell_type": "code",
   "execution_count": null,
   "metadata": {
    "collapsed": true
   },
   "outputs": [],
   "source": [
    "'''\n",
    "datetime\n",
    "'''"
   ]
  },
  {
   "cell_type": "code",
   "execution_count": null,
   "metadata": {
    "collapsed": false
   },
   "outputs": [],
   "source": [
    "from datetime import datetime, time"
   ]
  },
  {
   "cell_type": "code",
   "execution_count": null,
   "metadata": {
    "collapsed": false
   },
   "outputs": [],
   "source": [
    "a = datetime.now().time()\n",
    "print type(a)"
   ]
  },
  {
   "cell_type": "code",
   "execution_count": null,
   "metadata": {
    "collapsed": false
   },
   "outputs": [],
   "source": [
    "a = False\n",
    "if not a:\n",
    "    print 'yes'"
   ]
  },
  {
   "cell_type": "code",
   "execution_count": null,
   "metadata": {
    "collapsed": true
   },
   "outputs": [],
   "source": [
    "'''\n",
    "json\n",
    "'''\n",
    "import json"
   ]
  },
  {
   "cell_type": "code",
   "execution_count": null,
   "metadata": {
    "collapsed": false
   },
   "outputs": [],
   "source": [
    "f1 = open(filePath)\n",
    "the = json.load(f1)\n",
    "for dic in the:\n",
    "    print dic['a']"
   ]
  },
  {
   "cell_type": "code",
   "execution_count": null,
   "metadata": {
    "collapsed": false
   },
   "outputs": [],
   "source": [
    "import os"
   ]
  },
  {
   "cell_type": "code",
   "execution_count": null,
   "metadata": {
    "collapsed": false
   },
   "outputs": [],
   "source": [
    "currentFolder = os.getcwd()\n",
    "print currentFolder\n",
    "newPath = os.path.join(currentFolder, '')"
   ]
  },
  {
   "cell_type": "code",
   "execution_count": null,
   "metadata": {
    "collapsed": false
   },
   "outputs": [],
   "source": [
    "d = datetime.now().strftime('Y-m-d')\n",
    "d"
   ]
  },
  {
   "cell_type": "code",
   "execution_count": null,
   "metadata": {
    "collapsed": true
   },
   "outputs": [],
   "source": [
    "'''\n",
    "pandas\n",
    "'''"
   ]
  },
  {
   "cell_type": "code",
   "execution_count": null,
   "metadata": {
    "collapsed": false
   },
   "outputs": [],
   "source": [
    "import pandas as pd\n",
    "from pandas import DataFrame\n",
    "from pandas import Series"
   ]
  },
  {
   "cell_type": "code",
   "execution_count": null,
   "metadata": {
    "collapsed": false
   },
   "outputs": [],
   "source": [
    "b = DataFrame()\n",
    "b['名称'] = []\n",
    "b['价格'] = []\n",
    "b['开盘价'] = []\n",
    "b.ix['2017-01-01'] = [1,2,3]\n",
    "b.ix['2017-01-02'] = [1,2,3]\n",
    "b.ix['2017-01-03'] = [1,2,3]\n",
    "b"
   ]
  },
  {
   "cell_type": "code",
   "execution_count": null,
   "metadata": {
    "collapsed": false
   },
   "outputs": [],
   "source": [
    "c = DataFrame()\n",
    "c['名称'] = []\n",
    "c['价格'] = []\n",
    "c['开盘价'] = []\n",
    "c.ix['2017-01-04'] = [1,2,3]\n",
    "c.ix['2017-01-05'] = [1,2,3]\n",
    "c.ix['2017-01-06'] = [1,2,3]\n",
    "c"
   ]
  },
  {
   "cell_type": "code",
   "execution_count": null,
   "metadata": {
    "collapsed": false
   },
   "outputs": [],
   "source": [
    "the = c.copy()\n",
    "for index in b.index:\n",
    "    if index not in c.index:\n",
    "        c.ix[index] = 0\n",
    "\n",
    "for index in the.index:\n",
    "    if index not in b.index:\n",
    "        b.ix[index] = 0\n",
    "\n",
    "print b\n",
    "print '\\n'\n",
    "print c"
   ]
  },
  {
   "cell_type": "code",
   "execution_count": null,
   "metadata": {
    "collapsed": false
   },
   "outputs": [],
   "source": [
    "d = b + c\n",
    "d = d.dropna()\n",
    "d"
   ]
  },
  {
   "cell_type": "code",
   "execution_count": null,
   "metadata": {
    "collapsed": true
   },
   "outputs": [],
   "source": [
    "fileName = 'abc.csv'"
   ]
  },
  {
   "cell_type": "code",
   "execution_count": null,
   "metadata": {
    "collapsed": true
   },
   "outputs": [],
   "source": [
    "b.to_csv(fileName, encoding = 'utf-8')"
   ]
  },
  {
   "cell_type": "code",
   "execution_count": null,
   "metadata": {
    "collapsed": false
   },
   "outputs": [],
   "source": [
    "c = pd.read_csv(fileName, encoding = 'utf-8')\n",
    "c"
   ]
  },
  {
   "cell_type": "code",
   "execution_count": null,
   "metadata": {
    "collapsed": true
   },
   "outputs": [],
   "source": [
    "'''\n",
    "csv\n",
    "'''"
   ]
  },
  {
   "cell_type": "code",
   "execution_count": null,
   "metadata": {
    "collapsed": true
   },
   "outputs": [],
   "source": [
    "import csv\n",
    "import codecs"
   ]
  },
  {
   "cell_type": "code",
   "execution_count": null,
   "metadata": {
    "collapsed": true
   },
   "outputs": [],
   "source": [
    "fileName = 'abc.csv'"
   ]
  },
  {
   "cell_type": "code",
   "execution_count": null,
   "metadata": {
    "collapsed": false
   },
   "outputs": [],
   "source": [
    "# 写\n",
    "f = file(fileName, 'wb')\n",
    "f.write(codecs.BOM_UTF8)\n",
    "\n",
    "fieldnames = [u'a', 'last_name']\n",
    "writer = csv.DictWriter(f, fieldnames=fieldnames)\n",
    "\n",
    "writer.writeheader()\n",
    "writer.writerow({'a': '和', 'last_name': '啊'})"
   ]
  },
  {
   "cell_type": "code",
   "execution_count": null,
   "metadata": {
    "collapsed": false
   },
   "outputs": [],
   "source": [
    "# 读\n",
    "with open(fileName) as f:\n",
    "    reader = csv.DictReader(f)\n",
    "    the = []\n",
    "    for row in reader:\n",
    "        the.append(row)\n",
    "    print the"
   ]
  },
  {
   "cell_type": "code",
   "execution_count": null,
   "metadata": {
    "collapsed": true
   },
   "outputs": [],
   "source": [
    "'''\n",
    "os\n",
    "'''"
   ]
  },
  {
   "cell_type": "code",
   "execution_count": null,
   "metadata": {
    "collapsed": true
   },
   "outputs": [],
   "source": [
    "import os"
   ]
  },
  {
   "cell_type": "code",
   "execution_count": null,
   "metadata": {
    "collapsed": false
   },
   "outputs": [],
   "source": [
    "exists = os.path.exists(fileName)\n",
    "print exists\n",
    "print os.getcwd()\n",
    "newFileName = os.getcwd() + '\\clone\\\\abc.csv'\n",
    "print newFileName\n",
    "print os.path.exists(newFileName)"
   ]
  },
  {
   "cell_type": "code",
   "execution_count": null,
   "metadata": {
    "collapsed": false
   },
   "outputs": [],
   "source": [
    "dic = {'a':1, 'b':2, 'c':3}\n",
    "print dic.keys()\n",
    "print type(dic.keys())"
   ]
  },
  {
   "cell_type": "code",
   "execution_count": null,
   "metadata": {
    "collapsed": false
   },
   "outputs": [],
   "source": [
    "walkingDic = 'C:\\\\Users'\n",
    "for root, subdirs, files in os.walk(walkingDic):\n",
    "    for sub in subdirs:\n",
    "        if sub == 'stgEarningCSV':\n",
    "            print root"
   ]
  },
  {
   "cell_type": "code",
   "execution_count": null,
   "metadata": {
    "collapsed": true
   },
   "outputs": [],
   "source": [
    "'''\n",
    "MongoDB\n",
    "'''"
   ]
  },
  {
   "cell_type": "code",
   "execution_count": 35,
   "metadata": {
    "collapsed": false
   },
   "outputs": [],
   "source": [
    "import pymongo\n",
    "from datetime import datetime\n",
    "from vnpy.trader.app.ctaStrategy.ctaBase import TICK_DB_NAME\n",
    "from copy import copy\n",
    "from time import time"
   ]
  },
  {
   "cell_type": "code",
   "execution_count": 86,
   "metadata": {
    "collapsed": false
   },
   "outputs": [
    {
     "name": "stdout",
     "output_type": "stream",
     "text": [
      "10003669\n",
      "516.354000092\n"
     ]
    }
   ],
   "source": [
    "code = 'rb00.TB'\n",
    "#code = 'i00.TB'\n",
    "startDate = datetime.strptime('2017-01-01 22:59:50', '%Y-%m-%d %H:%M:%S')\n",
    "endDate = datetime.strptime('2018-02-09 22:59:59', '%Y-%m-%d %H:%M:%S')\n",
    "client = pymongo.MongoClient('localhost', 27017)\n",
    "db = client[TICK_DB_NAME]\n",
    "collection = db[code]\n",
    "collection.create_index('datetime')\n",
    "flt = {'datetime':{'$gte':startDate, '$lt':endDate}} \n",
    "#flt = {'datetime':{'$gte':startDate}} \n",
    "data = collection.find(flt).sort('datetime')\n",
    "\n",
    "start = time()\n",
    "for dic in data:\n",
    "    continue\n",
    "print data.count()\n",
    "print time() - start\n"
   ]
  },
  {
   "cell_type": "code",
   "execution_count": null,
   "metadata": {
    "collapsed": false,
    "scrolled": true
   },
   "outputs": [],
   "source": []
  },
  {
   "cell_type": "code",
   "execution_count": 44,
   "metadata": {
    "collapsed": false
   },
   "outputs": [],
   "source": [
    "code = 'rb1805'\n",
    "startDate = datetime.strptime('2018-01-11 22:59:50', '%Y-%m-%d %H:%M:%S')\n",
    "endDate = datetime.strptime('2018-01-11 22:59:59', '%Y-%m-%d %H:%M:%S')\n",
    "client = pymongo.MongoClient('localhost', 27017)\n",
    "collection = client[TICK_DB_NAME][code]\n",
    "flt = {'datetime':{'$gte':startDate,\n",
    "                   '$lt':endDate}}        \n",
    "data = collection.find(flt).sort('datetime')\n",
    "for dic in data:\n",
    "    print dic['datetime']\n",
    "    print dic['lastPrice']\n",
    "    print '\\n'"
   ]
  },
  {
   "cell_type": "code",
   "execution_count": 2,
   "metadata": {
    "collapsed": false
   },
   "outputs": [
    {
     "name": "stdout",
     "output_type": "stream",
     "text": [
      "2011-11-01 09:00:00.500000\n"
     ]
    }
   ],
   "source": [
    "from datetime import datetime\n",
    "day = '20111101'\n",
    "time = '90000500000'\n",
    "dayTime = day + ' ' + time\n",
    "dt = datetime.strptime(dayTime, '%Y%m%d %H%M%S%f')\n",
    "print dt"
   ]
  },
  {
   "cell_type": "code",
   "execution_count": null,
   "metadata": {
    "collapsed": true
   },
   "outputs": [],
   "source": [
    "'''\n",
    "threading\n",
    "'''"
   ]
  },
  {
   "cell_type": "code",
   "execution_count": 6,
   "metadata": {
    "collapsed": true
   },
   "outputs": [],
   "source": [
    "from time import ctime, sleep\n",
    "import threading"
   ]
  },
  {
   "cell_type": "code",
   "execution_count": 40,
   "metadata": {
    "collapsed": false
   },
   "outputs": [],
   "source": [
    "class MyThread(threading.Thread):\n",
    "    def __init__(self, func, args = ()):\n",
    "        super(MyThread, self).__init__()\n",
    "        self.func = func\n",
    "        self.args = args\n",
    "    \n",
    "    def run(self):\n",
    "        self.result = self.func(*self.args)\n",
    "    \n",
    "    \n",
    "    def get_result(self):\n",
    "        try:\n",
    "            return self.result\n",
    "        except Exception:\n",
    "            return None\n",
    "        "
   ]
  },
  {
   "cell_type": "code",
   "execution_count": 46,
   "metadata": {
    "collapsed": false
   },
   "outputs": [
    {
     "name": "stdout",
     "output_type": "stream",
     "text": [
      "arg: 0\n",
      "====================\n",
      "[] \n",
      "\n",
      "arg: 1\n",
      "abc: 0\n",
      "abc: 1\n"
     ]
    }
   ],
   "source": [
    "def action(arg):\n",
    "    print 'arg:', arg\n",
    "    sleep(6)\n",
    "    print 'abc:', arg\n",
    "    return arg\n",
    "\n",
    "tList =  []\n",
    "dfList = []\n",
    "for i in range(2):\n",
    "    t = MyThread(action, args = (str(i)))\n",
    "    tList.append(t)\n",
    "    t.start()\n",
    "    \n",
    "for t in tList:\n",
    "    print 'abcxyz'\n",
    "    dfList.append(t.get_result())\n",
    "    t.join()\n",
    "\n",
    "print '='*20\n",
    "print dfList, '\\n'"
   ]
  },
  {
   "cell_type": "code",
   "execution_count": 47,
   "metadata": {
    "collapsed": false
   },
   "outputs": [
    {
     "name": "stdout",
     "output_type": "stream",
     "text": [
      "arg: x\n",
      "arg: y\n",
      "abc: x\n",
      "abc: y\n",
      "main\n"
     ]
    }
   ],
   "source": [
    "threads = []\n",
    "t1 = threading.Thread(target = action, args = ('x'))\n",
    "threads.append(t1)\n",
    "t1.start()\n",
    "\n",
    "t2 = threading.Thread(target = action, args = ('y'))\n",
    "threads.append(t2)\n",
    "t2.start()\n",
    "\n",
    "for t in threads:\n",
    "    #t.setDaemon(True)\n",
    "    #t.start()\n",
    "    t.join()\n",
    "print 'main'"
   ]
  },
  {
   "cell_type": "code",
   "execution_count": 46,
   "metadata": {
    "collapsed": false
   },
   "outputs": [
    {
     "name": "stdout",
     "output_type": "stream",
     "text": [
      "no\n",
      "0\n"
     ]
    }
   ],
   "source": [
    "a = -0\n",
    "if a:\n",
    "    print 'yes'\n",
    "else:\n",
    "    print 'no'\n",
    "print a"
   ]
  },
  {
   "cell_type": "code",
   "execution_count": 11,
   "metadata": {
    "collapsed": true
   },
   "outputs": [],
   "source": [
    "from datetime import datetime, time, timedelta"
   ]
  },
  {
   "cell_type": "code",
   "execution_count": 14,
   "metadata": {
    "collapsed": false
   },
   "outputs": [
    {
     "name": "stdout",
     "output_type": "stream",
     "text": [
      "09:31:49.402000\n",
      "09:32:49.402000\n",
      "09:33:49.402000\n"
     ]
    }
   ],
   "source": [
    "nowTime = datetime.now().time()\n",
    "startMinute = nowTime.minute\n",
    "startHour = nowTime.hour\n",
    "startMinute += 1\n",
    "if startMinute >= 60:\n",
    "    startMinute = 0\n",
    "    startHour += 1\n",
    "        \n",
    "endMinute = startMinute + 1\n",
    "endHour =  startHour\n",
    "if endMinute >= 60:\n",
    "    endMinute = 0\n",
    "    endHour += 1\n",
    "        \n",
    "startTime = nowTime.replace(hour=startHour, minute=startMinute)\n",
    "endTime = nowTime.replace(hour=endHour, minute=endMinute)\n",
    "\n",
    "print nowTime\n",
    "print startTime\n",
    "print endTime"
   ]
  },
  {
   "cell_type": "code",
   "execution_count": 1,
   "metadata": {
    "collapsed": true
   },
   "outputs": [],
   "source": [
    "from datetime import datetime"
   ]
  },
  {
   "cell_type": "code",
   "execution_count": 8,
   "metadata": {
    "collapsed": false
   },
   "outputs": [
    {
     "name": "stdout",
     "output_type": "stream",
     "text": [
      "2017-05-11 11:30:00.500000\n"
     ]
    }
   ],
   "source": [
    "timeStr = '113000500'\n",
    "the = datetime.strptime(timeStr, '%H%M%S%f')\n",
    "time = the.strftime('%H:%M:%S.%f')\n",
    "\n",
    "dateStr = '20170511'\n",
    "\n",
    "the = datetime.strptime(dateStr + ' ' + time, '%Y%m%d %H:%M:%S.%f')\n",
    "print the"
   ]
  },
  {
   "cell_type": "code",
   "execution_count": 5,
   "metadata": {
    "collapsed": true
   },
   "outputs": [],
   "source": [
    "from datetime import time"
   ]
  },
  {
   "cell_type": "code",
   "execution_count": 7,
   "metadata": {
    "collapsed": false
   },
   "outputs": [
    {
     "name": "stdout",
     "output_type": "stream",
     "text": [
      "<type 'datetime.time'>\n"
     ]
    }
   ],
   "source": [
    "a = time(6, 6, 6)\n",
    "print time"
   ]
  },
  {
   "cell_type": "code",
   "execution_count": null,
   "metadata": {
    "collapsed": true
   },
   "outputs": [],
   "source": []
  }
 ],
 "metadata": {
  "kernelspec": {
   "display_name": "Python 2",
   "language": "python",
   "name": "python2"
  },
  "language_info": {
   "codemirror_mode": {
    "name": "ipython",
    "version": 2
   },
   "file_extension": ".py",
   "mimetype": "text/x-python",
   "name": "python",
   "nbconvert_exporter": "python",
   "pygments_lexer": "ipython2",
   "version": "2.7.13"
  }
 },
 "nbformat": 4,
 "nbformat_minor": 0
}
