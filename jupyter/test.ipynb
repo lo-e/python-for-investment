{
 "cells": [
  {
   "cell_type": "code",
   "execution_count": 1,
   "metadata": {},
   "outputs": [],
   "source": [
    "import re\n",
    "from vnpy.trader.constant import Exchange\n",
    "from vnpy.app.cta_strategy.base import EXCHANGE_SYMBOL_DICT\n",
    "from datetime import datetime, timedelta"
   ]
  },
  {
   "cell_type": "code",
   "execution_count": 36,
   "metadata": {},
   "outputs": [
    {
     "name": "stdout",
     "output_type": "stream",
     "text": [
      "2000\n"
     ]
    }
   ],
   "source": [
    "fromDate = datetime.strptime('2012-6-10', '%Y-%m-%d')\n",
    "toDate = datetime.strptime('2017-12-01', '%Y-%m-%d')\n",
    "\n",
    "count = 0\n",
    "while fromDate.date() != toDate.date():\n",
    "    count += 1\n",
    "    fromDate = fromDate + timedelta(1)\n",
    "\n",
    "print(count)"
   ]
  },
  {
   "cell_type": "code",
   "execution_count": 16,
   "metadata": {},
   "outputs": [
    {
     "name": "stdout",
     "output_type": "stream",
     "text": [
      "1563864223\n"
     ]
    }
   ],
   "source": [
    "# 当前时间戳\n",
    "import time\n",
    "a = int(time.time())\n",
    "print(a)"
   ]
  },
  {
   "cell_type": "code",
   "execution_count": 59,
   "metadata": {},
   "outputs": [
    {
     "name": "stdout",
     "output_type": "stream",
     "text": [
      "2017-12-01 22:00:00\n"
     ]
    }
   ],
   "source": [
    "# 时间戳转时间\n",
    "timeStamp = 1512136800\n",
    "date = datetime.fromtimestamp(timeStamp)\n",
    "print(date)"
   ]
  },
  {
   "cell_type": "code",
   "execution_count": 23,
   "metadata": {},
   "outputs": [
    {
     "name": "stdout",
     "output_type": "stream",
     "text": [
      "1563580800.0\n"
     ]
    }
   ],
   "source": [
    "# 时间转时间戳\n",
    "a = '2019-07-20 08:00:00'\n",
    "b = datetime.strptime(a, '%Y-%m-%d %H:%M:%S')\n",
    "print(b.timestamp())"
   ]
  },
  {
   "cell_type": "code",
   "execution_count": 3,
   "metadata": {},
   "outputs": [
    {
     "name": "stdout",
     "output_type": "stream",
     "text": [
      "dict_keys(['decoin', 'Binance', 'Bitstamp', 'BitTrex', 'OKCoin', 'BTER', 'Kraken', 'Cexio', 'Yacuna', 'Coinbase', 'LocalBitcoins', 'itBit', 'HitBTC', 'BTC38', 'Coinfloor', 'BTCExchange', 'hbus', 'LakeBTC', 'Bit2C', 'CCEX', 'Gatecoin', 'Yunbi', 'WavesDEX', 'CCEDK', 'Cryptopia', 'Exmo', 'Yobit', 'BitBay', 'Korbit', 'BTCMarkets', 'Coincheck', 'QuadrigaCX', 'BitSquare', 'Vaultoro', 'MercadoBitcoin', 'Unocoin', 'Bitso', 'BTCXIndia', 'Paymium', 'TheRockTrading', 'bitFlyer', 'Quoine', 'Liqui', 'Luno', 'CryptoX', 'EtherDelta', 'TuxExchange', 'CHBTC', 'bitFlyerFX', 'LiveCoin', 'Tidex', 'CoinCorner', 'BitMarket', 'Coinone', 'Bleutrade', 'EthexIndia', 'Surbitcoin', 'Bithumb', 'Foxbit', 'Zaif', 'Jubi', 'ViaBTC', 'Novaexchange', 'Lykke', 'Remitano', 'Coinroom', 'Abucoins', 'BXinth', 'HuobiPro', 'OKEX', 'Gateio', 'TrustDEX', 'EXX', 'Kucoin', 'BitGrail', 'BitZ', 'BitFlip', 'TradeSatoshi', 'Coincap', 'ChileBit', 'VBTC', 'Velox', 'Graviex', 'ExtStock', 'BitBank', 'CoinDeal', 'AidosMarket', 'TokenStore', 'Ethfinex', 'DSX', 'Coinnest', 'IDEX', 'Bitlish', 'CoinEx', 'Buda', 'CoinsBank', 'Braziliex', 'Upbit', 'Neraex', 'BTCTurk', 'BitMart', 'Bibox', 'DDEX', 'ZB', 'LBank', 'SingularityX', 'Simex', 'Nebula', 'Bluebelt', 'RightBTC', 'WorldCryptoCap', 'ABCC', 'OpenLedger', 'WEX', 'BitexBook', 'CryptoCarbon', 'BigONE', 'CoinBene', 'FCoin', 'Kuna', 'Tokenomy', 'IDAX', 'CoinHub', 'Nexchange', 'Hikenex', 'Qryptos', 'BTCBOX', 'HADAX', 'CryptoBulls', 'IndependentReserve', 'Bitmex', 'Codex', 'DEx', 'Ironex', 'Zecoex', 'Nlexch', 'Globitex', 'Ore', 'Bitinfi', 'CoinJar', 'TDAX', 'CoinFalcon', 'ACX', 'Bitsane', 'BTCAlpha', 'FCCE', 'InstantBitex', 'Gneiss', 'Cryptonit', 'CoinPulse', 'bkex', 'Bitforex', 'Liqnet', 'BCEX', 'Liquid', 'Minebit', 'IQFinex', 'P2PB2B', 'StocksExchange', 'iCoinbay', 'CoinTiger', 'Threexbit', 'cobinhood', 'Switcheo', 'Bitkub', 'Everbloom', 'EXRATES', 'Coinsbit', 'NDAX', 'DigiFinex', 'Bitshares', 'Coinmate', 'Incorex', 'Ethermium', 'Nuex', 'Blackturtle', 'Catex', 'Exenium', 'StocksExchangeio', 'ZBG', 'SafeCoin', 'XS2', 'bw', 'CryptoExchangeWS', 'smartrade', 'alphaex', 'Bitpoint', 'bitspark', 'Binanceje', 'Poloniex', 'Bgogo', 'xena', 'chainrift', 'trxmarket', 'aliexchange', 'fatbtc', 'bitmax', 'coss', 'huobijapan', 'huobikorea', 'eidoo', 'idevex', 'crex24', 'gopax', 'coinfield', 'coinzest', 'bingcoins', 'coinall', 'bitci', 'primexbt', 'oex', 'ataix', 'raidofinance', 'zloadr', 'thore', 'darbfinance', 'binanceus', 'bitflyerus', 'bitflyereu', 'exscudo', 'xcoex', 'CBX', 'biki', 'unnamed', 'coineal', 'dcoin', 'seedcx', '55com', 'chainx', 'coinegg', 'bitasset', 'chaoex', 'bhex', 'tchapp', 'sistemkoin', 'tokok', 'bilaxy', 'Bitfinex', 'Gemini'])\n"
     ]
    }
   ],
   "source": [
    "import requests\n",
    "URL_EXCHANGES = 'https://www.cryptocompare.com/api/data/exchanges'\n",
    "response = requests.get(URL_EXCHANGES).json()\n",
    "data = response['Data']\n",
    "print(data.keys())"
   ]
  },
  {
   "cell_type": "code",
   "execution_count": 2,
   "metadata": {
    "scrolled": true
   },
   "outputs": [],
   "source": [
    "from pymongo import MongoClient, ASCENDING, DESCENDING\n",
    "from vnpy.app.cta_strategy.base import TICK_DB_NAME, MINUTE_DB_NAME, DAILY_DB_NAME, MinuteDataBaseName, HourDataBaseName\n",
    "from datetime import datetime\n",
    "from vnpy.trader.object import BarData, TickData"
   ]
  },
  {
   "cell_type": "code",
   "execution_count": 7,
   "metadata": {},
   "outputs": [
    {
     "name": "stdout",
     "output_type": "stream",
     "text": [
      "vt_symbol:BTCUSD.BYBIT\t2019-12-03 16:51:26.447000\tBTCUSD\t7302.0\n",
      "vt_symbol:BTCUSD.BYBIT\t2019-12-03 16:51:26.427000\tBTCUSD\t7302.0\n",
      "vt_symbol:BTCUSD.BYBIT\t2019-12-03 16:51:26.407000\tBTCUSD\t7302.0\n",
      "vt_symbol:BTCUSD.BYBIT\t2019-12-03 16:51:26.391000\tBTCUSD\t7302.0\n",
      "vt_symbol:BTCUSD.BYBIT\t2019-12-03 16:51:26.387000\tBTCUSD\t7302.0\n",
      "vt_symbol:BTCUSD.BYBIT\t2019-12-03 16:51:26.367000\tBTCUSD\t7302.0\n"
     ]
    }
   ],
   "source": [
    "# ====== Tick ======\n",
    "client = MongoClient('localhost', 27017, serverSelectionTimeoutMS = 600)       # Mongo连接\n",
    "client.server_info()\n",
    "dbTick = client[TICK_DB_NAME]\n",
    "cl = dbTick['BTCUSD']\n",
    "cl.create_index('datetime')         # 添加索引\n",
    "start = datetime.strptime('2019-11-18 07:59:50', '%Y-%m-%d %H:%M:%S')\n",
    "end = datetime.strptime('2019-11-19 08:00:10', '%Y-%m-%d %H:%M:%S')\n",
    "flt = {'datetime': {'$gte':start,\n",
    "                    '$lte':end}}\n",
    "cursor = cl.find({}).sort('datetime', DESCENDING)\n",
    "count = 0\n",
    "for dic in cursor:\n",
    "    tick = TickData(gateway_name='', symbol='', exchange=None, datetime=None)\n",
    "    tick.__dict__ = dic\n",
    "    print(f'vt_symbol:{tick.vt_symbol}\\t{tick.datetime}\\t{tick.symbol}\\t{tick.last_price}')\n",
    "    count += 1\n",
    "    if count >= 6:\n",
    "        break"
   ]
  },
  {
   "cell_type": "code",
   "execution_count": 67,
   "metadata": {},
   "outputs": [
    {
     "name": "stdout",
     "output_type": "stream",
     "text": [
      "2019-11-29 09:25:00\n",
      "2019-11-29 09:24:00\n",
      "2019-11-29 09:23:00\n",
      "2019-11-29 09:22:00\n",
      "2019-11-29 09:21:00\n",
      "2019-11-29 09:20:00\n"
     ]
    }
   ],
   "source": [
    "# ====== Minute ======\n",
    "client = MongoClient('localhost', 27017)\n",
    "db = client[MINUTE_DB_NAME]\n",
    "collection = db['BTCUSD.BYBIT']\n",
    "start = datetime.strptime('2019-11-27 00:00:00', '%Y-%m-%d %H:%M:%S')\n",
    "end = datetime.strptime('2019-11-27 00:06:00', '%Y-%m-%d %H:%M:%S')\n",
    "flt = {'datetime': {'$gte':start,\n",
    "                    '$lte':end}}\n",
    "cursor = collection.find({}).sort('datetime', DESCENDING)\n",
    "count = 0\n",
    "for dic in cursor:\n",
    "    print(dic['datetime'])\n",
    "    count += 1\n",
    "    if count >= 6:\n",
    "        break"
   ]
  },
  {
   "cell_type": "code",
   "execution_count": 6,
   "metadata": {},
   "outputs": [
    {
     "name": "stdout",
     "output_type": "stream",
     "text": [
      "EOSUSD.BYBIT\t2019-12-09 08:00:00\t2.745\t2.755\t2.61\t2.656\n"
     ]
    }
   ],
   "source": [
    "# ====== Daily ======\n",
    "client = MongoClient('localhost', 27017)\n",
    "db = client[DAILY_DB_NAME]\n",
    "collection = db['EOSUSD.BYBIT']\n",
    "start = datetime.strptime('2019-11-27 00:00:00', '%Y-%m-%d %H:%M:%S')\n",
    "end = datetime.strptime('2019-11-27 00:06:00', '%Y-%m-%d %H:%M:%S')\n",
    "flt = {'datetime': {'$gte':start,\n",
    "                    '$lte':end}}\n",
    "cursor = collection.find({}).sort('datetime', DESCENDING)\n",
    "for dic in cursor:\n",
    "    symbol = dic['symbol']\n",
    "    the_datetime = dic['datetime']\n",
    "    open_price = dic['open_price']\n",
    "    high_price = dic['high_price']\n",
    "    low_price = dic['low_price']\n",
    "    close_price = dic['close_price']\n",
    "    print(f'{symbol}\\t{the_datetime}\\t{open_price}\\t{high_price}\\t{low_price}\\t{close_price}')\n",
    "    break"
   ]
  },
  {
   "cell_type": "code",
   "execution_count": 8,
   "metadata": {
    "scrolled": false
   },
   "outputs": [
    {
     "name": "stdout",
     "output_type": "stream",
     "text": [
      "TA2005\tLOCAL\t2019-12-19 00:00:00\t4954.0\t4960.0\t4872.0\t4910.0\n",
      "TA2005\tLOCAL\t2019-12-18 00:00:00\t4968.0\t4980.0\t4932.0\t4952.0\n",
      "TA2005\tLOCAL\t2019-12-17 00:00:00\t4980.0\t4994.0\t4944.0\t4956.0\n",
      "TA2005\tLOCAL\t2019-12-16 00:00:00\t4924.0\t4986.0\t4900.0\t4978.0\n",
      "TA2005\tLOCAL\t2019-12-13 00:00:00\t4930.0\t4956.0\t4896.0\t4914.0\n",
      "TA2005\tRQ\t2019-12-12 00:00:00\t4850.0\t4948.0\t4850.0\t4926.0\n",
      "TA2005\tRQ\t2019-12-11 00:00:00\t4852.0\t4868.0\t4826.0\t4852.0\n",
      "TA2005\tRQ\t2019-12-10 00:00:00\t4890.0\t4924.0\t4830.0\t4850.0\n",
      "TA2005\tRQ\t2019-12-09 00:00:00\t4866.0\t4940.0\t4860.0\t4898.0\n",
      "TA2005\tRQ\t2019-12-06 00:00:00\t4880.0\t4886.0\t4844.0\t4868.0\n",
      "TA2005\tRQ\t2019-12-05 00:00:00\t4824.0\t4878.0\t4812.0\t4876.0\n",
      "TA2005\tRQ\t2019-12-04 00:00:00\t4786.0\t4838.0\t4776.0\t4816.0\n",
      "TA2005\tRQ\t2019-12-03 00:00:00\t4790.0\t4822.0\t4776.0\t4794.0\n",
      "TA2005\tRQ\t2019-12-02 00:00:00\t4828.0\t4828.0\t4776.0\t4782.0\n",
      "TA2005\tRQ\t2019-11-29 00:00:00\t4776.0\t4828.0\t4770.0\t4818.0\n",
      "TA2005\tRQ\t2019-11-28 00:00:00\t4800.0\t4818.0\t4754.0\t4776.0\n",
      "TA2005\tRQ\t2019-11-27 00:00:00\t4796.0\t4824.0\t4786.0\t4792.0\n",
      "TA2005\tRQ\t2019-11-26 00:00:00\t4810.0\t4824.0\t4768.0\t4788.0\n",
      "TA2005\tRQ\t2019-11-25 00:00:00\t4796.0\t4820.0\t4766.0\t4812.0\n",
      "TA2005\tRQ\t2019-11-22 00:00:00\t4806.0\t4832.0\t4784.0\t4790.0\n",
      "TA2005\tRQ\t2019-11-21 00:00:00\t4770.0\t4822.0\t4764.0\t4800.0\n",
      "TA2005\tRQ\t2019-11-20 00:00:00\t4786.0\t4788.0\t4748.0\t4762.0\n",
      "TA2005\tRQ\t2019-11-19 00:00:00\t4800.0\t4810.0\t4760.0\t4788.0\n",
      "TA2005\tRQ\t2019-11-18 00:00:00\t4748.0\t4800.0\t4738.0\t4798.0\n",
      "TA2005\tRQ\t2019-11-15 00:00:00\t4780.0\t4806.0\t4734.0\t4740.0\n",
      "TA2005\tRQ\t2019-11-14 00:00:00\t4754.0\t4800.0\t4744.0\t4778.0\n"
     ]
    }
   ],
   "source": [
    "client = MongoClient('localhost', 27017)\n",
    "db = client[DAILY_DB_NAME]\n",
    "collection = db['TA2005']\n",
    "cursor = collection.find({}).sort('datetime', DESCENDING)\n",
    "count = 0\n",
    "for dic in cursor:\n",
    "    symbol = dic['symbol']\n",
    "    exchange = dic['exchange']\n",
    "    the_datetime = dic['datetime']\n",
    "    open_price = dic['open_price']\n",
    "    high_price = dic['high_price']\n",
    "    low_price = dic['low_price']\n",
    "    close_price = dic['close_price']\n",
    "    print(f'{symbol}\\t{exchange}\\t{the_datetime}\\t{open_price}\\t{high_price}\\t{low_price}\\t{close_price}')\n",
    "    count += 1\n",
    "    if count == 26:\n",
    "        break"
   ]
  },
  {
   "cell_type": "code",
   "execution_count": null,
   "metadata": {},
   "outputs": [],
   "source": []
  }
 ],
 "metadata": {
  "kernelspec": {
   "display_name": "Python 3",
   "language": "python",
   "name": "python3"
  },
  "language_info": {
   "codemirror_mode": {
    "name": "ipython",
    "version": 3
   },
   "file_extension": ".py",
   "mimetype": "text/x-python",
   "name": "python",
   "nbconvert_exporter": "python",
   "pygments_lexer": "ipython3",
   "version": "3.7.3"
  }
 },
 "nbformat": 4,
 "nbformat_minor": 1
}
