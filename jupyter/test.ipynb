{
 "cells": [
  {
   "cell_type": "code",
   "execution_count": 1,
   "metadata": {
    "collapsed": false
   },
   "outputs": [],
   "source": [
    "import numpy as np\n",
    "import talib"
   ]
  },
  {
   "cell_type": "code",
   "execution_count": 69,
   "metadata": {
    "collapsed": false
   },
   "outputs": [
    {
     "name": "stdout",
     "output_type": "stream",
     "text": [
      "[nan nan nan nan nan 7.8]\n",
      "3645.8\n",
      "3630.2\n",
      "\n",
      "\n",
      "3653.6\n",
      "3622.4\n"
     ]
    }
   ],
   "source": [
    "size = 10\n",
    "high = np.array([3641.0, 3642.0, 3650.0, 3647.0, 3651.0, 3651.0])\n",
    "low = np.array([3630.0, 3638.0, 3640.0, 3643.0, 3644.0, 3637.0])\n",
    "close = np.array([3639.0, 3641.0, 3644.0, 3644.0, 3649.0, 3638.0])\n",
    "result = talib.ATR(high, low, close, 5)\n",
    "up = close[-1] + result[-1]\n",
    "down = close[-1] - result[-1]\n",
    "\n",
    "uup = close[-1] + 2*result[-1]\n",
    "ddown = close[-1] - 2*result[-1]\n",
    "print result\n",
    "print up\n",
    "print down\n",
    "print '\\n'\n",
    "print uup\n",
    "print ddown"
   ]
  },
  {
   "cell_type": "code",
   "execution_count": 71,
   "metadata": {
    "collapsed": false
   },
   "outputs": [
    {
     "data": {
      "text/plain": [
       "array([  nan,   nan,   nan,   nan,   nan, 3651.])"
      ]
     },
     "execution_count": 71,
     "metadata": {},
     "output_type": "execute_result"
    }
   ],
   "source": [
    "from pymongo import MongoClient\n",
    "from datetime import datetime\n",
    "client = MongoClient()\n",
    "db = mc['VnTrader_Daily_Db']\n",
    "\n",
    "flt = {'datetime':{'$gte':datetime(2013, 8, 8),\n",
    "                   '$lte':datetime(2013, 8, 8)}} \n",
    "collection = db['OI99']\n",
    "cursor = collection.find(flt).sort('datetime')\n",
    "for d in cursor:\n",
    "    print '%s\\t%s' % (d['datetime'], d['vtSymbol'])"
   ]
  },
  {
   "cell_type": "code",
   "execution_count": 30,
   "metadata": {
    "collapsed": false
   },
   "outputs": [
    {
     "name": "stdout",
     "output_type": "stream",
     "text": [
      "2\n"
     ]
    }
   ],
   "source": [
    "from collections import OrderedDict, defaultdict\n",
    "a = defaultdict(int)\n",
    "a['a'] += 2\n",
    "print a['a']"
   ]
  },
  {
   "cell_type": "code",
   "execution_count": null,
   "metadata": {
    "collapsed": true
   },
   "outputs": [],
   "source": []
  }
 ],
 "metadata": {
  "kernelspec": {
   "display_name": "Python 2",
   "language": "python",
   "name": "python2"
  },
  "language_info": {
   "codemirror_mode": {
    "name": "ipython",
    "version": 2
   },
   "file_extension": ".py",
   "mimetype": "text/x-python",
   "name": "python",
   "nbconvert_exporter": "python",
   "pygments_lexer": "ipython2",
   "version": "2.7.13"
  }
 },
 "nbformat": 4,
 "nbformat_minor": 0
}
