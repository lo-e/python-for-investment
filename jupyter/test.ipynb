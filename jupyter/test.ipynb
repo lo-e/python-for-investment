{
 "cells": [
  {
   "cell_type": "code",
   "execution_count": 1,
   "metadata": {},
   "outputs": [],
   "source": [
    "import re\n",
    "from vnpy.trader.constant import Exchange\n",
    "from vnpy.app.cta_strategy.base import EXCHANGE_SYMBOL_DICT\n",
    "from datetime import datetime, timedelta"
   ]
  },
  {
   "cell_type": "code",
   "execution_count": 36,
   "metadata": {},
   "outputs": [
    {
     "name": "stdout",
     "output_type": "stream",
     "text": [
      "2000\n"
     ]
    }
   ],
   "source": [
    "fromDate = datetime.strptime('2012-6-10', '%Y-%m-%d')\n",
    "toDate = datetime.strptime('2017-12-01', '%Y-%m-%d')\n",
    "\n",
    "count = 0\n",
    "while fromDate.date() != toDate.date():\n",
    "    count += 1\n",
    "    fromDate = fromDate + timedelta(1)\n",
    "\n",
    "print(count)"
   ]
  },
  {
   "cell_type": "code",
   "execution_count": 16,
   "metadata": {},
   "outputs": [
    {
     "name": "stdout",
     "output_type": "stream",
     "text": [
      "1563864223\n"
     ]
    }
   ],
   "source": [
    "# 当前时间戳\n",
    "import time\n",
    "a = int(time.time())\n",
    "print(a)"
   ]
  },
  {
   "cell_type": "code",
   "execution_count": 59,
   "metadata": {},
   "outputs": [
    {
     "name": "stdout",
     "output_type": "stream",
     "text": [
      "2017-12-01 22:00:00\n"
     ]
    }
   ],
   "source": [
    "# 时间戳转时间\n",
    "timeStamp = 1512136800\n",
    "date = datetime.fromtimestamp(timeStamp)\n",
    "print(date)"
   ]
  },
  {
   "cell_type": "code",
   "execution_count": 23,
   "metadata": {},
   "outputs": [
    {
     "name": "stdout",
     "output_type": "stream",
     "text": [
      "1563580800.0\n"
     ]
    }
   ],
   "source": [
    "# 时间转时间戳\n",
    "a = '2019-07-20 08:00:00'\n",
    "b = datetime.strptime(a, '%Y-%m-%d %H:%M:%S')\n",
    "print(b.timestamp())"
   ]
  },
  {
   "cell_type": "code",
   "execution_count": 3,
   "metadata": {},
   "outputs": [
    {
     "name": "stdout",
     "output_type": "stream",
     "text": [
      "dict_keys(['decoin', 'Binance', 'Bitstamp', 'BitTrex', 'OKCoin', 'BTER', 'Kraken', 'Cexio', 'Yacuna', 'Coinbase', 'LocalBitcoins', 'itBit', 'HitBTC', 'BTC38', 'Coinfloor', 'BTCExchange', 'hbus', 'LakeBTC', 'Bit2C', 'CCEX', 'Gatecoin', 'Yunbi', 'WavesDEX', 'CCEDK', 'Cryptopia', 'Exmo', 'Yobit', 'BitBay', 'Korbit', 'BTCMarkets', 'Coincheck', 'QuadrigaCX', 'BitSquare', 'Vaultoro', 'MercadoBitcoin', 'Unocoin', 'Bitso', 'BTCXIndia', 'Paymium', 'TheRockTrading', 'bitFlyer', 'Quoine', 'Liqui', 'Luno', 'CryptoX', 'EtherDelta', 'TuxExchange', 'CHBTC', 'bitFlyerFX', 'LiveCoin', 'Tidex', 'CoinCorner', 'BitMarket', 'Coinone', 'Bleutrade', 'EthexIndia', 'Surbitcoin', 'Bithumb', 'Foxbit', 'Zaif', 'Jubi', 'ViaBTC', 'Novaexchange', 'Lykke', 'Remitano', 'Coinroom', 'Abucoins', 'BXinth', 'HuobiPro', 'OKEX', 'Gateio', 'TrustDEX', 'EXX', 'Kucoin', 'BitGrail', 'BitZ', 'BitFlip', 'TradeSatoshi', 'Coincap', 'ChileBit', 'VBTC', 'Velox', 'Graviex', 'ExtStock', 'BitBank', 'CoinDeal', 'AidosMarket', 'TokenStore', 'Ethfinex', 'DSX', 'Coinnest', 'IDEX', 'Bitlish', 'CoinEx', 'Buda', 'CoinsBank', 'Braziliex', 'Upbit', 'Neraex', 'BTCTurk', 'BitMart', 'Bibox', 'DDEX', 'ZB', 'LBank', 'SingularityX', 'Simex', 'Nebula', 'Bluebelt', 'RightBTC', 'WorldCryptoCap', 'ABCC', 'OpenLedger', 'WEX', 'BitexBook', 'CryptoCarbon', 'BigONE', 'CoinBene', 'FCoin', 'Kuna', 'Tokenomy', 'IDAX', 'CoinHub', 'Nexchange', 'Hikenex', 'Qryptos', 'BTCBOX', 'HADAX', 'CryptoBulls', 'IndependentReserve', 'Bitmex', 'Codex', 'DEx', 'Ironex', 'Zecoex', 'Nlexch', 'Globitex', 'Ore', 'Bitinfi', 'CoinJar', 'TDAX', 'CoinFalcon', 'ACX', 'Bitsane', 'BTCAlpha', 'FCCE', 'InstantBitex', 'Gneiss', 'Cryptonit', 'CoinPulse', 'bkex', 'Bitforex', 'Liqnet', 'BCEX', 'Liquid', 'Minebit', 'IQFinex', 'P2PB2B', 'StocksExchange', 'iCoinbay', 'CoinTiger', 'Threexbit', 'cobinhood', 'Switcheo', 'Bitkub', 'Everbloom', 'EXRATES', 'Coinsbit', 'NDAX', 'DigiFinex', 'Bitshares', 'Coinmate', 'Incorex', 'Ethermium', 'Nuex', 'Blackturtle', 'Catex', 'Exenium', 'StocksExchangeio', 'ZBG', 'SafeCoin', 'XS2', 'bw', 'CryptoExchangeWS', 'smartrade', 'alphaex', 'Bitpoint', 'bitspark', 'Binanceje', 'Poloniex', 'Bgogo', 'xena', 'chainrift', 'trxmarket', 'aliexchange', 'fatbtc', 'bitmax', 'coss', 'huobijapan', 'huobikorea', 'eidoo', 'idevex', 'crex24', 'gopax', 'coinfield', 'coinzest', 'bingcoins', 'coinall', 'bitci', 'primexbt', 'oex', 'ataix', 'raidofinance', 'zloadr', 'thore', 'darbfinance', 'binanceus', 'bitflyerus', 'bitflyereu', 'exscudo', 'xcoex', 'CBX', 'biki', 'unnamed', 'coineal', 'dcoin', 'seedcx', '55com', 'chainx', 'coinegg', 'bitasset', 'chaoex', 'bhex', 'tchapp', 'sistemkoin', 'tokok', 'bilaxy', 'Bitfinex', 'Gemini'])\n"
     ]
    }
   ],
   "source": [
    "import requests\n",
    "URL_EXCHANGES = 'https://www.cryptocompare.com/api/data/exchanges'\n",
    "response = requests.get(URL_EXCHANGES).json()\n",
    "data = response['Data']\n",
    "print(data.keys())"
   ]
  },
  {
   "cell_type": "code",
   "execution_count": 10,
   "metadata": {
    "scrolled": true
   },
   "outputs": [],
   "source": [
    "from pymongo import MongoClient, ASCENDING, DESCENDING\n",
    "from vnpy.app.cta_strategy.base import TICK_DB_NAME, MINUTE_DB_NAME, DAILY_DB_NAME, MinuteDataBaseName, HourDataBaseName\n",
    "from datetime import datetime\n",
    "from vnpy.trader.object import BarData, TickData"
   ]
  },
  {
   "cell_type": "code",
   "execution_count": 73,
   "metadata": {},
   "outputs": [
    {
     "name": "stdout",
     "output_type": "stream",
     "text": [
      "vt_symbol:BTCUSD.BYBIT\t2020-03-25 07:52:46.091000\tBTCUSD\t6754.5\n",
      "vt_symbol:ETHUSD.BYBIT\t2020-03-25 08:01:59.786000\tETHUSD\t137.85\n",
      "vt_symbol:EOSUSD.BYBIT\t2020-03-25 08:01:59.204000\tEOSUSD\t2.336\n"
     ]
    }
   ],
   "source": [
    "# ====== Tick ======\n",
    "client = MongoClient('localhost', 27017, serverSelectionTimeoutMS = 600)       # Mongo连接\n",
    "client.server_info()\n",
    "dbTick = client[TICK_DB_NAME]\n",
    "symbol_list = ['BTCUSD', 'ETHUSD', 'EOSUSD']\n",
    "for symbol in symbol_list:\n",
    "    cl = dbTick[symbol]\n",
    "    cl.create_index('datetime')         # 添加索引\n",
    "    start = datetime.strptime('2019-11-18 07:59:50', '%Y-%m-%d %H:%M:%S')\n",
    "    end = datetime.strptime('2019-11-19 08:00:10', '%Y-%m-%d %H:%M:%S')\n",
    "    flt = {'datetime': {'$gte':start,\n",
    "                        '$lte':end}}\n",
    "    cursor = cl.find({}).sort('datetime', DESCENDING)\n",
    "    count = 0\n",
    "    for dic in cursor:\n",
    "        tick = TickData(gateway_name='', symbol='', exchange=None, datetime=None)\n",
    "        tick.__dict__ = dic\n",
    "        print(f'vt_symbol:{tick.vt_symbol}\\t{tick.datetime}\\t{tick.symbol}\\t{tick.last_price}')\n",
    "        count += 1\n",
    "        if count >= 1:\n",
    "            break"
   ]
  },
  {
   "cell_type": "code",
   "execution_count": 37,
   "metadata": {},
   "outputs": [
    {
     "name": "stdout",
     "output_type": "stream",
     "text": [
      "2020-04-08 15:00:00 15675.0\n",
      "2020-04-08 14:59:00 15680.0\n",
      "2020-04-08 14:58:00 15685.0\n",
      "2020-04-08 14:57:00 15690.0\n",
      "2020-04-08 14:56:00 15690.0\n",
      "2020-04-08 14:55:00 15690.0\n"
     ]
    }
   ],
   "source": [
    "# ====== Minute ======\n",
    "client = MongoClient('localhost', 27017)\n",
    "db = client[MINUTE_DB_NAME]\n",
    "#collection = db['BTCUSD.BYBIT']\n",
    "collection = db['ZN2006']\n",
    "start = datetime.strptime('2020-3-24 00:00:00', '%Y-%m-%d %H:%M:%S')\n",
    "end = datetime.strptime('2020-3-25 00:00:00', '%Y-%m-%d %H:%M:%S')\n",
    "flt = {'datetime': {'$gte':start,\n",
    "                    '$lte':end}}\n",
    "cursor = collection.find().sort('datetime', DESCENDING)\n",
    "count = 0\n",
    "for dic in cursor:\n",
    "    print(dic['datetime'], dic['open_price'])\n",
    "    count += 1\n",
    "    if count >= 6:\n",
    "        break"
   ]
  },
  {
   "cell_type": "code",
   "execution_count": 19,
   "metadata": {},
   "outputs": [
    {
     "name": "stdout",
     "output_type": "stream",
     "text": [
      "BTCUSD.BYBIT\t2020-05-12 08:00:00\t8567.5\t8983.0\t8537.0\t8818.5\n",
      "BTCUSD.BYBIT\t2020-05-11 08:00:00\t8724.5\t9170.0\t8165.0\t8567.5\n",
      "BTCUSD.BYBIT\t2020-05-10 08:00:00\t9550.5\t9585.0\t8088.0\t8724.5\n",
      "BTCUSD.BYBIT\t2020-05-09 08:00:00\t9813.0\t9919.5\t9532.0\t9550.5\n",
      "BTCUSD.BYBIT\t2020-05-08 08:00:00\t10010.0\t10057.0\t9718.0\t9813.0\n",
      "BTCUSD.BYBIT\t2020-05-07 08:00:00\t9151.0\t10098.5\t9025.5\t10010.0\n",
      "BTCUSD.BYBIT\t2020-05-06 08:00:00\t9021.5\t9416.5\t8916.0\t9151.0\n",
      "BTCUSD.BYBIT\t2020-05-05 08:00:00\t8883.0\t9120.0\t8764.0\t9021.5\n",
      "BTCUSD.BYBIT\t2020-05-04 08:00:00\t8905.0\t8972.0\t8529.0\t8883.0\n",
      "BTCUSD.BYBIT\t2020-05-03 08:00:00\t8982.0\t9205.5\t8728.0\t8905.0\n",
      "BTCUSD.BYBIT\t2020-05-02 08:00:00\t8831.5\t9022.0\t8756.5\t8982.0\n",
      "BTCUSD.BYBIT\t2020-05-01 08:00:00\t8628.5\t9073.0\t8623.0\t8831.5\n",
      "BTCUSD.BYBIT\t2020-04-30 08:00:00\t8789.0\t9482.5\t8409.0\t8628.5\n",
      "BTCUSD.BYBIT\t2020-04-29 08:00:00\t7749.5\t8974.0\t7718.5\t8789.0\n",
      "BTCUSD.BYBIT\t2020-04-28 08:00:00\t7786.5\t7796.5\t7663.5\t7749.5\n",
      "BTCUSD.BYBIT\t2020-04-27 08:00:00\t7703.0\t7813.0\t7629.0\t7786.5\n",
      "BTCUSD.BYBIT\t2020-04-26 08:00:00\t7539.0\t7717.0\t7459.0\t7703.0\n",
      "BTCUSD.BYBIT\t2020-04-25 08:00:00\t7509.0\t7722.5\t7429.5\t7539.0\n",
      "BTCUSD.BYBIT\t2020-04-24 08:00:00\t7493.0\t7613.0\t7388.0\t7509.0\n",
      "BTCUSD.BYBIT\t2020-04-23 08:00:00\t7134.0\t7801.0\t7033.0\t7493.0\n",
      "BTCUSD.BYBIT\t2020-04-22 08:00:00\t6848.5\t7167.0\t6821.5\t7134.0\n",
      "BTCUSD.BYBIT\t2020-04-21 08:00:00\t6833.0\t6948.5\t6773.0\t6848.5\n",
      "BTCUSD.BYBIT\t2020-04-20 08:00:00\t7126.0\t7224.0\t6755.0\t6833.0\n",
      "BTCUSD.BYBIT\t2020-04-19 08:00:00\t7254.0\t7269.5\t7056.5\t7126.0\n",
      "BTCUSD.BYBIT\t2020-04-18 08:00:00\t7027.5\t7301.0\t7022.5\t7254.0\n",
      "BTCUSD.BYBIT\t2020-04-17 08:00:00\t7110.5\t7152.0\t7001.5\t7027.5\n",
      "BTCUSD.BYBIT\t2020-04-16 08:00:00\t6620.5\t7223.5\t6464.5\t7110.5\n",
      "BTCUSD.BYBIT\t2020-04-15 08:00:00\t6873.0\t6935.0\t6609.5\t6620.5\n",
      "BTCUSD.BYBIT\t2020-04-14 08:00:00\t6858.0\t6986.5\t6764.5\t6873.0\n",
      "BTCUSD.BYBIT\t2020-04-13 08:00:00\t6906.0\t6914.0\t6551.0\t6858.0\n",
      "BTCUSD.BYBIT\t2020-04-12 08:00:00\t6882.0\t7194.0\t6784.0\t6906.0\n",
      "BTCUSD.BYBIT\t2020-04-11 08:00:00\t6868.5\t6953.5\t6767.0\t6882.0\n",
      "BTCUSD.BYBIT\t2020-04-10 08:00:00\t7293.0\t7307.0\t6843.5\t6868.5\n",
      "BTCUSD.BYBIT\t2020-04-09 08:00:00\t7365.5\t7372.0\t7108.0\t7293.0\n",
      "BTCUSD.BYBIT\t2020-04-08 08:00:00\t7195.0\t7432.0\t7150.5\t7365.5\n",
      "BTCUSD.BYBIT\t2020-04-07 08:00:00\t7339.0\t7475.0\t7080.0\t7195.0\n",
      "BTCUSD.BYBIT\t2020-04-06 08:00:00\t6775.5\t7375.0\t6767.5\t7339.0\n",
      "BTCUSD.BYBIT\t2020-04-05 08:00:00\t6871.0\t6911.0\t6661.0\t6775.5\n",
      "BTCUSD.BYBIT\t2020-04-04 08:00:00\t6738.5\t7020.5\t6642.0\t6871.0\n",
      "BTCUSD.BYBIT\t2020-04-03 08:00:00\t6799.0\t7060.0\t6610.0\t6738.5\n",
      "BTCUSD.BYBIT\t2020-04-02 08:00:00\t6670.5\t7273.5\t6571.5\t6799.0\n",
      "BTCUSD.BYBIT\t2020-04-01 08:00:00\t6424.0\t6718.5\t6155.0\t6670.5\n",
      "BTCUSD.BYBIT\t2020-03-31 08:00:00\t6400.0\t6530.0\t6325.0\t6424.0\n",
      "BTCUSD.BYBIT\t2020-03-30 08:00:00\t5867.5\t6634.0\t5843.0\t6400.0\n",
      "BTCUSD.BYBIT\t2020-03-29 08:00:00\t6247.5\t6273.5\t5862.5\t5867.5\n",
      "BTCUSD.BYBIT\t2020-03-28 08:00:00\t6361.5\t6362.0\t6025.0\t6247.5\n",
      "BTCUSD.BYBIT\t2020-03-27 08:00:00\t6760.0\t6876.0\t6259.5\t6361.5\n",
      "BTCUSD.BYBIT\t2020-03-26 08:00:00\t6686.5\t6795.0\t6506.0\t6760.0\n",
      "BTCUSD.BYBIT\t2020-03-25 08:00:00\t6763.0\t6981.5\t6456.5\t6686.5\n",
      "BTCUSD.BYBIT\t2020-03-24 08:00:00\t6494.5\t6869.5\t6400.0\t6763.0\n",
      "BTCUSD.BYBIT\t2020-03-23 08:00:00\t5815.0\t6644.5\t5677.0\t6494.5\n",
      "BTCUSD.BYBIT\t2020-03-22 08:00:00\t6190.5\t6420.0\t5735.0\t5815.0\n",
      "BTCUSD.BYBIT\t2020-03-21 08:00:00\t6206.5\t6447.0\t5864.0\t6190.5\n",
      "BTCUSD.BYBIT\t2020-03-20 08:00:00\t6183.0\t6938.0\t5652.5\t6206.5\n",
      "BTCUSD.BYBIT\t2020-03-19 08:00:00\t5410.0\t6440.0\t5259.0\t6183.0\n",
      "BTCUSD.BYBIT\t2020-03-18 08:00:00\t5328.5\t5441.5\t5010.0\t5410.0\n",
      "BTCUSD.BYBIT\t2020-03-17 08:00:00\t5038.5\t5565.0\t4931.0\t5328.5\n",
      "BTCUSD.BYBIT\t2020-03-16 08:00:00\t5344.5\t5344.5\t4398.0\t5038.5\n",
      "BTCUSD.BYBIT\t2020-03-15 08:00:00\t5168.0\t5964.5\t5086.0\t5344.5\n",
      "BTCUSD.BYBIT\t2020-03-14 08:00:00\t5591.0\t5662.5\t5046.5\t5168.0\n",
      "BTCUSD.BYBIT\t2020-03-13 08:00:00\t4585.0\t5898.5\t3730.0\t5591.0\n"
     ]
    }
   ],
   "source": [
    "# ====== Daily ======\n",
    "client = MongoClient('localhost', 27017)\n",
    "db = client[DAILY_DB_NAME]\n",
    "symbol_list = ['BTCUSD.BYBIT', 'ETHUSD.BYBIT', 'EOSUSD.BYBIT']\n",
    "#symbol_list = ['BTC.USDT.OKEX', 'ETH.USDT.OKEX', 'EOS.USDT.OKEX']\n",
    "#symbol_list = ['OKEX/BTC.USDT', 'OKEX/ETH.USDT', 'OKEX/EOS.USDT']\n",
    "#symbol_list = ['Poloniex/BTC.USDT', 'Poloniex/ETH.USDT', 'Poloniex/EOS.USDT']\n",
    "symbol_list = ['BTCUSD.BYBIT']\n",
    "for symbol in symbol_list:\n",
    "    collection = db[symbol]\n",
    "    start = datetime.strptime('2019-11-27 00:00:00', '%Y-%m-%d %H:%M:%S')\n",
    "    end = datetime.strptime('2019-11-27 00:06:00', '%Y-%m-%d %H:%M:%S')\n",
    "    flt = {'datetime': {'$gte':start,\n",
    "                        '$lte':end}}\n",
    "    cursor = collection.find({}).sort('datetime', DESCENDING)\n",
    "    count = 0\n",
    "    for dic in cursor:\n",
    "        symbol = dic['symbol']\n",
    "        the_datetime = dic['datetime']\n",
    "        open_price = dic['open_price']\n",
    "        high_price = dic['high_price']\n",
    "        low_price = dic['low_price']\n",
    "        close_price = dic['close_price']\n",
    "        print(f'{symbol}\\t{the_datetime}\\t{open_price}\\t{high_price}\\t{low_price}\\t{close_price}')\n",
    "        count += 1\n",
    "        if count > 60:\n",
    "            break"
   ]
  },
  {
   "cell_type": "code",
   "execution_count": 5,
   "metadata": {
    "scrolled": false
   },
   "outputs": [
    {
     "name": "stdout",
     "output_type": "stream",
     "text": [
      "BTCUSD.BYBIT\tNone\t2019-12-24 08:00:00\t7310.0\t7429.0\t7155.5\t7254.0\n",
      "\n",
      "\n"
     ]
    }
   ],
   "source": [
    "symbol_list = ['RB2005', 'HC2005', 'SM2005', 'J2005', 'ZC2005', 'TA2005',\n",
    "              'RB99', 'HC99', 'SM99', 'J99', 'ZC99', 'TA99']\n",
    "symbol_list = ['BTCUSD.BYBIT']\n",
    "client = MongoClient('localhost', 27017)\n",
    "db = client[DAILY_DB_NAME]\n",
    "for symbol in symbol_list:\n",
    "    collection = db[symbol]\n",
    "    cursor = collection.find({}).sort('datetime', DESCENDING)\n",
    "    count = 0\n",
    "    for dic in cursor:\n",
    "        count += 1\n",
    "        if count == 1:\n",
    "            symbol = dic['symbol']\n",
    "            exchange = dic['exchange']\n",
    "            the_datetime = dic['datetime']\n",
    "            open_price = dic['open_price']\n",
    "            high_price = dic['high_price']\n",
    "            low_price = dic['low_price']\n",
    "            close_price = dic['close_price']\n",
    "            print(f'{symbol}\\t{exchange}\\t{the_datetime}\\t{open_price}\\t{high_price}\\t{low_price}\\t{close_price}')\n",
    "            break\n",
    "        \n",
    "    print('\\n')"
   ]
  },
  {
   "cell_type": "code",
   "execution_count": 59,
   "metadata": {},
   "outputs": [
    {
     "ename": "IndentationError",
     "evalue": "expected an indented block (<ipython-input-59-025e50492adc>, line 18)",
     "output_type": "error",
     "traceback": [
      "\u001b[1;36m  File \u001b[1;32m\"<ipython-input-59-025e50492adc>\"\u001b[1;36m, line \u001b[1;32m18\u001b[0m\n\u001b[1;33m    count += 1\u001b[0m\n\u001b[1;37m        ^\u001b[0m\n\u001b[1;31mIndentationError\u001b[0m\u001b[1;31m:\u001b[0m expected an indented block\n"
     ]
    }
   ],
   "source": [
    "# ====== 检查Tick质量 ======\n",
    "client = MongoClient('localhost', 27017, serverSelectionTimeoutMS = 600)       # Mongo连接\n",
    "client.server_info()\n",
    "dbTick = client[TICK_DB_NAME]\n",
    "cl = dbTick['BTCUSD']\n",
    "cl.create_index('datetime')         # 添加索引\n",
    "start = datetime.strptime('2019-12-20 07:59:50', '%Y-%m-%d %H:%M:%S')\n",
    "end = datetime.strptime('2019-12-30 08:00:10', '%Y-%m-%d %H:%M:%S')\n",
    "flt = {'datetime': {'$gte':start,\n",
    "                    '$lte':end}}\n",
    "cursor = cl.find(flt).sort('datetime')\n",
    "count = 0\n",
    "for dic in cursor:\n",
    "    tick = TickData(gateway_name='', symbol='', exchange=None, datetime=None)\n",
    "    tick.__dict__ = dic\n",
    "    if tick.last_price == 0:\n",
    "        print(f'vt_symbol:{tick.vt_symbol}\\t{tick.datetime}\\t{tick.symbol}\\t{tick.last_price}\\t{tick.ask_price_1}\\t{tick.bid_price_1}')\n",
    "    count += 1\n",
    "print(count)"
   ]
  },
  {
   "cell_type": "code",
   "execution_count": 4,
   "metadata": {},
   "outputs": [
    {
     "name": "stdout",
     "output_type": "stream",
     "text": [
      "黄金时代 辉煌\t黄金时代 盛世\n"
     ]
    }
   ],
   "source": [
    "key = '黄金时代'\n",
    "msg = f\"{key} 辉煌\"\n",
    "msg += f\"\\t{key} 盛世\"\n",
    "print(msg)"
   ]
  },
  {
   "cell_type": "code",
   "execution_count": 9,
   "metadata": {},
   "outputs": [
    {
     "name": "stdout",
     "output_type": "stream",
     "text": [
      "[[1, 2], [3, 4], [5, 6]]\n",
      "[[1, 2], [3, 4], [5, 6]]\n",
      "[[1, 2], [3, 4], [5, 6], [1, 2], [3, 4], [5, 6]]\n",
      "[[1, 2], [3, 4], [5, 6], [1, 2], [3, 4], [5, 6], [6, 6]]\n"
     ]
    }
   ],
   "source": [
    "from copy import copy\n",
    "a = [[1, 2], [3, 4], [5, 6]]\n",
    "b = [[1, 2], [3, 4], [5, 6]]\n",
    "c = copy(a)\n",
    "c += b\n",
    "print(a)\n",
    "print(b)\n",
    "print(c)\n",
    "temp = [6, 6]\n",
    "c.append(temp)\n",
    "print(c)"
   ]
  },
  {
   "cell_type": "code",
   "execution_count": 14,
   "metadata": {},
   "outputs": [
    {
     "name": "stdout",
     "output_type": "stream",
     "text": [
      "yes\n"
     ]
    }
   ],
   "source": [
    "a = None\n",
    "b = None\n",
    "if a == b:\n",
    "    print('yes')"
   ]
  },
  {
   "cell_type": "code",
   "execution_count": null,
   "metadata": {},
   "outputs": [],
   "source": []
  }
 ],
 "metadata": {
  "kernelspec": {
   "display_name": "Python 3",
   "language": "python",
   "name": "python3"
  },
  "language_info": {
   "codemirror_mode": {
    "name": "ipython",
    "version": 3
   },
   "file_extension": ".py",
   "mimetype": "text/x-python",
   "name": "python",
   "nbconvert_exporter": "python",
   "pygments_lexer": "ipython3",
   "version": "3.7.3"
  }
 },
 "nbformat": 4,
 "nbformat_minor": 1
}
