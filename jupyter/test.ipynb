{
 "cells": [
  {
   "cell_type": "code",
   "execution_count": null,
   "metadata": {
    "collapsed": false
   },
   "outputs": [],
   "source": [
    "'''\n",
    "talib\n",
    "'''"
   ]
  },
  {
   "cell_type": "code",
   "execution_count": null,
   "metadata": {
    "collapsed": true
   },
   "outputs": [],
   "source": [
    "import talib\n",
    "import numpy as np"
   ]
  },
  {
   "cell_type": "code",
   "execution_count": null,
   "metadata": {
    "collapsed": false
   },
   "outputs": [],
   "source": [
    "high = np.array([1.0, 2.0, 6.0, 1.0, 2.0, 3.0, 4.0, 5.0, 6.0])\n",
    "low = np.array([1.0, 2.0, 5.0, 6.0, 5.0, 4.0, 3.0, 2.0, 1.0])\n",
    "close = np.array([1.0, 2.0, 2.0, 1.0, 1.0, 1.0, 1.0, 1.0, 1.0])\n",
    "a = talib.ATR(high, low, close, 2)\n",
    "a"
   ]
  },
  {
   "cell_type": "code",
   "execution_count": null,
   "metadata": {
    "collapsed": false
   },
   "outputs": [],
   "source": [
    "close = np.array([1000.0, 2.0, 1.0, 6.0, 6.0, 1.0, 6.0, 1.0, 1.0, 1.0, 1.0])\n",
    "result = talib.RSI(close, 2)\n",
    "result"
   ]
  },
  {
   "cell_type": "code",
   "execution_count": null,
   "metadata": {
    "collapsed": true
   },
   "outputs": [],
   "source": [
    "'''\n",
    "tushare\n",
    "'''"
   ]
  },
  {
   "cell_type": "code",
   "execution_count": 1,
   "metadata": {
    "collapsed": false
   },
   "outputs": [],
   "source": [
    "import tushare as ts\n",
    "from datetime import datetime, timedelta"
   ]
  },
  {
   "cell_type": "code",
   "execution_count": null,
   "metadata": {
    "collapsed": false
   },
   "outputs": [],
   "source": [
    "df = ts.get_tick_data('rb1805', '2017-09-10')\n",
    "#df"
   ]
  },
  {
   "cell_type": "code",
   "execution_count": 2,
   "metadata": {
    "collapsed": false
   },
   "outputs": [],
   "source": [
    "cons = ts.get_apis()"
   ]
  },
  {
   "cell_type": "code",
   "execution_count": 3,
   "metadata": {
    "collapsed": false
   },
   "outputs": [
    {
     "data": {
      "text/html": [
       "<div>\n",
       "<table border=\"1\" class=\"dataframe\">\n",
       "  <thead>\n",
       "    <tr style=\"text-align: right;\">\n",
       "      <th></th>\n",
       "      <th>date</th>\n",
       "      <th>price</th>\n",
       "      <th>vol</th>\n",
       "      <th>oi_change</th>\n",
       "      <th>type</th>\n",
       "    </tr>\n",
       "  </thead>\n",
       "  <tbody>\n",
       "    <tr>\n",
       "      <th>0</th>\n",
       "      <td>2018-01-15 20:59:00</td>\n",
       "      <td>平仓</td>\n",
       "      <td>3786.0</td>\n",
       "      <td>4642</td>\n",
       "      <td>-110</td>\n",
       "    </tr>\n",
       "    <tr>\n",
       "      <th>1</th>\n",
       "      <td>2018-01-15 21:00:00</td>\n",
       "      <td>多平</td>\n",
       "      <td>3782.0</td>\n",
       "      <td>2372</td>\n",
       "      <td>-1070</td>\n",
       "    </tr>\n",
       "    <tr>\n",
       "      <th>2</th>\n",
       "      <td>2018-01-15 21:00:01</td>\n",
       "      <td>多平</td>\n",
       "      <td>3782.0</td>\n",
       "      <td>3432</td>\n",
       "      <td>-792</td>\n",
       "    </tr>\n",
       "    <tr>\n",
       "      <th>3</th>\n",
       "      <td>2018-01-15 21:00:01</td>\n",
       "      <td>空开</td>\n",
       "      <td>3782.0</td>\n",
       "      <td>948</td>\n",
       "      <td>164</td>\n",
       "    </tr>\n",
       "    <tr>\n",
       "      <th>4</th>\n",
       "      <td>2018-01-15 21:00:02</td>\n",
       "      <td>空平</td>\n",
       "      <td>3784.0</td>\n",
       "      <td>536</td>\n",
       "      <td>-64</td>\n",
       "    </tr>\n",
       "    <tr>\n",
       "      <th>5</th>\n",
       "      <td>2018-01-15 21:00:02</td>\n",
       "      <td>空开</td>\n",
       "      <td>3784.0</td>\n",
       "      <td>934</td>\n",
       "      <td>138</td>\n",
       "    </tr>\n",
       "    <tr>\n",
       "      <th>6</th>\n",
       "      <td>2018-01-15 21:00:03</td>\n",
       "      <td>空开</td>\n",
       "      <td>3784.0</td>\n",
       "      <td>400</td>\n",
       "      <td>250</td>\n",
       "    </tr>\n",
       "    <tr>\n",
       "      <th>7</th>\n",
       "      <td>2018-01-15 21:00:03</td>\n",
       "      <td>平仓</td>\n",
       "      <td>3783.0</td>\n",
       "      <td>1184</td>\n",
       "      <td>-364</td>\n",
       "    </tr>\n",
       "    <tr>\n",
       "      <th>8</th>\n",
       "      <td>2018-01-15 21:00:04</td>\n",
       "      <td>空平</td>\n",
       "      <td>3784.0</td>\n",
       "      <td>644</td>\n",
       "      <td>-236</td>\n",
       "    </tr>\n",
       "    <tr>\n",
       "      <th>9</th>\n",
       "      <td>2018-01-15 21:00:04</td>\n",
       "      <td>空开</td>\n",
       "      <td>3783.0</td>\n",
       "      <td>426</td>\n",
       "      <td>8</td>\n",
       "    </tr>\n",
       "    <tr>\n",
       "      <th>10</th>\n",
       "      <td>2018-01-15 21:00:05</td>\n",
       "      <td>空开</td>\n",
       "      <td>3782.0</td>\n",
       "      <td>442</td>\n",
       "      <td>196</td>\n",
       "    </tr>\n",
       "    <tr>\n",
       "      <th>11</th>\n",
       "      <td>2018-01-15 21:00:05</td>\n",
       "      <td>多开</td>\n",
       "      <td>3783.0</td>\n",
       "      <td>782</td>\n",
       "      <td>256</td>\n",
       "    </tr>\n",
       "    <tr>\n",
       "      <th>12</th>\n",
       "      <td>2018-01-15 21:00:06</td>\n",
       "      <td>多开</td>\n",
       "      <td>3783.0</td>\n",
       "      <td>520</td>\n",
       "      <td>156</td>\n",
       "    </tr>\n",
       "    <tr>\n",
       "      <th>13</th>\n",
       "      <td>2018-01-15 21:00:06</td>\n",
       "      <td>空开</td>\n",
       "      <td>3782.0</td>\n",
       "      <td>460</td>\n",
       "      <td>92</td>\n",
       "    </tr>\n",
       "    <tr>\n",
       "      <th>14</th>\n",
       "      <td>2018-01-15 21:00:07</td>\n",
       "      <td>多开</td>\n",
       "      <td>3782.0</td>\n",
       "      <td>464</td>\n",
       "      <td>30</td>\n",
       "    </tr>\n",
       "    <tr>\n",
       "      <th>15</th>\n",
       "      <td>2018-01-15 21:00:07</td>\n",
       "      <td>多开</td>\n",
       "      <td>3782.0</td>\n",
       "      <td>250</td>\n",
       "      <td>102</td>\n",
       "    </tr>\n",
       "    <tr>\n",
       "      <th>16</th>\n",
       "      <td>2018-01-15 21:00:08</td>\n",
       "      <td>多开</td>\n",
       "      <td>3783.0</td>\n",
       "      <td>358</td>\n",
       "      <td>186</td>\n",
       "    </tr>\n",
       "    <tr>\n",
       "      <th>17</th>\n",
       "      <td>2018-01-15 21:00:08</td>\n",
       "      <td>多平</td>\n",
       "      <td>3782.0</td>\n",
       "      <td>308</td>\n",
       "      <td>-32</td>\n",
       "    </tr>\n",
       "    <tr>\n",
       "      <th>18</th>\n",
       "      <td>2018-01-15 21:00:09</td>\n",
       "      <td>多平</td>\n",
       "      <td>3782.0</td>\n",
       "      <td>276</td>\n",
       "      <td>-168</td>\n",
       "    </tr>\n",
       "    <tr>\n",
       "      <th>19</th>\n",
       "      <td>2018-01-15 21:00:09</td>\n",
       "      <td>空开</td>\n",
       "      <td>3782.0</td>\n",
       "      <td>170</td>\n",
       "      <td>38</td>\n",
       "    </tr>\n",
       "    <tr>\n",
       "      <th>20</th>\n",
       "      <td>2018-01-15 21:00:10</td>\n",
       "      <td>多开</td>\n",
       "      <td>3783.0</td>\n",
       "      <td>222</td>\n",
       "      <td>36</td>\n",
       "    </tr>\n",
       "    <tr>\n",
       "      <th>21</th>\n",
       "      <td>2018-01-15 21:00:10</td>\n",
       "      <td>多平</td>\n",
       "      <td>3782.0</td>\n",
       "      <td>756</td>\n",
       "      <td>-50</td>\n",
       "    </tr>\n",
       "    <tr>\n",
       "      <th>22</th>\n",
       "      <td>2018-01-15 21:00:11</td>\n",
       "      <td>多开</td>\n",
       "      <td>3783.0</td>\n",
       "      <td>188</td>\n",
       "      <td>148</td>\n",
       "    </tr>\n",
       "    <tr>\n",
       "      <th>23</th>\n",
       "      <td>2018-01-15 21:00:11</td>\n",
       "      <td>多平</td>\n",
       "      <td>3783.0</td>\n",
       "      <td>122</td>\n",
       "      <td>-8</td>\n",
       "    </tr>\n",
       "    <tr>\n",
       "      <th>24</th>\n",
       "      <td>2018-01-15 21:00:12</td>\n",
       "      <td>多平</td>\n",
       "      <td>3783.0</td>\n",
       "      <td>270</td>\n",
       "      <td>-26</td>\n",
       "    </tr>\n",
       "    <tr>\n",
       "      <th>25</th>\n",
       "      <td>2018-01-15 21:00:12</td>\n",
       "      <td>多平</td>\n",
       "      <td>3783.0</td>\n",
       "      <td>178</td>\n",
       "      <td>-14</td>\n",
       "    </tr>\n",
       "    <tr>\n",
       "      <th>26</th>\n",
       "      <td>2018-01-15 21:00:13</td>\n",
       "      <td>多开</td>\n",
       "      <td>3784.0</td>\n",
       "      <td>198</td>\n",
       "      <td>50</td>\n",
       "    </tr>\n",
       "    <tr>\n",
       "      <th>27</th>\n",
       "      <td>2018-01-15 21:00:13</td>\n",
       "      <td>空平</td>\n",
       "      <td>3784.0</td>\n",
       "      <td>416</td>\n",
       "      <td>-10</td>\n",
       "    </tr>\n",
       "    <tr>\n",
       "      <th>28</th>\n",
       "      <td>2018-01-15 21:00:14</td>\n",
       "      <td>空平</td>\n",
       "      <td>3785.0</td>\n",
       "      <td>220</td>\n",
       "      <td>-18</td>\n",
       "    </tr>\n",
       "    <tr>\n",
       "      <th>29</th>\n",
       "      <td>2018-01-15 21:00:14</td>\n",
       "      <td>空开</td>\n",
       "      <td>3784.0</td>\n",
       "      <td>198</td>\n",
       "      <td>50</td>\n",
       "    </tr>\n",
       "    <tr>\n",
       "      <th>...</th>\n",
       "      <td>...</td>\n",
       "      <td>...</td>\n",
       "      <td>...</td>\n",
       "      <td>...</td>\n",
       "      <td>...</td>\n",
       "    </tr>\n",
       "    <tr>\n",
       "      <th>36242</th>\n",
       "      <td>2018-01-15 14:59:45</td>\n",
       "      <td>空平</td>\n",
       "      <td>3804.0</td>\n",
       "      <td>284</td>\n",
       "      <td>-162</td>\n",
       "    </tr>\n",
       "    <tr>\n",
       "      <th>36243</th>\n",
       "      <td>2018-01-15 14:59:46</td>\n",
       "      <td>空平</td>\n",
       "      <td>3803.0</td>\n",
       "      <td>250</td>\n",
       "      <td>-16</td>\n",
       "    </tr>\n",
       "    <tr>\n",
       "      <th>36244</th>\n",
       "      <td>2018-01-15 14:59:46</td>\n",
       "      <td>空平</td>\n",
       "      <td>3803.0</td>\n",
       "      <td>262</td>\n",
       "      <td>-78</td>\n",
       "    </tr>\n",
       "    <tr>\n",
       "      <th>36245</th>\n",
       "      <td>2018-01-15 14:59:47</td>\n",
       "      <td>多平</td>\n",
       "      <td>3803.0</td>\n",
       "      <td>68</td>\n",
       "      <td>-44</td>\n",
       "    </tr>\n",
       "    <tr>\n",
       "      <th>36246</th>\n",
       "      <td>2018-01-15 14:59:47</td>\n",
       "      <td>空平</td>\n",
       "      <td>3804.0</td>\n",
       "      <td>64</td>\n",
       "      <td>-54</td>\n",
       "    </tr>\n",
       "    <tr>\n",
       "      <th>36247</th>\n",
       "      <td>2018-01-15 14:59:48</td>\n",
       "      <td>空平</td>\n",
       "      <td>3804.0</td>\n",
       "      <td>134</td>\n",
       "      <td>-126</td>\n",
       "    </tr>\n",
       "    <tr>\n",
       "      <th>36248</th>\n",
       "      <td>2018-01-15 14:59:48</td>\n",
       "      <td>空平</td>\n",
       "      <td>3804.0</td>\n",
       "      <td>188</td>\n",
       "      <td>-84</td>\n",
       "    </tr>\n",
       "    <tr>\n",
       "      <th>36249</th>\n",
       "      <td>2018-01-15 14:59:49</td>\n",
       "      <td>双平</td>\n",
       "      <td>3803.0</td>\n",
       "      <td>70</td>\n",
       "      <td>-70</td>\n",
       "    </tr>\n",
       "    <tr>\n",
       "      <th>36250</th>\n",
       "      <td>2018-01-15 14:59:49</td>\n",
       "      <td>多平</td>\n",
       "      <td>3803.0</td>\n",
       "      <td>240</td>\n",
       "      <td>-108</td>\n",
       "    </tr>\n",
       "    <tr>\n",
       "      <th>36251</th>\n",
       "      <td>2018-01-15 14:59:50</td>\n",
       "      <td>空平</td>\n",
       "      <td>3804.0</td>\n",
       "      <td>68</td>\n",
       "      <td>-30</td>\n",
       "    </tr>\n",
       "    <tr>\n",
       "      <th>36252</th>\n",
       "      <td>2018-01-15 14:59:50</td>\n",
       "      <td>空平</td>\n",
       "      <td>3804.0</td>\n",
       "      <td>84</td>\n",
       "      <td>-32</td>\n",
       "    </tr>\n",
       "    <tr>\n",
       "      <th>36253</th>\n",
       "      <td>2018-01-15 14:59:51</td>\n",
       "      <td>多平</td>\n",
       "      <td>3803.0</td>\n",
       "      <td>634</td>\n",
       "      <td>-230</td>\n",
       "    </tr>\n",
       "    <tr>\n",
       "      <th>36254</th>\n",
       "      <td>2018-01-15 14:59:51</td>\n",
       "      <td>空平</td>\n",
       "      <td>3803.0</td>\n",
       "      <td>1102</td>\n",
       "      <td>-274</td>\n",
       "    </tr>\n",
       "    <tr>\n",
       "      <th>36255</th>\n",
       "      <td>2018-01-15 14:59:52</td>\n",
       "      <td>空开</td>\n",
       "      <td>3803.0</td>\n",
       "      <td>150</td>\n",
       "      <td>56</td>\n",
       "    </tr>\n",
       "    <tr>\n",
       "      <th>36256</th>\n",
       "      <td>2018-01-15 14:59:52</td>\n",
       "      <td>空换</td>\n",
       "      <td>3803.0</td>\n",
       "      <td>210</td>\n",
       "      <td>0</td>\n",
       "    </tr>\n",
       "    <tr>\n",
       "      <th>36257</th>\n",
       "      <td>2018-01-15 14:59:53</td>\n",
       "      <td>空平</td>\n",
       "      <td>3803.0</td>\n",
       "      <td>332</td>\n",
       "      <td>-116</td>\n",
       "    </tr>\n",
       "    <tr>\n",
       "      <th>36258</th>\n",
       "      <td>2018-01-15 14:59:53</td>\n",
       "      <td>多平</td>\n",
       "      <td>3803.0</td>\n",
       "      <td>76</td>\n",
       "      <td>-16</td>\n",
       "    </tr>\n",
       "    <tr>\n",
       "      <th>36259</th>\n",
       "      <td>2018-01-15 14:59:54</td>\n",
       "      <td>多平</td>\n",
       "      <td>3803.0</td>\n",
       "      <td>176</td>\n",
       "      <td>-16</td>\n",
       "    </tr>\n",
       "    <tr>\n",
       "      <th>36260</th>\n",
       "      <td>2018-01-15 14:59:54</td>\n",
       "      <td>空开</td>\n",
       "      <td>3802.0</td>\n",
       "      <td>216</td>\n",
       "      <td>12</td>\n",
       "    </tr>\n",
       "    <tr>\n",
       "      <th>36261</th>\n",
       "      <td>2018-01-15 14:59:55</td>\n",
       "      <td>空平</td>\n",
       "      <td>3803.0</td>\n",
       "      <td>282</td>\n",
       "      <td>-192</td>\n",
       "    </tr>\n",
       "    <tr>\n",
       "      <th>36262</th>\n",
       "      <td>2018-01-15 14:59:55</td>\n",
       "      <td>空平</td>\n",
       "      <td>3803.0</td>\n",
       "      <td>346</td>\n",
       "      <td>-102</td>\n",
       "    </tr>\n",
       "    <tr>\n",
       "      <th>36263</th>\n",
       "      <td>2018-01-15 14:59:56</td>\n",
       "      <td>空开</td>\n",
       "      <td>3803.0</td>\n",
       "      <td>378</td>\n",
       "      <td>10</td>\n",
       "    </tr>\n",
       "    <tr>\n",
       "      <th>36264</th>\n",
       "      <td>2018-01-15 14:59:56</td>\n",
       "      <td>多开</td>\n",
       "      <td>3803.0</td>\n",
       "      <td>334</td>\n",
       "      <td>122</td>\n",
       "    </tr>\n",
       "    <tr>\n",
       "      <th>36265</th>\n",
       "      <td>2018-01-15 14:59:57</td>\n",
       "      <td>多开</td>\n",
       "      <td>3803.0</td>\n",
       "      <td>382</td>\n",
       "      <td>200</td>\n",
       "    </tr>\n",
       "    <tr>\n",
       "      <th>36266</th>\n",
       "      <td>2018-01-15 14:59:57</td>\n",
       "      <td>空开</td>\n",
       "      <td>3802.0</td>\n",
       "      <td>274</td>\n",
       "      <td>10</td>\n",
       "    </tr>\n",
       "    <tr>\n",
       "      <th>36267</th>\n",
       "      <td>2018-01-15 14:59:58</td>\n",
       "      <td>空开</td>\n",
       "      <td>3802.0</td>\n",
       "      <td>222</td>\n",
       "      <td>166</td>\n",
       "    </tr>\n",
       "    <tr>\n",
       "      <th>36268</th>\n",
       "      <td>2018-01-15 14:59:58</td>\n",
       "      <td>空开</td>\n",
       "      <td>3802.0</td>\n",
       "      <td>224</td>\n",
       "      <td>48</td>\n",
       "    </tr>\n",
       "    <tr>\n",
       "      <th>36269</th>\n",
       "      <td>2018-01-15 14:59:59</td>\n",
       "      <td>多开</td>\n",
       "      <td>3803.0</td>\n",
       "      <td>172</td>\n",
       "      <td>24</td>\n",
       "    </tr>\n",
       "    <tr>\n",
       "      <th>36270</th>\n",
       "      <td>2018-01-15 14:59:59</td>\n",
       "      <td>多换</td>\n",
       "      <td>3803.0</td>\n",
       "      <td>110</td>\n",
       "      <td>0</td>\n",
       "    </tr>\n",
       "    <tr>\n",
       "      <th>36271</th>\n",
       "      <td>2018-01-15 15:00:00</td>\n",
       "      <td>多平</td>\n",
       "      <td>3802.0</td>\n",
       "      <td>192</td>\n",
       "      <td>-56</td>\n",
       "    </tr>\n",
       "  </tbody>\n",
       "</table>\n",
       "<p>36272 rows × 5 columns</p>\n",
       "</div>"
      ],
      "text/plain": [
       "                     date price     vol  oi_change  type\n",
       "0     2018-01-15 20:59:00    平仓  3786.0       4642  -110\n",
       "1     2018-01-15 21:00:00    多平  3782.0       2372 -1070\n",
       "2     2018-01-15 21:00:01    多平  3782.0       3432  -792\n",
       "3     2018-01-15 21:00:01    空开  3782.0        948   164\n",
       "4     2018-01-15 21:00:02    空平  3784.0        536   -64\n",
       "5     2018-01-15 21:00:02    空开  3784.0        934   138\n",
       "6     2018-01-15 21:00:03    空开  3784.0        400   250\n",
       "7     2018-01-15 21:00:03    平仓  3783.0       1184  -364\n",
       "8     2018-01-15 21:00:04    空平  3784.0        644  -236\n",
       "9     2018-01-15 21:00:04    空开  3783.0        426     8\n",
       "10    2018-01-15 21:00:05    空开  3782.0        442   196\n",
       "11    2018-01-15 21:00:05    多开  3783.0        782   256\n",
       "12    2018-01-15 21:00:06    多开  3783.0        520   156\n",
       "13    2018-01-15 21:00:06    空开  3782.0        460    92\n",
       "14    2018-01-15 21:00:07    多开  3782.0        464    30\n",
       "15    2018-01-15 21:00:07    多开  3782.0        250   102\n",
       "16    2018-01-15 21:00:08    多开  3783.0        358   186\n",
       "17    2018-01-15 21:00:08    多平  3782.0        308   -32\n",
       "18    2018-01-15 21:00:09    多平  3782.0        276  -168\n",
       "19    2018-01-15 21:00:09    空开  3782.0        170    38\n",
       "20    2018-01-15 21:00:10    多开  3783.0        222    36\n",
       "21    2018-01-15 21:00:10    多平  3782.0        756   -50\n",
       "22    2018-01-15 21:00:11    多开  3783.0        188   148\n",
       "23    2018-01-15 21:00:11    多平  3783.0        122    -8\n",
       "24    2018-01-15 21:00:12    多平  3783.0        270   -26\n",
       "25    2018-01-15 21:00:12    多平  3783.0        178   -14\n",
       "26    2018-01-15 21:00:13    多开  3784.0        198    50\n",
       "27    2018-01-15 21:00:13    空平  3784.0        416   -10\n",
       "28    2018-01-15 21:00:14    空平  3785.0        220   -18\n",
       "29    2018-01-15 21:00:14    空开  3784.0        198    50\n",
       "...                   ...   ...     ...        ...   ...\n",
       "36242 2018-01-15 14:59:45    空平  3804.0        284  -162\n",
       "36243 2018-01-15 14:59:46    空平  3803.0        250   -16\n",
       "36244 2018-01-15 14:59:46    空平  3803.0        262   -78\n",
       "36245 2018-01-15 14:59:47    多平  3803.0         68   -44\n",
       "36246 2018-01-15 14:59:47    空平  3804.0         64   -54\n",
       "36247 2018-01-15 14:59:48    空平  3804.0        134  -126\n",
       "36248 2018-01-15 14:59:48    空平  3804.0        188   -84\n",
       "36249 2018-01-15 14:59:49    双平  3803.0         70   -70\n",
       "36250 2018-01-15 14:59:49    多平  3803.0        240  -108\n",
       "36251 2018-01-15 14:59:50    空平  3804.0         68   -30\n",
       "36252 2018-01-15 14:59:50    空平  3804.0         84   -32\n",
       "36253 2018-01-15 14:59:51    多平  3803.0        634  -230\n",
       "36254 2018-01-15 14:59:51    空平  3803.0       1102  -274\n",
       "36255 2018-01-15 14:59:52    空开  3803.0        150    56\n",
       "36256 2018-01-15 14:59:52    空换  3803.0        210     0\n",
       "36257 2018-01-15 14:59:53    空平  3803.0        332  -116\n",
       "36258 2018-01-15 14:59:53    多平  3803.0         76   -16\n",
       "36259 2018-01-15 14:59:54    多平  3803.0        176   -16\n",
       "36260 2018-01-15 14:59:54    空开  3802.0        216    12\n",
       "36261 2018-01-15 14:59:55    空平  3803.0        282  -192\n",
       "36262 2018-01-15 14:59:55    空平  3803.0        346  -102\n",
       "36263 2018-01-15 14:59:56    空开  3803.0        378    10\n",
       "36264 2018-01-15 14:59:56    多开  3803.0        334   122\n",
       "36265 2018-01-15 14:59:57    多开  3803.0        382   200\n",
       "36266 2018-01-15 14:59:57    空开  3802.0        274    10\n",
       "36267 2018-01-15 14:59:58    空开  3802.0        222   166\n",
       "36268 2018-01-15 14:59:58    空开  3802.0        224    48\n",
       "36269 2018-01-15 14:59:59    多开  3803.0        172    24\n",
       "36270 2018-01-15 14:59:59    多换  3803.0        110     0\n",
       "36271 2018-01-15 15:00:00    多平  3802.0        192   -56\n",
       "\n",
       "[36272 rows x 5 columns]"
      ]
     },
     "execution_count": 3,
     "metadata": {},
     "output_type": "execute_result"
    }
   ],
   "source": [
    "df = ts.tick('rb1805', conn = cons, date = '2018-01-15', asset = 'X') \n",
    "#df = ts.tick('IF1801', conn = cons, date = '2017-06-22', asset = 'X') \n",
    "#df = ts.tick('600380', conn = cons, date = '2018-01-02')\n",
    "#df = ts.tick('rb1806', conn = cons, date = '2018-01-10', asset = 'X')\n",
    "df"
   ]
  },
  {
   "cell_type": "code",
   "execution_count": null,
   "metadata": {
    "collapsed": false
   },
   "outputs": [],
   "source": [
    "lastDt = None\n",
    "mSecond = 0\n",
    "for i, row in df.iterrows():\n",
    "    dt = row['date'].to_datetime()\n",
    "    if (not lastDt) or lastDt != dt:\n",
    "        mSecond = 0\n",
    "        lastDt = dt\n",
    "    else:\n",
    "        mSecond += 1\n",
    "    \n",
    "    #print mSecond\n",
    "    dt = dt.replace(microsecond = mSecond)\n",
    "        \n",
    "    print dt\n",
    "    print row['vol']\n",
    "    print '\\n'"
   ]
  },
  {
   "cell_type": "code",
   "execution_count": null,
   "metadata": {
    "collapsed": false,
    "scrolled": true
   },
   "outputs": [],
   "source": [
    "for i, row in df.iterrows():\n",
    "    print row['date'], '*'*2, row['vol']"
   ]
  },
  {
   "cell_type": "code",
   "execution_count": null,
   "metadata": {
    "collapsed": false
   },
   "outputs": [],
   "source": [
    "df = ts.bar('rb1805', conn = cons, freq = 'D', start_date = '2017-01-01', end_date = '', asset = 'X')"
   ]
  },
  {
   "cell_type": "code",
   "execution_count": null,
   "metadata": {
    "collapsed": false
   },
   "outputs": [],
   "source": [
    "df.sort_index(inplace = True)\n",
    "df"
   ]
  },
  {
   "cell_type": "code",
   "execution_count": null,
   "metadata": {
    "collapsed": false
   },
   "outputs": [],
   "source": [
    "a = df.ix[1]\n",
    "the = a['date']\n",
    "dt = the.to_datetime()\n",
    "print dt\n",
    "if dt.time() >= datetime.time(21, 0):\n",
    "    dt = dt - timedelta(1)\n",
    "\n",
    "print dt"
   ]
  },
  {
   "cell_type": "code",
   "execution_count": null,
   "metadata": {
    "collapsed": true
   },
   "outputs": [],
   "source": []
  },
  {
   "cell_type": "code",
   "execution_count": null,
   "metadata": {
    "collapsed": false
   },
   "outputs": [],
   "source": [
    "for index, row in df.iterrows():\n",
    "    print row['date'], ' '*2, row['vol']"
   ]
  },
  {
   "cell_type": "code",
   "execution_count": null,
   "metadata": {
    "collapsed": false
   },
   "outputs": [],
   "source": [
    "from datetime import datetime"
   ]
  },
  {
   "cell_type": "code",
   "execution_count": null,
   "metadata": {
    "collapsed": false
   },
   "outputs": [],
   "source": [
    "from collections import namedtuple\n",
    "abc = namedtuple('xyz', ['x', 'y'])\n",
    "the = abc(6,2)\n",
    "the.x"
   ]
  },
  {
   "cell_type": "code",
   "execution_count": null,
   "metadata": {
    "collapsed": false
   },
   "outputs": [],
   "source": [
    "import sys\n",
    "#sys.getdefaultencoding()\n",
    "#reload(sys)\n",
    "#sys.setdefaultencoding('UTF-8')\n",
    "a = sys.getdefaultencoding()\n",
    "type(a)"
   ]
  },
  {
   "cell_type": "code",
   "execution_count": null,
   "metadata": {
    "collapsed": false
   },
   "outputs": [],
   "source": [
    "if isinstance('a', str):\n",
    "    print 1\n",
    "else:\n",
    "    print 2"
   ]
  },
  {
   "cell_type": "code",
   "execution_count": null,
   "metadata": {
    "collapsed": false
   },
   "outputs": [],
   "source": [
    "import pymongo "
   ]
  },
  {
   "cell_type": "code",
   "execution_count": null,
   "metadata": {
    "collapsed": false
   },
   "outputs": [],
   "source": [
    "c = pymongo.MongoClient('localhot', 270)\n",
    "if c:\n",
    "    print c\n",
    "    \n",
    "else:\n",
    "    print 'no'"
   ]
  },
  {
   "cell_type": "code",
   "execution_count": null,
   "metadata": {
    "collapsed": true
   },
   "outputs": [],
   "source": [
    "'''\n",
    "datetime\n",
    "'''"
   ]
  },
  {
   "cell_type": "code",
   "execution_count": null,
   "metadata": {
    "collapsed": false
   },
   "outputs": [],
   "source": [
    "from datetime import datetime, time"
   ]
  },
  {
   "cell_type": "code",
   "execution_count": null,
   "metadata": {
    "collapsed": false
   },
   "outputs": [],
   "source": [
    "a = datetime.now().time()\n",
    "print type(a)"
   ]
  },
  {
   "cell_type": "code",
   "execution_count": null,
   "metadata": {
    "collapsed": false
   },
   "outputs": [],
   "source": [
    "a = False\n",
    "if not a:\n",
    "    print 'yes'"
   ]
  },
  {
   "cell_type": "code",
   "execution_count": null,
   "metadata": {
    "collapsed": true
   },
   "outputs": [],
   "source": [
    "'''\n",
    "json\n",
    "'''\n",
    "import json"
   ]
  },
  {
   "cell_type": "code",
   "execution_count": null,
   "metadata": {
    "collapsed": false
   },
   "outputs": [],
   "source": [
    "f1 = open(filePath)\n",
    "the = json.load(f1)\n",
    "for dic in the:\n",
    "    print dic['a']"
   ]
  },
  {
   "cell_type": "code",
   "execution_count": null,
   "metadata": {
    "collapsed": false
   },
   "outputs": [],
   "source": [
    "import os"
   ]
  },
  {
   "cell_type": "code",
   "execution_count": null,
   "metadata": {
    "collapsed": false
   },
   "outputs": [],
   "source": [
    "currentFolder = os.getcwd()\n",
    "print currentFolder\n",
    "newPath = os.path.join(currentFolder, '')"
   ]
  },
  {
   "cell_type": "code",
   "execution_count": null,
   "metadata": {
    "collapsed": false
   },
   "outputs": [],
   "source": [
    "d = datetime.now().strftime('Y-m-d')\n",
    "d"
   ]
  },
  {
   "cell_type": "code",
   "execution_count": null,
   "metadata": {
    "collapsed": true
   },
   "outputs": [],
   "source": [
    "'''\n",
    "pandas\n",
    "'''"
   ]
  },
  {
   "cell_type": "code",
   "execution_count": null,
   "metadata": {
    "collapsed": false
   },
   "outputs": [],
   "source": [
    "import pandas as pd\n",
    "from pandas import DataFrame\n",
    "from pandas import Series"
   ]
  },
  {
   "cell_type": "code",
   "execution_count": null,
   "metadata": {
    "collapsed": false
   },
   "outputs": [],
   "source": [
    "b = DataFrame()\n",
    "b['名称'] = []\n",
    "b['价格'] = []\n",
    "b['开盘价'] = []\n",
    "b.ix['2017-01-01'] = [1,2,3]\n",
    "b.ix['2017-01-02'] = [1,2,3]\n",
    "b.ix['2017-01-03'] = [1,2,3]\n",
    "b"
   ]
  },
  {
   "cell_type": "code",
   "execution_count": null,
   "metadata": {
    "collapsed": false
   },
   "outputs": [],
   "source": [
    "c = DataFrame()\n",
    "c['名称'] = []\n",
    "c['价格'] = []\n",
    "c['开盘价'] = []\n",
    "c.ix['2017-01-04'] = [1,2,3]\n",
    "c.ix['2017-01-05'] = [1,2,3]\n",
    "c.ix['2017-01-06'] = [1,2,3]\n",
    "c"
   ]
  },
  {
   "cell_type": "code",
   "execution_count": null,
   "metadata": {
    "collapsed": false
   },
   "outputs": [],
   "source": [
    "the = c.copy()\n",
    "for index in b.index:\n",
    "    if index not in c.index:\n",
    "        c.ix[index] = 0\n",
    "\n",
    "for index in the.index:\n",
    "    if index not in b.index:\n",
    "        b.ix[index] = 0\n",
    "\n",
    "print b\n",
    "print '\\n'\n",
    "print c"
   ]
  },
  {
   "cell_type": "code",
   "execution_count": null,
   "metadata": {
    "collapsed": false
   },
   "outputs": [],
   "source": [
    "d = b + c\n",
    "d = d.dropna()\n",
    "d"
   ]
  },
  {
   "cell_type": "code",
   "execution_count": null,
   "metadata": {
    "collapsed": true
   },
   "outputs": [],
   "source": [
    "fileName = 'abc.csv'"
   ]
  },
  {
   "cell_type": "code",
   "execution_count": null,
   "metadata": {
    "collapsed": true
   },
   "outputs": [],
   "source": [
    "b.to_csv(fileName, encoding = 'utf-8')"
   ]
  },
  {
   "cell_type": "code",
   "execution_count": null,
   "metadata": {
    "collapsed": false
   },
   "outputs": [],
   "source": [
    "c = pd.read_csv(fileName, encoding = 'utf-8')\n",
    "c"
   ]
  },
  {
   "cell_type": "code",
   "execution_count": null,
   "metadata": {
    "collapsed": true
   },
   "outputs": [],
   "source": [
    "'''\n",
    "csv\n",
    "'''"
   ]
  },
  {
   "cell_type": "code",
   "execution_count": null,
   "metadata": {
    "collapsed": true
   },
   "outputs": [],
   "source": [
    "import csv\n",
    "import codecs"
   ]
  },
  {
   "cell_type": "code",
   "execution_count": null,
   "metadata": {
    "collapsed": true
   },
   "outputs": [],
   "source": [
    "fileName = 'abc.csv'"
   ]
  },
  {
   "cell_type": "code",
   "execution_count": null,
   "metadata": {
    "collapsed": false
   },
   "outputs": [],
   "source": [
    "# 写\n",
    "f = file(fileName, 'wb')\n",
    "f.write(codecs.BOM_UTF8)\n",
    "\n",
    "fieldnames = [u'a', 'last_name']\n",
    "writer = csv.DictWriter(f, fieldnames=fieldnames)\n",
    "\n",
    "writer.writeheader()\n",
    "writer.writerow({'a': '和', 'last_name': '啊'})"
   ]
  },
  {
   "cell_type": "code",
   "execution_count": null,
   "metadata": {
    "collapsed": false
   },
   "outputs": [],
   "source": [
    "# 读\n",
    "with open(fileName) as f:\n",
    "    reader = csv.DictReader(f)\n",
    "    the = []\n",
    "    for row in reader:\n",
    "        the.append(row)\n",
    "    print the"
   ]
  },
  {
   "cell_type": "code",
   "execution_count": null,
   "metadata": {
    "collapsed": true
   },
   "outputs": [],
   "source": [
    "'''\n",
    "os\n",
    "'''"
   ]
  },
  {
   "cell_type": "code",
   "execution_count": null,
   "metadata": {
    "collapsed": true
   },
   "outputs": [],
   "source": [
    "import os"
   ]
  },
  {
   "cell_type": "code",
   "execution_count": null,
   "metadata": {
    "collapsed": false
   },
   "outputs": [],
   "source": [
    "exists = os.path.exists(fileName)\n",
    "print exists\n",
    "print os.getcwd()\n",
    "newFileName = os.getcwd() + '\\clone\\\\abc.csv'\n",
    "print newFileName\n",
    "print os.path.exists(newFileName)"
   ]
  },
  {
   "cell_type": "code",
   "execution_count": null,
   "metadata": {
    "collapsed": false
   },
   "outputs": [],
   "source": [
    "dic = {'a':1, 'b':2, 'c':3}\n",
    "print dic.keys()\n",
    "print type(dic.keys())"
   ]
  },
  {
   "cell_type": "code",
   "execution_count": null,
   "metadata": {
    "collapsed": false
   },
   "outputs": [],
   "source": [
    "walkingDic = 'C:\\\\Users'\n",
    "for root, subdirs, files in os.walk(walkingDic):\n",
    "    for sub in subdirs:\n",
    "        if sub == 'stgEarningCSV':\n",
    "            print root"
   ]
  },
  {
   "cell_type": "code",
   "execution_count": null,
   "metadata": {
    "collapsed": true
   },
   "outputs": [],
   "source": [
    "'''\n",
    "MongoDB\n",
    "'''"
   ]
  },
  {
   "cell_type": "code",
   "execution_count": null,
   "metadata": {
    "collapsed": false
   },
   "outputs": [],
   "source": [
    "import pymongo\n",
    "from datetime import datetime\n",
    "from vnpy.trader.app.ctaStrategy.ctaBase import TICK_DB_NAME"
   ]
  },
  {
   "cell_type": "code",
   "execution_count": null,
   "metadata": {
    "collapsed": false
   },
   "outputs": [],
   "source": [
    "code = 'rb1805.SHFE'\n",
    "#code = 'rb1805'\n",
    "startDate = datetime.strptime('2018-01-11 22:59:50', '%Y-%m-%d %H:%M:%S')\n",
    "endDate = datetime.strptime('2018-01-11 22:59:59', '%Y-%m-%d %H:%M:%S')\n",
    "client = pymongo.MongoClient('localhost', 27017)\n",
    "collection = client[TICK_DB_NAME][code]\n",
    "flt = {'datetime':{'$gte':startDate,\n",
    "                   '$lt':endDate}}        \n",
    "data = collection.find(flt).sort('datetime')\n",
    "for dic in data:\n",
    "    print dic['datetime']\n",
    "    print dic['lastPrice']\n",
    "    print '\\n'"
   ]
  },
  {
   "cell_type": "code",
   "execution_count": null,
   "metadata": {
    "collapsed": false
   },
   "outputs": [],
   "source": [
    "code = 'rb1805'\n",
    "startDate = datetime.strptime('2018-01-11 22:59:50', '%Y-%m-%d %H:%M:%S')\n",
    "endDate = datetime.strptime('2018-01-11 22:59:59', '%Y-%m-%d %H:%M:%S')\n",
    "client = pymongo.MongoClient('localhost', 27017)\n",
    "collection = client[TICK_DB_NAME][code]\n",
    "flt = {'datetime':{'$gte':startDate,\n",
    "                   '$lt':endDate}}        \n",
    "data = collection.find(flt).sort('datetime')\n",
    "for dic in data:\n",
    "    print dic['datetime']\n",
    "    print dic['lastPrice']\n",
    "    print '\\n'"
   ]
  },
  {
   "cell_type": "code",
   "execution_count": null,
   "metadata": {
    "collapsed": false
   },
   "outputs": [],
   "source": [
    "from datetime import datetime\n",
    "day = '20111101'\n",
    "time = '90000500000'\n",
    "dayTime = day + ' ' + time\n",
    "dt = datetime.strptime(dayTime, '%Y%m%d %H%M%S%f')\n",
    "print dt"
   ]
  },
  {
   "cell_type": "code",
   "execution_count": 10,
   "metadata": {
    "collapsed": true
   },
   "outputs": [],
   "source": [
    "from time import ctime, sleep\n",
    "import threading"
   ]
  },
  {
   "cell_type": "code",
   "execution_count": 39,
   "metadata": {
    "collapsed": true
   },
   "outputs": [],
   "source": [
    "def action1(arg1, arg2):\n",
    "    #print 'action1', '*', ctime()\n",
    "    sleep(3)\n",
    "    print 'action1', '*', ctime()\n",
    "    \n",
    "def action2(arg1, arg2):\n",
    "    sleep(6)\n",
    "    print 'action2', '*', ctime()"
   ]
  },
  {
   "cell_type": "code",
   "execution_count": 41,
   "metadata": {
    "collapsed": false
   },
   "outputs": [
    {
     "name": "stdout",
     "output_type": "stream",
     "text": [
      "main\n",
      "action1 * Wed Jan 17 11:02:16 2018\n",
      "action2 * Wed Jan 17 11:02:19 2018\n"
     ]
    }
   ],
   "source": [
    "threads = []\n",
    "t1 = threading.Thread(target = action1, args = ('a', 'b'))\n",
    "threads.append(t1)\n",
    "t2 = threading.Thread(target = action2, args = ('x', 'y'))\n",
    "threads.append(t2)\n",
    "\n",
    "for t in threads:\n",
    "    #t.setDaemon(True)\n",
    "    t.start()\n",
    "print 'main'"
   ]
  },
  {
   "cell_type": "code",
   "execution_count": 46,
   "metadata": {
    "collapsed": false
   },
   "outputs": [
    {
     "name": "stdout",
     "output_type": "stream",
     "text": [
      "no\n",
      "0\n"
     ]
    }
   ],
   "source": [
    "a = -0\n",
    "if a:\n",
    "    print 'yes'\n",
    "else:\n",
    "    print 'no'\n",
    "print a"
   ]
  },
  {
   "cell_type": "code",
   "execution_count": 11,
   "metadata": {
    "collapsed": true
   },
   "outputs": [],
   "source": [
    "from datetime import datetime, time, timedelta"
   ]
  },
  {
   "cell_type": "code",
   "execution_count": 14,
   "metadata": {
    "collapsed": false
   },
   "outputs": [
    {
     "name": "stdout",
     "output_type": "stream",
     "text": [
      "09:31:49.402000\n",
      "09:32:49.402000\n",
      "09:33:49.402000\n"
     ]
    }
   ],
   "source": [
    "nowTime = datetime.now().time()\n",
    "startMinute = nowTime.minute\n",
    "startHour = nowTime.hour\n",
    "startMinute += 1\n",
    "if startMinute >= 60:\n",
    "    startMinute = 0\n",
    "    startHour += 1\n",
    "        \n",
    "endMinute = startMinute + 1\n",
    "endHour =  startHour\n",
    "if endMinute >= 60:\n",
    "    endMinute = 0\n",
    "    endHour += 1\n",
    "        \n",
    "startTime = nowTime.replace(hour=startHour, minute=startMinute)\n",
    "endTime = nowTime.replace(hour=endHour, minute=endMinute)\n",
    "\n",
    "print nowTime\n",
    "print startTime\n",
    "print endTime"
   ]
  },
  {
   "cell_type": "code",
   "execution_count": 1,
   "metadata": {
    "collapsed": true
   },
   "outputs": [],
   "source": [
    "from datetime import datetime"
   ]
  },
  {
   "cell_type": "code",
   "execution_count": 8,
   "metadata": {
    "collapsed": false
   },
   "outputs": [
    {
     "name": "stdout",
     "output_type": "stream",
     "text": [
      "2017-05-11 11:30:00.500000\n"
     ]
    }
   ],
   "source": [
    "timeStr = '113000500'\n",
    "the = datetime.strptime(timeStr, '%H%M%S%f')\n",
    "time = the.strftime('%H:%M:%S.%f')\n",
    "\n",
    "dateStr = '20170511'\n",
    "\n",
    "the = datetime.strptime(dateStr + ' ' + time, '%Y%m%d %H:%M:%S.%f')\n",
    "print the"
   ]
  },
  {
   "cell_type": "code",
   "execution_count": null,
   "metadata": {
    "collapsed": true
   },
   "outputs": [],
   "source": []
  }
 ],
 "metadata": {
  "kernelspec": {
   "display_name": "Python 2",
   "language": "python",
   "name": "python2"
  },
  "language_info": {
   "codemirror_mode": {
    "name": "ipython",
    "version": 2
   },
   "file_extension": ".py",
   "mimetype": "text/x-python",
   "name": "python",
   "nbconvert_exporter": "python",
   "pygments_lexer": "ipython2",
   "version": "2.7.13"
  }
 },
 "nbformat": 4,
 "nbformat_minor": 0
}
