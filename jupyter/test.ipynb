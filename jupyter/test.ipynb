{
 "cells": [
  {
   "cell_type": "code",
   "execution_count": null,
   "metadata": {
    "collapsed": false
   },
   "outputs": [],
   "source": [
    "'''\n",
    "talib\n",
    "'''"
   ]
  },
  {
   "cell_type": "code",
   "execution_count": null,
   "metadata": {
    "collapsed": true
   },
   "outputs": [],
   "source": [
    "import talib\n",
    "import numpy as np"
   ]
  },
  {
   "cell_type": "code",
   "execution_count": null,
   "metadata": {
    "collapsed": false
   },
   "outputs": [],
   "source": [
    "high = np.array([1.0, 2.0, 6.0, 1.0, 2.0, 3.0, 4.0, 5.0, 6.0])\n",
    "low = np.array([1.0, 2.0, 5.0, 6.0, 5.0, 4.0, 3.0, 2.0, 1.0])\n",
    "close = np.array([1.0, 2.0, 2.0, 1.0, 1.0, 1.0, 1.0, 1.0, 1.0])\n",
    "a = talib.ATR(high, low, close, 2)\n",
    "a"
   ]
  },
  {
   "cell_type": "code",
   "execution_count": null,
   "metadata": {
    "collapsed": false
   },
   "outputs": [],
   "source": [
    "close = np.array([1000.0, 2.0, 1.0, 6.0, 6.0, 1.0, 6.0, 1.0, 1.0, 1.0, 1.0])\n",
    "result = talib.RSI(close, 2)\n",
    "result"
   ]
  },
  {
   "cell_type": "code",
   "execution_count": null,
   "metadata": {
    "collapsed": true
   },
   "outputs": [],
   "source": [
    "'''\n",
    "tushare\n",
    "'''"
   ]
  },
  {
   "cell_type": "code",
   "execution_count": 24,
   "metadata": {
    "collapsed": false
   },
   "outputs": [],
   "source": [
    "import tushare as ts\n",
    "from datetime import datetime, timedelta"
   ]
  },
  {
   "cell_type": "code",
   "execution_count": 25,
   "metadata": {
    "collapsed": false
   },
   "outputs": [],
   "source": [
    "cons = ts.get_apis()"
   ]
  },
  {
   "cell_type": "code",
   "execution_count": 26,
   "metadata": {
    "collapsed": false
   },
   "outputs": [],
   "source": [
    "df = ts.tick('rb1805', conn = cons, date = '2017-06-01', asset = 'X') \n",
    "#df = ts.tick('IF1801', conn = cons, date = '2017-06-22', asset = 'X') \n",
    "#df = ts.tick('600380', conn = cons, date = '2018-01-02')"
   ]
  },
  {
   "cell_type": "code",
   "execution_count": 29,
   "metadata": {
    "collapsed": false
   },
   "outputs": [
    {
     "data": {
      "text/html": [
       "<div>\n",
       "<table border=\"1\" class=\"dataframe\">\n",
       "  <thead>\n",
       "    <tr style=\"text-align: right;\">\n",
       "      <th></th>\n",
       "      <th>date</th>\n",
       "      <th>price</th>\n",
       "      <th>vol</th>\n",
       "      <th>oi_change</th>\n",
       "      <th>type</th>\n",
       "    </tr>\n",
       "  </thead>\n",
       "  <tbody>\n",
       "    <tr>\n",
       "      <th>0</th>\n",
       "      <td>2017-06-01 20:59:00</td>\n",
       "      <td>平仓</td>\n",
       "      <td>2749.0</td>\n",
       "      <td>42</td>\n",
       "      <td>-12</td>\n",
       "    </tr>\n",
       "    <tr>\n",
       "      <th>1</th>\n",
       "      <td>2017-06-01 21:00:01</td>\n",
       "      <td>空换</td>\n",
       "      <td>2742.0</td>\n",
       "      <td>2</td>\n",
       "      <td>0</td>\n",
       "    </tr>\n",
       "    <tr>\n",
       "      <th>2</th>\n",
       "      <td>2017-06-01 21:00:01</td>\n",
       "      <td>空平</td>\n",
       "      <td>2749.0</td>\n",
       "      <td>8</td>\n",
       "      <td>-2</td>\n",
       "    </tr>\n",
       "    <tr>\n",
       "      <th>3</th>\n",
       "      <td>2017-06-01 21:00:02</td>\n",
       "      <td>空开</td>\n",
       "      <td>2742.0</td>\n",
       "      <td>16</td>\n",
       "      <td>2</td>\n",
       "    </tr>\n",
       "    <tr>\n",
       "      <th>4</th>\n",
       "      <td>2017-06-01 21:00:02</td>\n",
       "      <td>空换</td>\n",
       "      <td>2741.0</td>\n",
       "      <td>6</td>\n",
       "      <td>0</td>\n",
       "    </tr>\n",
       "    <tr>\n",
       "      <th>5</th>\n",
       "      <td>2017-06-01 21:00:04</td>\n",
       "      <td>多换</td>\n",
       "      <td>2746.0</td>\n",
       "      <td>2</td>\n",
       "      <td>0</td>\n",
       "    </tr>\n",
       "    <tr>\n",
       "      <th>6</th>\n",
       "      <td>2017-06-01 21:00:05</td>\n",
       "      <td>空换</td>\n",
       "      <td>2741.0</td>\n",
       "      <td>4</td>\n",
       "      <td>0</td>\n",
       "    </tr>\n",
       "    <tr>\n",
       "      <th>7</th>\n",
       "      <td>2017-06-01 21:00:11</td>\n",
       "      <td>多换</td>\n",
       "      <td>2744.0</td>\n",
       "      <td>4</td>\n",
       "      <td>0</td>\n",
       "    </tr>\n",
       "    <tr>\n",
       "      <th>8</th>\n",
       "      <td>2017-06-01 21:00:12</td>\n",
       "      <td>双开</td>\n",
       "      <td>2742.0</td>\n",
       "      <td>4</td>\n",
       "      <td>4</td>\n",
       "    </tr>\n",
       "    <tr>\n",
       "      <th>9</th>\n",
       "      <td>2017-06-01 21:00:15</td>\n",
       "      <td>空换</td>\n",
       "      <td>2741.0</td>\n",
       "      <td>2</td>\n",
       "      <td>0</td>\n",
       "    </tr>\n",
       "    <tr>\n",
       "      <th>10</th>\n",
       "      <td>2017-06-01 21:00:17</td>\n",
       "      <td>多换</td>\n",
       "      <td>2747.0</td>\n",
       "      <td>2</td>\n",
       "      <td>0</td>\n",
       "    </tr>\n",
       "    <tr>\n",
       "      <th>11</th>\n",
       "      <td>2017-06-01 21:00:17</td>\n",
       "      <td>多换</td>\n",
       "      <td>2747.0</td>\n",
       "      <td>20</td>\n",
       "      <td>0</td>\n",
       "    </tr>\n",
       "    <tr>\n",
       "      <th>12</th>\n",
       "      <td>2017-06-01 21:00:18</td>\n",
       "      <td>空开</td>\n",
       "      <td>2747.0</td>\n",
       "      <td>4</td>\n",
       "      <td>2</td>\n",
       "    </tr>\n",
       "    <tr>\n",
       "      <th>13</th>\n",
       "      <td>2017-06-01 21:00:19</td>\n",
       "      <td>双开</td>\n",
       "      <td>2747.0</td>\n",
       "      <td>8</td>\n",
       "      <td>8</td>\n",
       "    </tr>\n",
       "    <tr>\n",
       "      <th>14</th>\n",
       "      <td>2017-06-01 21:00:20</td>\n",
       "      <td>双开</td>\n",
       "      <td>2747.0</td>\n",
       "      <td>2</td>\n",
       "      <td>2</td>\n",
       "    </tr>\n",
       "    <tr>\n",
       "      <th>15</th>\n",
       "      <td>2017-06-01 21:00:21</td>\n",
       "      <td>双开</td>\n",
       "      <td>2747.0</td>\n",
       "      <td>20</td>\n",
       "      <td>20</td>\n",
       "    </tr>\n",
       "    <tr>\n",
       "      <th>16</th>\n",
       "      <td>2017-06-01 21:00:22</td>\n",
       "      <td>空平</td>\n",
       "      <td>2748.0</td>\n",
       "      <td>4</td>\n",
       "      <td>-2</td>\n",
       "    </tr>\n",
       "    <tr>\n",
       "      <th>17</th>\n",
       "      <td>2017-06-01 21:00:23</td>\n",
       "      <td>双开</td>\n",
       "      <td>2747.0</td>\n",
       "      <td>46</td>\n",
       "      <td>46</td>\n",
       "    </tr>\n",
       "    <tr>\n",
       "      <th>18</th>\n",
       "      <td>2017-06-01 21:00:25</td>\n",
       "      <td>双开</td>\n",
       "      <td>2748.0</td>\n",
       "      <td>8</td>\n",
       "      <td>8</td>\n",
       "    </tr>\n",
       "    <tr>\n",
       "      <th>19</th>\n",
       "      <td>2017-06-01 21:00:28</td>\n",
       "      <td>双开</td>\n",
       "      <td>2742.0</td>\n",
       "      <td>4</td>\n",
       "      <td>4</td>\n",
       "    </tr>\n",
       "    <tr>\n",
       "      <th>20</th>\n",
       "      <td>2017-06-01 21:00:29</td>\n",
       "      <td>双开</td>\n",
       "      <td>2742.0</td>\n",
       "      <td>8</td>\n",
       "      <td>8</td>\n",
       "    </tr>\n",
       "    <tr>\n",
       "      <th>21</th>\n",
       "      <td>2017-06-01 21:00:30</td>\n",
       "      <td>双开</td>\n",
       "      <td>2742.0</td>\n",
       "      <td>8</td>\n",
       "      <td>8</td>\n",
       "    </tr>\n",
       "    <tr>\n",
       "      <th>22</th>\n",
       "      <td>2017-06-01 21:00:32</td>\n",
       "      <td>空开</td>\n",
       "      <td>2741.0</td>\n",
       "      <td>6</td>\n",
       "      <td>4</td>\n",
       "    </tr>\n",
       "    <tr>\n",
       "      <th>23</th>\n",
       "      <td>2017-06-01 21:00:34</td>\n",
       "      <td>空换</td>\n",
       "      <td>2741.0</td>\n",
       "      <td>2</td>\n",
       "      <td>0</td>\n",
       "    </tr>\n",
       "    <tr>\n",
       "      <th>24</th>\n",
       "      <td>2017-06-01 21:00:37</td>\n",
       "      <td>双开</td>\n",
       "      <td>2740.0</td>\n",
       "      <td>4</td>\n",
       "      <td>4</td>\n",
       "    </tr>\n",
       "    <tr>\n",
       "      <th>25</th>\n",
       "      <td>2017-06-01 21:00:39</td>\n",
       "      <td>双平</td>\n",
       "      <td>2741.0</td>\n",
       "      <td>4</td>\n",
       "      <td>-4</td>\n",
       "    </tr>\n",
       "    <tr>\n",
       "      <th>26</th>\n",
       "      <td>2017-06-01 21:00:40</td>\n",
       "      <td>空换</td>\n",
       "      <td>2740.0</td>\n",
       "      <td>2</td>\n",
       "      <td>0</td>\n",
       "    </tr>\n",
       "    <tr>\n",
       "      <th>27</th>\n",
       "      <td>2017-06-01 21:00:41</td>\n",
       "      <td>双平</td>\n",
       "      <td>2743.0</td>\n",
       "      <td>2</td>\n",
       "      <td>-2</td>\n",
       "    </tr>\n",
       "    <tr>\n",
       "      <th>28</th>\n",
       "      <td>2017-06-01 21:00:42</td>\n",
       "      <td>双平</td>\n",
       "      <td>2741.0</td>\n",
       "      <td>2</td>\n",
       "      <td>-2</td>\n",
       "    </tr>\n",
       "    <tr>\n",
       "      <th>29</th>\n",
       "      <td>2017-06-01 21:00:45</td>\n",
       "      <td>多换</td>\n",
       "      <td>2743.0</td>\n",
       "      <td>2</td>\n",
       "      <td>0</td>\n",
       "    </tr>\n",
       "    <tr>\n",
       "      <th>...</th>\n",
       "      <td>...</td>\n",
       "      <td>...</td>\n",
       "      <td>...</td>\n",
       "      <td>...</td>\n",
       "      <td>...</td>\n",
       "    </tr>\n",
       "    <tr>\n",
       "      <th>3659</th>\n",
       "      <td>2017-06-01 14:56:37</td>\n",
       "      <td>多换</td>\n",
       "      <td>2738.0</td>\n",
       "      <td>2</td>\n",
       "      <td>0</td>\n",
       "    </tr>\n",
       "    <tr>\n",
       "      <th>3660</th>\n",
       "      <td>2017-06-01 14:56:40</td>\n",
       "      <td>双开</td>\n",
       "      <td>2738.0</td>\n",
       "      <td>6</td>\n",
       "      <td>6</td>\n",
       "    </tr>\n",
       "    <tr>\n",
       "      <th>3661</th>\n",
       "      <td>2017-06-01 14:56:48</td>\n",
       "      <td>双开</td>\n",
       "      <td>2737.0</td>\n",
       "      <td>2</td>\n",
       "      <td>2</td>\n",
       "    </tr>\n",
       "    <tr>\n",
       "      <th>3662</th>\n",
       "      <td>2017-06-01 14:56:49</td>\n",
       "      <td>双开</td>\n",
       "      <td>2737.0</td>\n",
       "      <td>4</td>\n",
       "      <td>4</td>\n",
       "    </tr>\n",
       "    <tr>\n",
       "      <th>3663</th>\n",
       "      <td>2017-06-01 14:56:59</td>\n",
       "      <td>多换</td>\n",
       "      <td>2738.0</td>\n",
       "      <td>10</td>\n",
       "      <td>0</td>\n",
       "    </tr>\n",
       "    <tr>\n",
       "      <th>3664</th>\n",
       "      <td>2017-06-01 14:57:11</td>\n",
       "      <td>空换</td>\n",
       "      <td>2736.0</td>\n",
       "      <td>2</td>\n",
       "      <td>0</td>\n",
       "    </tr>\n",
       "    <tr>\n",
       "      <th>3665</th>\n",
       "      <td>2017-06-01 14:57:20</td>\n",
       "      <td>多换</td>\n",
       "      <td>2738.0</td>\n",
       "      <td>2</td>\n",
       "      <td>0</td>\n",
       "    </tr>\n",
       "    <tr>\n",
       "      <th>3666</th>\n",
       "      <td>2017-06-01 14:57:29</td>\n",
       "      <td>双开</td>\n",
       "      <td>2738.0</td>\n",
       "      <td>2</td>\n",
       "      <td>2</td>\n",
       "    </tr>\n",
       "    <tr>\n",
       "      <th>3667</th>\n",
       "      <td>2017-06-01 14:57:44</td>\n",
       "      <td>多开</td>\n",
       "      <td>2738.0</td>\n",
       "      <td>4</td>\n",
       "      <td>2</td>\n",
       "    </tr>\n",
       "    <tr>\n",
       "      <th>3668</th>\n",
       "      <td>2017-06-01 14:57:49</td>\n",
       "      <td>空平</td>\n",
       "      <td>2740.0</td>\n",
       "      <td>6</td>\n",
       "      <td>-2</td>\n",
       "    </tr>\n",
       "    <tr>\n",
       "      <th>3669</th>\n",
       "      <td>2017-06-01 14:57:49</td>\n",
       "      <td>空换</td>\n",
       "      <td>2740.0</td>\n",
       "      <td>10</td>\n",
       "      <td>0</td>\n",
       "    </tr>\n",
       "    <tr>\n",
       "      <th>3670</th>\n",
       "      <td>2017-06-01 14:57:53</td>\n",
       "      <td>多换</td>\n",
       "      <td>2741.0</td>\n",
       "      <td>8</td>\n",
       "      <td>0</td>\n",
       "    </tr>\n",
       "    <tr>\n",
       "      <th>3671</th>\n",
       "      <td>2017-06-01 14:57:54</td>\n",
       "      <td>空开</td>\n",
       "      <td>2741.0</td>\n",
       "      <td>42</td>\n",
       "      <td>32</td>\n",
       "    </tr>\n",
       "    <tr>\n",
       "      <th>3672</th>\n",
       "      <td>2017-06-01 14:58:00</td>\n",
       "      <td>双平</td>\n",
       "      <td>2739.0</td>\n",
       "      <td>4</td>\n",
       "      <td>-4</td>\n",
       "    </tr>\n",
       "    <tr>\n",
       "      <th>3673</th>\n",
       "      <td>2017-06-01 14:58:03</td>\n",
       "      <td>空换</td>\n",
       "      <td>2739.0</td>\n",
       "      <td>2</td>\n",
       "      <td>0</td>\n",
       "    </tr>\n",
       "    <tr>\n",
       "      <th>3674</th>\n",
       "      <td>2017-06-01 14:58:04</td>\n",
       "      <td>空换</td>\n",
       "      <td>2740.0</td>\n",
       "      <td>2</td>\n",
       "      <td>0</td>\n",
       "    </tr>\n",
       "    <tr>\n",
       "      <th>3675</th>\n",
       "      <td>2017-06-01 14:58:13</td>\n",
       "      <td>双开</td>\n",
       "      <td>2740.0</td>\n",
       "      <td>2</td>\n",
       "      <td>2</td>\n",
       "    </tr>\n",
       "    <tr>\n",
       "      <th>3676</th>\n",
       "      <td>2017-06-01 14:58:23</td>\n",
       "      <td>空换</td>\n",
       "      <td>2739.0</td>\n",
       "      <td>4</td>\n",
       "      <td>0</td>\n",
       "    </tr>\n",
       "    <tr>\n",
       "      <th>3677</th>\n",
       "      <td>2017-06-01 14:58:29</td>\n",
       "      <td>空换</td>\n",
       "      <td>2737.0</td>\n",
       "      <td>2</td>\n",
       "      <td>0</td>\n",
       "    </tr>\n",
       "    <tr>\n",
       "      <th>3678</th>\n",
       "      <td>2017-06-01 14:58:34</td>\n",
       "      <td>空换</td>\n",
       "      <td>2737.0</td>\n",
       "      <td>2</td>\n",
       "      <td>0</td>\n",
       "    </tr>\n",
       "    <tr>\n",
       "      <th>3679</th>\n",
       "      <td>2017-06-01 14:58:34</td>\n",
       "      <td>空换</td>\n",
       "      <td>2736.0</td>\n",
       "      <td>2</td>\n",
       "      <td>0</td>\n",
       "    </tr>\n",
       "    <tr>\n",
       "      <th>3680</th>\n",
       "      <td>2017-06-01 14:58:49</td>\n",
       "      <td>双平</td>\n",
       "      <td>2741.0</td>\n",
       "      <td>4</td>\n",
       "      <td>-4</td>\n",
       "    </tr>\n",
       "    <tr>\n",
       "      <th>3681</th>\n",
       "      <td>2017-06-01 14:58:55</td>\n",
       "      <td>多换</td>\n",
       "      <td>2741.0</td>\n",
       "      <td>2</td>\n",
       "      <td>0</td>\n",
       "    </tr>\n",
       "    <tr>\n",
       "      <th>3682</th>\n",
       "      <td>2017-06-01 14:58:59</td>\n",
       "      <td>空平</td>\n",
       "      <td>2742.0</td>\n",
       "      <td>14</td>\n",
       "      <td>-8</td>\n",
       "    </tr>\n",
       "    <tr>\n",
       "      <th>3683</th>\n",
       "      <td>2017-06-01 14:59:02</td>\n",
       "      <td>空换</td>\n",
       "      <td>2737.0</td>\n",
       "      <td>2</td>\n",
       "      <td>0</td>\n",
       "    </tr>\n",
       "    <tr>\n",
       "      <th>3684</th>\n",
       "      <td>2017-06-01 14:59:11</td>\n",
       "      <td>双平</td>\n",
       "      <td>2742.0</td>\n",
       "      <td>4</td>\n",
       "      <td>-4</td>\n",
       "    </tr>\n",
       "    <tr>\n",
       "      <th>3685</th>\n",
       "      <td>2017-06-01 14:59:12</td>\n",
       "      <td>多换</td>\n",
       "      <td>2742.0</td>\n",
       "      <td>2</td>\n",
       "      <td>0</td>\n",
       "    </tr>\n",
       "    <tr>\n",
       "      <th>3686</th>\n",
       "      <td>2017-06-01 14:59:21</td>\n",
       "      <td>双开</td>\n",
       "      <td>2742.0</td>\n",
       "      <td>10</td>\n",
       "      <td>10</td>\n",
       "    </tr>\n",
       "    <tr>\n",
       "      <th>3687</th>\n",
       "      <td>2017-06-01 14:59:37</td>\n",
       "      <td>多平</td>\n",
       "      <td>2737.0</td>\n",
       "      <td>6</td>\n",
       "      <td>-2</td>\n",
       "    </tr>\n",
       "    <tr>\n",
       "      <th>3688</th>\n",
       "      <td>2017-06-01 14:59:49</td>\n",
       "      <td>空平</td>\n",
       "      <td>2742.0</td>\n",
       "      <td>4</td>\n",
       "      <td>-2</td>\n",
       "    </tr>\n",
       "  </tbody>\n",
       "</table>\n",
       "<p>3689 rows × 5 columns</p>\n",
       "</div>"
      ],
      "text/plain": [
       "                    date price     vol  oi_change  type\n",
       "0    2017-06-01 20:59:00    平仓  2749.0         42   -12\n",
       "1    2017-06-01 21:00:01    空换  2742.0          2     0\n",
       "2    2017-06-01 21:00:01    空平  2749.0          8    -2\n",
       "3    2017-06-01 21:00:02    空开  2742.0         16     2\n",
       "4    2017-06-01 21:00:02    空换  2741.0          6     0\n",
       "5    2017-06-01 21:00:04    多换  2746.0          2     0\n",
       "6    2017-06-01 21:00:05    空换  2741.0          4     0\n",
       "7    2017-06-01 21:00:11    多换  2744.0          4     0\n",
       "8    2017-06-01 21:00:12    双开  2742.0          4     4\n",
       "9    2017-06-01 21:00:15    空换  2741.0          2     0\n",
       "10   2017-06-01 21:00:17    多换  2747.0          2     0\n",
       "11   2017-06-01 21:00:17    多换  2747.0         20     0\n",
       "12   2017-06-01 21:00:18    空开  2747.0          4     2\n",
       "13   2017-06-01 21:00:19    双开  2747.0          8     8\n",
       "14   2017-06-01 21:00:20    双开  2747.0          2     2\n",
       "15   2017-06-01 21:00:21    双开  2747.0         20    20\n",
       "16   2017-06-01 21:00:22    空平  2748.0          4    -2\n",
       "17   2017-06-01 21:00:23    双开  2747.0         46    46\n",
       "18   2017-06-01 21:00:25    双开  2748.0          8     8\n",
       "19   2017-06-01 21:00:28    双开  2742.0          4     4\n",
       "20   2017-06-01 21:00:29    双开  2742.0          8     8\n",
       "21   2017-06-01 21:00:30    双开  2742.0          8     8\n",
       "22   2017-06-01 21:00:32    空开  2741.0          6     4\n",
       "23   2017-06-01 21:00:34    空换  2741.0          2     0\n",
       "24   2017-06-01 21:00:37    双开  2740.0          4     4\n",
       "25   2017-06-01 21:00:39    双平  2741.0          4    -4\n",
       "26   2017-06-01 21:00:40    空换  2740.0          2     0\n",
       "27   2017-06-01 21:00:41    双平  2743.0          2    -2\n",
       "28   2017-06-01 21:00:42    双平  2741.0          2    -2\n",
       "29   2017-06-01 21:00:45    多换  2743.0          2     0\n",
       "...                  ...   ...     ...        ...   ...\n",
       "3659 2017-06-01 14:56:37    多换  2738.0          2     0\n",
       "3660 2017-06-01 14:56:40    双开  2738.0          6     6\n",
       "3661 2017-06-01 14:56:48    双开  2737.0          2     2\n",
       "3662 2017-06-01 14:56:49    双开  2737.0          4     4\n",
       "3663 2017-06-01 14:56:59    多换  2738.0         10     0\n",
       "3664 2017-06-01 14:57:11    空换  2736.0          2     0\n",
       "3665 2017-06-01 14:57:20    多换  2738.0          2     0\n",
       "3666 2017-06-01 14:57:29    双开  2738.0          2     2\n",
       "3667 2017-06-01 14:57:44    多开  2738.0          4     2\n",
       "3668 2017-06-01 14:57:49    空平  2740.0          6    -2\n",
       "3669 2017-06-01 14:57:49    空换  2740.0         10     0\n",
       "3670 2017-06-01 14:57:53    多换  2741.0          8     0\n",
       "3671 2017-06-01 14:57:54    空开  2741.0         42    32\n",
       "3672 2017-06-01 14:58:00    双平  2739.0          4    -4\n",
       "3673 2017-06-01 14:58:03    空换  2739.0          2     0\n",
       "3674 2017-06-01 14:58:04    空换  2740.0          2     0\n",
       "3675 2017-06-01 14:58:13    双开  2740.0          2     2\n",
       "3676 2017-06-01 14:58:23    空换  2739.0          4     0\n",
       "3677 2017-06-01 14:58:29    空换  2737.0          2     0\n",
       "3678 2017-06-01 14:58:34    空换  2737.0          2     0\n",
       "3679 2017-06-01 14:58:34    空换  2736.0          2     0\n",
       "3680 2017-06-01 14:58:49    双平  2741.0          4    -4\n",
       "3681 2017-06-01 14:58:55    多换  2741.0          2     0\n",
       "3682 2017-06-01 14:58:59    空平  2742.0         14    -8\n",
       "3683 2017-06-01 14:59:02    空换  2737.0          2     0\n",
       "3684 2017-06-01 14:59:11    双平  2742.0          4    -4\n",
       "3685 2017-06-01 14:59:12    多换  2742.0          2     0\n",
       "3686 2017-06-01 14:59:21    双开  2742.0         10    10\n",
       "3687 2017-06-01 14:59:37    多平  2737.0          6    -2\n",
       "3688 2017-06-01 14:59:49    空平  2742.0          4    -2\n",
       "\n",
       "[3689 rows x 5 columns]"
      ]
     },
     "execution_count": 29,
     "metadata": {},
     "output_type": "execute_result"
    }
   ],
   "source": [
    "df"
   ]
  },
  {
   "cell_type": "code",
   "execution_count": null,
   "metadata": {
    "collapsed": false,
    "scrolled": true
   },
   "outputs": [],
   "source": [
    "for i, row in df.iterrows():\n",
    "    print row['date'], '*'*2, row['vol']"
   ]
  },
  {
   "cell_type": "code",
   "execution_count": null,
   "metadata": {
    "collapsed": false
   },
   "outputs": [],
   "source": [
    "df = ts.bar('rb1805', conn = cons, freq = 'D', start_date = '2017-01-01', end_date = '', asset = 'X')"
   ]
  },
  {
   "cell_type": "code",
   "execution_count": null,
   "metadata": {
    "collapsed": false
   },
   "outputs": [],
   "source": [
    "df.sort_index(inplace = True)\n",
    "df"
   ]
  },
  {
   "cell_type": "code",
   "execution_count": null,
   "metadata": {
    "collapsed": false
   },
   "outputs": [],
   "source": [
    "a = df.ix[1]\n",
    "the = a['date']\n",
    "dt = the.to_datetime()\n",
    "print dt\n",
    "if dt.time() >= datetime.time(21, 0):\n",
    "    dt = dt - timedelta(1)\n",
    "\n",
    "print dt"
   ]
  },
  {
   "cell_type": "code",
   "execution_count": null,
   "metadata": {
    "collapsed": true
   },
   "outputs": [],
   "source": []
  },
  {
   "cell_type": "code",
   "execution_count": null,
   "metadata": {
    "collapsed": false
   },
   "outputs": [],
   "source": [
    "for index, row in df.iterrows():\n",
    "    print row['date'], ' '*2, row['vol']"
   ]
  },
  {
   "cell_type": "code",
   "execution_count": null,
   "metadata": {
    "collapsed": false
   },
   "outputs": [],
   "source": [
    "from datetime import datetime"
   ]
  },
  {
   "cell_type": "code",
   "execution_count": null,
   "metadata": {
    "collapsed": false
   },
   "outputs": [],
   "source": [
    "from collections import namedtuple\n",
    "abc = namedtuple('xyz', ['x', 'y'])\n",
    "the = abc(6,2)\n",
    "the.x"
   ]
  },
  {
   "cell_type": "code",
   "execution_count": null,
   "metadata": {
    "collapsed": false
   },
   "outputs": [],
   "source": [
    "import sys\n",
    "#sys.getdefaultencoding()\n",
    "#reload(sys)\n",
    "#sys.setdefaultencoding('UTF-8')\n",
    "a = sys.getdefaultencoding()\n",
    "type(a)"
   ]
  },
  {
   "cell_type": "code",
   "execution_count": null,
   "metadata": {
    "collapsed": false
   },
   "outputs": [],
   "source": [
    "if isinstance('a', str):\n",
    "    print 1\n",
    "else:\n",
    "    print 2"
   ]
  },
  {
   "cell_type": "code",
   "execution_count": null,
   "metadata": {
    "collapsed": false
   },
   "outputs": [],
   "source": [
    "import pymongo "
   ]
  },
  {
   "cell_type": "code",
   "execution_count": null,
   "metadata": {
    "collapsed": false
   },
   "outputs": [],
   "source": [
    "c = pymongo.MongoClient('localhot', 270)\n",
    "if c:\n",
    "    print c\n",
    "    \n",
    "else:\n",
    "    print 'no'"
   ]
  },
  {
   "cell_type": "code",
   "execution_count": null,
   "metadata": {
    "collapsed": true
   },
   "outputs": [],
   "source": [
    "'''\n",
    "datetime\n",
    "'''"
   ]
  },
  {
   "cell_type": "code",
   "execution_count": null,
   "metadata": {
    "collapsed": false
   },
   "outputs": [],
   "source": [
    "from datetime import datetime, time"
   ]
  },
  {
   "cell_type": "code",
   "execution_count": null,
   "metadata": {
    "collapsed": false
   },
   "outputs": [],
   "source": [
    "a = datetime.now().time()\n",
    "print type(a)"
   ]
  },
  {
   "cell_type": "code",
   "execution_count": null,
   "metadata": {
    "collapsed": false
   },
   "outputs": [],
   "source": [
    "a = False\n",
    "if not a:\n",
    "    print 'yes'"
   ]
  },
  {
   "cell_type": "code",
   "execution_count": 28,
   "metadata": {
    "collapsed": true
   },
   "outputs": [],
   "source": [
    "'''\n",
    "json\n",
    "'''\n",
    "import json"
   ]
  },
  {
   "cell_type": "code",
   "execution_count": 29,
   "metadata": {
    "collapsed": false
   },
   "outputs": [],
   "source": [
    "dic = {'a':1,\n",
    "       'b':2,\n",
    "       'c':3}\n",
    "arr = [dic]\n",
    "dicJson = json.dumps(arr)\n",
    "filePath = 'clone\\\\xyz.json'\n",
    "f = open(filePath, 'w')\n",
    "f.write(dicJson)\n",
    "f.close()"
   ]
  },
  {
   "cell_type": "code",
   "execution_count": 30,
   "metadata": {
    "collapsed": false
   },
   "outputs": [
    {
     "name": "stdout",
     "output_type": "stream",
     "text": [
      "1\n"
     ]
    }
   ],
   "source": [
    "f1 = open(filePath)\n",
    "the = json.load(f1)\n",
    "for dic in the:\n",
    "    print dic['a']"
   ]
  },
  {
   "cell_type": "code",
   "execution_count": 24,
   "metadata": {
    "collapsed": false
   },
   "outputs": [],
   "source": [
    "import os"
   ]
  },
  {
   "cell_type": "code",
   "execution_count": 25,
   "metadata": {
    "collapsed": false
   },
   "outputs": [
    {
     "data": {
      "text/plain": [
       "'C:\\\\Users\\\\Rachel\\\\Quant\\\\python-for-investment\\\\jupyter'"
      ]
     },
     "execution_count": 25,
     "metadata": {},
     "output_type": "execute_result"
    }
   ],
   "source": [
    "currentFolder = os.getcwd()\n",
    "print currentFolder\n",
    "newPath = os.path.join(currentFolder, '')"
   ]
  },
  {
   "cell_type": "code",
   "execution_count": 31,
   "metadata": {
    "collapsed": false
   },
   "outputs": [
    {
     "data": {
      "text/plain": [
       "'Y-m-d'"
      ]
     },
     "execution_count": 31,
     "metadata": {},
     "output_type": "execute_result"
    }
   ],
   "source": [
    "d = datetime.now().strftime('Y-m-d')\n",
    "d"
   ]
  },
  {
   "cell_type": "code",
   "execution_count": null,
   "metadata": {
    "collapsed": true
   },
   "outputs": [],
   "source": [
    "'''\n",
    "pandas\n",
    "'''"
   ]
  },
  {
   "cell_type": "code",
   "execution_count": 49,
   "metadata": {
    "collapsed": false
   },
   "outputs": [],
   "source": [
    "import pandas as pd\n",
    "from pandas import DataFrame\n",
    "from pandas import Series"
   ]
  },
  {
   "cell_type": "code",
   "execution_count": 64,
   "metadata": {
    "collapsed": false
   },
   "outputs": [
    {
     "data": {
      "text/html": [
       "<div>\n",
       "<table border=\"1\" class=\"dataframe\">\n",
       "  <thead>\n",
       "    <tr style=\"text-align: right;\">\n",
       "      <th></th>\n",
       "      <th>名称</th>\n",
       "      <th>价格</th>\n",
       "      <th>开盘价</th>\n",
       "    </tr>\n",
       "  </thead>\n",
       "  <tbody>\n",
       "    <tr>\n",
       "      <th>2017-01-01</th>\n",
       "      <td>1.0</td>\n",
       "      <td>2.0</td>\n",
       "      <td>3.0</td>\n",
       "    </tr>\n",
       "    <tr>\n",
       "      <th>2017-01-02</th>\n",
       "      <td>1.0</td>\n",
       "      <td>2.0</td>\n",
       "      <td>3.0</td>\n",
       "    </tr>\n",
       "    <tr>\n",
       "      <th>2017-01-03</th>\n",
       "      <td>1.0</td>\n",
       "      <td>2.0</td>\n",
       "      <td>3.0</td>\n",
       "    </tr>\n",
       "  </tbody>\n",
       "</table>\n",
       "</div>"
      ],
      "text/plain": [
       "             名称   价格  开盘价\n",
       "2017-01-01  1.0  2.0  3.0\n",
       "2017-01-02  1.0  2.0  3.0\n",
       "2017-01-03  1.0  2.0  3.0"
      ]
     },
     "execution_count": 64,
     "metadata": {},
     "output_type": "execute_result"
    }
   ],
   "source": [
    "b = DataFrame()\n",
    "b['名称'] = []\n",
    "b['价格'] = []\n",
    "b['开盘价'] = []\n",
    "b.ix['2017-01-01'] = [1,2,3]\n",
    "b.ix['2017-01-02'] = [1,2,3]\n",
    "b.ix['2017-01-03'] = [1,2,3]\n",
    "b"
   ]
  },
  {
   "cell_type": "code",
   "execution_count": 65,
   "metadata": {
    "collapsed": true
   },
   "outputs": [],
   "source": [
    "fileName = 'abc.csv'"
   ]
  },
  {
   "cell_type": "code",
   "execution_count": 66,
   "metadata": {
    "collapsed": true
   },
   "outputs": [],
   "source": [
    "b.to_csv(fileName, encoding = 'utf-8')"
   ]
  },
  {
   "cell_type": "code",
   "execution_count": 67,
   "metadata": {
    "collapsed": false
   },
   "outputs": [
    {
     "data": {
      "text/html": [
       "<div>\n",
       "<table border=\"1\" class=\"dataframe\">\n",
       "  <thead>\n",
       "    <tr style=\"text-align: right;\">\n",
       "      <th></th>\n",
       "      <th>Unnamed: 0</th>\n",
       "      <th>名称</th>\n",
       "      <th>价格</th>\n",
       "      <th>开盘价</th>\n",
       "    </tr>\n",
       "  </thead>\n",
       "  <tbody>\n",
       "    <tr>\n",
       "      <th>0</th>\n",
       "      <td>2017-01-01</td>\n",
       "      <td>1.0</td>\n",
       "      <td>2.0</td>\n",
       "      <td>3.0</td>\n",
       "    </tr>\n",
       "    <tr>\n",
       "      <th>1</th>\n",
       "      <td>2017-01-02</td>\n",
       "      <td>1.0</td>\n",
       "      <td>2.0</td>\n",
       "      <td>3.0</td>\n",
       "    </tr>\n",
       "    <tr>\n",
       "      <th>2</th>\n",
       "      <td>2017-01-03</td>\n",
       "      <td>1.0</td>\n",
       "      <td>2.0</td>\n",
       "      <td>3.0</td>\n",
       "    </tr>\n",
       "  </tbody>\n",
       "</table>\n",
       "</div>"
      ],
      "text/plain": [
       "   Unnamed: 0   名称   价格  开盘价\n",
       "0  2017-01-01  1.0  2.0  3.0\n",
       "1  2017-01-02  1.0  2.0  3.0\n",
       "2  2017-01-03  1.0  2.0  3.0"
      ]
     },
     "execution_count": 67,
     "metadata": {},
     "output_type": "execute_result"
    }
   ],
   "source": [
    "c = pd.read_csv(fileName, encoding = 'utf-8')\n",
    "c"
   ]
  },
  {
   "cell_type": "code",
   "execution_count": null,
   "metadata": {
    "collapsed": true
   },
   "outputs": [],
   "source": [
    "'''\n",
    "csv\n",
    "'''"
   ]
  },
  {
   "cell_type": "code",
   "execution_count": 69,
   "metadata": {
    "collapsed": true
   },
   "outputs": [],
   "source": [
    "import csv"
   ]
  },
  {
   "cell_type": "code",
   "execution_count": 78,
   "metadata": {
    "collapsed": true
   },
   "outputs": [],
   "source": [
    "fileName = 'clone\\\\abc.csv'"
   ]
  },
  {
   "cell_type": "code",
   "execution_count": 79,
   "metadata": {
    "collapsed": false
   },
   "outputs": [],
   "source": [
    "with open(fileName, 'w') as f:\n",
    "    fieldnames = ['first_name', 'last_name']\n",
    "    writer = csv.DictWriter(f, fieldnames=fieldnames)\n",
    "\n",
    "    writer.writeheader()\n",
    "    writer.writerow({'first_name': 'Baked', 'last_name': 'Beans'})\n",
    "    writer.writerow({'first_name': 'Lovely', 'last_name': 'Spam'})\n",
    "    writer.writerow({'first_name': 'Wonderful', 'last_name': 'Spam'})"
   ]
  },
  {
   "cell_type": "code",
   "execution_count": 77,
   "metadata": {
    "collapsed": false
   },
   "outputs": [
    {
     "name": "stdout",
     "output_type": "stream",
     "text": [
      "{'first_name': 'Baked', 'last_name': 'Beans'}\n",
      "\n",
      "\n",
      "{'first_name': 'Lovely', 'last_name': 'Spam'}\n",
      "\n",
      "\n",
      "{'first_name': 'Wonderful', 'last_name': 'Spam'}\n",
      "\n",
      "\n"
     ]
    }
   ],
   "source": [
    "# 读\n",
    "with open(fileName) as f:\n",
    "    reader = csv.DictReader(f)\n",
    "    for row in reader:\n",
    "        print row\n",
    "        print '\\n'"
   ]
  },
  {
   "cell_type": "code",
   "execution_count": null,
   "metadata": {
    "collapsed": true
   },
   "outputs": [],
   "source": []
  }
 ],
 "metadata": {
  "kernelspec": {
   "display_name": "Python 2",
   "language": "python",
   "name": "python2"
  },
  "language_info": {
   "codemirror_mode": {
    "name": "ipython",
    "version": 2
   },
   "file_extension": ".py",
   "mimetype": "text/x-python",
   "name": "python",
   "nbconvert_exporter": "python",
   "pygments_lexer": "ipython2",
   "version": "2.7.13"
  }
 },
 "nbformat": 4,
 "nbformat_minor": 0
}
